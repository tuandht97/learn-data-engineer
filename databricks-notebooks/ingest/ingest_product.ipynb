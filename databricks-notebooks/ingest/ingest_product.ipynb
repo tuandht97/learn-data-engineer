{
 "cells": [
  {
   "cell_type": "code",
   "execution_count": null,
   "metadata": {
    "application/vnd.databricks.v1+cell": {
     "cellMetadata": {
      "byteLimit": 2048000,
      "rowLimit": 10000
     },
     "inputWidgets": {},
     "nuid": "1b8713ac-71ee-4392-bcbb-f446c9c1c80a",
     "showTitle": false,
     "title": ""
    }
   },
   "outputs": [],
   "source": [
    "from pyspark.sql.types import *\n",
    "from pyspark.sql.functions import *\n",
    "\n",
    "productSchema = StructType([\n",
    "     StructField(\"ProductID\", IntegerType()),\n",
    "     StructField(\"ProductName\", StringType()),\n",
    "     StructField(\"IntroductionDate\", DateType()),\n",
    "     StructField(\"ActualAbandonmentDate\", DateType()),\n",
    "     StructField(\"ProductGrossWeight\", FloatType()),\n",
    "     StructField(\"ItemSku\", StringType()),\n",
    "     StructField(\"ListPrice\", FloatType())\n",
    "])\n",
    "product_raw = spark.read.format(\"csv\").option(\"header\", \"true\").load(\"/mnt/raw-data/product_raw\", schema=productSchema)\n",
    "display(product_raw)"
   ]
  },
  {
   "cell_type": "code",
   "execution_count": null,
   "metadata": {
    "application/vnd.databricks.v1+cell": {
     "cellMetadata": {
      "byteLimit": 2048000,
      "rowLimit": 10000
     },
     "inputWidgets": {},
     "nuid": "b33995ff-2aca-4704-8b10-535983195202",
     "showTitle": false,
     "title": ""
    }
   },
   "outputs": [],
   "source": [
    "# Transform data\n",
    "product_raw.createOrReplaceTempView(\"product_raw\")\n",
    "dim_product = spark.sql(\"\"\"SELECT ProductID AS id,\n",
    "                            ProductName AS name,\n",
    "                            IntroductionDate AS introduction_date,\n",
    "                            ListPrice AS price,\n",
    "                            ItemSku AS item_sku\n",
    "                            FROM product_raw\"\"\")\n",
    "display(dim_product)"
   ]
  },
  {
   "cell_type": "code",
   "execution_count": null,
   "metadata": {
    "application/vnd.databricks.v1+cell": {
     "cellMetadata": {
      "byteLimit": 2048000,
      "rowLimit": 10000
     },
     "inputWidgets": {},
     "nuid": "051b420a-96e1-4065-b754-b0e486633134",
     "showTitle": false,
     "title": ""
    }
   },
   "outputs": [],
   "source": [
    "# dim_product.write.format(\"com.databricks.spark.csv\").option(\"header\",\"true\").option(\"delimiter\", \",\").mode(\"overwrite\").save(\"/mnt/transformed-data/dim_product\")\n",
    "dim_product.write.format(\"delta\").option(\"overwriteSchema\", \"true\").mode(\"overwrite\").save(\"/mnt/transformed-data/dim_product\")"
   ]
  }
 ],
 "metadata": {
  "application/vnd.databricks.v1+notebook": {
   "dashboards": [],
   "language": "python",
   "notebookMetadata": {
    "mostRecentlyExecutedCommandWithImplicitDF": {
     "commandId": -1,
     "dataframes": [
      "_sqldf"
     ]
    },
    "pythonIndentUnit": 4
   },
   "notebookName": "Auto",
   "widgets": {}
  },
  "language_info": {
   "name": "python"
  }
 },
 "nbformat": 4,
 "nbformat_minor": 0
}
