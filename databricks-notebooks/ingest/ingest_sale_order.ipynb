{
 "cells": [
  {
   "cell_type": "code",
   "execution_count": null,
   "metadata": {
    "application/vnd.databricks.v1+cell": {
     "cellMetadata": {
      "byteLimit": 2048000,
      "rowLimit": 10000
     },
     "inputWidgets": {},
     "nuid": "1b8713ac-71ee-4392-bcbb-f446c9c1c80a",
     "showTitle": false,
     "title": ""
    }
   },
   "outputs": [],
   "source": [
    "from pyspark.sql.types import *\n",
    "from pyspark.sql.functions import *\n",
    "\n",
    "salesOrderSchema = StructType([\n",
    "     StructField(\"SalesOrderID\", IntegerType()),\n",
    "     StructField(\"OrderDate\", DateType()),\n",
    "     StructField(\"LineItemID\", IntegerType()),\n",
    "     StructField(\"CustomerID\", IntegerType()),\n",
    "     StructField(\"ProductID\", IntegerType()),\n",
    "     StructField(\"Quantity\", IntegerType())\n",
    "])\n",
    "sales_order_raw = spark.read.format(\"csv\").option(\"header\", \"true\").load(\"/mnt/dataEngineering/salesorder.csv\", schema=salesOrderSchema)\n",
    "display(sales_order_raw)"
   ]
  },
  {
   "cell_type": "code",
   "execution_count": null,
   "metadata": {
    "application/vnd.databricks.v1+cell": {
     "cellMetadata": {
      "byteLimit": 2048000,
      "rowLimit": 10000
     },
     "inputWidgets": {},
     "nuid": "b33995ff-2aca-4704-8b10-535983195202",
     "showTitle": false,
     "title": ""
    }
   },
   "outputs": [],
   "source": [
    "# Transform data\n",
    "transformed_sales_order = sales_order_raw.orderBy(\"Quantity\")\n",
    "display(transformed_sales_order)"
   ]
  },
  {
   "cell_type": "code",
   "execution_count": null,
   "metadata": {
    "application/vnd.databricks.v1+cell": {
     "cellMetadata": {
      "byteLimit": 2048000,
      "rowLimit": 10000
     },
     "inputWidgets": {},
     "nuid": "051b420a-96e1-4065-b754-b0e486633134",
     "showTitle": false,
     "title": ""
    }
   },
   "outputs": [],
   "source": [
    "table_name = \"SalesOrder\"\n",
    "transformed_sales_order.write.format(\"delta\").mode(\"overwrite\").saveAsTable(f\"TransformedData.{table_name}\")\n",
    "spark.sql(f\"DESCRIBE EXTENDED TransformedData.{table_name}\").show(truncate=False)"
   ]
  }
 ],
 "metadata": {
  "application/vnd.databricks.v1+notebook": {
   "dashboards": [],
   "language": "python",
   "notebookMetadata": {
    "mostRecentlyExecutedCommandWithImplicitDF": {
     "commandId": -1,
     "dataframes": [
      "_sqldf"
     ]
    },
    "pythonIndentUnit": 4
   },
   "notebookName": "Auto",
   "widgets": {}
  },
  "language_info": {
   "name": "python"
  }
 },
 "nbformat": 4,
 "nbformat_minor": 0
}
