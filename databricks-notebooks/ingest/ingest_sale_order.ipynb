{
 "cells": [
  {
   "cell_type": "code",
   "execution_count": null,
   "metadata": {
    "application/vnd.databricks.v1+cell": {
     "cellMetadata": {
      "byteLimit": 2048000,
      "rowLimit": 10000
     },
     "inputWidgets": {},
     "nuid": "1b8713ac-71ee-4392-bcbb-f446c9c1c80a",
     "showTitle": false,
     "title": ""
    }
   },
   "outputs": [],
   "source": [
    "from pyspark.sql.types import *\n",
    "from pyspark.sql.functions import *\n",
    "\n",
    "salesOrderSchema = StructType([\n",
    "     StructField(\"SalesOrderID\", IntegerType()),\n",
    "     StructField(\"OrderDate\", StringType()),\n",
    "     StructField(\"LineItemID\", IntegerType()),\n",
    "     StructField(\"CustomerID\", IntegerType()),\n",
    "     StructField(\"ProductID\", IntegerType()),\n",
    "     StructField(\"Quantity\", IntegerType())\n",
    "])\n",
    "sales_order_raw = spark.read.format(\"csv\").option(\"header\", \"true\").load(\"/mnt/raw-data/salesorder_raw\", schema=salesOrderSchema)\n",
    "\n",
    "# Chuyển đổi cột Date thành kiểu dữ liệu ngày\n",
    "spark.conf.set(\"spark.sql.legacy.timeParserPolicy\", \"LEGACY\")\n",
    "sales_order_raw = sales_order_raw.withColumn(\"OrderDate\", to_date(col(\"OrderDate\"), \"MM/dd/yyyy\").cast(DateType()))\n",
    "\n",
    "display(sales_order_raw)"
   ]
  },
  {
   "cell_type": "code",
   "execution_count": null,
   "metadata": {
    "application/vnd.databricks.v1+cell": {
     "cellMetadata": {
      "byteLimit": 2048000,
      "rowLimit": 10000
     },
     "inputWidgets": {},
     "nuid": "b33995ff-2aca-4704-8b10-535983195202",
     "showTitle": false,
     "title": ""
    }
   },
   "outputs": [],
   "source": [
    "# Transform data\n",
    "sales_order_raw.createOrReplaceTempView(\"sales_order_raw\")\n",
    "dim_sale_order = spark.sql(\"\"\"\n",
    "    SELECT SalesOrderID AS id,\n",
    "           OrderDate AS order_date,\n",
    "           Quantity AS quantity,\n",
    "           CustomerID As dim_customer_id,\n",
    "           ProductID As dim_product_id\n",
    "    FROM sales_order_raw\n",
    "\"\"\")\n",
    "display(dim_sale_order)"
   ]
  },
  {
   "cell_type": "code",
   "execution_count": null,
   "metadata": {
    "application/vnd.databricks.v1+cell": {
     "cellMetadata": {
      "byteLimit": 2048000,
      "rowLimit": 10000
     },
     "inputWidgets": {},
     "nuid": "051b420a-96e1-4065-b754-b0e486633134",
     "showTitle": false,
     "title": ""
    }
   },
   "outputs": [],
   "source": [
    "# dim_sale_order.write.format(\"com.databricks.spark.csv\").option(\"header\",\"true\").option(\"delimiter\", \",\").mode(\"overwrite\").save(\"/mnt/transformed-data/dim_sale_order\")\n",
    "dim_sale_order.write.format(\"delta\").option(\"overwriteSchema\", \"true\").mode(\"overwrite\").save(\"/mnt/transformed-data/dim_sale_order\")"
   ]
  },
  {
   "cell_type": "code",
   "execution_count": null,
   "metadata": {},
   "outputs": [],
   "source": [
    "time_df = sales_order_raw.select(\n",
    "    col(\"SalesOrderID\").alias(\"id\"),\n",
    "    col(\"OrderDate\").alias(\"date\")\n",
    ")\n",
    "\n",
    "# Tính toán các thông tin về ngày/tháng/năm từ cột Date\n",
    "time_df = time_df.withColumn(\"day_of_week\", dayofweek(col(\"date\")).cast(IntegerType()))\n",
    "time_df = time_df.withColumn(\"day_of_month\", dayofmonth(col(\"date\")).cast(IntegerType()))\n",
    "time_df = time_df.withColumn(\"week_of_year\", weekofyear(col(\"date\")).cast(IntegerType()))\n",
    "time_df = time_df.withColumn(\"quarter\", quarter(col(\"date\")).cast(IntegerType()))\n",
    "time_df = time_df.withColumn(\"month\", month(col(\"date\")).cast(IntegerType()))\n",
    "time_df = time_df.withColumn(\"year\", year(col(\"date\")).cast(IntegerType()))\n",
    "\n",
    "# Tạo bảng dim_date\n",
    "dim_date = time_df.dropDuplicates([\"date\"]).orderBy(\"id\")\n",
    "dim_date.write.format(\"delta\").mode(\"overwrite\").save(\"/mnt/transformed-data/dim_date\")\n",
    "\n",
    "display(dim_date)"
   ]
  }
 ],
 "metadata": {
  "application/vnd.databricks.v1+notebook": {
   "dashboards": [],
   "language": "python",
   "notebookMetadata": {
    "mostRecentlyExecutedCommandWithImplicitDF": {
     "commandId": -1,
     "dataframes": [
      "_sqldf"
     ]
    },
    "pythonIndentUnit": 4
   },
   "notebookName": "Auto",
   "widgets": {}
  },
  "language_info": {
   "name": "python"
  }
 },
 "nbformat": 4,
 "nbformat_minor": 0
}
