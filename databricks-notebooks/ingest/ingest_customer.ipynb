{
 "cells": [
  {
   "cell_type": "code",
   "execution_count": null,
   "metadata": {
    "application/vnd.databricks.v1+cell": {
     "cellMetadata": {
      "byteLimit": 2048000,
      "rowLimit": 10000
     },
     "inputWidgets": {},
     "nuid": "cc77ba4a-80b3-435f-bd64-723ff4ec2805",
     "showTitle": false,
     "title": ""
    }
   },
   "outputs": [],
   "source": [
    "# Check if the directory is already mounted\n",
    "if dbutils.fs.mounts() and any(mount.mountPoint == \"/mnt/raw-data\" for mount in dbutils.fs.mounts()):\n",
    "   # Unmount the directory if it is already mounted\n",
    "   dbutils.fs.unmount(\"/mnt/raw-data\")\n",
    "\n",
    "# Check if the directory is already mounted\n",
    "if dbutils.fs.mounts() and any(mount.mountPoint == \"/mnt/transformed-data\" for mount in dbutils.fs.mounts()):\n",
    "   # Unmount the directory if it is already mounted\n",
    "   dbutils.fs.unmount(\"/mnt/transformed-data\")\n",
    "\n",
    "# Delete the existing directory recursively\n",
    "dbutils.fs.rm(\"/mnt/raw-data\", recurse=True)\n",
    "dbutils.fs.rm(\"/mnt/transformed-data\", recurse=True)\n",
    "\n",
    "configs = {\"fs.azure.account.auth.type\": \"OAuth\",\n",
    "           \"fs.azure.account.oauth2.client.id\": \"Application (client) ID của App registration\",\n",
    "           \"fs.azure.account.oauth.provider.type\": \"org.apache.hadoop.fs.azurebfs.oauth2.ClientCredsTokenProvider\",\n",
    "           \"fs.azure.account.oauth2.client.endpoint\": \"https://login.microsoftonline.com/Directory (tenant) ID của App registration/oauth2/token\",\n",
    "           \"fs.azure.account.oauth2.client.secret\": \"Value của Certificates & secrets trong App registration\"}\n",
    "         \n",
    "# Mount the directory again\n",
    "dbutils.fs.mount(\n",
    "    source=\"abfss://raw-data@{Tên storage account}.dfs.core.windows.net\", \n",
    "    mount_point=\"/mnt/raw-data\",\n",
    "    extra_configs=configs\n",
    ")\n",
    "\n",
    "# Mount the directory again\n",
    "dbutils.fs.mount(\n",
    "    source=\"abfss://transformed-data@{Tên storage account}.dfs.core.windows.net\", \n",
    "    mount_point=\"/mnt/transformed-data\",\n",
    "    extra_configs=configs\n",
    ")"
   ]
  },
  {
   "cell_type": "code",
   "execution_count": null,
   "metadata": {
    "application/vnd.databricks.v1+cell": {
     "cellMetadata": {
      "byteLimit": 2048000,
      "rowLimit": 10000
     },
     "inputWidgets": {},
     "nuid": "1b8713ac-71ee-4392-bcbb-f446c9c1c80a",
     "showTitle": false,
     "title": ""
    }
   },
   "outputs": [],
   "source": [
    "%fs\n",
    "ls \"/mnt/raw-data\""
   ]
  },
  {
   "cell_type": "code",
   "execution_count": null,
   "metadata": {
    "application/vnd.databricks.v1+cell": {
     "cellMetadata": {
      "byteLimit": 2048000,
      "rowLimit": 10000
     },
     "inputWidgets": {},
     "nuid": "b33995ff-2aca-4704-8b10-535983195202",
     "showTitle": false,
     "title": ""
    }
   },
   "outputs": [],
   "source": [
    "%fs\n",
    "ls \"/mnt/transformed-data\""
   ]
  },
  {
   "cell_type": "code",
   "execution_count": null,
   "metadata": {
    "application/vnd.databricks.v1+cell": {
     "cellMetadata": {
      "byteLimit": 2048000,
      "rowLimit": 10000
     },
     "inputWidgets": {},
     "nuid": "051b420a-96e1-4065-b754-b0e486633134",
     "showTitle": false,
     "title": ""
    }
   },
   "outputs": [],
   "source": [
    "from pyspark.sql.types import *\n",
    "from pyspark.sql.functions import *\n",
    "\n",
    "customerSchema = StructType([\n",
    "     StructField(\"CustomerID\", IntegerType()),\n",
    "     StructField(\"FistName\", StringType()),\n",
    "     StructField(\"LastName\", StringType()),\n",
    "     StructField(\"Email\", StringType()),\n",
    "     StructField(\"Phone\", StringType())\n",
    "])\n",
    "customer_raw = spark.read.format(\"csv\").option(\"header\", \"true\").load(\"/mnt/raw-data/customer_raw\", schema=customerSchema)\n",
    "display(customer_raw)"
   ]
  },
  {
   "cell_type": "code",
   "execution_count": null,
   "metadata": {},
   "outputs": [],
   "source": [
    "# Transform data\n",
    "customer_raw.createOrReplaceTempView(\"customer_raw\")\n",
    "dim_customer = spark.sql(\"\"\"SELECT CustomerID AS id,\n",
    "                            CONCAT(FistName, ' ', LastName) AS name,\n",
    "                            Email as email,\n",
    "                            Phone as phone\n",
    "                            FROM customer_raw\"\"\")\n",
    "display(dim_customer)"
   ]
  },
  {
   "cell_type": "code",
   "execution_count": null,
   "metadata": {},
   "outputs": [],
   "source": [
    "# dim_customer.write.format(\"com.databricks.spark.csv\").option(\"header\",\"true\").option(\"delimiter\", \",\").mode(\"overwrite\").save(\"/mnt/transformed-data/dim_customer\")\n",
    "dim_customer.write.format(\"delta\").option(\"overwriteSchema\", \"true\").mode(\"overwrite\").save(\"/mnt/transformed-data/dim_customer\")"
   ]
  }
 ],
 "metadata": {
  "application/vnd.databricks.v1+notebook": {
   "dashboards": [],
   "language": "python",
   "notebookMetadata": {
    "mostRecentlyExecutedCommandWithImplicitDF": {
     "commandId": -1,
     "dataframes": [
      "_sqldf"
     ]
    },
    "pythonIndentUnit": 4
   },
   "notebookName": "Auto",
   "widgets": {}
  },
  "language_info": {
   "name": "python"
  }
 },
 "nbformat": 4,
 "nbformat_minor": 0
}
