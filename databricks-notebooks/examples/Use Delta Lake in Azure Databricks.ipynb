{
 "cells": [
  {
   "cell_type": "code",
   "execution_count": 0,
   "metadata": {
    "application/vnd.databricks.v1+cell": {
     "cellMetadata": {
      "byteLimit": 2048000,
      "rowLimit": 10000
     },
     "inputWidgets": {},
     "nuid": "0241272d-3d21-4319-bb14-d3c8eac4e94e",
     "showTitle": false,
     "title": ""
    }
   },
   "outputs": [
    {
     "output_type": "stream",
     "name": "stderr",
     "output_type": "stream",
     "text": [
      "--2024-02-05 03:56:51--  https://raw.githubusercontent.com/MicrosoftLearning/mslearn-databricks/main/data/products.csv\nResolving raw.githubusercontent.com (raw.githubusercontent.com)... 185.199.110.133, 185.199.111.133, 185.199.108.133, ...\nConnecting to raw.githubusercontent.com (raw.githubusercontent.com)|185.199.110.133|:443... connected.\nHTTP request sent, awaiting response... 200 OK\nLength: 14372 (14K) [text/plain]\nSaving to: ‘/dbfs/delta_lab/products.csv’\n\n     0K .......... ....                                       100% 2.43M=0.006s\n\n2024-02-05 03:56:51 (2.43 MB/s) - ‘/dbfs/delta_lab/products.csv’ saved [14372/14372]\n\n"
     ]
    }
   ],
   "source": [
    " %sh\n",
    " rm -r /dbfs/delta_lab\n",
    " mkdir /dbfs/delta_lab\n",
    " wget -O /dbfs/delta_lab/products.csv https://raw.githubusercontent.com/MicrosoftLearning/mslearn-databricks/main/data/products.csv"
   ]
  },
  {
   "cell_type": "code",
   "execution_count": 0,
   "metadata": {
    "application/vnd.databricks.v1+cell": {
     "cellMetadata": {
      "byteLimit": 2048000,
      "rowLimit": 10000
     },
     "inputWidgets": {},
     "nuid": "c38d366e-673d-47e6-aa83-aefdbfb3dd7d",
     "showTitle": false,
     "title": ""
    }
   },
   "outputs": [],
   "source": [
    " %sh\n",
    " rm -r /dbfs/user/hive/warehouse/adventureworks.db\n",
    " rm -r /dbfs/user/hive/warehouse/retail_db.db/products_2"
   ]
  },
  {
   "cell_type": "code",
   "execution_count": 0,
   "metadata": {
    "application/vnd.databricks.v1+cell": {
     "cellMetadata": {
      "byteLimit": 2048000,
      "rowLimit": 10000
     },
     "inputWidgets": {},
     "nuid": "7384dbc1-f713-40ef-9115-457d09eb7b4e",
     "showTitle": false,
     "title": ""
    }
   },
   "outputs": [
    {
     "output_type": "display_data",
     "data": {
      "text/html": [
       "<style scoped>\n",
       "  .table-result-container {\n",
       "    max-height: 300px;\n",
       "    overflow: auto;\n",
       "  }\n",
       "  table, th, td {\n",
       "    border: 1px solid black;\n",
       "    border-collapse: collapse;\n",
       "  }\n",
       "  th, td {\n",
       "    padding: 5px;\n",
       "  }\n",
       "  th {\n",
       "    text-align: left;\n",
       "  }\n",
       "</style><div class='table-result-container'><table class='table-result'><thead style='background-color: white'><tr><th>ProductID</th><th>ProductName</th><th>Category</th><th>ListPrice</th></tr></thead><tbody><tr><td>771</td><td>Mountain-100 Silver, 38</td><td>Mountain Bikes</td><td>3399.9900</td></tr><tr><td>772</td><td>Mountain-100 Silver, 42</td><td>Mountain Bikes</td><td>3399.9900</td></tr><tr><td>773</td><td>Mountain-100 Silver, 44</td><td>Mountain Bikes</td><td>3399.9900</td></tr><tr><td>774</td><td>Mountain-100 Silver, 48</td><td>Mountain Bikes</td><td>3399.9900</td></tr><tr><td>775</td><td>Mountain-100 Black, 38</td><td>Mountain Bikes</td><td>3374.9900</td></tr><tr><td>776</td><td>Mountain-100 Black, 42</td><td>Mountain Bikes</td><td>3374.9900</td></tr><tr><td>777</td><td>Mountain-100 Black, 44</td><td>Mountain Bikes</td><td>3374.9900</td></tr><tr><td>778</td><td>Mountain-100 Black, 48</td><td>Mountain Bikes</td><td>3374.9900</td></tr><tr><td>779</td><td>Mountain-200 Silver, 38</td><td>Mountain Bikes</td><td>2319.9900</td></tr><tr><td>780</td><td>Mountain-200 Silver, 42</td><td>Mountain Bikes</td><td>2319.9900</td></tr></tbody></table></div>"
      ]
     },
     "metadata": {
      "application/vnd.databricks.v1+output": {
       "addedWidgets": {},
       "aggData": [],
       "aggError": "",
       "aggOverflow": false,
       "aggSchema": [],
       "aggSeriesLimitReached": false,
       "aggType": "",
       "arguments": {},
       "columnCustomDisplayInfos": {},
       "data": [
        [
         "771",
         "Mountain-100 Silver, 38",
         "Mountain Bikes",
         "3399.9900"
        ],
        [
         "772",
         "Mountain-100 Silver, 42",
         "Mountain Bikes",
         "3399.9900"
        ],
        [
         "773",
         "Mountain-100 Silver, 44",
         "Mountain Bikes",
         "3399.9900"
        ],
        [
         "774",
         "Mountain-100 Silver, 48",
         "Mountain Bikes",
         "3399.9900"
        ],
        [
         "775",
         "Mountain-100 Black, 38",
         "Mountain Bikes",
         "3374.9900"
        ],
        [
         "776",
         "Mountain-100 Black, 42",
         "Mountain Bikes",
         "3374.9900"
        ],
        [
         "777",
         "Mountain-100 Black, 44",
         "Mountain Bikes",
         "3374.9900"
        ],
        [
         "778",
         "Mountain-100 Black, 48",
         "Mountain Bikes",
         "3374.9900"
        ],
        [
         "779",
         "Mountain-200 Silver, 38",
         "Mountain Bikes",
         "2319.9900"
        ],
        [
         "780",
         "Mountain-200 Silver, 42",
         "Mountain Bikes",
         "2319.9900"
        ]
       ],
       "datasetInfos": [],
       "dbfsResultPath": null,
       "isJsonSchema": true,
       "metadata": {},
       "overflow": false,
       "plotOptions": {
        "customPlotOptions": {},
        "displayType": "table",
        "pivotAggregation": null,
        "pivotColumns": null,
        "xColumns": null,
        "yColumns": null
       },
       "removedWidgets": [],
       "schema": [
        {
         "metadata": "{}",
         "name": "ProductID",
         "type": "\"string\""
        },
        {
         "metadata": "{}",
         "name": "ProductName",
         "type": "\"string\""
        },
        {
         "metadata": "{}",
         "name": "Category",
         "type": "\"string\""
        },
        {
         "metadata": "{}",
         "name": "ListPrice",
         "type": "\"string\""
        }
       ],
       "type": "table"
      }
     },
     "output_type": "display_data"
    }
   ],
   "source": [
    "df = spark.read.load('/delta_lab/products.csv', format='csv', header=True)\n",
    "display(df.limit(10))"
   ]
  },
  {
   "cell_type": "code",
   "execution_count": 0,
   "metadata": {
    "application/vnd.databricks.v1+cell": {
     "cellMetadata": {
      "byteLimit": 2048000,
      "rowLimit": 10000
     },
     "inputWidgets": {},
     "nuid": "4370ff0a-75cf-445a-b740-a4e839018383",
     "showTitle": false,
     "title": ""
    }
   },
   "outputs": [],
   "source": [
    "delta_table_path = \"/delta/products-delta\"\n",
    "df.write.format(\"delta\").save(delta_table_path)"
   ]
  },
  {
   "cell_type": "code",
   "execution_count": 0,
   "metadata": {
    "application/vnd.databricks.v1+cell": {
     "cellMetadata": {
      "byteLimit": 2048000,
      "rowLimit": 10000
     },
     "inputWidgets": {},
     "nuid": "9c68e8eb-19c9-4f82-a6a4-c58ee8401ab9",
     "showTitle": false,
     "title": ""
    }
   },
   "outputs": [
    {
     "output_type": "stream",
     "name": "stdout",
     "output_type": "stream",
     "text": [
      "_delta_log\npart-00000-db3d9fda-7990-4c9a-a422-82a7ef8004a0.c000.snappy.parquet\n"
     ]
    }
   ],
   "source": [
    " %sh\n",
    " ls /dbfs/delta/products-delta"
   ]
  },
  {
   "cell_type": "code",
   "execution_count": 0,
   "metadata": {
    "application/vnd.databricks.v1+cell": {
     "cellMetadata": {
      "byteLimit": 2048000,
      "rowLimit": 10000
     },
     "inputWidgets": {},
     "nuid": "c73ba903-df0f-40ca-922a-fbf27bce8396",
     "showTitle": false,
     "title": ""
    }
   },
   "outputs": [
    {
     "output_type": "stream",
     "name": "stdout",
     "output_type": "stream",
     "text": [
      "+---------+--------------------+--------------+---------+\n|ProductID|         ProductName|      Category|ListPrice|\n+---------+--------------------+--------------+---------+\n|      771|Mountain-100 Silv...|Mountain Bikes| 3059.991|\n|      772|Mountain-100 Silv...|Mountain Bikes|3399.9900|\n|      773|Mountain-100 Silv...|Mountain Bikes|3399.9900|\n|      774|Mountain-100 Silv...|Mountain Bikes|3399.9900|\n|      775|Mountain-100 Blac...|Mountain Bikes|3374.9900|\n|      776|Mountain-100 Blac...|Mountain Bikes|3374.9900|\n|      777|Mountain-100 Blac...|Mountain Bikes|3374.9900|\n|      778|Mountain-100 Blac...|Mountain Bikes|3374.9900|\n|      779|Mountain-200 Silv...|Mountain Bikes|2319.9900|\n|      780|Mountain-200 Silv...|Mountain Bikes|2319.9900|\n+---------+--------------------+--------------+---------+\nonly showing top 10 rows\n\n"
     ]
    }
   ],
   "source": [
    "from delta.tables import *\n",
    "from pyspark.sql.functions import *\n",
    "   \n",
    "# Create a deltaTable object\n",
    "deltaTable = DeltaTable.forPath(spark, delta_table_path)\n",
    "# Update the table (reduce price of product 771 by 10%)\n",
    "deltaTable.update(\n",
    "    condition = \"ProductID == 771\",\n",
    "    set = { \"ListPrice\": \"ListPrice * 0.9\" })\n",
    "# View the updated data as a dataframe\n",
    "deltaTable.toDF().show(10)"
   ]
  },
  {
   "cell_type": "code",
   "execution_count": 0,
   "metadata": {
    "application/vnd.databricks.v1+cell": {
     "cellMetadata": {
      "byteLimit": 2048000,
      "rowLimit": 10000
     },
     "inputWidgets": {},
     "nuid": "bf27d366-683c-4400-896d-f66d28f4ec16",
     "showTitle": false,
     "title": ""
    }
   },
   "outputs": [
    {
     "output_type": "stream",
     "name": "stdout",
     "output_type": "stream",
     "text": [
      "+---------+--------------------+--------------+---------+\n|ProductID|         ProductName|      Category|ListPrice|\n+---------+--------------------+--------------+---------+\n|      771|Mountain-100 Silv...|Mountain Bikes| 3059.991|\n|      772|Mountain-100 Silv...|Mountain Bikes|3399.9900|\n|      773|Mountain-100 Silv...|Mountain Bikes|3399.9900|\n|      774|Mountain-100 Silv...|Mountain Bikes|3399.9900|\n|      775|Mountain-100 Blac...|Mountain Bikes|3374.9900|\n|      776|Mountain-100 Blac...|Mountain Bikes|3374.9900|\n|      777|Mountain-100 Blac...|Mountain Bikes|3374.9900|\n|      778|Mountain-100 Blac...|Mountain Bikes|3374.9900|\n|      779|Mountain-200 Silv...|Mountain Bikes|2319.9900|\n|      780|Mountain-200 Silv...|Mountain Bikes|2319.9900|\n+---------+--------------------+--------------+---------+\nonly showing top 10 rows\n\n"
     ]
    }
   ],
   "source": [
    "new_df = spark.read.format(\"delta\").load(delta_table_path)\n",
    "new_df.show(10)"
   ]
  },
  {
   "cell_type": "code",
   "execution_count": 0,
   "metadata": {
    "application/vnd.databricks.v1+cell": {
     "cellMetadata": {
      "byteLimit": 2048000,
      "rowLimit": 10000
     },
     "inputWidgets": {},
     "nuid": "988508ce-1420-4507-864a-c620a280d873",
     "showTitle": false,
     "title": ""
    }
   },
   "outputs": [
    {
     "output_type": "stream",
     "name": "stdout",
     "output_type": "stream",
     "text": [
      "+---------+--------------------+--------------+---------+\n|ProductID|         ProductName|      Category|ListPrice|\n+---------+--------------------+--------------+---------+\n|      771|Mountain-100 Silv...|Mountain Bikes|3399.9900|\n|      772|Mountain-100 Silv...|Mountain Bikes|3399.9900|\n|      773|Mountain-100 Silv...|Mountain Bikes|3399.9900|\n|      774|Mountain-100 Silv...|Mountain Bikes|3399.9900|\n|      775|Mountain-100 Blac...|Mountain Bikes|3374.9900|\n|      776|Mountain-100 Blac...|Mountain Bikes|3374.9900|\n|      777|Mountain-100 Blac...|Mountain Bikes|3374.9900|\n|      778|Mountain-100 Blac...|Mountain Bikes|3374.9900|\n|      779|Mountain-200 Silv...|Mountain Bikes|2319.9900|\n|      780|Mountain-200 Silv...|Mountain Bikes|2319.9900|\n+---------+--------------------+--------------+---------+\nonly showing top 10 rows\n\n"
     ]
    }
   ],
   "source": [
    "new_df = spark.read.format(\"delta\").option(\"versionAsOf\", 0).load(delta_table_path)\n",
    "new_df.show(10)"
   ]
  },
  {
   "cell_type": "code",
   "execution_count": 0,
   "metadata": {
    "application/vnd.databricks.v1+cell": {
     "cellMetadata": {
      "byteLimit": 2048000,
      "rowLimit": 10000
     },
     "inputWidgets": {},
     "nuid": "12bb53b1-a8a9-44e1-ab08-b60339142fb5",
     "showTitle": false,
     "title": ""
    }
   },
   "outputs": [
    {
     "output_type": "stream",
     "name": "stdout",
     "output_type": "stream",
     "text": [
      "-RECORD 0---------------------------------------------------------------------------------------------------------------------------------------------------------------------------------------------------------------------------------------------------------------------------------------------------------------\n version             | 1                                                                                                                                                                                                                                                                                                \n timestamp           | 2024-02-05 04:00:44                                                                                                                                                                                                                                                                              \n userId              | 6947402028031338                                                                                                                                                                                                                                                                                 \n userName            | tuandht97@gmail.com                                                                                                                                                                                                                                                                              \n operation           | UPDATE                                                                                                                                                                                                                                                                                           \n operationParameters | {predicate -> [\"(cast(ProductID#574 as int) = 771)\"]}                                                                                                                                                                                                                                            \n job                 | NULL                                                                                                                                                                                                                                                                                             \n notebook            | {2308557017583454}                                                                                                                                                                                                                                                                               \n clusterId           | 0201-041706-4elbg5iz                                                                                                                                                                                                                                                                             \n readVersion         | 0                                                                                                                                                                                                                                                                                                \n isolationLevel      | WriteSerializable                                                                                                                                                                                                                                                                                \n isBlindAppend       | false                                                                                                                                                                                                                                                                                            \n operationMetrics    | {numRemovedFiles -> 1, numRemovedBytes -> 6163, numCopiedRows -> 294, numDeletionVectorsAdded -> 0, numDeletionVectorsRemoved -> 0, numAddedChangeFiles -> 0, executionTimeMs -> 2548, scanTimeMs -> 1746, numAddedFiles -> 1, numUpdatedRows -> 1, numAddedBytes -> 6175, rewriteTimeMs -> 787} \n userMetadata        | NULL                                                                                                                                                                                                                                                                                             \n engineInfo          | Databricks-Runtime/13.3.x-photon-scala2.12                                                                                                                                                                                                                                                       \n-RECORD 1---------------------------------------------------------------------------------------------------------------------------------------------------------------------------------------------------------------------------------------------------------------------------------------------------------------\n version             | 0                                                                                                                                                                                                                                                                                                \n timestamp           | 2024-02-05 03:58:20                                                                                                                                                                                                                                                                              \n userId              | 6947402028031338                                                                                                                                                                                                                                                                                 \n userName            | tuandht97@gmail.com                                                                                                                                                                                                                                                                              \n operation           | WRITE                                                                                                                                                                                                                                                                                            \n operationParameters | {mode -> ErrorIfExists, statsOnLoad -> false, partitionBy -> []}                                                                                                                                                                                                                                 \n job                 | NULL                                                                                                                                                                                                                                                                                             \n notebook            | {2308557017583454}                                                                                                                                                                                                                                                                               \n clusterId           | 0201-041706-4elbg5iz                                                                                                                                                                                                                                                                             \n readVersion         | NULL                                                                                                                                                                                                                                                                                             \n isolationLevel      | WriteSerializable                                                                                                                                                                                                                                                                                \n isBlindAppend       | true                                                                                                                                                                                                                                                                                             \n operationMetrics    | {numFiles -> 1, numOutputRows -> 295, numOutputBytes -> 6163}                                                                                                                                                                                                                                    \n userMetadata        | NULL                                                                                                                                                                                                                                                                                             \n engineInfo          | Databricks-Runtime/13.3.x-photon-scala2.12                                                                                                                                                                                                                                                       \n\n"
     ]
    }
   ],
   "source": [
    "deltaTable.history(10).show(10, False, True)"
   ]
  },
  {
   "cell_type": "code",
   "execution_count": 0,
   "metadata": {
    "application/vnd.databricks.v1+cell": {
     "cellMetadata": {
      "byteLimit": 2048000,
      "rowLimit": 10000
     },
     "inputWidgets": {},
     "nuid": "4e7acdb2-cbeb-467f-aa28-277b363c1a5e",
     "showTitle": false,
     "title": ""
    }
   },
   "outputs": [
    {
     "output_type": "stream",
     "name": "stdout",
     "output_type": "stream",
     "text": [
      "+----------------------------+-------------------------------------------+-------+\n|col_name                    |data_type                                  |comment|\n+----------------------------+-------------------------------------------+-------+\n|ProductID                   |string                                     |NULL   |\n|ProductName                 |string                                     |NULL   |\n|Category                    |string                                     |NULL   |\n|ListPrice                   |string                                     |NULL   |\n|                            |                                           |       |\n|# Delta Statistics Columns  |                                           |       |\n|Column Names                |ProductID, ProductName, Category, ListPrice|       |\n|Column Selection Method     |first-32                                   |       |\n|                            |                                           |       |\n|# Detailed Table Information|                                           |       |\n|Catalog                     |spark_catalog                              |       |\n|Database                    |AdventureWorks                             |       |\n|Table                       |ProductsExternal                           |       |\n|Created Time                |Mon Feb 05 04:02:00 UTC 2024               |       |\n|Last Access                 |UNKNOWN                                    |       |\n|Created By                  |Spark 3.4.1                                |       |\n|Type                        |EXTERNAL                                   |       |\n|Location                    |dbfs:/delta/products-delta                 |       |\n|Provider                    |delta                                      |       |\n|Owner                       |root                                       |       |\n+----------------------------+-------------------------------------------+-------+\nonly showing top 20 rows\n\n"
     ]
    }
   ],
   "source": [
    "spark.sql(\"CREATE DATABASE AdventureWorks\")\n",
    "spark.sql(\"CREATE TABLE AdventureWorks.ProductsExternal USING DELTA LOCATION '{0}'\".format(delta_table_path))\n",
    "spark.sql(\"DESCRIBE EXTENDED AdventureWorks.ProductsExternal\").show(truncate=False)"
   ]
  },
  {
   "cell_type": "code",
   "execution_count": 0,
   "metadata": {
    "application/vnd.databricks.v1+cell": {
     "cellMetadata": {
      "byteLimit": 2048000,
      "implicitDf": true,
      "rowLimit": 10000
     },
     "inputWidgets": {},
     "nuid": "311e69d9-b2f5-4ad5-9ea3-793ae784f99f",
     "showTitle": false,
     "title": ""
    }
   },
   "outputs": [
    {
     "output_type": "display_data",
     "data": {
      "text/html": [
       "<style scoped>\n",
       "  .table-result-container {\n",
       "    max-height: 300px;\n",
       "    overflow: auto;\n",
       "  }\n",
       "  table, th, td {\n",
       "    border: 1px solid black;\n",
       "    border-collapse: collapse;\n",
       "  }\n",
       "  th, td {\n",
       "    padding: 5px;\n",
       "  }\n",
       "  th {\n",
       "    text-align: left;\n",
       "  }\n",
       "</style><div class='table-result-container'><table class='table-result'><thead style='background-color: white'><tr><th>ProductID</th><th>ProductName</th><th>Category</th><th>ListPrice</th></tr></thead><tbody><tr><td>771</td><td>Mountain-100 Silver, 38</td><td>Mountain Bikes</td><td>3059.991</td></tr><tr><td>772</td><td>Mountain-100 Silver, 42</td><td>Mountain Bikes</td><td>3399.9900</td></tr><tr><td>773</td><td>Mountain-100 Silver, 44</td><td>Mountain Bikes</td><td>3399.9900</td></tr><tr><td>774</td><td>Mountain-100 Silver, 48</td><td>Mountain Bikes</td><td>3399.9900</td></tr><tr><td>775</td><td>Mountain-100 Black, 38</td><td>Mountain Bikes</td><td>3374.9900</td></tr><tr><td>776</td><td>Mountain-100 Black, 42</td><td>Mountain Bikes</td><td>3374.9900</td></tr><tr><td>777</td><td>Mountain-100 Black, 44</td><td>Mountain Bikes</td><td>3374.9900</td></tr><tr><td>778</td><td>Mountain-100 Black, 48</td><td>Mountain Bikes</td><td>3374.9900</td></tr><tr><td>779</td><td>Mountain-200 Silver, 38</td><td>Mountain Bikes</td><td>2319.9900</td></tr><tr><td>780</td><td>Mountain-200 Silver, 42</td><td>Mountain Bikes</td><td>2319.9900</td></tr><tr><td>781</td><td>Mountain-200 Silver, 46</td><td>Mountain Bikes</td><td>2319.9900</td></tr><tr><td>782</td><td>Mountain-200 Black, 38</td><td>Mountain Bikes</td><td>2294.9900</td></tr><tr><td>783</td><td>Mountain-200 Black, 42</td><td>Mountain Bikes</td><td>2294.9900</td></tr><tr><td>784</td><td>Mountain-200 Black, 46</td><td>Mountain Bikes</td><td>2294.9900</td></tr><tr><td>785</td><td>Mountain-300 Black, 38</td><td>Mountain Bikes</td><td>1079.9900</td></tr><tr><td>786</td><td>Mountain-300 Black, 40</td><td>Mountain Bikes</td><td>1079.9900</td></tr><tr><td>787</td><td>Mountain-300 Black, 44</td><td>Mountain Bikes</td><td>1079.9900</td></tr><tr><td>788</td><td>Mountain-300 Black, 48</td><td>Mountain Bikes</td><td>1079.9900</td></tr><tr><td>980</td><td>Mountain-400-W Silver, 38</td><td>Mountain Bikes</td><td>769.4900</td></tr><tr><td>981</td><td>Mountain-400-W Silver, 40</td><td>Mountain Bikes</td><td>769.4900</td></tr><tr><td>982</td><td>Mountain-400-W Silver, 42</td><td>Mountain Bikes</td><td>769.4900</td></tr><tr><td>983</td><td>Mountain-400-W Silver, 46</td><td>Mountain Bikes</td><td>769.4900</td></tr><tr><td>984</td><td>Mountain-500 Silver, 40</td><td>Mountain Bikes</td><td>564.9900</td></tr><tr><td>985</td><td>Mountain-500 Silver, 42</td><td>Mountain Bikes</td><td>564.9900</td></tr><tr><td>986</td><td>Mountain-500 Silver, 44</td><td>Mountain Bikes</td><td>564.9900</td></tr><tr><td>987</td><td>Mountain-500 Silver, 48</td><td>Mountain Bikes</td><td>564.9900</td></tr><tr><td>988</td><td>Mountain-500 Silver, 52</td><td>Mountain Bikes</td><td>564.9900</td></tr><tr><td>989</td><td>Mountain-500 Black, 40</td><td>Mountain Bikes</td><td>539.9900</td></tr><tr><td>990</td><td>Mountain-500 Black, 42</td><td>Mountain Bikes</td><td>539.9900</td></tr><tr><td>991</td><td>Mountain-500 Black, 44</td><td>Mountain Bikes</td><td>539.9900</td></tr><tr><td>992</td><td>Mountain-500 Black, 48</td><td>Mountain Bikes</td><td>539.9900</td></tr><tr><td>993</td><td>Mountain-500 Black, 52</td><td>Mountain Bikes</td><td>539.9900</td></tr><tr><td>973</td><td>Road-350-W Yellow, 40</td><td>Road Bikes</td><td>1700.9900</td></tr><tr><td>974</td><td>Road-350-W Yellow, 42</td><td>Road Bikes</td><td>1700.9900</td></tr><tr><td>975</td><td>Road-350-W Yellow, 44</td><td>Road Bikes</td><td>1700.9900</td></tr><tr><td>976</td><td>Road-350-W Yellow, 48</td><td>Road Bikes</td><td>1700.9900</td></tr><tr><td>977</td><td>Road-750 Black, 58</td><td>Road Bikes</td><td>539.9900</td></tr><tr><td>997</td><td>Road-750 Black, 44</td><td>Road Bikes</td><td>539.9900</td></tr><tr><td>998</td><td>Road-750 Black, 48</td><td>Road Bikes</td><td>539.9900</td></tr><tr><td>999</td><td>Road-750 Black, 52</td><td>Road Bikes</td><td>539.9900</td></tr><tr><td>789</td><td>Road-250 Red, 44</td><td>Road Bikes</td><td>2443.3500</td></tr><tr><td>790</td><td>Road-250 Red, 48</td><td>Road Bikes</td><td>2443.3500</td></tr><tr><td>791</td><td>Road-250 Red, 52</td><td>Road Bikes</td><td>2443.3500</td></tr><tr><td>792</td><td>Road-250 Red, 58</td><td>Road Bikes</td><td>2443.3500</td></tr><tr><td>793</td><td>Road-250 Black, 44</td><td>Road Bikes</td><td>2443.3500</td></tr><tr><td>794</td><td>Road-250 Black, 48</td><td>Road Bikes</td><td>2443.3500</td></tr><tr><td>795</td><td>Road-250 Black, 52</td><td>Road Bikes</td><td>2443.3500</td></tr><tr><td>796</td><td>Road-250 Black, 58</td><td>Road Bikes</td><td>2443.3500</td></tr><tr><td>797</td><td>Road-550-W Yellow, 38</td><td>Road Bikes</td><td>1120.4900</td></tr><tr><td>798</td><td>Road-550-W Yellow, 40</td><td>Road Bikes</td><td>1120.4900</td></tr><tr><td>799</td><td>Road-550-W Yellow, 42</td><td>Road Bikes</td><td>1120.4900</td></tr><tr><td>800</td><td>Road-550-W Yellow, 44</td><td>Road Bikes</td><td>1120.4900</td></tr><tr><td>801</td><td>Road-550-W Yellow, 48</td><td>Road Bikes</td><td>1120.4900</td></tr><tr><td>749</td><td>Road-150 Red, 62</td><td>Road Bikes</td><td>3578.2700</td></tr><tr><td>750</td><td>Road-150 Red, 44</td><td>Road Bikes</td><td>3578.2700</td></tr><tr><td>751</td><td>Road-150 Red, 48</td><td>Road Bikes</td><td>3578.2700</td></tr><tr><td>752</td><td>Road-150 Red, 52</td><td>Road Bikes</td><td>3578.2700</td></tr><tr><td>753</td><td>Road-150 Red, 56</td><td>Road Bikes</td><td>3578.2700</td></tr><tr><td>754</td><td>Road-450 Red, 58</td><td>Road Bikes</td><td>1457.9900</td></tr><tr><td>755</td><td>Road-450 Red, 60</td><td>Road Bikes</td><td>1457.9900</td></tr><tr><td>756</td><td>Road-450 Red, 44</td><td>Road Bikes</td><td>1457.9900</td></tr><tr><td>757</td><td>Road-450 Red, 48</td><td>Road Bikes</td><td>1457.9900</td></tr><tr><td>758</td><td>Road-450 Red, 52</td><td>Road Bikes</td><td>1457.9900</td></tr><tr><td>759</td><td>Road-650 Red, 58</td><td>Road Bikes</td><td>782.9900</td></tr><tr><td>760</td><td>Road-650 Red, 60</td><td>Road Bikes</td><td>782.9900</td></tr><tr><td>761</td><td>Road-650 Red, 62</td><td>Road Bikes</td><td>782.9900</td></tr><tr><td>762</td><td>Road-650 Red, 44</td><td>Road Bikes</td><td>782.9900</td></tr><tr><td>763</td><td>Road-650 Red, 48</td><td>Road Bikes</td><td>782.9900</td></tr><tr><td>764</td><td>Road-650 Red, 52</td><td>Road Bikes</td><td>782.9900</td></tr><tr><td>765</td><td>Road-650 Black, 58</td><td>Road Bikes</td><td>782.9900</td></tr><tr><td>766</td><td>Road-650 Black, 60</td><td>Road Bikes</td><td>782.9900</td></tr><tr><td>767</td><td>Road-650 Black, 62</td><td>Road Bikes</td><td>782.9900</td></tr><tr><td>768</td><td>Road-650 Black, 44</td><td>Road Bikes</td><td>782.9900</td></tr><tr><td>769</td><td>Road-650 Black, 48</td><td>Road Bikes</td><td>782.9900</td></tr><tr><td>770</td><td>Road-650 Black, 52</td><td>Road Bikes</td><td>782.9900</td></tr><tr><td>978</td><td>Touring-3000 Blue, 44</td><td>Touring Bikes</td><td>742.3500</td></tr><tr><td>979</td><td>Touring-3000 Blue, 50</td><td>Touring Bikes</td><td>742.3500</td></tr><tr><td>953</td><td>Touring-2000 Blue, 60</td><td>Touring Bikes</td><td>1214.8500</td></tr><tr><td>954</td><td>Touring-1000 Yellow, 46</td><td>Touring Bikes</td><td>2384.0700</td></tr><tr><td>955</td><td>Touring-1000 Yellow, 50</td><td>Touring Bikes</td><td>2384.0700</td></tr><tr><td>956</td><td>Touring-1000 Yellow, 54</td><td>Touring Bikes</td><td>2384.0700</td></tr><tr><td>957</td><td>Touring-1000 Yellow, 60</td><td>Touring Bikes</td><td>2384.0700</td></tr><tr><td>958</td><td>Touring-3000 Blue, 54</td><td>Touring Bikes</td><td>742.3500</td></tr><tr><td>959</td><td>Touring-3000 Blue, 58</td><td>Touring Bikes</td><td>742.3500</td></tr><tr><td>960</td><td>Touring-3000 Blue, 62</td><td>Touring Bikes</td><td>742.3500</td></tr><tr><td>961</td><td>Touring-3000 Yellow, 44</td><td>Touring Bikes</td><td>742.3500</td></tr><tr><td>962</td><td>Touring-3000 Yellow, 50</td><td>Touring Bikes</td><td>742.3500</td></tr><tr><td>963</td><td>Touring-3000 Yellow, 54</td><td>Touring Bikes</td><td>742.3500</td></tr><tr><td>964</td><td>Touring-3000 Yellow, 58</td><td>Touring Bikes</td><td>742.3500</td></tr><tr><td>965</td><td>Touring-3000 Yellow, 62</td><td>Touring Bikes</td><td>742.3500</td></tr><tr><td>966</td><td>Touring-1000 Blue, 46</td><td>Touring Bikes</td><td>2384.0700</td></tr><tr><td>967</td><td>Touring-1000 Blue, 50</td><td>Touring Bikes</td><td>2384.0700</td></tr><tr><td>968</td><td>Touring-1000 Blue, 54</td><td>Touring Bikes</td><td>2384.0700</td></tr><tr><td>969</td><td>Touring-1000 Blue, 60</td><td>Touring Bikes</td><td>2384.0700</td></tr><tr><td>970</td><td>Touring-2000 Blue, 46</td><td>Touring Bikes</td><td>1214.8500</td></tr><tr><td>971</td><td>Touring-2000 Blue, 50</td><td>Touring Bikes</td><td>1214.8500</td></tr><tr><td>972</td><td>Touring-2000 Blue, 54</td><td>Touring Bikes</td><td>1214.8500</td></tr><tr><td>946</td><td>LL Touring Handlebars</td><td>Handlebars</td><td>46.0900</td></tr><tr><td>947</td><td>HL Touring Handlebars</td><td>Handlebars</td><td>91.5700</td></tr><tr><td>808</td><td>LL Mountain Handlebars</td><td>Handlebars</td><td>44.5400</td></tr><tr><td>809</td><td>ML Mountain Handlebars</td><td>Handlebars</td><td>61.9200</td></tr><tr><td>810</td><td>HL Mountain Handlebars</td><td>Handlebars</td><td>120.2700</td></tr><tr><td>811</td><td>LL Road Handlebars</td><td>Handlebars</td><td>44.5400</td></tr><tr><td>812</td><td>ML Road Handlebars</td><td>Handlebars</td><td>61.9200</td></tr><tr><td>813</td><td>HL Road Handlebars</td><td>Handlebars</td><td>120.2700</td></tr><tr><td>994</td><td>LL Bottom Bracket</td><td>Bottom Brackets</td><td>53.9900</td></tr><tr><td>995</td><td>ML Bottom Bracket</td><td>Bottom Brackets</td><td>101.2400</td></tr><tr><td>996</td><td>HL Bottom Bracket</td><td>Bottom Brackets</td><td>121.4900</td></tr><tr><td>948</td><td>Front Brakes</td><td>Brakes</td><td>106.5000</td></tr><tr><td>907</td><td>Rear Brakes</td><td>Brakes</td><td>106.5000</td></tr><tr><td>952</td><td>Chain</td><td>Chains</td><td>20.2400</td></tr><tr><td>949</td><td>LL Crankset</td><td>Cranksets</td><td>175.4900</td></tr><tr><td>950</td><td>ML Crankset</td><td>Cranksets</td><td>256.4900</td></tr><tr><td>951</td><td>HL Crankset</td><td>Cranksets</td><td>404.9900</td></tr><tr><td>945</td><td>Front Derailleur</td><td>Derailleurs</td><td>91.4900</td></tr><tr><td>894</td><td>Rear Derailleur</td><td>Derailleurs</td><td>121.4600</td></tr><tr><td>802</td><td>LL Fork</td><td>Forks</td><td>148.2200</td></tr><tr><td>803</td><td>ML Fork</td><td>Forks</td><td>175.4900</td></tr><tr><td>804</td><td>HL Fork</td><td>Forks</td><td>229.4900</td></tr><tr><td>805</td><td>LL Headset</td><td>Headsets</td><td>34.2000</td></tr><tr><td>806</td><td>ML Headset</td><td>Headsets</td><td>102.2900</td></tr><tr><td>807</td><td>HL Headset</td><td>Headsets</td><td>124.7300</td></tr><tr><td>739</td><td>HL Mountain Frame - Silver, 42</td><td>Mountain Frames</td><td>1364.5000</td></tr><tr><td>740</td><td>HL Mountain Frame - Silver, 44</td><td>Mountain Frames</td><td>1364.5000</td></tr><tr><td>741</td><td>HL Mountain Frame - Silver, 48</td><td>Mountain Frames</td><td>1364.5000</td></tr><tr><td>742</td><td>HL Mountain Frame - Silver, 46</td><td>Mountain Frames</td><td>1364.5000</td></tr><tr><td>743</td><td>HL Mountain Frame - Black, 42</td><td>Mountain Frames</td><td>1349.6000</td></tr><tr><td>744</td><td>HL Mountain Frame - Black, 44</td><td>Mountain Frames</td><td>1349.6000</td></tr><tr><td>745</td><td>HL Mountain Frame - Black, 48</td><td>Mountain Frames</td><td>1349.6000</td></tr><tr><td>746</td><td>HL Mountain Frame - Black, 46</td><td>Mountain Frames</td><td>1349.6000</td></tr><tr><td>747</td><td>HL Mountain Frame - Black, 38</td><td>Mountain Frames</td><td>1349.6000</td></tr><tr><td>748</td><td>HL Mountain Frame - Silver, 38</td><td>Mountain Frames</td><td>1364.5000</td></tr><tr><td>814</td><td>ML Mountain Frame - Black, 38</td><td>Mountain Frames</td><td>348.7600</td></tr><tr><td>830</td><td>ML Mountain Frame - Black, 40</td><td>Mountain Frames</td><td>348.7600</td></tr><tr><td>831</td><td>ML Mountain Frame - Black, 44</td><td>Mountain Frames</td><td>348.7600</td></tr><tr><td>832</td><td>ML Mountain Frame - Black, 48</td><td>Mountain Frames</td><td>348.7600</td></tr><tr><td>924</td><td>LL Mountain Frame - Black, 42</td><td>Mountain Frames</td><td>249.7900</td></tr><tr><td>925</td><td>LL Mountain Frame - Black, 44</td><td>Mountain Frames</td><td>249.7900</td></tr><tr><td>926</td><td>LL Mountain Frame - Black, 48</td><td>Mountain Frames</td><td>249.7900</td></tr><tr><td>927</td><td>LL Mountain Frame - Black, 52</td><td>Mountain Frames</td><td>249.7900</td></tr><tr><td>917</td><td>LL Mountain Frame - Silver, 42</td><td>Mountain Frames</td><td>264.0500</td></tr><tr><td>918</td><td>LL Mountain Frame - Silver, 44</td><td>Mountain Frames</td><td>264.0500</td></tr><tr><td>919</td><td>LL Mountain Frame - Silver, 48</td><td>Mountain Frames</td><td>264.0500</td></tr><tr><td>920</td><td>LL Mountain Frame - Silver, 52</td><td>Mountain Frames</td><td>264.0500</td></tr><tr><td>904</td><td>ML Mountain Frame-W - Silver, 40</td><td>Mountain Frames</td><td>364.0900</td></tr><tr><td>905</td><td>ML Mountain Frame-W - Silver, 42</td><td>Mountain Frames</td><td>364.0900</td></tr><tr><td>906</td><td>ML Mountain Frame-W - Silver, 46</td><td>Mountain Frames</td><td>364.0900</td></tr><tr><td>942</td><td>ML Mountain Frame-W - Silver, 38</td><td>Mountain Frames</td><td>364.0900</td></tr><tr><td>943</td><td>LL Mountain Frame - Black, 40</td><td>Mountain Frames</td><td>249.7900</td></tr><tr><td>944</td><td>LL Mountain Frame - Silver, 40</td><td>Mountain Frames</td><td>264.0500</td></tr><tr><td>935</td><td>LL Mountain Pedal</td><td>Pedals</td><td>40.4900</td></tr><tr><td>936</td><td>ML Mountain Pedal</td><td>Pedals</td><td>62.0900</td></tr><tr><td>937</td><td>HL Mountain Pedal</td><td>Pedals</td><td>80.9900</td></tr><tr><td>938</td><td>LL Road Pedal</td><td>Pedals</td><td>40.4900</td></tr><tr><td>939</td><td>ML Road Pedal</td><td>Pedals</td><td>62.0900</td></tr><tr><td>940</td><td>HL Road Pedal</td><td>Pedals</td><td>80.9900</td></tr><tr><td>941</td><td>Touring Pedal</td><td>Pedals</td><td>80.9900</td></tr><tr><td>833</td><td>ML Road Frame-W - Yellow, 40</td><td>Road Frames</td><td>594.8300</td></tr><tr><td>834</td><td>ML Road Frame-W - Yellow, 42</td><td>Road Frames</td><td>594.8300</td></tr><tr><td>835</td><td>ML Road Frame-W - Yellow, 44</td><td>Road Frames</td><td>594.8300</td></tr><tr><td>836</td><td>ML Road Frame-W - Yellow, 48</td><td>Road Frames</td><td>594.8300</td></tr><tr><td>837</td><td>HL Road Frame - Black, 62</td><td>Road Frames</td><td>1431.5000</td></tr><tr><td>838</td><td>HL Road Frame - Black, 44</td><td>Road Frames</td><td>1431.5000</td></tr><tr><td>839</td><td>HL Road Frame - Black, 48</td><td>Road Frames</td><td>1431.5000</td></tr><tr><td>840</td><td>HL Road Frame - Black, 52</td><td>Road Frames</td><td>1431.5000</td></tr><tr><td>822</td><td>ML Road Frame-W - Yellow, 38</td><td>Road Frames</td><td>594.8300</td></tr><tr><td>680</td><td>HL Road Frame - Black, 58</td><td>Road Frames</td><td>1431.5000</td></tr><tr><td>706</td><td>HL Road Frame - Red, 58</td><td>Road Frames</td><td>1431.5000</td></tr><tr><td>717</td><td>HL Road Frame - Red, 62</td><td>Road Frames</td><td>1431.5000</td></tr><tr><td>718</td><td>HL Road Frame - Red, 44</td><td>Road Frames</td><td>1431.5000</td></tr><tr><td>719</td><td>HL Road Frame - Red, 48</td><td>Road Frames</td><td>1431.5000</td></tr><tr><td>720</td><td>HL Road Frame - Red, 52</td><td>Road Frames</td><td>1431.5000</td></tr><tr><td>721</td><td>HL Road Frame - Red, 56</td><td>Road Frames</td><td>1431.5000</td></tr><tr><td>722</td><td>LL Road Frame - Black, 58</td><td>Road Frames</td><td>337.2200</td></tr><tr><td>723</td><td>LL Road Frame - Black, 60</td><td>Road Frames</td><td>337.2200</td></tr><tr><td>724</td><td>LL Road Frame - Black, 62</td><td>Road Frames</td><td>337.2200</td></tr><tr><td>725</td><td>LL Road Frame - Red, 44</td><td>Road Frames</td><td>337.2200</td></tr><tr><td>726</td><td>LL Road Frame - Red, 48</td><td>Road Frames</td><td>337.2200</td></tr><tr><td>727</td><td>LL Road Frame - Red, 52</td><td>Road Frames</td><td>337.2200</td></tr><tr><td>728</td><td>LL Road Frame - Red, 58</td><td>Road Frames</td><td>337.2200</td></tr><tr><td>729</td><td>LL Road Frame - Red, 60</td><td>Road Frames</td><td>337.2200</td></tr><tr><td>730</td><td>LL Road Frame - Red, 62</td><td>Road Frames</td><td>337.2200</td></tr><tr><td>731</td><td>ML Road Frame - Red, 44</td><td>Road Frames</td><td>594.8300</td></tr><tr><td>732</td><td>ML Road Frame - Red, 48</td><td>Road Frames</td><td>594.8300</td></tr><tr><td>733</td><td>ML Road Frame - Red, 52</td><td>Road Frames</td><td>594.8300</td></tr><tr><td>734</td><td>ML Road Frame - Red, 58</td><td>Road Frames</td><td>594.8300</td></tr><tr><td>735</td><td>ML Road Frame - Red, 60</td><td>Road Frames</td><td>594.8300</td></tr><tr><td>736</td><td>LL Road Frame - Black, 44</td><td>Road Frames</td><td>337.2200</td></tr><tr><td>737</td><td>LL Road Frame - Black, 48</td><td>Road Frames</td><td>337.2200</td></tr><tr><td>738</td><td>LL Road Frame - Black, 52</td><td>Road Frames</td><td>337.2200</td></tr><tr><td>908</td><td>LL Mountain Seat/Saddle</td><td>Saddles</td><td>27.1200</td></tr><tr><td>909</td><td>ML Mountain Seat/Saddle</td><td>Saddles</td><td>39.1400</td></tr><tr><td>910</td><td>HL Mountain Seat/Saddle</td><td>Saddles</td><td>52.6400</td></tr><tr><td>911</td><td>LL Road Seat/Saddle</td><td>Saddles</td><td>27.1200</td></tr><tr><td>912</td><td>ML Road Seat/Saddle</td><td>Saddles</td><td>39.1400</td></tr><tr><td>913</td><td>HL Road Seat/Saddle</td><td>Saddles</td><td>52.6400</td></tr><tr><td>914</td><td>LL Touring Seat/Saddle</td><td>Saddles</td><td>27.1200</td></tr><tr><td>915</td><td>ML Touring Seat/Saddle</td><td>Saddles</td><td>39.1400</td></tr><tr><td>916</td><td>HL Touring Seat/Saddle</td><td>Saddles</td><td>52.6400</td></tr><tr><td>895</td><td>LL Touring Frame - Blue, 50</td><td>Touring Frames</td><td>333.4200</td></tr><tr><td>896</td><td>LL Touring Frame - Blue, 54</td><td>Touring Frames</td><td>333.4200</td></tr><tr><td>897</td><td>LL Touring Frame - Blue, 58</td><td>Touring Frames</td><td>333.4200</td></tr><tr><td>898</td><td>LL Touring Frame - Blue, 62</td><td>Touring Frames</td><td>333.4200</td></tr><tr><td>899</td><td>LL Touring Frame - Yellow, 44</td><td>Touring Frames</td><td>333.4200</td></tr><tr><td>900</td><td>LL Touring Frame - Yellow, 50</td><td>Touring Frames</td><td>333.4200</td></tr><tr><td>901</td><td>LL Touring Frame - Yellow, 54</td><td>Touring Frames</td><td>333.4200</td></tr><tr><td>902</td><td>LL Touring Frame - Yellow, 58</td><td>Touring Frames</td><td>333.4200</td></tr><tr><td>903</td><td>LL Touring Frame - Blue, 44</td><td>Touring Frames</td><td>333.4200</td></tr><tr><td>885</td><td>HL Touring Frame - Yellow, 60</td><td>Touring Frames</td><td>1003.9100</td></tr><tr><td>886</td><td>LL Touring Frame - Yellow, 62</td><td>Touring Frames</td><td>333.4200</td></tr><tr><td>887</td><td>HL Touring Frame - Yellow, 46</td><td>Touring Frames</td><td>1003.9100</td></tr><tr><td>888</td><td>HL Touring Frame - Yellow, 50</td><td>Touring Frames</td><td>1003.9100</td></tr><tr><td>889</td><td>HL Touring Frame - Yellow, 54</td><td>Touring Frames</td><td>1003.9100</td></tr><tr><td>890</td><td>HL Touring Frame - Blue, 46</td><td>Touring Frames</td><td>1003.9100</td></tr><tr><td>891</td><td>HL Touring Frame - Blue, 50</td><td>Touring Frames</td><td>1003.9100</td></tr><tr><td>892</td><td>HL Touring Frame - Blue, 54</td><td>Touring Frames</td><td>1003.9100</td></tr><tr><td>893</td><td>HL Touring Frame - Blue, 60</td><td>Touring Frames</td><td>1003.9100</td></tr><tr><td>823</td><td>LL Mountain Rear Wheel</td><td>Wheels</td><td>87.7450</td></tr><tr><td>824</td><td>ML Mountain Rear Wheel</td><td>Wheels</td><td>236.0250</td></tr><tr><td>825</td><td>HL Mountain Rear Wheel</td><td>Wheels</td><td>327.2150</td></tr><tr><td>826</td><td>LL Road Rear Wheel</td><td>Wheels</td><td>112.5650</td></tr><tr><td>827</td><td>ML Road Rear Wheel</td><td>Wheels</td><td>275.3850</td></tr><tr><td>828</td><td>HL Road Rear Wheel</td><td>Wheels</td><td>357.0600</td></tr><tr><td>829</td><td>Touring Rear Wheel</td><td>Wheels</td><td>245.0100</td></tr><tr><td>815</td><td>LL Mountain Front Wheel</td><td>Wheels</td><td>60.7450</td></tr><tr><td>816</td><td>ML Mountain Front Wheel</td><td>Wheels</td><td>209.0250</td></tr><tr><td>817</td><td>HL Mountain Front Wheel</td><td>Wheels</td><td>300.2150</td></tr><tr><td>818</td><td>LL Road Front Wheel</td><td>Wheels</td><td>85.5650</td></tr><tr><td>819</td><td>ML Road Front Wheel</td><td>Wheels</td><td>248.3850</td></tr><tr><td>820</td><td>HL Road Front Wheel</td><td>Wheels</td><td>330.0600</td></tr><tr><td>821</td><td>Touring Front Wheel</td><td>Wheels</td><td>218.0100</td></tr><tr><td>855</td><td>Men's Bib-Shorts, S</td><td>Bib-Shorts</td><td>89.9900</td></tr><tr><td>856</td><td>Men's Bib-Shorts, M</td><td>Bib-Shorts</td><td>89.9900</td></tr><tr><td>857</td><td>Men's Bib-Shorts, L</td><td>Bib-Shorts</td><td>89.9900</td></tr><tr><td>712</td><td>AWC Logo Cap</td><td>Caps</td><td>8.9900</td></tr><tr><td>858</td><td>Half-Finger Gloves, S</td><td>Gloves</td><td>24.4900</td></tr><tr><td>859</td><td>Half-Finger Gloves, M</td><td>Gloves</td><td>24.4900</td></tr><tr><td>860</td><td>Half-Finger Gloves, L</td><td>Gloves</td><td>24.4900</td></tr><tr><td>861</td><td>Full-Finger Gloves, S</td><td>Gloves</td><td>37.9900</td></tr><tr><td>862</td><td>Full-Finger Gloves, M</td><td>Gloves</td><td>37.9900</td></tr><tr><td>863</td><td>Full-Finger Gloves, L</td><td>Gloves</td><td>37.9900</td></tr><tr><td>713</td><td>Long-Sleeve Logo Jersey, S</td><td>Jerseys</td><td>49.9900</td></tr><tr><td>714</td><td>Long-Sleeve Logo Jersey, M</td><td>Jerseys</td><td>49.9900</td></tr><tr><td>715</td><td>Long-Sleeve Logo Jersey, L</td><td>Jerseys</td><td>49.9900</td></tr><tr><td>716</td><td>Long-Sleeve Logo Jersey, XL</td><td>Jerseys</td><td>49.9900</td></tr><tr><td>881</td><td>Short-Sleeve Classic Jersey, S</td><td>Jerseys</td><td>53.9900</td></tr><tr><td>882</td><td>Short-Sleeve Classic Jersey, M</td><td>Jerseys</td><td>53.9900</td></tr><tr><td>883</td><td>Short-Sleeve Classic Jersey, L</td><td>Jerseys</td><td>53.9900</td></tr><tr><td>884</td><td>Short-Sleeve Classic Jersey, XL</td><td>Jerseys</td><td>53.9900</td></tr><tr><td>867</td><td>Women's Mountain Shorts, S</td><td>Shorts</td><td>69.9900</td></tr><tr><td>868</td><td>Women's Mountain Shorts, M</td><td>Shorts</td><td>69.9900</td></tr><tr><td>869</td><td>Women's Mountain Shorts, L</td><td>Shorts</td><td>69.9900</td></tr><tr><td>841</td><td>Men's Sports Shorts, S</td><td>Shorts</td><td>59.9900</td></tr><tr><td>849</td><td>Men's Sports Shorts, M</td><td>Shorts</td><td>59.9900</td></tr><tr><td>850</td><td>Men's Sports Shorts, L</td><td>Shorts</td><td>59.9900</td></tr><tr><td>851</td><td>Men's Sports Shorts, XL</td><td>Shorts</td><td>59.9900</td></tr><tr><td>709</td><td>Mountain Bike Socks, M</td><td>Socks</td><td>9.5000</td></tr><tr><td>710</td><td>Mountain Bike Socks, L</td><td>Socks</td><td>9.5000</td></tr><tr><td>874</td><td>Racing Socks, M</td><td>Socks</td><td>8.9900</td></tr><tr><td>875</td><td>Racing Socks, L</td><td>Socks</td><td>8.9900</td></tr><tr><td>852</td><td>Women's Tights, S</td><td>Tights</td><td>74.9900</td></tr><tr><td>853</td><td>Women's Tights, M</td><td>Tights</td><td>74.9900</td></tr><tr><td>854</td><td>Women's Tights, L</td><td>Tights</td><td>74.9900</td></tr><tr><td>864</td><td>Classic Vest, S</td><td>Vests</td><td>63.5000</td></tr><tr><td>865</td><td>Classic Vest, M</td><td>Vests</td><td>63.5000</td></tr><tr><td>866</td><td>Classic Vest, L</td><td>Vests</td><td>63.5000</td></tr><tr><td>876</td><td>Hitch Rack - 4-Bike</td><td>Bike Racks</td><td>120.0000</td></tr><tr><td>879</td><td>All-Purpose Bike Stand</td><td>Bike Stands</td><td>159.0000</td></tr><tr><td>870</td><td>Water Bottle - 30 oz.</td><td>Bottles and Cages</td><td>4.9900</td></tr><tr><td>871</td><td>Mountain Bottle Cage</td><td>Bottles and Cages</td><td>9.9900</td></tr><tr><td>872</td><td>Road Bottle Cage</td><td>Bottles and Cages</td><td>8.9900</td></tr><tr><td>877</td><td>Bike Wash - Dissolver</td><td>Cleaners</td><td>7.9500</td></tr><tr><td>878</td><td>Fender Set - Mountain</td><td>Fenders</td><td>21.9800</td></tr><tr><td>711</td><td>Sport-100 Helmet, Blue</td><td>Helmets</td><td>34.9900</td></tr><tr><td>707</td><td>Sport-100 Helmet, Red</td><td>Helmets</td><td>34.9900</td></tr><tr><td>708</td><td>Sport-100 Helmet, Black</td><td>Helmets</td><td>34.9900</td></tr><tr><td>880</td><td>Hydration Pack - 70 oz.</td><td>Hydration Packs</td><td>54.9900</td></tr><tr><td>846</td><td>Taillights - Battery-Powered</td><td>Lights</td><td>13.9900</td></tr><tr><td>847</td><td>Headlights - Dual-Beam</td><td>Lights</td><td>34.9900</td></tr><tr><td>848</td><td>Headlights - Weatherproof</td><td>Lights</td><td>44.9900</td></tr><tr><td>843</td><td>Cable Lock</td><td>Locks</td><td>25.0000</td></tr><tr><td>842</td><td>Touring-Panniers, Large</td><td>Panniers</td><td>125.0000</td></tr><tr><td>844</td><td>Minipump</td><td>Pumps</td><td>19.9900</td></tr><tr><td>845</td><td>Mountain Pump</td><td>Pumps</td><td>24.9900</td></tr><tr><td>873</td><td>Patch Kit/8 Patches</td><td>Tires and Tubes</td><td>2.2900</td></tr><tr><td>921</td><td>Mountain Tire Tube</td><td>Tires and Tubes</td><td>4.9900</td></tr><tr><td>922</td><td>Road Tire Tube</td><td>Tires and Tubes</td><td>3.9900</td></tr><tr><td>923</td><td>Touring Tire Tube</td><td>Tires and Tubes</td><td>4.9900</td></tr><tr><td>928</td><td>LL Mountain Tire</td><td>Tires and Tubes</td><td>24.9900</td></tr><tr><td>929</td><td>ML Mountain Tire</td><td>Tires and Tubes</td><td>29.9900</td></tr><tr><td>930</td><td>HL Mountain Tire</td><td>Tires and Tubes</td><td>35.0000</td></tr><tr><td>931</td><td>LL Road Tire</td><td>Tires and Tubes</td><td>21.4900</td></tr><tr><td>932</td><td>ML Road Tire</td><td>Tires and Tubes</td><td>24.9900</td></tr><tr><td>933</td><td>HL Road Tire</td><td>Tires and Tubes</td><td>32.6000</td></tr><tr><td>934</td><td>Touring Tire</td><td>Tires and Tubes</td><td>28.9900</td></tr></tbody></table></div>"
      ]
     },
     "metadata": {
      "application/vnd.databricks.v1+output": {
       "addedWidgets": {},
       "aggData": [],
       "aggError": "",
       "aggOverflow": false,
       "aggSchema": [],
       "aggSeriesLimitReached": false,
       "aggType": "",
       "arguments": {},
       "columnCustomDisplayInfos": {},
       "data": [
        [
         "771",
         "Mountain-100 Silver, 38",
         "Mountain Bikes",
         "3059.991"
        ],
        [
         "772",
         "Mountain-100 Silver, 42",
         "Mountain Bikes",
         "3399.9900"
        ],
        [
         "773",
         "Mountain-100 Silver, 44",
         "Mountain Bikes",
         "3399.9900"
        ],
        [
         "774",
         "Mountain-100 Silver, 48",
         "Mountain Bikes",
         "3399.9900"
        ],
        [
         "775",
         "Mountain-100 Black, 38",
         "Mountain Bikes",
         "3374.9900"
        ],
        [
         "776",
         "Mountain-100 Black, 42",
         "Mountain Bikes",
         "3374.9900"
        ],
        [
         "777",
         "Mountain-100 Black, 44",
         "Mountain Bikes",
         "3374.9900"
        ],
        [
         "778",
         "Mountain-100 Black, 48",
         "Mountain Bikes",
         "3374.9900"
        ],
        [
         "779",
         "Mountain-200 Silver, 38",
         "Mountain Bikes",
         "2319.9900"
        ],
        [
         "780",
         "Mountain-200 Silver, 42",
         "Mountain Bikes",
         "2319.9900"
        ],
        [
         "781",
         "Mountain-200 Silver, 46",
         "Mountain Bikes",
         "2319.9900"
        ],
        [
         "782",
         "Mountain-200 Black, 38",
         "Mountain Bikes",
         "2294.9900"
        ],
        [
         "783",
         "Mountain-200 Black, 42",
         "Mountain Bikes",
         "2294.9900"
        ],
        [
         "784",
         "Mountain-200 Black, 46",
         "Mountain Bikes",
         "2294.9900"
        ],
        [
         "785",
         "Mountain-300 Black, 38",
         "Mountain Bikes",
         "1079.9900"
        ],
        [
         "786",
         "Mountain-300 Black, 40",
         "Mountain Bikes",
         "1079.9900"
        ],
        [
         "787",
         "Mountain-300 Black, 44",
         "Mountain Bikes",
         "1079.9900"
        ],
        [
         "788",
         "Mountain-300 Black, 48",
         "Mountain Bikes",
         "1079.9900"
        ],
        [
         "980",
         "Mountain-400-W Silver, 38",
         "Mountain Bikes",
         "769.4900"
        ],
        [
         "981",
         "Mountain-400-W Silver, 40",
         "Mountain Bikes",
         "769.4900"
        ],
        [
         "982",
         "Mountain-400-W Silver, 42",
         "Mountain Bikes",
         "769.4900"
        ],
        [
         "983",
         "Mountain-400-W Silver, 46",
         "Mountain Bikes",
         "769.4900"
        ],
        [
         "984",
         "Mountain-500 Silver, 40",
         "Mountain Bikes",
         "564.9900"
        ],
        [
         "985",
         "Mountain-500 Silver, 42",
         "Mountain Bikes",
         "564.9900"
        ],
        [
         "986",
         "Mountain-500 Silver, 44",
         "Mountain Bikes",
         "564.9900"
        ],
        [
         "987",
         "Mountain-500 Silver, 48",
         "Mountain Bikes",
         "564.9900"
        ],
        [
         "988",
         "Mountain-500 Silver, 52",
         "Mountain Bikes",
         "564.9900"
        ],
        [
         "989",
         "Mountain-500 Black, 40",
         "Mountain Bikes",
         "539.9900"
        ],
        [
         "990",
         "Mountain-500 Black, 42",
         "Mountain Bikes",
         "539.9900"
        ],
        [
         "991",
         "Mountain-500 Black, 44",
         "Mountain Bikes",
         "539.9900"
        ],
        [
         "992",
         "Mountain-500 Black, 48",
         "Mountain Bikes",
         "539.9900"
        ],
        [
         "993",
         "Mountain-500 Black, 52",
         "Mountain Bikes",
         "539.9900"
        ],
        [
         "973",
         "Road-350-W Yellow, 40",
         "Road Bikes",
         "1700.9900"
        ],
        [
         "974",
         "Road-350-W Yellow, 42",
         "Road Bikes",
         "1700.9900"
        ],
        [
         "975",
         "Road-350-W Yellow, 44",
         "Road Bikes",
         "1700.9900"
        ],
        [
         "976",
         "Road-350-W Yellow, 48",
         "Road Bikes",
         "1700.9900"
        ],
        [
         "977",
         "Road-750 Black, 58",
         "Road Bikes",
         "539.9900"
        ],
        [
         "997",
         "Road-750 Black, 44",
         "Road Bikes",
         "539.9900"
        ],
        [
         "998",
         "Road-750 Black, 48",
         "Road Bikes",
         "539.9900"
        ],
        [
         "999",
         "Road-750 Black, 52",
         "Road Bikes",
         "539.9900"
        ],
        [
         "789",
         "Road-250 Red, 44",
         "Road Bikes",
         "2443.3500"
        ],
        [
         "790",
         "Road-250 Red, 48",
         "Road Bikes",
         "2443.3500"
        ],
        [
         "791",
         "Road-250 Red, 52",
         "Road Bikes",
         "2443.3500"
        ],
        [
         "792",
         "Road-250 Red, 58",
         "Road Bikes",
         "2443.3500"
        ],
        [
         "793",
         "Road-250 Black, 44",
         "Road Bikes",
         "2443.3500"
        ],
        [
         "794",
         "Road-250 Black, 48",
         "Road Bikes",
         "2443.3500"
        ],
        [
         "795",
         "Road-250 Black, 52",
         "Road Bikes",
         "2443.3500"
        ],
        [
         "796",
         "Road-250 Black, 58",
         "Road Bikes",
         "2443.3500"
        ],
        [
         "797",
         "Road-550-W Yellow, 38",
         "Road Bikes",
         "1120.4900"
        ],
        [
         "798",
         "Road-550-W Yellow, 40",
         "Road Bikes",
         "1120.4900"
        ],
        [
         "799",
         "Road-550-W Yellow, 42",
         "Road Bikes",
         "1120.4900"
        ],
        [
         "800",
         "Road-550-W Yellow, 44",
         "Road Bikes",
         "1120.4900"
        ],
        [
         "801",
         "Road-550-W Yellow, 48",
         "Road Bikes",
         "1120.4900"
        ],
        [
         "749",
         "Road-150 Red, 62",
         "Road Bikes",
         "3578.2700"
        ],
        [
         "750",
         "Road-150 Red, 44",
         "Road Bikes",
         "3578.2700"
        ],
        [
         "751",
         "Road-150 Red, 48",
         "Road Bikes",
         "3578.2700"
        ],
        [
         "752",
         "Road-150 Red, 52",
         "Road Bikes",
         "3578.2700"
        ],
        [
         "753",
         "Road-150 Red, 56",
         "Road Bikes",
         "3578.2700"
        ],
        [
         "754",
         "Road-450 Red, 58",
         "Road Bikes",
         "1457.9900"
        ],
        [
         "755",
         "Road-450 Red, 60",
         "Road Bikes",
         "1457.9900"
        ],
        [
         "756",
         "Road-450 Red, 44",
         "Road Bikes",
         "1457.9900"
        ],
        [
         "757",
         "Road-450 Red, 48",
         "Road Bikes",
         "1457.9900"
        ],
        [
         "758",
         "Road-450 Red, 52",
         "Road Bikes",
         "1457.9900"
        ],
        [
         "759",
         "Road-650 Red, 58",
         "Road Bikes",
         "782.9900"
        ],
        [
         "760",
         "Road-650 Red, 60",
         "Road Bikes",
         "782.9900"
        ],
        [
         "761",
         "Road-650 Red, 62",
         "Road Bikes",
         "782.9900"
        ],
        [
         "762",
         "Road-650 Red, 44",
         "Road Bikes",
         "782.9900"
        ],
        [
         "763",
         "Road-650 Red, 48",
         "Road Bikes",
         "782.9900"
        ],
        [
         "764",
         "Road-650 Red, 52",
         "Road Bikes",
         "782.9900"
        ],
        [
         "765",
         "Road-650 Black, 58",
         "Road Bikes",
         "782.9900"
        ],
        [
         "766",
         "Road-650 Black, 60",
         "Road Bikes",
         "782.9900"
        ],
        [
         "767",
         "Road-650 Black, 62",
         "Road Bikes",
         "782.9900"
        ],
        [
         "768",
         "Road-650 Black, 44",
         "Road Bikes",
         "782.9900"
        ],
        [
         "769",
         "Road-650 Black, 48",
         "Road Bikes",
         "782.9900"
        ],
        [
         "770",
         "Road-650 Black, 52",
         "Road Bikes",
         "782.9900"
        ],
        [
         "978",
         "Touring-3000 Blue, 44",
         "Touring Bikes",
         "742.3500"
        ],
        [
         "979",
         "Touring-3000 Blue, 50",
         "Touring Bikes",
         "742.3500"
        ],
        [
         "953",
         "Touring-2000 Blue, 60",
         "Touring Bikes",
         "1214.8500"
        ],
        [
         "954",
         "Touring-1000 Yellow, 46",
         "Touring Bikes",
         "2384.0700"
        ],
        [
         "955",
         "Touring-1000 Yellow, 50",
         "Touring Bikes",
         "2384.0700"
        ],
        [
         "956",
         "Touring-1000 Yellow, 54",
         "Touring Bikes",
         "2384.0700"
        ],
        [
         "957",
         "Touring-1000 Yellow, 60",
         "Touring Bikes",
         "2384.0700"
        ],
        [
         "958",
         "Touring-3000 Blue, 54",
         "Touring Bikes",
         "742.3500"
        ],
        [
         "959",
         "Touring-3000 Blue, 58",
         "Touring Bikes",
         "742.3500"
        ],
        [
         "960",
         "Touring-3000 Blue, 62",
         "Touring Bikes",
         "742.3500"
        ],
        [
         "961",
         "Touring-3000 Yellow, 44",
         "Touring Bikes",
         "742.3500"
        ],
        [
         "962",
         "Touring-3000 Yellow, 50",
         "Touring Bikes",
         "742.3500"
        ],
        [
         "963",
         "Touring-3000 Yellow, 54",
         "Touring Bikes",
         "742.3500"
        ],
        [
         "964",
         "Touring-3000 Yellow, 58",
         "Touring Bikes",
         "742.3500"
        ],
        [
         "965",
         "Touring-3000 Yellow, 62",
         "Touring Bikes",
         "742.3500"
        ],
        [
         "966",
         "Touring-1000 Blue, 46",
         "Touring Bikes",
         "2384.0700"
        ],
        [
         "967",
         "Touring-1000 Blue, 50",
         "Touring Bikes",
         "2384.0700"
        ],
        [
         "968",
         "Touring-1000 Blue, 54",
         "Touring Bikes",
         "2384.0700"
        ],
        [
         "969",
         "Touring-1000 Blue, 60",
         "Touring Bikes",
         "2384.0700"
        ],
        [
         "970",
         "Touring-2000 Blue, 46",
         "Touring Bikes",
         "1214.8500"
        ],
        [
         "971",
         "Touring-2000 Blue, 50",
         "Touring Bikes",
         "1214.8500"
        ],
        [
         "972",
         "Touring-2000 Blue, 54",
         "Touring Bikes",
         "1214.8500"
        ],
        [
         "946",
         "LL Touring Handlebars",
         "Handlebars",
         "46.0900"
        ],
        [
         "947",
         "HL Touring Handlebars",
         "Handlebars",
         "91.5700"
        ],
        [
         "808",
         "LL Mountain Handlebars",
         "Handlebars",
         "44.5400"
        ],
        [
         "809",
         "ML Mountain Handlebars",
         "Handlebars",
         "61.9200"
        ],
        [
         "810",
         "HL Mountain Handlebars",
         "Handlebars",
         "120.2700"
        ],
        [
         "811",
         "LL Road Handlebars",
         "Handlebars",
         "44.5400"
        ],
        [
         "812",
         "ML Road Handlebars",
         "Handlebars",
         "61.9200"
        ],
        [
         "813",
         "HL Road Handlebars",
         "Handlebars",
         "120.2700"
        ],
        [
         "994",
         "LL Bottom Bracket",
         "Bottom Brackets",
         "53.9900"
        ],
        [
         "995",
         "ML Bottom Bracket",
         "Bottom Brackets",
         "101.2400"
        ],
        [
         "996",
         "HL Bottom Bracket",
         "Bottom Brackets",
         "121.4900"
        ],
        [
         "948",
         "Front Brakes",
         "Brakes",
         "106.5000"
        ],
        [
         "907",
         "Rear Brakes",
         "Brakes",
         "106.5000"
        ],
        [
         "952",
         "Chain",
         "Chains",
         "20.2400"
        ],
        [
         "949",
         "LL Crankset",
         "Cranksets",
         "175.4900"
        ],
        [
         "950",
         "ML Crankset",
         "Cranksets",
         "256.4900"
        ],
        [
         "951",
         "HL Crankset",
         "Cranksets",
         "404.9900"
        ],
        [
         "945",
         "Front Derailleur",
         "Derailleurs",
         "91.4900"
        ],
        [
         "894",
         "Rear Derailleur",
         "Derailleurs",
         "121.4600"
        ],
        [
         "802",
         "LL Fork",
         "Forks",
         "148.2200"
        ],
        [
         "803",
         "ML Fork",
         "Forks",
         "175.4900"
        ],
        [
         "804",
         "HL Fork",
         "Forks",
         "229.4900"
        ],
        [
         "805",
         "LL Headset",
         "Headsets",
         "34.2000"
        ],
        [
         "806",
         "ML Headset",
         "Headsets",
         "102.2900"
        ],
        [
         "807",
         "HL Headset",
         "Headsets",
         "124.7300"
        ],
        [
         "739",
         "HL Mountain Frame - Silver, 42",
         "Mountain Frames",
         "1364.5000"
        ],
        [
         "740",
         "HL Mountain Frame - Silver, 44",
         "Mountain Frames",
         "1364.5000"
        ],
        [
         "741",
         "HL Mountain Frame - Silver, 48",
         "Mountain Frames",
         "1364.5000"
        ],
        [
         "742",
         "HL Mountain Frame - Silver, 46",
         "Mountain Frames",
         "1364.5000"
        ],
        [
         "743",
         "HL Mountain Frame - Black, 42",
         "Mountain Frames",
         "1349.6000"
        ],
        [
         "744",
         "HL Mountain Frame - Black, 44",
         "Mountain Frames",
         "1349.6000"
        ],
        [
         "745",
         "HL Mountain Frame - Black, 48",
         "Mountain Frames",
         "1349.6000"
        ],
        [
         "746",
         "HL Mountain Frame - Black, 46",
         "Mountain Frames",
         "1349.6000"
        ],
        [
         "747",
         "HL Mountain Frame - Black, 38",
         "Mountain Frames",
         "1349.6000"
        ],
        [
         "748",
         "HL Mountain Frame - Silver, 38",
         "Mountain Frames",
         "1364.5000"
        ],
        [
         "814",
         "ML Mountain Frame - Black, 38",
         "Mountain Frames",
         "348.7600"
        ],
        [
         "830",
         "ML Mountain Frame - Black, 40",
         "Mountain Frames",
         "348.7600"
        ],
        [
         "831",
         "ML Mountain Frame - Black, 44",
         "Mountain Frames",
         "348.7600"
        ],
        [
         "832",
         "ML Mountain Frame - Black, 48",
         "Mountain Frames",
         "348.7600"
        ],
        [
         "924",
         "LL Mountain Frame - Black, 42",
         "Mountain Frames",
         "249.7900"
        ],
        [
         "925",
         "LL Mountain Frame - Black, 44",
         "Mountain Frames",
         "249.7900"
        ],
        [
         "926",
         "LL Mountain Frame - Black, 48",
         "Mountain Frames",
         "249.7900"
        ],
        [
         "927",
         "LL Mountain Frame - Black, 52",
         "Mountain Frames",
         "249.7900"
        ],
        [
         "917",
         "LL Mountain Frame - Silver, 42",
         "Mountain Frames",
         "264.0500"
        ],
        [
         "918",
         "LL Mountain Frame - Silver, 44",
         "Mountain Frames",
         "264.0500"
        ],
        [
         "919",
         "LL Mountain Frame - Silver, 48",
         "Mountain Frames",
         "264.0500"
        ],
        [
         "920",
         "LL Mountain Frame - Silver, 52",
         "Mountain Frames",
         "264.0500"
        ],
        [
         "904",
         "ML Mountain Frame-W - Silver, 40",
         "Mountain Frames",
         "364.0900"
        ],
        [
         "905",
         "ML Mountain Frame-W - Silver, 42",
         "Mountain Frames",
         "364.0900"
        ],
        [
         "906",
         "ML Mountain Frame-W - Silver, 46",
         "Mountain Frames",
         "364.0900"
        ],
        [
         "942",
         "ML Mountain Frame-W - Silver, 38",
         "Mountain Frames",
         "364.0900"
        ],
        [
         "943",
         "LL Mountain Frame - Black, 40",
         "Mountain Frames",
         "249.7900"
        ],
        [
         "944",
         "LL Mountain Frame - Silver, 40",
         "Mountain Frames",
         "264.0500"
        ],
        [
         "935",
         "LL Mountain Pedal",
         "Pedals",
         "40.4900"
        ],
        [
         "936",
         "ML Mountain Pedal",
         "Pedals",
         "62.0900"
        ],
        [
         "937",
         "HL Mountain Pedal",
         "Pedals",
         "80.9900"
        ],
        [
         "938",
         "LL Road Pedal",
         "Pedals",
         "40.4900"
        ],
        [
         "939",
         "ML Road Pedal",
         "Pedals",
         "62.0900"
        ],
        [
         "940",
         "HL Road Pedal",
         "Pedals",
         "80.9900"
        ],
        [
         "941",
         "Touring Pedal",
         "Pedals",
         "80.9900"
        ],
        [
         "833",
         "ML Road Frame-W - Yellow, 40",
         "Road Frames",
         "594.8300"
        ],
        [
         "834",
         "ML Road Frame-W - Yellow, 42",
         "Road Frames",
         "594.8300"
        ],
        [
         "835",
         "ML Road Frame-W - Yellow, 44",
         "Road Frames",
         "594.8300"
        ],
        [
         "836",
         "ML Road Frame-W - Yellow, 48",
         "Road Frames",
         "594.8300"
        ],
        [
         "837",
         "HL Road Frame - Black, 62",
         "Road Frames",
         "1431.5000"
        ],
        [
         "838",
         "HL Road Frame - Black, 44",
         "Road Frames",
         "1431.5000"
        ],
        [
         "839",
         "HL Road Frame - Black, 48",
         "Road Frames",
         "1431.5000"
        ],
        [
         "840",
         "HL Road Frame - Black, 52",
         "Road Frames",
         "1431.5000"
        ],
        [
         "822",
         "ML Road Frame-W - Yellow, 38",
         "Road Frames",
         "594.8300"
        ],
        [
         "680",
         "HL Road Frame - Black, 58",
         "Road Frames",
         "1431.5000"
        ],
        [
         "706",
         "HL Road Frame - Red, 58",
         "Road Frames",
         "1431.5000"
        ],
        [
         "717",
         "HL Road Frame - Red, 62",
         "Road Frames",
         "1431.5000"
        ],
        [
         "718",
         "HL Road Frame - Red, 44",
         "Road Frames",
         "1431.5000"
        ],
        [
         "719",
         "HL Road Frame - Red, 48",
         "Road Frames",
         "1431.5000"
        ],
        [
         "720",
         "HL Road Frame - Red, 52",
         "Road Frames",
         "1431.5000"
        ],
        [
         "721",
         "HL Road Frame - Red, 56",
         "Road Frames",
         "1431.5000"
        ],
        [
         "722",
         "LL Road Frame - Black, 58",
         "Road Frames",
         "337.2200"
        ],
        [
         "723",
         "LL Road Frame - Black, 60",
         "Road Frames",
         "337.2200"
        ],
        [
         "724",
         "LL Road Frame - Black, 62",
         "Road Frames",
         "337.2200"
        ],
        [
         "725",
         "LL Road Frame - Red, 44",
         "Road Frames",
         "337.2200"
        ],
        [
         "726",
         "LL Road Frame - Red, 48",
         "Road Frames",
         "337.2200"
        ],
        [
         "727",
         "LL Road Frame - Red, 52",
         "Road Frames",
         "337.2200"
        ],
        [
         "728",
         "LL Road Frame - Red, 58",
         "Road Frames",
         "337.2200"
        ],
        [
         "729",
         "LL Road Frame - Red, 60",
         "Road Frames",
         "337.2200"
        ],
        [
         "730",
         "LL Road Frame - Red, 62",
         "Road Frames",
         "337.2200"
        ],
        [
         "731",
         "ML Road Frame - Red, 44",
         "Road Frames",
         "594.8300"
        ],
        [
         "732",
         "ML Road Frame - Red, 48",
         "Road Frames",
         "594.8300"
        ],
        [
         "733",
         "ML Road Frame - Red, 52",
         "Road Frames",
         "594.8300"
        ],
        [
         "734",
         "ML Road Frame - Red, 58",
         "Road Frames",
         "594.8300"
        ],
        [
         "735",
         "ML Road Frame - Red, 60",
         "Road Frames",
         "594.8300"
        ],
        [
         "736",
         "LL Road Frame - Black, 44",
         "Road Frames",
         "337.2200"
        ],
        [
         "737",
         "LL Road Frame - Black, 48",
         "Road Frames",
         "337.2200"
        ],
        [
         "738",
         "LL Road Frame - Black, 52",
         "Road Frames",
         "337.2200"
        ],
        [
         "908",
         "LL Mountain Seat/Saddle",
         "Saddles",
         "27.1200"
        ],
        [
         "909",
         "ML Mountain Seat/Saddle",
         "Saddles",
         "39.1400"
        ],
        [
         "910",
         "HL Mountain Seat/Saddle",
         "Saddles",
         "52.6400"
        ],
        [
         "911",
         "LL Road Seat/Saddle",
         "Saddles",
         "27.1200"
        ],
        [
         "912",
         "ML Road Seat/Saddle",
         "Saddles",
         "39.1400"
        ],
        [
         "913",
         "HL Road Seat/Saddle",
         "Saddles",
         "52.6400"
        ],
        [
         "914",
         "LL Touring Seat/Saddle",
         "Saddles",
         "27.1200"
        ],
        [
         "915",
         "ML Touring Seat/Saddle",
         "Saddles",
         "39.1400"
        ],
        [
         "916",
         "HL Touring Seat/Saddle",
         "Saddles",
         "52.6400"
        ],
        [
         "895",
         "LL Touring Frame - Blue, 50",
         "Touring Frames",
         "333.4200"
        ],
        [
         "896",
         "LL Touring Frame - Blue, 54",
         "Touring Frames",
         "333.4200"
        ],
        [
         "897",
         "LL Touring Frame - Blue, 58",
         "Touring Frames",
         "333.4200"
        ],
        [
         "898",
         "LL Touring Frame - Blue, 62",
         "Touring Frames",
         "333.4200"
        ],
        [
         "899",
         "LL Touring Frame - Yellow, 44",
         "Touring Frames",
         "333.4200"
        ],
        [
         "900",
         "LL Touring Frame - Yellow, 50",
         "Touring Frames",
         "333.4200"
        ],
        [
         "901",
         "LL Touring Frame - Yellow, 54",
         "Touring Frames",
         "333.4200"
        ],
        [
         "902",
         "LL Touring Frame - Yellow, 58",
         "Touring Frames",
         "333.4200"
        ],
        [
         "903",
         "LL Touring Frame - Blue, 44",
         "Touring Frames",
         "333.4200"
        ],
        [
         "885",
         "HL Touring Frame - Yellow, 60",
         "Touring Frames",
         "1003.9100"
        ],
        [
         "886",
         "LL Touring Frame - Yellow, 62",
         "Touring Frames",
         "333.4200"
        ],
        [
         "887",
         "HL Touring Frame - Yellow, 46",
         "Touring Frames",
         "1003.9100"
        ],
        [
         "888",
         "HL Touring Frame - Yellow, 50",
         "Touring Frames",
         "1003.9100"
        ],
        [
         "889",
         "HL Touring Frame - Yellow, 54",
         "Touring Frames",
         "1003.9100"
        ],
        [
         "890",
         "HL Touring Frame - Blue, 46",
         "Touring Frames",
         "1003.9100"
        ],
        [
         "891",
         "HL Touring Frame - Blue, 50",
         "Touring Frames",
         "1003.9100"
        ],
        [
         "892",
         "HL Touring Frame - Blue, 54",
         "Touring Frames",
         "1003.9100"
        ],
        [
         "893",
         "HL Touring Frame - Blue, 60",
         "Touring Frames",
         "1003.9100"
        ],
        [
         "823",
         "LL Mountain Rear Wheel",
         "Wheels",
         "87.7450"
        ],
        [
         "824",
         "ML Mountain Rear Wheel",
         "Wheels",
         "236.0250"
        ],
        [
         "825",
         "HL Mountain Rear Wheel",
         "Wheels",
         "327.2150"
        ],
        [
         "826",
         "LL Road Rear Wheel",
         "Wheels",
         "112.5650"
        ],
        [
         "827",
         "ML Road Rear Wheel",
         "Wheels",
         "275.3850"
        ],
        [
         "828",
         "HL Road Rear Wheel",
         "Wheels",
         "357.0600"
        ],
        [
         "829",
         "Touring Rear Wheel",
         "Wheels",
         "245.0100"
        ],
        [
         "815",
         "LL Mountain Front Wheel",
         "Wheels",
         "60.7450"
        ],
        [
         "816",
         "ML Mountain Front Wheel",
         "Wheels",
         "209.0250"
        ],
        [
         "817",
         "HL Mountain Front Wheel",
         "Wheels",
         "300.2150"
        ],
        [
         "818",
         "LL Road Front Wheel",
         "Wheels",
         "85.5650"
        ],
        [
         "819",
         "ML Road Front Wheel",
         "Wheels",
         "248.3850"
        ],
        [
         "820",
         "HL Road Front Wheel",
         "Wheels",
         "330.0600"
        ],
        [
         "821",
         "Touring Front Wheel",
         "Wheels",
         "218.0100"
        ],
        [
         "855",
         "Men's Bib-Shorts, S",
         "Bib-Shorts",
         "89.9900"
        ],
        [
         "856",
         "Men's Bib-Shorts, M",
         "Bib-Shorts",
         "89.9900"
        ],
        [
         "857",
         "Men's Bib-Shorts, L",
         "Bib-Shorts",
         "89.9900"
        ],
        [
         "712",
         "AWC Logo Cap",
         "Caps",
         "8.9900"
        ],
        [
         "858",
         "Half-Finger Gloves, S",
         "Gloves",
         "24.4900"
        ],
        [
         "859",
         "Half-Finger Gloves, M",
         "Gloves",
         "24.4900"
        ],
        [
         "860",
         "Half-Finger Gloves, L",
         "Gloves",
         "24.4900"
        ],
        [
         "861",
         "Full-Finger Gloves, S",
         "Gloves",
         "37.9900"
        ],
        [
         "862",
         "Full-Finger Gloves, M",
         "Gloves",
         "37.9900"
        ],
        [
         "863",
         "Full-Finger Gloves, L",
         "Gloves",
         "37.9900"
        ],
        [
         "713",
         "Long-Sleeve Logo Jersey, S",
         "Jerseys",
         "49.9900"
        ],
        [
         "714",
         "Long-Sleeve Logo Jersey, M",
         "Jerseys",
         "49.9900"
        ],
        [
         "715",
         "Long-Sleeve Logo Jersey, L",
         "Jerseys",
         "49.9900"
        ],
        [
         "716",
         "Long-Sleeve Logo Jersey, XL",
         "Jerseys",
         "49.9900"
        ],
        [
         "881",
         "Short-Sleeve Classic Jersey, S",
         "Jerseys",
         "53.9900"
        ],
        [
         "882",
         "Short-Sleeve Classic Jersey, M",
         "Jerseys",
         "53.9900"
        ],
        [
         "883",
         "Short-Sleeve Classic Jersey, L",
         "Jerseys",
         "53.9900"
        ],
        [
         "884",
         "Short-Sleeve Classic Jersey, XL",
         "Jerseys",
         "53.9900"
        ],
        [
         "867",
         "Women's Mountain Shorts, S",
         "Shorts",
         "69.9900"
        ],
        [
         "868",
         "Women's Mountain Shorts, M",
         "Shorts",
         "69.9900"
        ],
        [
         "869",
         "Women's Mountain Shorts, L",
         "Shorts",
         "69.9900"
        ],
        [
         "841",
         "Men's Sports Shorts, S",
         "Shorts",
         "59.9900"
        ],
        [
         "849",
         "Men's Sports Shorts, M",
         "Shorts",
         "59.9900"
        ],
        [
         "850",
         "Men's Sports Shorts, L",
         "Shorts",
         "59.9900"
        ],
        [
         "851",
         "Men's Sports Shorts, XL",
         "Shorts",
         "59.9900"
        ],
        [
         "709",
         "Mountain Bike Socks, M",
         "Socks",
         "9.5000"
        ],
        [
         "710",
         "Mountain Bike Socks, L",
         "Socks",
         "9.5000"
        ],
        [
         "874",
         "Racing Socks, M",
         "Socks",
         "8.9900"
        ],
        [
         "875",
         "Racing Socks, L",
         "Socks",
         "8.9900"
        ],
        [
         "852",
         "Women's Tights, S",
         "Tights",
         "74.9900"
        ],
        [
         "853",
         "Women's Tights, M",
         "Tights",
         "74.9900"
        ],
        [
         "854",
         "Women's Tights, L",
         "Tights",
         "74.9900"
        ],
        [
         "864",
         "Classic Vest, S",
         "Vests",
         "63.5000"
        ],
        [
         "865",
         "Classic Vest, M",
         "Vests",
         "63.5000"
        ],
        [
         "866",
         "Classic Vest, L",
         "Vests",
         "63.5000"
        ],
        [
         "876",
         "Hitch Rack - 4-Bike",
         "Bike Racks",
         "120.0000"
        ],
        [
         "879",
         "All-Purpose Bike Stand",
         "Bike Stands",
         "159.0000"
        ],
        [
         "870",
         "Water Bottle - 30 oz.",
         "Bottles and Cages",
         "4.9900"
        ],
        [
         "871",
         "Mountain Bottle Cage",
         "Bottles and Cages",
         "9.9900"
        ],
        [
         "872",
         "Road Bottle Cage",
         "Bottles and Cages",
         "8.9900"
        ],
        [
         "877",
         "Bike Wash - Dissolver",
         "Cleaners",
         "7.9500"
        ],
        [
         "878",
         "Fender Set - Mountain",
         "Fenders",
         "21.9800"
        ],
        [
         "711",
         "Sport-100 Helmet, Blue",
         "Helmets",
         "34.9900"
        ],
        [
         "707",
         "Sport-100 Helmet, Red",
         "Helmets",
         "34.9900"
        ],
        [
         "708",
         "Sport-100 Helmet, Black",
         "Helmets",
         "34.9900"
        ],
        [
         "880",
         "Hydration Pack - 70 oz.",
         "Hydration Packs",
         "54.9900"
        ],
        [
         "846",
         "Taillights - Battery-Powered",
         "Lights",
         "13.9900"
        ],
        [
         "847",
         "Headlights - Dual-Beam",
         "Lights",
         "34.9900"
        ],
        [
         "848",
         "Headlights - Weatherproof",
         "Lights",
         "44.9900"
        ],
        [
         "843",
         "Cable Lock",
         "Locks",
         "25.0000"
        ],
        [
         "842",
         "Touring-Panniers, Large",
         "Panniers",
         "125.0000"
        ],
        [
         "844",
         "Minipump",
         "Pumps",
         "19.9900"
        ],
        [
         "845",
         "Mountain Pump",
         "Pumps",
         "24.9900"
        ],
        [
         "873",
         "Patch Kit/8 Patches",
         "Tires and Tubes",
         "2.2900"
        ],
        [
         "921",
         "Mountain Tire Tube",
         "Tires and Tubes",
         "4.9900"
        ],
        [
         "922",
         "Road Tire Tube",
         "Tires and Tubes",
         "3.9900"
        ],
        [
         "923",
         "Touring Tire Tube",
         "Tires and Tubes",
         "4.9900"
        ],
        [
         "928",
         "LL Mountain Tire",
         "Tires and Tubes",
         "24.9900"
        ],
        [
         "929",
         "ML Mountain Tire",
         "Tires and Tubes",
         "29.9900"
        ],
        [
         "930",
         "HL Mountain Tire",
         "Tires and Tubes",
         "35.0000"
        ],
        [
         "931",
         "LL Road Tire",
         "Tires and Tubes",
         "21.4900"
        ],
        [
         "932",
         "ML Road Tire",
         "Tires and Tubes",
         "24.9900"
        ],
        [
         "933",
         "HL Road Tire",
         "Tires and Tubes",
         "32.6000"
        ],
        [
         "934",
         "Touring Tire",
         "Tires and Tubes",
         "28.9900"
        ]
       ],
       "datasetInfos": [],
       "dbfsResultPath": null,
       "isJsonSchema": true,
       "metadata": {
        "dataframeName": "_sqldf",
        "executionCount": 11
       },
       "overflow": false,
       "plotOptions": {
        "customPlotOptions": {},
        "displayType": "table",
        "pivotAggregation": null,
        "pivotColumns": null,
        "xColumns": null,
        "yColumns": null
       },
       "removedWidgets": [],
       "schema": [
        {
         "metadata": "{}",
         "name": "ProductID",
         "type": "\"string\""
        },
        {
         "metadata": "{}",
         "name": "ProductName",
         "type": "\"string\""
        },
        {
         "metadata": "{}",
         "name": "Category",
         "type": "\"string\""
        },
        {
         "metadata": "{}",
         "name": "ListPrice",
         "type": "\"string\""
        }
       ],
       "type": "table"
      }
     },
     "output_type": "display_data"
    }
   ],
   "source": [
    "%sql\n",
    "USE AdventureWorks;\n",
    "SELECT * FROM ProductsExternal;"
   ]
  },
  {
   "cell_type": "code",
   "execution_count": 0,
   "metadata": {
    "application/vnd.databricks.v1+cell": {
     "cellMetadata": {
      "byteLimit": 2048000,
      "rowLimit": 10000
     },
     "inputWidgets": {},
     "nuid": "0b3fd6b5-9d28-4c8b-b45c-9a855bde797f",
     "showTitle": false,
     "title": ""
    }
   },
   "outputs": [
    {
     "output_type": "stream",
     "name": "stdout",
     "output_type": "stream",
     "text": [
      "+----------------------------+-----------------------------------------------------------+-------+\n|col_name                    |data_type                                                  |comment|\n+----------------------------+-----------------------------------------------------------+-------+\n|ProductID                   |string                                                     |NULL   |\n|ProductName                 |string                                                     |NULL   |\n|Category                    |string                                                     |NULL   |\n|ListPrice                   |string                                                     |NULL   |\n|                            |                                                           |       |\n|# Delta Statistics Columns  |                                                           |       |\n|Column Names                |ProductID, ProductName, Category, ListPrice                |       |\n|Column Selection Method     |first-32                                                   |       |\n|                            |                                                           |       |\n|# Detailed Table Information|                                                           |       |\n|Catalog                     |spark_catalog                                              |       |\n|Database                    |AdventureWorks                                             |       |\n|Table                       |ProductsManaged                                            |       |\n|Created Time                |Mon Feb 05 04:02:47 UTC 2024                               |       |\n|Last Access                 |UNKNOWN                                                    |       |\n|Created By                  |Spark 3.4.1                                                |       |\n|Type                        |MANAGED                                                    |       |\n|Location                    |dbfs:/user/hive/warehouse/adventureworks.db/productsmanaged|       |\n|Provider                    |delta                                                      |       |\n|Owner                       |root                                                       |       |\n+----------------------------+-----------------------------------------------------------+-------+\nonly showing top 20 rows\n\n"
     ]
    }
   ],
   "source": [
    "df.write.format(\"delta\").saveAsTable(\"AdventureWorks.ProductsManaged\")\n",
    "spark.sql(\"DESCRIBE EXTENDED AdventureWorks.ProductsManaged\").show(truncate=False)"
   ]
  },
  {
   "cell_type": "code",
   "execution_count": 0,
   "metadata": {
    "application/vnd.databricks.v1+cell": {
     "cellMetadata": {
      "byteLimit": 2048000,
      "implicitDf": true,
      "rowLimit": 10000
     },
     "inputWidgets": {},
     "nuid": "a8563135-e5b7-45ce-8c25-c40c9b349908",
     "showTitle": false,
     "title": ""
    }
   },
   "outputs": [
    {
     "output_type": "display_data",
     "data": {
      "text/html": [
       "<style scoped>\n",
       "  .table-result-container {\n",
       "    max-height: 300px;\n",
       "    overflow: auto;\n",
       "  }\n",
       "  table, th, td {\n",
       "    border: 1px solid black;\n",
       "    border-collapse: collapse;\n",
       "  }\n",
       "  th, td {\n",
       "    padding: 5px;\n",
       "  }\n",
       "  th {\n",
       "    text-align: left;\n",
       "  }\n",
       "</style><div class='table-result-container'><table class='table-result'><thead style='background-color: white'><tr><th>ProductID</th><th>ProductName</th><th>Category</th><th>ListPrice</th></tr></thead><tbody><tr><td>771</td><td>Mountain-100 Silver, 38</td><td>Mountain Bikes</td><td>3399.9900</td></tr><tr><td>772</td><td>Mountain-100 Silver, 42</td><td>Mountain Bikes</td><td>3399.9900</td></tr><tr><td>773</td><td>Mountain-100 Silver, 44</td><td>Mountain Bikes</td><td>3399.9900</td></tr><tr><td>774</td><td>Mountain-100 Silver, 48</td><td>Mountain Bikes</td><td>3399.9900</td></tr><tr><td>775</td><td>Mountain-100 Black, 38</td><td>Mountain Bikes</td><td>3374.9900</td></tr><tr><td>776</td><td>Mountain-100 Black, 42</td><td>Mountain Bikes</td><td>3374.9900</td></tr><tr><td>777</td><td>Mountain-100 Black, 44</td><td>Mountain Bikes</td><td>3374.9900</td></tr><tr><td>778</td><td>Mountain-100 Black, 48</td><td>Mountain Bikes</td><td>3374.9900</td></tr><tr><td>779</td><td>Mountain-200 Silver, 38</td><td>Mountain Bikes</td><td>2319.9900</td></tr><tr><td>780</td><td>Mountain-200 Silver, 42</td><td>Mountain Bikes</td><td>2319.9900</td></tr><tr><td>781</td><td>Mountain-200 Silver, 46</td><td>Mountain Bikes</td><td>2319.9900</td></tr><tr><td>782</td><td>Mountain-200 Black, 38</td><td>Mountain Bikes</td><td>2294.9900</td></tr><tr><td>783</td><td>Mountain-200 Black, 42</td><td>Mountain Bikes</td><td>2294.9900</td></tr><tr><td>784</td><td>Mountain-200 Black, 46</td><td>Mountain Bikes</td><td>2294.9900</td></tr><tr><td>785</td><td>Mountain-300 Black, 38</td><td>Mountain Bikes</td><td>1079.9900</td></tr><tr><td>786</td><td>Mountain-300 Black, 40</td><td>Mountain Bikes</td><td>1079.9900</td></tr><tr><td>787</td><td>Mountain-300 Black, 44</td><td>Mountain Bikes</td><td>1079.9900</td></tr><tr><td>788</td><td>Mountain-300 Black, 48</td><td>Mountain Bikes</td><td>1079.9900</td></tr><tr><td>980</td><td>Mountain-400-W Silver, 38</td><td>Mountain Bikes</td><td>769.4900</td></tr><tr><td>981</td><td>Mountain-400-W Silver, 40</td><td>Mountain Bikes</td><td>769.4900</td></tr><tr><td>982</td><td>Mountain-400-W Silver, 42</td><td>Mountain Bikes</td><td>769.4900</td></tr><tr><td>983</td><td>Mountain-400-W Silver, 46</td><td>Mountain Bikes</td><td>769.4900</td></tr><tr><td>984</td><td>Mountain-500 Silver, 40</td><td>Mountain Bikes</td><td>564.9900</td></tr><tr><td>985</td><td>Mountain-500 Silver, 42</td><td>Mountain Bikes</td><td>564.9900</td></tr><tr><td>986</td><td>Mountain-500 Silver, 44</td><td>Mountain Bikes</td><td>564.9900</td></tr><tr><td>987</td><td>Mountain-500 Silver, 48</td><td>Mountain Bikes</td><td>564.9900</td></tr><tr><td>988</td><td>Mountain-500 Silver, 52</td><td>Mountain Bikes</td><td>564.9900</td></tr><tr><td>989</td><td>Mountain-500 Black, 40</td><td>Mountain Bikes</td><td>539.9900</td></tr><tr><td>990</td><td>Mountain-500 Black, 42</td><td>Mountain Bikes</td><td>539.9900</td></tr><tr><td>991</td><td>Mountain-500 Black, 44</td><td>Mountain Bikes</td><td>539.9900</td></tr><tr><td>992</td><td>Mountain-500 Black, 48</td><td>Mountain Bikes</td><td>539.9900</td></tr><tr><td>993</td><td>Mountain-500 Black, 52</td><td>Mountain Bikes</td><td>539.9900</td></tr><tr><td>973</td><td>Road-350-W Yellow, 40</td><td>Road Bikes</td><td>1700.9900</td></tr><tr><td>974</td><td>Road-350-W Yellow, 42</td><td>Road Bikes</td><td>1700.9900</td></tr><tr><td>975</td><td>Road-350-W Yellow, 44</td><td>Road Bikes</td><td>1700.9900</td></tr><tr><td>976</td><td>Road-350-W Yellow, 48</td><td>Road Bikes</td><td>1700.9900</td></tr><tr><td>977</td><td>Road-750 Black, 58</td><td>Road Bikes</td><td>539.9900</td></tr><tr><td>997</td><td>Road-750 Black, 44</td><td>Road Bikes</td><td>539.9900</td></tr><tr><td>998</td><td>Road-750 Black, 48</td><td>Road Bikes</td><td>539.9900</td></tr><tr><td>999</td><td>Road-750 Black, 52</td><td>Road Bikes</td><td>539.9900</td></tr><tr><td>789</td><td>Road-250 Red, 44</td><td>Road Bikes</td><td>2443.3500</td></tr><tr><td>790</td><td>Road-250 Red, 48</td><td>Road Bikes</td><td>2443.3500</td></tr><tr><td>791</td><td>Road-250 Red, 52</td><td>Road Bikes</td><td>2443.3500</td></tr><tr><td>792</td><td>Road-250 Red, 58</td><td>Road Bikes</td><td>2443.3500</td></tr><tr><td>793</td><td>Road-250 Black, 44</td><td>Road Bikes</td><td>2443.3500</td></tr><tr><td>794</td><td>Road-250 Black, 48</td><td>Road Bikes</td><td>2443.3500</td></tr><tr><td>795</td><td>Road-250 Black, 52</td><td>Road Bikes</td><td>2443.3500</td></tr><tr><td>796</td><td>Road-250 Black, 58</td><td>Road Bikes</td><td>2443.3500</td></tr><tr><td>797</td><td>Road-550-W Yellow, 38</td><td>Road Bikes</td><td>1120.4900</td></tr><tr><td>798</td><td>Road-550-W Yellow, 40</td><td>Road Bikes</td><td>1120.4900</td></tr><tr><td>799</td><td>Road-550-W Yellow, 42</td><td>Road Bikes</td><td>1120.4900</td></tr><tr><td>800</td><td>Road-550-W Yellow, 44</td><td>Road Bikes</td><td>1120.4900</td></tr><tr><td>801</td><td>Road-550-W Yellow, 48</td><td>Road Bikes</td><td>1120.4900</td></tr><tr><td>749</td><td>Road-150 Red, 62</td><td>Road Bikes</td><td>3578.2700</td></tr><tr><td>750</td><td>Road-150 Red, 44</td><td>Road Bikes</td><td>3578.2700</td></tr><tr><td>751</td><td>Road-150 Red, 48</td><td>Road Bikes</td><td>3578.2700</td></tr><tr><td>752</td><td>Road-150 Red, 52</td><td>Road Bikes</td><td>3578.2700</td></tr><tr><td>753</td><td>Road-150 Red, 56</td><td>Road Bikes</td><td>3578.2700</td></tr><tr><td>754</td><td>Road-450 Red, 58</td><td>Road Bikes</td><td>1457.9900</td></tr><tr><td>755</td><td>Road-450 Red, 60</td><td>Road Bikes</td><td>1457.9900</td></tr><tr><td>756</td><td>Road-450 Red, 44</td><td>Road Bikes</td><td>1457.9900</td></tr><tr><td>757</td><td>Road-450 Red, 48</td><td>Road Bikes</td><td>1457.9900</td></tr><tr><td>758</td><td>Road-450 Red, 52</td><td>Road Bikes</td><td>1457.9900</td></tr><tr><td>759</td><td>Road-650 Red, 58</td><td>Road Bikes</td><td>782.9900</td></tr><tr><td>760</td><td>Road-650 Red, 60</td><td>Road Bikes</td><td>782.9900</td></tr><tr><td>761</td><td>Road-650 Red, 62</td><td>Road Bikes</td><td>782.9900</td></tr><tr><td>762</td><td>Road-650 Red, 44</td><td>Road Bikes</td><td>782.9900</td></tr><tr><td>763</td><td>Road-650 Red, 48</td><td>Road Bikes</td><td>782.9900</td></tr><tr><td>764</td><td>Road-650 Red, 52</td><td>Road Bikes</td><td>782.9900</td></tr><tr><td>765</td><td>Road-650 Black, 58</td><td>Road Bikes</td><td>782.9900</td></tr><tr><td>766</td><td>Road-650 Black, 60</td><td>Road Bikes</td><td>782.9900</td></tr><tr><td>767</td><td>Road-650 Black, 62</td><td>Road Bikes</td><td>782.9900</td></tr><tr><td>768</td><td>Road-650 Black, 44</td><td>Road Bikes</td><td>782.9900</td></tr><tr><td>769</td><td>Road-650 Black, 48</td><td>Road Bikes</td><td>782.9900</td></tr><tr><td>770</td><td>Road-650 Black, 52</td><td>Road Bikes</td><td>782.9900</td></tr><tr><td>978</td><td>Touring-3000 Blue, 44</td><td>Touring Bikes</td><td>742.3500</td></tr><tr><td>979</td><td>Touring-3000 Blue, 50</td><td>Touring Bikes</td><td>742.3500</td></tr><tr><td>953</td><td>Touring-2000 Blue, 60</td><td>Touring Bikes</td><td>1214.8500</td></tr><tr><td>954</td><td>Touring-1000 Yellow, 46</td><td>Touring Bikes</td><td>2384.0700</td></tr><tr><td>955</td><td>Touring-1000 Yellow, 50</td><td>Touring Bikes</td><td>2384.0700</td></tr><tr><td>956</td><td>Touring-1000 Yellow, 54</td><td>Touring Bikes</td><td>2384.0700</td></tr><tr><td>957</td><td>Touring-1000 Yellow, 60</td><td>Touring Bikes</td><td>2384.0700</td></tr><tr><td>958</td><td>Touring-3000 Blue, 54</td><td>Touring Bikes</td><td>742.3500</td></tr><tr><td>959</td><td>Touring-3000 Blue, 58</td><td>Touring Bikes</td><td>742.3500</td></tr><tr><td>960</td><td>Touring-3000 Blue, 62</td><td>Touring Bikes</td><td>742.3500</td></tr><tr><td>961</td><td>Touring-3000 Yellow, 44</td><td>Touring Bikes</td><td>742.3500</td></tr><tr><td>962</td><td>Touring-3000 Yellow, 50</td><td>Touring Bikes</td><td>742.3500</td></tr><tr><td>963</td><td>Touring-3000 Yellow, 54</td><td>Touring Bikes</td><td>742.3500</td></tr><tr><td>964</td><td>Touring-3000 Yellow, 58</td><td>Touring Bikes</td><td>742.3500</td></tr><tr><td>965</td><td>Touring-3000 Yellow, 62</td><td>Touring Bikes</td><td>742.3500</td></tr><tr><td>966</td><td>Touring-1000 Blue, 46</td><td>Touring Bikes</td><td>2384.0700</td></tr><tr><td>967</td><td>Touring-1000 Blue, 50</td><td>Touring Bikes</td><td>2384.0700</td></tr><tr><td>968</td><td>Touring-1000 Blue, 54</td><td>Touring Bikes</td><td>2384.0700</td></tr><tr><td>969</td><td>Touring-1000 Blue, 60</td><td>Touring Bikes</td><td>2384.0700</td></tr><tr><td>970</td><td>Touring-2000 Blue, 46</td><td>Touring Bikes</td><td>1214.8500</td></tr><tr><td>971</td><td>Touring-2000 Blue, 50</td><td>Touring Bikes</td><td>1214.8500</td></tr><tr><td>972</td><td>Touring-2000 Blue, 54</td><td>Touring Bikes</td><td>1214.8500</td></tr><tr><td>946</td><td>LL Touring Handlebars</td><td>Handlebars</td><td>46.0900</td></tr><tr><td>947</td><td>HL Touring Handlebars</td><td>Handlebars</td><td>91.5700</td></tr><tr><td>808</td><td>LL Mountain Handlebars</td><td>Handlebars</td><td>44.5400</td></tr><tr><td>809</td><td>ML Mountain Handlebars</td><td>Handlebars</td><td>61.9200</td></tr><tr><td>810</td><td>HL Mountain Handlebars</td><td>Handlebars</td><td>120.2700</td></tr><tr><td>811</td><td>LL Road Handlebars</td><td>Handlebars</td><td>44.5400</td></tr><tr><td>812</td><td>ML Road Handlebars</td><td>Handlebars</td><td>61.9200</td></tr><tr><td>813</td><td>HL Road Handlebars</td><td>Handlebars</td><td>120.2700</td></tr><tr><td>994</td><td>LL Bottom Bracket</td><td>Bottom Brackets</td><td>53.9900</td></tr><tr><td>995</td><td>ML Bottom Bracket</td><td>Bottom Brackets</td><td>101.2400</td></tr><tr><td>996</td><td>HL Bottom Bracket</td><td>Bottom Brackets</td><td>121.4900</td></tr><tr><td>948</td><td>Front Brakes</td><td>Brakes</td><td>106.5000</td></tr><tr><td>907</td><td>Rear Brakes</td><td>Brakes</td><td>106.5000</td></tr><tr><td>952</td><td>Chain</td><td>Chains</td><td>20.2400</td></tr><tr><td>949</td><td>LL Crankset</td><td>Cranksets</td><td>175.4900</td></tr><tr><td>950</td><td>ML Crankset</td><td>Cranksets</td><td>256.4900</td></tr><tr><td>951</td><td>HL Crankset</td><td>Cranksets</td><td>404.9900</td></tr><tr><td>945</td><td>Front Derailleur</td><td>Derailleurs</td><td>91.4900</td></tr><tr><td>894</td><td>Rear Derailleur</td><td>Derailleurs</td><td>121.4600</td></tr><tr><td>802</td><td>LL Fork</td><td>Forks</td><td>148.2200</td></tr><tr><td>803</td><td>ML Fork</td><td>Forks</td><td>175.4900</td></tr><tr><td>804</td><td>HL Fork</td><td>Forks</td><td>229.4900</td></tr><tr><td>805</td><td>LL Headset</td><td>Headsets</td><td>34.2000</td></tr><tr><td>806</td><td>ML Headset</td><td>Headsets</td><td>102.2900</td></tr><tr><td>807</td><td>HL Headset</td><td>Headsets</td><td>124.7300</td></tr><tr><td>739</td><td>HL Mountain Frame - Silver, 42</td><td>Mountain Frames</td><td>1364.5000</td></tr><tr><td>740</td><td>HL Mountain Frame - Silver, 44</td><td>Mountain Frames</td><td>1364.5000</td></tr><tr><td>741</td><td>HL Mountain Frame - Silver, 48</td><td>Mountain Frames</td><td>1364.5000</td></tr><tr><td>742</td><td>HL Mountain Frame - Silver, 46</td><td>Mountain Frames</td><td>1364.5000</td></tr><tr><td>743</td><td>HL Mountain Frame - Black, 42</td><td>Mountain Frames</td><td>1349.6000</td></tr><tr><td>744</td><td>HL Mountain Frame - Black, 44</td><td>Mountain Frames</td><td>1349.6000</td></tr><tr><td>745</td><td>HL Mountain Frame - Black, 48</td><td>Mountain Frames</td><td>1349.6000</td></tr><tr><td>746</td><td>HL Mountain Frame - Black, 46</td><td>Mountain Frames</td><td>1349.6000</td></tr><tr><td>747</td><td>HL Mountain Frame - Black, 38</td><td>Mountain Frames</td><td>1349.6000</td></tr><tr><td>748</td><td>HL Mountain Frame - Silver, 38</td><td>Mountain Frames</td><td>1364.5000</td></tr><tr><td>814</td><td>ML Mountain Frame - Black, 38</td><td>Mountain Frames</td><td>348.7600</td></tr><tr><td>830</td><td>ML Mountain Frame - Black, 40</td><td>Mountain Frames</td><td>348.7600</td></tr><tr><td>831</td><td>ML Mountain Frame - Black, 44</td><td>Mountain Frames</td><td>348.7600</td></tr><tr><td>832</td><td>ML Mountain Frame - Black, 48</td><td>Mountain Frames</td><td>348.7600</td></tr><tr><td>924</td><td>LL Mountain Frame - Black, 42</td><td>Mountain Frames</td><td>249.7900</td></tr><tr><td>925</td><td>LL Mountain Frame - Black, 44</td><td>Mountain Frames</td><td>249.7900</td></tr><tr><td>926</td><td>LL Mountain Frame - Black, 48</td><td>Mountain Frames</td><td>249.7900</td></tr><tr><td>927</td><td>LL Mountain Frame - Black, 52</td><td>Mountain Frames</td><td>249.7900</td></tr><tr><td>917</td><td>LL Mountain Frame - Silver, 42</td><td>Mountain Frames</td><td>264.0500</td></tr><tr><td>918</td><td>LL Mountain Frame - Silver, 44</td><td>Mountain Frames</td><td>264.0500</td></tr><tr><td>919</td><td>LL Mountain Frame - Silver, 48</td><td>Mountain Frames</td><td>264.0500</td></tr><tr><td>920</td><td>LL Mountain Frame - Silver, 52</td><td>Mountain Frames</td><td>264.0500</td></tr><tr><td>904</td><td>ML Mountain Frame-W - Silver, 40</td><td>Mountain Frames</td><td>364.0900</td></tr><tr><td>905</td><td>ML Mountain Frame-W - Silver, 42</td><td>Mountain Frames</td><td>364.0900</td></tr><tr><td>906</td><td>ML Mountain Frame-W - Silver, 46</td><td>Mountain Frames</td><td>364.0900</td></tr><tr><td>942</td><td>ML Mountain Frame-W - Silver, 38</td><td>Mountain Frames</td><td>364.0900</td></tr><tr><td>943</td><td>LL Mountain Frame - Black, 40</td><td>Mountain Frames</td><td>249.7900</td></tr><tr><td>944</td><td>LL Mountain Frame - Silver, 40</td><td>Mountain Frames</td><td>264.0500</td></tr><tr><td>935</td><td>LL Mountain Pedal</td><td>Pedals</td><td>40.4900</td></tr><tr><td>936</td><td>ML Mountain Pedal</td><td>Pedals</td><td>62.0900</td></tr><tr><td>937</td><td>HL Mountain Pedal</td><td>Pedals</td><td>80.9900</td></tr><tr><td>938</td><td>LL Road Pedal</td><td>Pedals</td><td>40.4900</td></tr><tr><td>939</td><td>ML Road Pedal</td><td>Pedals</td><td>62.0900</td></tr><tr><td>940</td><td>HL Road Pedal</td><td>Pedals</td><td>80.9900</td></tr><tr><td>941</td><td>Touring Pedal</td><td>Pedals</td><td>80.9900</td></tr><tr><td>833</td><td>ML Road Frame-W - Yellow, 40</td><td>Road Frames</td><td>594.8300</td></tr><tr><td>834</td><td>ML Road Frame-W - Yellow, 42</td><td>Road Frames</td><td>594.8300</td></tr><tr><td>835</td><td>ML Road Frame-W - Yellow, 44</td><td>Road Frames</td><td>594.8300</td></tr><tr><td>836</td><td>ML Road Frame-W - Yellow, 48</td><td>Road Frames</td><td>594.8300</td></tr><tr><td>837</td><td>HL Road Frame - Black, 62</td><td>Road Frames</td><td>1431.5000</td></tr><tr><td>838</td><td>HL Road Frame - Black, 44</td><td>Road Frames</td><td>1431.5000</td></tr><tr><td>839</td><td>HL Road Frame - Black, 48</td><td>Road Frames</td><td>1431.5000</td></tr><tr><td>840</td><td>HL Road Frame - Black, 52</td><td>Road Frames</td><td>1431.5000</td></tr><tr><td>822</td><td>ML Road Frame-W - Yellow, 38</td><td>Road Frames</td><td>594.8300</td></tr><tr><td>680</td><td>HL Road Frame - Black, 58</td><td>Road Frames</td><td>1431.5000</td></tr><tr><td>706</td><td>HL Road Frame - Red, 58</td><td>Road Frames</td><td>1431.5000</td></tr><tr><td>717</td><td>HL Road Frame - Red, 62</td><td>Road Frames</td><td>1431.5000</td></tr><tr><td>718</td><td>HL Road Frame - Red, 44</td><td>Road Frames</td><td>1431.5000</td></tr><tr><td>719</td><td>HL Road Frame - Red, 48</td><td>Road Frames</td><td>1431.5000</td></tr><tr><td>720</td><td>HL Road Frame - Red, 52</td><td>Road Frames</td><td>1431.5000</td></tr><tr><td>721</td><td>HL Road Frame - Red, 56</td><td>Road Frames</td><td>1431.5000</td></tr><tr><td>722</td><td>LL Road Frame - Black, 58</td><td>Road Frames</td><td>337.2200</td></tr><tr><td>723</td><td>LL Road Frame - Black, 60</td><td>Road Frames</td><td>337.2200</td></tr><tr><td>724</td><td>LL Road Frame - Black, 62</td><td>Road Frames</td><td>337.2200</td></tr><tr><td>725</td><td>LL Road Frame - Red, 44</td><td>Road Frames</td><td>337.2200</td></tr><tr><td>726</td><td>LL Road Frame - Red, 48</td><td>Road Frames</td><td>337.2200</td></tr><tr><td>727</td><td>LL Road Frame - Red, 52</td><td>Road Frames</td><td>337.2200</td></tr><tr><td>728</td><td>LL Road Frame - Red, 58</td><td>Road Frames</td><td>337.2200</td></tr><tr><td>729</td><td>LL Road Frame - Red, 60</td><td>Road Frames</td><td>337.2200</td></tr><tr><td>730</td><td>LL Road Frame - Red, 62</td><td>Road Frames</td><td>337.2200</td></tr><tr><td>731</td><td>ML Road Frame - Red, 44</td><td>Road Frames</td><td>594.8300</td></tr><tr><td>732</td><td>ML Road Frame - Red, 48</td><td>Road Frames</td><td>594.8300</td></tr><tr><td>733</td><td>ML Road Frame - Red, 52</td><td>Road Frames</td><td>594.8300</td></tr><tr><td>734</td><td>ML Road Frame - Red, 58</td><td>Road Frames</td><td>594.8300</td></tr><tr><td>735</td><td>ML Road Frame - Red, 60</td><td>Road Frames</td><td>594.8300</td></tr><tr><td>736</td><td>LL Road Frame - Black, 44</td><td>Road Frames</td><td>337.2200</td></tr><tr><td>737</td><td>LL Road Frame - Black, 48</td><td>Road Frames</td><td>337.2200</td></tr><tr><td>738</td><td>LL Road Frame - Black, 52</td><td>Road Frames</td><td>337.2200</td></tr><tr><td>908</td><td>LL Mountain Seat/Saddle</td><td>Saddles</td><td>27.1200</td></tr><tr><td>909</td><td>ML Mountain Seat/Saddle</td><td>Saddles</td><td>39.1400</td></tr><tr><td>910</td><td>HL Mountain Seat/Saddle</td><td>Saddles</td><td>52.6400</td></tr><tr><td>911</td><td>LL Road Seat/Saddle</td><td>Saddles</td><td>27.1200</td></tr><tr><td>912</td><td>ML Road Seat/Saddle</td><td>Saddles</td><td>39.1400</td></tr><tr><td>913</td><td>HL Road Seat/Saddle</td><td>Saddles</td><td>52.6400</td></tr><tr><td>914</td><td>LL Touring Seat/Saddle</td><td>Saddles</td><td>27.1200</td></tr><tr><td>915</td><td>ML Touring Seat/Saddle</td><td>Saddles</td><td>39.1400</td></tr><tr><td>916</td><td>HL Touring Seat/Saddle</td><td>Saddles</td><td>52.6400</td></tr><tr><td>895</td><td>LL Touring Frame - Blue, 50</td><td>Touring Frames</td><td>333.4200</td></tr><tr><td>896</td><td>LL Touring Frame - Blue, 54</td><td>Touring Frames</td><td>333.4200</td></tr><tr><td>897</td><td>LL Touring Frame - Blue, 58</td><td>Touring Frames</td><td>333.4200</td></tr><tr><td>898</td><td>LL Touring Frame - Blue, 62</td><td>Touring Frames</td><td>333.4200</td></tr><tr><td>899</td><td>LL Touring Frame - Yellow, 44</td><td>Touring Frames</td><td>333.4200</td></tr><tr><td>900</td><td>LL Touring Frame - Yellow, 50</td><td>Touring Frames</td><td>333.4200</td></tr><tr><td>901</td><td>LL Touring Frame - Yellow, 54</td><td>Touring Frames</td><td>333.4200</td></tr><tr><td>902</td><td>LL Touring Frame - Yellow, 58</td><td>Touring Frames</td><td>333.4200</td></tr><tr><td>903</td><td>LL Touring Frame - Blue, 44</td><td>Touring Frames</td><td>333.4200</td></tr><tr><td>885</td><td>HL Touring Frame - Yellow, 60</td><td>Touring Frames</td><td>1003.9100</td></tr><tr><td>886</td><td>LL Touring Frame - Yellow, 62</td><td>Touring Frames</td><td>333.4200</td></tr><tr><td>887</td><td>HL Touring Frame - Yellow, 46</td><td>Touring Frames</td><td>1003.9100</td></tr><tr><td>888</td><td>HL Touring Frame - Yellow, 50</td><td>Touring Frames</td><td>1003.9100</td></tr><tr><td>889</td><td>HL Touring Frame - Yellow, 54</td><td>Touring Frames</td><td>1003.9100</td></tr><tr><td>890</td><td>HL Touring Frame - Blue, 46</td><td>Touring Frames</td><td>1003.9100</td></tr><tr><td>891</td><td>HL Touring Frame - Blue, 50</td><td>Touring Frames</td><td>1003.9100</td></tr><tr><td>892</td><td>HL Touring Frame - Blue, 54</td><td>Touring Frames</td><td>1003.9100</td></tr><tr><td>893</td><td>HL Touring Frame - Blue, 60</td><td>Touring Frames</td><td>1003.9100</td></tr><tr><td>823</td><td>LL Mountain Rear Wheel</td><td>Wheels</td><td>87.7450</td></tr><tr><td>824</td><td>ML Mountain Rear Wheel</td><td>Wheels</td><td>236.0250</td></tr><tr><td>825</td><td>HL Mountain Rear Wheel</td><td>Wheels</td><td>327.2150</td></tr><tr><td>826</td><td>LL Road Rear Wheel</td><td>Wheels</td><td>112.5650</td></tr><tr><td>827</td><td>ML Road Rear Wheel</td><td>Wheels</td><td>275.3850</td></tr><tr><td>828</td><td>HL Road Rear Wheel</td><td>Wheels</td><td>357.0600</td></tr><tr><td>829</td><td>Touring Rear Wheel</td><td>Wheels</td><td>245.0100</td></tr><tr><td>815</td><td>LL Mountain Front Wheel</td><td>Wheels</td><td>60.7450</td></tr><tr><td>816</td><td>ML Mountain Front Wheel</td><td>Wheels</td><td>209.0250</td></tr><tr><td>817</td><td>HL Mountain Front Wheel</td><td>Wheels</td><td>300.2150</td></tr><tr><td>818</td><td>LL Road Front Wheel</td><td>Wheels</td><td>85.5650</td></tr><tr><td>819</td><td>ML Road Front Wheel</td><td>Wheels</td><td>248.3850</td></tr><tr><td>820</td><td>HL Road Front Wheel</td><td>Wheels</td><td>330.0600</td></tr><tr><td>821</td><td>Touring Front Wheel</td><td>Wheels</td><td>218.0100</td></tr><tr><td>855</td><td>Men's Bib-Shorts, S</td><td>Bib-Shorts</td><td>89.9900</td></tr><tr><td>856</td><td>Men's Bib-Shorts, M</td><td>Bib-Shorts</td><td>89.9900</td></tr><tr><td>857</td><td>Men's Bib-Shorts, L</td><td>Bib-Shorts</td><td>89.9900</td></tr><tr><td>712</td><td>AWC Logo Cap</td><td>Caps</td><td>8.9900</td></tr><tr><td>858</td><td>Half-Finger Gloves, S</td><td>Gloves</td><td>24.4900</td></tr><tr><td>859</td><td>Half-Finger Gloves, M</td><td>Gloves</td><td>24.4900</td></tr><tr><td>860</td><td>Half-Finger Gloves, L</td><td>Gloves</td><td>24.4900</td></tr><tr><td>861</td><td>Full-Finger Gloves, S</td><td>Gloves</td><td>37.9900</td></tr><tr><td>862</td><td>Full-Finger Gloves, M</td><td>Gloves</td><td>37.9900</td></tr><tr><td>863</td><td>Full-Finger Gloves, L</td><td>Gloves</td><td>37.9900</td></tr><tr><td>713</td><td>Long-Sleeve Logo Jersey, S</td><td>Jerseys</td><td>49.9900</td></tr><tr><td>714</td><td>Long-Sleeve Logo Jersey, M</td><td>Jerseys</td><td>49.9900</td></tr><tr><td>715</td><td>Long-Sleeve Logo Jersey, L</td><td>Jerseys</td><td>49.9900</td></tr><tr><td>716</td><td>Long-Sleeve Logo Jersey, XL</td><td>Jerseys</td><td>49.9900</td></tr><tr><td>881</td><td>Short-Sleeve Classic Jersey, S</td><td>Jerseys</td><td>53.9900</td></tr><tr><td>882</td><td>Short-Sleeve Classic Jersey, M</td><td>Jerseys</td><td>53.9900</td></tr><tr><td>883</td><td>Short-Sleeve Classic Jersey, L</td><td>Jerseys</td><td>53.9900</td></tr><tr><td>884</td><td>Short-Sleeve Classic Jersey, XL</td><td>Jerseys</td><td>53.9900</td></tr><tr><td>867</td><td>Women's Mountain Shorts, S</td><td>Shorts</td><td>69.9900</td></tr><tr><td>868</td><td>Women's Mountain Shorts, M</td><td>Shorts</td><td>69.9900</td></tr><tr><td>869</td><td>Women's Mountain Shorts, L</td><td>Shorts</td><td>69.9900</td></tr><tr><td>841</td><td>Men's Sports Shorts, S</td><td>Shorts</td><td>59.9900</td></tr><tr><td>849</td><td>Men's Sports Shorts, M</td><td>Shorts</td><td>59.9900</td></tr><tr><td>850</td><td>Men's Sports Shorts, L</td><td>Shorts</td><td>59.9900</td></tr><tr><td>851</td><td>Men's Sports Shorts, XL</td><td>Shorts</td><td>59.9900</td></tr><tr><td>709</td><td>Mountain Bike Socks, M</td><td>Socks</td><td>9.5000</td></tr><tr><td>710</td><td>Mountain Bike Socks, L</td><td>Socks</td><td>9.5000</td></tr><tr><td>874</td><td>Racing Socks, M</td><td>Socks</td><td>8.9900</td></tr><tr><td>875</td><td>Racing Socks, L</td><td>Socks</td><td>8.9900</td></tr><tr><td>852</td><td>Women's Tights, S</td><td>Tights</td><td>74.9900</td></tr><tr><td>853</td><td>Women's Tights, M</td><td>Tights</td><td>74.9900</td></tr><tr><td>854</td><td>Women's Tights, L</td><td>Tights</td><td>74.9900</td></tr><tr><td>864</td><td>Classic Vest, S</td><td>Vests</td><td>63.5000</td></tr><tr><td>865</td><td>Classic Vest, M</td><td>Vests</td><td>63.5000</td></tr><tr><td>866</td><td>Classic Vest, L</td><td>Vests</td><td>63.5000</td></tr><tr><td>876</td><td>Hitch Rack - 4-Bike</td><td>Bike Racks</td><td>120.0000</td></tr><tr><td>879</td><td>All-Purpose Bike Stand</td><td>Bike Stands</td><td>159.0000</td></tr><tr><td>870</td><td>Water Bottle - 30 oz.</td><td>Bottles and Cages</td><td>4.9900</td></tr><tr><td>871</td><td>Mountain Bottle Cage</td><td>Bottles and Cages</td><td>9.9900</td></tr><tr><td>872</td><td>Road Bottle Cage</td><td>Bottles and Cages</td><td>8.9900</td></tr><tr><td>877</td><td>Bike Wash - Dissolver</td><td>Cleaners</td><td>7.9500</td></tr><tr><td>878</td><td>Fender Set - Mountain</td><td>Fenders</td><td>21.9800</td></tr><tr><td>711</td><td>Sport-100 Helmet, Blue</td><td>Helmets</td><td>34.9900</td></tr><tr><td>707</td><td>Sport-100 Helmet, Red</td><td>Helmets</td><td>34.9900</td></tr><tr><td>708</td><td>Sport-100 Helmet, Black</td><td>Helmets</td><td>34.9900</td></tr><tr><td>880</td><td>Hydration Pack - 70 oz.</td><td>Hydration Packs</td><td>54.9900</td></tr><tr><td>846</td><td>Taillights - Battery-Powered</td><td>Lights</td><td>13.9900</td></tr><tr><td>847</td><td>Headlights - Dual-Beam</td><td>Lights</td><td>34.9900</td></tr><tr><td>848</td><td>Headlights - Weatherproof</td><td>Lights</td><td>44.9900</td></tr><tr><td>843</td><td>Cable Lock</td><td>Locks</td><td>25.0000</td></tr><tr><td>842</td><td>Touring-Panniers, Large</td><td>Panniers</td><td>125.0000</td></tr><tr><td>844</td><td>Minipump</td><td>Pumps</td><td>19.9900</td></tr><tr><td>845</td><td>Mountain Pump</td><td>Pumps</td><td>24.9900</td></tr><tr><td>873</td><td>Patch Kit/8 Patches</td><td>Tires and Tubes</td><td>2.2900</td></tr><tr><td>921</td><td>Mountain Tire Tube</td><td>Tires and Tubes</td><td>4.9900</td></tr><tr><td>922</td><td>Road Tire Tube</td><td>Tires and Tubes</td><td>3.9900</td></tr><tr><td>923</td><td>Touring Tire Tube</td><td>Tires and Tubes</td><td>4.9900</td></tr><tr><td>928</td><td>LL Mountain Tire</td><td>Tires and Tubes</td><td>24.9900</td></tr><tr><td>929</td><td>ML Mountain Tire</td><td>Tires and Tubes</td><td>29.9900</td></tr><tr><td>930</td><td>HL Mountain Tire</td><td>Tires and Tubes</td><td>35.0000</td></tr><tr><td>931</td><td>LL Road Tire</td><td>Tires and Tubes</td><td>21.4900</td></tr><tr><td>932</td><td>ML Road Tire</td><td>Tires and Tubes</td><td>24.9900</td></tr><tr><td>933</td><td>HL Road Tire</td><td>Tires and Tubes</td><td>32.6000</td></tr><tr><td>934</td><td>Touring Tire</td><td>Tires and Tubes</td><td>28.9900</td></tr></tbody></table></div>"
      ]
     },
     "metadata": {
      "application/vnd.databricks.v1+output": {
       "addedWidgets": {},
       "aggData": [],
       "aggError": "",
       "aggOverflow": false,
       "aggSchema": [],
       "aggSeriesLimitReached": false,
       "aggType": "",
       "arguments": {},
       "columnCustomDisplayInfos": {},
       "data": [
        [
         "771",
         "Mountain-100 Silver, 38",
         "Mountain Bikes",
         "3399.9900"
        ],
        [
         "772",
         "Mountain-100 Silver, 42",
         "Mountain Bikes",
         "3399.9900"
        ],
        [
         "773",
         "Mountain-100 Silver, 44",
         "Mountain Bikes",
         "3399.9900"
        ],
        [
         "774",
         "Mountain-100 Silver, 48",
         "Mountain Bikes",
         "3399.9900"
        ],
        [
         "775",
         "Mountain-100 Black, 38",
         "Mountain Bikes",
         "3374.9900"
        ],
        [
         "776",
         "Mountain-100 Black, 42",
         "Mountain Bikes",
         "3374.9900"
        ],
        [
         "777",
         "Mountain-100 Black, 44",
         "Mountain Bikes",
         "3374.9900"
        ],
        [
         "778",
         "Mountain-100 Black, 48",
         "Mountain Bikes",
         "3374.9900"
        ],
        [
         "779",
         "Mountain-200 Silver, 38",
         "Mountain Bikes",
         "2319.9900"
        ],
        [
         "780",
         "Mountain-200 Silver, 42",
         "Mountain Bikes",
         "2319.9900"
        ],
        [
         "781",
         "Mountain-200 Silver, 46",
         "Mountain Bikes",
         "2319.9900"
        ],
        [
         "782",
         "Mountain-200 Black, 38",
         "Mountain Bikes",
         "2294.9900"
        ],
        [
         "783",
         "Mountain-200 Black, 42",
         "Mountain Bikes",
         "2294.9900"
        ],
        [
         "784",
         "Mountain-200 Black, 46",
         "Mountain Bikes",
         "2294.9900"
        ],
        [
         "785",
         "Mountain-300 Black, 38",
         "Mountain Bikes",
         "1079.9900"
        ],
        [
         "786",
         "Mountain-300 Black, 40",
         "Mountain Bikes",
         "1079.9900"
        ],
        [
         "787",
         "Mountain-300 Black, 44",
         "Mountain Bikes",
         "1079.9900"
        ],
        [
         "788",
         "Mountain-300 Black, 48",
         "Mountain Bikes",
         "1079.9900"
        ],
        [
         "980",
         "Mountain-400-W Silver, 38",
         "Mountain Bikes",
         "769.4900"
        ],
        [
         "981",
         "Mountain-400-W Silver, 40",
         "Mountain Bikes",
         "769.4900"
        ],
        [
         "982",
         "Mountain-400-W Silver, 42",
         "Mountain Bikes",
         "769.4900"
        ],
        [
         "983",
         "Mountain-400-W Silver, 46",
         "Mountain Bikes",
         "769.4900"
        ],
        [
         "984",
         "Mountain-500 Silver, 40",
         "Mountain Bikes",
         "564.9900"
        ],
        [
         "985",
         "Mountain-500 Silver, 42",
         "Mountain Bikes",
         "564.9900"
        ],
        [
         "986",
         "Mountain-500 Silver, 44",
         "Mountain Bikes",
         "564.9900"
        ],
        [
         "987",
         "Mountain-500 Silver, 48",
         "Mountain Bikes",
         "564.9900"
        ],
        [
         "988",
         "Mountain-500 Silver, 52",
         "Mountain Bikes",
         "564.9900"
        ],
        [
         "989",
         "Mountain-500 Black, 40",
         "Mountain Bikes",
         "539.9900"
        ],
        [
         "990",
         "Mountain-500 Black, 42",
         "Mountain Bikes",
         "539.9900"
        ],
        [
         "991",
         "Mountain-500 Black, 44",
         "Mountain Bikes",
         "539.9900"
        ],
        [
         "992",
         "Mountain-500 Black, 48",
         "Mountain Bikes",
         "539.9900"
        ],
        [
         "993",
         "Mountain-500 Black, 52",
         "Mountain Bikes",
         "539.9900"
        ],
        [
         "973",
         "Road-350-W Yellow, 40",
         "Road Bikes",
         "1700.9900"
        ],
        [
         "974",
         "Road-350-W Yellow, 42",
         "Road Bikes",
         "1700.9900"
        ],
        [
         "975",
         "Road-350-W Yellow, 44",
         "Road Bikes",
         "1700.9900"
        ],
        [
         "976",
         "Road-350-W Yellow, 48",
         "Road Bikes",
         "1700.9900"
        ],
        [
         "977",
         "Road-750 Black, 58",
         "Road Bikes",
         "539.9900"
        ],
        [
         "997",
         "Road-750 Black, 44",
         "Road Bikes",
         "539.9900"
        ],
        [
         "998",
         "Road-750 Black, 48",
         "Road Bikes",
         "539.9900"
        ],
        [
         "999",
         "Road-750 Black, 52",
         "Road Bikes",
         "539.9900"
        ],
        [
         "789",
         "Road-250 Red, 44",
         "Road Bikes",
         "2443.3500"
        ],
        [
         "790",
         "Road-250 Red, 48",
         "Road Bikes",
         "2443.3500"
        ],
        [
         "791",
         "Road-250 Red, 52",
         "Road Bikes",
         "2443.3500"
        ],
        [
         "792",
         "Road-250 Red, 58",
         "Road Bikes",
         "2443.3500"
        ],
        [
         "793",
         "Road-250 Black, 44",
         "Road Bikes",
         "2443.3500"
        ],
        [
         "794",
         "Road-250 Black, 48",
         "Road Bikes",
         "2443.3500"
        ],
        [
         "795",
         "Road-250 Black, 52",
         "Road Bikes",
         "2443.3500"
        ],
        [
         "796",
         "Road-250 Black, 58",
         "Road Bikes",
         "2443.3500"
        ],
        [
         "797",
         "Road-550-W Yellow, 38",
         "Road Bikes",
         "1120.4900"
        ],
        [
         "798",
         "Road-550-W Yellow, 40",
         "Road Bikes",
         "1120.4900"
        ],
        [
         "799",
         "Road-550-W Yellow, 42",
         "Road Bikes",
         "1120.4900"
        ],
        [
         "800",
         "Road-550-W Yellow, 44",
         "Road Bikes",
         "1120.4900"
        ],
        [
         "801",
         "Road-550-W Yellow, 48",
         "Road Bikes",
         "1120.4900"
        ],
        [
         "749",
         "Road-150 Red, 62",
         "Road Bikes",
         "3578.2700"
        ],
        [
         "750",
         "Road-150 Red, 44",
         "Road Bikes",
         "3578.2700"
        ],
        [
         "751",
         "Road-150 Red, 48",
         "Road Bikes",
         "3578.2700"
        ],
        [
         "752",
         "Road-150 Red, 52",
         "Road Bikes",
         "3578.2700"
        ],
        [
         "753",
         "Road-150 Red, 56",
         "Road Bikes",
         "3578.2700"
        ],
        [
         "754",
         "Road-450 Red, 58",
         "Road Bikes",
         "1457.9900"
        ],
        [
         "755",
         "Road-450 Red, 60",
         "Road Bikes",
         "1457.9900"
        ],
        [
         "756",
         "Road-450 Red, 44",
         "Road Bikes",
         "1457.9900"
        ],
        [
         "757",
         "Road-450 Red, 48",
         "Road Bikes",
         "1457.9900"
        ],
        [
         "758",
         "Road-450 Red, 52",
         "Road Bikes",
         "1457.9900"
        ],
        [
         "759",
         "Road-650 Red, 58",
         "Road Bikes",
         "782.9900"
        ],
        [
         "760",
         "Road-650 Red, 60",
         "Road Bikes",
         "782.9900"
        ],
        [
         "761",
         "Road-650 Red, 62",
         "Road Bikes",
         "782.9900"
        ],
        [
         "762",
         "Road-650 Red, 44",
         "Road Bikes",
         "782.9900"
        ],
        [
         "763",
         "Road-650 Red, 48",
         "Road Bikes",
         "782.9900"
        ],
        [
         "764",
         "Road-650 Red, 52",
         "Road Bikes",
         "782.9900"
        ],
        [
         "765",
         "Road-650 Black, 58",
         "Road Bikes",
         "782.9900"
        ],
        [
         "766",
         "Road-650 Black, 60",
         "Road Bikes",
         "782.9900"
        ],
        [
         "767",
         "Road-650 Black, 62",
         "Road Bikes",
         "782.9900"
        ],
        [
         "768",
         "Road-650 Black, 44",
         "Road Bikes",
         "782.9900"
        ],
        [
         "769",
         "Road-650 Black, 48",
         "Road Bikes",
         "782.9900"
        ],
        [
         "770",
         "Road-650 Black, 52",
         "Road Bikes",
         "782.9900"
        ],
        [
         "978",
         "Touring-3000 Blue, 44",
         "Touring Bikes",
         "742.3500"
        ],
        [
         "979",
         "Touring-3000 Blue, 50",
         "Touring Bikes",
         "742.3500"
        ],
        [
         "953",
         "Touring-2000 Blue, 60",
         "Touring Bikes",
         "1214.8500"
        ],
        [
         "954",
         "Touring-1000 Yellow, 46",
         "Touring Bikes",
         "2384.0700"
        ],
        [
         "955",
         "Touring-1000 Yellow, 50",
         "Touring Bikes",
         "2384.0700"
        ],
        [
         "956",
         "Touring-1000 Yellow, 54",
         "Touring Bikes",
         "2384.0700"
        ],
        [
         "957",
         "Touring-1000 Yellow, 60",
         "Touring Bikes",
         "2384.0700"
        ],
        [
         "958",
         "Touring-3000 Blue, 54",
         "Touring Bikes",
         "742.3500"
        ],
        [
         "959",
         "Touring-3000 Blue, 58",
         "Touring Bikes",
         "742.3500"
        ],
        [
         "960",
         "Touring-3000 Blue, 62",
         "Touring Bikes",
         "742.3500"
        ],
        [
         "961",
         "Touring-3000 Yellow, 44",
         "Touring Bikes",
         "742.3500"
        ],
        [
         "962",
         "Touring-3000 Yellow, 50",
         "Touring Bikes",
         "742.3500"
        ],
        [
         "963",
         "Touring-3000 Yellow, 54",
         "Touring Bikes",
         "742.3500"
        ],
        [
         "964",
         "Touring-3000 Yellow, 58",
         "Touring Bikes",
         "742.3500"
        ],
        [
         "965",
         "Touring-3000 Yellow, 62",
         "Touring Bikes",
         "742.3500"
        ],
        [
         "966",
         "Touring-1000 Blue, 46",
         "Touring Bikes",
         "2384.0700"
        ],
        [
         "967",
         "Touring-1000 Blue, 50",
         "Touring Bikes",
         "2384.0700"
        ],
        [
         "968",
         "Touring-1000 Blue, 54",
         "Touring Bikes",
         "2384.0700"
        ],
        [
         "969",
         "Touring-1000 Blue, 60",
         "Touring Bikes",
         "2384.0700"
        ],
        [
         "970",
         "Touring-2000 Blue, 46",
         "Touring Bikes",
         "1214.8500"
        ],
        [
         "971",
         "Touring-2000 Blue, 50",
         "Touring Bikes",
         "1214.8500"
        ],
        [
         "972",
         "Touring-2000 Blue, 54",
         "Touring Bikes",
         "1214.8500"
        ],
        [
         "946",
         "LL Touring Handlebars",
         "Handlebars",
         "46.0900"
        ],
        [
         "947",
         "HL Touring Handlebars",
         "Handlebars",
         "91.5700"
        ],
        [
         "808",
         "LL Mountain Handlebars",
         "Handlebars",
         "44.5400"
        ],
        [
         "809",
         "ML Mountain Handlebars",
         "Handlebars",
         "61.9200"
        ],
        [
         "810",
         "HL Mountain Handlebars",
         "Handlebars",
         "120.2700"
        ],
        [
         "811",
         "LL Road Handlebars",
         "Handlebars",
         "44.5400"
        ],
        [
         "812",
         "ML Road Handlebars",
         "Handlebars",
         "61.9200"
        ],
        [
         "813",
         "HL Road Handlebars",
         "Handlebars",
         "120.2700"
        ],
        [
         "994",
         "LL Bottom Bracket",
         "Bottom Brackets",
         "53.9900"
        ],
        [
         "995",
         "ML Bottom Bracket",
         "Bottom Brackets",
         "101.2400"
        ],
        [
         "996",
         "HL Bottom Bracket",
         "Bottom Brackets",
         "121.4900"
        ],
        [
         "948",
         "Front Brakes",
         "Brakes",
         "106.5000"
        ],
        [
         "907",
         "Rear Brakes",
         "Brakes",
         "106.5000"
        ],
        [
         "952",
         "Chain",
         "Chains",
         "20.2400"
        ],
        [
         "949",
         "LL Crankset",
         "Cranksets",
         "175.4900"
        ],
        [
         "950",
         "ML Crankset",
         "Cranksets",
         "256.4900"
        ],
        [
         "951",
         "HL Crankset",
         "Cranksets",
         "404.9900"
        ],
        [
         "945",
         "Front Derailleur",
         "Derailleurs",
         "91.4900"
        ],
        [
         "894",
         "Rear Derailleur",
         "Derailleurs",
         "121.4600"
        ],
        [
         "802",
         "LL Fork",
         "Forks",
         "148.2200"
        ],
        [
         "803",
         "ML Fork",
         "Forks",
         "175.4900"
        ],
        [
         "804",
         "HL Fork",
         "Forks",
         "229.4900"
        ],
        [
         "805",
         "LL Headset",
         "Headsets",
         "34.2000"
        ],
        [
         "806",
         "ML Headset",
         "Headsets",
         "102.2900"
        ],
        [
         "807",
         "HL Headset",
         "Headsets",
         "124.7300"
        ],
        [
         "739",
         "HL Mountain Frame - Silver, 42",
         "Mountain Frames",
         "1364.5000"
        ],
        [
         "740",
         "HL Mountain Frame - Silver, 44",
         "Mountain Frames",
         "1364.5000"
        ],
        [
         "741",
         "HL Mountain Frame - Silver, 48",
         "Mountain Frames",
         "1364.5000"
        ],
        [
         "742",
         "HL Mountain Frame - Silver, 46",
         "Mountain Frames",
         "1364.5000"
        ],
        [
         "743",
         "HL Mountain Frame - Black, 42",
         "Mountain Frames",
         "1349.6000"
        ],
        [
         "744",
         "HL Mountain Frame - Black, 44",
         "Mountain Frames",
         "1349.6000"
        ],
        [
         "745",
         "HL Mountain Frame - Black, 48",
         "Mountain Frames",
         "1349.6000"
        ],
        [
         "746",
         "HL Mountain Frame - Black, 46",
         "Mountain Frames",
         "1349.6000"
        ],
        [
         "747",
         "HL Mountain Frame - Black, 38",
         "Mountain Frames",
         "1349.6000"
        ],
        [
         "748",
         "HL Mountain Frame - Silver, 38",
         "Mountain Frames",
         "1364.5000"
        ],
        [
         "814",
         "ML Mountain Frame - Black, 38",
         "Mountain Frames",
         "348.7600"
        ],
        [
         "830",
         "ML Mountain Frame - Black, 40",
         "Mountain Frames",
         "348.7600"
        ],
        [
         "831",
         "ML Mountain Frame - Black, 44",
         "Mountain Frames",
         "348.7600"
        ],
        [
         "832",
         "ML Mountain Frame - Black, 48",
         "Mountain Frames",
         "348.7600"
        ],
        [
         "924",
         "LL Mountain Frame - Black, 42",
         "Mountain Frames",
         "249.7900"
        ],
        [
         "925",
         "LL Mountain Frame - Black, 44",
         "Mountain Frames",
         "249.7900"
        ],
        [
         "926",
         "LL Mountain Frame - Black, 48",
         "Mountain Frames",
         "249.7900"
        ],
        [
         "927",
         "LL Mountain Frame - Black, 52",
         "Mountain Frames",
         "249.7900"
        ],
        [
         "917",
         "LL Mountain Frame - Silver, 42",
         "Mountain Frames",
         "264.0500"
        ],
        [
         "918",
         "LL Mountain Frame - Silver, 44",
         "Mountain Frames",
         "264.0500"
        ],
        [
         "919",
         "LL Mountain Frame - Silver, 48",
         "Mountain Frames",
         "264.0500"
        ],
        [
         "920",
         "LL Mountain Frame - Silver, 52",
         "Mountain Frames",
         "264.0500"
        ],
        [
         "904",
         "ML Mountain Frame-W - Silver, 40",
         "Mountain Frames",
         "364.0900"
        ],
        [
         "905",
         "ML Mountain Frame-W - Silver, 42",
         "Mountain Frames",
         "364.0900"
        ],
        [
         "906",
         "ML Mountain Frame-W - Silver, 46",
         "Mountain Frames",
         "364.0900"
        ],
        [
         "942",
         "ML Mountain Frame-W - Silver, 38",
         "Mountain Frames",
         "364.0900"
        ],
        [
         "943",
         "LL Mountain Frame - Black, 40",
         "Mountain Frames",
         "249.7900"
        ],
        [
         "944",
         "LL Mountain Frame - Silver, 40",
         "Mountain Frames",
         "264.0500"
        ],
        [
         "935",
         "LL Mountain Pedal",
         "Pedals",
         "40.4900"
        ],
        [
         "936",
         "ML Mountain Pedal",
         "Pedals",
         "62.0900"
        ],
        [
         "937",
         "HL Mountain Pedal",
         "Pedals",
         "80.9900"
        ],
        [
         "938",
         "LL Road Pedal",
         "Pedals",
         "40.4900"
        ],
        [
         "939",
         "ML Road Pedal",
         "Pedals",
         "62.0900"
        ],
        [
         "940",
         "HL Road Pedal",
         "Pedals",
         "80.9900"
        ],
        [
         "941",
         "Touring Pedal",
         "Pedals",
         "80.9900"
        ],
        [
         "833",
         "ML Road Frame-W - Yellow, 40",
         "Road Frames",
         "594.8300"
        ],
        [
         "834",
         "ML Road Frame-W - Yellow, 42",
         "Road Frames",
         "594.8300"
        ],
        [
         "835",
         "ML Road Frame-W - Yellow, 44",
         "Road Frames",
         "594.8300"
        ],
        [
         "836",
         "ML Road Frame-W - Yellow, 48",
         "Road Frames",
         "594.8300"
        ],
        [
         "837",
         "HL Road Frame - Black, 62",
         "Road Frames",
         "1431.5000"
        ],
        [
         "838",
         "HL Road Frame - Black, 44",
         "Road Frames",
         "1431.5000"
        ],
        [
         "839",
         "HL Road Frame - Black, 48",
         "Road Frames",
         "1431.5000"
        ],
        [
         "840",
         "HL Road Frame - Black, 52",
         "Road Frames",
         "1431.5000"
        ],
        [
         "822",
         "ML Road Frame-W - Yellow, 38",
         "Road Frames",
         "594.8300"
        ],
        [
         "680",
         "HL Road Frame - Black, 58",
         "Road Frames",
         "1431.5000"
        ],
        [
         "706",
         "HL Road Frame - Red, 58",
         "Road Frames",
         "1431.5000"
        ],
        [
         "717",
         "HL Road Frame - Red, 62",
         "Road Frames",
         "1431.5000"
        ],
        [
         "718",
         "HL Road Frame - Red, 44",
         "Road Frames",
         "1431.5000"
        ],
        [
         "719",
         "HL Road Frame - Red, 48",
         "Road Frames",
         "1431.5000"
        ],
        [
         "720",
         "HL Road Frame - Red, 52",
         "Road Frames",
         "1431.5000"
        ],
        [
         "721",
         "HL Road Frame - Red, 56",
         "Road Frames",
         "1431.5000"
        ],
        [
         "722",
         "LL Road Frame - Black, 58",
         "Road Frames",
         "337.2200"
        ],
        [
         "723",
         "LL Road Frame - Black, 60",
         "Road Frames",
         "337.2200"
        ],
        [
         "724",
         "LL Road Frame - Black, 62",
         "Road Frames",
         "337.2200"
        ],
        [
         "725",
         "LL Road Frame - Red, 44",
         "Road Frames",
         "337.2200"
        ],
        [
         "726",
         "LL Road Frame - Red, 48",
         "Road Frames",
         "337.2200"
        ],
        [
         "727",
         "LL Road Frame - Red, 52",
         "Road Frames",
         "337.2200"
        ],
        [
         "728",
         "LL Road Frame - Red, 58",
         "Road Frames",
         "337.2200"
        ],
        [
         "729",
         "LL Road Frame - Red, 60",
         "Road Frames",
         "337.2200"
        ],
        [
         "730",
         "LL Road Frame - Red, 62",
         "Road Frames",
         "337.2200"
        ],
        [
         "731",
         "ML Road Frame - Red, 44",
         "Road Frames",
         "594.8300"
        ],
        [
         "732",
         "ML Road Frame - Red, 48",
         "Road Frames",
         "594.8300"
        ],
        [
         "733",
         "ML Road Frame - Red, 52",
         "Road Frames",
         "594.8300"
        ],
        [
         "734",
         "ML Road Frame - Red, 58",
         "Road Frames",
         "594.8300"
        ],
        [
         "735",
         "ML Road Frame - Red, 60",
         "Road Frames",
         "594.8300"
        ],
        [
         "736",
         "LL Road Frame - Black, 44",
         "Road Frames",
         "337.2200"
        ],
        [
         "737",
         "LL Road Frame - Black, 48",
         "Road Frames",
         "337.2200"
        ],
        [
         "738",
         "LL Road Frame - Black, 52",
         "Road Frames",
         "337.2200"
        ],
        [
         "908",
         "LL Mountain Seat/Saddle",
         "Saddles",
         "27.1200"
        ],
        [
         "909",
         "ML Mountain Seat/Saddle",
         "Saddles",
         "39.1400"
        ],
        [
         "910",
         "HL Mountain Seat/Saddle",
         "Saddles",
         "52.6400"
        ],
        [
         "911",
         "LL Road Seat/Saddle",
         "Saddles",
         "27.1200"
        ],
        [
         "912",
         "ML Road Seat/Saddle",
         "Saddles",
         "39.1400"
        ],
        [
         "913",
         "HL Road Seat/Saddle",
         "Saddles",
         "52.6400"
        ],
        [
         "914",
         "LL Touring Seat/Saddle",
         "Saddles",
         "27.1200"
        ],
        [
         "915",
         "ML Touring Seat/Saddle",
         "Saddles",
         "39.1400"
        ],
        [
         "916",
         "HL Touring Seat/Saddle",
         "Saddles",
         "52.6400"
        ],
        [
         "895",
         "LL Touring Frame - Blue, 50",
         "Touring Frames",
         "333.4200"
        ],
        [
         "896",
         "LL Touring Frame - Blue, 54",
         "Touring Frames",
         "333.4200"
        ],
        [
         "897",
         "LL Touring Frame - Blue, 58",
         "Touring Frames",
         "333.4200"
        ],
        [
         "898",
         "LL Touring Frame - Blue, 62",
         "Touring Frames",
         "333.4200"
        ],
        [
         "899",
         "LL Touring Frame - Yellow, 44",
         "Touring Frames",
         "333.4200"
        ],
        [
         "900",
         "LL Touring Frame - Yellow, 50",
         "Touring Frames",
         "333.4200"
        ],
        [
         "901",
         "LL Touring Frame - Yellow, 54",
         "Touring Frames",
         "333.4200"
        ],
        [
         "902",
         "LL Touring Frame - Yellow, 58",
         "Touring Frames",
         "333.4200"
        ],
        [
         "903",
         "LL Touring Frame - Blue, 44",
         "Touring Frames",
         "333.4200"
        ],
        [
         "885",
         "HL Touring Frame - Yellow, 60",
         "Touring Frames",
         "1003.9100"
        ],
        [
         "886",
         "LL Touring Frame - Yellow, 62",
         "Touring Frames",
         "333.4200"
        ],
        [
         "887",
         "HL Touring Frame - Yellow, 46",
         "Touring Frames",
         "1003.9100"
        ],
        [
         "888",
         "HL Touring Frame - Yellow, 50",
         "Touring Frames",
         "1003.9100"
        ],
        [
         "889",
         "HL Touring Frame - Yellow, 54",
         "Touring Frames",
         "1003.9100"
        ],
        [
         "890",
         "HL Touring Frame - Blue, 46",
         "Touring Frames",
         "1003.9100"
        ],
        [
         "891",
         "HL Touring Frame - Blue, 50",
         "Touring Frames",
         "1003.9100"
        ],
        [
         "892",
         "HL Touring Frame - Blue, 54",
         "Touring Frames",
         "1003.9100"
        ],
        [
         "893",
         "HL Touring Frame - Blue, 60",
         "Touring Frames",
         "1003.9100"
        ],
        [
         "823",
         "LL Mountain Rear Wheel",
         "Wheels",
         "87.7450"
        ],
        [
         "824",
         "ML Mountain Rear Wheel",
         "Wheels",
         "236.0250"
        ],
        [
         "825",
         "HL Mountain Rear Wheel",
         "Wheels",
         "327.2150"
        ],
        [
         "826",
         "LL Road Rear Wheel",
         "Wheels",
         "112.5650"
        ],
        [
         "827",
         "ML Road Rear Wheel",
         "Wheels",
         "275.3850"
        ],
        [
         "828",
         "HL Road Rear Wheel",
         "Wheels",
         "357.0600"
        ],
        [
         "829",
         "Touring Rear Wheel",
         "Wheels",
         "245.0100"
        ],
        [
         "815",
         "LL Mountain Front Wheel",
         "Wheels",
         "60.7450"
        ],
        [
         "816",
         "ML Mountain Front Wheel",
         "Wheels",
         "209.0250"
        ],
        [
         "817",
         "HL Mountain Front Wheel",
         "Wheels",
         "300.2150"
        ],
        [
         "818",
         "LL Road Front Wheel",
         "Wheels",
         "85.5650"
        ],
        [
         "819",
         "ML Road Front Wheel",
         "Wheels",
         "248.3850"
        ],
        [
         "820",
         "HL Road Front Wheel",
         "Wheels",
         "330.0600"
        ],
        [
         "821",
         "Touring Front Wheel",
         "Wheels",
         "218.0100"
        ],
        [
         "855",
         "Men's Bib-Shorts, S",
         "Bib-Shorts",
         "89.9900"
        ],
        [
         "856",
         "Men's Bib-Shorts, M",
         "Bib-Shorts",
         "89.9900"
        ],
        [
         "857",
         "Men's Bib-Shorts, L",
         "Bib-Shorts",
         "89.9900"
        ],
        [
         "712",
         "AWC Logo Cap",
         "Caps",
         "8.9900"
        ],
        [
         "858",
         "Half-Finger Gloves, S",
         "Gloves",
         "24.4900"
        ],
        [
         "859",
         "Half-Finger Gloves, M",
         "Gloves",
         "24.4900"
        ],
        [
         "860",
         "Half-Finger Gloves, L",
         "Gloves",
         "24.4900"
        ],
        [
         "861",
         "Full-Finger Gloves, S",
         "Gloves",
         "37.9900"
        ],
        [
         "862",
         "Full-Finger Gloves, M",
         "Gloves",
         "37.9900"
        ],
        [
         "863",
         "Full-Finger Gloves, L",
         "Gloves",
         "37.9900"
        ],
        [
         "713",
         "Long-Sleeve Logo Jersey, S",
         "Jerseys",
         "49.9900"
        ],
        [
         "714",
         "Long-Sleeve Logo Jersey, M",
         "Jerseys",
         "49.9900"
        ],
        [
         "715",
         "Long-Sleeve Logo Jersey, L",
         "Jerseys",
         "49.9900"
        ],
        [
         "716",
         "Long-Sleeve Logo Jersey, XL",
         "Jerseys",
         "49.9900"
        ],
        [
         "881",
         "Short-Sleeve Classic Jersey, S",
         "Jerseys",
         "53.9900"
        ],
        [
         "882",
         "Short-Sleeve Classic Jersey, M",
         "Jerseys",
         "53.9900"
        ],
        [
         "883",
         "Short-Sleeve Classic Jersey, L",
         "Jerseys",
         "53.9900"
        ],
        [
         "884",
         "Short-Sleeve Classic Jersey, XL",
         "Jerseys",
         "53.9900"
        ],
        [
         "867",
         "Women's Mountain Shorts, S",
         "Shorts",
         "69.9900"
        ],
        [
         "868",
         "Women's Mountain Shorts, M",
         "Shorts",
         "69.9900"
        ],
        [
         "869",
         "Women's Mountain Shorts, L",
         "Shorts",
         "69.9900"
        ],
        [
         "841",
         "Men's Sports Shorts, S",
         "Shorts",
         "59.9900"
        ],
        [
         "849",
         "Men's Sports Shorts, M",
         "Shorts",
         "59.9900"
        ],
        [
         "850",
         "Men's Sports Shorts, L",
         "Shorts",
         "59.9900"
        ],
        [
         "851",
         "Men's Sports Shorts, XL",
         "Shorts",
         "59.9900"
        ],
        [
         "709",
         "Mountain Bike Socks, M",
         "Socks",
         "9.5000"
        ],
        [
         "710",
         "Mountain Bike Socks, L",
         "Socks",
         "9.5000"
        ],
        [
         "874",
         "Racing Socks, M",
         "Socks",
         "8.9900"
        ],
        [
         "875",
         "Racing Socks, L",
         "Socks",
         "8.9900"
        ],
        [
         "852",
         "Women's Tights, S",
         "Tights",
         "74.9900"
        ],
        [
         "853",
         "Women's Tights, M",
         "Tights",
         "74.9900"
        ],
        [
         "854",
         "Women's Tights, L",
         "Tights",
         "74.9900"
        ],
        [
         "864",
         "Classic Vest, S",
         "Vests",
         "63.5000"
        ],
        [
         "865",
         "Classic Vest, M",
         "Vests",
         "63.5000"
        ],
        [
         "866",
         "Classic Vest, L",
         "Vests",
         "63.5000"
        ],
        [
         "876",
         "Hitch Rack - 4-Bike",
         "Bike Racks",
         "120.0000"
        ],
        [
         "879",
         "All-Purpose Bike Stand",
         "Bike Stands",
         "159.0000"
        ],
        [
         "870",
         "Water Bottle - 30 oz.",
         "Bottles and Cages",
         "4.9900"
        ],
        [
         "871",
         "Mountain Bottle Cage",
         "Bottles and Cages",
         "9.9900"
        ],
        [
         "872",
         "Road Bottle Cage",
         "Bottles and Cages",
         "8.9900"
        ],
        [
         "877",
         "Bike Wash - Dissolver",
         "Cleaners",
         "7.9500"
        ],
        [
         "878",
         "Fender Set - Mountain",
         "Fenders",
         "21.9800"
        ],
        [
         "711",
         "Sport-100 Helmet, Blue",
         "Helmets",
         "34.9900"
        ],
        [
         "707",
         "Sport-100 Helmet, Red",
         "Helmets",
         "34.9900"
        ],
        [
         "708",
         "Sport-100 Helmet, Black",
         "Helmets",
         "34.9900"
        ],
        [
         "880",
         "Hydration Pack - 70 oz.",
         "Hydration Packs",
         "54.9900"
        ],
        [
         "846",
         "Taillights - Battery-Powered",
         "Lights",
         "13.9900"
        ],
        [
         "847",
         "Headlights - Dual-Beam",
         "Lights",
         "34.9900"
        ],
        [
         "848",
         "Headlights - Weatherproof",
         "Lights",
         "44.9900"
        ],
        [
         "843",
         "Cable Lock",
         "Locks",
         "25.0000"
        ],
        [
         "842",
         "Touring-Panniers, Large",
         "Panniers",
         "125.0000"
        ],
        [
         "844",
         "Minipump",
         "Pumps",
         "19.9900"
        ],
        [
         "845",
         "Mountain Pump",
         "Pumps",
         "24.9900"
        ],
        [
         "873",
         "Patch Kit/8 Patches",
         "Tires and Tubes",
         "2.2900"
        ],
        [
         "921",
         "Mountain Tire Tube",
         "Tires and Tubes",
         "4.9900"
        ],
        [
         "922",
         "Road Tire Tube",
         "Tires and Tubes",
         "3.9900"
        ],
        [
         "923",
         "Touring Tire Tube",
         "Tires and Tubes",
         "4.9900"
        ],
        [
         "928",
         "LL Mountain Tire",
         "Tires and Tubes",
         "24.9900"
        ],
        [
         "929",
         "ML Mountain Tire",
         "Tires and Tubes",
         "29.9900"
        ],
        [
         "930",
         "HL Mountain Tire",
         "Tires and Tubes",
         "35.0000"
        ],
        [
         "931",
         "LL Road Tire",
         "Tires and Tubes",
         "21.4900"
        ],
        [
         "932",
         "ML Road Tire",
         "Tires and Tubes",
         "24.9900"
        ],
        [
         "933",
         "HL Road Tire",
         "Tires and Tubes",
         "32.6000"
        ],
        [
         "934",
         "Touring Tire",
         "Tires and Tubes",
         "28.9900"
        ]
       ],
       "datasetInfos": [],
       "dbfsResultPath": null,
       "isJsonSchema": true,
       "metadata": {
        "dataframeName": "_sqldf",
        "executionCount": 13
       },
       "overflow": false,
       "plotOptions": {
        "customPlotOptions": {},
        "displayType": "table",
        "pivotAggregation": null,
        "pivotColumns": null,
        "xColumns": null,
        "yColumns": null
       },
       "removedWidgets": [],
       "schema": [
        {
         "metadata": "{}",
         "name": "ProductID",
         "type": "\"string\""
        },
        {
         "metadata": "{}",
         "name": "ProductName",
         "type": "\"string\""
        },
        {
         "metadata": "{}",
         "name": "Category",
         "type": "\"string\""
        },
        {
         "metadata": "{}",
         "name": "ListPrice",
         "type": "\"string\""
        }
       ],
       "type": "table"
      }
     },
     "output_type": "display_data"
    }
   ],
   "source": [
    "%sql\n",
    "USE AdventureWorks;\n",
    "SELECT * FROM ProductsManaged;"
   ]
  },
  {
   "cell_type": "code",
   "execution_count": 0,
   "metadata": {
    "application/vnd.databricks.v1+cell": {
     "cellMetadata": {
      "byteLimit": 2048000,
      "rowLimit": 10000
     },
     "inputWidgets": {},
     "nuid": "dd67e87f-1fd4-4ece-a2b9-ef5acd5a862a",
     "showTitle": false,
     "title": ""
    }
   },
   "outputs": [
    {
     "output_type": "stream",
     "name": "stdout",
     "output_type": "stream",
     "text": [
      "External table:\n_delta_log\npart-00000-82ded0c4-7dbc-488b-9c0c-b7c3c2972e98.c000.snappy.parquet\npart-00000-db3d9fda-7990-4c9a-a422-82a7ef8004a0.c000.snappy.parquet\n\nManaged table:\n_delta_log\npart-00000-adcaf7f5-83a0-41ec-b8ed-990b534ea618.c000.snappy.parquet\n"
     ]
    }
   ],
   "source": [
    " %sh\n",
    " echo \"External table:\"\n",
    " ls /dbfs/delta/products-delta\n",
    " echo\n",
    " echo \"Managed table:\"\n",
    " ls /dbfs/user/hive/warehouse/adventureworks.db/productsmanaged"
   ]
  },
  {
   "cell_type": "code",
   "execution_count": 0,
   "metadata": {
    "application/vnd.databricks.v1+cell": {
     "cellMetadata": {
      "byteLimit": 2048000,
      "implicitDf": true,
      "rowLimit": 10000
     },
     "inputWidgets": {},
     "nuid": "ae9c8f9f-193b-40bc-8882-0a4e8def27d7",
     "showTitle": false,
     "title": ""
    }
   },
   "outputs": [
    {
     "output_type": "display_data",
     "data": {
      "text/html": [
       "<style scoped>\n",
       "  .table-result-container {\n",
       "    max-height: 300px;\n",
       "    overflow: auto;\n",
       "  }\n",
       "  table, th, td {\n",
       "    border: 1px solid black;\n",
       "    border-collapse: collapse;\n",
       "  }\n",
       "  th, td {\n",
       "    padding: 5px;\n",
       "  }\n",
       "  th {\n",
       "    text-align: left;\n",
       "  }\n",
       "</style><div class='table-result-container'><table class='table-result'><thead style='background-color: white'><tr><th>database</th><th>tableName</th><th>isTemporary</th></tr></thead><tbody></tbody></table></div>"
      ]
     },
     "metadata": {
      "application/vnd.databricks.v1+output": {
       "addedWidgets": {},
       "aggData": [],
       "aggError": "",
       "aggOverflow": false,
       "aggSchema": [],
       "aggSeriesLimitReached": false,
       "aggType": "",
       "arguments": {},
       "columnCustomDisplayInfos": {},
       "data": [],
       "datasetInfos": [],
       "dbfsResultPath": null,
       "isJsonSchema": true,
       "metadata": {
        "dataframeName": "_sqldf",
        "executionCount": 15
       },
       "overflow": false,
       "plotOptions": {
        "customPlotOptions": {},
        "displayType": "table",
        "pivotAggregation": null,
        "pivotColumns": null,
        "xColumns": null,
        "yColumns": null
       },
       "removedWidgets": [],
       "schema": [
        {
         "metadata": "{}",
         "name": "database",
         "type": "\"string\""
        },
        {
         "metadata": "{}",
         "name": "tableName",
         "type": "\"string\""
        },
        {
         "metadata": "{}",
         "name": "isTemporary",
         "type": "\"boolean\""
        }
       ],
       "type": "table"
      }
     },
     "output_type": "display_data"
    }
   ],
   "source": [
    "%sql\n",
    "USE AdventureWorks;\n",
    "DROP TABLE IF EXISTS ProductsExternal;\n",
    "DROP TABLE IF EXISTS ProductsManaged;\n",
    "SHOW TABLES;"
   ]
  },
  {
   "cell_type": "code",
   "execution_count": 0,
   "metadata": {
    "application/vnd.databricks.v1+cell": {
     "cellMetadata": {
      "byteLimit": 2048000,
      "implicitDf": true,
      "rowLimit": 10000
     },
     "inputWidgets": {},
     "nuid": "5705b3d3-a17c-450e-8f07-78a1db962ddf",
     "showTitle": false,
     "title": ""
    }
   },
   "outputs": [
    {
     "output_type": "display_data",
     "data": {
      "text/html": [
       "<style scoped>\n",
       "  .table-result-container {\n",
       "    max-height: 300px;\n",
       "    overflow: auto;\n",
       "  }\n",
       "  table, th, td {\n",
       "    border: 1px solid black;\n",
       "    border-collapse: collapse;\n",
       "  }\n",
       "  th, td {\n",
       "    padding: 5px;\n",
       "  }\n",
       "  th {\n",
       "    text-align: left;\n",
       "  }\n",
       "</style><div class='table-result-container'><table class='table-result'><thead style='background-color: white'><tr></tr></thead><tbody></tbody></table></div>"
      ]
     },
     "metadata": {
      "application/vnd.databricks.v1+output": {
       "addedWidgets": {},
       "aggData": [],
       "aggError": "",
       "aggOverflow": false,
       "aggSchema": [],
       "aggSeriesLimitReached": false,
       "aggType": "",
       "arguments": {},
       "columnCustomDisplayInfos": {},
       "data": [],
       "datasetInfos": [],
       "dbfsResultPath": null,
       "isJsonSchema": true,
       "metadata": {
        "dataframeName": null
       },
       "overflow": false,
       "plotOptions": {
        "customPlotOptions": {},
        "displayType": "table",
        "pivotAggregation": null,
        "pivotColumns": null,
        "xColumns": null,
        "yColumns": null
       },
       "removedWidgets": [],
       "schema": [],
       "type": "table"
      }
     },
     "output_type": "display_data"
    }
   ],
   "source": [
    "%sql\n",
    "\n",
    "DROP table products;"
   ]
  },
  {
   "cell_type": "code",
   "execution_count": 0,
   "metadata": {
    "application/vnd.databricks.v1+cell": {
     "cellMetadata": {
      "byteLimit": 2048000,
      "rowLimit": 10000
     },
     "inputWidgets": {},
     "nuid": "9c60e4e0-d0d6-4a3b-848e-ab9777fea2e8",
     "showTitle": false,
     "title": ""
    }
   },
   "outputs": [
    {
     "output_type": "stream",
     "name": "stdout",
     "output_type": "stream",
     "text": [
      "External table:\n_delta_log\npart-00000-82ded0c4-7dbc-488b-9c0c-b7c3c2972e98.c000.snappy.parquet\npart-00000-db3d9fda-7990-4c9a-a422-82a7ef8004a0.c000.snappy.parquet\n\nManaged table:\n"
     ]
    }
   ],
   "source": [
    " %sh\n",
    " echo \"External table:\"\n",
    " ls /dbfs/delta/products-delta\n",
    " echo\n",
    " echo \"Managed table:\"\n",
    " ls /dbfs/user/hive/warehouse/adventureworks.db/productsmanaged"
   ]
  },
  {
   "cell_type": "code",
   "execution_count": 0,
   "metadata": {
    "application/vnd.databricks.v1+cell": {
     "cellMetadata": {
      "byteLimit": 2048000,
      "implicitDf": true,
      "rowLimit": 10000
     },
     "inputWidgets": {},
     "nuid": "bdc419d1-385c-4bd0-85df-f84b26765025",
     "showTitle": false,
     "title": ""
    }
   },
   "outputs": [
    {
     "output_type": "display_data",
     "data": {
      "text/html": [
       "<style scoped>\n",
       "  .table-result-container {\n",
       "    max-height: 300px;\n",
       "    overflow: auto;\n",
       "  }\n",
       "  table, th, td {\n",
       "    border: 1px solid black;\n",
       "    border-collapse: collapse;\n",
       "  }\n",
       "  th, td {\n",
       "    padding: 5px;\n",
       "  }\n",
       "  th {\n",
       "    text-align: left;\n",
       "  }\n",
       "</style><div class='table-result-container'><table class='table-result'><thead style='background-color: white'><tr></tr></thead><tbody></tbody></table></div>"
      ]
     },
     "metadata": {
      "application/vnd.databricks.v1+output": {
       "addedWidgets": {},
       "aggData": [],
       "aggError": "",
       "aggOverflow": false,
       "aggSchema": [],
       "aggSeriesLimitReached": false,
       "aggType": "",
       "arguments": {},
       "columnCustomDisplayInfos": {},
       "data": [],
       "datasetInfos": [],
       "dbfsResultPath": null,
       "isJsonSchema": true,
       "metadata": {
        "dataframeName": null
       },
       "overflow": false,
       "plotOptions": {
        "customPlotOptions": {},
        "displayType": "table",
        "pivotAggregation": null,
        "pivotColumns": null,
        "xColumns": null,
        "yColumns": null
       },
       "removedWidgets": [],
       "schema": [],
       "type": "table"
      }
     },
     "output_type": "display_data"
    }
   ],
   "source": [
    "%sql\n",
    "USE AdventureWorks;\n",
    "CREATE TABLE Products\n",
    "USING DELTA\n",
    "LOCATION '/delta/products-delta';"
   ]
  },
  {
   "cell_type": "code",
   "execution_count": 0,
   "metadata": {
    "application/vnd.databricks.v1+cell": {
     "cellMetadata": {
      "byteLimit": 2048000,
      "implicitDf": true,
      "rowLimit": 10000
     },
     "inputWidgets": {},
     "nuid": "0f651729-96ec-4103-9f73-4c0328e45640",
     "showTitle": false,
     "title": ""
    }
   },
   "outputs": [
    {
     "output_type": "display_data",
     "data": {
      "text/html": [
       "<style scoped>\n",
       "  .table-result-container {\n",
       "    max-height: 300px;\n",
       "    overflow: auto;\n",
       "  }\n",
       "  table, th, td {\n",
       "    border: 1px solid black;\n",
       "    border-collapse: collapse;\n",
       "  }\n",
       "  th, td {\n",
       "    padding: 5px;\n",
       "  }\n",
       "  th {\n",
       "    text-align: left;\n",
       "  }\n",
       "</style><div class='table-result-container'><table class='table-result'><thead style='background-color: white'><tr><th>ProductID</th><th>ProductName</th><th>Category</th><th>ListPrice</th></tr></thead><tbody><tr><td>771</td><td>Mountain-100 Silver, 38</td><td>Mountain Bikes</td><td>3059.991</td></tr><tr><td>772</td><td>Mountain-100 Silver, 42</td><td>Mountain Bikes</td><td>3399.9900</td></tr><tr><td>773</td><td>Mountain-100 Silver, 44</td><td>Mountain Bikes</td><td>3399.9900</td></tr><tr><td>774</td><td>Mountain-100 Silver, 48</td><td>Mountain Bikes</td><td>3399.9900</td></tr><tr><td>775</td><td>Mountain-100 Black, 38</td><td>Mountain Bikes</td><td>3374.9900</td></tr><tr><td>776</td><td>Mountain-100 Black, 42</td><td>Mountain Bikes</td><td>3374.9900</td></tr><tr><td>777</td><td>Mountain-100 Black, 44</td><td>Mountain Bikes</td><td>3374.9900</td></tr><tr><td>778</td><td>Mountain-100 Black, 48</td><td>Mountain Bikes</td><td>3374.9900</td></tr><tr><td>779</td><td>Mountain-200 Silver, 38</td><td>Mountain Bikes</td><td>2319.9900</td></tr><tr><td>780</td><td>Mountain-200 Silver, 42</td><td>Mountain Bikes</td><td>2319.9900</td></tr><tr><td>781</td><td>Mountain-200 Silver, 46</td><td>Mountain Bikes</td><td>2319.9900</td></tr><tr><td>782</td><td>Mountain-200 Black, 38</td><td>Mountain Bikes</td><td>2294.9900</td></tr><tr><td>783</td><td>Mountain-200 Black, 42</td><td>Mountain Bikes</td><td>2294.9900</td></tr><tr><td>784</td><td>Mountain-200 Black, 46</td><td>Mountain Bikes</td><td>2294.9900</td></tr><tr><td>785</td><td>Mountain-300 Black, 38</td><td>Mountain Bikes</td><td>1079.9900</td></tr><tr><td>786</td><td>Mountain-300 Black, 40</td><td>Mountain Bikes</td><td>1079.9900</td></tr><tr><td>787</td><td>Mountain-300 Black, 44</td><td>Mountain Bikes</td><td>1079.9900</td></tr><tr><td>788</td><td>Mountain-300 Black, 48</td><td>Mountain Bikes</td><td>1079.9900</td></tr><tr><td>980</td><td>Mountain-400-W Silver, 38</td><td>Mountain Bikes</td><td>769.4900</td></tr><tr><td>981</td><td>Mountain-400-W Silver, 40</td><td>Mountain Bikes</td><td>769.4900</td></tr><tr><td>982</td><td>Mountain-400-W Silver, 42</td><td>Mountain Bikes</td><td>769.4900</td></tr><tr><td>983</td><td>Mountain-400-W Silver, 46</td><td>Mountain Bikes</td><td>769.4900</td></tr><tr><td>984</td><td>Mountain-500 Silver, 40</td><td>Mountain Bikes</td><td>564.9900</td></tr><tr><td>985</td><td>Mountain-500 Silver, 42</td><td>Mountain Bikes</td><td>564.9900</td></tr><tr><td>986</td><td>Mountain-500 Silver, 44</td><td>Mountain Bikes</td><td>564.9900</td></tr><tr><td>987</td><td>Mountain-500 Silver, 48</td><td>Mountain Bikes</td><td>564.9900</td></tr><tr><td>988</td><td>Mountain-500 Silver, 52</td><td>Mountain Bikes</td><td>564.9900</td></tr><tr><td>989</td><td>Mountain-500 Black, 40</td><td>Mountain Bikes</td><td>539.9900</td></tr><tr><td>990</td><td>Mountain-500 Black, 42</td><td>Mountain Bikes</td><td>539.9900</td></tr><tr><td>991</td><td>Mountain-500 Black, 44</td><td>Mountain Bikes</td><td>539.9900</td></tr><tr><td>992</td><td>Mountain-500 Black, 48</td><td>Mountain Bikes</td><td>539.9900</td></tr><tr><td>993</td><td>Mountain-500 Black, 52</td><td>Mountain Bikes</td><td>539.9900</td></tr><tr><td>973</td><td>Road-350-W Yellow, 40</td><td>Road Bikes</td><td>1700.9900</td></tr><tr><td>974</td><td>Road-350-W Yellow, 42</td><td>Road Bikes</td><td>1700.9900</td></tr><tr><td>975</td><td>Road-350-W Yellow, 44</td><td>Road Bikes</td><td>1700.9900</td></tr><tr><td>976</td><td>Road-350-W Yellow, 48</td><td>Road Bikes</td><td>1700.9900</td></tr><tr><td>977</td><td>Road-750 Black, 58</td><td>Road Bikes</td><td>539.9900</td></tr><tr><td>997</td><td>Road-750 Black, 44</td><td>Road Bikes</td><td>539.9900</td></tr><tr><td>998</td><td>Road-750 Black, 48</td><td>Road Bikes</td><td>539.9900</td></tr><tr><td>999</td><td>Road-750 Black, 52</td><td>Road Bikes</td><td>539.9900</td></tr><tr><td>789</td><td>Road-250 Red, 44</td><td>Road Bikes</td><td>2443.3500</td></tr><tr><td>790</td><td>Road-250 Red, 48</td><td>Road Bikes</td><td>2443.3500</td></tr><tr><td>791</td><td>Road-250 Red, 52</td><td>Road Bikes</td><td>2443.3500</td></tr><tr><td>792</td><td>Road-250 Red, 58</td><td>Road Bikes</td><td>2443.3500</td></tr><tr><td>793</td><td>Road-250 Black, 44</td><td>Road Bikes</td><td>2443.3500</td></tr><tr><td>794</td><td>Road-250 Black, 48</td><td>Road Bikes</td><td>2443.3500</td></tr><tr><td>795</td><td>Road-250 Black, 52</td><td>Road Bikes</td><td>2443.3500</td></tr><tr><td>796</td><td>Road-250 Black, 58</td><td>Road Bikes</td><td>2443.3500</td></tr><tr><td>797</td><td>Road-550-W Yellow, 38</td><td>Road Bikes</td><td>1120.4900</td></tr><tr><td>798</td><td>Road-550-W Yellow, 40</td><td>Road Bikes</td><td>1120.4900</td></tr><tr><td>799</td><td>Road-550-W Yellow, 42</td><td>Road Bikes</td><td>1120.4900</td></tr><tr><td>800</td><td>Road-550-W Yellow, 44</td><td>Road Bikes</td><td>1120.4900</td></tr><tr><td>801</td><td>Road-550-W Yellow, 48</td><td>Road Bikes</td><td>1120.4900</td></tr><tr><td>749</td><td>Road-150 Red, 62</td><td>Road Bikes</td><td>3578.2700</td></tr><tr><td>750</td><td>Road-150 Red, 44</td><td>Road Bikes</td><td>3578.2700</td></tr><tr><td>751</td><td>Road-150 Red, 48</td><td>Road Bikes</td><td>3578.2700</td></tr><tr><td>752</td><td>Road-150 Red, 52</td><td>Road Bikes</td><td>3578.2700</td></tr><tr><td>753</td><td>Road-150 Red, 56</td><td>Road Bikes</td><td>3578.2700</td></tr><tr><td>754</td><td>Road-450 Red, 58</td><td>Road Bikes</td><td>1457.9900</td></tr><tr><td>755</td><td>Road-450 Red, 60</td><td>Road Bikes</td><td>1457.9900</td></tr><tr><td>756</td><td>Road-450 Red, 44</td><td>Road Bikes</td><td>1457.9900</td></tr><tr><td>757</td><td>Road-450 Red, 48</td><td>Road Bikes</td><td>1457.9900</td></tr><tr><td>758</td><td>Road-450 Red, 52</td><td>Road Bikes</td><td>1457.9900</td></tr><tr><td>759</td><td>Road-650 Red, 58</td><td>Road Bikes</td><td>782.9900</td></tr><tr><td>760</td><td>Road-650 Red, 60</td><td>Road Bikes</td><td>782.9900</td></tr><tr><td>761</td><td>Road-650 Red, 62</td><td>Road Bikes</td><td>782.9900</td></tr><tr><td>762</td><td>Road-650 Red, 44</td><td>Road Bikes</td><td>782.9900</td></tr><tr><td>763</td><td>Road-650 Red, 48</td><td>Road Bikes</td><td>782.9900</td></tr><tr><td>764</td><td>Road-650 Red, 52</td><td>Road Bikes</td><td>782.9900</td></tr><tr><td>765</td><td>Road-650 Black, 58</td><td>Road Bikes</td><td>782.9900</td></tr><tr><td>766</td><td>Road-650 Black, 60</td><td>Road Bikes</td><td>782.9900</td></tr><tr><td>767</td><td>Road-650 Black, 62</td><td>Road Bikes</td><td>782.9900</td></tr><tr><td>768</td><td>Road-650 Black, 44</td><td>Road Bikes</td><td>782.9900</td></tr><tr><td>769</td><td>Road-650 Black, 48</td><td>Road Bikes</td><td>782.9900</td></tr><tr><td>770</td><td>Road-650 Black, 52</td><td>Road Bikes</td><td>782.9900</td></tr><tr><td>978</td><td>Touring-3000 Blue, 44</td><td>Touring Bikes</td><td>742.3500</td></tr><tr><td>979</td><td>Touring-3000 Blue, 50</td><td>Touring Bikes</td><td>742.3500</td></tr><tr><td>953</td><td>Touring-2000 Blue, 60</td><td>Touring Bikes</td><td>1214.8500</td></tr><tr><td>954</td><td>Touring-1000 Yellow, 46</td><td>Touring Bikes</td><td>2384.0700</td></tr><tr><td>955</td><td>Touring-1000 Yellow, 50</td><td>Touring Bikes</td><td>2384.0700</td></tr><tr><td>956</td><td>Touring-1000 Yellow, 54</td><td>Touring Bikes</td><td>2384.0700</td></tr><tr><td>957</td><td>Touring-1000 Yellow, 60</td><td>Touring Bikes</td><td>2384.0700</td></tr><tr><td>958</td><td>Touring-3000 Blue, 54</td><td>Touring Bikes</td><td>742.3500</td></tr><tr><td>959</td><td>Touring-3000 Blue, 58</td><td>Touring Bikes</td><td>742.3500</td></tr><tr><td>960</td><td>Touring-3000 Blue, 62</td><td>Touring Bikes</td><td>742.3500</td></tr><tr><td>961</td><td>Touring-3000 Yellow, 44</td><td>Touring Bikes</td><td>742.3500</td></tr><tr><td>962</td><td>Touring-3000 Yellow, 50</td><td>Touring Bikes</td><td>742.3500</td></tr><tr><td>963</td><td>Touring-3000 Yellow, 54</td><td>Touring Bikes</td><td>742.3500</td></tr><tr><td>964</td><td>Touring-3000 Yellow, 58</td><td>Touring Bikes</td><td>742.3500</td></tr><tr><td>965</td><td>Touring-3000 Yellow, 62</td><td>Touring Bikes</td><td>742.3500</td></tr><tr><td>966</td><td>Touring-1000 Blue, 46</td><td>Touring Bikes</td><td>2384.0700</td></tr><tr><td>967</td><td>Touring-1000 Blue, 50</td><td>Touring Bikes</td><td>2384.0700</td></tr><tr><td>968</td><td>Touring-1000 Blue, 54</td><td>Touring Bikes</td><td>2384.0700</td></tr><tr><td>969</td><td>Touring-1000 Blue, 60</td><td>Touring Bikes</td><td>2384.0700</td></tr><tr><td>970</td><td>Touring-2000 Blue, 46</td><td>Touring Bikes</td><td>1214.8500</td></tr><tr><td>971</td><td>Touring-2000 Blue, 50</td><td>Touring Bikes</td><td>1214.8500</td></tr><tr><td>972</td><td>Touring-2000 Blue, 54</td><td>Touring Bikes</td><td>1214.8500</td></tr><tr><td>946</td><td>LL Touring Handlebars</td><td>Handlebars</td><td>46.0900</td></tr><tr><td>947</td><td>HL Touring Handlebars</td><td>Handlebars</td><td>91.5700</td></tr><tr><td>808</td><td>LL Mountain Handlebars</td><td>Handlebars</td><td>44.5400</td></tr><tr><td>809</td><td>ML Mountain Handlebars</td><td>Handlebars</td><td>61.9200</td></tr><tr><td>810</td><td>HL Mountain Handlebars</td><td>Handlebars</td><td>120.2700</td></tr><tr><td>811</td><td>LL Road Handlebars</td><td>Handlebars</td><td>44.5400</td></tr><tr><td>812</td><td>ML Road Handlebars</td><td>Handlebars</td><td>61.9200</td></tr><tr><td>813</td><td>HL Road Handlebars</td><td>Handlebars</td><td>120.2700</td></tr><tr><td>994</td><td>LL Bottom Bracket</td><td>Bottom Brackets</td><td>53.9900</td></tr><tr><td>995</td><td>ML Bottom Bracket</td><td>Bottom Brackets</td><td>101.2400</td></tr><tr><td>996</td><td>HL Bottom Bracket</td><td>Bottom Brackets</td><td>121.4900</td></tr><tr><td>948</td><td>Front Brakes</td><td>Brakes</td><td>106.5000</td></tr><tr><td>907</td><td>Rear Brakes</td><td>Brakes</td><td>106.5000</td></tr><tr><td>952</td><td>Chain</td><td>Chains</td><td>20.2400</td></tr><tr><td>949</td><td>LL Crankset</td><td>Cranksets</td><td>175.4900</td></tr><tr><td>950</td><td>ML Crankset</td><td>Cranksets</td><td>256.4900</td></tr><tr><td>951</td><td>HL Crankset</td><td>Cranksets</td><td>404.9900</td></tr><tr><td>945</td><td>Front Derailleur</td><td>Derailleurs</td><td>91.4900</td></tr><tr><td>894</td><td>Rear Derailleur</td><td>Derailleurs</td><td>121.4600</td></tr><tr><td>802</td><td>LL Fork</td><td>Forks</td><td>148.2200</td></tr><tr><td>803</td><td>ML Fork</td><td>Forks</td><td>175.4900</td></tr><tr><td>804</td><td>HL Fork</td><td>Forks</td><td>229.4900</td></tr><tr><td>805</td><td>LL Headset</td><td>Headsets</td><td>34.2000</td></tr><tr><td>806</td><td>ML Headset</td><td>Headsets</td><td>102.2900</td></tr><tr><td>807</td><td>HL Headset</td><td>Headsets</td><td>124.7300</td></tr><tr><td>739</td><td>HL Mountain Frame - Silver, 42</td><td>Mountain Frames</td><td>1364.5000</td></tr><tr><td>740</td><td>HL Mountain Frame - Silver, 44</td><td>Mountain Frames</td><td>1364.5000</td></tr><tr><td>741</td><td>HL Mountain Frame - Silver, 48</td><td>Mountain Frames</td><td>1364.5000</td></tr><tr><td>742</td><td>HL Mountain Frame - Silver, 46</td><td>Mountain Frames</td><td>1364.5000</td></tr><tr><td>743</td><td>HL Mountain Frame - Black, 42</td><td>Mountain Frames</td><td>1349.6000</td></tr><tr><td>744</td><td>HL Mountain Frame - Black, 44</td><td>Mountain Frames</td><td>1349.6000</td></tr><tr><td>745</td><td>HL Mountain Frame - Black, 48</td><td>Mountain Frames</td><td>1349.6000</td></tr><tr><td>746</td><td>HL Mountain Frame - Black, 46</td><td>Mountain Frames</td><td>1349.6000</td></tr><tr><td>747</td><td>HL Mountain Frame - Black, 38</td><td>Mountain Frames</td><td>1349.6000</td></tr><tr><td>748</td><td>HL Mountain Frame - Silver, 38</td><td>Mountain Frames</td><td>1364.5000</td></tr><tr><td>814</td><td>ML Mountain Frame - Black, 38</td><td>Mountain Frames</td><td>348.7600</td></tr><tr><td>830</td><td>ML Mountain Frame - Black, 40</td><td>Mountain Frames</td><td>348.7600</td></tr><tr><td>831</td><td>ML Mountain Frame - Black, 44</td><td>Mountain Frames</td><td>348.7600</td></tr><tr><td>832</td><td>ML Mountain Frame - Black, 48</td><td>Mountain Frames</td><td>348.7600</td></tr><tr><td>924</td><td>LL Mountain Frame - Black, 42</td><td>Mountain Frames</td><td>249.7900</td></tr><tr><td>925</td><td>LL Mountain Frame - Black, 44</td><td>Mountain Frames</td><td>249.7900</td></tr><tr><td>926</td><td>LL Mountain Frame - Black, 48</td><td>Mountain Frames</td><td>249.7900</td></tr><tr><td>927</td><td>LL Mountain Frame - Black, 52</td><td>Mountain Frames</td><td>249.7900</td></tr><tr><td>917</td><td>LL Mountain Frame - Silver, 42</td><td>Mountain Frames</td><td>264.0500</td></tr><tr><td>918</td><td>LL Mountain Frame - Silver, 44</td><td>Mountain Frames</td><td>264.0500</td></tr><tr><td>919</td><td>LL Mountain Frame - Silver, 48</td><td>Mountain Frames</td><td>264.0500</td></tr><tr><td>920</td><td>LL Mountain Frame - Silver, 52</td><td>Mountain Frames</td><td>264.0500</td></tr><tr><td>904</td><td>ML Mountain Frame-W - Silver, 40</td><td>Mountain Frames</td><td>364.0900</td></tr><tr><td>905</td><td>ML Mountain Frame-W - Silver, 42</td><td>Mountain Frames</td><td>364.0900</td></tr><tr><td>906</td><td>ML Mountain Frame-W - Silver, 46</td><td>Mountain Frames</td><td>364.0900</td></tr><tr><td>942</td><td>ML Mountain Frame-W - Silver, 38</td><td>Mountain Frames</td><td>364.0900</td></tr><tr><td>943</td><td>LL Mountain Frame - Black, 40</td><td>Mountain Frames</td><td>249.7900</td></tr><tr><td>944</td><td>LL Mountain Frame - Silver, 40</td><td>Mountain Frames</td><td>264.0500</td></tr><tr><td>935</td><td>LL Mountain Pedal</td><td>Pedals</td><td>40.4900</td></tr><tr><td>936</td><td>ML Mountain Pedal</td><td>Pedals</td><td>62.0900</td></tr><tr><td>937</td><td>HL Mountain Pedal</td><td>Pedals</td><td>80.9900</td></tr><tr><td>938</td><td>LL Road Pedal</td><td>Pedals</td><td>40.4900</td></tr><tr><td>939</td><td>ML Road Pedal</td><td>Pedals</td><td>62.0900</td></tr><tr><td>940</td><td>HL Road Pedal</td><td>Pedals</td><td>80.9900</td></tr><tr><td>941</td><td>Touring Pedal</td><td>Pedals</td><td>80.9900</td></tr><tr><td>833</td><td>ML Road Frame-W - Yellow, 40</td><td>Road Frames</td><td>594.8300</td></tr><tr><td>834</td><td>ML Road Frame-W - Yellow, 42</td><td>Road Frames</td><td>594.8300</td></tr><tr><td>835</td><td>ML Road Frame-W - Yellow, 44</td><td>Road Frames</td><td>594.8300</td></tr><tr><td>836</td><td>ML Road Frame-W - Yellow, 48</td><td>Road Frames</td><td>594.8300</td></tr><tr><td>837</td><td>HL Road Frame - Black, 62</td><td>Road Frames</td><td>1431.5000</td></tr><tr><td>838</td><td>HL Road Frame - Black, 44</td><td>Road Frames</td><td>1431.5000</td></tr><tr><td>839</td><td>HL Road Frame - Black, 48</td><td>Road Frames</td><td>1431.5000</td></tr><tr><td>840</td><td>HL Road Frame - Black, 52</td><td>Road Frames</td><td>1431.5000</td></tr><tr><td>822</td><td>ML Road Frame-W - Yellow, 38</td><td>Road Frames</td><td>594.8300</td></tr><tr><td>680</td><td>HL Road Frame - Black, 58</td><td>Road Frames</td><td>1431.5000</td></tr><tr><td>706</td><td>HL Road Frame - Red, 58</td><td>Road Frames</td><td>1431.5000</td></tr><tr><td>717</td><td>HL Road Frame - Red, 62</td><td>Road Frames</td><td>1431.5000</td></tr><tr><td>718</td><td>HL Road Frame - Red, 44</td><td>Road Frames</td><td>1431.5000</td></tr><tr><td>719</td><td>HL Road Frame - Red, 48</td><td>Road Frames</td><td>1431.5000</td></tr><tr><td>720</td><td>HL Road Frame - Red, 52</td><td>Road Frames</td><td>1431.5000</td></tr><tr><td>721</td><td>HL Road Frame - Red, 56</td><td>Road Frames</td><td>1431.5000</td></tr><tr><td>722</td><td>LL Road Frame - Black, 58</td><td>Road Frames</td><td>337.2200</td></tr><tr><td>723</td><td>LL Road Frame - Black, 60</td><td>Road Frames</td><td>337.2200</td></tr><tr><td>724</td><td>LL Road Frame - Black, 62</td><td>Road Frames</td><td>337.2200</td></tr><tr><td>725</td><td>LL Road Frame - Red, 44</td><td>Road Frames</td><td>337.2200</td></tr><tr><td>726</td><td>LL Road Frame - Red, 48</td><td>Road Frames</td><td>337.2200</td></tr><tr><td>727</td><td>LL Road Frame - Red, 52</td><td>Road Frames</td><td>337.2200</td></tr><tr><td>728</td><td>LL Road Frame - Red, 58</td><td>Road Frames</td><td>337.2200</td></tr><tr><td>729</td><td>LL Road Frame - Red, 60</td><td>Road Frames</td><td>337.2200</td></tr><tr><td>730</td><td>LL Road Frame - Red, 62</td><td>Road Frames</td><td>337.2200</td></tr><tr><td>731</td><td>ML Road Frame - Red, 44</td><td>Road Frames</td><td>594.8300</td></tr><tr><td>732</td><td>ML Road Frame - Red, 48</td><td>Road Frames</td><td>594.8300</td></tr><tr><td>733</td><td>ML Road Frame - Red, 52</td><td>Road Frames</td><td>594.8300</td></tr><tr><td>734</td><td>ML Road Frame - Red, 58</td><td>Road Frames</td><td>594.8300</td></tr><tr><td>735</td><td>ML Road Frame - Red, 60</td><td>Road Frames</td><td>594.8300</td></tr><tr><td>736</td><td>LL Road Frame - Black, 44</td><td>Road Frames</td><td>337.2200</td></tr><tr><td>737</td><td>LL Road Frame - Black, 48</td><td>Road Frames</td><td>337.2200</td></tr><tr><td>738</td><td>LL Road Frame - Black, 52</td><td>Road Frames</td><td>337.2200</td></tr><tr><td>908</td><td>LL Mountain Seat/Saddle</td><td>Saddles</td><td>27.1200</td></tr><tr><td>909</td><td>ML Mountain Seat/Saddle</td><td>Saddles</td><td>39.1400</td></tr><tr><td>910</td><td>HL Mountain Seat/Saddle</td><td>Saddles</td><td>52.6400</td></tr><tr><td>911</td><td>LL Road Seat/Saddle</td><td>Saddles</td><td>27.1200</td></tr><tr><td>912</td><td>ML Road Seat/Saddle</td><td>Saddles</td><td>39.1400</td></tr><tr><td>913</td><td>HL Road Seat/Saddle</td><td>Saddles</td><td>52.6400</td></tr><tr><td>914</td><td>LL Touring Seat/Saddle</td><td>Saddles</td><td>27.1200</td></tr><tr><td>915</td><td>ML Touring Seat/Saddle</td><td>Saddles</td><td>39.1400</td></tr><tr><td>916</td><td>HL Touring Seat/Saddle</td><td>Saddles</td><td>52.6400</td></tr><tr><td>895</td><td>LL Touring Frame - Blue, 50</td><td>Touring Frames</td><td>333.4200</td></tr><tr><td>896</td><td>LL Touring Frame - Blue, 54</td><td>Touring Frames</td><td>333.4200</td></tr><tr><td>897</td><td>LL Touring Frame - Blue, 58</td><td>Touring Frames</td><td>333.4200</td></tr><tr><td>898</td><td>LL Touring Frame - Blue, 62</td><td>Touring Frames</td><td>333.4200</td></tr><tr><td>899</td><td>LL Touring Frame - Yellow, 44</td><td>Touring Frames</td><td>333.4200</td></tr><tr><td>900</td><td>LL Touring Frame - Yellow, 50</td><td>Touring Frames</td><td>333.4200</td></tr><tr><td>901</td><td>LL Touring Frame - Yellow, 54</td><td>Touring Frames</td><td>333.4200</td></tr><tr><td>902</td><td>LL Touring Frame - Yellow, 58</td><td>Touring Frames</td><td>333.4200</td></tr><tr><td>903</td><td>LL Touring Frame - Blue, 44</td><td>Touring Frames</td><td>333.4200</td></tr><tr><td>885</td><td>HL Touring Frame - Yellow, 60</td><td>Touring Frames</td><td>1003.9100</td></tr><tr><td>886</td><td>LL Touring Frame - Yellow, 62</td><td>Touring Frames</td><td>333.4200</td></tr><tr><td>887</td><td>HL Touring Frame - Yellow, 46</td><td>Touring Frames</td><td>1003.9100</td></tr><tr><td>888</td><td>HL Touring Frame - Yellow, 50</td><td>Touring Frames</td><td>1003.9100</td></tr><tr><td>889</td><td>HL Touring Frame - Yellow, 54</td><td>Touring Frames</td><td>1003.9100</td></tr><tr><td>890</td><td>HL Touring Frame - Blue, 46</td><td>Touring Frames</td><td>1003.9100</td></tr><tr><td>891</td><td>HL Touring Frame - Blue, 50</td><td>Touring Frames</td><td>1003.9100</td></tr><tr><td>892</td><td>HL Touring Frame - Blue, 54</td><td>Touring Frames</td><td>1003.9100</td></tr><tr><td>893</td><td>HL Touring Frame - Blue, 60</td><td>Touring Frames</td><td>1003.9100</td></tr><tr><td>823</td><td>LL Mountain Rear Wheel</td><td>Wheels</td><td>87.7450</td></tr><tr><td>824</td><td>ML Mountain Rear Wheel</td><td>Wheels</td><td>236.0250</td></tr><tr><td>825</td><td>HL Mountain Rear Wheel</td><td>Wheels</td><td>327.2150</td></tr><tr><td>826</td><td>LL Road Rear Wheel</td><td>Wheels</td><td>112.5650</td></tr><tr><td>827</td><td>ML Road Rear Wheel</td><td>Wheels</td><td>275.3850</td></tr><tr><td>828</td><td>HL Road Rear Wheel</td><td>Wheels</td><td>357.0600</td></tr><tr><td>829</td><td>Touring Rear Wheel</td><td>Wheels</td><td>245.0100</td></tr><tr><td>815</td><td>LL Mountain Front Wheel</td><td>Wheels</td><td>60.7450</td></tr><tr><td>816</td><td>ML Mountain Front Wheel</td><td>Wheels</td><td>209.0250</td></tr><tr><td>817</td><td>HL Mountain Front Wheel</td><td>Wheels</td><td>300.2150</td></tr><tr><td>818</td><td>LL Road Front Wheel</td><td>Wheels</td><td>85.5650</td></tr><tr><td>819</td><td>ML Road Front Wheel</td><td>Wheels</td><td>248.3850</td></tr><tr><td>820</td><td>HL Road Front Wheel</td><td>Wheels</td><td>330.0600</td></tr><tr><td>821</td><td>Touring Front Wheel</td><td>Wheels</td><td>218.0100</td></tr><tr><td>855</td><td>Men's Bib-Shorts, S</td><td>Bib-Shorts</td><td>89.9900</td></tr><tr><td>856</td><td>Men's Bib-Shorts, M</td><td>Bib-Shorts</td><td>89.9900</td></tr><tr><td>857</td><td>Men's Bib-Shorts, L</td><td>Bib-Shorts</td><td>89.9900</td></tr><tr><td>712</td><td>AWC Logo Cap</td><td>Caps</td><td>8.9900</td></tr><tr><td>858</td><td>Half-Finger Gloves, S</td><td>Gloves</td><td>24.4900</td></tr><tr><td>859</td><td>Half-Finger Gloves, M</td><td>Gloves</td><td>24.4900</td></tr><tr><td>860</td><td>Half-Finger Gloves, L</td><td>Gloves</td><td>24.4900</td></tr><tr><td>861</td><td>Full-Finger Gloves, S</td><td>Gloves</td><td>37.9900</td></tr><tr><td>862</td><td>Full-Finger Gloves, M</td><td>Gloves</td><td>37.9900</td></tr><tr><td>863</td><td>Full-Finger Gloves, L</td><td>Gloves</td><td>37.9900</td></tr><tr><td>713</td><td>Long-Sleeve Logo Jersey, S</td><td>Jerseys</td><td>49.9900</td></tr><tr><td>714</td><td>Long-Sleeve Logo Jersey, M</td><td>Jerseys</td><td>49.9900</td></tr><tr><td>715</td><td>Long-Sleeve Logo Jersey, L</td><td>Jerseys</td><td>49.9900</td></tr><tr><td>716</td><td>Long-Sleeve Logo Jersey, XL</td><td>Jerseys</td><td>49.9900</td></tr><tr><td>881</td><td>Short-Sleeve Classic Jersey, S</td><td>Jerseys</td><td>53.9900</td></tr><tr><td>882</td><td>Short-Sleeve Classic Jersey, M</td><td>Jerseys</td><td>53.9900</td></tr><tr><td>883</td><td>Short-Sleeve Classic Jersey, L</td><td>Jerseys</td><td>53.9900</td></tr><tr><td>884</td><td>Short-Sleeve Classic Jersey, XL</td><td>Jerseys</td><td>53.9900</td></tr><tr><td>867</td><td>Women's Mountain Shorts, S</td><td>Shorts</td><td>69.9900</td></tr><tr><td>868</td><td>Women's Mountain Shorts, M</td><td>Shorts</td><td>69.9900</td></tr><tr><td>869</td><td>Women's Mountain Shorts, L</td><td>Shorts</td><td>69.9900</td></tr><tr><td>841</td><td>Men's Sports Shorts, S</td><td>Shorts</td><td>59.9900</td></tr><tr><td>849</td><td>Men's Sports Shorts, M</td><td>Shorts</td><td>59.9900</td></tr><tr><td>850</td><td>Men's Sports Shorts, L</td><td>Shorts</td><td>59.9900</td></tr><tr><td>851</td><td>Men's Sports Shorts, XL</td><td>Shorts</td><td>59.9900</td></tr><tr><td>709</td><td>Mountain Bike Socks, M</td><td>Socks</td><td>9.5000</td></tr><tr><td>710</td><td>Mountain Bike Socks, L</td><td>Socks</td><td>9.5000</td></tr><tr><td>874</td><td>Racing Socks, M</td><td>Socks</td><td>8.9900</td></tr><tr><td>875</td><td>Racing Socks, L</td><td>Socks</td><td>8.9900</td></tr><tr><td>852</td><td>Women's Tights, S</td><td>Tights</td><td>74.9900</td></tr><tr><td>853</td><td>Women's Tights, M</td><td>Tights</td><td>74.9900</td></tr><tr><td>854</td><td>Women's Tights, L</td><td>Tights</td><td>74.9900</td></tr><tr><td>864</td><td>Classic Vest, S</td><td>Vests</td><td>63.5000</td></tr><tr><td>865</td><td>Classic Vest, M</td><td>Vests</td><td>63.5000</td></tr><tr><td>866</td><td>Classic Vest, L</td><td>Vests</td><td>63.5000</td></tr><tr><td>876</td><td>Hitch Rack - 4-Bike</td><td>Bike Racks</td><td>120.0000</td></tr><tr><td>879</td><td>All-Purpose Bike Stand</td><td>Bike Stands</td><td>159.0000</td></tr><tr><td>870</td><td>Water Bottle - 30 oz.</td><td>Bottles and Cages</td><td>4.9900</td></tr><tr><td>871</td><td>Mountain Bottle Cage</td><td>Bottles and Cages</td><td>9.9900</td></tr><tr><td>872</td><td>Road Bottle Cage</td><td>Bottles and Cages</td><td>8.9900</td></tr><tr><td>877</td><td>Bike Wash - Dissolver</td><td>Cleaners</td><td>7.9500</td></tr><tr><td>878</td><td>Fender Set - Mountain</td><td>Fenders</td><td>21.9800</td></tr><tr><td>711</td><td>Sport-100 Helmet, Blue</td><td>Helmets</td><td>34.9900</td></tr><tr><td>707</td><td>Sport-100 Helmet, Red</td><td>Helmets</td><td>34.9900</td></tr><tr><td>708</td><td>Sport-100 Helmet, Black</td><td>Helmets</td><td>34.9900</td></tr><tr><td>880</td><td>Hydration Pack - 70 oz.</td><td>Hydration Packs</td><td>54.9900</td></tr><tr><td>846</td><td>Taillights - Battery-Powered</td><td>Lights</td><td>13.9900</td></tr><tr><td>847</td><td>Headlights - Dual-Beam</td><td>Lights</td><td>34.9900</td></tr><tr><td>848</td><td>Headlights - Weatherproof</td><td>Lights</td><td>44.9900</td></tr><tr><td>843</td><td>Cable Lock</td><td>Locks</td><td>25.0000</td></tr><tr><td>842</td><td>Touring-Panniers, Large</td><td>Panniers</td><td>125.0000</td></tr><tr><td>844</td><td>Minipump</td><td>Pumps</td><td>19.9900</td></tr><tr><td>845</td><td>Mountain Pump</td><td>Pumps</td><td>24.9900</td></tr><tr><td>873</td><td>Patch Kit/8 Patches</td><td>Tires and Tubes</td><td>2.2900</td></tr><tr><td>921</td><td>Mountain Tire Tube</td><td>Tires and Tubes</td><td>4.9900</td></tr><tr><td>922</td><td>Road Tire Tube</td><td>Tires and Tubes</td><td>3.9900</td></tr><tr><td>923</td><td>Touring Tire Tube</td><td>Tires and Tubes</td><td>4.9900</td></tr><tr><td>928</td><td>LL Mountain Tire</td><td>Tires and Tubes</td><td>24.9900</td></tr><tr><td>929</td><td>ML Mountain Tire</td><td>Tires and Tubes</td><td>29.9900</td></tr><tr><td>930</td><td>HL Mountain Tire</td><td>Tires and Tubes</td><td>35.0000</td></tr><tr><td>931</td><td>LL Road Tire</td><td>Tires and Tubes</td><td>21.4900</td></tr><tr><td>932</td><td>ML Road Tire</td><td>Tires and Tubes</td><td>24.9900</td></tr><tr><td>933</td><td>HL Road Tire</td><td>Tires and Tubes</td><td>32.6000</td></tr><tr><td>934</td><td>Touring Tire</td><td>Tires and Tubes</td><td>28.9900</td></tr></tbody></table></div>"
      ]
     },
     "metadata": {
      "application/vnd.databricks.v1+output": {
       "addedWidgets": {},
       "aggData": [],
       "aggError": "",
       "aggOverflow": false,
       "aggSchema": [],
       "aggSeriesLimitReached": false,
       "aggType": "",
       "arguments": {},
       "columnCustomDisplayInfos": {},
       "data": [
        [
         "771",
         "Mountain-100 Silver, 38",
         "Mountain Bikes",
         "3059.991"
        ],
        [
         "772",
         "Mountain-100 Silver, 42",
         "Mountain Bikes",
         "3399.9900"
        ],
        [
         "773",
         "Mountain-100 Silver, 44",
         "Mountain Bikes",
         "3399.9900"
        ],
        [
         "774",
         "Mountain-100 Silver, 48",
         "Mountain Bikes",
         "3399.9900"
        ],
        [
         "775",
         "Mountain-100 Black, 38",
         "Mountain Bikes",
         "3374.9900"
        ],
        [
         "776",
         "Mountain-100 Black, 42",
         "Mountain Bikes",
         "3374.9900"
        ],
        [
         "777",
         "Mountain-100 Black, 44",
         "Mountain Bikes",
         "3374.9900"
        ],
        [
         "778",
         "Mountain-100 Black, 48",
         "Mountain Bikes",
         "3374.9900"
        ],
        [
         "779",
         "Mountain-200 Silver, 38",
         "Mountain Bikes",
         "2319.9900"
        ],
        [
         "780",
         "Mountain-200 Silver, 42",
         "Mountain Bikes",
         "2319.9900"
        ],
        [
         "781",
         "Mountain-200 Silver, 46",
         "Mountain Bikes",
         "2319.9900"
        ],
        [
         "782",
         "Mountain-200 Black, 38",
         "Mountain Bikes",
         "2294.9900"
        ],
        [
         "783",
         "Mountain-200 Black, 42",
         "Mountain Bikes",
         "2294.9900"
        ],
        [
         "784",
         "Mountain-200 Black, 46",
         "Mountain Bikes",
         "2294.9900"
        ],
        [
         "785",
         "Mountain-300 Black, 38",
         "Mountain Bikes",
         "1079.9900"
        ],
        [
         "786",
         "Mountain-300 Black, 40",
         "Mountain Bikes",
         "1079.9900"
        ],
        [
         "787",
         "Mountain-300 Black, 44",
         "Mountain Bikes",
         "1079.9900"
        ],
        [
         "788",
         "Mountain-300 Black, 48",
         "Mountain Bikes",
         "1079.9900"
        ],
        [
         "980",
         "Mountain-400-W Silver, 38",
         "Mountain Bikes",
         "769.4900"
        ],
        [
         "981",
         "Mountain-400-W Silver, 40",
         "Mountain Bikes",
         "769.4900"
        ],
        [
         "982",
         "Mountain-400-W Silver, 42",
         "Mountain Bikes",
         "769.4900"
        ],
        [
         "983",
         "Mountain-400-W Silver, 46",
         "Mountain Bikes",
         "769.4900"
        ],
        [
         "984",
         "Mountain-500 Silver, 40",
         "Mountain Bikes",
         "564.9900"
        ],
        [
         "985",
         "Mountain-500 Silver, 42",
         "Mountain Bikes",
         "564.9900"
        ],
        [
         "986",
         "Mountain-500 Silver, 44",
         "Mountain Bikes",
         "564.9900"
        ],
        [
         "987",
         "Mountain-500 Silver, 48",
         "Mountain Bikes",
         "564.9900"
        ],
        [
         "988",
         "Mountain-500 Silver, 52",
         "Mountain Bikes",
         "564.9900"
        ],
        [
         "989",
         "Mountain-500 Black, 40",
         "Mountain Bikes",
         "539.9900"
        ],
        [
         "990",
         "Mountain-500 Black, 42",
         "Mountain Bikes",
         "539.9900"
        ],
        [
         "991",
         "Mountain-500 Black, 44",
         "Mountain Bikes",
         "539.9900"
        ],
        [
         "992",
         "Mountain-500 Black, 48",
         "Mountain Bikes",
         "539.9900"
        ],
        [
         "993",
         "Mountain-500 Black, 52",
         "Mountain Bikes",
         "539.9900"
        ],
        [
         "973",
         "Road-350-W Yellow, 40",
         "Road Bikes",
         "1700.9900"
        ],
        [
         "974",
         "Road-350-W Yellow, 42",
         "Road Bikes",
         "1700.9900"
        ],
        [
         "975",
         "Road-350-W Yellow, 44",
         "Road Bikes",
         "1700.9900"
        ],
        [
         "976",
         "Road-350-W Yellow, 48",
         "Road Bikes",
         "1700.9900"
        ],
        [
         "977",
         "Road-750 Black, 58",
         "Road Bikes",
         "539.9900"
        ],
        [
         "997",
         "Road-750 Black, 44",
         "Road Bikes",
         "539.9900"
        ],
        [
         "998",
         "Road-750 Black, 48",
         "Road Bikes",
         "539.9900"
        ],
        [
         "999",
         "Road-750 Black, 52",
         "Road Bikes",
         "539.9900"
        ],
        [
         "789",
         "Road-250 Red, 44",
         "Road Bikes",
         "2443.3500"
        ],
        [
         "790",
         "Road-250 Red, 48",
         "Road Bikes",
         "2443.3500"
        ],
        [
         "791",
         "Road-250 Red, 52",
         "Road Bikes",
         "2443.3500"
        ],
        [
         "792",
         "Road-250 Red, 58",
         "Road Bikes",
         "2443.3500"
        ],
        [
         "793",
         "Road-250 Black, 44",
         "Road Bikes",
         "2443.3500"
        ],
        [
         "794",
         "Road-250 Black, 48",
         "Road Bikes",
         "2443.3500"
        ],
        [
         "795",
         "Road-250 Black, 52",
         "Road Bikes",
         "2443.3500"
        ],
        [
         "796",
         "Road-250 Black, 58",
         "Road Bikes",
         "2443.3500"
        ],
        [
         "797",
         "Road-550-W Yellow, 38",
         "Road Bikes",
         "1120.4900"
        ],
        [
         "798",
         "Road-550-W Yellow, 40",
         "Road Bikes",
         "1120.4900"
        ],
        [
         "799",
         "Road-550-W Yellow, 42",
         "Road Bikes",
         "1120.4900"
        ],
        [
         "800",
         "Road-550-W Yellow, 44",
         "Road Bikes",
         "1120.4900"
        ],
        [
         "801",
         "Road-550-W Yellow, 48",
         "Road Bikes",
         "1120.4900"
        ],
        [
         "749",
         "Road-150 Red, 62",
         "Road Bikes",
         "3578.2700"
        ],
        [
         "750",
         "Road-150 Red, 44",
         "Road Bikes",
         "3578.2700"
        ],
        [
         "751",
         "Road-150 Red, 48",
         "Road Bikes",
         "3578.2700"
        ],
        [
         "752",
         "Road-150 Red, 52",
         "Road Bikes",
         "3578.2700"
        ],
        [
         "753",
         "Road-150 Red, 56",
         "Road Bikes",
         "3578.2700"
        ],
        [
         "754",
         "Road-450 Red, 58",
         "Road Bikes",
         "1457.9900"
        ],
        [
         "755",
         "Road-450 Red, 60",
         "Road Bikes",
         "1457.9900"
        ],
        [
         "756",
         "Road-450 Red, 44",
         "Road Bikes",
         "1457.9900"
        ],
        [
         "757",
         "Road-450 Red, 48",
         "Road Bikes",
         "1457.9900"
        ],
        [
         "758",
         "Road-450 Red, 52",
         "Road Bikes",
         "1457.9900"
        ],
        [
         "759",
         "Road-650 Red, 58",
         "Road Bikes",
         "782.9900"
        ],
        [
         "760",
         "Road-650 Red, 60",
         "Road Bikes",
         "782.9900"
        ],
        [
         "761",
         "Road-650 Red, 62",
         "Road Bikes",
         "782.9900"
        ],
        [
         "762",
         "Road-650 Red, 44",
         "Road Bikes",
         "782.9900"
        ],
        [
         "763",
         "Road-650 Red, 48",
         "Road Bikes",
         "782.9900"
        ],
        [
         "764",
         "Road-650 Red, 52",
         "Road Bikes",
         "782.9900"
        ],
        [
         "765",
         "Road-650 Black, 58",
         "Road Bikes",
         "782.9900"
        ],
        [
         "766",
         "Road-650 Black, 60",
         "Road Bikes",
         "782.9900"
        ],
        [
         "767",
         "Road-650 Black, 62",
         "Road Bikes",
         "782.9900"
        ],
        [
         "768",
         "Road-650 Black, 44",
         "Road Bikes",
         "782.9900"
        ],
        [
         "769",
         "Road-650 Black, 48",
         "Road Bikes",
         "782.9900"
        ],
        [
         "770",
         "Road-650 Black, 52",
         "Road Bikes",
         "782.9900"
        ],
        [
         "978",
         "Touring-3000 Blue, 44",
         "Touring Bikes",
         "742.3500"
        ],
        [
         "979",
         "Touring-3000 Blue, 50",
         "Touring Bikes",
         "742.3500"
        ],
        [
         "953",
         "Touring-2000 Blue, 60",
         "Touring Bikes",
         "1214.8500"
        ],
        [
         "954",
         "Touring-1000 Yellow, 46",
         "Touring Bikes",
         "2384.0700"
        ],
        [
         "955",
         "Touring-1000 Yellow, 50",
         "Touring Bikes",
         "2384.0700"
        ],
        [
         "956",
         "Touring-1000 Yellow, 54",
         "Touring Bikes",
         "2384.0700"
        ],
        [
         "957",
         "Touring-1000 Yellow, 60",
         "Touring Bikes",
         "2384.0700"
        ],
        [
         "958",
         "Touring-3000 Blue, 54",
         "Touring Bikes",
         "742.3500"
        ],
        [
         "959",
         "Touring-3000 Blue, 58",
         "Touring Bikes",
         "742.3500"
        ],
        [
         "960",
         "Touring-3000 Blue, 62",
         "Touring Bikes",
         "742.3500"
        ],
        [
         "961",
         "Touring-3000 Yellow, 44",
         "Touring Bikes",
         "742.3500"
        ],
        [
         "962",
         "Touring-3000 Yellow, 50",
         "Touring Bikes",
         "742.3500"
        ],
        [
         "963",
         "Touring-3000 Yellow, 54",
         "Touring Bikes",
         "742.3500"
        ],
        [
         "964",
         "Touring-3000 Yellow, 58",
         "Touring Bikes",
         "742.3500"
        ],
        [
         "965",
         "Touring-3000 Yellow, 62",
         "Touring Bikes",
         "742.3500"
        ],
        [
         "966",
         "Touring-1000 Blue, 46",
         "Touring Bikes",
         "2384.0700"
        ],
        [
         "967",
         "Touring-1000 Blue, 50",
         "Touring Bikes",
         "2384.0700"
        ],
        [
         "968",
         "Touring-1000 Blue, 54",
         "Touring Bikes",
         "2384.0700"
        ],
        [
         "969",
         "Touring-1000 Blue, 60",
         "Touring Bikes",
         "2384.0700"
        ],
        [
         "970",
         "Touring-2000 Blue, 46",
         "Touring Bikes",
         "1214.8500"
        ],
        [
         "971",
         "Touring-2000 Blue, 50",
         "Touring Bikes",
         "1214.8500"
        ],
        [
         "972",
         "Touring-2000 Blue, 54",
         "Touring Bikes",
         "1214.8500"
        ],
        [
         "946",
         "LL Touring Handlebars",
         "Handlebars",
         "46.0900"
        ],
        [
         "947",
         "HL Touring Handlebars",
         "Handlebars",
         "91.5700"
        ],
        [
         "808",
         "LL Mountain Handlebars",
         "Handlebars",
         "44.5400"
        ],
        [
         "809",
         "ML Mountain Handlebars",
         "Handlebars",
         "61.9200"
        ],
        [
         "810",
         "HL Mountain Handlebars",
         "Handlebars",
         "120.2700"
        ],
        [
         "811",
         "LL Road Handlebars",
         "Handlebars",
         "44.5400"
        ],
        [
         "812",
         "ML Road Handlebars",
         "Handlebars",
         "61.9200"
        ],
        [
         "813",
         "HL Road Handlebars",
         "Handlebars",
         "120.2700"
        ],
        [
         "994",
         "LL Bottom Bracket",
         "Bottom Brackets",
         "53.9900"
        ],
        [
         "995",
         "ML Bottom Bracket",
         "Bottom Brackets",
         "101.2400"
        ],
        [
         "996",
         "HL Bottom Bracket",
         "Bottom Brackets",
         "121.4900"
        ],
        [
         "948",
         "Front Brakes",
         "Brakes",
         "106.5000"
        ],
        [
         "907",
         "Rear Brakes",
         "Brakes",
         "106.5000"
        ],
        [
         "952",
         "Chain",
         "Chains",
         "20.2400"
        ],
        [
         "949",
         "LL Crankset",
         "Cranksets",
         "175.4900"
        ],
        [
         "950",
         "ML Crankset",
         "Cranksets",
         "256.4900"
        ],
        [
         "951",
         "HL Crankset",
         "Cranksets",
         "404.9900"
        ],
        [
         "945",
         "Front Derailleur",
         "Derailleurs",
         "91.4900"
        ],
        [
         "894",
         "Rear Derailleur",
         "Derailleurs",
         "121.4600"
        ],
        [
         "802",
         "LL Fork",
         "Forks",
         "148.2200"
        ],
        [
         "803",
         "ML Fork",
         "Forks",
         "175.4900"
        ],
        [
         "804",
         "HL Fork",
         "Forks",
         "229.4900"
        ],
        [
         "805",
         "LL Headset",
         "Headsets",
         "34.2000"
        ],
        [
         "806",
         "ML Headset",
         "Headsets",
         "102.2900"
        ],
        [
         "807",
         "HL Headset",
         "Headsets",
         "124.7300"
        ],
        [
         "739",
         "HL Mountain Frame - Silver, 42",
         "Mountain Frames",
         "1364.5000"
        ],
        [
         "740",
         "HL Mountain Frame - Silver, 44",
         "Mountain Frames",
         "1364.5000"
        ],
        [
         "741",
         "HL Mountain Frame - Silver, 48",
         "Mountain Frames",
         "1364.5000"
        ],
        [
         "742",
         "HL Mountain Frame - Silver, 46",
         "Mountain Frames",
         "1364.5000"
        ],
        [
         "743",
         "HL Mountain Frame - Black, 42",
         "Mountain Frames",
         "1349.6000"
        ],
        [
         "744",
         "HL Mountain Frame - Black, 44",
         "Mountain Frames",
         "1349.6000"
        ],
        [
         "745",
         "HL Mountain Frame - Black, 48",
         "Mountain Frames",
         "1349.6000"
        ],
        [
         "746",
         "HL Mountain Frame - Black, 46",
         "Mountain Frames",
         "1349.6000"
        ],
        [
         "747",
         "HL Mountain Frame - Black, 38",
         "Mountain Frames",
         "1349.6000"
        ],
        [
         "748",
         "HL Mountain Frame - Silver, 38",
         "Mountain Frames",
         "1364.5000"
        ],
        [
         "814",
         "ML Mountain Frame - Black, 38",
         "Mountain Frames",
         "348.7600"
        ],
        [
         "830",
         "ML Mountain Frame - Black, 40",
         "Mountain Frames",
         "348.7600"
        ],
        [
         "831",
         "ML Mountain Frame - Black, 44",
         "Mountain Frames",
         "348.7600"
        ],
        [
         "832",
         "ML Mountain Frame - Black, 48",
         "Mountain Frames",
         "348.7600"
        ],
        [
         "924",
         "LL Mountain Frame - Black, 42",
         "Mountain Frames",
         "249.7900"
        ],
        [
         "925",
         "LL Mountain Frame - Black, 44",
         "Mountain Frames",
         "249.7900"
        ],
        [
         "926",
         "LL Mountain Frame - Black, 48",
         "Mountain Frames",
         "249.7900"
        ],
        [
         "927",
         "LL Mountain Frame - Black, 52",
         "Mountain Frames",
         "249.7900"
        ],
        [
         "917",
         "LL Mountain Frame - Silver, 42",
         "Mountain Frames",
         "264.0500"
        ],
        [
         "918",
         "LL Mountain Frame - Silver, 44",
         "Mountain Frames",
         "264.0500"
        ],
        [
         "919",
         "LL Mountain Frame - Silver, 48",
         "Mountain Frames",
         "264.0500"
        ],
        [
         "920",
         "LL Mountain Frame - Silver, 52",
         "Mountain Frames",
         "264.0500"
        ],
        [
         "904",
         "ML Mountain Frame-W - Silver, 40",
         "Mountain Frames",
         "364.0900"
        ],
        [
         "905",
         "ML Mountain Frame-W - Silver, 42",
         "Mountain Frames",
         "364.0900"
        ],
        [
         "906",
         "ML Mountain Frame-W - Silver, 46",
         "Mountain Frames",
         "364.0900"
        ],
        [
         "942",
         "ML Mountain Frame-W - Silver, 38",
         "Mountain Frames",
         "364.0900"
        ],
        [
         "943",
         "LL Mountain Frame - Black, 40",
         "Mountain Frames",
         "249.7900"
        ],
        [
         "944",
         "LL Mountain Frame - Silver, 40",
         "Mountain Frames",
         "264.0500"
        ],
        [
         "935",
         "LL Mountain Pedal",
         "Pedals",
         "40.4900"
        ],
        [
         "936",
         "ML Mountain Pedal",
         "Pedals",
         "62.0900"
        ],
        [
         "937",
         "HL Mountain Pedal",
         "Pedals",
         "80.9900"
        ],
        [
         "938",
         "LL Road Pedal",
         "Pedals",
         "40.4900"
        ],
        [
         "939",
         "ML Road Pedal",
         "Pedals",
         "62.0900"
        ],
        [
         "940",
         "HL Road Pedal",
         "Pedals",
         "80.9900"
        ],
        [
         "941",
         "Touring Pedal",
         "Pedals",
         "80.9900"
        ],
        [
         "833",
         "ML Road Frame-W - Yellow, 40",
         "Road Frames",
         "594.8300"
        ],
        [
         "834",
         "ML Road Frame-W - Yellow, 42",
         "Road Frames",
         "594.8300"
        ],
        [
         "835",
         "ML Road Frame-W - Yellow, 44",
         "Road Frames",
         "594.8300"
        ],
        [
         "836",
         "ML Road Frame-W - Yellow, 48",
         "Road Frames",
         "594.8300"
        ],
        [
         "837",
         "HL Road Frame - Black, 62",
         "Road Frames",
         "1431.5000"
        ],
        [
         "838",
         "HL Road Frame - Black, 44",
         "Road Frames",
         "1431.5000"
        ],
        [
         "839",
         "HL Road Frame - Black, 48",
         "Road Frames",
         "1431.5000"
        ],
        [
         "840",
         "HL Road Frame - Black, 52",
         "Road Frames",
         "1431.5000"
        ],
        [
         "822",
         "ML Road Frame-W - Yellow, 38",
         "Road Frames",
         "594.8300"
        ],
        [
         "680",
         "HL Road Frame - Black, 58",
         "Road Frames",
         "1431.5000"
        ],
        [
         "706",
         "HL Road Frame - Red, 58",
         "Road Frames",
         "1431.5000"
        ],
        [
         "717",
         "HL Road Frame - Red, 62",
         "Road Frames",
         "1431.5000"
        ],
        [
         "718",
         "HL Road Frame - Red, 44",
         "Road Frames",
         "1431.5000"
        ],
        [
         "719",
         "HL Road Frame - Red, 48",
         "Road Frames",
         "1431.5000"
        ],
        [
         "720",
         "HL Road Frame - Red, 52",
         "Road Frames",
         "1431.5000"
        ],
        [
         "721",
         "HL Road Frame - Red, 56",
         "Road Frames",
         "1431.5000"
        ],
        [
         "722",
         "LL Road Frame - Black, 58",
         "Road Frames",
         "337.2200"
        ],
        [
         "723",
         "LL Road Frame - Black, 60",
         "Road Frames",
         "337.2200"
        ],
        [
         "724",
         "LL Road Frame - Black, 62",
         "Road Frames",
         "337.2200"
        ],
        [
         "725",
         "LL Road Frame - Red, 44",
         "Road Frames",
         "337.2200"
        ],
        [
         "726",
         "LL Road Frame - Red, 48",
         "Road Frames",
         "337.2200"
        ],
        [
         "727",
         "LL Road Frame - Red, 52",
         "Road Frames",
         "337.2200"
        ],
        [
         "728",
         "LL Road Frame - Red, 58",
         "Road Frames",
         "337.2200"
        ],
        [
         "729",
         "LL Road Frame - Red, 60",
         "Road Frames",
         "337.2200"
        ],
        [
         "730",
         "LL Road Frame - Red, 62",
         "Road Frames",
         "337.2200"
        ],
        [
         "731",
         "ML Road Frame - Red, 44",
         "Road Frames",
         "594.8300"
        ],
        [
         "732",
         "ML Road Frame - Red, 48",
         "Road Frames",
         "594.8300"
        ],
        [
         "733",
         "ML Road Frame - Red, 52",
         "Road Frames",
         "594.8300"
        ],
        [
         "734",
         "ML Road Frame - Red, 58",
         "Road Frames",
         "594.8300"
        ],
        [
         "735",
         "ML Road Frame - Red, 60",
         "Road Frames",
         "594.8300"
        ],
        [
         "736",
         "LL Road Frame - Black, 44",
         "Road Frames",
         "337.2200"
        ],
        [
         "737",
         "LL Road Frame - Black, 48",
         "Road Frames",
         "337.2200"
        ],
        [
         "738",
         "LL Road Frame - Black, 52",
         "Road Frames",
         "337.2200"
        ],
        [
         "908",
         "LL Mountain Seat/Saddle",
         "Saddles",
         "27.1200"
        ],
        [
         "909",
         "ML Mountain Seat/Saddle",
         "Saddles",
         "39.1400"
        ],
        [
         "910",
         "HL Mountain Seat/Saddle",
         "Saddles",
         "52.6400"
        ],
        [
         "911",
         "LL Road Seat/Saddle",
         "Saddles",
         "27.1200"
        ],
        [
         "912",
         "ML Road Seat/Saddle",
         "Saddles",
         "39.1400"
        ],
        [
         "913",
         "HL Road Seat/Saddle",
         "Saddles",
         "52.6400"
        ],
        [
         "914",
         "LL Touring Seat/Saddle",
         "Saddles",
         "27.1200"
        ],
        [
         "915",
         "ML Touring Seat/Saddle",
         "Saddles",
         "39.1400"
        ],
        [
         "916",
         "HL Touring Seat/Saddle",
         "Saddles",
         "52.6400"
        ],
        [
         "895",
         "LL Touring Frame - Blue, 50",
         "Touring Frames",
         "333.4200"
        ],
        [
         "896",
         "LL Touring Frame - Blue, 54",
         "Touring Frames",
         "333.4200"
        ],
        [
         "897",
         "LL Touring Frame - Blue, 58",
         "Touring Frames",
         "333.4200"
        ],
        [
         "898",
         "LL Touring Frame - Blue, 62",
         "Touring Frames",
         "333.4200"
        ],
        [
         "899",
         "LL Touring Frame - Yellow, 44",
         "Touring Frames",
         "333.4200"
        ],
        [
         "900",
         "LL Touring Frame - Yellow, 50",
         "Touring Frames",
         "333.4200"
        ],
        [
         "901",
         "LL Touring Frame - Yellow, 54",
         "Touring Frames",
         "333.4200"
        ],
        [
         "902",
         "LL Touring Frame - Yellow, 58",
         "Touring Frames",
         "333.4200"
        ],
        [
         "903",
         "LL Touring Frame - Blue, 44",
         "Touring Frames",
         "333.4200"
        ],
        [
         "885",
         "HL Touring Frame - Yellow, 60",
         "Touring Frames",
         "1003.9100"
        ],
        [
         "886",
         "LL Touring Frame - Yellow, 62",
         "Touring Frames",
         "333.4200"
        ],
        [
         "887",
         "HL Touring Frame - Yellow, 46",
         "Touring Frames",
         "1003.9100"
        ],
        [
         "888",
         "HL Touring Frame - Yellow, 50",
         "Touring Frames",
         "1003.9100"
        ],
        [
         "889",
         "HL Touring Frame - Yellow, 54",
         "Touring Frames",
         "1003.9100"
        ],
        [
         "890",
         "HL Touring Frame - Blue, 46",
         "Touring Frames",
         "1003.9100"
        ],
        [
         "891",
         "HL Touring Frame - Blue, 50",
         "Touring Frames",
         "1003.9100"
        ],
        [
         "892",
         "HL Touring Frame - Blue, 54",
         "Touring Frames",
         "1003.9100"
        ],
        [
         "893",
         "HL Touring Frame - Blue, 60",
         "Touring Frames",
         "1003.9100"
        ],
        [
         "823",
         "LL Mountain Rear Wheel",
         "Wheels",
         "87.7450"
        ],
        [
         "824",
         "ML Mountain Rear Wheel",
         "Wheels",
         "236.0250"
        ],
        [
         "825",
         "HL Mountain Rear Wheel",
         "Wheels",
         "327.2150"
        ],
        [
         "826",
         "LL Road Rear Wheel",
         "Wheels",
         "112.5650"
        ],
        [
         "827",
         "ML Road Rear Wheel",
         "Wheels",
         "275.3850"
        ],
        [
         "828",
         "HL Road Rear Wheel",
         "Wheels",
         "357.0600"
        ],
        [
         "829",
         "Touring Rear Wheel",
         "Wheels",
         "245.0100"
        ],
        [
         "815",
         "LL Mountain Front Wheel",
         "Wheels",
         "60.7450"
        ],
        [
         "816",
         "ML Mountain Front Wheel",
         "Wheels",
         "209.0250"
        ],
        [
         "817",
         "HL Mountain Front Wheel",
         "Wheels",
         "300.2150"
        ],
        [
         "818",
         "LL Road Front Wheel",
         "Wheels",
         "85.5650"
        ],
        [
         "819",
         "ML Road Front Wheel",
         "Wheels",
         "248.3850"
        ],
        [
         "820",
         "HL Road Front Wheel",
         "Wheels",
         "330.0600"
        ],
        [
         "821",
         "Touring Front Wheel",
         "Wheels",
         "218.0100"
        ],
        [
         "855",
         "Men's Bib-Shorts, S",
         "Bib-Shorts",
         "89.9900"
        ],
        [
         "856",
         "Men's Bib-Shorts, M",
         "Bib-Shorts",
         "89.9900"
        ],
        [
         "857",
         "Men's Bib-Shorts, L",
         "Bib-Shorts",
         "89.9900"
        ],
        [
         "712",
         "AWC Logo Cap",
         "Caps",
         "8.9900"
        ],
        [
         "858",
         "Half-Finger Gloves, S",
         "Gloves",
         "24.4900"
        ],
        [
         "859",
         "Half-Finger Gloves, M",
         "Gloves",
         "24.4900"
        ],
        [
         "860",
         "Half-Finger Gloves, L",
         "Gloves",
         "24.4900"
        ],
        [
         "861",
         "Full-Finger Gloves, S",
         "Gloves",
         "37.9900"
        ],
        [
         "862",
         "Full-Finger Gloves, M",
         "Gloves",
         "37.9900"
        ],
        [
         "863",
         "Full-Finger Gloves, L",
         "Gloves",
         "37.9900"
        ],
        [
         "713",
         "Long-Sleeve Logo Jersey, S",
         "Jerseys",
         "49.9900"
        ],
        [
         "714",
         "Long-Sleeve Logo Jersey, M",
         "Jerseys",
         "49.9900"
        ],
        [
         "715",
         "Long-Sleeve Logo Jersey, L",
         "Jerseys",
         "49.9900"
        ],
        [
         "716",
         "Long-Sleeve Logo Jersey, XL",
         "Jerseys",
         "49.9900"
        ],
        [
         "881",
         "Short-Sleeve Classic Jersey, S",
         "Jerseys",
         "53.9900"
        ],
        [
         "882",
         "Short-Sleeve Classic Jersey, M",
         "Jerseys",
         "53.9900"
        ],
        [
         "883",
         "Short-Sleeve Classic Jersey, L",
         "Jerseys",
         "53.9900"
        ],
        [
         "884",
         "Short-Sleeve Classic Jersey, XL",
         "Jerseys",
         "53.9900"
        ],
        [
         "867",
         "Women's Mountain Shorts, S",
         "Shorts",
         "69.9900"
        ],
        [
         "868",
         "Women's Mountain Shorts, M",
         "Shorts",
         "69.9900"
        ],
        [
         "869",
         "Women's Mountain Shorts, L",
         "Shorts",
         "69.9900"
        ],
        [
         "841",
         "Men's Sports Shorts, S",
         "Shorts",
         "59.9900"
        ],
        [
         "849",
         "Men's Sports Shorts, M",
         "Shorts",
         "59.9900"
        ],
        [
         "850",
         "Men's Sports Shorts, L",
         "Shorts",
         "59.9900"
        ],
        [
         "851",
         "Men's Sports Shorts, XL",
         "Shorts",
         "59.9900"
        ],
        [
         "709",
         "Mountain Bike Socks, M",
         "Socks",
         "9.5000"
        ],
        [
         "710",
         "Mountain Bike Socks, L",
         "Socks",
         "9.5000"
        ],
        [
         "874",
         "Racing Socks, M",
         "Socks",
         "8.9900"
        ],
        [
         "875",
         "Racing Socks, L",
         "Socks",
         "8.9900"
        ],
        [
         "852",
         "Women's Tights, S",
         "Tights",
         "74.9900"
        ],
        [
         "853",
         "Women's Tights, M",
         "Tights",
         "74.9900"
        ],
        [
         "854",
         "Women's Tights, L",
         "Tights",
         "74.9900"
        ],
        [
         "864",
         "Classic Vest, S",
         "Vests",
         "63.5000"
        ],
        [
         "865",
         "Classic Vest, M",
         "Vests",
         "63.5000"
        ],
        [
         "866",
         "Classic Vest, L",
         "Vests",
         "63.5000"
        ],
        [
         "876",
         "Hitch Rack - 4-Bike",
         "Bike Racks",
         "120.0000"
        ],
        [
         "879",
         "All-Purpose Bike Stand",
         "Bike Stands",
         "159.0000"
        ],
        [
         "870",
         "Water Bottle - 30 oz.",
         "Bottles and Cages",
         "4.9900"
        ],
        [
         "871",
         "Mountain Bottle Cage",
         "Bottles and Cages",
         "9.9900"
        ],
        [
         "872",
         "Road Bottle Cage",
         "Bottles and Cages",
         "8.9900"
        ],
        [
         "877",
         "Bike Wash - Dissolver",
         "Cleaners",
         "7.9500"
        ],
        [
         "878",
         "Fender Set - Mountain",
         "Fenders",
         "21.9800"
        ],
        [
         "711",
         "Sport-100 Helmet, Blue",
         "Helmets",
         "34.9900"
        ],
        [
         "707",
         "Sport-100 Helmet, Red",
         "Helmets",
         "34.9900"
        ],
        [
         "708",
         "Sport-100 Helmet, Black",
         "Helmets",
         "34.9900"
        ],
        [
         "880",
         "Hydration Pack - 70 oz.",
         "Hydration Packs",
         "54.9900"
        ],
        [
         "846",
         "Taillights - Battery-Powered",
         "Lights",
         "13.9900"
        ],
        [
         "847",
         "Headlights - Dual-Beam",
         "Lights",
         "34.9900"
        ],
        [
         "848",
         "Headlights - Weatherproof",
         "Lights",
         "44.9900"
        ],
        [
         "843",
         "Cable Lock",
         "Locks",
         "25.0000"
        ],
        [
         "842",
         "Touring-Panniers, Large",
         "Panniers",
         "125.0000"
        ],
        [
         "844",
         "Minipump",
         "Pumps",
         "19.9900"
        ],
        [
         "845",
         "Mountain Pump",
         "Pumps",
         "24.9900"
        ],
        [
         "873",
         "Patch Kit/8 Patches",
         "Tires and Tubes",
         "2.2900"
        ],
        [
         "921",
         "Mountain Tire Tube",
         "Tires and Tubes",
         "4.9900"
        ],
        [
         "922",
         "Road Tire Tube",
         "Tires and Tubes",
         "3.9900"
        ],
        [
         "923",
         "Touring Tire Tube",
         "Tires and Tubes",
         "4.9900"
        ],
        [
         "928",
         "LL Mountain Tire",
         "Tires and Tubes",
         "24.9900"
        ],
        [
         "929",
         "ML Mountain Tire",
         "Tires and Tubes",
         "29.9900"
        ],
        [
         "930",
         "HL Mountain Tire",
         "Tires and Tubes",
         "35.0000"
        ],
        [
         "931",
         "LL Road Tire",
         "Tires and Tubes",
         "21.4900"
        ],
        [
         "932",
         "ML Road Tire",
         "Tires and Tubes",
         "24.9900"
        ],
        [
         "933",
         "HL Road Tire",
         "Tires and Tubes",
         "32.6000"
        ],
        [
         "934",
         "Touring Tire",
         "Tires and Tubes",
         "28.9900"
        ]
       ],
       "datasetInfos": [],
       "dbfsResultPath": null,
       "isJsonSchema": true,
       "metadata": {
        "dataframeName": "_sqldf",
        "executionCount": 17
       },
       "overflow": false,
       "plotOptions": {
        "customPlotOptions": {},
        "displayType": "table",
        "pivotAggregation": null,
        "pivotColumns": null,
        "xColumns": null,
        "yColumns": null
       },
       "removedWidgets": [],
       "schema": [
        {
         "metadata": "{}",
         "name": "ProductID",
         "type": "\"string\""
        },
        {
         "metadata": "{}",
         "name": "ProductName",
         "type": "\"string\""
        },
        {
         "metadata": "{}",
         "name": "Category",
         "type": "\"string\""
        },
        {
         "metadata": "{}",
         "name": "ListPrice",
         "type": "\"string\""
        }
       ],
       "type": "table"
      }
     },
     "output_type": "display_data"
    }
   ],
   "source": [
    "%sql\n",
    "USE AdventureWorks;\n",
    "SELECT * FROM Products;"
   ]
  }
 ],
 "metadata": {
  "application/vnd.databricks.v1+notebook": {
   "dashboards": [],
   "language": "python",
   "notebookMetadata": {
    "mostRecentlyExecutedCommandWithImplicitDF": {
     "commandId": 2683797595612784,
     "dataframes": [
      "_sqldf"
     ]
    },
    "pythonIndentUnit": 4
   },
   "notebookName": "Use Delta Lake in Azure Databricks",
   "widgets": {}
  }
 },
 "nbformat": 4,
 "nbformat_minor": 0
}
