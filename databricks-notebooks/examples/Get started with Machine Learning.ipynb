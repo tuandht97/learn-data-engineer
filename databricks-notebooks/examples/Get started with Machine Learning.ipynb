{
 "cells": [
  {
   "cell_type": "code",
   "execution_count": 0,
   "metadata": {
    "application/vnd.databricks.v1+cell": {
     "cellMetadata": {
      "byteLimit": 2048000,
      "rowLimit": 10000
     },
     "inputWidgets": {},
     "nuid": "599717ff-28e1-4e80-b486-3dae68d16739",
     "showTitle": false,
     "title": ""
    }
   },
   "outputs": [
    {
     "output_type": "stream",
     "name": "stderr",
     "output_type": "stream",
     "text": [
      "--2024-02-06 09:47:01--  https://raw.githubusercontent.com/MicrosoftLearning/mslearn-databricks/main/data/penguins.csv\nResolving raw.githubusercontent.com (raw.githubusercontent.com)... 185.199.111.133, 185.199.108.133, 185.199.109.133, ...\nConnecting to raw.githubusercontent.com (raw.githubusercontent.com)|185.199.111.133|:443... connected.\nHTTP request sent, awaiting response... 200 OK\nLength: 9533 (9.3K) [text/plain]\nSaving to: ‘/dbfs/ml_lab/penguins.csv’\n\n     0K .........                                             100% 1.03M=0.009s\n\n2024-02-06 09:47:01 (1.03 MB/s) - ‘/dbfs/ml_lab/penguins.csv’ saved [9533/9533]\n\n"
     ]
    }
   ],
   "source": [
    " %sh\n",
    " rm -r /dbfs/ml_lab\n",
    " mkdir /dbfs/ml_lab\n",
    " wget -O /dbfs/ml_lab/penguins.csv https://raw.githubusercontent.com/MicrosoftLearning/mslearn-databricks/main/data/penguins.csv"
   ]
  },
  {
   "cell_type": "code",
   "execution_count": 0,
   "metadata": {
    "application/vnd.databricks.v1+cell": {
     "cellMetadata": {
      "byteLimit": 2048000,
      "rowLimit": 10000
     },
     "inputWidgets": {},
     "nuid": "b4748a88-ccd6-43fc-99be-bfb33ea16de9",
     "showTitle": false,
     "title": ""
    }
   },
   "outputs": [
    {
     "output_type": "display_data",
     "data": {
      "text/html": [
       "<style scoped>\n",
       "  .table-result-container {\n",
       "    max-height: 300px;\n",
       "    overflow: auto;\n",
       "  }\n",
       "  table, th, td {\n",
       "    border: 1px solid black;\n",
       "    border-collapse: collapse;\n",
       "  }\n",
       "  th, td {\n",
       "    padding: 5px;\n",
       "  }\n",
       "  th {\n",
       "    text-align: left;\n",
       "  }\n",
       "</style><div class='table-result-container'><table class='table-result'><thead style='background-color: white'><tr><th>Island</th><th>CulmenLength</th><th>CulmenDepth</th><th>FlipperLength</th><th>BodyMass</th><th>Species</th></tr></thead><tbody><tr><td>Torgersen</td><td>39.1</td><td>18.7</td><td>181</td><td>3750</td><td>0</td></tr><tr><td>Torgersen</td><td>39.5</td><td>17.4</td><td>186</td><td>3800</td><td>0</td></tr><tr><td>Torgersen</td><td>40.3</td><td>18</td><td>195</td><td>3250</td><td>0</td></tr><tr><td>Torgersen</td><td>null</td><td>null</td><td>null</td><td>null</td><td>0</td></tr><tr><td>Torgersen</td><td>36.7</td><td>19.3</td><td>193</td><td>3450</td><td>0</td></tr><tr><td>Torgersen</td><td>39.3</td><td>20.6</td><td>190</td><td>3650</td><td>0</td></tr><tr><td>Torgersen</td><td>38.9</td><td>17.8</td><td>181</td><td>3625</td><td>0</td></tr><tr><td>Torgersen</td><td>39.2</td><td>19.6</td><td>195</td><td>4675</td><td>0</td></tr><tr><td>Torgersen</td><td>34.1</td><td>18.1</td><td>193</td><td>3475</td><td>0</td></tr><tr><td>Torgersen</td><td>42</td><td>20.2</td><td>190</td><td>4250</td><td>0</td></tr><tr><td>Torgersen</td><td>37.8</td><td>17.1</td><td>186</td><td>3300</td><td>0</td></tr><tr><td>Torgersen</td><td>37.8</td><td>17.3</td><td>180</td><td>3700</td><td>0</td></tr><tr><td>Torgersen</td><td>41.1</td><td>17.6</td><td>182</td><td>3200</td><td>0</td></tr><tr><td>Torgersen</td><td>38.6</td><td>21.2</td><td>191</td><td>3800</td><td>0</td></tr><tr><td>Torgersen</td><td>34.6</td><td>21.1</td><td>198</td><td>4400</td><td>0</td></tr><tr><td>Torgersen</td><td>36.6</td><td>17.8</td><td>185</td><td>3700</td><td>0</td></tr><tr><td>Torgersen</td><td>38.7</td><td>19</td><td>195</td><td>3450</td><td>0</td></tr><tr><td>Torgersen</td><td>42.5</td><td>20.7</td><td>197</td><td>4500</td><td>0</td></tr><tr><td>Torgersen</td><td>34.4</td><td>18.4</td><td>184</td><td>3325</td><td>0</td></tr><tr><td>Torgersen</td><td>46</td><td>21.5</td><td>194</td><td>4200</td><td>0</td></tr><tr><td>Biscoe</td><td>37.8</td><td>18.3</td><td>174</td><td>3400</td><td>0</td></tr><tr><td>Biscoe</td><td>37.7</td><td>18.7</td><td>180</td><td>3600</td><td>0</td></tr><tr><td>Biscoe</td><td>35.9</td><td>19.2</td><td>189</td><td>3800</td><td>0</td></tr><tr><td>Biscoe</td><td>38.2</td><td>18.1</td><td>185</td><td>3950</td><td>0</td></tr><tr><td>Biscoe</td><td>38.8</td><td>17.2</td><td>180</td><td>3800</td><td>0</td></tr><tr><td>Biscoe</td><td>35.3</td><td>18.9</td><td>187</td><td>3800</td><td>0</td></tr><tr><td>Biscoe</td><td>40.6</td><td>18.6</td><td>183</td><td>3550</td><td>0</td></tr><tr><td>Biscoe</td><td>40.5</td><td>17.9</td><td>187</td><td>3200</td><td>0</td></tr><tr><td>Biscoe</td><td>37.9</td><td>18.6</td><td>172</td><td>3150</td><td>0</td></tr><tr><td>Biscoe</td><td>40.5</td><td>18.9</td><td>180</td><td>3950</td><td>0</td></tr><tr><td>Dream</td><td>39.5</td><td>16.7</td><td>178</td><td>3250</td><td>0</td></tr><tr><td>Dream</td><td>37.2</td><td>18.1</td><td>178</td><td>3900</td><td>0</td></tr><tr><td>Dream</td><td>39.5</td><td>17.8</td><td>188</td><td>3300</td><td>0</td></tr><tr><td>Dream</td><td>40.9</td><td>18.9</td><td>184</td><td>3900</td><td>0</td></tr><tr><td>Dream</td><td>36.4</td><td>17</td><td>195</td><td>3325</td><td>0</td></tr><tr><td>Dream</td><td>39.2</td><td>21.1</td><td>196</td><td>4150</td><td>0</td></tr><tr><td>Dream</td><td>38.8</td><td>20</td><td>190</td><td>3950</td><td>0</td></tr><tr><td>Dream</td><td>42.2</td><td>18.5</td><td>180</td><td>3550</td><td>0</td></tr><tr><td>Dream</td><td>37.6</td><td>19.3</td><td>181</td><td>3300</td><td>0</td></tr><tr><td>Dream</td><td>39.8</td><td>19.1</td><td>184</td><td>4650</td><td>0</td></tr><tr><td>Dream</td><td>36.5</td><td>18</td><td>182</td><td>3150</td><td>0</td></tr><tr><td>Dream</td><td>40.8</td><td>18.4</td><td>195</td><td>3900</td><td>0</td></tr><tr><td>Dream</td><td>36</td><td>18.5</td><td>186</td><td>3100</td><td>0</td></tr><tr><td>Dream</td><td>44.1</td><td>19.7</td><td>196</td><td>4400</td><td>0</td></tr><tr><td>Dream</td><td>37</td><td>16.9</td><td>185</td><td>3000</td><td>0</td></tr><tr><td>Dream</td><td>39.6</td><td>18.8</td><td>190</td><td>4600</td><td>0</td></tr><tr><td>Dream</td><td>41.1</td><td>19</td><td>182</td><td>3425</td><td>0</td></tr><tr><td>Dream</td><td>37.5</td><td>18.9</td><td>179</td><td>2975</td><td>0</td></tr><tr><td>Dream</td><td>36</td><td>17.9</td><td>190</td><td>3450</td><td>0</td></tr><tr><td>Dream</td><td>42.3</td><td>21.2</td><td>191</td><td>4150</td><td>0</td></tr><tr><td>Biscoe</td><td>39.6</td><td>17.7</td><td>186</td><td>3500</td><td>0</td></tr><tr><td>Biscoe</td><td>40.1</td><td>18.9</td><td>188</td><td>4300</td><td>0</td></tr><tr><td>Biscoe</td><td>35</td><td>17.9</td><td>190</td><td>3450</td><td>0</td></tr><tr><td>Biscoe</td><td>42</td><td>19.5</td><td>200</td><td>4050</td><td>0</td></tr><tr><td>Biscoe</td><td>34.5</td><td>18.1</td><td>187</td><td>2900</td><td>0</td></tr><tr><td>Biscoe</td><td>41.4</td><td>18.6</td><td>191</td><td>3700</td><td>0</td></tr><tr><td>Biscoe</td><td>39</td><td>17.5</td><td>186</td><td>3550</td><td>0</td></tr><tr><td>Biscoe</td><td>40.6</td><td>18.8</td><td>193</td><td>3800</td><td>0</td></tr><tr><td>Biscoe</td><td>36.5</td><td>16.6</td><td>181</td><td>2850</td><td>0</td></tr><tr><td>Biscoe</td><td>37.6</td><td>19.1</td><td>194</td><td>3750</td><td>0</td></tr><tr><td>Biscoe</td><td>35.7</td><td>16.9</td><td>185</td><td>3150</td><td>0</td></tr><tr><td>Biscoe</td><td>41.3</td><td>21.1</td><td>195</td><td>4400</td><td>0</td></tr><tr><td>Biscoe</td><td>37.6</td><td>17</td><td>185</td><td>3600</td><td>0</td></tr><tr><td>Biscoe</td><td>41.1</td><td>18.2</td><td>192</td><td>4050</td><td>0</td></tr><tr><td>Biscoe</td><td>36.4</td><td>17.1</td><td>184</td><td>2850</td><td>0</td></tr><tr><td>Biscoe</td><td>41.6</td><td>18</td><td>192</td><td>3950</td><td>0</td></tr><tr><td>Biscoe</td><td>35.5</td><td>16.2</td><td>195</td><td>3350</td><td>0</td></tr><tr><td>Biscoe</td><td>41.1</td><td>19.1</td><td>188</td><td>4100</td><td>0</td></tr><tr><td>Torgersen</td><td>35.9</td><td>16.6</td><td>190</td><td>3050</td><td>0</td></tr><tr><td>Torgersen</td><td>41.8</td><td>19.4</td><td>198</td><td>4450</td><td>0</td></tr><tr><td>Torgersen</td><td>33.5</td><td>19</td><td>190</td><td>3600</td><td>0</td></tr><tr><td>Torgersen</td><td>39.7</td><td>18.4</td><td>190</td><td>3900</td><td>0</td></tr><tr><td>Torgersen</td><td>39.6</td><td>17.2</td><td>196</td><td>3550</td><td>0</td></tr><tr><td>Torgersen</td><td>45.8</td><td>18.9</td><td>197</td><td>4150</td><td>0</td></tr><tr><td>Torgersen</td><td>35.5</td><td>17.5</td><td>190</td><td>3700</td><td>0</td></tr><tr><td>Torgersen</td><td>42.8</td><td>18.5</td><td>195</td><td>4250</td><td>0</td></tr><tr><td>Torgersen</td><td>40.9</td><td>16.8</td><td>191</td><td>3700</td><td>0</td></tr><tr><td>Torgersen</td><td>37.2</td><td>19.4</td><td>184</td><td>3900</td><td>0</td></tr><tr><td>Torgersen</td><td>36.2</td><td>16.1</td><td>187</td><td>3550</td><td>0</td></tr><tr><td>Torgersen</td><td>42.1</td><td>19.1</td><td>195</td><td>4000</td><td>0</td></tr><tr><td>Torgersen</td><td>34.6</td><td>17.2</td><td>189</td><td>3200</td><td>0</td></tr><tr><td>Torgersen</td><td>42.9</td><td>17.6</td><td>196</td><td>4700</td><td>0</td></tr><tr><td>Torgersen</td><td>36.7</td><td>18.8</td><td>187</td><td>3800</td><td>0</td></tr><tr><td>Torgersen</td><td>35.1</td><td>19.4</td><td>193</td><td>4200</td><td>0</td></tr><tr><td>Dream</td><td>37.3</td><td>17.8</td><td>191</td><td>3350</td><td>0</td></tr><tr><td>Dream</td><td>41.3</td><td>20.3</td><td>194</td><td>3550</td><td>0</td></tr><tr><td>Dream</td><td>36.3</td><td>19.5</td><td>190</td><td>3800</td><td>0</td></tr><tr><td>Dream</td><td>36.9</td><td>18.6</td><td>189</td><td>3500</td><td>0</td></tr><tr><td>Dream</td><td>38.3</td><td>19.2</td><td>189</td><td>3950</td><td>0</td></tr><tr><td>Dream</td><td>38.9</td><td>18.8</td><td>190</td><td>3600</td><td>0</td></tr><tr><td>Dream</td><td>35.7</td><td>18</td><td>202</td><td>3550</td><td>0</td></tr><tr><td>Dream</td><td>41.1</td><td>18.1</td><td>205</td><td>4300</td><td>0</td></tr><tr><td>Dream</td><td>34</td><td>17.1</td><td>185</td><td>3400</td><td>0</td></tr><tr><td>Dream</td><td>39.6</td><td>18.1</td><td>186</td><td>4450</td><td>0</td></tr><tr><td>Dream</td><td>36.2</td><td>17.3</td><td>187</td><td>3300</td><td>0</td></tr><tr><td>Dream</td><td>40.8</td><td>18.9</td><td>208</td><td>4300</td><td>0</td></tr><tr><td>Dream</td><td>38.1</td><td>18.6</td><td>190</td><td>3700</td><td>0</td></tr><tr><td>Dream</td><td>40.3</td><td>18.5</td><td>196</td><td>4350</td><td>0</td></tr><tr><td>Dream</td><td>33.1</td><td>16.1</td><td>178</td><td>2900</td><td>0</td></tr><tr><td>Dream</td><td>43.2</td><td>18.5</td><td>192</td><td>4100</td><td>0</td></tr><tr><td>Biscoe</td><td>35</td><td>17.9</td><td>192</td><td>3725</td><td>0</td></tr><tr><td>Biscoe</td><td>41</td><td>20</td><td>203</td><td>4725</td><td>0</td></tr><tr><td>Biscoe</td><td>37.7</td><td>16</td><td>183</td><td>3075</td><td>0</td></tr><tr><td>Biscoe</td><td>37.8</td><td>20</td><td>190</td><td>4250</td><td>0</td></tr><tr><td>Biscoe</td><td>37.9</td><td>18.6</td><td>193</td><td>2925</td><td>0</td></tr><tr><td>Biscoe</td><td>39.7</td><td>18.9</td><td>184</td><td>3550</td><td>0</td></tr><tr><td>Biscoe</td><td>38.6</td><td>17.2</td><td>199</td><td>3750</td><td>0</td></tr><tr><td>Biscoe</td><td>38.2</td><td>20</td><td>190</td><td>3900</td><td>0</td></tr><tr><td>Biscoe</td><td>38.1</td><td>17</td><td>181</td><td>3175</td><td>0</td></tr><tr><td>Biscoe</td><td>43.2</td><td>19</td><td>197</td><td>4775</td><td>0</td></tr><tr><td>Biscoe</td><td>38.1</td><td>16.5</td><td>198</td><td>3825</td><td>0</td></tr><tr><td>Biscoe</td><td>45.6</td><td>20.3</td><td>191</td><td>4600</td><td>0</td></tr><tr><td>Biscoe</td><td>39.7</td><td>17.7</td><td>193</td><td>3200</td><td>0</td></tr><tr><td>Biscoe</td><td>42.2</td><td>19.5</td><td>197</td><td>4275</td><td>0</td></tr><tr><td>Biscoe</td><td>39.6</td><td>20.7</td><td>191</td><td>3900</td><td>0</td></tr><tr><td>Biscoe</td><td>42.7</td><td>18.3</td><td>196</td><td>4075</td><td>0</td></tr><tr><td>Torgersen</td><td>38.6</td><td>17</td><td>188</td><td>2900</td><td>0</td></tr><tr><td>Torgersen</td><td>37.3</td><td>20.5</td><td>199</td><td>3775</td><td>0</td></tr><tr><td>Torgersen</td><td>35.7</td><td>17</td><td>189</td><td>3350</td><td>0</td></tr><tr><td>Torgersen</td><td>41.1</td><td>18.6</td><td>189</td><td>3325</td><td>0</td></tr><tr><td>Torgersen</td><td>36.2</td><td>17.2</td><td>187</td><td>3150</td><td>0</td></tr><tr><td>Torgersen</td><td>37.7</td><td>19.8</td><td>198</td><td>3500</td><td>0</td></tr><tr><td>Torgersen</td><td>40.2</td><td>17</td><td>176</td><td>3450</td><td>0</td></tr><tr><td>Torgersen</td><td>41.4</td><td>18.5</td><td>202</td><td>3875</td><td>0</td></tr><tr><td>Torgersen</td><td>35.2</td><td>15.9</td><td>186</td><td>3050</td><td>0</td></tr><tr><td>Torgersen</td><td>40.6</td><td>19</td><td>199</td><td>4000</td><td>0</td></tr><tr><td>Torgersen</td><td>38.8</td><td>17.6</td><td>191</td><td>3275</td><td>0</td></tr><tr><td>Torgersen</td><td>41.5</td><td>18.3</td><td>195</td><td>4300</td><td>0</td></tr><tr><td>Torgersen</td><td>39</td><td>17.1</td><td>191</td><td>3050</td><td>0</td></tr><tr><td>Torgersen</td><td>44.1</td><td>18</td><td>210</td><td>4000</td><td>0</td></tr><tr><td>Torgersen</td><td>38.5</td><td>17.9</td><td>190</td><td>3325</td><td>0</td></tr><tr><td>Torgersen</td><td>43.1</td><td>19.2</td><td>197</td><td>3500</td><td>0</td></tr><tr><td>Dream</td><td>36.8</td><td>18.5</td><td>193</td><td>3500</td><td>0</td></tr><tr><td>Dream</td><td>37.5</td><td>18.5</td><td>199</td><td>4475</td><td>0</td></tr><tr><td>Dream</td><td>38.1</td><td>17.6</td><td>187</td><td>3425</td><td>0</td></tr><tr><td>Dream</td><td>41.1</td><td>17.5</td><td>190</td><td>3900</td><td>0</td></tr><tr><td>Dream</td><td>35.6</td><td>17.5</td><td>191</td><td>3175</td><td>0</td></tr><tr><td>Dream</td><td>40.2</td><td>20.1</td><td>200</td><td>3975</td><td>0</td></tr><tr><td>Dream</td><td>37</td><td>16.5</td><td>185</td><td>3400</td><td>0</td></tr><tr><td>Dream</td><td>39.7</td><td>17.9</td><td>193</td><td>4250</td><td>0</td></tr><tr><td>Dream</td><td>40.2</td><td>17.1</td><td>193</td><td>3400</td><td>0</td></tr><tr><td>Dream</td><td>40.6</td><td>17.2</td><td>187</td><td>3475</td><td>0</td></tr><tr><td>Dream</td><td>32.1</td><td>15.5</td><td>188</td><td>3050</td><td>0</td></tr><tr><td>Dream</td><td>40.7</td><td>17</td><td>190</td><td>3725</td><td>0</td></tr><tr><td>Dream</td><td>37.3</td><td>16.8</td><td>192</td><td>3000</td><td>0</td></tr><tr><td>Dream</td><td>39</td><td>18.7</td><td>185</td><td>3650</td><td>0</td></tr><tr><td>Dream</td><td>39.2</td><td>18.6</td><td>190</td><td>4250</td><td>0</td></tr><tr><td>Dream</td><td>36.6</td><td>18.4</td><td>184</td><td>3475</td><td>0</td></tr><tr><td>Dream</td><td>36</td><td>17.8</td><td>195</td><td>3450</td><td>0</td></tr><tr><td>Dream</td><td>37.8</td><td>18.1</td><td>193</td><td>3750</td><td>0</td></tr><tr><td>Dream</td><td>36</td><td>17.1</td><td>187</td><td>3700</td><td>0</td></tr><tr><td>Dream</td><td>41.5</td><td>18.5</td><td>201</td><td>4000</td><td>0</td></tr><tr><td>Biscoe</td><td>46.1</td><td>13.2</td><td>211</td><td>4500</td><td>1</td></tr><tr><td>Biscoe</td><td>50</td><td>16.3</td><td>230</td><td>5700</td><td>1</td></tr><tr><td>Biscoe</td><td>48.7</td><td>14.1</td><td>210</td><td>4450</td><td>1</td></tr><tr><td>Biscoe</td><td>50</td><td>15.2</td><td>218</td><td>5700</td><td>1</td></tr><tr><td>Biscoe</td><td>47.6</td><td>14.5</td><td>215</td><td>5400</td><td>1</td></tr><tr><td>Biscoe</td><td>46.5</td><td>13.5</td><td>210</td><td>4550</td><td>1</td></tr><tr><td>Biscoe</td><td>45.4</td><td>14.6</td><td>211</td><td>4800</td><td>1</td></tr><tr><td>Biscoe</td><td>46.7</td><td>15.3</td><td>219</td><td>5200</td><td>1</td></tr><tr><td>Biscoe</td><td>43.3</td><td>13.4</td><td>209</td><td>4400</td><td>1</td></tr><tr><td>Biscoe</td><td>46.8</td><td>15.4</td><td>215</td><td>5150</td><td>1</td></tr><tr><td>Biscoe</td><td>40.9</td><td>13.7</td><td>214</td><td>4650</td><td>1</td></tr><tr><td>Biscoe</td><td>49</td><td>16.1</td><td>216</td><td>5550</td><td>1</td></tr><tr><td>Biscoe</td><td>45.5</td><td>13.7</td><td>214</td><td>4650</td><td>1</td></tr><tr><td>Biscoe</td><td>48.4</td><td>14.6</td><td>213</td><td>5850</td><td>1</td></tr><tr><td>Biscoe</td><td>45.8</td><td>14.6</td><td>210</td><td>4200</td><td>1</td></tr><tr><td>Biscoe</td><td>49.3</td><td>15.7</td><td>217</td><td>5850</td><td>1</td></tr><tr><td>Biscoe</td><td>42</td><td>13.5</td><td>210</td><td>4150</td><td>1</td></tr><tr><td>Biscoe</td><td>49.2</td><td>15.2</td><td>221</td><td>6300</td><td>1</td></tr><tr><td>Biscoe</td><td>46.2</td><td>14.5</td><td>209</td><td>4800</td><td>1</td></tr><tr><td>Biscoe</td><td>48.7</td><td>15.1</td><td>222</td><td>5350</td><td>1</td></tr><tr><td>Biscoe</td><td>50.2</td><td>14.3</td><td>218</td><td>5700</td><td>1</td></tr><tr><td>Biscoe</td><td>45.1</td><td>14.5</td><td>215</td><td>5000</td><td>1</td></tr><tr><td>Biscoe</td><td>46.5</td><td>14.5</td><td>213</td><td>4400</td><td>1</td></tr><tr><td>Biscoe</td><td>46.3</td><td>15.8</td><td>215</td><td>5050</td><td>1</td></tr><tr><td>Biscoe</td><td>42.9</td><td>13.1</td><td>215</td><td>5000</td><td>1</td></tr><tr><td>Biscoe</td><td>46.1</td><td>15.1</td><td>215</td><td>5100</td><td>1</td></tr><tr><td>Biscoe</td><td>44.5</td><td>14.3</td><td>216</td><td>4100</td><td>1</td></tr><tr><td>Biscoe</td><td>47.8</td><td>15</td><td>215</td><td>5650</td><td>1</td></tr><tr><td>Biscoe</td><td>48.2</td><td>14.3</td><td>210</td><td>4600</td><td>1</td></tr><tr><td>Biscoe</td><td>50</td><td>15.3</td><td>220</td><td>5550</td><td>1</td></tr><tr><td>Biscoe</td><td>47.3</td><td>15.3</td><td>222</td><td>5250</td><td>1</td></tr><tr><td>Biscoe</td><td>42.8</td><td>14.2</td><td>209</td><td>4700</td><td>1</td></tr><tr><td>Biscoe</td><td>45.1</td><td>14.5</td><td>207</td><td>5050</td><td>1</td></tr><tr><td>Biscoe</td><td>59.6</td><td>17</td><td>230</td><td>6050</td><td>1</td></tr><tr><td>Biscoe</td><td>49.1</td><td>14.8</td><td>220</td><td>5150</td><td>1</td></tr><tr><td>Biscoe</td><td>48.4</td><td>16.3</td><td>220</td><td>5400</td><td>1</td></tr><tr><td>Biscoe</td><td>42.6</td><td>13.7</td><td>213</td><td>4950</td><td>1</td></tr><tr><td>Biscoe</td><td>44.4</td><td>17.3</td><td>219</td><td>5250</td><td>1</td></tr><tr><td>Biscoe</td><td>44</td><td>13.6</td><td>208</td><td>4350</td><td>1</td></tr><tr><td>Biscoe</td><td>48.7</td><td>15.7</td><td>208</td><td>5350</td><td>1</td></tr><tr><td>Biscoe</td><td>42.7</td><td>13.7</td><td>208</td><td>3950</td><td>1</td></tr><tr><td>Biscoe</td><td>49.6</td><td>16</td><td>225</td><td>5700</td><td>1</td></tr><tr><td>Biscoe</td><td>45.3</td><td>13.7</td><td>210</td><td>4300</td><td>1</td></tr><tr><td>Biscoe</td><td>49.6</td><td>15</td><td>216</td><td>4750</td><td>1</td></tr><tr><td>Biscoe</td><td>50.5</td><td>15.9</td><td>222</td><td>5550</td><td>1</td></tr><tr><td>Biscoe</td><td>43.6</td><td>13.9</td><td>217</td><td>4900</td><td>1</td></tr><tr><td>Biscoe</td><td>45.5</td><td>13.9</td><td>210</td><td>4200</td><td>1</td></tr><tr><td>Biscoe</td><td>50.5</td><td>15.9</td><td>225</td><td>5400</td><td>1</td></tr><tr><td>Biscoe</td><td>44.9</td><td>13.3</td><td>213</td><td>5100</td><td>1</td></tr><tr><td>Biscoe</td><td>45.2</td><td>15.8</td><td>215</td><td>5300</td><td>1</td></tr><tr><td>Biscoe</td><td>46.6</td><td>14.2</td><td>210</td><td>4850</td><td>1</td></tr><tr><td>Biscoe</td><td>48.5</td><td>14.1</td><td>220</td><td>5300</td><td>1</td></tr><tr><td>Biscoe</td><td>45.1</td><td>14.4</td><td>210</td><td>4400</td><td>1</td></tr><tr><td>Biscoe</td><td>50.1</td><td>15</td><td>225</td><td>5000</td><td>1</td></tr><tr><td>Biscoe</td><td>46.5</td><td>14.4</td><td>217</td><td>4900</td><td>1</td></tr><tr><td>Biscoe</td><td>45</td><td>15.4</td><td>220</td><td>5050</td><td>1</td></tr><tr><td>Biscoe</td><td>43.8</td><td>13.9</td><td>208</td><td>4300</td><td>1</td></tr><tr><td>Biscoe</td><td>45.5</td><td>15</td><td>220</td><td>5000</td><td>1</td></tr><tr><td>Biscoe</td><td>43.2</td><td>14.5</td><td>208</td><td>4450</td><td>1</td></tr><tr><td>Biscoe</td><td>50.4</td><td>15.3</td><td>224</td><td>5550</td><td>1</td></tr><tr><td>Biscoe</td><td>45.3</td><td>13.8</td><td>208</td><td>4200</td><td>1</td></tr><tr><td>Biscoe</td><td>46.2</td><td>14.9</td><td>221</td><td>5300</td><td>1</td></tr><tr><td>Biscoe</td><td>45.7</td><td>13.9</td><td>214</td><td>4400</td><td>1</td></tr><tr><td>Biscoe</td><td>54.3</td><td>15.7</td><td>231</td><td>5650</td><td>1</td></tr><tr><td>Biscoe</td><td>45.8</td><td>14.2</td><td>219</td><td>4700</td><td>1</td></tr><tr><td>Biscoe</td><td>49.8</td><td>16.8</td><td>230</td><td>5700</td><td>1</td></tr><tr><td>Biscoe</td><td>46.2</td><td>14.4</td><td>214</td><td>4650</td><td>1</td></tr><tr><td>Biscoe</td><td>49.5</td><td>16.2</td><td>229</td><td>5800</td><td>1</td></tr><tr><td>Biscoe</td><td>43.5</td><td>14.2</td><td>220</td><td>4700</td><td>1</td></tr><tr><td>Biscoe</td><td>50.7</td><td>15</td><td>223</td><td>5550</td><td>1</td></tr><tr><td>Biscoe</td><td>47.7</td><td>15</td><td>216</td><td>4750</td><td>1</td></tr><tr><td>Biscoe</td><td>46.4</td><td>15.6</td><td>221</td><td>5000</td><td>1</td></tr><tr><td>Biscoe</td><td>48.2</td><td>15.6</td><td>221</td><td>5100</td><td>1</td></tr><tr><td>Biscoe</td><td>46.5</td><td>14.8</td><td>217</td><td>5200</td><td>1</td></tr><tr><td>Biscoe</td><td>46.4</td><td>15</td><td>216</td><td>4700</td><td>1</td></tr><tr><td>Biscoe</td><td>48.6</td><td>16</td><td>230</td><td>5800</td><td>1</td></tr><tr><td>Biscoe</td><td>47.5</td><td>14.2</td><td>209</td><td>4600</td><td>1</td></tr><tr><td>Biscoe</td><td>51.1</td><td>16.3</td><td>220</td><td>6000</td><td>1</td></tr><tr><td>Biscoe</td><td>45.2</td><td>13.8</td><td>215</td><td>4750</td><td>1</td></tr><tr><td>Biscoe</td><td>45.2</td><td>16.4</td><td>223</td><td>5950</td><td>1</td></tr><tr><td>Biscoe</td><td>49.1</td><td>14.5</td><td>212</td><td>4625</td><td>1</td></tr><tr><td>Biscoe</td><td>52.5</td><td>15.6</td><td>221</td><td>5450</td><td>1</td></tr><tr><td>Biscoe</td><td>47.4</td><td>14.6</td><td>212</td><td>4725</td><td>1</td></tr><tr><td>Biscoe</td><td>50</td><td>15.9</td><td>224</td><td>5350</td><td>1</td></tr><tr><td>Biscoe</td><td>44.9</td><td>13.8</td><td>212</td><td>4750</td><td>1</td></tr><tr><td>Biscoe</td><td>50.8</td><td>17.3</td><td>228</td><td>5600</td><td>1</td></tr><tr><td>Biscoe</td><td>43.4</td><td>14.4</td><td>218</td><td>4600</td><td>1</td></tr><tr><td>Biscoe</td><td>51.3</td><td>14.2</td><td>218</td><td>5300</td><td>1</td></tr><tr><td>Biscoe</td><td>47.5</td><td>14</td><td>212</td><td>4875</td><td>1</td></tr><tr><td>Biscoe</td><td>52.1</td><td>17</td><td>230</td><td>5550</td><td>1</td></tr><tr><td>Biscoe</td><td>47.5</td><td>15</td><td>218</td><td>4950</td><td>1</td></tr><tr><td>Biscoe</td><td>52.2</td><td>17.1</td><td>228</td><td>5400</td><td>1</td></tr><tr><td>Biscoe</td><td>45.5</td><td>14.5</td><td>212</td><td>4750</td><td>1</td></tr><tr><td>Biscoe</td><td>49.5</td><td>16.1</td><td>224</td><td>5650</td><td>1</td></tr><tr><td>Biscoe</td><td>44.5</td><td>14.7</td><td>214</td><td>4850</td><td>1</td></tr><tr><td>Biscoe</td><td>50.8</td><td>15.7</td><td>226</td><td>5200</td><td>1</td></tr><tr><td>Biscoe</td><td>49.4</td><td>15.8</td><td>216</td><td>4925</td><td>1</td></tr><tr><td>Biscoe</td><td>46.9</td><td>14.6</td><td>222</td><td>4875</td><td>1</td></tr><tr><td>Biscoe</td><td>48.4</td><td>14.4</td><td>203</td><td>4625</td><td>1</td></tr><tr><td>Biscoe</td><td>51.1</td><td>16.5</td><td>225</td><td>5250</td><td>1</td></tr><tr><td>Biscoe</td><td>48.5</td><td>15</td><td>219</td><td>4850</td><td>1</td></tr><tr><td>Biscoe</td><td>55.9</td><td>17</td><td>228</td><td>5600</td><td>1</td></tr><tr><td>Biscoe</td><td>47.2</td><td>15.5</td><td>215</td><td>4975</td><td>1</td></tr><tr><td>Biscoe</td><td>49.1</td><td>15</td><td>228</td><td>5500</td><td>1</td></tr><tr><td>Biscoe</td><td>47.3</td><td>13.8</td><td>216</td><td>4725</td><td>1</td></tr><tr><td>Biscoe</td><td>46.8</td><td>16.1</td><td>215</td><td>5500</td><td>1</td></tr><tr><td>Biscoe</td><td>41.7</td><td>14.7</td><td>210</td><td>4700</td><td>1</td></tr><tr><td>Biscoe</td><td>53.4</td><td>15.8</td><td>219</td><td>5500</td><td>1</td></tr><tr><td>Biscoe</td><td>43.3</td><td>14</td><td>208</td><td>4575</td><td>1</td></tr><tr><td>Biscoe</td><td>48.1</td><td>15.1</td><td>209</td><td>5500</td><td>1</td></tr><tr><td>Biscoe</td><td>50.5</td><td>15.2</td><td>216</td><td>5000</td><td>1</td></tr><tr><td>Biscoe</td><td>49.8</td><td>15.9</td><td>229</td><td>5950</td><td>1</td></tr><tr><td>Biscoe</td><td>43.5</td><td>15.2</td><td>213</td><td>4650</td><td>1</td></tr><tr><td>Biscoe</td><td>51.5</td><td>16.3</td><td>230</td><td>5500</td><td>1</td></tr><tr><td>Biscoe</td><td>46.2</td><td>14.1</td><td>217</td><td>4375</td><td>1</td></tr><tr><td>Biscoe</td><td>55.1</td><td>16</td><td>230</td><td>5850</td><td>1</td></tr><tr><td>Biscoe</td><td>44.5</td><td>15.7</td><td>217</td><td>4875</td><td>1</td></tr><tr><td>Biscoe</td><td>48.8</td><td>16.2</td><td>222</td><td>6000</td><td>1</td></tr><tr><td>Biscoe</td><td>47.2</td><td>13.7</td><td>214</td><td>4925</td><td>1</td></tr><tr><td>Biscoe</td><td>null</td><td>null</td><td>null</td><td>null</td><td>1</td></tr><tr><td>Biscoe</td><td>46.8</td><td>14.3</td><td>215</td><td>4850</td><td>1</td></tr><tr><td>Biscoe</td><td>50.4</td><td>15.7</td><td>222</td><td>5750</td><td>1</td></tr><tr><td>Biscoe</td><td>45.2</td><td>14.8</td><td>212</td><td>5200</td><td>1</td></tr><tr><td>Biscoe</td><td>49.9</td><td>16.1</td><td>213</td><td>5400</td><td>1</td></tr><tr><td>Dream</td><td>46.5</td><td>17.9</td><td>192</td><td>3500</td><td>2</td></tr><tr><td>Dream</td><td>50</td><td>19.5</td><td>196</td><td>3900</td><td>2</td></tr><tr><td>Dream</td><td>51.3</td><td>19.2</td><td>193</td><td>3650</td><td>2</td></tr><tr><td>Dream</td><td>45.4</td><td>18.7</td><td>188</td><td>3525</td><td>2</td></tr><tr><td>Dream</td><td>52.7</td><td>19.8</td><td>197</td><td>3725</td><td>2</td></tr><tr><td>Dream</td><td>45.2</td><td>17.8</td><td>198</td><td>3950</td><td>2</td></tr><tr><td>Dream</td><td>46.1</td><td>18.2</td><td>178</td><td>3250</td><td>2</td></tr><tr><td>Dream</td><td>51.3</td><td>18.2</td><td>197</td><td>3750</td><td>2</td></tr><tr><td>Dream</td><td>46</td><td>18.9</td><td>195</td><td>4150</td><td>2</td></tr><tr><td>Dream</td><td>51.3</td><td>19.9</td><td>198</td><td>3700</td><td>2</td></tr><tr><td>Dream</td><td>46.6</td><td>17.8</td><td>193</td><td>3800</td><td>2</td></tr><tr><td>Dream</td><td>51.7</td><td>20.3</td><td>194</td><td>3775</td><td>2</td></tr><tr><td>Dream</td><td>47</td><td>17.3</td><td>185</td><td>3700</td><td>2</td></tr><tr><td>Dream</td><td>52</td><td>18.1</td><td>201</td><td>4050</td><td>2</td></tr><tr><td>Dream</td><td>45.9</td><td>17.1</td><td>190</td><td>3575</td><td>2</td></tr><tr><td>Dream</td><td>50.5</td><td>19.6</td><td>201</td><td>4050</td><td>2</td></tr><tr><td>Dream</td><td>50.3</td><td>20</td><td>197</td><td>3300</td><td>2</td></tr><tr><td>Dream</td><td>58</td><td>17.8</td><td>181</td><td>3700</td><td>2</td></tr><tr><td>Dream</td><td>46.4</td><td>18.6</td><td>190</td><td>3450</td><td>2</td></tr><tr><td>Dream</td><td>49.2</td><td>18.2</td><td>195</td><td>4400</td><td>2</td></tr><tr><td>Dream</td><td>42.4</td><td>17.3</td><td>181</td><td>3600</td><td>2</td></tr><tr><td>Dream</td><td>48.5</td><td>17.5</td><td>191</td><td>3400</td><td>2</td></tr><tr><td>Dream</td><td>43.2</td><td>16.6</td><td>187</td><td>2900</td><td>2</td></tr><tr><td>Dream</td><td>50.6</td><td>19.4</td><td>193</td><td>3800</td><td>2</td></tr><tr><td>Dream</td><td>46.7</td><td>17.9</td><td>195</td><td>3300</td><td>2</td></tr><tr><td>Dream</td><td>52</td><td>19</td><td>197</td><td>4150</td><td>2</td></tr><tr><td>Dream</td><td>50.5</td><td>18.4</td><td>200</td><td>3400</td><td>2</td></tr><tr><td>Dream</td><td>49.5</td><td>19</td><td>200</td><td>3800</td><td>2</td></tr><tr><td>Dream</td><td>46.4</td><td>17.8</td><td>191</td><td>3700</td><td>2</td></tr><tr><td>Dream</td><td>52.8</td><td>20</td><td>205</td><td>4550</td><td>2</td></tr><tr><td>Dream</td><td>40.9</td><td>16.6</td><td>187</td><td>3200</td><td>2</td></tr><tr><td>Dream</td><td>54.2</td><td>20.8</td><td>201</td><td>4300</td><td>2</td></tr><tr><td>Dream</td><td>42.5</td><td>16.7</td><td>187</td><td>3350</td><td>2</td></tr><tr><td>Dream</td><td>51</td><td>18.8</td><td>203</td><td>4100</td><td>2</td></tr><tr><td>Dream</td><td>49.7</td><td>18.6</td><td>195</td><td>3600</td><td>2</td></tr><tr><td>Dream</td><td>47.5</td><td>16.8</td><td>199</td><td>3900</td><td>2</td></tr><tr><td>Dream</td><td>47.6</td><td>18.3</td><td>195</td><td>3850</td><td>2</td></tr><tr><td>Dream</td><td>52</td><td>20.7</td><td>210</td><td>4800</td><td>2</td></tr><tr><td>Dream</td><td>46.9</td><td>16.6</td><td>192</td><td>2700</td><td>2</td></tr><tr><td>Dream</td><td>53.5</td><td>19.9</td><td>205</td><td>4500</td><td>2</td></tr><tr><td>Dream</td><td>49</td><td>19.5</td><td>210</td><td>3950</td><td>2</td></tr><tr><td>Dream</td><td>46.2</td><td>17.5</td><td>187</td><td>3650</td><td>2</td></tr><tr><td>Dream</td><td>50.9</td><td>19.1</td><td>196</td><td>3550</td><td>2</td></tr><tr><td>Dream</td><td>45.5</td><td>17</td><td>196</td><td>3500</td><td>2</td></tr><tr><td>Dream</td><td>50.9</td><td>17.9</td><td>196</td><td>3675</td><td>2</td></tr><tr><td>Dream</td><td>50.8</td><td>18.5</td><td>201</td><td>4450</td><td>2</td></tr><tr><td>Dream</td><td>50.1</td><td>17.9</td><td>190</td><td>3400</td><td>2</td></tr><tr><td>Dream</td><td>49</td><td>19.6</td><td>212</td><td>4300</td><td>2</td></tr><tr><td>Dream</td><td>51.5</td><td>18.7</td><td>187</td><td>3250</td><td>2</td></tr><tr><td>Dream</td><td>49.8</td><td>17.3</td><td>198</td><td>3675</td><td>2</td></tr><tr><td>Dream</td><td>48.1</td><td>16.4</td><td>199</td><td>3325</td><td>2</td></tr><tr><td>Dream</td><td>51.4</td><td>19</td><td>201</td><td>3950</td><td>2</td></tr><tr><td>Dream</td><td>45.7</td><td>17.3</td><td>193</td><td>3600</td><td>2</td></tr><tr><td>Dream</td><td>50.7</td><td>19.7</td><td>203</td><td>4050</td><td>2</td></tr><tr><td>Dream</td><td>42.5</td><td>17.3</td><td>187</td><td>3350</td><td>2</td></tr><tr><td>Dream</td><td>52.2</td><td>18.8</td><td>197</td><td>3450</td><td>2</td></tr><tr><td>Dream</td><td>45.2</td><td>16.6</td><td>191</td><td>3250</td><td>2</td></tr><tr><td>Dream</td><td>49.3</td><td>19.9</td><td>203</td><td>4050</td><td>2</td></tr><tr><td>Dream</td><td>50.2</td><td>18.8</td><td>202</td><td>3800</td><td>2</td></tr><tr><td>Dream</td><td>45.6</td><td>19.4</td><td>194</td><td>3525</td><td>2</td></tr><tr><td>Dream</td><td>51.9</td><td>19.5</td><td>206</td><td>3950</td><td>2</td></tr><tr><td>Dream</td><td>46.8</td><td>16.5</td><td>189</td><td>3650</td><td>2</td></tr><tr><td>Dream</td><td>45.7</td><td>17</td><td>195</td><td>3650</td><td>2</td></tr><tr><td>Dream</td><td>55.8</td><td>19.8</td><td>207</td><td>4000</td><td>2</td></tr><tr><td>Dream</td><td>43.5</td><td>18.1</td><td>202</td><td>3400</td><td>2</td></tr><tr><td>Dream</td><td>49.6</td><td>18.2</td><td>193</td><td>3775</td><td>2</td></tr><tr><td>Dream</td><td>50.8</td><td>19</td><td>210</td><td>4100</td><td>2</td></tr><tr><td>Dream</td><td>50.2</td><td>18.7</td><td>198</td><td>3775</td><td>2</td></tr></tbody></table></div>"
      ]
     },
     "metadata": {
      "application/vnd.databricks.v1+output": {
       "addedWidgets": {},
       "aggData": [],
       "aggError": "",
       "aggOverflow": false,
       "aggSchema": [],
       "aggSeriesLimitReached": false,
       "aggType": "",
       "arguments": {},
       "columnCustomDisplayInfos": {},
       "data": [
        [
         "Torgersen",
         "39.1",
         "18.7",
         "181",
         "3750",
         "0"
        ],
        [
         "Torgersen",
         "39.5",
         "17.4",
         "186",
         "3800",
         "0"
        ],
        [
         "Torgersen",
         "40.3",
         "18",
         "195",
         "3250",
         "0"
        ],
        [
         "Torgersen",
         null,
         null,
         null,
         null,
         "0"
        ],
        [
         "Torgersen",
         "36.7",
         "19.3",
         "193",
         "3450",
         "0"
        ],
        [
         "Torgersen",
         "39.3",
         "20.6",
         "190",
         "3650",
         "0"
        ],
        [
         "Torgersen",
         "38.9",
         "17.8",
         "181",
         "3625",
         "0"
        ],
        [
         "Torgersen",
         "39.2",
         "19.6",
         "195",
         "4675",
         "0"
        ],
        [
         "Torgersen",
         "34.1",
         "18.1",
         "193",
         "3475",
         "0"
        ],
        [
         "Torgersen",
         "42",
         "20.2",
         "190",
         "4250",
         "0"
        ],
        [
         "Torgersen",
         "37.8",
         "17.1",
         "186",
         "3300",
         "0"
        ],
        [
         "Torgersen",
         "37.8",
         "17.3",
         "180",
         "3700",
         "0"
        ],
        [
         "Torgersen",
         "41.1",
         "17.6",
         "182",
         "3200",
         "0"
        ],
        [
         "Torgersen",
         "38.6",
         "21.2",
         "191",
         "3800",
         "0"
        ],
        [
         "Torgersen",
         "34.6",
         "21.1",
         "198",
         "4400",
         "0"
        ],
        [
         "Torgersen",
         "36.6",
         "17.8",
         "185",
         "3700",
         "0"
        ],
        [
         "Torgersen",
         "38.7",
         "19",
         "195",
         "3450",
         "0"
        ],
        [
         "Torgersen",
         "42.5",
         "20.7",
         "197",
         "4500",
         "0"
        ],
        [
         "Torgersen",
         "34.4",
         "18.4",
         "184",
         "3325",
         "0"
        ],
        [
         "Torgersen",
         "46",
         "21.5",
         "194",
         "4200",
         "0"
        ],
        [
         "Biscoe",
         "37.8",
         "18.3",
         "174",
         "3400",
         "0"
        ],
        [
         "Biscoe",
         "37.7",
         "18.7",
         "180",
         "3600",
         "0"
        ],
        [
         "Biscoe",
         "35.9",
         "19.2",
         "189",
         "3800",
         "0"
        ],
        [
         "Biscoe",
         "38.2",
         "18.1",
         "185",
         "3950",
         "0"
        ],
        [
         "Biscoe",
         "38.8",
         "17.2",
         "180",
         "3800",
         "0"
        ],
        [
         "Biscoe",
         "35.3",
         "18.9",
         "187",
         "3800",
         "0"
        ],
        [
         "Biscoe",
         "40.6",
         "18.6",
         "183",
         "3550",
         "0"
        ],
        [
         "Biscoe",
         "40.5",
         "17.9",
         "187",
         "3200",
         "0"
        ],
        [
         "Biscoe",
         "37.9",
         "18.6",
         "172",
         "3150",
         "0"
        ],
        [
         "Biscoe",
         "40.5",
         "18.9",
         "180",
         "3950",
         "0"
        ],
        [
         "Dream",
         "39.5",
         "16.7",
         "178",
         "3250",
         "0"
        ],
        [
         "Dream",
         "37.2",
         "18.1",
         "178",
         "3900",
         "0"
        ],
        [
         "Dream",
         "39.5",
         "17.8",
         "188",
         "3300",
         "0"
        ],
        [
         "Dream",
         "40.9",
         "18.9",
         "184",
         "3900",
         "0"
        ],
        [
         "Dream",
         "36.4",
         "17",
         "195",
         "3325",
         "0"
        ],
        [
         "Dream",
         "39.2",
         "21.1",
         "196",
         "4150",
         "0"
        ],
        [
         "Dream",
         "38.8",
         "20",
         "190",
         "3950",
         "0"
        ],
        [
         "Dream",
         "42.2",
         "18.5",
         "180",
         "3550",
         "0"
        ],
        [
         "Dream",
         "37.6",
         "19.3",
         "181",
         "3300",
         "0"
        ],
        [
         "Dream",
         "39.8",
         "19.1",
         "184",
         "4650",
         "0"
        ],
        [
         "Dream",
         "36.5",
         "18",
         "182",
         "3150",
         "0"
        ],
        [
         "Dream",
         "40.8",
         "18.4",
         "195",
         "3900",
         "0"
        ],
        [
         "Dream",
         "36",
         "18.5",
         "186",
         "3100",
         "0"
        ],
        [
         "Dream",
         "44.1",
         "19.7",
         "196",
         "4400",
         "0"
        ],
        [
         "Dream",
         "37",
         "16.9",
         "185",
         "3000",
         "0"
        ],
        [
         "Dream",
         "39.6",
         "18.8",
         "190",
         "4600",
         "0"
        ],
        [
         "Dream",
         "41.1",
         "19",
         "182",
         "3425",
         "0"
        ],
        [
         "Dream",
         "37.5",
         "18.9",
         "179",
         "2975",
         "0"
        ],
        [
         "Dream",
         "36",
         "17.9",
         "190",
         "3450",
         "0"
        ],
        [
         "Dream",
         "42.3",
         "21.2",
         "191",
         "4150",
         "0"
        ],
        [
         "Biscoe",
         "39.6",
         "17.7",
         "186",
         "3500",
         "0"
        ],
        [
         "Biscoe",
         "40.1",
         "18.9",
         "188",
         "4300",
         "0"
        ],
        [
         "Biscoe",
         "35",
         "17.9",
         "190",
         "3450",
         "0"
        ],
        [
         "Biscoe",
         "42",
         "19.5",
         "200",
         "4050",
         "0"
        ],
        [
         "Biscoe",
         "34.5",
         "18.1",
         "187",
         "2900",
         "0"
        ],
        [
         "Biscoe",
         "41.4",
         "18.6",
         "191",
         "3700",
         "0"
        ],
        [
         "Biscoe",
         "39",
         "17.5",
         "186",
         "3550",
         "0"
        ],
        [
         "Biscoe",
         "40.6",
         "18.8",
         "193",
         "3800",
         "0"
        ],
        [
         "Biscoe",
         "36.5",
         "16.6",
         "181",
         "2850",
         "0"
        ],
        [
         "Biscoe",
         "37.6",
         "19.1",
         "194",
         "3750",
         "0"
        ],
        [
         "Biscoe",
         "35.7",
         "16.9",
         "185",
         "3150",
         "0"
        ],
        [
         "Biscoe",
         "41.3",
         "21.1",
         "195",
         "4400",
         "0"
        ],
        [
         "Biscoe",
         "37.6",
         "17",
         "185",
         "3600",
         "0"
        ],
        [
         "Biscoe",
         "41.1",
         "18.2",
         "192",
         "4050",
         "0"
        ],
        [
         "Biscoe",
         "36.4",
         "17.1",
         "184",
         "2850",
         "0"
        ],
        [
         "Biscoe",
         "41.6",
         "18",
         "192",
         "3950",
         "0"
        ],
        [
         "Biscoe",
         "35.5",
         "16.2",
         "195",
         "3350",
         "0"
        ],
        [
         "Biscoe",
         "41.1",
         "19.1",
         "188",
         "4100",
         "0"
        ],
        [
         "Torgersen",
         "35.9",
         "16.6",
         "190",
         "3050",
         "0"
        ],
        [
         "Torgersen",
         "41.8",
         "19.4",
         "198",
         "4450",
         "0"
        ],
        [
         "Torgersen",
         "33.5",
         "19",
         "190",
         "3600",
         "0"
        ],
        [
         "Torgersen",
         "39.7",
         "18.4",
         "190",
         "3900",
         "0"
        ],
        [
         "Torgersen",
         "39.6",
         "17.2",
         "196",
         "3550",
         "0"
        ],
        [
         "Torgersen",
         "45.8",
         "18.9",
         "197",
         "4150",
         "0"
        ],
        [
         "Torgersen",
         "35.5",
         "17.5",
         "190",
         "3700",
         "0"
        ],
        [
         "Torgersen",
         "42.8",
         "18.5",
         "195",
         "4250",
         "0"
        ],
        [
         "Torgersen",
         "40.9",
         "16.8",
         "191",
         "3700",
         "0"
        ],
        [
         "Torgersen",
         "37.2",
         "19.4",
         "184",
         "3900",
         "0"
        ],
        [
         "Torgersen",
         "36.2",
         "16.1",
         "187",
         "3550",
         "0"
        ],
        [
         "Torgersen",
         "42.1",
         "19.1",
         "195",
         "4000",
         "0"
        ],
        [
         "Torgersen",
         "34.6",
         "17.2",
         "189",
         "3200",
         "0"
        ],
        [
         "Torgersen",
         "42.9",
         "17.6",
         "196",
         "4700",
         "0"
        ],
        [
         "Torgersen",
         "36.7",
         "18.8",
         "187",
         "3800",
         "0"
        ],
        [
         "Torgersen",
         "35.1",
         "19.4",
         "193",
         "4200",
         "0"
        ],
        [
         "Dream",
         "37.3",
         "17.8",
         "191",
         "3350",
         "0"
        ],
        [
         "Dream",
         "41.3",
         "20.3",
         "194",
         "3550",
         "0"
        ],
        [
         "Dream",
         "36.3",
         "19.5",
         "190",
         "3800",
         "0"
        ],
        [
         "Dream",
         "36.9",
         "18.6",
         "189",
         "3500",
         "0"
        ],
        [
         "Dream",
         "38.3",
         "19.2",
         "189",
         "3950",
         "0"
        ],
        [
         "Dream",
         "38.9",
         "18.8",
         "190",
         "3600",
         "0"
        ],
        [
         "Dream",
         "35.7",
         "18",
         "202",
         "3550",
         "0"
        ],
        [
         "Dream",
         "41.1",
         "18.1",
         "205",
         "4300",
         "0"
        ],
        [
         "Dream",
         "34",
         "17.1",
         "185",
         "3400",
         "0"
        ],
        [
         "Dream",
         "39.6",
         "18.1",
         "186",
         "4450",
         "0"
        ],
        [
         "Dream",
         "36.2",
         "17.3",
         "187",
         "3300",
         "0"
        ],
        [
         "Dream",
         "40.8",
         "18.9",
         "208",
         "4300",
         "0"
        ],
        [
         "Dream",
         "38.1",
         "18.6",
         "190",
         "3700",
         "0"
        ],
        [
         "Dream",
         "40.3",
         "18.5",
         "196",
         "4350",
         "0"
        ],
        [
         "Dream",
         "33.1",
         "16.1",
         "178",
         "2900",
         "0"
        ],
        [
         "Dream",
         "43.2",
         "18.5",
         "192",
         "4100",
         "0"
        ],
        [
         "Biscoe",
         "35",
         "17.9",
         "192",
         "3725",
         "0"
        ],
        [
         "Biscoe",
         "41",
         "20",
         "203",
         "4725",
         "0"
        ],
        [
         "Biscoe",
         "37.7",
         "16",
         "183",
         "3075",
         "0"
        ],
        [
         "Biscoe",
         "37.8",
         "20",
         "190",
         "4250",
         "0"
        ],
        [
         "Biscoe",
         "37.9",
         "18.6",
         "193",
         "2925",
         "0"
        ],
        [
         "Biscoe",
         "39.7",
         "18.9",
         "184",
         "3550",
         "0"
        ],
        [
         "Biscoe",
         "38.6",
         "17.2",
         "199",
         "3750",
         "0"
        ],
        [
         "Biscoe",
         "38.2",
         "20",
         "190",
         "3900",
         "0"
        ],
        [
         "Biscoe",
         "38.1",
         "17",
         "181",
         "3175",
         "0"
        ],
        [
         "Biscoe",
         "43.2",
         "19",
         "197",
         "4775",
         "0"
        ],
        [
         "Biscoe",
         "38.1",
         "16.5",
         "198",
         "3825",
         "0"
        ],
        [
         "Biscoe",
         "45.6",
         "20.3",
         "191",
         "4600",
         "0"
        ],
        [
         "Biscoe",
         "39.7",
         "17.7",
         "193",
         "3200",
         "0"
        ],
        [
         "Biscoe",
         "42.2",
         "19.5",
         "197",
         "4275",
         "0"
        ],
        [
         "Biscoe",
         "39.6",
         "20.7",
         "191",
         "3900",
         "0"
        ],
        [
         "Biscoe",
         "42.7",
         "18.3",
         "196",
         "4075",
         "0"
        ],
        [
         "Torgersen",
         "38.6",
         "17",
         "188",
         "2900",
         "0"
        ],
        [
         "Torgersen",
         "37.3",
         "20.5",
         "199",
         "3775",
         "0"
        ],
        [
         "Torgersen",
         "35.7",
         "17",
         "189",
         "3350",
         "0"
        ],
        [
         "Torgersen",
         "41.1",
         "18.6",
         "189",
         "3325",
         "0"
        ],
        [
         "Torgersen",
         "36.2",
         "17.2",
         "187",
         "3150",
         "0"
        ],
        [
         "Torgersen",
         "37.7",
         "19.8",
         "198",
         "3500",
         "0"
        ],
        [
         "Torgersen",
         "40.2",
         "17",
         "176",
         "3450",
         "0"
        ],
        [
         "Torgersen",
         "41.4",
         "18.5",
         "202",
         "3875",
         "0"
        ],
        [
         "Torgersen",
         "35.2",
         "15.9",
         "186",
         "3050",
         "0"
        ],
        [
         "Torgersen",
         "40.6",
         "19",
         "199",
         "4000",
         "0"
        ],
        [
         "Torgersen",
         "38.8",
         "17.6",
         "191",
         "3275",
         "0"
        ],
        [
         "Torgersen",
         "41.5",
         "18.3",
         "195",
         "4300",
         "0"
        ],
        [
         "Torgersen",
         "39",
         "17.1",
         "191",
         "3050",
         "0"
        ],
        [
         "Torgersen",
         "44.1",
         "18",
         "210",
         "4000",
         "0"
        ],
        [
         "Torgersen",
         "38.5",
         "17.9",
         "190",
         "3325",
         "0"
        ],
        [
         "Torgersen",
         "43.1",
         "19.2",
         "197",
         "3500",
         "0"
        ],
        [
         "Dream",
         "36.8",
         "18.5",
         "193",
         "3500",
         "0"
        ],
        [
         "Dream",
         "37.5",
         "18.5",
         "199",
         "4475",
         "0"
        ],
        [
         "Dream",
         "38.1",
         "17.6",
         "187",
         "3425",
         "0"
        ],
        [
         "Dream",
         "41.1",
         "17.5",
         "190",
         "3900",
         "0"
        ],
        [
         "Dream",
         "35.6",
         "17.5",
         "191",
         "3175",
         "0"
        ],
        [
         "Dream",
         "40.2",
         "20.1",
         "200",
         "3975",
         "0"
        ],
        [
         "Dream",
         "37",
         "16.5",
         "185",
         "3400",
         "0"
        ],
        [
         "Dream",
         "39.7",
         "17.9",
         "193",
         "4250",
         "0"
        ],
        [
         "Dream",
         "40.2",
         "17.1",
         "193",
         "3400",
         "0"
        ],
        [
         "Dream",
         "40.6",
         "17.2",
         "187",
         "3475",
         "0"
        ],
        [
         "Dream",
         "32.1",
         "15.5",
         "188",
         "3050",
         "0"
        ],
        [
         "Dream",
         "40.7",
         "17",
         "190",
         "3725",
         "0"
        ],
        [
         "Dream",
         "37.3",
         "16.8",
         "192",
         "3000",
         "0"
        ],
        [
         "Dream",
         "39",
         "18.7",
         "185",
         "3650",
         "0"
        ],
        [
         "Dream",
         "39.2",
         "18.6",
         "190",
         "4250",
         "0"
        ],
        [
         "Dream",
         "36.6",
         "18.4",
         "184",
         "3475",
         "0"
        ],
        [
         "Dream",
         "36",
         "17.8",
         "195",
         "3450",
         "0"
        ],
        [
         "Dream",
         "37.8",
         "18.1",
         "193",
         "3750",
         "0"
        ],
        [
         "Dream",
         "36",
         "17.1",
         "187",
         "3700",
         "0"
        ],
        [
         "Dream",
         "41.5",
         "18.5",
         "201",
         "4000",
         "0"
        ],
        [
         "Biscoe",
         "46.1",
         "13.2",
         "211",
         "4500",
         "1"
        ],
        [
         "Biscoe",
         "50",
         "16.3",
         "230",
         "5700",
         "1"
        ],
        [
         "Biscoe",
         "48.7",
         "14.1",
         "210",
         "4450",
         "1"
        ],
        [
         "Biscoe",
         "50",
         "15.2",
         "218",
         "5700",
         "1"
        ],
        [
         "Biscoe",
         "47.6",
         "14.5",
         "215",
         "5400",
         "1"
        ],
        [
         "Biscoe",
         "46.5",
         "13.5",
         "210",
         "4550",
         "1"
        ],
        [
         "Biscoe",
         "45.4",
         "14.6",
         "211",
         "4800",
         "1"
        ],
        [
         "Biscoe",
         "46.7",
         "15.3",
         "219",
         "5200",
         "1"
        ],
        [
         "Biscoe",
         "43.3",
         "13.4",
         "209",
         "4400",
         "1"
        ],
        [
         "Biscoe",
         "46.8",
         "15.4",
         "215",
         "5150",
         "1"
        ],
        [
         "Biscoe",
         "40.9",
         "13.7",
         "214",
         "4650",
         "1"
        ],
        [
         "Biscoe",
         "49",
         "16.1",
         "216",
         "5550",
         "1"
        ],
        [
         "Biscoe",
         "45.5",
         "13.7",
         "214",
         "4650",
         "1"
        ],
        [
         "Biscoe",
         "48.4",
         "14.6",
         "213",
         "5850",
         "1"
        ],
        [
         "Biscoe",
         "45.8",
         "14.6",
         "210",
         "4200",
         "1"
        ],
        [
         "Biscoe",
         "49.3",
         "15.7",
         "217",
         "5850",
         "1"
        ],
        [
         "Biscoe",
         "42",
         "13.5",
         "210",
         "4150",
         "1"
        ],
        [
         "Biscoe",
         "49.2",
         "15.2",
         "221",
         "6300",
         "1"
        ],
        [
         "Biscoe",
         "46.2",
         "14.5",
         "209",
         "4800",
         "1"
        ],
        [
         "Biscoe",
         "48.7",
         "15.1",
         "222",
         "5350",
         "1"
        ],
        [
         "Biscoe",
         "50.2",
         "14.3",
         "218",
         "5700",
         "1"
        ],
        [
         "Biscoe",
         "45.1",
         "14.5",
         "215",
         "5000",
         "1"
        ],
        [
         "Biscoe",
         "46.5",
         "14.5",
         "213",
         "4400",
         "1"
        ],
        [
         "Biscoe",
         "46.3",
         "15.8",
         "215",
         "5050",
         "1"
        ],
        [
         "Biscoe",
         "42.9",
         "13.1",
         "215",
         "5000",
         "1"
        ],
        [
         "Biscoe",
         "46.1",
         "15.1",
         "215",
         "5100",
         "1"
        ],
        [
         "Biscoe",
         "44.5",
         "14.3",
         "216",
         "4100",
         "1"
        ],
        [
         "Biscoe",
         "47.8",
         "15",
         "215",
         "5650",
         "1"
        ],
        [
         "Biscoe",
         "48.2",
         "14.3",
         "210",
         "4600",
         "1"
        ],
        [
         "Biscoe",
         "50",
         "15.3",
         "220",
         "5550",
         "1"
        ],
        [
         "Biscoe",
         "47.3",
         "15.3",
         "222",
         "5250",
         "1"
        ],
        [
         "Biscoe",
         "42.8",
         "14.2",
         "209",
         "4700",
         "1"
        ],
        [
         "Biscoe",
         "45.1",
         "14.5",
         "207",
         "5050",
         "1"
        ],
        [
         "Biscoe",
         "59.6",
         "17",
         "230",
         "6050",
         "1"
        ],
        [
         "Biscoe",
         "49.1",
         "14.8",
         "220",
         "5150",
         "1"
        ],
        [
         "Biscoe",
         "48.4",
         "16.3",
         "220",
         "5400",
         "1"
        ],
        [
         "Biscoe",
         "42.6",
         "13.7",
         "213",
         "4950",
         "1"
        ],
        [
         "Biscoe",
         "44.4",
         "17.3",
         "219",
         "5250",
         "1"
        ],
        [
         "Biscoe",
         "44",
         "13.6",
         "208",
         "4350",
         "1"
        ],
        [
         "Biscoe",
         "48.7",
         "15.7",
         "208",
         "5350",
         "1"
        ],
        [
         "Biscoe",
         "42.7",
         "13.7",
         "208",
         "3950",
         "1"
        ],
        [
         "Biscoe",
         "49.6",
         "16",
         "225",
         "5700",
         "1"
        ],
        [
         "Biscoe",
         "45.3",
         "13.7",
         "210",
         "4300",
         "1"
        ],
        [
         "Biscoe",
         "49.6",
         "15",
         "216",
         "4750",
         "1"
        ],
        [
         "Biscoe",
         "50.5",
         "15.9",
         "222",
         "5550",
         "1"
        ],
        [
         "Biscoe",
         "43.6",
         "13.9",
         "217",
         "4900",
         "1"
        ],
        [
         "Biscoe",
         "45.5",
         "13.9",
         "210",
         "4200",
         "1"
        ],
        [
         "Biscoe",
         "50.5",
         "15.9",
         "225",
         "5400",
         "1"
        ],
        [
         "Biscoe",
         "44.9",
         "13.3",
         "213",
         "5100",
         "1"
        ],
        [
         "Biscoe",
         "45.2",
         "15.8",
         "215",
         "5300",
         "1"
        ],
        [
         "Biscoe",
         "46.6",
         "14.2",
         "210",
         "4850",
         "1"
        ],
        [
         "Biscoe",
         "48.5",
         "14.1",
         "220",
         "5300",
         "1"
        ],
        [
         "Biscoe",
         "45.1",
         "14.4",
         "210",
         "4400",
         "1"
        ],
        [
         "Biscoe",
         "50.1",
         "15",
         "225",
         "5000",
         "1"
        ],
        [
         "Biscoe",
         "46.5",
         "14.4",
         "217",
         "4900",
         "1"
        ],
        [
         "Biscoe",
         "45",
         "15.4",
         "220",
         "5050",
         "1"
        ],
        [
         "Biscoe",
         "43.8",
         "13.9",
         "208",
         "4300",
         "1"
        ],
        [
         "Biscoe",
         "45.5",
         "15",
         "220",
         "5000",
         "1"
        ],
        [
         "Biscoe",
         "43.2",
         "14.5",
         "208",
         "4450",
         "1"
        ],
        [
         "Biscoe",
         "50.4",
         "15.3",
         "224",
         "5550",
         "1"
        ],
        [
         "Biscoe",
         "45.3",
         "13.8",
         "208",
         "4200",
         "1"
        ],
        [
         "Biscoe",
         "46.2",
         "14.9",
         "221",
         "5300",
         "1"
        ],
        [
         "Biscoe",
         "45.7",
         "13.9",
         "214",
         "4400",
         "1"
        ],
        [
         "Biscoe",
         "54.3",
         "15.7",
         "231",
         "5650",
         "1"
        ],
        [
         "Biscoe",
         "45.8",
         "14.2",
         "219",
         "4700",
         "1"
        ],
        [
         "Biscoe",
         "49.8",
         "16.8",
         "230",
         "5700",
         "1"
        ],
        [
         "Biscoe",
         "46.2",
         "14.4",
         "214",
         "4650",
         "1"
        ],
        [
         "Biscoe",
         "49.5",
         "16.2",
         "229",
         "5800",
         "1"
        ],
        [
         "Biscoe",
         "43.5",
         "14.2",
         "220",
         "4700",
         "1"
        ],
        [
         "Biscoe",
         "50.7",
         "15",
         "223",
         "5550",
         "1"
        ],
        [
         "Biscoe",
         "47.7",
         "15",
         "216",
         "4750",
         "1"
        ],
        [
         "Biscoe",
         "46.4",
         "15.6",
         "221",
         "5000",
         "1"
        ],
        [
         "Biscoe",
         "48.2",
         "15.6",
         "221",
         "5100",
         "1"
        ],
        [
         "Biscoe",
         "46.5",
         "14.8",
         "217",
         "5200",
         "1"
        ],
        [
         "Biscoe",
         "46.4",
         "15",
         "216",
         "4700",
         "1"
        ],
        [
         "Biscoe",
         "48.6",
         "16",
         "230",
         "5800",
         "1"
        ],
        [
         "Biscoe",
         "47.5",
         "14.2",
         "209",
         "4600",
         "1"
        ],
        [
         "Biscoe",
         "51.1",
         "16.3",
         "220",
         "6000",
         "1"
        ],
        [
         "Biscoe",
         "45.2",
         "13.8",
         "215",
         "4750",
         "1"
        ],
        [
         "Biscoe",
         "45.2",
         "16.4",
         "223",
         "5950",
         "1"
        ],
        [
         "Biscoe",
         "49.1",
         "14.5",
         "212",
         "4625",
         "1"
        ],
        [
         "Biscoe",
         "52.5",
         "15.6",
         "221",
         "5450",
         "1"
        ],
        [
         "Biscoe",
         "47.4",
         "14.6",
         "212",
         "4725",
         "1"
        ],
        [
         "Biscoe",
         "50",
         "15.9",
         "224",
         "5350",
         "1"
        ],
        [
         "Biscoe",
         "44.9",
         "13.8",
         "212",
         "4750",
         "1"
        ],
        [
         "Biscoe",
         "50.8",
         "17.3",
         "228",
         "5600",
         "1"
        ],
        [
         "Biscoe",
         "43.4",
         "14.4",
         "218",
         "4600",
         "1"
        ],
        [
         "Biscoe",
         "51.3",
         "14.2",
         "218",
         "5300",
         "1"
        ],
        [
         "Biscoe",
         "47.5",
         "14",
         "212",
         "4875",
         "1"
        ],
        [
         "Biscoe",
         "52.1",
         "17",
         "230",
         "5550",
         "1"
        ],
        [
         "Biscoe",
         "47.5",
         "15",
         "218",
         "4950",
         "1"
        ],
        [
         "Biscoe",
         "52.2",
         "17.1",
         "228",
         "5400",
         "1"
        ],
        [
         "Biscoe",
         "45.5",
         "14.5",
         "212",
         "4750",
         "1"
        ],
        [
         "Biscoe",
         "49.5",
         "16.1",
         "224",
         "5650",
         "1"
        ],
        [
         "Biscoe",
         "44.5",
         "14.7",
         "214",
         "4850",
         "1"
        ],
        [
         "Biscoe",
         "50.8",
         "15.7",
         "226",
         "5200",
         "1"
        ],
        [
         "Biscoe",
         "49.4",
         "15.8",
         "216",
         "4925",
         "1"
        ],
        [
         "Biscoe",
         "46.9",
         "14.6",
         "222",
         "4875",
         "1"
        ],
        [
         "Biscoe",
         "48.4",
         "14.4",
         "203",
         "4625",
         "1"
        ],
        [
         "Biscoe",
         "51.1",
         "16.5",
         "225",
         "5250",
         "1"
        ],
        [
         "Biscoe",
         "48.5",
         "15",
         "219",
         "4850",
         "1"
        ],
        [
         "Biscoe",
         "55.9",
         "17",
         "228",
         "5600",
         "1"
        ],
        [
         "Biscoe",
         "47.2",
         "15.5",
         "215",
         "4975",
         "1"
        ],
        [
         "Biscoe",
         "49.1",
         "15",
         "228",
         "5500",
         "1"
        ],
        [
         "Biscoe",
         "47.3",
         "13.8",
         "216",
         "4725",
         "1"
        ],
        [
         "Biscoe",
         "46.8",
         "16.1",
         "215",
         "5500",
         "1"
        ],
        [
         "Biscoe",
         "41.7",
         "14.7",
         "210",
         "4700",
         "1"
        ],
        [
         "Biscoe",
         "53.4",
         "15.8",
         "219",
         "5500",
         "1"
        ],
        [
         "Biscoe",
         "43.3",
         "14",
         "208",
         "4575",
         "1"
        ],
        [
         "Biscoe",
         "48.1",
         "15.1",
         "209",
         "5500",
         "1"
        ],
        [
         "Biscoe",
         "50.5",
         "15.2",
         "216",
         "5000",
         "1"
        ],
        [
         "Biscoe",
         "49.8",
         "15.9",
         "229",
         "5950",
         "1"
        ],
        [
         "Biscoe",
         "43.5",
         "15.2",
         "213",
         "4650",
         "1"
        ],
        [
         "Biscoe",
         "51.5",
         "16.3",
         "230",
         "5500",
         "1"
        ],
        [
         "Biscoe",
         "46.2",
         "14.1",
         "217",
         "4375",
         "1"
        ],
        [
         "Biscoe",
         "55.1",
         "16",
         "230",
         "5850",
         "1"
        ],
        [
         "Biscoe",
         "44.5",
         "15.7",
         "217",
         "4875",
         "1"
        ],
        [
         "Biscoe",
         "48.8",
         "16.2",
         "222",
         "6000",
         "1"
        ],
        [
         "Biscoe",
         "47.2",
         "13.7",
         "214",
         "4925",
         "1"
        ],
        [
         "Biscoe",
         null,
         null,
         null,
         null,
         "1"
        ],
        [
         "Biscoe",
         "46.8",
         "14.3",
         "215",
         "4850",
         "1"
        ],
        [
         "Biscoe",
         "50.4",
         "15.7",
         "222",
         "5750",
         "1"
        ],
        [
         "Biscoe",
         "45.2",
         "14.8",
         "212",
         "5200",
         "1"
        ],
        [
         "Biscoe",
         "49.9",
         "16.1",
         "213",
         "5400",
         "1"
        ],
        [
         "Dream",
         "46.5",
         "17.9",
         "192",
         "3500",
         "2"
        ],
        [
         "Dream",
         "50",
         "19.5",
         "196",
         "3900",
         "2"
        ],
        [
         "Dream",
         "51.3",
         "19.2",
         "193",
         "3650",
         "2"
        ],
        [
         "Dream",
         "45.4",
         "18.7",
         "188",
         "3525",
         "2"
        ],
        [
         "Dream",
         "52.7",
         "19.8",
         "197",
         "3725",
         "2"
        ],
        [
         "Dream",
         "45.2",
         "17.8",
         "198",
         "3950",
         "2"
        ],
        [
         "Dream",
         "46.1",
         "18.2",
         "178",
         "3250",
         "2"
        ],
        [
         "Dream",
         "51.3",
         "18.2",
         "197",
         "3750",
         "2"
        ],
        [
         "Dream",
         "46",
         "18.9",
         "195",
         "4150",
         "2"
        ],
        [
         "Dream",
         "51.3",
         "19.9",
         "198",
         "3700",
         "2"
        ],
        [
         "Dream",
         "46.6",
         "17.8",
         "193",
         "3800",
         "2"
        ],
        [
         "Dream",
         "51.7",
         "20.3",
         "194",
         "3775",
         "2"
        ],
        [
         "Dream",
         "47",
         "17.3",
         "185",
         "3700",
         "2"
        ],
        [
         "Dream",
         "52",
         "18.1",
         "201",
         "4050",
         "2"
        ],
        [
         "Dream",
         "45.9",
         "17.1",
         "190",
         "3575",
         "2"
        ],
        [
         "Dream",
         "50.5",
         "19.6",
         "201",
         "4050",
         "2"
        ],
        [
         "Dream",
         "50.3",
         "20",
         "197",
         "3300",
         "2"
        ],
        [
         "Dream",
         "58",
         "17.8",
         "181",
         "3700",
         "2"
        ],
        [
         "Dream",
         "46.4",
         "18.6",
         "190",
         "3450",
         "2"
        ],
        [
         "Dream",
         "49.2",
         "18.2",
         "195",
         "4400",
         "2"
        ],
        [
         "Dream",
         "42.4",
         "17.3",
         "181",
         "3600",
         "2"
        ],
        [
         "Dream",
         "48.5",
         "17.5",
         "191",
         "3400",
         "2"
        ],
        [
         "Dream",
         "43.2",
         "16.6",
         "187",
         "2900",
         "2"
        ],
        [
         "Dream",
         "50.6",
         "19.4",
         "193",
         "3800",
         "2"
        ],
        [
         "Dream",
         "46.7",
         "17.9",
         "195",
         "3300",
         "2"
        ],
        [
         "Dream",
         "52",
         "19",
         "197",
         "4150",
         "2"
        ],
        [
         "Dream",
         "50.5",
         "18.4",
         "200",
         "3400",
         "2"
        ],
        [
         "Dream",
         "49.5",
         "19",
         "200",
         "3800",
         "2"
        ],
        [
         "Dream",
         "46.4",
         "17.8",
         "191",
         "3700",
         "2"
        ],
        [
         "Dream",
         "52.8",
         "20",
         "205",
         "4550",
         "2"
        ],
        [
         "Dream",
         "40.9",
         "16.6",
         "187",
         "3200",
         "2"
        ],
        [
         "Dream",
         "54.2",
         "20.8",
         "201",
         "4300",
         "2"
        ],
        [
         "Dream",
         "42.5",
         "16.7",
         "187",
         "3350",
         "2"
        ],
        [
         "Dream",
         "51",
         "18.8",
         "203",
         "4100",
         "2"
        ],
        [
         "Dream",
         "49.7",
         "18.6",
         "195",
         "3600",
         "2"
        ],
        [
         "Dream",
         "47.5",
         "16.8",
         "199",
         "3900",
         "2"
        ],
        [
         "Dream",
         "47.6",
         "18.3",
         "195",
         "3850",
         "2"
        ],
        [
         "Dream",
         "52",
         "20.7",
         "210",
         "4800",
         "2"
        ],
        [
         "Dream",
         "46.9",
         "16.6",
         "192",
         "2700",
         "2"
        ],
        [
         "Dream",
         "53.5",
         "19.9",
         "205",
         "4500",
         "2"
        ],
        [
         "Dream",
         "49",
         "19.5",
         "210",
         "3950",
         "2"
        ],
        [
         "Dream",
         "46.2",
         "17.5",
         "187",
         "3650",
         "2"
        ],
        [
         "Dream",
         "50.9",
         "19.1",
         "196",
         "3550",
         "2"
        ],
        [
         "Dream",
         "45.5",
         "17",
         "196",
         "3500",
         "2"
        ],
        [
         "Dream",
         "50.9",
         "17.9",
         "196",
         "3675",
         "2"
        ],
        [
         "Dream",
         "50.8",
         "18.5",
         "201",
         "4450",
         "2"
        ],
        [
         "Dream",
         "50.1",
         "17.9",
         "190",
         "3400",
         "2"
        ],
        [
         "Dream",
         "49",
         "19.6",
         "212",
         "4300",
         "2"
        ],
        [
         "Dream",
         "51.5",
         "18.7",
         "187",
         "3250",
         "2"
        ],
        [
         "Dream",
         "49.8",
         "17.3",
         "198",
         "3675",
         "2"
        ],
        [
         "Dream",
         "48.1",
         "16.4",
         "199",
         "3325",
         "2"
        ],
        [
         "Dream",
         "51.4",
         "19",
         "201",
         "3950",
         "2"
        ],
        [
         "Dream",
         "45.7",
         "17.3",
         "193",
         "3600",
         "2"
        ],
        [
         "Dream",
         "50.7",
         "19.7",
         "203",
         "4050",
         "2"
        ],
        [
         "Dream",
         "42.5",
         "17.3",
         "187",
         "3350",
         "2"
        ],
        [
         "Dream",
         "52.2",
         "18.8",
         "197",
         "3450",
         "2"
        ],
        [
         "Dream",
         "45.2",
         "16.6",
         "191",
         "3250",
         "2"
        ],
        [
         "Dream",
         "49.3",
         "19.9",
         "203",
         "4050",
         "2"
        ],
        [
         "Dream",
         "50.2",
         "18.8",
         "202",
         "3800",
         "2"
        ],
        [
         "Dream",
         "45.6",
         "19.4",
         "194",
         "3525",
         "2"
        ],
        [
         "Dream",
         "51.9",
         "19.5",
         "206",
         "3950",
         "2"
        ],
        [
         "Dream",
         "46.8",
         "16.5",
         "189",
         "3650",
         "2"
        ],
        [
         "Dream",
         "45.7",
         "17",
         "195",
         "3650",
         "2"
        ],
        [
         "Dream",
         "55.8",
         "19.8",
         "207",
         "4000",
         "2"
        ],
        [
         "Dream",
         "43.5",
         "18.1",
         "202",
         "3400",
         "2"
        ],
        [
         "Dream",
         "49.6",
         "18.2",
         "193",
         "3775",
         "2"
        ],
        [
         "Dream",
         "50.8",
         "19",
         "210",
         "4100",
         "2"
        ],
        [
         "Dream",
         "50.2",
         "18.7",
         "198",
         "3775",
         "2"
        ]
       ],
       "datasetInfos": [],
       "dbfsResultPath": null,
       "isJsonSchema": true,
       "metadata": {},
       "overflow": false,
       "plotOptions": {
        "customPlotOptions": {},
        "displayType": "table",
        "pivotAggregation": null,
        "pivotColumns": null,
        "xColumns": null,
        "yColumns": null
       },
       "removedWidgets": [],
       "schema": [
        {
         "metadata": "{}",
         "name": "Island",
         "type": "\"string\""
        },
        {
         "metadata": "{}",
         "name": "CulmenLength",
         "type": "\"string\""
        },
        {
         "metadata": "{}",
         "name": "CulmenDepth",
         "type": "\"string\""
        },
        {
         "metadata": "{}",
         "name": "FlipperLength",
         "type": "\"string\""
        },
        {
         "metadata": "{}",
         "name": "BodyMass",
         "type": "\"string\""
        },
        {
         "metadata": "{}",
         "name": "Species",
         "type": "\"string\""
        }
       ],
       "type": "table"
      }
     },
     "output_type": "display_data"
    }
   ],
   "source": [
    "df = spark.read.format(\"csv\").option(\"header\", \"true\").load(\"/ml_lab/penguins.csv\")\n",
    "display(df)"
   ]
  },
  {
   "cell_type": "code",
   "execution_count": 0,
   "metadata": {
    "application/vnd.databricks.v1+cell": {
     "cellMetadata": {
      "byteLimit": 2048000,
      "rowLimit": 10000
     },
     "inputWidgets": {},
     "nuid": "6d981f06-c44d-4047-afd8-410c016d2596",
     "showTitle": false,
     "title": ""
    }
   },
   "outputs": [
    {
     "output_type": "display_data",
     "data": {
      "text/html": [
       "<style scoped>\n",
       "  .table-result-container {\n",
       "    max-height: 300px;\n",
       "    overflow: auto;\n",
       "  }\n",
       "  table, th, td {\n",
       "    border: 1px solid black;\n",
       "    border-collapse: collapse;\n",
       "  }\n",
       "  th, td {\n",
       "    padding: 5px;\n",
       "  }\n",
       "  th {\n",
       "    text-align: left;\n",
       "  }\n",
       "</style><div class='table-result-container'><table class='table-result'><thead style='background-color: white'><tr><th>Island</th><th>CulmenLength</th><th>CulmenDepth</th><th>FlipperLength</th><th>BodyMass</th><th>Species</th></tr></thead><tbody><tr><td>Torgersen</td><td>39.1</td><td>18.7</td><td>181.0</td><td>3750.0</td><td>0</td></tr><tr><td>Torgersen</td><td>39.5</td><td>17.4</td><td>186.0</td><td>3800.0</td><td>0</td></tr><tr><td>Torgersen</td><td>40.3</td><td>18.0</td><td>195.0</td><td>3250.0</td><td>0</td></tr><tr><td>Torgersen</td><td>36.7</td><td>19.3</td><td>193.0</td><td>3450.0</td><td>0</td></tr><tr><td>Torgersen</td><td>39.3</td><td>20.6</td><td>190.0</td><td>3650.0</td><td>0</td></tr><tr><td>Torgersen</td><td>38.9</td><td>17.8</td><td>181.0</td><td>3625.0</td><td>0</td></tr><tr><td>Torgersen</td><td>39.2</td><td>19.6</td><td>195.0</td><td>4675.0</td><td>0</td></tr><tr><td>Torgersen</td><td>34.1</td><td>18.1</td><td>193.0</td><td>3475.0</td><td>0</td></tr><tr><td>Torgersen</td><td>42.0</td><td>20.2</td><td>190.0</td><td>4250.0</td><td>0</td></tr><tr><td>Torgersen</td><td>37.8</td><td>17.1</td><td>186.0</td><td>3300.0</td><td>0</td></tr><tr><td>Torgersen</td><td>37.8</td><td>17.3</td><td>180.0</td><td>3700.0</td><td>0</td></tr><tr><td>Torgersen</td><td>41.1</td><td>17.6</td><td>182.0</td><td>3200.0</td><td>0</td></tr><tr><td>Torgersen</td><td>38.6</td><td>21.2</td><td>191.0</td><td>3800.0</td><td>0</td></tr><tr><td>Torgersen</td><td>34.6</td><td>21.1</td><td>198.0</td><td>4400.0</td><td>0</td></tr><tr><td>Torgersen</td><td>36.6</td><td>17.8</td><td>185.0</td><td>3700.0</td><td>0</td></tr><tr><td>Torgersen</td><td>38.7</td><td>19.0</td><td>195.0</td><td>3450.0</td><td>0</td></tr><tr><td>Torgersen</td><td>42.5</td><td>20.7</td><td>197.0</td><td>4500.0</td><td>0</td></tr><tr><td>Torgersen</td><td>34.4</td><td>18.4</td><td>184.0</td><td>3325.0</td><td>0</td></tr><tr><td>Torgersen</td><td>46.0</td><td>21.5</td><td>194.0</td><td>4200.0</td><td>0</td></tr><tr><td>Biscoe</td><td>37.8</td><td>18.3</td><td>174.0</td><td>3400.0</td><td>0</td></tr><tr><td>Biscoe</td><td>37.7</td><td>18.7</td><td>180.0</td><td>3600.0</td><td>0</td></tr><tr><td>Biscoe</td><td>35.9</td><td>19.2</td><td>189.0</td><td>3800.0</td><td>0</td></tr><tr><td>Biscoe</td><td>38.2</td><td>18.1</td><td>185.0</td><td>3950.0</td><td>0</td></tr><tr><td>Biscoe</td><td>38.8</td><td>17.2</td><td>180.0</td><td>3800.0</td><td>0</td></tr><tr><td>Biscoe</td><td>35.3</td><td>18.9</td><td>187.0</td><td>3800.0</td><td>0</td></tr><tr><td>Biscoe</td><td>40.6</td><td>18.6</td><td>183.0</td><td>3550.0</td><td>0</td></tr><tr><td>Biscoe</td><td>40.5</td><td>17.9</td><td>187.0</td><td>3200.0</td><td>0</td></tr><tr><td>Biscoe</td><td>37.9</td><td>18.6</td><td>172.0</td><td>3150.0</td><td>0</td></tr><tr><td>Biscoe</td><td>40.5</td><td>18.9</td><td>180.0</td><td>3950.0</td><td>0</td></tr><tr><td>Dream</td><td>39.5</td><td>16.7</td><td>178.0</td><td>3250.0</td><td>0</td></tr><tr><td>Dream</td><td>37.2</td><td>18.1</td><td>178.0</td><td>3900.0</td><td>0</td></tr><tr><td>Dream</td><td>39.5</td><td>17.8</td><td>188.0</td><td>3300.0</td><td>0</td></tr><tr><td>Dream</td><td>40.9</td><td>18.9</td><td>184.0</td><td>3900.0</td><td>0</td></tr><tr><td>Dream</td><td>36.4</td><td>17.0</td><td>195.0</td><td>3325.0</td><td>0</td></tr><tr><td>Dream</td><td>39.2</td><td>21.1</td><td>196.0</td><td>4150.0</td><td>0</td></tr><tr><td>Dream</td><td>38.8</td><td>20.0</td><td>190.0</td><td>3950.0</td><td>0</td></tr><tr><td>Dream</td><td>42.2</td><td>18.5</td><td>180.0</td><td>3550.0</td><td>0</td></tr><tr><td>Dream</td><td>37.6</td><td>19.3</td><td>181.0</td><td>3300.0</td><td>0</td></tr><tr><td>Dream</td><td>39.8</td><td>19.1</td><td>184.0</td><td>4650.0</td><td>0</td></tr><tr><td>Dream</td><td>36.5</td><td>18.0</td><td>182.0</td><td>3150.0</td><td>0</td></tr><tr><td>Dream</td><td>40.8</td><td>18.4</td><td>195.0</td><td>3900.0</td><td>0</td></tr><tr><td>Dream</td><td>36.0</td><td>18.5</td><td>186.0</td><td>3100.0</td><td>0</td></tr><tr><td>Dream</td><td>44.1</td><td>19.7</td><td>196.0</td><td>4400.0</td><td>0</td></tr><tr><td>Dream</td><td>37.0</td><td>16.9</td><td>185.0</td><td>3000.0</td><td>0</td></tr><tr><td>Dream</td><td>39.6</td><td>18.8</td><td>190.0</td><td>4600.0</td><td>0</td></tr><tr><td>Dream</td><td>41.1</td><td>19.0</td><td>182.0</td><td>3425.0</td><td>0</td></tr><tr><td>Dream</td><td>37.5</td><td>18.9</td><td>179.0</td><td>2975.0</td><td>0</td></tr><tr><td>Dream</td><td>36.0</td><td>17.9</td><td>190.0</td><td>3450.0</td><td>0</td></tr><tr><td>Dream</td><td>42.3</td><td>21.2</td><td>191.0</td><td>4150.0</td><td>0</td></tr><tr><td>Biscoe</td><td>39.6</td><td>17.7</td><td>186.0</td><td>3500.0</td><td>0</td></tr><tr><td>Biscoe</td><td>40.1</td><td>18.9</td><td>188.0</td><td>4300.0</td><td>0</td></tr><tr><td>Biscoe</td><td>35.0</td><td>17.9</td><td>190.0</td><td>3450.0</td><td>0</td></tr><tr><td>Biscoe</td><td>42.0</td><td>19.5</td><td>200.0</td><td>4050.0</td><td>0</td></tr><tr><td>Biscoe</td><td>34.5</td><td>18.1</td><td>187.0</td><td>2900.0</td><td>0</td></tr><tr><td>Biscoe</td><td>41.4</td><td>18.6</td><td>191.0</td><td>3700.0</td><td>0</td></tr><tr><td>Biscoe</td><td>39.0</td><td>17.5</td><td>186.0</td><td>3550.0</td><td>0</td></tr><tr><td>Biscoe</td><td>40.6</td><td>18.8</td><td>193.0</td><td>3800.0</td><td>0</td></tr><tr><td>Biscoe</td><td>36.5</td><td>16.6</td><td>181.0</td><td>2850.0</td><td>0</td></tr><tr><td>Biscoe</td><td>37.6</td><td>19.1</td><td>194.0</td><td>3750.0</td><td>0</td></tr><tr><td>Biscoe</td><td>35.7</td><td>16.9</td><td>185.0</td><td>3150.0</td><td>0</td></tr><tr><td>Biscoe</td><td>41.3</td><td>21.1</td><td>195.0</td><td>4400.0</td><td>0</td></tr><tr><td>Biscoe</td><td>37.6</td><td>17.0</td><td>185.0</td><td>3600.0</td><td>0</td></tr><tr><td>Biscoe</td><td>41.1</td><td>18.2</td><td>192.0</td><td>4050.0</td><td>0</td></tr><tr><td>Biscoe</td><td>36.4</td><td>17.1</td><td>184.0</td><td>2850.0</td><td>0</td></tr><tr><td>Biscoe</td><td>41.6</td><td>18.0</td><td>192.0</td><td>3950.0</td><td>0</td></tr><tr><td>Biscoe</td><td>35.5</td><td>16.2</td><td>195.0</td><td>3350.0</td><td>0</td></tr><tr><td>Biscoe</td><td>41.1</td><td>19.1</td><td>188.0</td><td>4100.0</td><td>0</td></tr><tr><td>Torgersen</td><td>35.9</td><td>16.6</td><td>190.0</td><td>3050.0</td><td>0</td></tr><tr><td>Torgersen</td><td>41.8</td><td>19.4</td><td>198.0</td><td>4450.0</td><td>0</td></tr><tr><td>Torgersen</td><td>33.5</td><td>19.0</td><td>190.0</td><td>3600.0</td><td>0</td></tr><tr><td>Torgersen</td><td>39.7</td><td>18.4</td><td>190.0</td><td>3900.0</td><td>0</td></tr><tr><td>Torgersen</td><td>39.6</td><td>17.2</td><td>196.0</td><td>3550.0</td><td>0</td></tr><tr><td>Torgersen</td><td>45.8</td><td>18.9</td><td>197.0</td><td>4150.0</td><td>0</td></tr><tr><td>Torgersen</td><td>35.5</td><td>17.5</td><td>190.0</td><td>3700.0</td><td>0</td></tr><tr><td>Torgersen</td><td>42.8</td><td>18.5</td><td>195.0</td><td>4250.0</td><td>0</td></tr><tr><td>Torgersen</td><td>40.9</td><td>16.8</td><td>191.0</td><td>3700.0</td><td>0</td></tr><tr><td>Torgersen</td><td>37.2</td><td>19.4</td><td>184.0</td><td>3900.0</td><td>0</td></tr><tr><td>Torgersen</td><td>36.2</td><td>16.1</td><td>187.0</td><td>3550.0</td><td>0</td></tr><tr><td>Torgersen</td><td>42.1</td><td>19.1</td><td>195.0</td><td>4000.0</td><td>0</td></tr><tr><td>Torgersen</td><td>34.6</td><td>17.2</td><td>189.0</td><td>3200.0</td><td>0</td></tr><tr><td>Torgersen</td><td>42.9</td><td>17.6</td><td>196.0</td><td>4700.0</td><td>0</td></tr><tr><td>Torgersen</td><td>36.7</td><td>18.8</td><td>187.0</td><td>3800.0</td><td>0</td></tr><tr><td>Torgersen</td><td>35.1</td><td>19.4</td><td>193.0</td><td>4200.0</td><td>0</td></tr><tr><td>Dream</td><td>37.3</td><td>17.8</td><td>191.0</td><td>3350.0</td><td>0</td></tr><tr><td>Dream</td><td>41.3</td><td>20.3</td><td>194.0</td><td>3550.0</td><td>0</td></tr><tr><td>Dream</td><td>36.3</td><td>19.5</td><td>190.0</td><td>3800.0</td><td>0</td></tr><tr><td>Dream</td><td>36.9</td><td>18.6</td><td>189.0</td><td>3500.0</td><td>0</td></tr><tr><td>Dream</td><td>38.3</td><td>19.2</td><td>189.0</td><td>3950.0</td><td>0</td></tr><tr><td>Dream</td><td>38.9</td><td>18.8</td><td>190.0</td><td>3600.0</td><td>0</td></tr><tr><td>Dream</td><td>35.7</td><td>18.0</td><td>202.0</td><td>3550.0</td><td>0</td></tr><tr><td>Dream</td><td>41.1</td><td>18.1</td><td>205.0</td><td>4300.0</td><td>0</td></tr><tr><td>Dream</td><td>34.0</td><td>17.1</td><td>185.0</td><td>3400.0</td><td>0</td></tr><tr><td>Dream</td><td>39.6</td><td>18.1</td><td>186.0</td><td>4450.0</td><td>0</td></tr><tr><td>Dream</td><td>36.2</td><td>17.3</td><td>187.0</td><td>3300.0</td><td>0</td></tr><tr><td>Dream</td><td>40.8</td><td>18.9</td><td>208.0</td><td>4300.0</td><td>0</td></tr><tr><td>Dream</td><td>38.1</td><td>18.6</td><td>190.0</td><td>3700.0</td><td>0</td></tr><tr><td>Dream</td><td>40.3</td><td>18.5</td><td>196.0</td><td>4350.0</td><td>0</td></tr><tr><td>Dream</td><td>33.1</td><td>16.1</td><td>178.0</td><td>2900.0</td><td>0</td></tr><tr><td>Dream</td><td>43.2</td><td>18.5</td><td>192.0</td><td>4100.0</td><td>0</td></tr><tr><td>Biscoe</td><td>35.0</td><td>17.9</td><td>192.0</td><td>3725.0</td><td>0</td></tr><tr><td>Biscoe</td><td>41.0</td><td>20.0</td><td>203.0</td><td>4725.0</td><td>0</td></tr><tr><td>Biscoe</td><td>37.7</td><td>16.0</td><td>183.0</td><td>3075.0</td><td>0</td></tr><tr><td>Biscoe</td><td>37.8</td><td>20.0</td><td>190.0</td><td>4250.0</td><td>0</td></tr><tr><td>Biscoe</td><td>37.9</td><td>18.6</td><td>193.0</td><td>2925.0</td><td>0</td></tr><tr><td>Biscoe</td><td>39.7</td><td>18.9</td><td>184.0</td><td>3550.0</td><td>0</td></tr><tr><td>Biscoe</td><td>38.6</td><td>17.2</td><td>199.0</td><td>3750.0</td><td>0</td></tr><tr><td>Biscoe</td><td>38.2</td><td>20.0</td><td>190.0</td><td>3900.0</td><td>0</td></tr><tr><td>Biscoe</td><td>38.1</td><td>17.0</td><td>181.0</td><td>3175.0</td><td>0</td></tr><tr><td>Biscoe</td><td>43.2</td><td>19.0</td><td>197.0</td><td>4775.0</td><td>0</td></tr><tr><td>Biscoe</td><td>38.1</td><td>16.5</td><td>198.0</td><td>3825.0</td><td>0</td></tr><tr><td>Biscoe</td><td>45.6</td><td>20.3</td><td>191.0</td><td>4600.0</td><td>0</td></tr><tr><td>Biscoe</td><td>39.7</td><td>17.7</td><td>193.0</td><td>3200.0</td><td>0</td></tr><tr><td>Biscoe</td><td>42.2</td><td>19.5</td><td>197.0</td><td>4275.0</td><td>0</td></tr><tr><td>Biscoe</td><td>39.6</td><td>20.7</td><td>191.0</td><td>3900.0</td><td>0</td></tr><tr><td>Biscoe</td><td>42.7</td><td>18.3</td><td>196.0</td><td>4075.0</td><td>0</td></tr><tr><td>Torgersen</td><td>38.6</td><td>17.0</td><td>188.0</td><td>2900.0</td><td>0</td></tr><tr><td>Torgersen</td><td>37.3</td><td>20.5</td><td>199.0</td><td>3775.0</td><td>0</td></tr><tr><td>Torgersen</td><td>35.7</td><td>17.0</td><td>189.0</td><td>3350.0</td><td>0</td></tr><tr><td>Torgersen</td><td>41.1</td><td>18.6</td><td>189.0</td><td>3325.0</td><td>0</td></tr><tr><td>Torgersen</td><td>36.2</td><td>17.2</td><td>187.0</td><td>3150.0</td><td>0</td></tr><tr><td>Torgersen</td><td>37.7</td><td>19.8</td><td>198.0</td><td>3500.0</td><td>0</td></tr><tr><td>Torgersen</td><td>40.2</td><td>17.0</td><td>176.0</td><td>3450.0</td><td>0</td></tr><tr><td>Torgersen</td><td>41.4</td><td>18.5</td><td>202.0</td><td>3875.0</td><td>0</td></tr><tr><td>Torgersen</td><td>35.2</td><td>15.9</td><td>186.0</td><td>3050.0</td><td>0</td></tr><tr><td>Torgersen</td><td>40.6</td><td>19.0</td><td>199.0</td><td>4000.0</td><td>0</td></tr><tr><td>Torgersen</td><td>38.8</td><td>17.6</td><td>191.0</td><td>3275.0</td><td>0</td></tr><tr><td>Torgersen</td><td>41.5</td><td>18.3</td><td>195.0</td><td>4300.0</td><td>0</td></tr><tr><td>Torgersen</td><td>39.0</td><td>17.1</td><td>191.0</td><td>3050.0</td><td>0</td></tr><tr><td>Torgersen</td><td>44.1</td><td>18.0</td><td>210.0</td><td>4000.0</td><td>0</td></tr><tr><td>Torgersen</td><td>38.5</td><td>17.9</td><td>190.0</td><td>3325.0</td><td>0</td></tr><tr><td>Torgersen</td><td>43.1</td><td>19.2</td><td>197.0</td><td>3500.0</td><td>0</td></tr><tr><td>Dream</td><td>36.8</td><td>18.5</td><td>193.0</td><td>3500.0</td><td>0</td></tr><tr><td>Dream</td><td>37.5</td><td>18.5</td><td>199.0</td><td>4475.0</td><td>0</td></tr><tr><td>Dream</td><td>38.1</td><td>17.6</td><td>187.0</td><td>3425.0</td><td>0</td></tr><tr><td>Dream</td><td>41.1</td><td>17.5</td><td>190.0</td><td>3900.0</td><td>0</td></tr><tr><td>Dream</td><td>35.6</td><td>17.5</td><td>191.0</td><td>3175.0</td><td>0</td></tr><tr><td>Dream</td><td>40.2</td><td>20.1</td><td>200.0</td><td>3975.0</td><td>0</td></tr><tr><td>Dream</td><td>37.0</td><td>16.5</td><td>185.0</td><td>3400.0</td><td>0</td></tr><tr><td>Dream</td><td>39.7</td><td>17.9</td><td>193.0</td><td>4250.0</td><td>0</td></tr><tr><td>Dream</td><td>40.2</td><td>17.1</td><td>193.0</td><td>3400.0</td><td>0</td></tr><tr><td>Dream</td><td>40.6</td><td>17.2</td><td>187.0</td><td>3475.0</td><td>0</td></tr><tr><td>Dream</td><td>32.1</td><td>15.5</td><td>188.0</td><td>3050.0</td><td>0</td></tr><tr><td>Dream</td><td>40.7</td><td>17.0</td><td>190.0</td><td>3725.0</td><td>0</td></tr><tr><td>Dream</td><td>37.3</td><td>16.8</td><td>192.0</td><td>3000.0</td><td>0</td></tr><tr><td>Dream</td><td>39.0</td><td>18.7</td><td>185.0</td><td>3650.0</td><td>0</td></tr><tr><td>Dream</td><td>39.2</td><td>18.6</td><td>190.0</td><td>4250.0</td><td>0</td></tr><tr><td>Dream</td><td>36.6</td><td>18.4</td><td>184.0</td><td>3475.0</td><td>0</td></tr><tr><td>Dream</td><td>36.0</td><td>17.8</td><td>195.0</td><td>3450.0</td><td>0</td></tr><tr><td>Dream</td><td>37.8</td><td>18.1</td><td>193.0</td><td>3750.0</td><td>0</td></tr><tr><td>Dream</td><td>36.0</td><td>17.1</td><td>187.0</td><td>3700.0</td><td>0</td></tr><tr><td>Dream</td><td>41.5</td><td>18.5</td><td>201.0</td><td>4000.0</td><td>0</td></tr><tr><td>Biscoe</td><td>46.1</td><td>13.2</td><td>211.0</td><td>4500.0</td><td>1</td></tr><tr><td>Biscoe</td><td>50.0</td><td>16.3</td><td>230.0</td><td>5700.0</td><td>1</td></tr><tr><td>Biscoe</td><td>48.7</td><td>14.1</td><td>210.0</td><td>4450.0</td><td>1</td></tr><tr><td>Biscoe</td><td>50.0</td><td>15.2</td><td>218.0</td><td>5700.0</td><td>1</td></tr><tr><td>Biscoe</td><td>47.6</td><td>14.5</td><td>215.0</td><td>5400.0</td><td>1</td></tr><tr><td>Biscoe</td><td>46.5</td><td>13.5</td><td>210.0</td><td>4550.0</td><td>1</td></tr><tr><td>Biscoe</td><td>45.4</td><td>14.6</td><td>211.0</td><td>4800.0</td><td>1</td></tr><tr><td>Biscoe</td><td>46.7</td><td>15.3</td><td>219.0</td><td>5200.0</td><td>1</td></tr><tr><td>Biscoe</td><td>43.3</td><td>13.4</td><td>209.0</td><td>4400.0</td><td>1</td></tr><tr><td>Biscoe</td><td>46.8</td><td>15.4</td><td>215.0</td><td>5150.0</td><td>1</td></tr><tr><td>Biscoe</td><td>40.9</td><td>13.7</td><td>214.0</td><td>4650.0</td><td>1</td></tr><tr><td>Biscoe</td><td>49.0</td><td>16.1</td><td>216.0</td><td>5550.0</td><td>1</td></tr><tr><td>Biscoe</td><td>45.5</td><td>13.7</td><td>214.0</td><td>4650.0</td><td>1</td></tr><tr><td>Biscoe</td><td>48.4</td><td>14.6</td><td>213.0</td><td>5850.0</td><td>1</td></tr><tr><td>Biscoe</td><td>45.8</td><td>14.6</td><td>210.0</td><td>4200.0</td><td>1</td></tr><tr><td>Biscoe</td><td>49.3</td><td>15.7</td><td>217.0</td><td>5850.0</td><td>1</td></tr><tr><td>Biscoe</td><td>42.0</td><td>13.5</td><td>210.0</td><td>4150.0</td><td>1</td></tr><tr><td>Biscoe</td><td>49.2</td><td>15.2</td><td>221.0</td><td>6300.0</td><td>1</td></tr><tr><td>Biscoe</td><td>46.2</td><td>14.5</td><td>209.0</td><td>4800.0</td><td>1</td></tr><tr><td>Biscoe</td><td>48.7</td><td>15.1</td><td>222.0</td><td>5350.0</td><td>1</td></tr><tr><td>Biscoe</td><td>50.2</td><td>14.3</td><td>218.0</td><td>5700.0</td><td>1</td></tr><tr><td>Biscoe</td><td>45.1</td><td>14.5</td><td>215.0</td><td>5000.0</td><td>1</td></tr><tr><td>Biscoe</td><td>46.5</td><td>14.5</td><td>213.0</td><td>4400.0</td><td>1</td></tr><tr><td>Biscoe</td><td>46.3</td><td>15.8</td><td>215.0</td><td>5050.0</td><td>1</td></tr><tr><td>Biscoe</td><td>42.9</td><td>13.1</td><td>215.0</td><td>5000.0</td><td>1</td></tr><tr><td>Biscoe</td><td>46.1</td><td>15.1</td><td>215.0</td><td>5100.0</td><td>1</td></tr><tr><td>Biscoe</td><td>44.5</td><td>14.3</td><td>216.0</td><td>4100.0</td><td>1</td></tr><tr><td>Biscoe</td><td>47.8</td><td>15.0</td><td>215.0</td><td>5650.0</td><td>1</td></tr><tr><td>Biscoe</td><td>48.2</td><td>14.3</td><td>210.0</td><td>4600.0</td><td>1</td></tr><tr><td>Biscoe</td><td>50.0</td><td>15.3</td><td>220.0</td><td>5550.0</td><td>1</td></tr><tr><td>Biscoe</td><td>47.3</td><td>15.3</td><td>222.0</td><td>5250.0</td><td>1</td></tr><tr><td>Biscoe</td><td>42.8</td><td>14.2</td><td>209.0</td><td>4700.0</td><td>1</td></tr><tr><td>Biscoe</td><td>45.1</td><td>14.5</td><td>207.0</td><td>5050.0</td><td>1</td></tr><tr><td>Biscoe</td><td>59.6</td><td>17.0</td><td>230.0</td><td>6050.0</td><td>1</td></tr><tr><td>Biscoe</td><td>49.1</td><td>14.8</td><td>220.0</td><td>5150.0</td><td>1</td></tr><tr><td>Biscoe</td><td>48.4</td><td>16.3</td><td>220.0</td><td>5400.0</td><td>1</td></tr><tr><td>Biscoe</td><td>42.6</td><td>13.7</td><td>213.0</td><td>4950.0</td><td>1</td></tr><tr><td>Biscoe</td><td>44.4</td><td>17.3</td><td>219.0</td><td>5250.0</td><td>1</td></tr><tr><td>Biscoe</td><td>44.0</td><td>13.6</td><td>208.0</td><td>4350.0</td><td>1</td></tr><tr><td>Biscoe</td><td>48.7</td><td>15.7</td><td>208.0</td><td>5350.0</td><td>1</td></tr><tr><td>Biscoe</td><td>42.7</td><td>13.7</td><td>208.0</td><td>3950.0</td><td>1</td></tr><tr><td>Biscoe</td><td>49.6</td><td>16.0</td><td>225.0</td><td>5700.0</td><td>1</td></tr><tr><td>Biscoe</td><td>45.3</td><td>13.7</td><td>210.0</td><td>4300.0</td><td>1</td></tr><tr><td>Biscoe</td><td>49.6</td><td>15.0</td><td>216.0</td><td>4750.0</td><td>1</td></tr><tr><td>Biscoe</td><td>50.5</td><td>15.9</td><td>222.0</td><td>5550.0</td><td>1</td></tr><tr><td>Biscoe</td><td>43.6</td><td>13.9</td><td>217.0</td><td>4900.0</td><td>1</td></tr><tr><td>Biscoe</td><td>45.5</td><td>13.9</td><td>210.0</td><td>4200.0</td><td>1</td></tr><tr><td>Biscoe</td><td>50.5</td><td>15.9</td><td>225.0</td><td>5400.0</td><td>1</td></tr><tr><td>Biscoe</td><td>44.9</td><td>13.3</td><td>213.0</td><td>5100.0</td><td>1</td></tr><tr><td>Biscoe</td><td>45.2</td><td>15.8</td><td>215.0</td><td>5300.0</td><td>1</td></tr><tr><td>Biscoe</td><td>46.6</td><td>14.2</td><td>210.0</td><td>4850.0</td><td>1</td></tr><tr><td>Biscoe</td><td>48.5</td><td>14.1</td><td>220.0</td><td>5300.0</td><td>1</td></tr><tr><td>Biscoe</td><td>45.1</td><td>14.4</td><td>210.0</td><td>4400.0</td><td>1</td></tr><tr><td>Biscoe</td><td>50.1</td><td>15.0</td><td>225.0</td><td>5000.0</td><td>1</td></tr><tr><td>Biscoe</td><td>46.5</td><td>14.4</td><td>217.0</td><td>4900.0</td><td>1</td></tr><tr><td>Biscoe</td><td>45.0</td><td>15.4</td><td>220.0</td><td>5050.0</td><td>1</td></tr><tr><td>Biscoe</td><td>43.8</td><td>13.9</td><td>208.0</td><td>4300.0</td><td>1</td></tr><tr><td>Biscoe</td><td>45.5</td><td>15.0</td><td>220.0</td><td>5000.0</td><td>1</td></tr><tr><td>Biscoe</td><td>43.2</td><td>14.5</td><td>208.0</td><td>4450.0</td><td>1</td></tr><tr><td>Biscoe</td><td>50.4</td><td>15.3</td><td>224.0</td><td>5550.0</td><td>1</td></tr><tr><td>Biscoe</td><td>45.3</td><td>13.8</td><td>208.0</td><td>4200.0</td><td>1</td></tr><tr><td>Biscoe</td><td>46.2</td><td>14.9</td><td>221.0</td><td>5300.0</td><td>1</td></tr><tr><td>Biscoe</td><td>45.7</td><td>13.9</td><td>214.0</td><td>4400.0</td><td>1</td></tr><tr><td>Biscoe</td><td>54.3</td><td>15.7</td><td>231.0</td><td>5650.0</td><td>1</td></tr><tr><td>Biscoe</td><td>45.8</td><td>14.2</td><td>219.0</td><td>4700.0</td><td>1</td></tr><tr><td>Biscoe</td><td>49.8</td><td>16.8</td><td>230.0</td><td>5700.0</td><td>1</td></tr><tr><td>Biscoe</td><td>46.2</td><td>14.4</td><td>214.0</td><td>4650.0</td><td>1</td></tr><tr><td>Biscoe</td><td>49.5</td><td>16.2</td><td>229.0</td><td>5800.0</td><td>1</td></tr><tr><td>Biscoe</td><td>43.5</td><td>14.2</td><td>220.0</td><td>4700.0</td><td>1</td></tr><tr><td>Biscoe</td><td>50.7</td><td>15.0</td><td>223.0</td><td>5550.0</td><td>1</td></tr><tr><td>Biscoe</td><td>47.7</td><td>15.0</td><td>216.0</td><td>4750.0</td><td>1</td></tr><tr><td>Biscoe</td><td>46.4</td><td>15.6</td><td>221.0</td><td>5000.0</td><td>1</td></tr><tr><td>Biscoe</td><td>48.2</td><td>15.6</td><td>221.0</td><td>5100.0</td><td>1</td></tr><tr><td>Biscoe</td><td>46.5</td><td>14.8</td><td>217.0</td><td>5200.0</td><td>1</td></tr><tr><td>Biscoe</td><td>46.4</td><td>15.0</td><td>216.0</td><td>4700.0</td><td>1</td></tr><tr><td>Biscoe</td><td>48.6</td><td>16.0</td><td>230.0</td><td>5800.0</td><td>1</td></tr><tr><td>Biscoe</td><td>47.5</td><td>14.2</td><td>209.0</td><td>4600.0</td><td>1</td></tr><tr><td>Biscoe</td><td>51.1</td><td>16.3</td><td>220.0</td><td>6000.0</td><td>1</td></tr><tr><td>Biscoe</td><td>45.2</td><td>13.8</td><td>215.0</td><td>4750.0</td><td>1</td></tr><tr><td>Biscoe</td><td>45.2</td><td>16.4</td><td>223.0</td><td>5950.0</td><td>1</td></tr><tr><td>Biscoe</td><td>49.1</td><td>14.5</td><td>212.0</td><td>4625.0</td><td>1</td></tr><tr><td>Biscoe</td><td>52.5</td><td>15.6</td><td>221.0</td><td>5450.0</td><td>1</td></tr><tr><td>Biscoe</td><td>47.4</td><td>14.6</td><td>212.0</td><td>4725.0</td><td>1</td></tr><tr><td>Biscoe</td><td>50.0</td><td>15.9</td><td>224.0</td><td>5350.0</td><td>1</td></tr><tr><td>Biscoe</td><td>44.9</td><td>13.8</td><td>212.0</td><td>4750.0</td><td>1</td></tr><tr><td>Biscoe</td><td>50.8</td><td>17.3</td><td>228.0</td><td>5600.0</td><td>1</td></tr><tr><td>Biscoe</td><td>43.4</td><td>14.4</td><td>218.0</td><td>4600.0</td><td>1</td></tr><tr><td>Biscoe</td><td>51.3</td><td>14.2</td><td>218.0</td><td>5300.0</td><td>1</td></tr><tr><td>Biscoe</td><td>47.5</td><td>14.0</td><td>212.0</td><td>4875.0</td><td>1</td></tr><tr><td>Biscoe</td><td>52.1</td><td>17.0</td><td>230.0</td><td>5550.0</td><td>1</td></tr><tr><td>Biscoe</td><td>47.5</td><td>15.0</td><td>218.0</td><td>4950.0</td><td>1</td></tr><tr><td>Biscoe</td><td>52.2</td><td>17.1</td><td>228.0</td><td>5400.0</td><td>1</td></tr><tr><td>Biscoe</td><td>45.5</td><td>14.5</td><td>212.0</td><td>4750.0</td><td>1</td></tr><tr><td>Biscoe</td><td>49.5</td><td>16.1</td><td>224.0</td><td>5650.0</td><td>1</td></tr><tr><td>Biscoe</td><td>44.5</td><td>14.7</td><td>214.0</td><td>4850.0</td><td>1</td></tr><tr><td>Biscoe</td><td>50.8</td><td>15.7</td><td>226.0</td><td>5200.0</td><td>1</td></tr><tr><td>Biscoe</td><td>49.4</td><td>15.8</td><td>216.0</td><td>4925.0</td><td>1</td></tr><tr><td>Biscoe</td><td>46.9</td><td>14.6</td><td>222.0</td><td>4875.0</td><td>1</td></tr><tr><td>Biscoe</td><td>48.4</td><td>14.4</td><td>203.0</td><td>4625.0</td><td>1</td></tr><tr><td>Biscoe</td><td>51.1</td><td>16.5</td><td>225.0</td><td>5250.0</td><td>1</td></tr><tr><td>Biscoe</td><td>48.5</td><td>15.0</td><td>219.0</td><td>4850.0</td><td>1</td></tr><tr><td>Biscoe</td><td>55.9</td><td>17.0</td><td>228.0</td><td>5600.0</td><td>1</td></tr><tr><td>Biscoe</td><td>47.2</td><td>15.5</td><td>215.0</td><td>4975.0</td><td>1</td></tr><tr><td>Biscoe</td><td>49.1</td><td>15.0</td><td>228.0</td><td>5500.0</td><td>1</td></tr><tr><td>Biscoe</td><td>47.3</td><td>13.8</td><td>216.0</td><td>4725.0</td><td>1</td></tr><tr><td>Biscoe</td><td>46.8</td><td>16.1</td><td>215.0</td><td>5500.0</td><td>1</td></tr><tr><td>Biscoe</td><td>41.7</td><td>14.7</td><td>210.0</td><td>4700.0</td><td>1</td></tr><tr><td>Biscoe</td><td>53.4</td><td>15.8</td><td>219.0</td><td>5500.0</td><td>1</td></tr><tr><td>Biscoe</td><td>43.3</td><td>14.0</td><td>208.0</td><td>4575.0</td><td>1</td></tr><tr><td>Biscoe</td><td>48.1</td><td>15.1</td><td>209.0</td><td>5500.0</td><td>1</td></tr><tr><td>Biscoe</td><td>50.5</td><td>15.2</td><td>216.0</td><td>5000.0</td><td>1</td></tr><tr><td>Biscoe</td><td>49.8</td><td>15.9</td><td>229.0</td><td>5950.0</td><td>1</td></tr><tr><td>Biscoe</td><td>43.5</td><td>15.2</td><td>213.0</td><td>4650.0</td><td>1</td></tr><tr><td>Biscoe</td><td>51.5</td><td>16.3</td><td>230.0</td><td>5500.0</td><td>1</td></tr><tr><td>Biscoe</td><td>46.2</td><td>14.1</td><td>217.0</td><td>4375.0</td><td>1</td></tr><tr><td>Biscoe</td><td>55.1</td><td>16.0</td><td>230.0</td><td>5850.0</td><td>1</td></tr><tr><td>Biscoe</td><td>44.5</td><td>15.7</td><td>217.0</td><td>4875.0</td><td>1</td></tr><tr><td>Biscoe</td><td>48.8</td><td>16.2</td><td>222.0</td><td>6000.0</td><td>1</td></tr><tr><td>Biscoe</td><td>47.2</td><td>13.7</td><td>214.0</td><td>4925.0</td><td>1</td></tr><tr><td>Biscoe</td><td>46.8</td><td>14.3</td><td>215.0</td><td>4850.0</td><td>1</td></tr><tr><td>Biscoe</td><td>50.4</td><td>15.7</td><td>222.0</td><td>5750.0</td><td>1</td></tr><tr><td>Biscoe</td><td>45.2</td><td>14.8</td><td>212.0</td><td>5200.0</td><td>1</td></tr><tr><td>Biscoe</td><td>49.9</td><td>16.1</td><td>213.0</td><td>5400.0</td><td>1</td></tr><tr><td>Dream</td><td>46.5</td><td>17.9</td><td>192.0</td><td>3500.0</td><td>2</td></tr><tr><td>Dream</td><td>50.0</td><td>19.5</td><td>196.0</td><td>3900.0</td><td>2</td></tr><tr><td>Dream</td><td>51.3</td><td>19.2</td><td>193.0</td><td>3650.0</td><td>2</td></tr><tr><td>Dream</td><td>45.4</td><td>18.7</td><td>188.0</td><td>3525.0</td><td>2</td></tr><tr><td>Dream</td><td>52.7</td><td>19.8</td><td>197.0</td><td>3725.0</td><td>2</td></tr><tr><td>Dream</td><td>45.2</td><td>17.8</td><td>198.0</td><td>3950.0</td><td>2</td></tr><tr><td>Dream</td><td>46.1</td><td>18.2</td><td>178.0</td><td>3250.0</td><td>2</td></tr><tr><td>Dream</td><td>51.3</td><td>18.2</td><td>197.0</td><td>3750.0</td><td>2</td></tr><tr><td>Dream</td><td>46.0</td><td>18.9</td><td>195.0</td><td>4150.0</td><td>2</td></tr><tr><td>Dream</td><td>51.3</td><td>19.9</td><td>198.0</td><td>3700.0</td><td>2</td></tr><tr><td>Dream</td><td>46.6</td><td>17.8</td><td>193.0</td><td>3800.0</td><td>2</td></tr><tr><td>Dream</td><td>51.7</td><td>20.3</td><td>194.0</td><td>3775.0</td><td>2</td></tr><tr><td>Dream</td><td>47.0</td><td>17.3</td><td>185.0</td><td>3700.0</td><td>2</td></tr><tr><td>Dream</td><td>52.0</td><td>18.1</td><td>201.0</td><td>4050.0</td><td>2</td></tr><tr><td>Dream</td><td>45.9</td><td>17.1</td><td>190.0</td><td>3575.0</td><td>2</td></tr><tr><td>Dream</td><td>50.5</td><td>19.6</td><td>201.0</td><td>4050.0</td><td>2</td></tr><tr><td>Dream</td><td>50.3</td><td>20.0</td><td>197.0</td><td>3300.0</td><td>2</td></tr><tr><td>Dream</td><td>58.0</td><td>17.8</td><td>181.0</td><td>3700.0</td><td>2</td></tr><tr><td>Dream</td><td>46.4</td><td>18.6</td><td>190.0</td><td>3450.0</td><td>2</td></tr><tr><td>Dream</td><td>49.2</td><td>18.2</td><td>195.0</td><td>4400.0</td><td>2</td></tr><tr><td>Dream</td><td>42.4</td><td>17.3</td><td>181.0</td><td>3600.0</td><td>2</td></tr><tr><td>Dream</td><td>48.5</td><td>17.5</td><td>191.0</td><td>3400.0</td><td>2</td></tr><tr><td>Dream</td><td>43.2</td><td>16.6</td><td>187.0</td><td>2900.0</td><td>2</td></tr><tr><td>Dream</td><td>50.6</td><td>19.4</td><td>193.0</td><td>3800.0</td><td>2</td></tr><tr><td>Dream</td><td>46.7</td><td>17.9</td><td>195.0</td><td>3300.0</td><td>2</td></tr><tr><td>Dream</td><td>52.0</td><td>19.0</td><td>197.0</td><td>4150.0</td><td>2</td></tr><tr><td>Dream</td><td>50.5</td><td>18.4</td><td>200.0</td><td>3400.0</td><td>2</td></tr><tr><td>Dream</td><td>49.5</td><td>19.0</td><td>200.0</td><td>3800.0</td><td>2</td></tr><tr><td>Dream</td><td>46.4</td><td>17.8</td><td>191.0</td><td>3700.0</td><td>2</td></tr><tr><td>Dream</td><td>52.8</td><td>20.0</td><td>205.0</td><td>4550.0</td><td>2</td></tr><tr><td>Dream</td><td>40.9</td><td>16.6</td><td>187.0</td><td>3200.0</td><td>2</td></tr><tr><td>Dream</td><td>54.2</td><td>20.8</td><td>201.0</td><td>4300.0</td><td>2</td></tr><tr><td>Dream</td><td>42.5</td><td>16.7</td><td>187.0</td><td>3350.0</td><td>2</td></tr><tr><td>Dream</td><td>51.0</td><td>18.8</td><td>203.0</td><td>4100.0</td><td>2</td></tr><tr><td>Dream</td><td>49.7</td><td>18.6</td><td>195.0</td><td>3600.0</td><td>2</td></tr><tr><td>Dream</td><td>47.5</td><td>16.8</td><td>199.0</td><td>3900.0</td><td>2</td></tr><tr><td>Dream</td><td>47.6</td><td>18.3</td><td>195.0</td><td>3850.0</td><td>2</td></tr><tr><td>Dream</td><td>52.0</td><td>20.7</td><td>210.0</td><td>4800.0</td><td>2</td></tr><tr><td>Dream</td><td>46.9</td><td>16.6</td><td>192.0</td><td>2700.0</td><td>2</td></tr><tr><td>Dream</td><td>53.5</td><td>19.9</td><td>205.0</td><td>4500.0</td><td>2</td></tr><tr><td>Dream</td><td>49.0</td><td>19.5</td><td>210.0</td><td>3950.0</td><td>2</td></tr><tr><td>Dream</td><td>46.2</td><td>17.5</td><td>187.0</td><td>3650.0</td><td>2</td></tr><tr><td>Dream</td><td>50.9</td><td>19.1</td><td>196.0</td><td>3550.0</td><td>2</td></tr><tr><td>Dream</td><td>45.5</td><td>17.0</td><td>196.0</td><td>3500.0</td><td>2</td></tr><tr><td>Dream</td><td>50.9</td><td>17.9</td><td>196.0</td><td>3675.0</td><td>2</td></tr><tr><td>Dream</td><td>50.8</td><td>18.5</td><td>201.0</td><td>4450.0</td><td>2</td></tr><tr><td>Dream</td><td>50.1</td><td>17.9</td><td>190.0</td><td>3400.0</td><td>2</td></tr><tr><td>Dream</td><td>49.0</td><td>19.6</td><td>212.0</td><td>4300.0</td><td>2</td></tr><tr><td>Dream</td><td>51.5</td><td>18.7</td><td>187.0</td><td>3250.0</td><td>2</td></tr><tr><td>Dream</td><td>49.8</td><td>17.3</td><td>198.0</td><td>3675.0</td><td>2</td></tr><tr><td>Dream</td><td>48.1</td><td>16.4</td><td>199.0</td><td>3325.0</td><td>2</td></tr><tr><td>Dream</td><td>51.4</td><td>19.0</td><td>201.0</td><td>3950.0</td><td>2</td></tr><tr><td>Dream</td><td>45.7</td><td>17.3</td><td>193.0</td><td>3600.0</td><td>2</td></tr><tr><td>Dream</td><td>50.7</td><td>19.7</td><td>203.0</td><td>4050.0</td><td>2</td></tr><tr><td>Dream</td><td>42.5</td><td>17.3</td><td>187.0</td><td>3350.0</td><td>2</td></tr><tr><td>Dream</td><td>52.2</td><td>18.8</td><td>197.0</td><td>3450.0</td><td>2</td></tr><tr><td>Dream</td><td>45.2</td><td>16.6</td><td>191.0</td><td>3250.0</td><td>2</td></tr><tr><td>Dream</td><td>49.3</td><td>19.9</td><td>203.0</td><td>4050.0</td><td>2</td></tr><tr><td>Dream</td><td>50.2</td><td>18.8</td><td>202.0</td><td>3800.0</td><td>2</td></tr><tr><td>Dream</td><td>45.6</td><td>19.4</td><td>194.0</td><td>3525.0</td><td>2</td></tr><tr><td>Dream</td><td>51.9</td><td>19.5</td><td>206.0</td><td>3950.0</td><td>2</td></tr><tr><td>Dream</td><td>46.8</td><td>16.5</td><td>189.0</td><td>3650.0</td><td>2</td></tr><tr><td>Dream</td><td>45.7</td><td>17.0</td><td>195.0</td><td>3650.0</td><td>2</td></tr><tr><td>Dream</td><td>55.8</td><td>19.8</td><td>207.0</td><td>4000.0</td><td>2</td></tr><tr><td>Dream</td><td>43.5</td><td>18.1</td><td>202.0</td><td>3400.0</td><td>2</td></tr><tr><td>Dream</td><td>49.6</td><td>18.2</td><td>193.0</td><td>3775.0</td><td>2</td></tr><tr><td>Dream</td><td>50.8</td><td>19.0</td><td>210.0</td><td>4100.0</td><td>2</td></tr><tr><td>Dream</td><td>50.2</td><td>18.7</td><td>198.0</td><td>3775.0</td><td>2</td></tr></tbody></table></div>"
      ]
     },
     "metadata": {
      "application/vnd.databricks.v1+output": {
       "addedWidgets": {},
       "aggData": [],
       "aggError": "",
       "aggOverflow": false,
       "aggSchema": [],
       "aggSeriesLimitReached": false,
       "aggType": "",
       "arguments": {},
       "columnCustomDisplayInfos": {},
       "data": [
        [
         "Torgersen",
         39.1,
         18.7,
         181.0,
         3750.0,
         0
        ],
        [
         "Torgersen",
         39.5,
         17.4,
         186.0,
         3800.0,
         0
        ],
        [
         "Torgersen",
         40.3,
         18.0,
         195.0,
         3250.0,
         0
        ],
        [
         "Torgersen",
         36.7,
         19.3,
         193.0,
         3450.0,
         0
        ],
        [
         "Torgersen",
         39.3,
         20.6,
         190.0,
         3650.0,
         0
        ],
        [
         "Torgersen",
         38.9,
         17.8,
         181.0,
         3625.0,
         0
        ],
        [
         "Torgersen",
         39.2,
         19.6,
         195.0,
         4675.0,
         0
        ],
        [
         "Torgersen",
         34.1,
         18.1,
         193.0,
         3475.0,
         0
        ],
        [
         "Torgersen",
         42.0,
         20.2,
         190.0,
         4250.0,
         0
        ],
        [
         "Torgersen",
         37.8,
         17.1,
         186.0,
         3300.0,
         0
        ],
        [
         "Torgersen",
         37.8,
         17.3,
         180.0,
         3700.0,
         0
        ],
        [
         "Torgersen",
         41.1,
         17.6,
         182.0,
         3200.0,
         0
        ],
        [
         "Torgersen",
         38.6,
         21.2,
         191.0,
         3800.0,
         0
        ],
        [
         "Torgersen",
         34.6,
         21.1,
         198.0,
         4400.0,
         0
        ],
        [
         "Torgersen",
         36.6,
         17.8,
         185.0,
         3700.0,
         0
        ],
        [
         "Torgersen",
         38.7,
         19.0,
         195.0,
         3450.0,
         0
        ],
        [
         "Torgersen",
         42.5,
         20.7,
         197.0,
         4500.0,
         0
        ],
        [
         "Torgersen",
         34.4,
         18.4,
         184.0,
         3325.0,
         0
        ],
        [
         "Torgersen",
         46.0,
         21.5,
         194.0,
         4200.0,
         0
        ],
        [
         "Biscoe",
         37.8,
         18.3,
         174.0,
         3400.0,
         0
        ],
        [
         "Biscoe",
         37.7,
         18.7,
         180.0,
         3600.0,
         0
        ],
        [
         "Biscoe",
         35.9,
         19.2,
         189.0,
         3800.0,
         0
        ],
        [
         "Biscoe",
         38.2,
         18.1,
         185.0,
         3950.0,
         0
        ],
        [
         "Biscoe",
         38.8,
         17.2,
         180.0,
         3800.0,
         0
        ],
        [
         "Biscoe",
         35.3,
         18.9,
         187.0,
         3800.0,
         0
        ],
        [
         "Biscoe",
         40.6,
         18.6,
         183.0,
         3550.0,
         0
        ],
        [
         "Biscoe",
         40.5,
         17.9,
         187.0,
         3200.0,
         0
        ],
        [
         "Biscoe",
         37.9,
         18.6,
         172.0,
         3150.0,
         0
        ],
        [
         "Biscoe",
         40.5,
         18.9,
         180.0,
         3950.0,
         0
        ],
        [
         "Dream",
         39.5,
         16.7,
         178.0,
         3250.0,
         0
        ],
        [
         "Dream",
         37.2,
         18.1,
         178.0,
         3900.0,
         0
        ],
        [
         "Dream",
         39.5,
         17.8,
         188.0,
         3300.0,
         0
        ],
        [
         "Dream",
         40.9,
         18.9,
         184.0,
         3900.0,
         0
        ],
        [
         "Dream",
         36.4,
         17.0,
         195.0,
         3325.0,
         0
        ],
        [
         "Dream",
         39.2,
         21.1,
         196.0,
         4150.0,
         0
        ],
        [
         "Dream",
         38.8,
         20.0,
         190.0,
         3950.0,
         0
        ],
        [
         "Dream",
         42.2,
         18.5,
         180.0,
         3550.0,
         0
        ],
        [
         "Dream",
         37.6,
         19.3,
         181.0,
         3300.0,
         0
        ],
        [
         "Dream",
         39.8,
         19.1,
         184.0,
         4650.0,
         0
        ],
        [
         "Dream",
         36.5,
         18.0,
         182.0,
         3150.0,
         0
        ],
        [
         "Dream",
         40.8,
         18.4,
         195.0,
         3900.0,
         0
        ],
        [
         "Dream",
         36.0,
         18.5,
         186.0,
         3100.0,
         0
        ],
        [
         "Dream",
         44.1,
         19.7,
         196.0,
         4400.0,
         0
        ],
        [
         "Dream",
         37.0,
         16.9,
         185.0,
         3000.0,
         0
        ],
        [
         "Dream",
         39.6,
         18.8,
         190.0,
         4600.0,
         0
        ],
        [
         "Dream",
         41.1,
         19.0,
         182.0,
         3425.0,
         0
        ],
        [
         "Dream",
         37.5,
         18.9,
         179.0,
         2975.0,
         0
        ],
        [
         "Dream",
         36.0,
         17.9,
         190.0,
         3450.0,
         0
        ],
        [
         "Dream",
         42.3,
         21.2,
         191.0,
         4150.0,
         0
        ],
        [
         "Biscoe",
         39.6,
         17.7,
         186.0,
         3500.0,
         0
        ],
        [
         "Biscoe",
         40.1,
         18.9,
         188.0,
         4300.0,
         0
        ],
        [
         "Biscoe",
         35.0,
         17.9,
         190.0,
         3450.0,
         0
        ],
        [
         "Biscoe",
         42.0,
         19.5,
         200.0,
         4050.0,
         0
        ],
        [
         "Biscoe",
         34.5,
         18.1,
         187.0,
         2900.0,
         0
        ],
        [
         "Biscoe",
         41.4,
         18.6,
         191.0,
         3700.0,
         0
        ],
        [
         "Biscoe",
         39.0,
         17.5,
         186.0,
         3550.0,
         0
        ],
        [
         "Biscoe",
         40.6,
         18.8,
         193.0,
         3800.0,
         0
        ],
        [
         "Biscoe",
         36.5,
         16.6,
         181.0,
         2850.0,
         0
        ],
        [
         "Biscoe",
         37.6,
         19.1,
         194.0,
         3750.0,
         0
        ],
        [
         "Biscoe",
         35.7,
         16.9,
         185.0,
         3150.0,
         0
        ],
        [
         "Biscoe",
         41.3,
         21.1,
         195.0,
         4400.0,
         0
        ],
        [
         "Biscoe",
         37.6,
         17.0,
         185.0,
         3600.0,
         0
        ],
        [
         "Biscoe",
         41.1,
         18.2,
         192.0,
         4050.0,
         0
        ],
        [
         "Biscoe",
         36.4,
         17.1,
         184.0,
         2850.0,
         0
        ],
        [
         "Biscoe",
         41.6,
         18.0,
         192.0,
         3950.0,
         0
        ],
        [
         "Biscoe",
         35.5,
         16.2,
         195.0,
         3350.0,
         0
        ],
        [
         "Biscoe",
         41.1,
         19.1,
         188.0,
         4100.0,
         0
        ],
        [
         "Torgersen",
         35.9,
         16.6,
         190.0,
         3050.0,
         0
        ],
        [
         "Torgersen",
         41.8,
         19.4,
         198.0,
         4450.0,
         0
        ],
        [
         "Torgersen",
         33.5,
         19.0,
         190.0,
         3600.0,
         0
        ],
        [
         "Torgersen",
         39.7,
         18.4,
         190.0,
         3900.0,
         0
        ],
        [
         "Torgersen",
         39.6,
         17.2,
         196.0,
         3550.0,
         0
        ],
        [
         "Torgersen",
         45.8,
         18.9,
         197.0,
         4150.0,
         0
        ],
        [
         "Torgersen",
         35.5,
         17.5,
         190.0,
         3700.0,
         0
        ],
        [
         "Torgersen",
         42.8,
         18.5,
         195.0,
         4250.0,
         0
        ],
        [
         "Torgersen",
         40.9,
         16.8,
         191.0,
         3700.0,
         0
        ],
        [
         "Torgersen",
         37.2,
         19.4,
         184.0,
         3900.0,
         0
        ],
        [
         "Torgersen",
         36.2,
         16.1,
         187.0,
         3550.0,
         0
        ],
        [
         "Torgersen",
         42.1,
         19.1,
         195.0,
         4000.0,
         0
        ],
        [
         "Torgersen",
         34.6,
         17.2,
         189.0,
         3200.0,
         0
        ],
        [
         "Torgersen",
         42.9,
         17.6,
         196.0,
         4700.0,
         0
        ],
        [
         "Torgersen",
         36.7,
         18.8,
         187.0,
         3800.0,
         0
        ],
        [
         "Torgersen",
         35.1,
         19.4,
         193.0,
         4200.0,
         0
        ],
        [
         "Dream",
         37.3,
         17.8,
         191.0,
         3350.0,
         0
        ],
        [
         "Dream",
         41.3,
         20.3,
         194.0,
         3550.0,
         0
        ],
        [
         "Dream",
         36.3,
         19.5,
         190.0,
         3800.0,
         0
        ],
        [
         "Dream",
         36.9,
         18.6,
         189.0,
         3500.0,
         0
        ],
        [
         "Dream",
         38.3,
         19.2,
         189.0,
         3950.0,
         0
        ],
        [
         "Dream",
         38.9,
         18.8,
         190.0,
         3600.0,
         0
        ],
        [
         "Dream",
         35.7,
         18.0,
         202.0,
         3550.0,
         0
        ],
        [
         "Dream",
         41.1,
         18.1,
         205.0,
         4300.0,
         0
        ],
        [
         "Dream",
         34.0,
         17.1,
         185.0,
         3400.0,
         0
        ],
        [
         "Dream",
         39.6,
         18.1,
         186.0,
         4450.0,
         0
        ],
        [
         "Dream",
         36.2,
         17.3,
         187.0,
         3300.0,
         0
        ],
        [
         "Dream",
         40.8,
         18.9,
         208.0,
         4300.0,
         0
        ],
        [
         "Dream",
         38.1,
         18.6,
         190.0,
         3700.0,
         0
        ],
        [
         "Dream",
         40.3,
         18.5,
         196.0,
         4350.0,
         0
        ],
        [
         "Dream",
         33.1,
         16.1,
         178.0,
         2900.0,
         0
        ],
        [
         "Dream",
         43.2,
         18.5,
         192.0,
         4100.0,
         0
        ],
        [
         "Biscoe",
         35.0,
         17.9,
         192.0,
         3725.0,
         0
        ],
        [
         "Biscoe",
         41.0,
         20.0,
         203.0,
         4725.0,
         0
        ],
        [
         "Biscoe",
         37.7,
         16.0,
         183.0,
         3075.0,
         0
        ],
        [
         "Biscoe",
         37.8,
         20.0,
         190.0,
         4250.0,
         0
        ],
        [
         "Biscoe",
         37.9,
         18.6,
         193.0,
         2925.0,
         0
        ],
        [
         "Biscoe",
         39.7,
         18.9,
         184.0,
         3550.0,
         0
        ],
        [
         "Biscoe",
         38.6,
         17.2,
         199.0,
         3750.0,
         0
        ],
        [
         "Biscoe",
         38.2,
         20.0,
         190.0,
         3900.0,
         0
        ],
        [
         "Biscoe",
         38.1,
         17.0,
         181.0,
         3175.0,
         0
        ],
        [
         "Biscoe",
         43.2,
         19.0,
         197.0,
         4775.0,
         0
        ],
        [
         "Biscoe",
         38.1,
         16.5,
         198.0,
         3825.0,
         0
        ],
        [
         "Biscoe",
         45.6,
         20.3,
         191.0,
         4600.0,
         0
        ],
        [
         "Biscoe",
         39.7,
         17.7,
         193.0,
         3200.0,
         0
        ],
        [
         "Biscoe",
         42.2,
         19.5,
         197.0,
         4275.0,
         0
        ],
        [
         "Biscoe",
         39.6,
         20.7,
         191.0,
         3900.0,
         0
        ],
        [
         "Biscoe",
         42.7,
         18.3,
         196.0,
         4075.0,
         0
        ],
        [
         "Torgersen",
         38.6,
         17.0,
         188.0,
         2900.0,
         0
        ],
        [
         "Torgersen",
         37.3,
         20.5,
         199.0,
         3775.0,
         0
        ],
        [
         "Torgersen",
         35.7,
         17.0,
         189.0,
         3350.0,
         0
        ],
        [
         "Torgersen",
         41.1,
         18.6,
         189.0,
         3325.0,
         0
        ],
        [
         "Torgersen",
         36.2,
         17.2,
         187.0,
         3150.0,
         0
        ],
        [
         "Torgersen",
         37.7,
         19.8,
         198.0,
         3500.0,
         0
        ],
        [
         "Torgersen",
         40.2,
         17.0,
         176.0,
         3450.0,
         0
        ],
        [
         "Torgersen",
         41.4,
         18.5,
         202.0,
         3875.0,
         0
        ],
        [
         "Torgersen",
         35.2,
         15.9,
         186.0,
         3050.0,
         0
        ],
        [
         "Torgersen",
         40.6,
         19.0,
         199.0,
         4000.0,
         0
        ],
        [
         "Torgersen",
         38.8,
         17.6,
         191.0,
         3275.0,
         0
        ],
        [
         "Torgersen",
         41.5,
         18.3,
         195.0,
         4300.0,
         0
        ],
        [
         "Torgersen",
         39.0,
         17.1,
         191.0,
         3050.0,
         0
        ],
        [
         "Torgersen",
         44.1,
         18.0,
         210.0,
         4000.0,
         0
        ],
        [
         "Torgersen",
         38.5,
         17.9,
         190.0,
         3325.0,
         0
        ],
        [
         "Torgersen",
         43.1,
         19.2,
         197.0,
         3500.0,
         0
        ],
        [
         "Dream",
         36.8,
         18.5,
         193.0,
         3500.0,
         0
        ],
        [
         "Dream",
         37.5,
         18.5,
         199.0,
         4475.0,
         0
        ],
        [
         "Dream",
         38.1,
         17.6,
         187.0,
         3425.0,
         0
        ],
        [
         "Dream",
         41.1,
         17.5,
         190.0,
         3900.0,
         0
        ],
        [
         "Dream",
         35.6,
         17.5,
         191.0,
         3175.0,
         0
        ],
        [
         "Dream",
         40.2,
         20.1,
         200.0,
         3975.0,
         0
        ],
        [
         "Dream",
         37.0,
         16.5,
         185.0,
         3400.0,
         0
        ],
        [
         "Dream",
         39.7,
         17.9,
         193.0,
         4250.0,
         0
        ],
        [
         "Dream",
         40.2,
         17.1,
         193.0,
         3400.0,
         0
        ],
        [
         "Dream",
         40.6,
         17.2,
         187.0,
         3475.0,
         0
        ],
        [
         "Dream",
         32.1,
         15.5,
         188.0,
         3050.0,
         0
        ],
        [
         "Dream",
         40.7,
         17.0,
         190.0,
         3725.0,
         0
        ],
        [
         "Dream",
         37.3,
         16.8,
         192.0,
         3000.0,
         0
        ],
        [
         "Dream",
         39.0,
         18.7,
         185.0,
         3650.0,
         0
        ],
        [
         "Dream",
         39.2,
         18.6,
         190.0,
         4250.0,
         0
        ],
        [
         "Dream",
         36.6,
         18.4,
         184.0,
         3475.0,
         0
        ],
        [
         "Dream",
         36.0,
         17.8,
         195.0,
         3450.0,
         0
        ],
        [
         "Dream",
         37.8,
         18.1,
         193.0,
         3750.0,
         0
        ],
        [
         "Dream",
         36.0,
         17.1,
         187.0,
         3700.0,
         0
        ],
        [
         "Dream",
         41.5,
         18.5,
         201.0,
         4000.0,
         0
        ],
        [
         "Biscoe",
         46.1,
         13.2,
         211.0,
         4500.0,
         1
        ],
        [
         "Biscoe",
         50.0,
         16.3,
         230.0,
         5700.0,
         1
        ],
        [
         "Biscoe",
         48.7,
         14.1,
         210.0,
         4450.0,
         1
        ],
        [
         "Biscoe",
         50.0,
         15.2,
         218.0,
         5700.0,
         1
        ],
        [
         "Biscoe",
         47.6,
         14.5,
         215.0,
         5400.0,
         1
        ],
        [
         "Biscoe",
         46.5,
         13.5,
         210.0,
         4550.0,
         1
        ],
        [
         "Biscoe",
         45.4,
         14.6,
         211.0,
         4800.0,
         1
        ],
        [
         "Biscoe",
         46.7,
         15.3,
         219.0,
         5200.0,
         1
        ],
        [
         "Biscoe",
         43.3,
         13.4,
         209.0,
         4400.0,
         1
        ],
        [
         "Biscoe",
         46.8,
         15.4,
         215.0,
         5150.0,
         1
        ],
        [
         "Biscoe",
         40.9,
         13.7,
         214.0,
         4650.0,
         1
        ],
        [
         "Biscoe",
         49.0,
         16.1,
         216.0,
         5550.0,
         1
        ],
        [
         "Biscoe",
         45.5,
         13.7,
         214.0,
         4650.0,
         1
        ],
        [
         "Biscoe",
         48.4,
         14.6,
         213.0,
         5850.0,
         1
        ],
        [
         "Biscoe",
         45.8,
         14.6,
         210.0,
         4200.0,
         1
        ],
        [
         "Biscoe",
         49.3,
         15.7,
         217.0,
         5850.0,
         1
        ],
        [
         "Biscoe",
         42.0,
         13.5,
         210.0,
         4150.0,
         1
        ],
        [
         "Biscoe",
         49.2,
         15.2,
         221.0,
         6300.0,
         1
        ],
        [
         "Biscoe",
         46.2,
         14.5,
         209.0,
         4800.0,
         1
        ],
        [
         "Biscoe",
         48.7,
         15.1,
         222.0,
         5350.0,
         1
        ],
        [
         "Biscoe",
         50.2,
         14.3,
         218.0,
         5700.0,
         1
        ],
        [
         "Biscoe",
         45.1,
         14.5,
         215.0,
         5000.0,
         1
        ],
        [
         "Biscoe",
         46.5,
         14.5,
         213.0,
         4400.0,
         1
        ],
        [
         "Biscoe",
         46.3,
         15.8,
         215.0,
         5050.0,
         1
        ],
        [
         "Biscoe",
         42.9,
         13.1,
         215.0,
         5000.0,
         1
        ],
        [
         "Biscoe",
         46.1,
         15.1,
         215.0,
         5100.0,
         1
        ],
        [
         "Biscoe",
         44.5,
         14.3,
         216.0,
         4100.0,
         1
        ],
        [
         "Biscoe",
         47.8,
         15.0,
         215.0,
         5650.0,
         1
        ],
        [
         "Biscoe",
         48.2,
         14.3,
         210.0,
         4600.0,
         1
        ],
        [
         "Biscoe",
         50.0,
         15.3,
         220.0,
         5550.0,
         1
        ],
        [
         "Biscoe",
         47.3,
         15.3,
         222.0,
         5250.0,
         1
        ],
        [
         "Biscoe",
         42.8,
         14.2,
         209.0,
         4700.0,
         1
        ],
        [
         "Biscoe",
         45.1,
         14.5,
         207.0,
         5050.0,
         1
        ],
        [
         "Biscoe",
         59.6,
         17.0,
         230.0,
         6050.0,
         1
        ],
        [
         "Biscoe",
         49.1,
         14.8,
         220.0,
         5150.0,
         1
        ],
        [
         "Biscoe",
         48.4,
         16.3,
         220.0,
         5400.0,
         1
        ],
        [
         "Biscoe",
         42.6,
         13.7,
         213.0,
         4950.0,
         1
        ],
        [
         "Biscoe",
         44.4,
         17.3,
         219.0,
         5250.0,
         1
        ],
        [
         "Biscoe",
         44.0,
         13.6,
         208.0,
         4350.0,
         1
        ],
        [
         "Biscoe",
         48.7,
         15.7,
         208.0,
         5350.0,
         1
        ],
        [
         "Biscoe",
         42.7,
         13.7,
         208.0,
         3950.0,
         1
        ],
        [
         "Biscoe",
         49.6,
         16.0,
         225.0,
         5700.0,
         1
        ],
        [
         "Biscoe",
         45.3,
         13.7,
         210.0,
         4300.0,
         1
        ],
        [
         "Biscoe",
         49.6,
         15.0,
         216.0,
         4750.0,
         1
        ],
        [
         "Biscoe",
         50.5,
         15.9,
         222.0,
         5550.0,
         1
        ],
        [
         "Biscoe",
         43.6,
         13.9,
         217.0,
         4900.0,
         1
        ],
        [
         "Biscoe",
         45.5,
         13.9,
         210.0,
         4200.0,
         1
        ],
        [
         "Biscoe",
         50.5,
         15.9,
         225.0,
         5400.0,
         1
        ],
        [
         "Biscoe",
         44.9,
         13.3,
         213.0,
         5100.0,
         1
        ],
        [
         "Biscoe",
         45.2,
         15.8,
         215.0,
         5300.0,
         1
        ],
        [
         "Biscoe",
         46.6,
         14.2,
         210.0,
         4850.0,
         1
        ],
        [
         "Biscoe",
         48.5,
         14.1,
         220.0,
         5300.0,
         1
        ],
        [
         "Biscoe",
         45.1,
         14.4,
         210.0,
         4400.0,
         1
        ],
        [
         "Biscoe",
         50.1,
         15.0,
         225.0,
         5000.0,
         1
        ],
        [
         "Biscoe",
         46.5,
         14.4,
         217.0,
         4900.0,
         1
        ],
        [
         "Biscoe",
         45.0,
         15.4,
         220.0,
         5050.0,
         1
        ],
        [
         "Biscoe",
         43.8,
         13.9,
         208.0,
         4300.0,
         1
        ],
        [
         "Biscoe",
         45.5,
         15.0,
         220.0,
         5000.0,
         1
        ],
        [
         "Biscoe",
         43.2,
         14.5,
         208.0,
         4450.0,
         1
        ],
        [
         "Biscoe",
         50.4,
         15.3,
         224.0,
         5550.0,
         1
        ],
        [
         "Biscoe",
         45.3,
         13.8,
         208.0,
         4200.0,
         1
        ],
        [
         "Biscoe",
         46.2,
         14.9,
         221.0,
         5300.0,
         1
        ],
        [
         "Biscoe",
         45.7,
         13.9,
         214.0,
         4400.0,
         1
        ],
        [
         "Biscoe",
         54.3,
         15.7,
         231.0,
         5650.0,
         1
        ],
        [
         "Biscoe",
         45.8,
         14.2,
         219.0,
         4700.0,
         1
        ],
        [
         "Biscoe",
         49.8,
         16.8,
         230.0,
         5700.0,
         1
        ],
        [
         "Biscoe",
         46.2,
         14.4,
         214.0,
         4650.0,
         1
        ],
        [
         "Biscoe",
         49.5,
         16.2,
         229.0,
         5800.0,
         1
        ],
        [
         "Biscoe",
         43.5,
         14.2,
         220.0,
         4700.0,
         1
        ],
        [
         "Biscoe",
         50.7,
         15.0,
         223.0,
         5550.0,
         1
        ],
        [
         "Biscoe",
         47.7,
         15.0,
         216.0,
         4750.0,
         1
        ],
        [
         "Biscoe",
         46.4,
         15.6,
         221.0,
         5000.0,
         1
        ],
        [
         "Biscoe",
         48.2,
         15.6,
         221.0,
         5100.0,
         1
        ],
        [
         "Biscoe",
         46.5,
         14.8,
         217.0,
         5200.0,
         1
        ],
        [
         "Biscoe",
         46.4,
         15.0,
         216.0,
         4700.0,
         1
        ],
        [
         "Biscoe",
         48.6,
         16.0,
         230.0,
         5800.0,
         1
        ],
        [
         "Biscoe",
         47.5,
         14.2,
         209.0,
         4600.0,
         1
        ],
        [
         "Biscoe",
         51.1,
         16.3,
         220.0,
         6000.0,
         1
        ],
        [
         "Biscoe",
         45.2,
         13.8,
         215.0,
         4750.0,
         1
        ],
        [
         "Biscoe",
         45.2,
         16.4,
         223.0,
         5950.0,
         1
        ],
        [
         "Biscoe",
         49.1,
         14.5,
         212.0,
         4625.0,
         1
        ],
        [
         "Biscoe",
         52.5,
         15.6,
         221.0,
         5450.0,
         1
        ],
        [
         "Biscoe",
         47.4,
         14.6,
         212.0,
         4725.0,
         1
        ],
        [
         "Biscoe",
         50.0,
         15.9,
         224.0,
         5350.0,
         1
        ],
        [
         "Biscoe",
         44.9,
         13.8,
         212.0,
         4750.0,
         1
        ],
        [
         "Biscoe",
         50.8,
         17.3,
         228.0,
         5600.0,
         1
        ],
        [
         "Biscoe",
         43.4,
         14.4,
         218.0,
         4600.0,
         1
        ],
        [
         "Biscoe",
         51.3,
         14.2,
         218.0,
         5300.0,
         1
        ],
        [
         "Biscoe",
         47.5,
         14.0,
         212.0,
         4875.0,
         1
        ],
        [
         "Biscoe",
         52.1,
         17.0,
         230.0,
         5550.0,
         1
        ],
        [
         "Biscoe",
         47.5,
         15.0,
         218.0,
         4950.0,
         1
        ],
        [
         "Biscoe",
         52.2,
         17.1,
         228.0,
         5400.0,
         1
        ],
        [
         "Biscoe",
         45.5,
         14.5,
         212.0,
         4750.0,
         1
        ],
        [
         "Biscoe",
         49.5,
         16.1,
         224.0,
         5650.0,
         1
        ],
        [
         "Biscoe",
         44.5,
         14.7,
         214.0,
         4850.0,
         1
        ],
        [
         "Biscoe",
         50.8,
         15.7,
         226.0,
         5200.0,
         1
        ],
        [
         "Biscoe",
         49.4,
         15.8,
         216.0,
         4925.0,
         1
        ],
        [
         "Biscoe",
         46.9,
         14.6,
         222.0,
         4875.0,
         1
        ],
        [
         "Biscoe",
         48.4,
         14.4,
         203.0,
         4625.0,
         1
        ],
        [
         "Biscoe",
         51.1,
         16.5,
         225.0,
         5250.0,
         1
        ],
        [
         "Biscoe",
         48.5,
         15.0,
         219.0,
         4850.0,
         1
        ],
        [
         "Biscoe",
         55.9,
         17.0,
         228.0,
         5600.0,
         1
        ],
        [
         "Biscoe",
         47.2,
         15.5,
         215.0,
         4975.0,
         1
        ],
        [
         "Biscoe",
         49.1,
         15.0,
         228.0,
         5500.0,
         1
        ],
        [
         "Biscoe",
         47.3,
         13.8,
         216.0,
         4725.0,
         1
        ],
        [
         "Biscoe",
         46.8,
         16.1,
         215.0,
         5500.0,
         1
        ],
        [
         "Biscoe",
         41.7,
         14.7,
         210.0,
         4700.0,
         1
        ],
        [
         "Biscoe",
         53.4,
         15.8,
         219.0,
         5500.0,
         1
        ],
        [
         "Biscoe",
         43.3,
         14.0,
         208.0,
         4575.0,
         1
        ],
        [
         "Biscoe",
         48.1,
         15.1,
         209.0,
         5500.0,
         1
        ],
        [
         "Biscoe",
         50.5,
         15.2,
         216.0,
         5000.0,
         1
        ],
        [
         "Biscoe",
         49.8,
         15.9,
         229.0,
         5950.0,
         1
        ],
        [
         "Biscoe",
         43.5,
         15.2,
         213.0,
         4650.0,
         1
        ],
        [
         "Biscoe",
         51.5,
         16.3,
         230.0,
         5500.0,
         1
        ],
        [
         "Biscoe",
         46.2,
         14.1,
         217.0,
         4375.0,
         1
        ],
        [
         "Biscoe",
         55.1,
         16.0,
         230.0,
         5850.0,
         1
        ],
        [
         "Biscoe",
         44.5,
         15.7,
         217.0,
         4875.0,
         1
        ],
        [
         "Biscoe",
         48.8,
         16.2,
         222.0,
         6000.0,
         1
        ],
        [
         "Biscoe",
         47.2,
         13.7,
         214.0,
         4925.0,
         1
        ],
        [
         "Biscoe",
         46.8,
         14.3,
         215.0,
         4850.0,
         1
        ],
        [
         "Biscoe",
         50.4,
         15.7,
         222.0,
         5750.0,
         1
        ],
        [
         "Biscoe",
         45.2,
         14.8,
         212.0,
         5200.0,
         1
        ],
        [
         "Biscoe",
         49.9,
         16.1,
         213.0,
         5400.0,
         1
        ],
        [
         "Dream",
         46.5,
         17.9,
         192.0,
         3500.0,
         2
        ],
        [
         "Dream",
         50.0,
         19.5,
         196.0,
         3900.0,
         2
        ],
        [
         "Dream",
         51.3,
         19.2,
         193.0,
         3650.0,
         2
        ],
        [
         "Dream",
         45.4,
         18.7,
         188.0,
         3525.0,
         2
        ],
        [
         "Dream",
         52.7,
         19.8,
         197.0,
         3725.0,
         2
        ],
        [
         "Dream",
         45.2,
         17.8,
         198.0,
         3950.0,
         2
        ],
        [
         "Dream",
         46.1,
         18.2,
         178.0,
         3250.0,
         2
        ],
        [
         "Dream",
         51.3,
         18.2,
         197.0,
         3750.0,
         2
        ],
        [
         "Dream",
         46.0,
         18.9,
         195.0,
         4150.0,
         2
        ],
        [
         "Dream",
         51.3,
         19.9,
         198.0,
         3700.0,
         2
        ],
        [
         "Dream",
         46.6,
         17.8,
         193.0,
         3800.0,
         2
        ],
        [
         "Dream",
         51.7,
         20.3,
         194.0,
         3775.0,
         2
        ],
        [
         "Dream",
         47.0,
         17.3,
         185.0,
         3700.0,
         2
        ],
        [
         "Dream",
         52.0,
         18.1,
         201.0,
         4050.0,
         2
        ],
        [
         "Dream",
         45.9,
         17.1,
         190.0,
         3575.0,
         2
        ],
        [
         "Dream",
         50.5,
         19.6,
         201.0,
         4050.0,
         2
        ],
        [
         "Dream",
         50.3,
         20.0,
         197.0,
         3300.0,
         2
        ],
        [
         "Dream",
         58.0,
         17.8,
         181.0,
         3700.0,
         2
        ],
        [
         "Dream",
         46.4,
         18.6,
         190.0,
         3450.0,
         2
        ],
        [
         "Dream",
         49.2,
         18.2,
         195.0,
         4400.0,
         2
        ],
        [
         "Dream",
         42.4,
         17.3,
         181.0,
         3600.0,
         2
        ],
        [
         "Dream",
         48.5,
         17.5,
         191.0,
         3400.0,
         2
        ],
        [
         "Dream",
         43.2,
         16.6,
         187.0,
         2900.0,
         2
        ],
        [
         "Dream",
         50.6,
         19.4,
         193.0,
         3800.0,
         2
        ],
        [
         "Dream",
         46.7,
         17.9,
         195.0,
         3300.0,
         2
        ],
        [
         "Dream",
         52.0,
         19.0,
         197.0,
         4150.0,
         2
        ],
        [
         "Dream",
         50.5,
         18.4,
         200.0,
         3400.0,
         2
        ],
        [
         "Dream",
         49.5,
         19.0,
         200.0,
         3800.0,
         2
        ],
        [
         "Dream",
         46.4,
         17.8,
         191.0,
         3700.0,
         2
        ],
        [
         "Dream",
         52.8,
         20.0,
         205.0,
         4550.0,
         2
        ],
        [
         "Dream",
         40.9,
         16.6,
         187.0,
         3200.0,
         2
        ],
        [
         "Dream",
         54.2,
         20.8,
         201.0,
         4300.0,
         2
        ],
        [
         "Dream",
         42.5,
         16.7,
         187.0,
         3350.0,
         2
        ],
        [
         "Dream",
         51.0,
         18.8,
         203.0,
         4100.0,
         2
        ],
        [
         "Dream",
         49.7,
         18.6,
         195.0,
         3600.0,
         2
        ],
        [
         "Dream",
         47.5,
         16.8,
         199.0,
         3900.0,
         2
        ],
        [
         "Dream",
         47.6,
         18.3,
         195.0,
         3850.0,
         2
        ],
        [
         "Dream",
         52.0,
         20.7,
         210.0,
         4800.0,
         2
        ],
        [
         "Dream",
         46.9,
         16.6,
         192.0,
         2700.0,
         2
        ],
        [
         "Dream",
         53.5,
         19.9,
         205.0,
         4500.0,
         2
        ],
        [
         "Dream",
         49.0,
         19.5,
         210.0,
         3950.0,
         2
        ],
        [
         "Dream",
         46.2,
         17.5,
         187.0,
         3650.0,
         2
        ],
        [
         "Dream",
         50.9,
         19.1,
         196.0,
         3550.0,
         2
        ],
        [
         "Dream",
         45.5,
         17.0,
         196.0,
         3500.0,
         2
        ],
        [
         "Dream",
         50.9,
         17.9,
         196.0,
         3675.0,
         2
        ],
        [
         "Dream",
         50.8,
         18.5,
         201.0,
         4450.0,
         2
        ],
        [
         "Dream",
         50.1,
         17.9,
         190.0,
         3400.0,
         2
        ],
        [
         "Dream",
         49.0,
         19.6,
         212.0,
         4300.0,
         2
        ],
        [
         "Dream",
         51.5,
         18.7,
         187.0,
         3250.0,
         2
        ],
        [
         "Dream",
         49.8,
         17.3,
         198.0,
         3675.0,
         2
        ],
        [
         "Dream",
         48.1,
         16.4,
         199.0,
         3325.0,
         2
        ],
        [
         "Dream",
         51.4,
         19.0,
         201.0,
         3950.0,
         2
        ],
        [
         "Dream",
         45.7,
         17.3,
         193.0,
         3600.0,
         2
        ],
        [
         "Dream",
         50.7,
         19.7,
         203.0,
         4050.0,
         2
        ],
        [
         "Dream",
         42.5,
         17.3,
         187.0,
         3350.0,
         2
        ],
        [
         "Dream",
         52.2,
         18.8,
         197.0,
         3450.0,
         2
        ],
        [
         "Dream",
         45.2,
         16.6,
         191.0,
         3250.0,
         2
        ],
        [
         "Dream",
         49.3,
         19.9,
         203.0,
         4050.0,
         2
        ],
        [
         "Dream",
         50.2,
         18.8,
         202.0,
         3800.0,
         2
        ],
        [
         "Dream",
         45.6,
         19.4,
         194.0,
         3525.0,
         2
        ],
        [
         "Dream",
         51.9,
         19.5,
         206.0,
         3950.0,
         2
        ],
        [
         "Dream",
         46.8,
         16.5,
         189.0,
         3650.0,
         2
        ],
        [
         "Dream",
         45.7,
         17.0,
         195.0,
         3650.0,
         2
        ],
        [
         "Dream",
         55.8,
         19.8,
         207.0,
         4000.0,
         2
        ],
        [
         "Dream",
         43.5,
         18.1,
         202.0,
         3400.0,
         2
        ],
        [
         "Dream",
         49.6,
         18.2,
         193.0,
         3775.0,
         2
        ],
        [
         "Dream",
         50.8,
         19.0,
         210.0,
         4100.0,
         2
        ],
        [
         "Dream",
         50.2,
         18.7,
         198.0,
         3775.0,
         2
        ]
       ],
       "datasetInfos": [],
       "dbfsResultPath": null,
       "isJsonSchema": true,
       "metadata": {},
       "overflow": false,
       "plotOptions": {
        "customPlotOptions": {},
        "displayType": "table",
        "pivotAggregation": null,
        "pivotColumns": null,
        "xColumns": null,
        "yColumns": null
       },
       "removedWidgets": [],
       "schema": [
        {
         "metadata": "{}",
         "name": "Island",
         "type": "\"string\""
        },
        {
         "metadata": "{}",
         "name": "CulmenLength",
         "type": "\"float\""
        },
        {
         "metadata": "{}",
         "name": "CulmenDepth",
         "type": "\"float\""
        },
        {
         "metadata": "{}",
         "name": "FlipperLength",
         "type": "\"float\""
        },
        {
         "metadata": "{}",
         "name": "BodyMass",
         "type": "\"float\""
        },
        {
         "metadata": "{}",
         "name": "Species",
         "type": "\"integer\""
        }
       ],
       "type": "table"
      }
     },
     "output_type": "display_data"
    }
   ],
   "source": [
    "from pyspark.sql.types import *\n",
    "from pyspark.sql.functions import *\n",
    "   \n",
    "data = df.dropna().select(col(\"Island\").astype(\"string\"),\n",
    "                           col(\"CulmenLength\").astype(\"float\"),\n",
    "                          col(\"CulmenDepth\").astype(\"float\"),\n",
    "                          col(\"FlipperLength\").astype(\"float\"),\n",
    "                          col(\"BodyMass\").astype(\"float\"),\n",
    "                          col(\"Species\").astype(\"int\")\n",
    "                          )\n",
    "display(data)"
   ]
  },
  {
   "cell_type": "code",
   "execution_count": 0,
   "metadata": {
    "application/vnd.databricks.v1+cell": {
     "cellMetadata": {
      "byteLimit": 2048000,
      "rowLimit": 10000
     },
     "inputWidgets": {},
     "nuid": "921dd2c8-fad7-4574-83f5-f42ace9584c6",
     "showTitle": false,
     "title": ""
    }
   },
   "outputs": [
    {
     "output_type": "stream",
     "name": "stdout",
     "output_type": "stream",
     "text": [
      "Training Rows: 235  Testing Rows: 107\n"
     ]
    }
   ],
   "source": [
    "splits = data.randomSplit([0.7, 0.3])\n",
    "train = splits[0]\n",
    "test = splits[1]\n",
    "print (\"Training Rows:\", train.count(), \" Testing Rows:\", test.count())"
   ]
  },
  {
   "cell_type": "code",
   "execution_count": 0,
   "metadata": {
    "application/vnd.databricks.v1+cell": {
     "cellMetadata": {
      "byteLimit": 2048000,
      "rowLimit": 10000
     },
     "inputWidgets": {},
     "nuid": "43d697a3-eb8b-4c7b-8598-9d3f9d285fcf",
     "showTitle": false,
     "title": ""
    }
   },
   "outputs": [
    {
     "output_type": "display_data",
     "data": {
      "text/html": [
       "<style scoped>\n",
       "  .table-result-container {\n",
       "    max-height: 300px;\n",
       "    overflow: auto;\n",
       "  }\n",
       "  table, th, td {\n",
       "    border: 1px solid black;\n",
       "    border-collapse: collapse;\n",
       "  }\n",
       "  th, td {\n",
       "    padding: 5px;\n",
       "  }\n",
       "  th {\n",
       "    text-align: left;\n",
       "  }\n",
       "</style><div class='table-result-container'><table class='table-result'><thead style='background-color: white'><tr><th>CulmenLength</th><th>CulmenDepth</th><th>FlipperLength</th><th>BodyMass</th><th>Species</th><th>IslandIdx</th></tr></thead><tbody><tr><td>35.0</td><td>17.9</td><td>192.0</td><td>3725.0</td><td>0</td><td>0.0</td></tr><tr><td>35.3</td><td>18.9</td><td>187.0</td><td>3800.0</td><td>0</td><td>0.0</td></tr><tr><td>35.7</td><td>16.9</td><td>185.0</td><td>3150.0</td><td>0</td><td>0.0</td></tr><tr><td>35.9</td><td>19.2</td><td>189.0</td><td>3800.0</td><td>0</td><td>0.0</td></tr><tr><td>36.4</td><td>17.1</td><td>184.0</td><td>2850.0</td><td>0</td><td>0.0</td></tr><tr><td>36.5</td><td>16.6</td><td>181.0</td><td>2850.0</td><td>0</td><td>0.0</td></tr><tr><td>37.6</td><td>17.0</td><td>185.0</td><td>3600.0</td><td>0</td><td>0.0</td></tr><tr><td>37.6</td><td>19.1</td><td>194.0</td><td>3750.0</td><td>0</td><td>0.0</td></tr><tr><td>37.7</td><td>16.0</td><td>183.0</td><td>3075.0</td><td>0</td><td>0.0</td></tr><tr><td>37.7</td><td>18.7</td><td>180.0</td><td>3600.0</td><td>0</td><td>0.0</td></tr><tr><td>37.8</td><td>18.3</td><td>174.0</td><td>3400.0</td><td>0</td><td>0.0</td></tr><tr><td>37.8</td><td>20.0</td><td>190.0</td><td>4250.0</td><td>0</td><td>0.0</td></tr><tr><td>37.9</td><td>18.6</td><td>193.0</td><td>2925.0</td><td>0</td><td>0.0</td></tr><tr><td>38.1</td><td>17.0</td><td>181.0</td><td>3175.0</td><td>0</td><td>0.0</td></tr><tr><td>38.2</td><td>18.1</td><td>185.0</td><td>3950.0</td><td>0</td><td>0.0</td></tr><tr><td>38.2</td><td>20.0</td><td>190.0</td><td>3900.0</td><td>0</td><td>0.0</td></tr><tr><td>38.8</td><td>17.2</td><td>180.0</td><td>3800.0</td><td>0</td><td>0.0</td></tr><tr><td>39.0</td><td>17.5</td><td>186.0</td><td>3550.0</td><td>0</td><td>0.0</td></tr><tr><td>39.6</td><td>17.7</td><td>186.0</td><td>3500.0</td><td>0</td><td>0.0</td></tr><tr><td>39.6</td><td>20.7</td><td>191.0</td><td>3900.0</td><td>0</td><td>0.0</td></tr><tr><td>39.7</td><td>18.9</td><td>184.0</td><td>3550.0</td><td>0</td><td>0.0</td></tr><tr><td>40.1</td><td>18.9</td><td>188.0</td><td>4300.0</td><td>0</td><td>0.0</td></tr><tr><td>40.5</td><td>18.9</td><td>180.0</td><td>3950.0</td><td>0</td><td>0.0</td></tr><tr><td>40.6</td><td>18.6</td><td>183.0</td><td>3550.0</td><td>0</td><td>0.0</td></tr><tr><td>40.6</td><td>18.8</td><td>193.0</td><td>3800.0</td><td>0</td><td>0.0</td></tr><tr><td>41.1</td><td>19.1</td><td>188.0</td><td>4100.0</td><td>0</td><td>0.0</td></tr><tr><td>41.3</td><td>21.1</td><td>195.0</td><td>4400.0</td><td>0</td><td>0.0</td></tr><tr><td>41.4</td><td>18.6</td><td>191.0</td><td>3700.0</td><td>0</td><td>0.0</td></tr><tr><td>42.2</td><td>19.5</td><td>197.0</td><td>4275.0</td><td>0</td><td>0.0</td></tr><tr><td>42.7</td><td>13.7</td><td>208.0</td><td>3950.0</td><td>1</td><td>0.0</td></tr><tr><td>42.8</td><td>14.2</td><td>209.0</td><td>4700.0</td><td>1</td><td>0.0</td></tr><tr><td>43.2</td><td>19.0</td><td>197.0</td><td>4775.0</td><td>0</td><td>0.0</td></tr><tr><td>43.3</td><td>14.0</td><td>208.0</td><td>4575.0</td><td>1</td><td>0.0</td></tr><tr><td>43.4</td><td>14.4</td><td>218.0</td><td>4600.0</td><td>1</td><td>0.0</td></tr><tr><td>43.5</td><td>14.2</td><td>220.0</td><td>4700.0</td><td>1</td><td>0.0</td></tr><tr><td>43.5</td><td>15.2</td><td>213.0</td><td>4650.0</td><td>1</td><td>0.0</td></tr><tr><td>43.6</td><td>13.9</td><td>217.0</td><td>4900.0</td><td>1</td><td>0.0</td></tr><tr><td>44.0</td><td>13.6</td><td>208.0</td><td>4350.0</td><td>1</td><td>0.0</td></tr><tr><td>44.4</td><td>17.3</td><td>219.0</td><td>5250.0</td><td>1</td><td>0.0</td></tr><tr><td>44.5</td><td>14.3</td><td>216.0</td><td>4100.0</td><td>1</td><td>0.0</td></tr><tr><td>44.5</td><td>14.7</td><td>214.0</td><td>4850.0</td><td>1</td><td>0.0</td></tr><tr><td>44.5</td><td>15.7</td><td>217.0</td><td>4875.0</td><td>1</td><td>0.0</td></tr><tr><td>44.9</td><td>13.3</td><td>213.0</td><td>5100.0</td><td>1</td><td>0.0</td></tr><tr><td>45.0</td><td>15.4</td><td>220.0</td><td>5050.0</td><td>1</td><td>0.0</td></tr><tr><td>45.1</td><td>14.5</td><td>207.0</td><td>5050.0</td><td>1</td><td>0.0</td></tr><tr><td>45.1</td><td>14.5</td><td>215.0</td><td>5000.0</td><td>1</td><td>0.0</td></tr><tr><td>45.2</td><td>13.8</td><td>215.0</td><td>4750.0</td><td>1</td><td>0.0</td></tr><tr><td>45.2</td><td>14.8</td><td>212.0</td><td>5200.0</td><td>1</td><td>0.0</td></tr><tr><td>45.2</td><td>15.8</td><td>215.0</td><td>5300.0</td><td>1</td><td>0.0</td></tr><tr><td>45.2</td><td>16.4</td><td>223.0</td><td>5950.0</td><td>1</td><td>0.0</td></tr><tr><td>45.3</td><td>13.7</td><td>210.0</td><td>4300.0</td><td>1</td><td>0.0</td></tr><tr><td>45.3</td><td>13.8</td><td>208.0</td><td>4200.0</td><td>1</td><td>0.0</td></tr><tr><td>45.5</td><td>13.7</td><td>214.0</td><td>4650.0</td><td>1</td><td>0.0</td></tr><tr><td>45.5</td><td>13.9</td><td>210.0</td><td>4200.0</td><td>1</td><td>0.0</td></tr><tr><td>45.5</td><td>14.5</td><td>212.0</td><td>4750.0</td><td>1</td><td>0.0</td></tr><tr><td>45.5</td><td>15.0</td><td>220.0</td><td>5000.0</td><td>1</td><td>0.0</td></tr><tr><td>45.6</td><td>20.3</td><td>191.0</td><td>4600.0</td><td>0</td><td>0.0</td></tr><tr><td>45.8</td><td>14.6</td><td>210.0</td><td>4200.0</td><td>1</td><td>0.0</td></tr><tr><td>46.1</td><td>13.2</td><td>211.0</td><td>4500.0</td><td>1</td><td>0.0</td></tr><tr><td>46.1</td><td>15.1</td><td>215.0</td><td>5100.0</td><td>1</td><td>0.0</td></tr><tr><td>46.2</td><td>14.1</td><td>217.0</td><td>4375.0</td><td>1</td><td>0.0</td></tr><tr><td>46.2</td><td>14.4</td><td>214.0</td><td>4650.0</td><td>1</td><td>0.0</td></tr><tr><td>46.2</td><td>14.9</td><td>221.0</td><td>5300.0</td><td>1</td><td>0.0</td></tr><tr><td>46.4</td><td>15.0</td><td>216.0</td><td>4700.0</td><td>1</td><td>0.0</td></tr><tr><td>46.5</td><td>13.5</td><td>210.0</td><td>4550.0</td><td>1</td><td>0.0</td></tr><tr><td>46.5</td><td>14.5</td><td>213.0</td><td>4400.0</td><td>1</td><td>0.0</td></tr><tr><td>46.5</td><td>14.8</td><td>217.0</td><td>5200.0</td><td>1</td><td>0.0</td></tr><tr><td>46.6</td><td>14.2</td><td>210.0</td><td>4850.0</td><td>1</td><td>0.0</td></tr><tr><td>46.7</td><td>15.3</td><td>219.0</td><td>5200.0</td><td>1</td><td>0.0</td></tr><tr><td>46.8</td><td>14.3</td><td>215.0</td><td>4850.0</td><td>1</td><td>0.0</td></tr><tr><td>46.8</td><td>15.4</td><td>215.0</td><td>5150.0</td><td>1</td><td>0.0</td></tr><tr><td>46.8</td><td>16.1</td><td>215.0</td><td>5500.0</td><td>1</td><td>0.0</td></tr><tr><td>47.2</td><td>13.7</td><td>214.0</td><td>4925.0</td><td>1</td><td>0.0</td></tr><tr><td>47.3</td><td>13.8</td><td>216.0</td><td>4725.0</td><td>1</td><td>0.0</td></tr><tr><td>47.4</td><td>14.6</td><td>212.0</td><td>4725.0</td><td>1</td><td>0.0</td></tr><tr><td>47.5</td><td>14.0</td><td>212.0</td><td>4875.0</td><td>1</td><td>0.0</td></tr><tr><td>47.5</td><td>14.2</td><td>209.0</td><td>4600.0</td><td>1</td><td>0.0</td></tr><tr><td>47.6</td><td>14.5</td><td>215.0</td><td>5400.0</td><td>1</td><td>0.0</td></tr><tr><td>47.8</td><td>15.0</td><td>215.0</td><td>5650.0</td><td>1</td><td>0.0</td></tr><tr><td>48.1</td><td>15.1</td><td>209.0</td><td>5500.0</td><td>1</td><td>0.0</td></tr><tr><td>48.2</td><td>14.3</td><td>210.0</td><td>4600.0</td><td>1</td><td>0.0</td></tr><tr><td>48.2</td><td>15.6</td><td>221.0</td><td>5100.0</td><td>1</td><td>0.0</td></tr><tr><td>48.4</td><td>14.4</td><td>203.0</td><td>4625.0</td><td>1</td><td>0.0</td></tr><tr><td>48.4</td><td>14.6</td><td>213.0</td><td>5850.0</td><td>1</td><td>0.0</td></tr><tr><td>48.4</td><td>16.3</td><td>220.0</td><td>5400.0</td><td>1</td><td>0.0</td></tr><tr><td>48.5</td><td>14.1</td><td>220.0</td><td>5300.0</td><td>1</td><td>0.0</td></tr><tr><td>48.5</td><td>15.0</td><td>219.0</td><td>4850.0</td><td>1</td><td>0.0</td></tr><tr><td>48.7</td><td>14.1</td><td>210.0</td><td>4450.0</td><td>1</td><td>0.0</td></tr><tr><td>48.7</td><td>15.1</td><td>222.0</td><td>5350.0</td><td>1</td><td>0.0</td></tr><tr><td>48.7</td><td>15.7</td><td>208.0</td><td>5350.0</td><td>1</td><td>0.0</td></tr><tr><td>48.8</td><td>16.2</td><td>222.0</td><td>6000.0</td><td>1</td><td>0.0</td></tr><tr><td>49.0</td><td>16.1</td><td>216.0</td><td>5550.0</td><td>1</td><td>0.0</td></tr><tr><td>49.1</td><td>14.5</td><td>212.0</td><td>4625.0</td><td>1</td><td>0.0</td></tr><tr><td>49.1</td><td>14.8</td><td>220.0</td><td>5150.0</td><td>1</td><td>0.0</td></tr><tr><td>49.1</td><td>15.0</td><td>228.0</td><td>5500.0</td><td>1</td><td>0.0</td></tr><tr><td>49.3</td><td>15.7</td><td>217.0</td><td>5850.0</td><td>1</td><td>0.0</td></tr><tr><td>49.5</td><td>16.1</td><td>224.0</td><td>5650.0</td><td>1</td><td>0.0</td></tr><tr><td>49.5</td><td>16.2</td><td>229.0</td><td>5800.0</td><td>1</td><td>0.0</td></tr><tr><td>49.6</td><td>16.0</td><td>225.0</td><td>5700.0</td><td>1</td><td>0.0</td></tr><tr><td>49.8</td><td>15.9</td><td>229.0</td><td>5950.0</td><td>1</td><td>0.0</td></tr><tr><td>49.8</td><td>16.8</td><td>230.0</td><td>5700.0</td><td>1</td><td>0.0</td></tr><tr><td>50.0</td><td>15.2</td><td>218.0</td><td>5700.0</td><td>1</td><td>0.0</td></tr><tr><td>50.0</td><td>15.3</td><td>220.0</td><td>5550.0</td><td>1</td><td>0.0</td></tr><tr><td>50.0</td><td>15.9</td><td>224.0</td><td>5350.0</td><td>1</td><td>0.0</td></tr><tr><td>50.0</td><td>16.3</td><td>230.0</td><td>5700.0</td><td>1</td><td>0.0</td></tr><tr><td>50.2</td><td>14.3</td><td>218.0</td><td>5700.0</td><td>1</td><td>0.0</td></tr><tr><td>50.4</td><td>15.7</td><td>222.0</td><td>5750.0</td><td>1</td><td>0.0</td></tr><tr><td>50.5</td><td>15.9</td><td>222.0</td><td>5550.0</td><td>1</td><td>0.0</td></tr><tr><td>50.7</td><td>15.0</td><td>223.0</td><td>5550.0</td><td>1</td><td>0.0</td></tr><tr><td>50.8</td><td>15.7</td><td>226.0</td><td>5200.0</td><td>1</td><td>0.0</td></tr><tr><td>51.1</td><td>16.3</td><td>220.0</td><td>6000.0</td><td>1</td><td>0.0</td></tr><tr><td>51.1</td><td>16.5</td><td>225.0</td><td>5250.0</td><td>1</td><td>0.0</td></tr><tr><td>51.3</td><td>14.2</td><td>218.0</td><td>5300.0</td><td>1</td><td>0.0</td></tr><tr><td>51.5</td><td>16.3</td><td>230.0</td><td>5500.0</td><td>1</td><td>0.0</td></tr><tr><td>52.2</td><td>17.1</td><td>228.0</td><td>5400.0</td><td>1</td><td>0.0</td></tr><tr><td>52.5</td><td>15.6</td><td>221.0</td><td>5450.0</td><td>1</td><td>0.0</td></tr><tr><td>53.4</td><td>15.8</td><td>219.0</td><td>5500.0</td><td>1</td><td>0.0</td></tr><tr><td>55.9</td><td>17.0</td><td>228.0</td><td>5600.0</td><td>1</td><td>0.0</td></tr><tr><td>59.6</td><td>17.0</td><td>230.0</td><td>6050.0</td><td>1</td><td>0.0</td></tr><tr><td>32.1</td><td>15.5</td><td>188.0</td><td>3050.0</td><td>0</td><td>1.0</td></tr><tr><td>33.1</td><td>16.1</td><td>178.0</td><td>2900.0</td><td>0</td><td>1.0</td></tr><tr><td>35.7</td><td>18.0</td><td>202.0</td><td>3550.0</td><td>0</td><td>1.0</td></tr><tr><td>36.0</td><td>17.1</td><td>187.0</td><td>3700.0</td><td>0</td><td>1.0</td></tr><tr><td>36.0</td><td>17.8</td><td>195.0</td><td>3450.0</td><td>0</td><td>1.0</td></tr><tr><td>36.0</td><td>17.9</td><td>190.0</td><td>3450.0</td><td>0</td><td>1.0</td></tr><tr><td>36.0</td><td>18.5</td><td>186.0</td><td>3100.0</td><td>0</td><td>1.0</td></tr><tr><td>36.6</td><td>18.4</td><td>184.0</td><td>3475.0</td><td>0</td><td>1.0</td></tr><tr><td>36.8</td><td>18.5</td><td>193.0</td><td>3500.0</td><td>0</td><td>1.0</td></tr><tr><td>36.9</td><td>18.6</td><td>189.0</td><td>3500.0</td><td>0</td><td>1.0</td></tr><tr><td>37.0</td><td>16.9</td><td>185.0</td><td>3000.0</td><td>0</td><td>1.0</td></tr><tr><td>37.2</td><td>18.1</td><td>178.0</td><td>3900.0</td><td>0</td><td>1.0</td></tr><tr><td>37.3</td><td>16.8</td><td>192.0</td><td>3000.0</td><td>0</td><td>1.0</td></tr><tr><td>37.3</td><td>17.8</td><td>191.0</td><td>3350.0</td><td>0</td><td>1.0</td></tr><tr><td>37.5</td><td>18.5</td><td>199.0</td><td>4475.0</td><td>0</td><td>1.0</td></tr><tr><td>37.5</td><td>18.9</td><td>179.0</td><td>2975.0</td><td>0</td><td>1.0</td></tr><tr><td>37.6</td><td>19.3</td><td>181.0</td><td>3300.0</td><td>0</td><td>1.0</td></tr><tr><td>37.8</td><td>18.1</td><td>193.0</td><td>3750.0</td><td>0</td><td>1.0</td></tr><tr><td>38.1</td><td>17.6</td><td>187.0</td><td>3425.0</td><td>0</td><td>1.0</td></tr><tr><td>38.3</td><td>19.2</td><td>189.0</td><td>3950.0</td><td>0</td><td>1.0</td></tr><tr><td>38.8</td><td>20.0</td><td>190.0</td><td>3950.0</td><td>0</td><td>1.0</td></tr><tr><td>39.2</td><td>21.1</td><td>196.0</td><td>4150.0</td><td>0</td><td>1.0</td></tr><tr><td>39.5</td><td>17.8</td><td>188.0</td><td>3300.0</td><td>0</td><td>1.0</td></tr><tr><td>39.6</td><td>18.8</td><td>190.0</td><td>4600.0</td><td>0</td><td>1.0</td></tr><tr><td>39.8</td><td>19.1</td><td>184.0</td><td>4650.0</td><td>0</td><td>1.0</td></tr><tr><td>40.3</td><td>18.5</td><td>196.0</td><td>4350.0</td><td>0</td><td>1.0</td></tr><tr><td>40.6</td><td>17.2</td><td>187.0</td><td>3475.0</td><td>0</td><td>1.0</td></tr><tr><td>40.7</td><td>17.0</td><td>190.0</td><td>3725.0</td><td>0</td><td>1.0</td></tr><tr><td>40.8</td><td>18.4</td><td>195.0</td><td>3900.0</td><td>0</td><td>1.0</td></tr><tr><td>40.8</td><td>18.9</td><td>208.0</td><td>4300.0</td><td>0</td><td>1.0</td></tr><tr><td>40.9</td><td>16.6</td><td>187.0</td><td>3200.0</td><td>2</td><td>1.0</td></tr><tr><td>40.9</td><td>18.9</td><td>184.0</td><td>3900.0</td><td>0</td><td>1.0</td></tr><tr><td>41.1</td><td>17.5</td><td>190.0</td><td>3900.0</td><td>0</td><td>1.0</td></tr><tr><td>41.1</td><td>18.1</td><td>205.0</td><td>4300.0</td><td>0</td><td>1.0</td></tr><tr><td>41.1</td><td>19.0</td><td>182.0</td><td>3425.0</td><td>0</td><td>1.0</td></tr><tr><td>41.3</td><td>20.3</td><td>194.0</td><td>3550.0</td><td>0</td><td>1.0</td></tr><tr><td>41.5</td><td>18.5</td><td>201.0</td><td>4000.0</td><td>0</td><td>1.0</td></tr><tr><td>42.2</td><td>18.5</td><td>180.0</td><td>3550.0</td><td>0</td><td>1.0</td></tr><tr><td>42.5</td><td>16.7</td><td>187.0</td><td>3350.0</td><td>2</td><td>1.0</td></tr><tr><td>42.5</td><td>17.3</td><td>187.0</td><td>3350.0</td><td>2</td><td>1.0</td></tr><tr><td>43.2</td><td>18.5</td><td>192.0</td><td>4100.0</td><td>0</td><td>1.0</td></tr><tr><td>44.1</td><td>19.7</td><td>196.0</td><td>4400.0</td><td>0</td><td>1.0</td></tr><tr><td>45.2</td><td>17.8</td><td>198.0</td><td>3950.0</td><td>2</td><td>1.0</td></tr><tr><td>45.4</td><td>18.7</td><td>188.0</td><td>3525.0</td><td>2</td><td>1.0</td></tr><tr><td>45.6</td><td>19.4</td><td>194.0</td><td>3525.0</td><td>2</td><td>1.0</td></tr><tr><td>45.7</td><td>17.3</td><td>193.0</td><td>3600.0</td><td>2</td><td>1.0</td></tr><tr><td>45.9</td><td>17.1</td><td>190.0</td><td>3575.0</td><td>2</td><td>1.0</td></tr><tr><td>46.0</td><td>18.9</td><td>195.0</td><td>4150.0</td><td>2</td><td>1.0</td></tr><tr><td>46.1</td><td>18.2</td><td>178.0</td><td>3250.0</td><td>2</td><td>1.0</td></tr><tr><td>46.2</td><td>17.5</td><td>187.0</td><td>3650.0</td><td>2</td><td>1.0</td></tr><tr><td>46.4</td><td>17.8</td><td>191.0</td><td>3700.0</td><td>2</td><td>1.0</td></tr><tr><td>46.5</td><td>17.9</td><td>192.0</td><td>3500.0</td><td>2</td><td>1.0</td></tr><tr><td>46.6</td><td>17.8</td><td>193.0</td><td>3800.0</td><td>2</td><td>1.0</td></tr><tr><td>46.7</td><td>17.9</td><td>195.0</td><td>3300.0</td><td>2</td><td>1.0</td></tr><tr><td>46.8</td><td>16.5</td><td>189.0</td><td>3650.0</td><td>2</td><td>1.0</td></tr><tr><td>46.9</td><td>16.6</td><td>192.0</td><td>2700.0</td><td>2</td><td>1.0</td></tr><tr><td>47.6</td><td>18.3</td><td>195.0</td><td>3850.0</td><td>2</td><td>1.0</td></tr><tr><td>48.1</td><td>16.4</td><td>199.0</td><td>3325.0</td><td>2</td><td>1.0</td></tr><tr><td>48.5</td><td>17.5</td><td>191.0</td><td>3400.0</td><td>2</td><td>1.0</td></tr><tr><td>49.0</td><td>19.6</td><td>212.0</td><td>4300.0</td><td>2</td><td>1.0</td></tr><tr><td>49.2</td><td>18.2</td><td>195.0</td><td>4400.0</td><td>2</td><td>1.0</td></tr><tr><td>49.7</td><td>18.6</td><td>195.0</td><td>3600.0</td><td>2</td><td>1.0</td></tr><tr><td>49.8</td><td>17.3</td><td>198.0</td><td>3675.0</td><td>2</td><td>1.0</td></tr><tr><td>50.1</td><td>17.9</td><td>190.0</td><td>3400.0</td><td>2</td><td>1.0</td></tr><tr><td>50.2</td><td>18.7</td><td>198.0</td><td>3775.0</td><td>2</td><td>1.0</td></tr><tr><td>50.2</td><td>18.8</td><td>202.0</td><td>3800.0</td><td>2</td><td>1.0</td></tr><tr><td>50.3</td><td>20.0</td><td>197.0</td><td>3300.0</td><td>2</td><td>1.0</td></tr><tr><td>50.5</td><td>18.4</td><td>200.0</td><td>3400.0</td><td>2</td><td>1.0</td></tr><tr><td>50.6</td><td>19.4</td><td>193.0</td><td>3800.0</td><td>2</td><td>1.0</td></tr><tr><td>50.9</td><td>19.1</td><td>196.0</td><td>3550.0</td><td>2</td><td>1.0</td></tr><tr><td>51.0</td><td>18.8</td><td>203.0</td><td>4100.0</td><td>2</td><td>1.0</td></tr><tr><td>51.3</td><td>18.2</td><td>197.0</td><td>3750.0</td><td>2</td><td>1.0</td></tr><tr><td>51.3</td><td>19.2</td><td>193.0</td><td>3650.0</td><td>2</td><td>1.0</td></tr><tr><td>51.4</td><td>19.0</td><td>201.0</td><td>3950.0</td><td>2</td><td>1.0</td></tr><tr><td>51.7</td><td>20.3</td><td>194.0</td><td>3775.0</td><td>2</td><td>1.0</td></tr><tr><td>51.9</td><td>19.5</td><td>206.0</td><td>3950.0</td><td>2</td><td>1.0</td></tr><tr><td>52.0</td><td>18.1</td><td>201.0</td><td>4050.0</td><td>2</td><td>1.0</td></tr><tr><td>52.0</td><td>20.7</td><td>210.0</td><td>4800.0</td><td>2</td><td>1.0</td></tr><tr><td>52.2</td><td>18.8</td><td>197.0</td><td>3450.0</td><td>2</td><td>1.0</td></tr><tr><td>52.7</td><td>19.8</td><td>197.0</td><td>3725.0</td><td>2</td><td>1.0</td></tr><tr><td>52.8</td><td>20.0</td><td>205.0</td><td>4550.0</td><td>2</td><td>1.0</td></tr><tr><td>53.5</td><td>19.9</td><td>205.0</td><td>4500.0</td><td>2</td><td>1.0</td></tr><tr><td>54.2</td><td>20.8</td><td>201.0</td><td>4300.0</td><td>2</td><td>1.0</td></tr><tr><td>55.8</td><td>19.8</td><td>207.0</td><td>4000.0</td><td>2</td><td>1.0</td></tr><tr><td>33.5</td><td>19.0</td><td>190.0</td><td>3600.0</td><td>0</td><td>2.0</td></tr><tr><td>34.1</td><td>18.1</td><td>193.0</td><td>3475.0</td><td>0</td><td>2.0</td></tr><tr><td>34.4</td><td>18.4</td><td>184.0</td><td>3325.0</td><td>0</td><td>2.0</td></tr><tr><td>34.6</td><td>17.2</td><td>189.0</td><td>3200.0</td><td>0</td><td>2.0</td></tr><tr><td>34.6</td><td>21.1</td><td>198.0</td><td>4400.0</td><td>0</td><td>2.0</td></tr><tr><td>35.1</td><td>19.4</td><td>193.0</td><td>4200.0</td><td>0</td><td>2.0</td></tr><tr><td>35.2</td><td>15.9</td><td>186.0</td><td>3050.0</td><td>0</td><td>2.0</td></tr><tr><td>35.5</td><td>17.5</td><td>190.0</td><td>3700.0</td><td>0</td><td>2.0</td></tr><tr><td>36.6</td><td>17.8</td><td>185.0</td><td>3700.0</td><td>0</td><td>2.0</td></tr><tr><td>36.7</td><td>18.8</td><td>187.0</td><td>3800.0</td><td>0</td><td>2.0</td></tr><tr><td>36.7</td><td>19.3</td><td>193.0</td><td>3450.0</td><td>0</td><td>2.0</td></tr><tr><td>37.2</td><td>19.4</td><td>184.0</td><td>3900.0</td><td>0</td><td>2.0</td></tr><tr><td>37.7</td><td>19.8</td><td>198.0</td><td>3500.0</td><td>0</td><td>2.0</td></tr><tr><td>37.8</td><td>17.3</td><td>180.0</td><td>3700.0</td><td>0</td><td>2.0</td></tr><tr><td>38.5</td><td>17.9</td><td>190.0</td><td>3325.0</td><td>0</td><td>2.0</td></tr><tr><td>38.6</td><td>21.2</td><td>191.0</td><td>3800.0</td><td>0</td><td>2.0</td></tr><tr><td>38.8</td><td>17.6</td><td>191.0</td><td>3275.0</td><td>0</td><td>2.0</td></tr><tr><td>39.0</td><td>17.1</td><td>191.0</td><td>3050.0</td><td>0</td><td>2.0</td></tr><tr><td>39.1</td><td>18.7</td><td>181.0</td><td>3750.0</td><td>0</td><td>2.0</td></tr><tr><td>39.2</td><td>19.6</td><td>195.0</td><td>4675.0</td><td>0</td><td>2.0</td></tr><tr><td>39.3</td><td>20.6</td><td>190.0</td><td>3650.0</td><td>0</td><td>2.0</td></tr><tr><td>39.5</td><td>17.4</td><td>186.0</td><td>3800.0</td><td>0</td><td>2.0</td></tr><tr><td>39.6</td><td>17.2</td><td>196.0</td><td>3550.0</td><td>0</td><td>2.0</td></tr><tr><td>39.7</td><td>18.4</td><td>190.0</td><td>3900.0</td><td>0</td><td>2.0</td></tr><tr><td>40.2</td><td>17.0</td><td>176.0</td><td>3450.0</td><td>0</td><td>2.0</td></tr><tr><td>41.4</td><td>18.5</td><td>202.0</td><td>3875.0</td><td>0</td><td>2.0</td></tr><tr><td>41.8</td><td>19.4</td><td>198.0</td><td>4450.0</td><td>0</td><td>2.0</td></tr><tr><td>42.0</td><td>20.2</td><td>190.0</td><td>4250.0</td><td>0</td><td>2.0</td></tr><tr><td>42.5</td><td>20.7</td><td>197.0</td><td>4500.0</td><td>0</td><td>2.0</td></tr><tr><td>42.8</td><td>18.5</td><td>195.0</td><td>4250.0</td><td>0</td><td>2.0</td></tr><tr><td>44.1</td><td>18.0</td><td>210.0</td><td>4000.0</td><td>0</td><td>2.0</td></tr><tr><td>46.0</td><td>21.5</td><td>194.0</td><td>4200.0</td><td>0</td><td>2.0</td></tr></tbody></table></div>"
      ]
     },
     "metadata": {
      "application/vnd.databricks.v1+output": {
       "addedWidgets": {},
       "aggData": [],
       "aggError": "",
       "aggOverflow": false,
       "aggSchema": [],
       "aggSeriesLimitReached": false,
       "aggType": "",
       "arguments": {},
       "columnCustomDisplayInfos": {},
       "data": [
        [
         35.0,
         17.9,
         192.0,
         3725.0,
         0,
         0.0
        ],
        [
         35.3,
         18.9,
         187.0,
         3800.0,
         0,
         0.0
        ],
        [
         35.7,
         16.9,
         185.0,
         3150.0,
         0,
         0.0
        ],
        [
         35.9,
         19.2,
         189.0,
         3800.0,
         0,
         0.0
        ],
        [
         36.4,
         17.1,
         184.0,
         2850.0,
         0,
         0.0
        ],
        [
         36.5,
         16.6,
         181.0,
         2850.0,
         0,
         0.0
        ],
        [
         37.6,
         17.0,
         185.0,
         3600.0,
         0,
         0.0
        ],
        [
         37.6,
         19.1,
         194.0,
         3750.0,
         0,
         0.0
        ],
        [
         37.7,
         16.0,
         183.0,
         3075.0,
         0,
         0.0
        ],
        [
         37.7,
         18.7,
         180.0,
         3600.0,
         0,
         0.0
        ],
        [
         37.8,
         18.3,
         174.0,
         3400.0,
         0,
         0.0
        ],
        [
         37.8,
         20.0,
         190.0,
         4250.0,
         0,
         0.0
        ],
        [
         37.9,
         18.6,
         193.0,
         2925.0,
         0,
         0.0
        ],
        [
         38.1,
         17.0,
         181.0,
         3175.0,
         0,
         0.0
        ],
        [
         38.2,
         18.1,
         185.0,
         3950.0,
         0,
         0.0
        ],
        [
         38.2,
         20.0,
         190.0,
         3900.0,
         0,
         0.0
        ],
        [
         38.8,
         17.2,
         180.0,
         3800.0,
         0,
         0.0
        ],
        [
         39.0,
         17.5,
         186.0,
         3550.0,
         0,
         0.0
        ],
        [
         39.6,
         17.7,
         186.0,
         3500.0,
         0,
         0.0
        ],
        [
         39.6,
         20.7,
         191.0,
         3900.0,
         0,
         0.0
        ],
        [
         39.7,
         18.9,
         184.0,
         3550.0,
         0,
         0.0
        ],
        [
         40.1,
         18.9,
         188.0,
         4300.0,
         0,
         0.0
        ],
        [
         40.5,
         18.9,
         180.0,
         3950.0,
         0,
         0.0
        ],
        [
         40.6,
         18.6,
         183.0,
         3550.0,
         0,
         0.0
        ],
        [
         40.6,
         18.8,
         193.0,
         3800.0,
         0,
         0.0
        ],
        [
         41.1,
         19.1,
         188.0,
         4100.0,
         0,
         0.0
        ],
        [
         41.3,
         21.1,
         195.0,
         4400.0,
         0,
         0.0
        ],
        [
         41.4,
         18.6,
         191.0,
         3700.0,
         0,
         0.0
        ],
        [
         42.2,
         19.5,
         197.0,
         4275.0,
         0,
         0.0
        ],
        [
         42.7,
         13.7,
         208.0,
         3950.0,
         1,
         0.0
        ],
        [
         42.8,
         14.2,
         209.0,
         4700.0,
         1,
         0.0
        ],
        [
         43.2,
         19.0,
         197.0,
         4775.0,
         0,
         0.0
        ],
        [
         43.3,
         14.0,
         208.0,
         4575.0,
         1,
         0.0
        ],
        [
         43.4,
         14.4,
         218.0,
         4600.0,
         1,
         0.0
        ],
        [
         43.5,
         14.2,
         220.0,
         4700.0,
         1,
         0.0
        ],
        [
         43.5,
         15.2,
         213.0,
         4650.0,
         1,
         0.0
        ],
        [
         43.6,
         13.9,
         217.0,
         4900.0,
         1,
         0.0
        ],
        [
         44.0,
         13.6,
         208.0,
         4350.0,
         1,
         0.0
        ],
        [
         44.4,
         17.3,
         219.0,
         5250.0,
         1,
         0.0
        ],
        [
         44.5,
         14.3,
         216.0,
         4100.0,
         1,
         0.0
        ],
        [
         44.5,
         14.7,
         214.0,
         4850.0,
         1,
         0.0
        ],
        [
         44.5,
         15.7,
         217.0,
         4875.0,
         1,
         0.0
        ],
        [
         44.9,
         13.3,
         213.0,
         5100.0,
         1,
         0.0
        ],
        [
         45.0,
         15.4,
         220.0,
         5050.0,
         1,
         0.0
        ],
        [
         45.1,
         14.5,
         207.0,
         5050.0,
         1,
         0.0
        ],
        [
         45.1,
         14.5,
         215.0,
         5000.0,
         1,
         0.0
        ],
        [
         45.2,
         13.8,
         215.0,
         4750.0,
         1,
         0.0
        ],
        [
         45.2,
         14.8,
         212.0,
         5200.0,
         1,
         0.0
        ],
        [
         45.2,
         15.8,
         215.0,
         5300.0,
         1,
         0.0
        ],
        [
         45.2,
         16.4,
         223.0,
         5950.0,
         1,
         0.0
        ],
        [
         45.3,
         13.7,
         210.0,
         4300.0,
         1,
         0.0
        ],
        [
         45.3,
         13.8,
         208.0,
         4200.0,
         1,
         0.0
        ],
        [
         45.5,
         13.7,
         214.0,
         4650.0,
         1,
         0.0
        ],
        [
         45.5,
         13.9,
         210.0,
         4200.0,
         1,
         0.0
        ],
        [
         45.5,
         14.5,
         212.0,
         4750.0,
         1,
         0.0
        ],
        [
         45.5,
         15.0,
         220.0,
         5000.0,
         1,
         0.0
        ],
        [
         45.6,
         20.3,
         191.0,
         4600.0,
         0,
         0.0
        ],
        [
         45.8,
         14.6,
         210.0,
         4200.0,
         1,
         0.0
        ],
        [
         46.1,
         13.2,
         211.0,
         4500.0,
         1,
         0.0
        ],
        [
         46.1,
         15.1,
         215.0,
         5100.0,
         1,
         0.0
        ],
        [
         46.2,
         14.1,
         217.0,
         4375.0,
         1,
         0.0
        ],
        [
         46.2,
         14.4,
         214.0,
         4650.0,
         1,
         0.0
        ],
        [
         46.2,
         14.9,
         221.0,
         5300.0,
         1,
         0.0
        ],
        [
         46.4,
         15.0,
         216.0,
         4700.0,
         1,
         0.0
        ],
        [
         46.5,
         13.5,
         210.0,
         4550.0,
         1,
         0.0
        ],
        [
         46.5,
         14.5,
         213.0,
         4400.0,
         1,
         0.0
        ],
        [
         46.5,
         14.8,
         217.0,
         5200.0,
         1,
         0.0
        ],
        [
         46.6,
         14.2,
         210.0,
         4850.0,
         1,
         0.0
        ],
        [
         46.7,
         15.3,
         219.0,
         5200.0,
         1,
         0.0
        ],
        [
         46.8,
         14.3,
         215.0,
         4850.0,
         1,
         0.0
        ],
        [
         46.8,
         15.4,
         215.0,
         5150.0,
         1,
         0.0
        ],
        [
         46.8,
         16.1,
         215.0,
         5500.0,
         1,
         0.0
        ],
        [
         47.2,
         13.7,
         214.0,
         4925.0,
         1,
         0.0
        ],
        [
         47.3,
         13.8,
         216.0,
         4725.0,
         1,
         0.0
        ],
        [
         47.4,
         14.6,
         212.0,
         4725.0,
         1,
         0.0
        ],
        [
         47.5,
         14.0,
         212.0,
         4875.0,
         1,
         0.0
        ],
        [
         47.5,
         14.2,
         209.0,
         4600.0,
         1,
         0.0
        ],
        [
         47.6,
         14.5,
         215.0,
         5400.0,
         1,
         0.0
        ],
        [
         47.8,
         15.0,
         215.0,
         5650.0,
         1,
         0.0
        ],
        [
         48.1,
         15.1,
         209.0,
         5500.0,
         1,
         0.0
        ],
        [
         48.2,
         14.3,
         210.0,
         4600.0,
         1,
         0.0
        ],
        [
         48.2,
         15.6,
         221.0,
         5100.0,
         1,
         0.0
        ],
        [
         48.4,
         14.4,
         203.0,
         4625.0,
         1,
         0.0
        ],
        [
         48.4,
         14.6,
         213.0,
         5850.0,
         1,
         0.0
        ],
        [
         48.4,
         16.3,
         220.0,
         5400.0,
         1,
         0.0
        ],
        [
         48.5,
         14.1,
         220.0,
         5300.0,
         1,
         0.0
        ],
        [
         48.5,
         15.0,
         219.0,
         4850.0,
         1,
         0.0
        ],
        [
         48.7,
         14.1,
         210.0,
         4450.0,
         1,
         0.0
        ],
        [
         48.7,
         15.1,
         222.0,
         5350.0,
         1,
         0.0
        ],
        [
         48.7,
         15.7,
         208.0,
         5350.0,
         1,
         0.0
        ],
        [
         48.8,
         16.2,
         222.0,
         6000.0,
         1,
         0.0
        ],
        [
         49.0,
         16.1,
         216.0,
         5550.0,
         1,
         0.0
        ],
        [
         49.1,
         14.5,
         212.0,
         4625.0,
         1,
         0.0
        ],
        [
         49.1,
         14.8,
         220.0,
         5150.0,
         1,
         0.0
        ],
        [
         49.1,
         15.0,
         228.0,
         5500.0,
         1,
         0.0
        ],
        [
         49.3,
         15.7,
         217.0,
         5850.0,
         1,
         0.0
        ],
        [
         49.5,
         16.1,
         224.0,
         5650.0,
         1,
         0.0
        ],
        [
         49.5,
         16.2,
         229.0,
         5800.0,
         1,
         0.0
        ],
        [
         49.6,
         16.0,
         225.0,
         5700.0,
         1,
         0.0
        ],
        [
         49.8,
         15.9,
         229.0,
         5950.0,
         1,
         0.0
        ],
        [
         49.8,
         16.8,
         230.0,
         5700.0,
         1,
         0.0
        ],
        [
         50.0,
         15.2,
         218.0,
         5700.0,
         1,
         0.0
        ],
        [
         50.0,
         15.3,
         220.0,
         5550.0,
         1,
         0.0
        ],
        [
         50.0,
         15.9,
         224.0,
         5350.0,
         1,
         0.0
        ],
        [
         50.0,
         16.3,
         230.0,
         5700.0,
         1,
         0.0
        ],
        [
         50.2,
         14.3,
         218.0,
         5700.0,
         1,
         0.0
        ],
        [
         50.4,
         15.7,
         222.0,
         5750.0,
         1,
         0.0
        ],
        [
         50.5,
         15.9,
         222.0,
         5550.0,
         1,
         0.0
        ],
        [
         50.7,
         15.0,
         223.0,
         5550.0,
         1,
         0.0
        ],
        [
         50.8,
         15.7,
         226.0,
         5200.0,
         1,
         0.0
        ],
        [
         51.1,
         16.3,
         220.0,
         6000.0,
         1,
         0.0
        ],
        [
         51.1,
         16.5,
         225.0,
         5250.0,
         1,
         0.0
        ],
        [
         51.3,
         14.2,
         218.0,
         5300.0,
         1,
         0.0
        ],
        [
         51.5,
         16.3,
         230.0,
         5500.0,
         1,
         0.0
        ],
        [
         52.2,
         17.1,
         228.0,
         5400.0,
         1,
         0.0
        ],
        [
         52.5,
         15.6,
         221.0,
         5450.0,
         1,
         0.0
        ],
        [
         53.4,
         15.8,
         219.0,
         5500.0,
         1,
         0.0
        ],
        [
         55.9,
         17.0,
         228.0,
         5600.0,
         1,
         0.0
        ],
        [
         59.6,
         17.0,
         230.0,
         6050.0,
         1,
         0.0
        ],
        [
         32.1,
         15.5,
         188.0,
         3050.0,
         0,
         1.0
        ],
        [
         33.1,
         16.1,
         178.0,
         2900.0,
         0,
         1.0
        ],
        [
         35.7,
         18.0,
         202.0,
         3550.0,
         0,
         1.0
        ],
        [
         36.0,
         17.1,
         187.0,
         3700.0,
         0,
         1.0
        ],
        [
         36.0,
         17.8,
         195.0,
         3450.0,
         0,
         1.0
        ],
        [
         36.0,
         17.9,
         190.0,
         3450.0,
         0,
         1.0
        ],
        [
         36.0,
         18.5,
         186.0,
         3100.0,
         0,
         1.0
        ],
        [
         36.6,
         18.4,
         184.0,
         3475.0,
         0,
         1.0
        ],
        [
         36.8,
         18.5,
         193.0,
         3500.0,
         0,
         1.0
        ],
        [
         36.9,
         18.6,
         189.0,
         3500.0,
         0,
         1.0
        ],
        [
         37.0,
         16.9,
         185.0,
         3000.0,
         0,
         1.0
        ],
        [
         37.2,
         18.1,
         178.0,
         3900.0,
         0,
         1.0
        ],
        [
         37.3,
         16.8,
         192.0,
         3000.0,
         0,
         1.0
        ],
        [
         37.3,
         17.8,
         191.0,
         3350.0,
         0,
         1.0
        ],
        [
         37.5,
         18.5,
         199.0,
         4475.0,
         0,
         1.0
        ],
        [
         37.5,
         18.9,
         179.0,
         2975.0,
         0,
         1.0
        ],
        [
         37.6,
         19.3,
         181.0,
         3300.0,
         0,
         1.0
        ],
        [
         37.8,
         18.1,
         193.0,
         3750.0,
         0,
         1.0
        ],
        [
         38.1,
         17.6,
         187.0,
         3425.0,
         0,
         1.0
        ],
        [
         38.3,
         19.2,
         189.0,
         3950.0,
         0,
         1.0
        ],
        [
         38.8,
         20.0,
         190.0,
         3950.0,
         0,
         1.0
        ],
        [
         39.2,
         21.1,
         196.0,
         4150.0,
         0,
         1.0
        ],
        [
         39.5,
         17.8,
         188.0,
         3300.0,
         0,
         1.0
        ],
        [
         39.6,
         18.8,
         190.0,
         4600.0,
         0,
         1.0
        ],
        [
         39.8,
         19.1,
         184.0,
         4650.0,
         0,
         1.0
        ],
        [
         40.3,
         18.5,
         196.0,
         4350.0,
         0,
         1.0
        ],
        [
         40.6,
         17.2,
         187.0,
         3475.0,
         0,
         1.0
        ],
        [
         40.7,
         17.0,
         190.0,
         3725.0,
         0,
         1.0
        ],
        [
         40.8,
         18.4,
         195.0,
         3900.0,
         0,
         1.0
        ],
        [
         40.8,
         18.9,
         208.0,
         4300.0,
         0,
         1.0
        ],
        [
         40.9,
         16.6,
         187.0,
         3200.0,
         2,
         1.0
        ],
        [
         40.9,
         18.9,
         184.0,
         3900.0,
         0,
         1.0
        ],
        [
         41.1,
         17.5,
         190.0,
         3900.0,
         0,
         1.0
        ],
        [
         41.1,
         18.1,
         205.0,
         4300.0,
         0,
         1.0
        ],
        [
         41.1,
         19.0,
         182.0,
         3425.0,
         0,
         1.0
        ],
        [
         41.3,
         20.3,
         194.0,
         3550.0,
         0,
         1.0
        ],
        [
         41.5,
         18.5,
         201.0,
         4000.0,
         0,
         1.0
        ],
        [
         42.2,
         18.5,
         180.0,
         3550.0,
         0,
         1.0
        ],
        [
         42.5,
         16.7,
         187.0,
         3350.0,
         2,
         1.0
        ],
        [
         42.5,
         17.3,
         187.0,
         3350.0,
         2,
         1.0
        ],
        [
         43.2,
         18.5,
         192.0,
         4100.0,
         0,
         1.0
        ],
        [
         44.1,
         19.7,
         196.0,
         4400.0,
         0,
         1.0
        ],
        [
         45.2,
         17.8,
         198.0,
         3950.0,
         2,
         1.0
        ],
        [
         45.4,
         18.7,
         188.0,
         3525.0,
         2,
         1.0
        ],
        [
         45.6,
         19.4,
         194.0,
         3525.0,
         2,
         1.0
        ],
        [
         45.7,
         17.3,
         193.0,
         3600.0,
         2,
         1.0
        ],
        [
         45.9,
         17.1,
         190.0,
         3575.0,
         2,
         1.0
        ],
        [
         46.0,
         18.9,
         195.0,
         4150.0,
         2,
         1.0
        ],
        [
         46.1,
         18.2,
         178.0,
         3250.0,
         2,
         1.0
        ],
        [
         46.2,
         17.5,
         187.0,
         3650.0,
         2,
         1.0
        ],
        [
         46.4,
         17.8,
         191.0,
         3700.0,
         2,
         1.0
        ],
        [
         46.5,
         17.9,
         192.0,
         3500.0,
         2,
         1.0
        ],
        [
         46.6,
         17.8,
         193.0,
         3800.0,
         2,
         1.0
        ],
        [
         46.7,
         17.9,
         195.0,
         3300.0,
         2,
         1.0
        ],
        [
         46.8,
         16.5,
         189.0,
         3650.0,
         2,
         1.0
        ],
        [
         46.9,
         16.6,
         192.0,
         2700.0,
         2,
         1.0
        ],
        [
         47.6,
         18.3,
         195.0,
         3850.0,
         2,
         1.0
        ],
        [
         48.1,
         16.4,
         199.0,
         3325.0,
         2,
         1.0
        ],
        [
         48.5,
         17.5,
         191.0,
         3400.0,
         2,
         1.0
        ],
        [
         49.0,
         19.6,
         212.0,
         4300.0,
         2,
         1.0
        ],
        [
         49.2,
         18.2,
         195.0,
         4400.0,
         2,
         1.0
        ],
        [
         49.7,
         18.6,
         195.0,
         3600.0,
         2,
         1.0
        ],
        [
         49.8,
         17.3,
         198.0,
         3675.0,
         2,
         1.0
        ],
        [
         50.1,
         17.9,
         190.0,
         3400.0,
         2,
         1.0
        ],
        [
         50.2,
         18.7,
         198.0,
         3775.0,
         2,
         1.0
        ],
        [
         50.2,
         18.8,
         202.0,
         3800.0,
         2,
         1.0
        ],
        [
         50.3,
         20.0,
         197.0,
         3300.0,
         2,
         1.0
        ],
        [
         50.5,
         18.4,
         200.0,
         3400.0,
         2,
         1.0
        ],
        [
         50.6,
         19.4,
         193.0,
         3800.0,
         2,
         1.0
        ],
        [
         50.9,
         19.1,
         196.0,
         3550.0,
         2,
         1.0
        ],
        [
         51.0,
         18.8,
         203.0,
         4100.0,
         2,
         1.0
        ],
        [
         51.3,
         18.2,
         197.0,
         3750.0,
         2,
         1.0
        ],
        [
         51.3,
         19.2,
         193.0,
         3650.0,
         2,
         1.0
        ],
        [
         51.4,
         19.0,
         201.0,
         3950.0,
         2,
         1.0
        ],
        [
         51.7,
         20.3,
         194.0,
         3775.0,
         2,
         1.0
        ],
        [
         51.9,
         19.5,
         206.0,
         3950.0,
         2,
         1.0
        ],
        [
         52.0,
         18.1,
         201.0,
         4050.0,
         2,
         1.0
        ],
        [
         52.0,
         20.7,
         210.0,
         4800.0,
         2,
         1.0
        ],
        [
         52.2,
         18.8,
         197.0,
         3450.0,
         2,
         1.0
        ],
        [
         52.7,
         19.8,
         197.0,
         3725.0,
         2,
         1.0
        ],
        [
         52.8,
         20.0,
         205.0,
         4550.0,
         2,
         1.0
        ],
        [
         53.5,
         19.9,
         205.0,
         4500.0,
         2,
         1.0
        ],
        [
         54.2,
         20.8,
         201.0,
         4300.0,
         2,
         1.0
        ],
        [
         55.8,
         19.8,
         207.0,
         4000.0,
         2,
         1.0
        ],
        [
         33.5,
         19.0,
         190.0,
         3600.0,
         0,
         2.0
        ],
        [
         34.1,
         18.1,
         193.0,
         3475.0,
         0,
         2.0
        ],
        [
         34.4,
         18.4,
         184.0,
         3325.0,
         0,
         2.0
        ],
        [
         34.6,
         17.2,
         189.0,
         3200.0,
         0,
         2.0
        ],
        [
         34.6,
         21.1,
         198.0,
         4400.0,
         0,
         2.0
        ],
        [
         35.1,
         19.4,
         193.0,
         4200.0,
         0,
         2.0
        ],
        [
         35.2,
         15.9,
         186.0,
         3050.0,
         0,
         2.0
        ],
        [
         35.5,
         17.5,
         190.0,
         3700.0,
         0,
         2.0
        ],
        [
         36.6,
         17.8,
         185.0,
         3700.0,
         0,
         2.0
        ],
        [
         36.7,
         18.8,
         187.0,
         3800.0,
         0,
         2.0
        ],
        [
         36.7,
         19.3,
         193.0,
         3450.0,
         0,
         2.0
        ],
        [
         37.2,
         19.4,
         184.0,
         3900.0,
         0,
         2.0
        ],
        [
         37.7,
         19.8,
         198.0,
         3500.0,
         0,
         2.0
        ],
        [
         37.8,
         17.3,
         180.0,
         3700.0,
         0,
         2.0
        ],
        [
         38.5,
         17.9,
         190.0,
         3325.0,
         0,
         2.0
        ],
        [
         38.6,
         21.2,
         191.0,
         3800.0,
         0,
         2.0
        ],
        [
         38.8,
         17.6,
         191.0,
         3275.0,
         0,
         2.0
        ],
        [
         39.0,
         17.1,
         191.0,
         3050.0,
         0,
         2.0
        ],
        [
         39.1,
         18.7,
         181.0,
         3750.0,
         0,
         2.0
        ],
        [
         39.2,
         19.6,
         195.0,
         4675.0,
         0,
         2.0
        ],
        [
         39.3,
         20.6,
         190.0,
         3650.0,
         0,
         2.0
        ],
        [
         39.5,
         17.4,
         186.0,
         3800.0,
         0,
         2.0
        ],
        [
         39.6,
         17.2,
         196.0,
         3550.0,
         0,
         2.0
        ],
        [
         39.7,
         18.4,
         190.0,
         3900.0,
         0,
         2.0
        ],
        [
         40.2,
         17.0,
         176.0,
         3450.0,
         0,
         2.0
        ],
        [
         41.4,
         18.5,
         202.0,
         3875.0,
         0,
         2.0
        ],
        [
         41.8,
         19.4,
         198.0,
         4450.0,
         0,
         2.0
        ],
        [
         42.0,
         20.2,
         190.0,
         4250.0,
         0,
         2.0
        ],
        [
         42.5,
         20.7,
         197.0,
         4500.0,
         0,
         2.0
        ],
        [
         42.8,
         18.5,
         195.0,
         4250.0,
         0,
         2.0
        ],
        [
         44.1,
         18.0,
         210.0,
         4000.0,
         0,
         2.0
        ],
        [
         46.0,
         21.5,
         194.0,
         4200.0,
         0,
         2.0
        ]
       ],
       "datasetInfos": [],
       "dbfsResultPath": null,
       "isJsonSchema": true,
       "metadata": {},
       "overflow": false,
       "plotOptions": {
        "customPlotOptions": {},
        "displayType": "table",
        "pivotAggregation": null,
        "pivotColumns": null,
        "xColumns": null,
        "yColumns": null
       },
       "removedWidgets": [],
       "schema": [
        {
         "metadata": "{}",
         "name": "CulmenLength",
         "type": "\"float\""
        },
        {
         "metadata": "{}",
         "name": "CulmenDepth",
         "type": "\"float\""
        },
        {
         "metadata": "{}",
         "name": "FlipperLength",
         "type": "\"float\""
        },
        {
         "metadata": "{}",
         "name": "BodyMass",
         "type": "\"float\""
        },
        {
         "metadata": "{}",
         "name": "Species",
         "type": "\"integer\""
        },
        {
         "metadata": "{\"ml_attr\":{\"vals\":[\"Biscoe\",\"Dream\",\"Torgersen\"],\"type\":\"nominal\",\"name\":\"IslandIdx\"}}",
         "name": "IslandIdx",
         "type": "\"double\""
        }
       ],
       "type": "table"
      }
     },
     "output_type": "display_data"
    }
   ],
   "source": [
    "from pyspark.ml.feature import StringIndexer\n",
    "\n",
    "indexer = StringIndexer(inputCol=\"Island\", outputCol=\"IslandIdx\")\n",
    "indexedData = indexer.fit(train).transform(train).drop(\"Island\")\n",
    "display(indexedData)"
   ]
  },
  {
   "cell_type": "code",
   "execution_count": 0,
   "metadata": {
    "application/vnd.databricks.v1+cell": {
     "cellMetadata": {
      "byteLimit": 2048000,
      "rowLimit": 10000
     },
     "inputWidgets": {},
     "nuid": "e0cc14cd-569b-4775-99ec-a58d2961a983",
     "showTitle": false,
     "title": ""
    }
   },
   "outputs": [
    {
     "output_type": "display_data",
     "data": {
      "text/html": [
       "<style scoped>\n",
       "  .table-result-container {\n",
       "    max-height: 300px;\n",
       "    overflow: auto;\n",
       "  }\n",
       "  table, th, td {\n",
       "    border: 1px solid black;\n",
       "    border-collapse: collapse;\n",
       "  }\n",
       "  th, td {\n",
       "    padding: 5px;\n",
       "  }\n",
       "  th {\n",
       "    text-align: left;\n",
       "  }\n",
       "</style><div class='table-result-container'><table class='table-result'><thead style='background-color: white'><tr><th>numericFeatures</th><th>normalizedFeatures</th></tr></thead><tbody><tr><td>Map(vectorType -> dense, length -> 4, values -> List(35.0, 17.899999618530273, 192.0, 3725.0))</td><td>Map(vectorType -> dense, length -> 4, values -> List(0.10545460094105114, 0.5662650242480307, 0.3214285714285714, 0.30597014925373134))</td></tr><tr><td>Map(vectorType -> dense, length -> 4, values -> List(35.29999923706055, 18.899999618530273, 187.0, 3800.0))</td><td>Map(vectorType -> dense, length -> 4, values -> List(0.1163636641068892, 0.6867469491901869, 0.23214285714285712, 0.3283582089552239))</td></tr><tr><td>Map(vectorType -> dense, length -> 4, values -> List(35.70000076293945, 16.899999618530273, 185.0, 3150.0))</td><td>Map(vectorType -> dense, length -> 4, values -> List(0.13090917413884942, 0.44578309930587445, 0.19642857142857142, 0.13432835820895522))</td></tr><tr><td>Map(vectorType -> dense, length -> 4, values -> List(35.900001525878906, 19.200000762939453, 189.0, 3800.0))</td><td>Map(vectorType -> dense, length -> 4, values -> List(0.13818192915482955, 0.7228916645534547, 0.26785714285714285, 0.3283582089552239))</td></tr><tr><td>Map(vectorType -> dense, length -> 4, values -> List(36.400001525878906, 17.100000381469727, 184.0, 2850.0))</td><td>Map(vectorType -> dense, length -> 4, values -> List(0.1563637473366477, 0.46987957621471965, 0.17857142857142855, 0.04477611940298507))</td></tr><tr><td>Map(vectorType -> dense, length -> 4, values -> List(36.5, 16.600000381469727, 181.0, 2850.0))</td><td>Map(vectorType -> dense, length -> 4, values -> List(0.16000005548650567, 0.4096386137436415, 0.125, 0.04477611940298507))</td></tr><tr><td>Map(vectorType -> dense, length -> 4, values -> List(37.599998474121094, 17.0, 185.0, 3600.0))</td><td>Map(vectorType -> dense, length -> 4, values -> List(0.19999999999999998, 0.45783133776029705, 0.19642857142857142, 0.26865671641791045))</td></tr><tr><td>Map(vectorType -> dense, length -> 4, values -> List(37.599998474121094, 19.100000381469727, 194.0, 3750.0))</td><td>Map(vectorType -> dense, length -> 4, values -> List(0.19999999999999998, 0.7108434260990321, 0.3571428571428571, 0.31343283582089554))</td></tr><tr><td>Map(vectorType -> dense, length -> 4, values -> List(37.70000076293945, 16.0, 183.0, 3075.0))</td><td>Map(vectorType -> dense, length -> 4, values -> List(0.20363644686612214, 0.33734941281814085, 0.1607142857142857, 0.11194029850746269))</td></tr><tr><td>Map(vectorType -> dense, length -> 4, values -> List(37.70000076293945, 18.700000762939453, 180.0, 3600.0))</td><td>Map(vectorType -> dense, length -> 4, values -> List(0.20363644686612214, 0.6626507020823765, 0.10714285714285714, 0.26865671641791045))</td></tr><tr><td>Map(vectorType -> dense, length -> 4, values -> List(37.79999923706055, 18.299999237060547, 174.0, 3400.0))</td><td>Map(vectorType -> dense, length -> 4, values -> List(0.2072727550159801, 0.6144577482646862, 0.0, 0.208955223880597))</td></tr><tr><td>Map(vectorType -> dense, length -> 4, values -> List(37.79999923706055, 20.0, 190.0, 4250.0))</td><td>Map(vectorType -> dense, length -> 4, values -> List(0.2072727550159801, 0.8192771125867657, 0.2857142857142857, 0.4626865671641791))</td></tr><tr><td>Map(vectorType -> dense, length -> 4, values -> List(37.900001525878906, 18.600000381469727, 193.0, 2925.0))</td><td>Map(vectorType -> dense, length -> 4, values -> List(0.21090920188210227, 0.6506024636279539, 0.33928571428571425, 0.06716417910447761))</td></tr><tr><td>Map(vectorType -> dense, length -> 4, values -> List(38.099998474121094, 17.0, 181.0, 3175.0))</td><td>Map(vectorType -> dense, length -> 4, values -> List(0.21818181818181817, 0.45783133776029705, 0.125, 0.1417910447761194))</td></tr><tr><td>Map(vectorType -> dense, length -> 4, values -> List(38.20000076293945, 18.100000381469727, 185.0, 3950.0))</td><td>Map(vectorType -> dense, length -> 4, values -> List(0.22181826504794033, 0.5903615011568758, 0.19642857142857142, 0.373134328358209))</td></tr><tr><td>Map(vectorType -> dense, length -> 4, values -> List(38.20000076293945, 20.0, 190.0, 3900.0))</td><td>Map(vectorType -> dense, length -> 4, values -> List(0.22181826504794033, 0.8192771125867657, 0.2857142857142857, 0.3582089552238806))</td></tr><tr><td>Map(vectorType -> dense, length -> 4, values -> List(38.79999923706055, 17.200000762939453, 180.0, 3800.0))</td><td>Map(vectorType -> dense, length -> 4, values -> List(0.24363639137961646, 0.48192781466914225, 0.10714285714285714, 0.3283582089552239))</td></tr><tr><td>Map(vectorType -> dense, length -> 4, values -> List(39.0, 17.5, 186.0, 3550.0))</td><td>Map(vectorType -> dense, length -> 4, values -> List(0.2509091463955966, 0.5180723002313752, 0.21428571428571427, 0.2537313432835821))</td></tr><tr><td>Map(vectorType -> dense, length -> 4, values -> List(39.599998474121094, 17.700000762939453, 186.0, 3500.0))</td><td>Map(vectorType -> dense, length -> 4, values -> List(0.2727272727272727, 0.5421687771402204, 0.21428571428571427, 0.23880597014925373))</td></tr><tr><td>Map(vectorType -> dense, length -> 4, values -> List(39.599998474121094, 20.700000762939453, 191.0, 3900.0))</td><td>Map(vectorType -> dense, length -> 4, values -> List(0.2727272727272727, 0.9036145519666889, 0.30357142857142855, 0.3582089552238806))</td></tr><tr><td>Map(vectorType -> dense, length -> 4, values -> List(39.70000076293945, 18.899999618530273, 184.0, 3550.0))</td><td>Map(vectorType -> dense, length -> 4, values -> List(0.2763637195933949, 0.6867469491901869, 0.17857142857142855, 0.2537313432835821))</td></tr><tr><td>Map(vectorType -> dense, length -> 4, values -> List(40.099998474121094, 18.899999618530273, 188.0, 4300.0))</td><td>Map(vectorType -> dense, length -> 4, values -> List(0.2909090909090909, 0.6867469491901869, 0.25, 0.47761194029850745))</td></tr><tr><td>Map(vectorType -> dense, length -> 4, values -> List(40.5, 18.899999618530273, 180.0, 3950.0))</td><td>Map(vectorType -> dense, length -> 4, values -> List(0.30545460094105115, 0.6867469491901869, 0.10714285714285714, 0.373134328358209))</td></tr><tr><td>Map(vectorType -> dense, length -> 4, values -> List(40.599998474121094, 18.600000381469727, 183.0, 3550.0))</td><td>Map(vectorType -> dense, length -> 4, values -> List(0.3090909090909091, 0.6506024636279539, 0.1607142857142857, 0.2537313432835821))</td></tr><tr><td>Map(vectorType -> dense, length -> 4, values -> List(40.599998474121094, 18.799999237060547, 193.0, 3800.0))</td><td>Map(vectorType -> dense, length -> 4, values -> List(0.3090909090909091, 0.6746987107357643, 0.33928571428571425, 0.3283582089552239))</td></tr><tr><td>Map(vectorType -> dense, length -> 4, values -> List(41.099998474121094, 19.100000381469727, 188.0, 4100.0))</td><td>Map(vectorType -> dense, length -> 4, values -> List(0.32727272727272727, 0.7108434260990321, 0.25, 0.417910447761194))</td></tr><tr><td>Map(vectorType -> dense, length -> 4, values -> List(41.29999923706055, 21.100000381469727, 195.0, 4400.0))</td><td>Map(vectorType -> dense, length -> 4, values -> List(0.3345454822887074, 0.9518072759833445, 0.375, 0.5074626865671642))</td></tr><tr><td>Map(vectorType -> dense, length -> 4, values -> List(41.400001525878906, 18.600000381469727, 191.0, 3700.0))</td><td>Map(vectorType -> dense, length -> 4, values -> List(0.33818192915482953, 0.6506024636279539, 0.30357142857142855, 0.2985074626865672))</td></tr><tr><td>Map(vectorType -> dense, length -> 4, values -> List(42.20000076293945, 19.5, 197.0, 4275.0))</td><td>Map(vectorType -> dense, length -> 4, values -> List(0.3672728105024858, 0.7590361501156876, 0.4107142857142857, 0.4701492537313433))</td></tr><tr><td>Map(vectorType -> dense, length -> 4, values -> List(42.70000076293945, 13.699999809265137, 208.0, 3950.0))</td><td>Map(vectorType -> dense, length -> 4, values -> List(0.38545462868430397, 0.0602409624710781, 0.6071428571428571, 0.373134328358209))</td></tr><tr><td>Map(vectorType -> dense, length -> 4, values -> List(42.79999923706055, 14.199999809265137, 209.0, 4700.0))</td><td>Map(vectorType -> dense, length -> 4, values -> List(0.3890909368341619, 0.1204819249421562, 0.625, 0.5970149253731344))</td></tr><tr><td>Map(vectorType -> dense, length -> 4, values -> List(43.20000076293945, 19.0, 197.0, 4775.0))</td><td>Map(vectorType -> dense, length -> 4, values -> List(0.40363644686612216, 0.6987951876446095, 0.4107142857142857, 0.6194029850746269))</td></tr><tr><td>Map(vectorType -> dense, length -> 4, values -> List(43.29999923706055, 14.0, 208.0, 4575.0))</td><td>Map(vectorType -> dense, length -> 4, values -> List(0.4072727550159801, 0.09638556293382844, 0.6071428571428571, 0.5597014925373134))</td></tr><tr><td>Map(vectorType -> dense, length -> 4, values -> List(43.400001525878906, 14.399999618530273, 218.0, 4600.0))</td><td>Map(vectorType -> dense, length -> 4, values -> List(0.4109092018821022, 0.14457828695048397, 0.7857142857142857, 0.5671641791044776))</td></tr><tr><td>Map(vectorType -> dense, length -> 4, values -> List(43.5, 14.199999809265137, 220.0, 4700.0))</td><td>Map(vectorType -> dense, length -> 4, values -> List(0.4145455100319602, 0.1204819249421562, 0.8214285714285714, 0.5970149253731344))</td></tr><tr><td>Map(vectorType -> dense, length -> 4, values -> List(43.5, 15.199999809265137, 213.0, 4650.0))</td><td>Map(vectorType -> dense, length -> 4, values -> List(0.4145455100319602, 0.2409638498843124, 0.6964285714285714, 0.582089552238806))</td></tr><tr><td>Map(vectorType -> dense, length -> 4, values -> List(43.599998474121094, 13.899999618530273, 217.0, 4900.0))</td><td>Map(vectorType -> dense, length -> 4, values -> List(0.41818181818181815, 0.08433732447940587, 0.7678571428571428, 0.6567164179104478))</td></tr><tr><td>Map(vectorType -> dense, length -> 4, values -> List(44.0, 13.600000381469727, 208.0, 4350.0))</td><td>Map(vectorType -> dense, length -> 4, values -> List(0.4327273282137784, 0.04819283891717293, 0.6071428571428571, 0.4925373134328358))</td></tr><tr><td>Map(vectorType -> dense, length -> 4, values -> List(44.400001525878906, 17.299999237060547, 219.0, 5250.0))</td><td>Map(vectorType -> dense, length -> 4, values -> List(0.4472728382457386, 0.49397582332253, 0.8035714285714285, 0.7611940298507462))</td></tr><tr><td>Map(vectorType -> dense, length -> 4, values -> List(44.5, 14.300000190734863, 216.0, 4100.0))</td><td>Map(vectorType -> dense, length -> 4, values -> List(0.4509091463955966, 0.13253016339657878, 0.75, 0.417910447761194))</td></tr><tr><td>Map(vectorType -> dense, length -> 4, values -> List(44.5, 14.699999809265137, 214.0, 4850.0))</td><td>Map(vectorType -> dense, length -> 4, values -> List(0.4509091463955966, 0.1807228874132343, 0.7142857142857142, 0.6417910447761194))</td></tr><tr><td>Map(vectorType -> dense, length -> 4, values -> List(44.5, 15.699999809265137, 217.0, 4875.0))</td><td>Map(vectorType -> dense, length -> 4, values -> List(0.4509091463955966, 0.30120481235539054, 0.7678571428571428, 0.6492537313432836))</td></tr><tr><td>Map(vectorType -> dense, length -> 4, values -> List(44.900001525878906, 13.300000190734863, 213.0, 5100.0))</td><td>Map(vectorType -> dense, length -> 4, values -> List(0.4654546564275568, 0.012048238454422584, 0.6964285714285714, 0.7164179104477612))</td></tr><tr><td>Map(vectorType -> dense, length -> 4, values -> List(45.0, 15.399999618530273, 220.0, 5050.0))</td><td>Map(vectorType -> dense, length -> 4, values -> List(0.4690909645774147, 0.2650602118926402, 0.8214285714285714, 0.7014925373134329))</td></tr><tr><td>Map(vectorType -> dense, length -> 4, values -> List(45.099998474121094, 14.5, 207.0, 5050.0))</td><td>Map(vectorType -> dense, length -> 4, values -> List(0.4727272727272727, 0.15662652540490654, 0.5892857142857143, 0.7014925373134329))</td></tr><tr><td>Map(vectorType -> dense, length -> 4, values -> List(45.099998474121094, 14.5, 215.0, 5000.0))</td><td>Map(vectorType -> dense, length -> 4, values -> List(0.4727272727272727, 0.15662652540490654, 0.7321428571428571, 0.6865671641791045))</td></tr><tr><td>Map(vectorType -> dense, length -> 4, values -> List(45.20000076293945, 13.800000190734863, 215.0, 4750.0))</td><td>Map(vectorType -> dense, length -> 4, values -> List(0.47636371959339485, 0.07228920092550069, 0.7321428571428571, 0.6119402985074627))</td></tr><tr><td>Map(vectorType -> dense, length -> 4, values -> List(45.20000076293945, 14.800000190734863, 212.0, 5200.0))</td><td>Map(vectorType -> dense, length -> 4, values -> List(0.47636371959339485, 0.19277112586765688, 0.6785714285714285, 0.746268656716418))</td></tr><tr><td>Map(vectorType -> dense, length -> 4, values -> List(45.20000076293945, 15.800000190734863, 215.0, 5300.0))</td><td>Map(vectorType -> dense, length -> 4, values -> List(0.47636371959339485, 0.3132530508098131, 0.7321428571428571, 0.7761194029850746))</td></tr><tr><td>Map(vectorType -> dense, length -> 4, values -> List(45.20000076293945, 16.399999618530273, 223.0, 5950.0))</td><td>Map(vectorType -> dense, length -> 4, values -> List(0.47636371959339485, 0.3855421368347964, 0.875, 0.9701492537313433))</td></tr><tr><td>Map(vectorType -> dense, length -> 4, values -> List(45.29999923706055, 13.699999809265137, 210.0, 4300.0))</td><td>Map(vectorType -> dense, length -> 4, values -> List(0.48000002774325284, 0.0602409624710781, 0.6428571428571428, 0.47761194029850745))</td></tr><tr><td>Map(vectorType -> dense, length -> 4, values -> List(45.29999923706055, 13.800000190734863, 208.0, 4200.0))</td><td>Map(vectorType -> dense, length -> 4, values -> List(0.48000002774325284, 0.07228920092550069, 0.6071428571428571, 0.44776119402985076))</td></tr><tr><td>Map(vectorType -> dense, length -> 4, values -> List(45.5, 13.699999809265137, 214.0, 4650.0))</td><td>Map(vectorType -> dense, length -> 4, values -> List(0.4872727827592329, 0.0602409624710781, 0.7142857142857142, 0.582089552238806))</td></tr><tr><td>Map(vectorType -> dense, length -> 4, values -> List(45.5, 13.899999618530273, 210.0, 4200.0))</td><td>Map(vectorType -> dense, length -> 4, values -> List(0.4872727827592329, 0.08433732447940587, 0.6428571428571428, 0.44776119402985076))</td></tr><tr><td>Map(vectorType -> dense, length -> 4, values -> List(45.5, 14.5, 212.0, 4750.0))</td><td>Map(vectorType -> dense, length -> 4, values -> List(0.4872727827592329, 0.15662652540490654, 0.6785714285714285, 0.6119402985074627))</td></tr><tr><td>Map(vectorType -> dense, length -> 4, values -> List(45.5, 15.0, 220.0, 5000.0))</td><td>Map(vectorType -> dense, length -> 4, values -> List(0.4872727827592329, 0.21686748787598464, 0.8214285714285714, 0.6865671641791045))</td></tr><tr><td>Map(vectorType -> dense, length -> 4, values -> List(45.599998474121094, 20.299999237060547, 191.0, 4600.0))</td><td>Map(vectorType -> dense, length -> 4, values -> List(0.4909090909090909, 0.8554215981489987, 0.30357142857142855, 0.5671641791044776))</td></tr><tr><td>Map(vectorType -> dense, length -> 4, values -> List(45.79999923706055, 14.600000381469727, 210.0, 4200.0))</td><td>Map(vectorType -> dense, length -> 4, values -> List(0.498181845925071, 0.16867476385932914, 0.6428571428571428, 0.44776119402985076))</td></tr><tr><td>Map(vectorType -> dense, length -> 4, values -> List(46.099998474121094, 13.199999809265137, 211.0, 4500.0))</td><td>Map(vectorType -> dense, length -> 4, values -> List(0.509090909090909, 0.0, 0.6607142857142857, 0.5373134328358209))</td></tr><tr><td>Map(vectorType -> dense, length -> 4, values -> List(46.099998474121094, 15.100000381469727, 215.0, 5100.0))</td><td>Map(vectorType -> dense, length -> 4, values -> List(0.509090909090909, 0.22891572633040724, 0.7321428571428571, 0.7164179104477612))</td></tr><tr><td>Map(vectorType -> dense, length -> 4, values -> List(46.20000076293945, 14.100000381469727, 217.0, 4375.0))</td><td>Map(vectorType -> dense, length -> 4, values -> List(0.5127273559570312, 0.10843380138825102, 0.7678571428571428, 0.5))</td></tr><tr><td>Map(vectorType -> dense, length -> 4, values -> List(46.20000076293945, 14.399999618530273, 214.0, 4650.0))</td><td>Map(vectorType -> dense, length -> 4, values -> List(0.5127273559570312, 0.14457828695048397, 0.7142857142857142, 0.582089552238806))</td></tr><tr><td>Map(vectorType -> dense, length -> 4, values -> List(46.20000076293945, 14.899999618530273, 221.0, 5300.0))</td><td>Map(vectorType -> dense, length -> 4, values -> List(0.5127273559570312, 0.20481924942156207, 0.8392857142857142, 0.7761194029850746))</td></tr><tr><td>Map(vectorType -> dense, length -> 4, values -> List(46.400001525878906, 15.0, 216.0, 4700.0))</td><td>Map(vectorType -> dense, length -> 4, values -> List(0.5200001109730114, 0.21686748787598464, 0.75, 0.5970149253731344))</td></tr><tr><td>Map(vectorType -> dense, length -> 4, values -> List(46.5, 13.5, 210.0, 4550.0))</td><td>Map(vectorType -> dense, length -> 4, values -> List(0.5236364191228693, 0.036144600462750344, 0.6428571428571428, 0.5522388059701493))</td></tr><tr><td>Map(vectorType -> dense, length -> 4, values -> List(46.5, 14.5, 213.0, 4400.0))</td><td>Map(vectorType -> dense, length -> 4, values -> List(0.5236364191228693, 0.15662652540490654, 0.6964285714285714, 0.5074626865671642))</td></tr><tr><td>Map(vectorType -> dense, length -> 4, values -> List(46.5, 14.800000190734863, 217.0, 5200.0))</td><td>Map(vectorType -> dense, length -> 4, values -> List(0.5236364191228693, 0.19277112586765688, 0.7678571428571428, 0.746268656716418))</td></tr><tr><td>Map(vectorType -> dense, length -> 4, values -> List(46.599998474121094, 14.199999809265137, 210.0, 4850.0))</td><td>Map(vectorType -> dense, length -> 4, values -> List(0.5272727272727272, 0.1204819249421562, 0.6428571428571428, 0.6417910447761194))</td></tr><tr><td>Map(vectorType -> dense, length -> 4, values -> List(46.70000076293945, 15.300000190734863, 219.0, 5200.0))</td><td>Map(vectorType -> dense, length -> 4, values -> List(0.5309091741388494, 0.253012088338735, 0.8035714285714285, 0.746268656716418))</td></tr><tr><td>Map(vectorType -> dense, length -> 4, values -> List(46.79999923706055, 14.300000190734863, 215.0, 4850.0))</td><td>Map(vectorType -> dense, length -> 4, values -> List(0.5345454822887074, 0.13253016339657878, 0.7321428571428571, 0.6417910447761194))</td></tr><tr><td>Map(vectorType -> dense, length -> 4, values -> List(46.79999923706055, 15.399999618530273, 215.0, 5150.0))</td><td>Map(vectorType -> dense, length -> 4, values -> List(0.5345454822887074, 0.2650602118926402, 0.7321428571428571, 0.7313432835820896))</td></tr><tr><td>Map(vectorType -> dense, length -> 4, values -> List(46.79999923706055, 16.100000381469727, 215.0, 5500.0))</td><td>Map(vectorType -> dense, length -> 4, values -> List(0.5345454822887074, 0.34939765127256345, 0.7321428571428571, 0.835820895522388))</td></tr><tr><td>Map(vectorType -> dense, length -> 4, values -> List(47.20000076293945, 13.699999809265137, 214.0, 4925.0))</td><td>Map(vectorType -> dense, length -> 4, values -> List(0.5490909923206676, 0.0602409624710781, 0.7142857142857142, 0.664179104477612))</td></tr><tr><td>Map(vectorType -> dense, length -> 4, values -> List(47.29999923706055, 13.800000190734863, 216.0, 4725.0))</td><td>Map(vectorType -> dense, length -> 4, values -> List(0.5527273004705255, 0.07228920092550069, 0.75, 0.6044776119402985))</td></tr><tr><td>Map(vectorType -> dense, length -> 4, values -> List(47.400001525878906, 14.600000381469727, 212.0, 4725.0))</td><td>Map(vectorType -> dense, length -> 4, values -> List(0.5563637473366477, 0.16867476385932914, 0.6785714285714285, 0.6044776119402985))</td></tr><tr><td>Map(vectorType -> dense, length -> 4, values -> List(47.5, 14.0, 212.0, 4875.0))</td><td>Map(vectorType -> dense, length -> 4, values -> List(0.5600000554865057, 0.09638556293382844, 0.6785714285714285, 0.6492537313432836))</td></tr><tr><td>Map(vectorType -> dense, length -> 4, values -> List(47.5, 14.199999809265137, 209.0, 4600.0))</td><td>Map(vectorType -> dense, length -> 4, values -> List(0.5600000554865057, 0.1204819249421562, 0.625, 0.5671641791044776))</td></tr><tr><td>Map(vectorType -> dense, length -> 4, values -> List(47.599998474121094, 14.5, 215.0, 5400.0))</td><td>Map(vectorType -> dense, length -> 4, values -> List(0.5636363636363636, 0.15662652540490654, 0.7321428571428571, 0.8059701492537313))</td></tr><tr><td>Map(vectorType -> dense, length -> 4, values -> List(47.79999923706055, 15.0, 215.0, 5650.0))</td><td>Map(vectorType -> dense, length -> 4, values -> List(0.5709091186523437, 0.21686748787598464, 0.7321428571428571, 0.8805970149253731))</td></tr><tr><td>Map(vectorType -> dense, length -> 4, values -> List(48.099998474121094, 15.100000381469727, 209.0, 5500.0))</td><td>Map(vectorType -> dense, length -> 4, values -> List(0.5818181818181818, 0.22891572633040724, 0.625, 0.835820895522388))</td></tr><tr><td>Map(vectorType -> dense, length -> 4, values -> List(48.20000076293945, 14.300000190734863, 210.0, 4600.0))</td><td>Map(vectorType -> dense, length -> 4, values -> List(0.585454628684304, 0.13253016339657878, 0.6428571428571428, 0.5671641791044776))</td></tr><tr><td>Map(vectorType -> dense, length -> 4, values -> List(48.20000076293945, 15.600000381469727, 221.0, 5100.0))</td><td>Map(vectorType -> dense, length -> 4, values -> List(0.585454628684304, 0.2891566888014853, 0.8392857142857142, 0.7164179104477612))</td></tr><tr><td>Map(vectorType -> dense, length -> 4, values -> List(48.400001525878906, 14.399999618530273, 203.0, 4625.0))</td><td>Map(vectorType -> dense, length -> 4, values -> List(0.5927273837002841, 0.14457828695048397, 0.5178571428571428, 0.5746268656716418))</td></tr><tr><td>Map(vectorType -> dense, length -> 4, values -> List(48.400001525878906, 14.600000381469727, 213.0, 5850.0))</td><td>Map(vectorType -> dense, length -> 4, values -> List(0.5927273837002841, 0.16867476385932914, 0.6964285714285714, 0.9402985074626866))</td></tr><tr><td>Map(vectorType -> dense, length -> 4, values -> List(48.400001525878906, 16.299999237060547, 220.0, 5400.0))</td><td>Map(vectorType -> dense, length -> 4, values -> List(0.5927273837002841, 0.3734938983803738, 0.8214285714285714, 0.8059701492537313))</td></tr><tr><td>Map(vectorType -> dense, length -> 4, values -> List(48.5, 14.100000381469727, 220.0, 5300.0))</td><td>Map(vectorType -> dense, length -> 4, values -> List(0.596363691850142, 0.10843380138825102, 0.8214285714285714, 0.7761194029850746))</td></tr><tr><td>Map(vectorType -> dense, length -> 4, values -> List(48.5, 15.0, 219.0, 4850.0))</td><td>Map(vectorType -> dense, length -> 4, values -> List(0.596363691850142, 0.21686748787598464, 0.8035714285714285, 0.6417910447761194))</td></tr><tr><td>Map(vectorType -> dense, length -> 4, values -> List(48.70000076293945, 14.100000381469727, 210.0, 4450.0))</td><td>Map(vectorType -> dense, length -> 4, values -> List(0.6036364468661222, 0.10843380138825102, 0.6428571428571428, 0.5223880597014925))</td></tr><tr><td>Map(vectorType -> dense, length -> 4, values -> List(48.70000076293945, 15.100000381469727, 222.0, 5350.0))</td><td>Map(vectorType -> dense, length -> 4, values -> List(0.6036364468661222, 0.22891572633040724, 0.8571428571428571, 0.791044776119403))</td></tr><tr><td>Map(vectorType -> dense, length -> 4, values -> List(48.70000076293945, 15.699999809265137, 208.0, 5350.0))</td><td>Map(vectorType -> dense, length -> 4, values -> List(0.6036364468661222, 0.30120481235539054, 0.6071428571428571, 0.791044776119403))</td></tr><tr><td>Map(vectorType -> dense, length -> 4, values -> List(48.79999923706055, 16.200000762939453, 222.0, 6000.0))</td><td>Map(vectorType -> dense, length -> 4, values -> List(0.6072727550159801, 0.36144588972698605, 0.8571428571428571, 0.9850746268656716))</td></tr><tr><td>Map(vectorType -> dense, length -> 4, values -> List(49.0, 16.100000381469727, 216.0, 5550.0))</td><td>Map(vectorType -> dense, length -> 4, values -> List(0.6145455100319602, 0.34939765127256345, 0.75, 0.8507462686567164))</td></tr><tr><td>Map(vectorType -> dense, length -> 4, values -> List(49.099998474121094, 14.5, 212.0, 4625.0))</td><td>Map(vectorType -> dense, length -> 4, values -> List(0.6181818181818182, 0.15662652540490654, 0.6785714285714285, 0.5746268656716418))</td></tr><tr><td>Map(vectorType -> dense, length -> 4, values -> List(49.099998474121094, 14.800000190734863, 220.0, 5150.0))</td><td>Map(vectorType -> dense, length -> 4, values -> List(0.6181818181818182, 0.19277112586765688, 0.8214285714285714, 0.7313432835820896))</td></tr><tr><td>Map(vectorType -> dense, length -> 4, values -> List(49.099998474121094, 15.0, 228.0, 5500.0))</td><td>Map(vectorType -> dense, length -> 4, values -> List(0.6181818181818182, 0.21686748787598464, 0.9642857142857142, 0.835820895522388))</td></tr><tr><td>Map(vectorType -> dense, length -> 4, values -> List(49.29999923706055, 15.699999809265137, 217.0, 5850.0))</td><td>Map(vectorType -> dense, length -> 4, values -> List(0.6254545731977983, 0.30120481235539054, 0.7678571428571428, 0.9402985074626866))</td></tr><tr><td>Map(vectorType -> dense, length -> 4, values -> List(49.5, 16.100000381469727, 224.0, 5650.0))</td><td>Map(vectorType -> dense, length -> 4, values -> List(0.6327273282137784, 0.34939765127256345, 0.8928571428571428, 0.8805970149253731))</td></tr><tr><td>Map(vectorType -> dense, length -> 4, values -> List(49.5, 16.200000762939453, 229.0, 5800.0))</td><td>Map(vectorType -> dense, length -> 4, values -> List(0.6327273282137784, 0.36144588972698605, 0.9821428571428571, 0.9253731343283582))</td></tr><tr><td>Map(vectorType -> dense, length -> 4, values -> List(49.599998474121094, 16.0, 225.0, 5700.0))</td><td>Map(vectorType -> dense, length -> 4, values -> List(0.6363636363636364, 0.33734941281814085, 0.9107142857142857, 0.8955223880597015))</td></tr><tr><td>Map(vectorType -> dense, length -> 4, values -> List(49.79999923706055, 15.899999618530273, 229.0, 5950.0))</td><td>Map(vectorType -> dense, length -> 4, values -> List(0.6436363913796165, 0.32530117436371825, 0.9821428571428571, 0.9701492537313433))</td></tr><tr><td>Map(vectorType -> dense, length -> 4, values -> List(49.79999923706055, 16.799999237060547, 230.0, 5700.0))</td><td>Map(vectorType -> dense, length -> 4, values -> List(0.6436363913796165, 0.4337348608514519, 1.0, 0.8955223880597015))</td></tr><tr><td>Map(vectorType -> dense, length -> 4, values -> List(50.0, 15.199999809265137, 218.0, 5700.0))</td><td>Map(vectorType -> dense, length -> 4, values -> List(0.6509091463955966, 0.2409638498843124, 0.7857142857142857, 0.8955223880597015))</td></tr><tr><td>Map(vectorType -> dense, length -> 4, values -> List(50.0, 15.300000190734863, 220.0, 5550.0))</td><td>Map(vectorType -> dense, length -> 4, values -> List(0.6509091463955966, 0.253012088338735, 0.8214285714285714, 0.8507462686567164))</td></tr><tr><td>Map(vectorType -> dense, length -> 4, values -> List(50.0, 15.899999618530273, 224.0, 5350.0))</td><td>Map(vectorType -> dense, length -> 4, values -> List(0.6509091463955966, 0.32530117436371825, 0.8928571428571428, 0.791044776119403))</td></tr><tr><td>Map(vectorType -> dense, length -> 4, values -> List(50.0, 16.299999237060547, 230.0, 5700.0))</td><td>Map(vectorType -> dense, length -> 4, values -> List(0.6509091463955966, 0.3734938983803738, 1.0, 0.8955223880597015))</td></tr><tr><td>Map(vectorType -> dense, length -> 4, values -> List(50.20000076293945, 14.300000190734863, 218.0, 5700.0))</td><td>Map(vectorType -> dense, length -> 4, values -> List(0.6581819014115766, 0.13253016339657878, 0.7857142857142857, 0.8955223880597015))</td></tr><tr><td>Map(vectorType -> dense, length -> 4, values -> List(50.400001525878906, 15.699999809265137, 222.0, 5750.0))</td><td>Map(vectorType -> dense, length -> 4, values -> List(0.6654546564275567, 0.30120481235539054, 0.8571428571428571, 0.9104477611940298))</td></tr><tr><td>Map(vectorType -> dense, length -> 4, values -> List(50.5, 15.899999618530273, 222.0, 5550.0))</td><td>Map(vectorType -> dense, length -> 4, values -> List(0.6690909645774148, 0.32530117436371825, 0.8571428571428571, 0.8507462686567164))</td></tr><tr><td>Map(vectorType -> dense, length -> 4, values -> List(50.70000076293945, 15.0, 223.0, 5550.0))</td><td>Map(vectorType -> dense, length -> 4, values -> List(0.6763637195933948, 0.21686748787598464, 0.875, 0.8507462686567164))</td></tr><tr><td>Map(vectorType -> dense, length -> 4, values -> List(50.79999923706055, 15.699999809265137, 226.0, 5200.0))</td><td>Map(vectorType -> dense, length -> 4, values -> List(0.6800000277432529, 0.30120481235539054, 0.9285714285714285, 0.746268656716418))</td></tr><tr><td>Map(vectorType -> dense, length -> 4, values -> List(51.099998474121094, 16.299999237060547, 220.0, 6000.0))</td><td>Map(vectorType -> dense, length -> 4, values -> List(0.6909090909090909, 0.3734938983803738, 0.8214285714285714, 0.9850746268656716))</td></tr><tr><td>Map(vectorType -> dense, length -> 4, values -> List(51.099998474121094, 16.5, 225.0, 5250.0))</td><td>Map(vectorType -> dense, length -> 4, values -> List(0.6909090909090909, 0.397590375289219, 0.9107142857142857, 0.7611940298507462))</td></tr><tr><td>Map(vectorType -> dense, length -> 4, values -> List(51.29999923706055, 14.199999809265137, 218.0, 5300.0))</td><td>Map(vectorType -> dense, length -> 4, values -> List(0.698181845925071, 0.1204819249421562, 0.7857142857142857, 0.7761194029850746))</td></tr><tr><td>Map(vectorType -> dense, length -> 4, values -> List(51.5, 16.299999237060547, 230.0, 5500.0))</td><td>Map(vectorType -> dense, length -> 4, values -> List(0.7054546009410511, 0.3734938983803738, 1.0, 0.835820895522388))</td></tr><tr><td>Map(vectorType -> dense, length -> 4, values -> List(52.20000076293945, 17.100000381469727, 228.0, 5400.0))</td><td>Map(vectorType -> dense, length -> 4, values -> List(0.7309091741388494, 0.46987957621471965, 0.9642857142857142, 0.8059701492537313))</td></tr><tr><td>Map(vectorType -> dense, length -> 4, values -> List(52.5, 15.600000381469727, 221.0, 5450.0))</td><td>Map(vectorType -> dense, length -> 4, values -> List(0.7418182373046874, 0.2891566888014853, 0.8392857142857142, 0.8208955223880597))</td></tr><tr><td>Map(vectorType -> dense, length -> 4, values -> List(53.400001525878906, 15.800000190734863, 219.0, 5500.0))</td><td>Map(vectorType -> dense, length -> 4, values -> List(0.7745455655184659, 0.3132530508098131, 0.8035714285714285, 0.835820895522388))</td></tr><tr><td>Map(vectorType -> dense, length -> 4, values -> List(55.900001525878906, 17.0, 228.0, 5600.0))</td><td>Map(vectorType -> dense, length -> 4, values -> List(0.8654546564275568, 0.45783133776029705, 0.9642857142857142, 0.8656716417910448))</td></tr><tr><td>Map(vectorType -> dense, length -> 4, values -> List(59.599998474121094, 17.0, 230.0, 6050.0))</td><td>Map(vectorType -> dense, length -> 4, values -> List(1.0, 0.45783133776029705, 1.0, 1.0))</td></tr><tr><td>Map(vectorType -> dense, length -> 4, values -> List(32.099998474121094, 15.5, 188.0, 3050.0))</td><td>Map(vectorType -> dense, length -> 4, values -> List(0.0, 0.2771084503470628, 0.25, 0.1044776119402985))</td></tr><tr><td>Map(vectorType -> dense, length -> 4, values -> List(33.099998474121094, 16.100000381469727, 178.0, 2900.0))</td><td>Map(vectorType -> dense, length -> 4, values -> List(0.03636363636363636, 0.34939765127256345, 0.07142857142857142, 0.05970149253731343))</td></tr><tr><td>Map(vectorType -> dense, length -> 4, values -> List(35.70000076293945, 18.0, 202.0, 3550.0))</td><td>Map(vectorType -> dense, length -> 4, values -> List(0.13090917413884942, 0.5783132627024533, 0.5, 0.2537313432835821))</td></tr><tr><td>Map(vectorType -> dense, length -> 4, values -> List(36.0, 17.100000381469727, 187.0, 3700.0))</td><td>Map(vectorType -> dense, length -> 4, values -> List(0.14181823730468748, 0.46987957621471965, 0.23214285714285712, 0.2985074626865672))</td></tr><tr><td>Map(vectorType -> dense, length -> 4, values -> List(36.0, 17.799999237060547, 195.0, 3450.0))</td><td>Map(vectorType -> dense, length -> 4, values -> List(0.14181823730468748, 0.5542167857936081, 0.375, 0.22388059701492538))</td></tr><tr><td>Map(vectorType -> dense, length -> 4, values -> List(36.0, 17.899999618530273, 190.0, 3450.0))</td><td>Map(vectorType -> dense, length -> 4, values -> List(0.14181823730468748, 0.5662650242480307, 0.2857142857142857, 0.22388059701492538))</td></tr><tr><td>Map(vectorType -> dense, length -> 4, values -> List(36.0, 18.5, 186.0, 3100.0))</td><td>Map(vectorType -> dense, length -> 4, values -> List(0.14181823730468748, 0.6385542251735313, 0.21428571428571427, 0.11940298507462686))</td></tr><tr><td>Map(vectorType -> dense, length -> 4, values -> List(36.599998474121094, 18.399999618530273, 184.0, 3475.0))</td><td>Map(vectorType -> dense, length -> 4, values -> List(0.16363636363636364, 0.6265059867191087, 0.17857142857142855, 0.23134328358208955))</td></tr><tr><td>Map(vectorType -> dense, length -> 4, values -> List(36.79999923706055, 18.5, 193.0, 3500.0))</td><td>Map(vectorType -> dense, length -> 4, values -> List(0.17090911865234373, 0.6385542251735313, 0.33928571428571425, 0.23880597014925373))</td></tr><tr><td>Map(vectorType -> dense, length -> 4, values -> List(36.900001525878906, 18.600000381469727, 189.0, 3500.0))</td><td>Map(vectorType -> dense, length -> 4, values -> List(0.1745455655184659, 0.6506024636279539, 0.26785714285714285, 0.23880597014925373))</td></tr><tr><td>Map(vectorType -> dense, length -> 4, values -> List(37.0, 16.899999618530273, 185.0, 3000.0))</td><td>Map(vectorType -> dense, length -> 4, values -> List(0.17818187366832386, 0.44578309930587445, 0.19642857142857142, 0.08955223880597014))</td></tr><tr><td>Map(vectorType -> dense, length -> 4, values -> List(37.20000076293945, 18.100000381469727, 178.0, 3900.0))</td><td>Map(vectorType -> dense, length -> 4, values -> List(0.18545462868430396, 0.5903615011568758, 0.07142857142857142, 0.3582089552238806))</td></tr><tr><td>Map(vectorType -> dense, length -> 4, values -> List(37.29999923706055, 16.799999237060547, 192.0, 3000.0))</td><td>Map(vectorType -> dense, length -> 4, values -> List(0.18909093683416192, 0.4337348608514519, 0.3214285714285714, 0.08955223880597014))</td></tr><tr><td>Map(vectorType -> dense, length -> 4, values -> List(37.29999923706055, 17.799999237060547, 191.0, 3350.0))</td><td>Map(vectorType -> dense, length -> 4, values -> List(0.18909093683416192, 0.5542167857936081, 0.30357142857142855, 0.19402985074626866))</td></tr><tr><td>Map(vectorType -> dense, length -> 4, values -> List(37.5, 18.5, 199.0, 4475.0))</td><td>Map(vectorType -> dense, length -> 4, values -> List(0.19636369185014205, 0.6385542251735313, 0.4464285714285714, 0.5298507462686567))</td></tr><tr><td>Map(vectorType -> dense, length -> 4, values -> List(37.5, 18.899999618530273, 179.0, 2975.0))</td><td>Map(vectorType -> dense, length -> 4, values -> List(0.19636369185014205, 0.6867469491901869, 0.08928571428571427, 0.08208955223880597))</td></tr><tr><td>Map(vectorType -> dense, length -> 4, values -> List(37.599998474121094, 19.299999237060547, 181.0, 3300.0))</td><td>Map(vectorType -> dense, length -> 4, values -> List(0.19999999999999998, 0.7349396732068424, 0.125, 0.1791044776119403))</td></tr><tr><td>Map(vectorType -> dense, length -> 4, values -> List(37.79999923706055, 18.100000381469727, 193.0, 3750.0))</td><td>Map(vectorType -> dense, length -> 4, values -> List(0.2072727550159801, 0.5903615011568758, 0.33928571428571425, 0.31343283582089554))</td></tr><tr><td>Map(vectorType -> dense, length -> 4, values -> List(38.099998474121094, 17.600000381469727, 187.0, 3425.0))</td><td>Map(vectorType -> dense, length -> 4, values -> List(0.21818181818181817, 0.5301205386857978, 0.23214285714285712, 0.2164179104477612))</td></tr><tr><td>Map(vectorType -> dense, length -> 4, values -> List(38.29999923706055, 19.200000762939453, 189.0, 3950.0))</td><td>Map(vectorType -> dense, length -> 4, values -> List(0.2254545731977983, 0.7228916645534547, 0.26785714285714285, 0.373134328358209))</td></tr><tr><td>Map(vectorType -> dense, length -> 4, values -> List(38.79999923706055, 20.0, 190.0, 3950.0))</td><td>Map(vectorType -> dense, length -> 4, values -> List(0.24363639137961646, 0.8192771125867657, 0.2857142857142857, 0.373134328358209))</td></tr><tr><td>Map(vectorType -> dense, length -> 4, values -> List(39.20000076293945, 21.100000381469727, 196.0, 4150.0))</td><td>Map(vectorType -> dense, length -> 4, values -> List(0.2581819014115767, 0.9518072759833445, 0.39285714285714285, 0.4328358208955224))</td></tr><tr><td>Map(vectorType -> dense, length -> 4, values -> List(39.5, 17.799999237060547, 188.0, 3300.0))</td><td>Map(vectorType -> dense, length -> 4, values -> List(0.26909096457741477, 0.5542167857936081, 0.25, 0.1791044776119403))</td></tr><tr><td>Map(vectorType -> dense, length -> 4, values -> List(39.599998474121094, 18.799999237060547, 190.0, 4600.0))</td><td>Map(vectorType -> dense, length -> 4, values -> List(0.2727272727272727, 0.6746987107357643, 0.2857142857142857, 0.5671641791044776))</td></tr><tr><td>Map(vectorType -> dense, length -> 4, values -> List(39.79999923706055, 19.100000381469727, 184.0, 4650.0))</td><td>Map(vectorType -> dense, length -> 4, values -> List(0.28000002774325283, 0.7108434260990321, 0.17857142857142855, 0.582089552238806))</td></tr><tr><td>Map(vectorType -> dense, length -> 4, values -> List(40.29999923706055, 18.5, 196.0, 4350.0))</td><td>Map(vectorType -> dense, length -> 4, values -> List(0.298181845925071, 0.6385542251735313, 0.39285714285714285, 0.4925373134328358))</td></tr><tr><td>Map(vectorType -> dense, length -> 4, values -> List(40.599998474121094, 17.200000762939453, 187.0, 3475.0))</td><td>Map(vectorType -> dense, length -> 4, values -> List(0.3090909090909091, 0.48192781466914225, 0.23214285714285712, 0.23134328358208955))</td></tr><tr><td>Map(vectorType -> dense, length -> 4, values -> List(40.70000076293945, 17.0, 190.0, 3725.0))</td><td>Map(vectorType -> dense, length -> 4, values -> List(0.3127273559570312, 0.45783133776029705, 0.2857142857142857, 0.30597014925373134))</td></tr><tr><td>Map(vectorType -> dense, length -> 4, values -> List(40.79999923706055, 18.399999618530273, 195.0, 3900.0))</td><td>Map(vectorType -> dense, length -> 4, values -> List(0.3163636641068892, 0.6265059867191087, 0.375, 0.3582089552238806))</td></tr><tr><td>Map(vectorType -> dense, length -> 4, values -> List(40.79999923706055, 18.899999618530273, 208.0, 4300.0))</td><td>Map(vectorType -> dense, length -> 4, values -> List(0.3163636641068892, 0.6867469491901869, 0.6071428571428571, 0.47761194029850745))</td></tr><tr><td>Map(vectorType -> dense, length -> 4, values -> List(40.900001525878906, 16.600000381469727, 187.0, 3200.0))</td><td>Map(vectorType -> dense, length -> 4, values -> List(0.32000011097301134, 0.4096386137436415, 0.23214285714285712, 0.1492537313432836))</td></tr><tr><td>Map(vectorType -> dense, length -> 4, values -> List(40.900001525878906, 18.899999618530273, 184.0, 3900.0))</td><td>Map(vectorType -> dense, length -> 4, values -> List(0.32000011097301134, 0.6867469491901869, 0.17857142857142855, 0.3582089552238806))</td></tr><tr><td>Map(vectorType -> dense, length -> 4, values -> List(41.099998474121094, 17.5, 190.0, 3900.0))</td><td>Map(vectorType -> dense, length -> 4, values -> List(0.32727272727272727, 0.5180723002313752, 0.2857142857142857, 0.3582089552238806))</td></tr><tr><td>Map(vectorType -> dense, length -> 4, values -> List(41.099998474121094, 18.100000381469727, 205.0, 4300.0))</td><td>Map(vectorType -> dense, length -> 4, values -> List(0.32727272727272727, 0.5903615011568758, 0.5535714285714285, 0.47761194029850745))</td></tr><tr><td>Map(vectorType -> dense, length -> 4, values -> List(41.099998474121094, 19.0, 182.0, 3425.0))</td><td>Map(vectorType -> dense, length -> 4, values -> List(0.32727272727272727, 0.6987951876446095, 0.14285714285714285, 0.2164179104477612))</td></tr><tr><td>Map(vectorType -> dense, length -> 4, values -> List(41.29999923706055, 20.299999237060547, 194.0, 3550.0))</td><td>Map(vectorType -> dense, length -> 4, values -> List(0.3345454822887074, 0.8554215981489987, 0.3571428571428571, 0.2537313432835821))</td></tr><tr><td>Map(vectorType -> dense, length -> 4, values -> List(41.5, 18.5, 201.0, 4000.0))</td><td>Map(vectorType -> dense, length -> 4, values -> List(0.34181823730468747, 0.6385542251735313, 0.4821428571428571, 0.3880597014925373))</td></tr><tr><td>Map(vectorType -> dense, length -> 4, values -> List(42.20000076293945, 18.5, 180.0, 3550.0))</td><td>Map(vectorType -> dense, length -> 4, values -> List(0.3672728105024858, 0.6385542251735313, 0.10714285714285714, 0.2537313432835821))</td></tr><tr><td>Map(vectorType -> dense, length -> 4, values -> List(42.5, 16.700000762939453, 187.0, 3350.0))</td><td>Map(vectorType -> dense, length -> 4, values -> List(0.37818187366832384, 0.4216868521980641, 0.23214285714285712, 0.19402985074626866))</td></tr><tr><td>Map(vectorType -> dense, length -> 4, values -> List(42.5, 17.299999237060547, 187.0, 3350.0))</td><td>Map(vectorType -> dense, length -> 4, values -> List(0.37818187366832384, 0.49397582332253, 0.23214285714285712, 0.19402985074626866))</td></tr><tr><td>Map(vectorType -> dense, length -> 4, values -> List(43.20000076293945, 18.5, 192.0, 4100.0))</td><td>Map(vectorType -> dense, length -> 4, values -> List(0.40363644686612216, 0.6385542251735313, 0.3214285714285714, 0.417910447761194))</td></tr><tr><td>Map(vectorType -> dense, length -> 4, values -> List(44.099998474121094, 19.700000762939453, 196.0, 4400.0))</td><td>Map(vectorType -> dense, length -> 4, values -> List(0.43636363636363634, 0.7831326270245328, 0.39285714285714285, 0.5074626865671642))</td></tr><tr><td>Map(vectorType -> dense, length -> 4, values -> List(45.20000076293945, 17.799999237060547, 198.0, 3950.0))</td><td>Map(vectorType -> dense, length -> 4, values -> List(0.47636371959339485, 0.5542167857936081, 0.42857142857142855, 0.373134328358209))</td></tr><tr><td>Map(vectorType -> dense, length -> 4, values -> List(45.400001525878906, 18.700000762939453, 188.0, 3525.0))</td><td>Map(vectorType -> dense, length -> 4, values -> List(0.483636474609375, 0.6626507020823765, 0.25, 0.2462686567164179))</td></tr><tr><td>Map(vectorType -> dense, length -> 4, values -> List(45.599998474121094, 19.399999618530273, 194.0, 3525.0))</td><td>Map(vectorType -> dense, length -> 4, values -> List(0.4909090909090909, 0.746987911661265, 0.3571428571428571, 0.2462686567164179))</td></tr><tr><td>Map(vectorType -> dense, length -> 4, values -> List(45.70000076293945, 17.299999237060547, 193.0, 3600.0))</td><td>Map(vectorType -> dense, length -> 4, values -> List(0.49454553777521304, 0.49397582332253, 0.33928571428571425, 0.26865671641791045))</td></tr><tr><td>Map(vectorType -> dense, length -> 4, values -> List(45.900001525878906, 17.100000381469727, 190.0, 3575.0))</td><td>Map(vectorType -> dense, length -> 4, values -> List(0.5018182927911932, 0.46987957621471965, 0.2857142857142857, 0.26119402985074625))</td></tr><tr><td>Map(vectorType -> dense, length -> 4, values -> List(46.0, 18.899999618530273, 195.0, 4150.0))</td><td>Map(vectorType -> dense, length -> 4, values -> List(0.5054546009410511, 0.6867469491901869, 0.375, 0.4328358208955224))</td></tr><tr><td>Map(vectorType -> dense, length -> 4, values -> List(46.099998474121094, 18.200000762939453, 178.0, 3250.0))</td><td>Map(vectorType -> dense, length -> 4, values -> List(0.509090909090909, 0.6024097396112984, 0.07142857142857142, 0.16417910447761194))</td></tr><tr><td>Map(vectorType -> dense, length -> 4, values -> List(46.20000076293945, 17.5, 187.0, 3650.0))</td><td>Map(vectorType -> dense, length -> 4, values -> List(0.5127273559570312, 0.5180723002313752, 0.23214285714285712, 0.2835820895522388))</td></tr><tr><td>Map(vectorType -> dense, length -> 4, values -> List(46.400001525878906, 17.799999237060547, 191.0, 3700.0))</td><td>Map(vectorType -> dense, length -> 4, values -> List(0.5200001109730114, 0.5542167857936081, 0.30357142857142855, 0.2985074626865672))</td></tr><tr><td>Map(vectorType -> dense, length -> 4, values -> List(46.5, 17.899999618530273, 192.0, 3500.0))</td><td>Map(vectorType -> dense, length -> 4, values -> List(0.5236364191228693, 0.5662650242480307, 0.3214285714285714, 0.23880597014925373))</td></tr><tr><td>Map(vectorType -> dense, length -> 4, values -> List(46.599998474121094, 17.799999237060547, 193.0, 3800.0))</td><td>Map(vectorType -> dense, length -> 4, values -> List(0.5272727272727272, 0.5542167857936081, 0.33928571428571425, 0.3283582089552239))</td></tr><tr><td>Map(vectorType -> dense, length -> 4, values -> List(46.70000076293945, 17.899999618530273, 195.0, 3300.0))</td><td>Map(vectorType -> dense, length -> 4, values -> List(0.5309091741388494, 0.5662650242480307, 0.375, 0.1791044776119403))</td></tr><tr><td>Map(vectorType -> dense, length -> 4, values -> List(46.79999923706055, 16.5, 189.0, 3650.0))</td><td>Map(vectorType -> dense, length -> 4, values -> List(0.5345454822887074, 0.397590375289219, 0.26785714285714285, 0.2835820895522388))</td></tr><tr><td>Map(vectorType -> dense, length -> 4, values -> List(46.900001525878906, 16.600000381469727, 192.0, 2700.0))</td><td>Map(vectorType -> dense, length -> 4, values -> List(0.5381819291548295, 0.4096386137436415, 0.3214285714285714, 0.0))</td></tr><tr><td>Map(vectorType -> dense, length -> 4, values -> List(47.599998474121094, 18.299999237060547, 195.0, 3850.0))</td><td>Map(vectorType -> dense, length -> 4, values -> List(0.5636363636363636, 0.6144577482646862, 0.375, 0.34328358208955223))</td></tr><tr><td>Map(vectorType -> dense, length -> 4, values -> List(48.099998474121094, 16.399999618530273, 199.0, 3325.0))</td><td>Map(vectorType -> dense, length -> 4, values -> List(0.5818181818181818, 0.3855421368347964, 0.4464285714285714, 0.1865671641791045))</td></tr><tr><td>Map(vectorType -> dense, length -> 4, values -> List(48.5, 17.5, 191.0, 3400.0))</td><td>Map(vectorType -> dense, length -> 4, values -> List(0.596363691850142, 0.5180723002313752, 0.30357142857142855, 0.208955223880597))</td></tr><tr><td>Map(vectorType -> dense, length -> 4, values -> List(49.0, 19.600000381469727, 212.0, 4300.0))</td><td>Map(vectorType -> dense, length -> 4, values -> List(0.6145455100319602, 0.7710843885701102, 0.6785714285714285, 0.47761194029850745))</td></tr><tr><td>Map(vectorType -> dense, length -> 4, values -> List(49.20000076293945, 18.200000762939453, 195.0, 4400.0))</td><td>Map(vectorType -> dense, length -> 4, values -> List(0.6218182650479404, 0.6024097396112984, 0.375, 0.5074626865671642))</td></tr><tr><td>Map(vectorType -> dense, length -> 4, values -> List(49.70000076293945, 18.600000381469727, 195.0, 3600.0))</td><td>Map(vectorType -> dense, length -> 4, values -> List(0.6400000832297585, 0.6506024636279539, 0.375, 0.26865671641791045))</td></tr><tr><td>Map(vectorType -> dense, length -> 4, values -> List(49.79999923706055, 17.299999237060547, 198.0, 3675.0))</td><td>Map(vectorType -> dense, length -> 4, values -> List(0.6436363913796165, 0.49397582332253, 0.42857142857142855, 0.291044776119403))</td></tr><tr><td>Map(vectorType -> dense, length -> 4, values -> List(50.099998474121094, 17.899999618530273, 190.0, 3400.0))</td><td>Map(vectorType -> dense, length -> 4, values -> List(0.6545454545454545, 0.5662650242480307, 0.2857142857142857, 0.208955223880597))</td></tr><tr><td>Map(vectorType -> dense, length -> 4, values -> List(50.20000076293945, 18.700000762939453, 198.0, 3775.0))</td><td>Map(vectorType -> dense, length -> 4, values -> List(0.6581819014115766, 0.6626507020823765, 0.42857142857142855, 0.3208955223880597))</td></tr><tr><td>Map(vectorType -> dense, length -> 4, values -> List(50.20000076293945, 18.799999237060547, 202.0, 3800.0))</td><td>Map(vectorType -> dense, length -> 4, values -> List(0.6581819014115766, 0.6746987107357643, 0.5, 0.3283582089552239))</td></tr><tr><td>Map(vectorType -> dense, length -> 4, values -> List(50.29999923706055, 20.0, 197.0, 3300.0))</td><td>Map(vectorType -> dense, length -> 4, values -> List(0.6618182095614347, 0.8192771125867657, 0.4107142857142857, 0.1791044776119403))</td></tr><tr><td>Map(vectorType -> dense, length -> 4, values -> List(50.5, 18.399999618530273, 200.0, 3400.0))</td><td>Map(vectorType -> dense, length -> 4, values -> List(0.6690909645774148, 0.6265059867191087, 0.46428571428571425, 0.208955223880597))</td></tr><tr><td>Map(vectorType -> dense, length -> 4, values -> List(50.599998474121094, 19.399999618530273, 193.0, 3800.0))</td><td>Map(vectorType -> dense, length -> 4, values -> List(0.6727272727272727, 0.746987911661265, 0.33928571428571425, 0.3283582089552239))</td></tr><tr><td>Map(vectorType -> dense, length -> 4, values -> List(50.900001525878906, 19.100000381469727, 196.0, 3550.0))</td><td>Map(vectorType -> dense, length -> 4, values -> List(0.6836364746093749, 0.7108434260990321, 0.39285714285714285, 0.2537313432835821))</td></tr><tr><td>Map(vectorType -> dense, length -> 4, values -> List(51.0, 18.799999237060547, 203.0, 4100.0))</td><td>Map(vectorType -> dense, length -> 4, values -> List(0.6872727827592329, 0.6746987107357643, 0.5178571428571428, 0.417910447761194))</td></tr><tr><td>Map(vectorType -> dense, length -> 4, values -> List(51.29999923706055, 18.200000762939453, 197.0, 3750.0))</td><td>Map(vectorType -> dense, length -> 4, values -> List(0.698181845925071, 0.6024097396112984, 0.4107142857142857, 0.31343283582089554))</td></tr><tr><td>Map(vectorType -> dense, length -> 4, values -> List(51.29999923706055, 19.200000762939453, 193.0, 3650.0))</td><td>Map(vectorType -> dense, length -> 4, values -> List(0.698181845925071, 0.7228916645534547, 0.33928571428571425, 0.2835820895522388))</td></tr><tr><td>Map(vectorType -> dense, length -> 4, values -> List(51.400001525878906, 19.0, 201.0, 3950.0))</td><td>Map(vectorType -> dense, length -> 4, values -> List(0.7018182927911931, 0.6987951876446095, 0.4821428571428571, 0.373134328358209))</td></tr><tr><td>Map(vectorType -> dense, length -> 4, values -> List(51.70000076293945, 20.299999237060547, 194.0, 3775.0))</td><td>Map(vectorType -> dense, length -> 4, values -> List(0.7127273559570312, 0.8554215981489987, 0.3571428571428571, 0.3208955223880597))</td></tr><tr><td>Map(vectorType -> dense, length -> 4, values -> List(51.900001525878906, 19.5, 206.0, 3950.0))</td><td>Map(vectorType -> dense, length -> 4, values -> List(0.7200001109730113, 0.7590361501156876, 0.5714285714285714, 0.373134328358209))</td></tr><tr><td>Map(vectorType -> dense, length -> 4, values -> List(52.0, 18.100000381469727, 201.0, 4050.0))</td><td>Map(vectorType -> dense, length -> 4, values -> List(0.7236364191228692, 0.5903615011568758, 0.4821428571428571, 0.40298507462686567))</td></tr><tr><td>Map(vectorType -> dense, length -> 4, values -> List(52.0, 20.700000762939453, 210.0, 4800.0))</td><td>Map(vectorType -> dense, length -> 4, values -> List(0.7236364191228692, 0.9036145519666889, 0.6428571428571428, 0.6268656716417911))</td></tr><tr><td>Map(vectorType -> dense, length -> 4, values -> List(52.20000076293945, 18.799999237060547, 197.0, 3450.0))</td><td>Map(vectorType -> dense, length -> 4, values -> List(0.7309091741388494, 0.6746987107357643, 0.4107142857142857, 0.22388059701492538))</td></tr><tr><td>Map(vectorType -> dense, length -> 4, values -> List(52.70000076293945, 19.799999237060547, 197.0, 3725.0))</td><td>Map(vectorType -> dense, length -> 4, values -> List(0.7490909923206676, 0.7951806356779205, 0.4107142857142857, 0.30597014925373134))</td></tr><tr><td>Map(vectorType -> dense, length -> 4, values -> List(52.79999923706055, 20.0, 205.0, 4550.0))</td><td>Map(vectorType -> dense, length -> 4, values -> List(0.7527273004705255, 0.8192771125867657, 0.5535714285714285, 0.5522388059701493))</td></tr><tr><td>Map(vectorType -> dense, length -> 4, values -> List(53.5, 19.899999618530273, 205.0, 4500.0))</td><td>Map(vectorType -> dense, length -> 4, values -> List(0.7781818736683238, 0.8072288741323431, 0.5535714285714285, 0.5373134328358209))</td></tr><tr><td>Map(vectorType -> dense, length -> 4, values -> List(54.20000076293945, 20.799999237060547, 201.0, 4300.0))</td><td>Map(vectorType -> dense, length -> 4, values -> List(0.8036364468661221, 0.9156625606200767, 0.4821428571428571, 0.47761194029850745))</td></tr><tr><td>Map(vectorType -> dense, length -> 4, values -> List(55.79999923706055, 19.799999237060547, 207.0, 4000.0))</td><td>Map(vectorType -> dense, length -> 4, values -> List(0.8618182095614346, 0.7951806356779205, 0.5892857142857143, 0.3880597014925373))</td></tr><tr><td>Map(vectorType -> dense, length -> 4, values -> List(33.5, 19.0, 190.0, 3600.0))</td><td>Map(vectorType -> dense, length -> 4, values -> List(0.050909146395596586, 0.6987951876446095, 0.2857142857142857, 0.26865671641791045))</td></tr><tr><td>Map(vectorType -> dense, length -> 4, values -> List(34.099998474121094, 18.100000381469727, 193.0, 3475.0))</td><td>Map(vectorType -> dense, length -> 4, values -> List(0.07272727272727272, 0.5903615011568758, 0.33928571428571425, 0.23134328358208955))</td></tr><tr><td>Map(vectorType -> dense, length -> 4, values -> List(34.400001525878906, 18.399999618530273, 184.0, 3325.0))</td><td>Map(vectorType -> dense, length -> 4, values -> List(0.083636474609375, 0.6265059867191087, 0.17857142857142855, 0.1865671641791045))</td></tr><tr><td>Map(vectorType -> dense, length -> 4, values -> List(34.599998474121094, 17.200000762939453, 189.0, 3200.0))</td><td>Map(vectorType -> dense, length -> 4, values -> List(0.09090909090909091, 0.48192781466914225, 0.26785714285714285, 0.1492537313432836))</td></tr><tr><td>Map(vectorType -> dense, length -> 4, values -> List(34.599998474121094, 21.100000381469727, 198.0, 4400.0))</td><td>Map(vectorType -> dense, length -> 4, values -> List(0.09090909090909091, 0.9518072759833445, 0.42857142857142855, 0.5074626865671642))</td></tr><tr><td>Map(vectorType -> dense, length -> 4, values -> List(35.099998474121094, 19.399999618530273, 193.0, 4200.0))</td><td>Map(vectorType -> dense, length -> 4, values -> List(0.10909090909090909, 0.746987911661265, 0.33928571428571425, 0.44776119402985076))</td></tr><tr><td>Map(vectorType -> dense, length -> 4, values -> List(35.20000076293945, 15.899999618530273, 186.0, 3050.0))</td><td>Map(vectorType -> dense, length -> 4, values -> List(0.11272735595703125, 0.32530117436371825, 0.21428571428571427, 0.1044776119402985))</td></tr><tr><td>Map(vectorType -> dense, length -> 4, values -> List(35.5, 17.5, 190.0, 3700.0))</td><td>Map(vectorType -> dense, length -> 4, values -> List(0.12363641912286931, 0.5180723002313752, 0.2857142857142857, 0.2985074626865672))</td></tr><tr><td>Map(vectorType -> dense, length -> 4, values -> List(36.599998474121094, 17.799999237060547, 185.0, 3700.0))</td><td>Map(vectorType -> dense, length -> 4, values -> List(0.16363636363636364, 0.5542167857936081, 0.19642857142857142, 0.2985074626865672))</td></tr><tr><td>Map(vectorType -> dense, length -> 4, values -> List(36.70000076293945, 18.799999237060547, 187.0, 3800.0))</td><td>Map(vectorType -> dense, length -> 4, values -> List(0.1672728105024858, 0.6746987107357643, 0.23214285714285712, 0.3283582089552239))</td></tr><tr><td>Map(vectorType -> dense, length -> 4, values -> List(36.70000076293945, 19.299999237060547, 193.0, 3450.0))</td><td>Map(vectorType -> dense, length -> 4, values -> List(0.1672728105024858, 0.7349396732068424, 0.33928571428571425, 0.22388059701492538))</td></tr><tr><td>Map(vectorType -> dense, length -> 4, values -> List(37.20000076293945, 19.399999618530273, 184.0, 3900.0))</td><td>Map(vectorType -> dense, length -> 4, values -> List(0.18545462868430396, 0.746987911661265, 0.17857142857142855, 0.3582089552238806))</td></tr><tr><td>Map(vectorType -> dense, length -> 4, values -> List(37.70000076293945, 19.799999237060547, 198.0, 3500.0))</td><td>Map(vectorType -> dense, length -> 4, values -> List(0.20363644686612214, 0.7951806356779205, 0.42857142857142855, 0.23880597014925373))</td></tr><tr><td>Map(vectorType -> dense, length -> 4, values -> List(37.79999923706055, 17.299999237060547, 180.0, 3700.0))</td><td>Map(vectorType -> dense, length -> 4, values -> List(0.2072727550159801, 0.49397582332253, 0.10714285714285714, 0.2985074626865672))</td></tr><tr><td>Map(vectorType -> dense, length -> 4, values -> List(38.5, 17.899999618530273, 190.0, 3325.0))</td><td>Map(vectorType -> dense, length -> 4, values -> List(0.2327273282137784, 0.5662650242480307, 0.2857142857142857, 0.1865671641791045))</td></tr><tr><td>Map(vectorType -> dense, length -> 4, values -> List(38.599998474121094, 21.200000762939453, 191.0, 3800.0))</td><td>Map(vectorType -> dense, length -> 4, values -> List(0.23636363636363636, 0.9638555144377671, 0.30357142857142855, 0.3283582089552239))</td></tr><tr><td>Map(vectorType -> dense, length -> 4, values -> List(38.79999923706055, 17.600000381469727, 191.0, 3275.0))</td><td>Map(vectorType -> dense, length -> 4, values -> List(0.24363639137961646, 0.5301205386857978, 0.30357142857142855, 0.17164179104477612))</td></tr><tr><td>Map(vectorType -> dense, length -> 4, values -> List(39.0, 17.100000381469727, 191.0, 3050.0))</td><td>Map(vectorType -> dense, length -> 4, values -> List(0.2509091463955966, 0.46987957621471965, 0.30357142857142855, 0.1044776119402985))</td></tr><tr><td>Map(vectorType -> dense, length -> 4, values -> List(39.099998474121094, 18.700000762939453, 181.0, 3750.0))</td><td>Map(vectorType -> dense, length -> 4, values -> List(0.2545454545454545, 0.6626507020823765, 0.125, 0.31343283582089554))</td></tr><tr><td>Map(vectorType -> dense, length -> 4, values -> List(39.20000076293945, 19.600000381469727, 195.0, 4675.0))</td><td>Map(vectorType -> dense, length -> 4, values -> List(0.2581819014115767, 0.7710843885701102, 0.375, 0.5895522388059702))</td></tr><tr><td>Map(vectorType -> dense, length -> 4, values -> List(39.29999923706055, 20.600000381469727, 190.0, 3650.0))</td><td>Map(vectorType -> dense, length -> 4, values -> List(0.26181820956143464, 0.8915663135122663, 0.2857142857142857, 0.2835820895522388))</td></tr><tr><td>Map(vectorType -> dense, length -> 4, values -> List(39.5, 17.399999618530273, 186.0, 3800.0))</td><td>Map(vectorType -> dense, length -> 4, values -> List(0.26909096457741477, 0.5060240617769526, 0.21428571428571427, 0.3283582089552239))</td></tr><tr><td>Map(vectorType -> dense, length -> 4, values -> List(39.599998474121094, 17.200000762939453, 196.0, 3550.0))</td><td>Map(vectorType -> dense, length -> 4, values -> List(0.2727272727272727, 0.48192781466914225, 0.39285714285714285, 0.2537313432835821))</td></tr><tr><td>Map(vectorType -> dense, length -> 4, values -> List(39.70000076293945, 18.399999618530273, 190.0, 3900.0))</td><td>Map(vectorType -> dense, length -> 4, values -> List(0.2763637195933949, 0.6265059867191087, 0.2857142857142857, 0.3582089552238806))</td></tr><tr><td>Map(vectorType -> dense, length -> 4, values -> List(40.20000076293945, 17.0, 176.0, 3450.0))</td><td>Map(vectorType -> dense, length -> 4, values -> List(0.29454553777521303, 0.45783133776029705, 0.03571428571428571, 0.22388059701492538))</td></tr><tr><td>Map(vectorType -> dense, length -> 4, values -> List(41.400001525878906, 18.5, 202.0, 3875.0))</td><td>Map(vectorType -> dense, length -> 4, values -> List(0.33818192915482953, 0.6385542251735313, 0.5, 0.35074626865671643))</td></tr><tr><td>Map(vectorType -> dense, length -> 4, values -> List(41.79999923706055, 19.399999618530273, 198.0, 4450.0))</td><td>Map(vectorType -> dense, length -> 4, values -> List(0.35272730047052553, 0.746987911661265, 0.42857142857142855, 0.5223880597014925))</td></tr><tr><td>Map(vectorType -> dense, length -> 4, values -> List(42.0, 20.200000762939453, 190.0, 4250.0))</td><td>Map(vectorType -> dense, length -> 4, values -> List(0.36000005548650565, 0.8433735894956108, 0.2857142857142857, 0.4626865671641791))</td></tr><tr><td>Map(vectorType -> dense, length -> 4, values -> List(42.5, 20.700000762939453, 197.0, 4500.0))</td><td>Map(vectorType -> dense, length -> 4, values -> List(0.37818187366832384, 0.9036145519666889, 0.4107142857142857, 0.5373134328358209))</td></tr><tr><td>Map(vectorType -> dense, length -> 4, values -> List(42.79999923706055, 18.5, 195.0, 4250.0))</td><td>Map(vectorType -> dense, length -> 4, values -> List(0.3890909368341619, 0.6385542251735313, 0.375, 0.4626865671641791))</td></tr><tr><td>Map(vectorType -> dense, length -> 4, values -> List(44.099998474121094, 18.0, 210.0, 4000.0))</td><td>Map(vectorType -> dense, length -> 4, values -> List(0.43636363636363634, 0.5783132627024533, 0.6428571428571428, 0.3880597014925373))</td></tr><tr><td>Map(vectorType -> dense, length -> 4, values -> List(46.0, 21.5, 194.0, 4200.0))</td><td>Map(vectorType -> dense, length -> 4, values -> List(0.5054546009410511, 1.0, 0.3571428571428571, 0.44776119402985076))</td></tr></tbody></table></div>"
      ]
     },
     "metadata": {
      "application/vnd.databricks.v1+output": {
       "addedWidgets": {},
       "aggData": [],
       "aggError": "",
       "aggOverflow": false,
       "aggSchema": [],
       "aggSeriesLimitReached": false,
       "aggType": "",
       "arguments": {},
       "columnCustomDisplayInfos": {},
       "data": [
        [
         {
          "length": 4,
          "values": [
           35.0,
           17.899999618530273,
           192.0,
           3725.0
          ],
          "vectorType": "dense"
         },
         {
          "length": 4,
          "values": [
           0.10545460094105114,
           0.5662650242480307,
           0.3214285714285714,
           0.30597014925373134
          ],
          "vectorType": "dense"
         }
        ],
        [
         {
          "length": 4,
          "values": [
           35.29999923706055,
           18.899999618530273,
           187.0,
           3800.0
          ],
          "vectorType": "dense"
         },
         {
          "length": 4,
          "values": [
           0.1163636641068892,
           0.6867469491901869,
           0.23214285714285712,
           0.3283582089552239
          ],
          "vectorType": "dense"
         }
        ],
        [
         {
          "length": 4,
          "values": [
           35.70000076293945,
           16.899999618530273,
           185.0,
           3150.0
          ],
          "vectorType": "dense"
         },
         {
          "length": 4,
          "values": [
           0.13090917413884942,
           0.44578309930587445,
           0.19642857142857142,
           0.13432835820895522
          ],
          "vectorType": "dense"
         }
        ],
        [
         {
          "length": 4,
          "values": [
           35.900001525878906,
           19.200000762939453,
           189.0,
           3800.0
          ],
          "vectorType": "dense"
         },
         {
          "length": 4,
          "values": [
           0.13818192915482955,
           0.7228916645534547,
           0.26785714285714285,
           0.3283582089552239
          ],
          "vectorType": "dense"
         }
        ],
        [
         {
          "length": 4,
          "values": [
           36.400001525878906,
           17.100000381469727,
           184.0,
           2850.0
          ],
          "vectorType": "dense"
         },
         {
          "length": 4,
          "values": [
           0.1563637473366477,
           0.46987957621471965,
           0.17857142857142855,
           0.04477611940298507
          ],
          "vectorType": "dense"
         }
        ],
        [
         {
          "length": 4,
          "values": [
           36.5,
           16.600000381469727,
           181.0,
           2850.0
          ],
          "vectorType": "dense"
         },
         {
          "length": 4,
          "values": [
           0.16000005548650567,
           0.4096386137436415,
           0.125,
           0.04477611940298507
          ],
          "vectorType": "dense"
         }
        ],
        [
         {
          "length": 4,
          "values": [
           37.599998474121094,
           17.0,
           185.0,
           3600.0
          ],
          "vectorType": "dense"
         },
         {
          "length": 4,
          "values": [
           0.19999999999999998,
           0.45783133776029705,
           0.19642857142857142,
           0.26865671641791045
          ],
          "vectorType": "dense"
         }
        ],
        [
         {
          "length": 4,
          "values": [
           37.599998474121094,
           19.100000381469727,
           194.0,
           3750.0
          ],
          "vectorType": "dense"
         },
         {
          "length": 4,
          "values": [
           0.19999999999999998,
           0.7108434260990321,
           0.3571428571428571,
           0.31343283582089554
          ],
          "vectorType": "dense"
         }
        ],
        [
         {
          "length": 4,
          "values": [
           37.70000076293945,
           16.0,
           183.0,
           3075.0
          ],
          "vectorType": "dense"
         },
         {
          "length": 4,
          "values": [
           0.20363644686612214,
           0.33734941281814085,
           0.1607142857142857,
           0.11194029850746269
          ],
          "vectorType": "dense"
         }
        ],
        [
         {
          "length": 4,
          "values": [
           37.70000076293945,
           18.700000762939453,
           180.0,
           3600.0
          ],
          "vectorType": "dense"
         },
         {
          "length": 4,
          "values": [
           0.20363644686612214,
           0.6626507020823765,
           0.10714285714285714,
           0.26865671641791045
          ],
          "vectorType": "dense"
         }
        ],
        [
         {
          "length": 4,
          "values": [
           37.79999923706055,
           18.299999237060547,
           174.0,
           3400.0
          ],
          "vectorType": "dense"
         },
         {
          "length": 4,
          "values": [
           0.2072727550159801,
           0.6144577482646862,
           0.0,
           0.208955223880597
          ],
          "vectorType": "dense"
         }
        ],
        [
         {
          "length": 4,
          "values": [
           37.79999923706055,
           20.0,
           190.0,
           4250.0
          ],
          "vectorType": "dense"
         },
         {
          "length": 4,
          "values": [
           0.2072727550159801,
           0.8192771125867657,
           0.2857142857142857,
           0.4626865671641791
          ],
          "vectorType": "dense"
         }
        ],
        [
         {
          "length": 4,
          "values": [
           37.900001525878906,
           18.600000381469727,
           193.0,
           2925.0
          ],
          "vectorType": "dense"
         },
         {
          "length": 4,
          "values": [
           0.21090920188210227,
           0.6506024636279539,
           0.33928571428571425,
           0.06716417910447761
          ],
          "vectorType": "dense"
         }
        ],
        [
         {
          "length": 4,
          "values": [
           38.099998474121094,
           17.0,
           181.0,
           3175.0
          ],
          "vectorType": "dense"
         },
         {
          "length": 4,
          "values": [
           0.21818181818181817,
           0.45783133776029705,
           0.125,
           0.1417910447761194
          ],
          "vectorType": "dense"
         }
        ],
        [
         {
          "length": 4,
          "values": [
           38.20000076293945,
           18.100000381469727,
           185.0,
           3950.0
          ],
          "vectorType": "dense"
         },
         {
          "length": 4,
          "values": [
           0.22181826504794033,
           0.5903615011568758,
           0.19642857142857142,
           0.373134328358209
          ],
          "vectorType": "dense"
         }
        ],
        [
         {
          "length": 4,
          "values": [
           38.20000076293945,
           20.0,
           190.0,
           3900.0
          ],
          "vectorType": "dense"
         },
         {
          "length": 4,
          "values": [
           0.22181826504794033,
           0.8192771125867657,
           0.2857142857142857,
           0.3582089552238806
          ],
          "vectorType": "dense"
         }
        ],
        [
         {
          "length": 4,
          "values": [
           38.79999923706055,
           17.200000762939453,
           180.0,
           3800.0
          ],
          "vectorType": "dense"
         },
         {
          "length": 4,
          "values": [
           0.24363639137961646,
           0.48192781466914225,
           0.10714285714285714,
           0.3283582089552239
          ],
          "vectorType": "dense"
         }
        ],
        [
         {
          "length": 4,
          "values": [
           39.0,
           17.5,
           186.0,
           3550.0
          ],
          "vectorType": "dense"
         },
         {
          "length": 4,
          "values": [
           0.2509091463955966,
           0.5180723002313752,
           0.21428571428571427,
           0.2537313432835821
          ],
          "vectorType": "dense"
         }
        ],
        [
         {
          "length": 4,
          "values": [
           39.599998474121094,
           17.700000762939453,
           186.0,
           3500.0
          ],
          "vectorType": "dense"
         },
         {
          "length": 4,
          "values": [
           0.2727272727272727,
           0.5421687771402204,
           0.21428571428571427,
           0.23880597014925373
          ],
          "vectorType": "dense"
         }
        ],
        [
         {
          "length": 4,
          "values": [
           39.599998474121094,
           20.700000762939453,
           191.0,
           3900.0
          ],
          "vectorType": "dense"
         },
         {
          "length": 4,
          "values": [
           0.2727272727272727,
           0.9036145519666889,
           0.30357142857142855,
           0.3582089552238806
          ],
          "vectorType": "dense"
         }
        ],
        [
         {
          "length": 4,
          "values": [
           39.70000076293945,
           18.899999618530273,
           184.0,
           3550.0
          ],
          "vectorType": "dense"
         },
         {
          "length": 4,
          "values": [
           0.2763637195933949,
           0.6867469491901869,
           0.17857142857142855,
           0.2537313432835821
          ],
          "vectorType": "dense"
         }
        ],
        [
         {
          "length": 4,
          "values": [
           40.099998474121094,
           18.899999618530273,
           188.0,
           4300.0
          ],
          "vectorType": "dense"
         },
         {
          "length": 4,
          "values": [
           0.2909090909090909,
           0.6867469491901869,
           0.25,
           0.47761194029850745
          ],
          "vectorType": "dense"
         }
        ],
        [
         {
          "length": 4,
          "values": [
           40.5,
           18.899999618530273,
           180.0,
           3950.0
          ],
          "vectorType": "dense"
         },
         {
          "length": 4,
          "values": [
           0.30545460094105115,
           0.6867469491901869,
           0.10714285714285714,
           0.373134328358209
          ],
          "vectorType": "dense"
         }
        ],
        [
         {
          "length": 4,
          "values": [
           40.599998474121094,
           18.600000381469727,
           183.0,
           3550.0
          ],
          "vectorType": "dense"
         },
         {
          "length": 4,
          "values": [
           0.3090909090909091,
           0.6506024636279539,
           0.1607142857142857,
           0.2537313432835821
          ],
          "vectorType": "dense"
         }
        ],
        [
         {
          "length": 4,
          "values": [
           40.599998474121094,
           18.799999237060547,
           193.0,
           3800.0
          ],
          "vectorType": "dense"
         },
         {
          "length": 4,
          "values": [
           0.3090909090909091,
           0.6746987107357643,
           0.33928571428571425,
           0.3283582089552239
          ],
          "vectorType": "dense"
         }
        ],
        [
         {
          "length": 4,
          "values": [
           41.099998474121094,
           19.100000381469727,
           188.0,
           4100.0
          ],
          "vectorType": "dense"
         },
         {
          "length": 4,
          "values": [
           0.32727272727272727,
           0.7108434260990321,
           0.25,
           0.417910447761194
          ],
          "vectorType": "dense"
         }
        ],
        [
         {
          "length": 4,
          "values": [
           41.29999923706055,
           21.100000381469727,
           195.0,
           4400.0
          ],
          "vectorType": "dense"
         },
         {
          "length": 4,
          "values": [
           0.3345454822887074,
           0.9518072759833445,
           0.375,
           0.5074626865671642
          ],
          "vectorType": "dense"
         }
        ],
        [
         {
          "length": 4,
          "values": [
           41.400001525878906,
           18.600000381469727,
           191.0,
           3700.0
          ],
          "vectorType": "dense"
         },
         {
          "length": 4,
          "values": [
           0.33818192915482953,
           0.6506024636279539,
           0.30357142857142855,
           0.2985074626865672
          ],
          "vectorType": "dense"
         }
        ],
        [
         {
          "length": 4,
          "values": [
           42.20000076293945,
           19.5,
           197.0,
           4275.0
          ],
          "vectorType": "dense"
         },
         {
          "length": 4,
          "values": [
           0.3672728105024858,
           0.7590361501156876,
           0.4107142857142857,
           0.4701492537313433
          ],
          "vectorType": "dense"
         }
        ],
        [
         {
          "length": 4,
          "values": [
           42.70000076293945,
           13.699999809265137,
           208.0,
           3950.0
          ],
          "vectorType": "dense"
         },
         {
          "length": 4,
          "values": [
           0.38545462868430397,
           0.0602409624710781,
           0.6071428571428571,
           0.373134328358209
          ],
          "vectorType": "dense"
         }
        ],
        [
         {
          "length": 4,
          "values": [
           42.79999923706055,
           14.199999809265137,
           209.0,
           4700.0
          ],
          "vectorType": "dense"
         },
         {
          "length": 4,
          "values": [
           0.3890909368341619,
           0.1204819249421562,
           0.625,
           0.5970149253731344
          ],
          "vectorType": "dense"
         }
        ],
        [
         {
          "length": 4,
          "values": [
           43.20000076293945,
           19.0,
           197.0,
           4775.0
          ],
          "vectorType": "dense"
         },
         {
          "length": 4,
          "values": [
           0.40363644686612216,
           0.6987951876446095,
           0.4107142857142857,
           0.6194029850746269
          ],
          "vectorType": "dense"
         }
        ],
        [
         {
          "length": 4,
          "values": [
           43.29999923706055,
           14.0,
           208.0,
           4575.0
          ],
          "vectorType": "dense"
         },
         {
          "length": 4,
          "values": [
           0.4072727550159801,
           0.09638556293382844,
           0.6071428571428571,
           0.5597014925373134
          ],
          "vectorType": "dense"
         }
        ],
        [
         {
          "length": 4,
          "values": [
           43.400001525878906,
           14.399999618530273,
           218.0,
           4600.0
          ],
          "vectorType": "dense"
         },
         {
          "length": 4,
          "values": [
           0.4109092018821022,
           0.14457828695048397,
           0.7857142857142857,
           0.5671641791044776
          ],
          "vectorType": "dense"
         }
        ],
        [
         {
          "length": 4,
          "values": [
           43.5,
           14.199999809265137,
           220.0,
           4700.0
          ],
          "vectorType": "dense"
         },
         {
          "length": 4,
          "values": [
           0.4145455100319602,
           0.1204819249421562,
           0.8214285714285714,
           0.5970149253731344
          ],
          "vectorType": "dense"
         }
        ],
        [
         {
          "length": 4,
          "values": [
           43.5,
           15.199999809265137,
           213.0,
           4650.0
          ],
          "vectorType": "dense"
         },
         {
          "length": 4,
          "values": [
           0.4145455100319602,
           0.2409638498843124,
           0.6964285714285714,
           0.582089552238806
          ],
          "vectorType": "dense"
         }
        ],
        [
         {
          "length": 4,
          "values": [
           43.599998474121094,
           13.899999618530273,
           217.0,
           4900.0
          ],
          "vectorType": "dense"
         },
         {
          "length": 4,
          "values": [
           0.41818181818181815,
           0.08433732447940587,
           0.7678571428571428,
           0.6567164179104478
          ],
          "vectorType": "dense"
         }
        ],
        [
         {
          "length": 4,
          "values": [
           44.0,
           13.600000381469727,
           208.0,
           4350.0
          ],
          "vectorType": "dense"
         },
         {
          "length": 4,
          "values": [
           0.4327273282137784,
           0.04819283891717293,
           0.6071428571428571,
           0.4925373134328358
          ],
          "vectorType": "dense"
         }
        ],
        [
         {
          "length": 4,
          "values": [
           44.400001525878906,
           17.299999237060547,
           219.0,
           5250.0
          ],
          "vectorType": "dense"
         },
         {
          "length": 4,
          "values": [
           0.4472728382457386,
           0.49397582332253,
           0.8035714285714285,
           0.7611940298507462
          ],
          "vectorType": "dense"
         }
        ],
        [
         {
          "length": 4,
          "values": [
           44.5,
           14.300000190734863,
           216.0,
           4100.0
          ],
          "vectorType": "dense"
         },
         {
          "length": 4,
          "values": [
           0.4509091463955966,
           0.13253016339657878,
           0.75,
           0.417910447761194
          ],
          "vectorType": "dense"
         }
        ],
        [
         {
          "length": 4,
          "values": [
           44.5,
           14.699999809265137,
           214.0,
           4850.0
          ],
          "vectorType": "dense"
         },
         {
          "length": 4,
          "values": [
           0.4509091463955966,
           0.1807228874132343,
           0.7142857142857142,
           0.6417910447761194
          ],
          "vectorType": "dense"
         }
        ],
        [
         {
          "length": 4,
          "values": [
           44.5,
           15.699999809265137,
           217.0,
           4875.0
          ],
          "vectorType": "dense"
         },
         {
          "length": 4,
          "values": [
           0.4509091463955966,
           0.30120481235539054,
           0.7678571428571428,
           0.6492537313432836
          ],
          "vectorType": "dense"
         }
        ],
        [
         {
          "length": 4,
          "values": [
           44.900001525878906,
           13.300000190734863,
           213.0,
           5100.0
          ],
          "vectorType": "dense"
         },
         {
          "length": 4,
          "values": [
           0.4654546564275568,
           0.012048238454422584,
           0.6964285714285714,
           0.7164179104477612
          ],
          "vectorType": "dense"
         }
        ],
        [
         {
          "length": 4,
          "values": [
           45.0,
           15.399999618530273,
           220.0,
           5050.0
          ],
          "vectorType": "dense"
         },
         {
          "length": 4,
          "values": [
           0.4690909645774147,
           0.2650602118926402,
           0.8214285714285714,
           0.7014925373134329
          ],
          "vectorType": "dense"
         }
        ],
        [
         {
          "length": 4,
          "values": [
           45.099998474121094,
           14.5,
           207.0,
           5050.0
          ],
          "vectorType": "dense"
         },
         {
          "length": 4,
          "values": [
           0.4727272727272727,
           0.15662652540490654,
           0.5892857142857143,
           0.7014925373134329
          ],
          "vectorType": "dense"
         }
        ],
        [
         {
          "length": 4,
          "values": [
           45.099998474121094,
           14.5,
           215.0,
           5000.0
          ],
          "vectorType": "dense"
         },
         {
          "length": 4,
          "values": [
           0.4727272727272727,
           0.15662652540490654,
           0.7321428571428571,
           0.6865671641791045
          ],
          "vectorType": "dense"
         }
        ],
        [
         {
          "length": 4,
          "values": [
           45.20000076293945,
           13.800000190734863,
           215.0,
           4750.0
          ],
          "vectorType": "dense"
         },
         {
          "length": 4,
          "values": [
           0.47636371959339485,
           0.07228920092550069,
           0.7321428571428571,
           0.6119402985074627
          ],
          "vectorType": "dense"
         }
        ],
        [
         {
          "length": 4,
          "values": [
           45.20000076293945,
           14.800000190734863,
           212.0,
           5200.0
          ],
          "vectorType": "dense"
         },
         {
          "length": 4,
          "values": [
           0.47636371959339485,
           0.19277112586765688,
           0.6785714285714285,
           0.746268656716418
          ],
          "vectorType": "dense"
         }
        ],
        [
         {
          "length": 4,
          "values": [
           45.20000076293945,
           15.800000190734863,
           215.0,
           5300.0
          ],
          "vectorType": "dense"
         },
         {
          "length": 4,
          "values": [
           0.47636371959339485,
           0.3132530508098131,
           0.7321428571428571,
           0.7761194029850746
          ],
          "vectorType": "dense"
         }
        ],
        [
         {
          "length": 4,
          "values": [
           45.20000076293945,
           16.399999618530273,
           223.0,
           5950.0
          ],
          "vectorType": "dense"
         },
         {
          "length": 4,
          "values": [
           0.47636371959339485,
           0.3855421368347964,
           0.875,
           0.9701492537313433
          ],
          "vectorType": "dense"
         }
        ],
        [
         {
          "length": 4,
          "values": [
           45.29999923706055,
           13.699999809265137,
           210.0,
           4300.0
          ],
          "vectorType": "dense"
         },
         {
          "length": 4,
          "values": [
           0.48000002774325284,
           0.0602409624710781,
           0.6428571428571428,
           0.47761194029850745
          ],
          "vectorType": "dense"
         }
        ],
        [
         {
          "length": 4,
          "values": [
           45.29999923706055,
           13.800000190734863,
           208.0,
           4200.0
          ],
          "vectorType": "dense"
         },
         {
          "length": 4,
          "values": [
           0.48000002774325284,
           0.07228920092550069,
           0.6071428571428571,
           0.44776119402985076
          ],
          "vectorType": "dense"
         }
        ],
        [
         {
          "length": 4,
          "values": [
           45.5,
           13.699999809265137,
           214.0,
           4650.0
          ],
          "vectorType": "dense"
         },
         {
          "length": 4,
          "values": [
           0.4872727827592329,
           0.0602409624710781,
           0.7142857142857142,
           0.582089552238806
          ],
          "vectorType": "dense"
         }
        ],
        [
         {
          "length": 4,
          "values": [
           45.5,
           13.899999618530273,
           210.0,
           4200.0
          ],
          "vectorType": "dense"
         },
         {
          "length": 4,
          "values": [
           0.4872727827592329,
           0.08433732447940587,
           0.6428571428571428,
           0.44776119402985076
          ],
          "vectorType": "dense"
         }
        ],
        [
         {
          "length": 4,
          "values": [
           45.5,
           14.5,
           212.0,
           4750.0
          ],
          "vectorType": "dense"
         },
         {
          "length": 4,
          "values": [
           0.4872727827592329,
           0.15662652540490654,
           0.6785714285714285,
           0.6119402985074627
          ],
          "vectorType": "dense"
         }
        ],
        [
         {
          "length": 4,
          "values": [
           45.5,
           15.0,
           220.0,
           5000.0
          ],
          "vectorType": "dense"
         },
         {
          "length": 4,
          "values": [
           0.4872727827592329,
           0.21686748787598464,
           0.8214285714285714,
           0.6865671641791045
          ],
          "vectorType": "dense"
         }
        ],
        [
         {
          "length": 4,
          "values": [
           45.599998474121094,
           20.299999237060547,
           191.0,
           4600.0
          ],
          "vectorType": "dense"
         },
         {
          "length": 4,
          "values": [
           0.4909090909090909,
           0.8554215981489987,
           0.30357142857142855,
           0.5671641791044776
          ],
          "vectorType": "dense"
         }
        ],
        [
         {
          "length": 4,
          "values": [
           45.79999923706055,
           14.600000381469727,
           210.0,
           4200.0
          ],
          "vectorType": "dense"
         },
         {
          "length": 4,
          "values": [
           0.498181845925071,
           0.16867476385932914,
           0.6428571428571428,
           0.44776119402985076
          ],
          "vectorType": "dense"
         }
        ],
        [
         {
          "length": 4,
          "values": [
           46.099998474121094,
           13.199999809265137,
           211.0,
           4500.0
          ],
          "vectorType": "dense"
         },
         {
          "length": 4,
          "values": [
           0.509090909090909,
           0.0,
           0.6607142857142857,
           0.5373134328358209
          ],
          "vectorType": "dense"
         }
        ],
        [
         {
          "length": 4,
          "values": [
           46.099998474121094,
           15.100000381469727,
           215.0,
           5100.0
          ],
          "vectorType": "dense"
         },
         {
          "length": 4,
          "values": [
           0.509090909090909,
           0.22891572633040724,
           0.7321428571428571,
           0.7164179104477612
          ],
          "vectorType": "dense"
         }
        ],
        [
         {
          "length": 4,
          "values": [
           46.20000076293945,
           14.100000381469727,
           217.0,
           4375.0
          ],
          "vectorType": "dense"
         },
         {
          "length": 4,
          "values": [
           0.5127273559570312,
           0.10843380138825102,
           0.7678571428571428,
           0.5
          ],
          "vectorType": "dense"
         }
        ],
        [
         {
          "length": 4,
          "values": [
           46.20000076293945,
           14.399999618530273,
           214.0,
           4650.0
          ],
          "vectorType": "dense"
         },
         {
          "length": 4,
          "values": [
           0.5127273559570312,
           0.14457828695048397,
           0.7142857142857142,
           0.582089552238806
          ],
          "vectorType": "dense"
         }
        ],
        [
         {
          "length": 4,
          "values": [
           46.20000076293945,
           14.899999618530273,
           221.0,
           5300.0
          ],
          "vectorType": "dense"
         },
         {
          "length": 4,
          "values": [
           0.5127273559570312,
           0.20481924942156207,
           0.8392857142857142,
           0.7761194029850746
          ],
          "vectorType": "dense"
         }
        ],
        [
         {
          "length": 4,
          "values": [
           46.400001525878906,
           15.0,
           216.0,
           4700.0
          ],
          "vectorType": "dense"
         },
         {
          "length": 4,
          "values": [
           0.5200001109730114,
           0.21686748787598464,
           0.75,
           0.5970149253731344
          ],
          "vectorType": "dense"
         }
        ],
        [
         {
          "length": 4,
          "values": [
           46.5,
           13.5,
           210.0,
           4550.0
          ],
          "vectorType": "dense"
         },
         {
          "length": 4,
          "values": [
           0.5236364191228693,
           0.036144600462750344,
           0.6428571428571428,
           0.5522388059701493
          ],
          "vectorType": "dense"
         }
        ],
        [
         {
          "length": 4,
          "values": [
           46.5,
           14.5,
           213.0,
           4400.0
          ],
          "vectorType": "dense"
         },
         {
          "length": 4,
          "values": [
           0.5236364191228693,
           0.15662652540490654,
           0.6964285714285714,
           0.5074626865671642
          ],
          "vectorType": "dense"
         }
        ],
        [
         {
          "length": 4,
          "values": [
           46.5,
           14.800000190734863,
           217.0,
           5200.0
          ],
          "vectorType": "dense"
         },
         {
          "length": 4,
          "values": [
           0.5236364191228693,
           0.19277112586765688,
           0.7678571428571428,
           0.746268656716418
          ],
          "vectorType": "dense"
         }
        ],
        [
         {
          "length": 4,
          "values": [
           46.599998474121094,
           14.199999809265137,
           210.0,
           4850.0
          ],
          "vectorType": "dense"
         },
         {
          "length": 4,
          "values": [
           0.5272727272727272,
           0.1204819249421562,
           0.6428571428571428,
           0.6417910447761194
          ],
          "vectorType": "dense"
         }
        ],
        [
         {
          "length": 4,
          "values": [
           46.70000076293945,
           15.300000190734863,
           219.0,
           5200.0
          ],
          "vectorType": "dense"
         },
         {
          "length": 4,
          "values": [
           0.5309091741388494,
           0.253012088338735,
           0.8035714285714285,
           0.746268656716418
          ],
          "vectorType": "dense"
         }
        ],
        [
         {
          "length": 4,
          "values": [
           46.79999923706055,
           14.300000190734863,
           215.0,
           4850.0
          ],
          "vectorType": "dense"
         },
         {
          "length": 4,
          "values": [
           0.5345454822887074,
           0.13253016339657878,
           0.7321428571428571,
           0.6417910447761194
          ],
          "vectorType": "dense"
         }
        ],
        [
         {
          "length": 4,
          "values": [
           46.79999923706055,
           15.399999618530273,
           215.0,
           5150.0
          ],
          "vectorType": "dense"
         },
         {
          "length": 4,
          "values": [
           0.5345454822887074,
           0.2650602118926402,
           0.7321428571428571,
           0.7313432835820896
          ],
          "vectorType": "dense"
         }
        ],
        [
         {
          "length": 4,
          "values": [
           46.79999923706055,
           16.100000381469727,
           215.0,
           5500.0
          ],
          "vectorType": "dense"
         },
         {
          "length": 4,
          "values": [
           0.5345454822887074,
           0.34939765127256345,
           0.7321428571428571,
           0.835820895522388
          ],
          "vectorType": "dense"
         }
        ],
        [
         {
          "length": 4,
          "values": [
           47.20000076293945,
           13.699999809265137,
           214.0,
           4925.0
          ],
          "vectorType": "dense"
         },
         {
          "length": 4,
          "values": [
           0.5490909923206676,
           0.0602409624710781,
           0.7142857142857142,
           0.664179104477612
          ],
          "vectorType": "dense"
         }
        ],
        [
         {
          "length": 4,
          "values": [
           47.29999923706055,
           13.800000190734863,
           216.0,
           4725.0
          ],
          "vectorType": "dense"
         },
         {
          "length": 4,
          "values": [
           0.5527273004705255,
           0.07228920092550069,
           0.75,
           0.6044776119402985
          ],
          "vectorType": "dense"
         }
        ],
        [
         {
          "length": 4,
          "values": [
           47.400001525878906,
           14.600000381469727,
           212.0,
           4725.0
          ],
          "vectorType": "dense"
         },
         {
          "length": 4,
          "values": [
           0.5563637473366477,
           0.16867476385932914,
           0.6785714285714285,
           0.6044776119402985
          ],
          "vectorType": "dense"
         }
        ],
        [
         {
          "length": 4,
          "values": [
           47.5,
           14.0,
           212.0,
           4875.0
          ],
          "vectorType": "dense"
         },
         {
          "length": 4,
          "values": [
           0.5600000554865057,
           0.09638556293382844,
           0.6785714285714285,
           0.6492537313432836
          ],
          "vectorType": "dense"
         }
        ],
        [
         {
          "length": 4,
          "values": [
           47.5,
           14.199999809265137,
           209.0,
           4600.0
          ],
          "vectorType": "dense"
         },
         {
          "length": 4,
          "values": [
           0.5600000554865057,
           0.1204819249421562,
           0.625,
           0.5671641791044776
          ],
          "vectorType": "dense"
         }
        ],
        [
         {
          "length": 4,
          "values": [
           47.599998474121094,
           14.5,
           215.0,
           5400.0
          ],
          "vectorType": "dense"
         },
         {
          "length": 4,
          "values": [
           0.5636363636363636,
           0.15662652540490654,
           0.7321428571428571,
           0.8059701492537313
          ],
          "vectorType": "dense"
         }
        ],
        [
         {
          "length": 4,
          "values": [
           47.79999923706055,
           15.0,
           215.0,
           5650.0
          ],
          "vectorType": "dense"
         },
         {
          "length": 4,
          "values": [
           0.5709091186523437,
           0.21686748787598464,
           0.7321428571428571,
           0.8805970149253731
          ],
          "vectorType": "dense"
         }
        ],
        [
         {
          "length": 4,
          "values": [
           48.099998474121094,
           15.100000381469727,
           209.0,
           5500.0
          ],
          "vectorType": "dense"
         },
         {
          "length": 4,
          "values": [
           0.5818181818181818,
           0.22891572633040724,
           0.625,
           0.835820895522388
          ],
          "vectorType": "dense"
         }
        ],
        [
         {
          "length": 4,
          "values": [
           48.20000076293945,
           14.300000190734863,
           210.0,
           4600.0
          ],
          "vectorType": "dense"
         },
         {
          "length": 4,
          "values": [
           0.585454628684304,
           0.13253016339657878,
           0.6428571428571428,
           0.5671641791044776
          ],
          "vectorType": "dense"
         }
        ],
        [
         {
          "length": 4,
          "values": [
           48.20000076293945,
           15.600000381469727,
           221.0,
           5100.0
          ],
          "vectorType": "dense"
         },
         {
          "length": 4,
          "values": [
           0.585454628684304,
           0.2891566888014853,
           0.8392857142857142,
           0.7164179104477612
          ],
          "vectorType": "dense"
         }
        ],
        [
         {
          "length": 4,
          "values": [
           48.400001525878906,
           14.399999618530273,
           203.0,
           4625.0
          ],
          "vectorType": "dense"
         },
         {
          "length": 4,
          "values": [
           0.5927273837002841,
           0.14457828695048397,
           0.5178571428571428,
           0.5746268656716418
          ],
          "vectorType": "dense"
         }
        ],
        [
         {
          "length": 4,
          "values": [
           48.400001525878906,
           14.600000381469727,
           213.0,
           5850.0
          ],
          "vectorType": "dense"
         },
         {
          "length": 4,
          "values": [
           0.5927273837002841,
           0.16867476385932914,
           0.6964285714285714,
           0.9402985074626866
          ],
          "vectorType": "dense"
         }
        ],
        [
         {
          "length": 4,
          "values": [
           48.400001525878906,
           16.299999237060547,
           220.0,
           5400.0
          ],
          "vectorType": "dense"
         },
         {
          "length": 4,
          "values": [
           0.5927273837002841,
           0.3734938983803738,
           0.8214285714285714,
           0.8059701492537313
          ],
          "vectorType": "dense"
         }
        ],
        [
         {
          "length": 4,
          "values": [
           48.5,
           14.100000381469727,
           220.0,
           5300.0
          ],
          "vectorType": "dense"
         },
         {
          "length": 4,
          "values": [
           0.596363691850142,
           0.10843380138825102,
           0.8214285714285714,
           0.7761194029850746
          ],
          "vectorType": "dense"
         }
        ],
        [
         {
          "length": 4,
          "values": [
           48.5,
           15.0,
           219.0,
           4850.0
          ],
          "vectorType": "dense"
         },
         {
          "length": 4,
          "values": [
           0.596363691850142,
           0.21686748787598464,
           0.8035714285714285,
           0.6417910447761194
          ],
          "vectorType": "dense"
         }
        ],
        [
         {
          "length": 4,
          "values": [
           48.70000076293945,
           14.100000381469727,
           210.0,
           4450.0
          ],
          "vectorType": "dense"
         },
         {
          "length": 4,
          "values": [
           0.6036364468661222,
           0.10843380138825102,
           0.6428571428571428,
           0.5223880597014925
          ],
          "vectorType": "dense"
         }
        ],
        [
         {
          "length": 4,
          "values": [
           48.70000076293945,
           15.100000381469727,
           222.0,
           5350.0
          ],
          "vectorType": "dense"
         },
         {
          "length": 4,
          "values": [
           0.6036364468661222,
           0.22891572633040724,
           0.8571428571428571,
           0.791044776119403
          ],
          "vectorType": "dense"
         }
        ],
        [
         {
          "length": 4,
          "values": [
           48.70000076293945,
           15.699999809265137,
           208.0,
           5350.0
          ],
          "vectorType": "dense"
         },
         {
          "length": 4,
          "values": [
           0.6036364468661222,
           0.30120481235539054,
           0.6071428571428571,
           0.791044776119403
          ],
          "vectorType": "dense"
         }
        ],
        [
         {
          "length": 4,
          "values": [
           48.79999923706055,
           16.200000762939453,
           222.0,
           6000.0
          ],
          "vectorType": "dense"
         },
         {
          "length": 4,
          "values": [
           0.6072727550159801,
           0.36144588972698605,
           0.8571428571428571,
           0.9850746268656716
          ],
          "vectorType": "dense"
         }
        ],
        [
         {
          "length": 4,
          "values": [
           49.0,
           16.100000381469727,
           216.0,
           5550.0
          ],
          "vectorType": "dense"
         },
         {
          "length": 4,
          "values": [
           0.6145455100319602,
           0.34939765127256345,
           0.75,
           0.8507462686567164
          ],
          "vectorType": "dense"
         }
        ],
        [
         {
          "length": 4,
          "values": [
           49.099998474121094,
           14.5,
           212.0,
           4625.0
          ],
          "vectorType": "dense"
         },
         {
          "length": 4,
          "values": [
           0.6181818181818182,
           0.15662652540490654,
           0.6785714285714285,
           0.5746268656716418
          ],
          "vectorType": "dense"
         }
        ],
        [
         {
          "length": 4,
          "values": [
           49.099998474121094,
           14.800000190734863,
           220.0,
           5150.0
          ],
          "vectorType": "dense"
         },
         {
          "length": 4,
          "values": [
           0.6181818181818182,
           0.19277112586765688,
           0.8214285714285714,
           0.7313432835820896
          ],
          "vectorType": "dense"
         }
        ],
        [
         {
          "length": 4,
          "values": [
           49.099998474121094,
           15.0,
           228.0,
           5500.0
          ],
          "vectorType": "dense"
         },
         {
          "length": 4,
          "values": [
           0.6181818181818182,
           0.21686748787598464,
           0.9642857142857142,
           0.835820895522388
          ],
          "vectorType": "dense"
         }
        ],
        [
         {
          "length": 4,
          "values": [
           49.29999923706055,
           15.699999809265137,
           217.0,
           5850.0
          ],
          "vectorType": "dense"
         },
         {
          "length": 4,
          "values": [
           0.6254545731977983,
           0.30120481235539054,
           0.7678571428571428,
           0.9402985074626866
          ],
          "vectorType": "dense"
         }
        ],
        [
         {
          "length": 4,
          "values": [
           49.5,
           16.100000381469727,
           224.0,
           5650.0
          ],
          "vectorType": "dense"
         },
         {
          "length": 4,
          "values": [
           0.6327273282137784,
           0.34939765127256345,
           0.8928571428571428,
           0.8805970149253731
          ],
          "vectorType": "dense"
         }
        ],
        [
         {
          "length": 4,
          "values": [
           49.5,
           16.200000762939453,
           229.0,
           5800.0
          ],
          "vectorType": "dense"
         },
         {
          "length": 4,
          "values": [
           0.6327273282137784,
           0.36144588972698605,
           0.9821428571428571,
           0.9253731343283582
          ],
          "vectorType": "dense"
         }
        ],
        [
         {
          "length": 4,
          "values": [
           49.599998474121094,
           16.0,
           225.0,
           5700.0
          ],
          "vectorType": "dense"
         },
         {
          "length": 4,
          "values": [
           0.6363636363636364,
           0.33734941281814085,
           0.9107142857142857,
           0.8955223880597015
          ],
          "vectorType": "dense"
         }
        ],
        [
         {
          "length": 4,
          "values": [
           49.79999923706055,
           15.899999618530273,
           229.0,
           5950.0
          ],
          "vectorType": "dense"
         },
         {
          "length": 4,
          "values": [
           0.6436363913796165,
           0.32530117436371825,
           0.9821428571428571,
           0.9701492537313433
          ],
          "vectorType": "dense"
         }
        ],
        [
         {
          "length": 4,
          "values": [
           49.79999923706055,
           16.799999237060547,
           230.0,
           5700.0
          ],
          "vectorType": "dense"
         },
         {
          "length": 4,
          "values": [
           0.6436363913796165,
           0.4337348608514519,
           1.0,
           0.8955223880597015
          ],
          "vectorType": "dense"
         }
        ],
        [
         {
          "length": 4,
          "values": [
           50.0,
           15.199999809265137,
           218.0,
           5700.0
          ],
          "vectorType": "dense"
         },
         {
          "length": 4,
          "values": [
           0.6509091463955966,
           0.2409638498843124,
           0.7857142857142857,
           0.8955223880597015
          ],
          "vectorType": "dense"
         }
        ],
        [
         {
          "length": 4,
          "values": [
           50.0,
           15.300000190734863,
           220.0,
           5550.0
          ],
          "vectorType": "dense"
         },
         {
          "length": 4,
          "values": [
           0.6509091463955966,
           0.253012088338735,
           0.8214285714285714,
           0.8507462686567164
          ],
          "vectorType": "dense"
         }
        ],
        [
         {
          "length": 4,
          "values": [
           50.0,
           15.899999618530273,
           224.0,
           5350.0
          ],
          "vectorType": "dense"
         },
         {
          "length": 4,
          "values": [
           0.6509091463955966,
           0.32530117436371825,
           0.8928571428571428,
           0.791044776119403
          ],
          "vectorType": "dense"
         }
        ],
        [
         {
          "length": 4,
          "values": [
           50.0,
           16.299999237060547,
           230.0,
           5700.0
          ],
          "vectorType": "dense"
         },
         {
          "length": 4,
          "values": [
           0.6509091463955966,
           0.3734938983803738,
           1.0,
           0.8955223880597015
          ],
          "vectorType": "dense"
         }
        ],
        [
         {
          "length": 4,
          "values": [
           50.20000076293945,
           14.300000190734863,
           218.0,
           5700.0
          ],
          "vectorType": "dense"
         },
         {
          "length": 4,
          "values": [
           0.6581819014115766,
           0.13253016339657878,
           0.7857142857142857,
           0.8955223880597015
          ],
          "vectorType": "dense"
         }
        ],
        [
         {
          "length": 4,
          "values": [
           50.400001525878906,
           15.699999809265137,
           222.0,
           5750.0
          ],
          "vectorType": "dense"
         },
         {
          "length": 4,
          "values": [
           0.6654546564275567,
           0.30120481235539054,
           0.8571428571428571,
           0.9104477611940298
          ],
          "vectorType": "dense"
         }
        ],
        [
         {
          "length": 4,
          "values": [
           50.5,
           15.899999618530273,
           222.0,
           5550.0
          ],
          "vectorType": "dense"
         },
         {
          "length": 4,
          "values": [
           0.6690909645774148,
           0.32530117436371825,
           0.8571428571428571,
           0.8507462686567164
          ],
          "vectorType": "dense"
         }
        ],
        [
         {
          "length": 4,
          "values": [
           50.70000076293945,
           15.0,
           223.0,
           5550.0
          ],
          "vectorType": "dense"
         },
         {
          "length": 4,
          "values": [
           0.6763637195933948,
           0.21686748787598464,
           0.875,
           0.8507462686567164
          ],
          "vectorType": "dense"
         }
        ],
        [
         {
          "length": 4,
          "values": [
           50.79999923706055,
           15.699999809265137,
           226.0,
           5200.0
          ],
          "vectorType": "dense"
         },
         {
          "length": 4,
          "values": [
           0.6800000277432529,
           0.30120481235539054,
           0.9285714285714285,
           0.746268656716418
          ],
          "vectorType": "dense"
         }
        ],
        [
         {
          "length": 4,
          "values": [
           51.099998474121094,
           16.299999237060547,
           220.0,
           6000.0
          ],
          "vectorType": "dense"
         },
         {
          "length": 4,
          "values": [
           0.6909090909090909,
           0.3734938983803738,
           0.8214285714285714,
           0.9850746268656716
          ],
          "vectorType": "dense"
         }
        ],
        [
         {
          "length": 4,
          "values": [
           51.099998474121094,
           16.5,
           225.0,
           5250.0
          ],
          "vectorType": "dense"
         },
         {
          "length": 4,
          "values": [
           0.6909090909090909,
           0.397590375289219,
           0.9107142857142857,
           0.7611940298507462
          ],
          "vectorType": "dense"
         }
        ],
        [
         {
          "length": 4,
          "values": [
           51.29999923706055,
           14.199999809265137,
           218.0,
           5300.0
          ],
          "vectorType": "dense"
         },
         {
          "length": 4,
          "values": [
           0.698181845925071,
           0.1204819249421562,
           0.7857142857142857,
           0.7761194029850746
          ],
          "vectorType": "dense"
         }
        ],
        [
         {
          "length": 4,
          "values": [
           51.5,
           16.299999237060547,
           230.0,
           5500.0
          ],
          "vectorType": "dense"
         },
         {
          "length": 4,
          "values": [
           0.7054546009410511,
           0.3734938983803738,
           1.0,
           0.835820895522388
          ],
          "vectorType": "dense"
         }
        ],
        [
         {
          "length": 4,
          "values": [
           52.20000076293945,
           17.100000381469727,
           228.0,
           5400.0
          ],
          "vectorType": "dense"
         },
         {
          "length": 4,
          "values": [
           0.7309091741388494,
           0.46987957621471965,
           0.9642857142857142,
           0.8059701492537313
          ],
          "vectorType": "dense"
         }
        ],
        [
         {
          "length": 4,
          "values": [
           52.5,
           15.600000381469727,
           221.0,
           5450.0
          ],
          "vectorType": "dense"
         },
         {
          "length": 4,
          "values": [
           0.7418182373046874,
           0.2891566888014853,
           0.8392857142857142,
           0.8208955223880597
          ],
          "vectorType": "dense"
         }
        ],
        [
         {
          "length": 4,
          "values": [
           53.400001525878906,
           15.800000190734863,
           219.0,
           5500.0
          ],
          "vectorType": "dense"
         },
         {
          "length": 4,
          "values": [
           0.7745455655184659,
           0.3132530508098131,
           0.8035714285714285,
           0.835820895522388
          ],
          "vectorType": "dense"
         }
        ],
        [
         {
          "length": 4,
          "values": [
           55.900001525878906,
           17.0,
           228.0,
           5600.0
          ],
          "vectorType": "dense"
         },
         {
          "length": 4,
          "values": [
           0.8654546564275568,
           0.45783133776029705,
           0.9642857142857142,
           0.8656716417910448
          ],
          "vectorType": "dense"
         }
        ],
        [
         {
          "length": 4,
          "values": [
           59.599998474121094,
           17.0,
           230.0,
           6050.0
          ],
          "vectorType": "dense"
         },
         {
          "length": 4,
          "values": [
           1.0,
           0.45783133776029705,
           1.0,
           1.0
          ],
          "vectorType": "dense"
         }
        ],
        [
         {
          "length": 4,
          "values": [
           32.099998474121094,
           15.5,
           188.0,
           3050.0
          ],
          "vectorType": "dense"
         },
         {
          "length": 4,
          "values": [
           0.0,
           0.2771084503470628,
           0.25,
           0.1044776119402985
          ],
          "vectorType": "dense"
         }
        ],
        [
         {
          "length": 4,
          "values": [
           33.099998474121094,
           16.100000381469727,
           178.0,
           2900.0
          ],
          "vectorType": "dense"
         },
         {
          "length": 4,
          "values": [
           0.03636363636363636,
           0.34939765127256345,
           0.07142857142857142,
           0.05970149253731343
          ],
          "vectorType": "dense"
         }
        ],
        [
         {
          "length": 4,
          "values": [
           35.70000076293945,
           18.0,
           202.0,
           3550.0
          ],
          "vectorType": "dense"
         },
         {
          "length": 4,
          "values": [
           0.13090917413884942,
           0.5783132627024533,
           0.5,
           0.2537313432835821
          ],
          "vectorType": "dense"
         }
        ],
        [
         {
          "length": 4,
          "values": [
           36.0,
           17.100000381469727,
           187.0,
           3700.0
          ],
          "vectorType": "dense"
         },
         {
          "length": 4,
          "values": [
           0.14181823730468748,
           0.46987957621471965,
           0.23214285714285712,
           0.2985074626865672
          ],
          "vectorType": "dense"
         }
        ],
        [
         {
          "length": 4,
          "values": [
           36.0,
           17.799999237060547,
           195.0,
           3450.0
          ],
          "vectorType": "dense"
         },
         {
          "length": 4,
          "values": [
           0.14181823730468748,
           0.5542167857936081,
           0.375,
           0.22388059701492538
          ],
          "vectorType": "dense"
         }
        ],
        [
         {
          "length": 4,
          "values": [
           36.0,
           17.899999618530273,
           190.0,
           3450.0
          ],
          "vectorType": "dense"
         },
         {
          "length": 4,
          "values": [
           0.14181823730468748,
           0.5662650242480307,
           0.2857142857142857,
           0.22388059701492538
          ],
          "vectorType": "dense"
         }
        ],
        [
         {
          "length": 4,
          "values": [
           36.0,
           18.5,
           186.0,
           3100.0
          ],
          "vectorType": "dense"
         },
         {
          "length": 4,
          "values": [
           0.14181823730468748,
           0.6385542251735313,
           0.21428571428571427,
           0.11940298507462686
          ],
          "vectorType": "dense"
         }
        ],
        [
         {
          "length": 4,
          "values": [
           36.599998474121094,
           18.399999618530273,
           184.0,
           3475.0
          ],
          "vectorType": "dense"
         },
         {
          "length": 4,
          "values": [
           0.16363636363636364,
           0.6265059867191087,
           0.17857142857142855,
           0.23134328358208955
          ],
          "vectorType": "dense"
         }
        ],
        [
         {
          "length": 4,
          "values": [
           36.79999923706055,
           18.5,
           193.0,
           3500.0
          ],
          "vectorType": "dense"
         },
         {
          "length": 4,
          "values": [
           0.17090911865234373,
           0.6385542251735313,
           0.33928571428571425,
           0.23880597014925373
          ],
          "vectorType": "dense"
         }
        ],
        [
         {
          "length": 4,
          "values": [
           36.900001525878906,
           18.600000381469727,
           189.0,
           3500.0
          ],
          "vectorType": "dense"
         },
         {
          "length": 4,
          "values": [
           0.1745455655184659,
           0.6506024636279539,
           0.26785714285714285,
           0.23880597014925373
          ],
          "vectorType": "dense"
         }
        ],
        [
         {
          "length": 4,
          "values": [
           37.0,
           16.899999618530273,
           185.0,
           3000.0
          ],
          "vectorType": "dense"
         },
         {
          "length": 4,
          "values": [
           0.17818187366832386,
           0.44578309930587445,
           0.19642857142857142,
           0.08955223880597014
          ],
          "vectorType": "dense"
         }
        ],
        [
         {
          "length": 4,
          "values": [
           37.20000076293945,
           18.100000381469727,
           178.0,
           3900.0
          ],
          "vectorType": "dense"
         },
         {
          "length": 4,
          "values": [
           0.18545462868430396,
           0.5903615011568758,
           0.07142857142857142,
           0.3582089552238806
          ],
          "vectorType": "dense"
         }
        ],
        [
         {
          "length": 4,
          "values": [
           37.29999923706055,
           16.799999237060547,
           192.0,
           3000.0
          ],
          "vectorType": "dense"
         },
         {
          "length": 4,
          "values": [
           0.18909093683416192,
           0.4337348608514519,
           0.3214285714285714,
           0.08955223880597014
          ],
          "vectorType": "dense"
         }
        ],
        [
         {
          "length": 4,
          "values": [
           37.29999923706055,
           17.799999237060547,
           191.0,
           3350.0
          ],
          "vectorType": "dense"
         },
         {
          "length": 4,
          "values": [
           0.18909093683416192,
           0.5542167857936081,
           0.30357142857142855,
           0.19402985074626866
          ],
          "vectorType": "dense"
         }
        ],
        [
         {
          "length": 4,
          "values": [
           37.5,
           18.5,
           199.0,
           4475.0
          ],
          "vectorType": "dense"
         },
         {
          "length": 4,
          "values": [
           0.19636369185014205,
           0.6385542251735313,
           0.4464285714285714,
           0.5298507462686567
          ],
          "vectorType": "dense"
         }
        ],
        [
         {
          "length": 4,
          "values": [
           37.5,
           18.899999618530273,
           179.0,
           2975.0
          ],
          "vectorType": "dense"
         },
         {
          "length": 4,
          "values": [
           0.19636369185014205,
           0.6867469491901869,
           0.08928571428571427,
           0.08208955223880597
          ],
          "vectorType": "dense"
         }
        ],
        [
         {
          "length": 4,
          "values": [
           37.599998474121094,
           19.299999237060547,
           181.0,
           3300.0
          ],
          "vectorType": "dense"
         },
         {
          "length": 4,
          "values": [
           0.19999999999999998,
           0.7349396732068424,
           0.125,
           0.1791044776119403
          ],
          "vectorType": "dense"
         }
        ],
        [
         {
          "length": 4,
          "values": [
           37.79999923706055,
           18.100000381469727,
           193.0,
           3750.0
          ],
          "vectorType": "dense"
         },
         {
          "length": 4,
          "values": [
           0.2072727550159801,
           0.5903615011568758,
           0.33928571428571425,
           0.31343283582089554
          ],
          "vectorType": "dense"
         }
        ],
        [
         {
          "length": 4,
          "values": [
           38.099998474121094,
           17.600000381469727,
           187.0,
           3425.0
          ],
          "vectorType": "dense"
         },
         {
          "length": 4,
          "values": [
           0.21818181818181817,
           0.5301205386857978,
           0.23214285714285712,
           0.2164179104477612
          ],
          "vectorType": "dense"
         }
        ],
        [
         {
          "length": 4,
          "values": [
           38.29999923706055,
           19.200000762939453,
           189.0,
           3950.0
          ],
          "vectorType": "dense"
         },
         {
          "length": 4,
          "values": [
           0.2254545731977983,
           0.7228916645534547,
           0.26785714285714285,
           0.373134328358209
          ],
          "vectorType": "dense"
         }
        ],
        [
         {
          "length": 4,
          "values": [
           38.79999923706055,
           20.0,
           190.0,
           3950.0
          ],
          "vectorType": "dense"
         },
         {
          "length": 4,
          "values": [
           0.24363639137961646,
           0.8192771125867657,
           0.2857142857142857,
           0.373134328358209
          ],
          "vectorType": "dense"
         }
        ],
        [
         {
          "length": 4,
          "values": [
           39.20000076293945,
           21.100000381469727,
           196.0,
           4150.0
          ],
          "vectorType": "dense"
         },
         {
          "length": 4,
          "values": [
           0.2581819014115767,
           0.9518072759833445,
           0.39285714285714285,
           0.4328358208955224
          ],
          "vectorType": "dense"
         }
        ],
        [
         {
          "length": 4,
          "values": [
           39.5,
           17.799999237060547,
           188.0,
           3300.0
          ],
          "vectorType": "dense"
         },
         {
          "length": 4,
          "values": [
           0.26909096457741477,
           0.5542167857936081,
           0.25,
           0.1791044776119403
          ],
          "vectorType": "dense"
         }
        ],
        [
         {
          "length": 4,
          "values": [
           39.599998474121094,
           18.799999237060547,
           190.0,
           4600.0
          ],
          "vectorType": "dense"
         },
         {
          "length": 4,
          "values": [
           0.2727272727272727,
           0.6746987107357643,
           0.2857142857142857,
           0.5671641791044776
          ],
          "vectorType": "dense"
         }
        ],
        [
         {
          "length": 4,
          "values": [
           39.79999923706055,
           19.100000381469727,
           184.0,
           4650.0
          ],
          "vectorType": "dense"
         },
         {
          "length": 4,
          "values": [
           0.28000002774325283,
           0.7108434260990321,
           0.17857142857142855,
           0.582089552238806
          ],
          "vectorType": "dense"
         }
        ],
        [
         {
          "length": 4,
          "values": [
           40.29999923706055,
           18.5,
           196.0,
           4350.0
          ],
          "vectorType": "dense"
         },
         {
          "length": 4,
          "values": [
           0.298181845925071,
           0.6385542251735313,
           0.39285714285714285,
           0.4925373134328358
          ],
          "vectorType": "dense"
         }
        ],
        [
         {
          "length": 4,
          "values": [
           40.599998474121094,
           17.200000762939453,
           187.0,
           3475.0
          ],
          "vectorType": "dense"
         },
         {
          "length": 4,
          "values": [
           0.3090909090909091,
           0.48192781466914225,
           0.23214285714285712,
           0.23134328358208955
          ],
          "vectorType": "dense"
         }
        ],
        [
         {
          "length": 4,
          "values": [
           40.70000076293945,
           17.0,
           190.0,
           3725.0
          ],
          "vectorType": "dense"
         },
         {
          "length": 4,
          "values": [
           0.3127273559570312,
           0.45783133776029705,
           0.2857142857142857,
           0.30597014925373134
          ],
          "vectorType": "dense"
         }
        ],
        [
         {
          "length": 4,
          "values": [
           40.79999923706055,
           18.399999618530273,
           195.0,
           3900.0
          ],
          "vectorType": "dense"
         },
         {
          "length": 4,
          "values": [
           0.3163636641068892,
           0.6265059867191087,
           0.375,
           0.3582089552238806
          ],
          "vectorType": "dense"
         }
        ],
        [
         {
          "length": 4,
          "values": [
           40.79999923706055,
           18.899999618530273,
           208.0,
           4300.0
          ],
          "vectorType": "dense"
         },
         {
          "length": 4,
          "values": [
           0.3163636641068892,
           0.6867469491901869,
           0.6071428571428571,
           0.47761194029850745
          ],
          "vectorType": "dense"
         }
        ],
        [
         {
          "length": 4,
          "values": [
           40.900001525878906,
           16.600000381469727,
           187.0,
           3200.0
          ],
          "vectorType": "dense"
         },
         {
          "length": 4,
          "values": [
           0.32000011097301134,
           0.4096386137436415,
           0.23214285714285712,
           0.1492537313432836
          ],
          "vectorType": "dense"
         }
        ],
        [
         {
          "length": 4,
          "values": [
           40.900001525878906,
           18.899999618530273,
           184.0,
           3900.0
          ],
          "vectorType": "dense"
         },
         {
          "length": 4,
          "values": [
           0.32000011097301134,
           0.6867469491901869,
           0.17857142857142855,
           0.3582089552238806
          ],
          "vectorType": "dense"
         }
        ],
        [
         {
          "length": 4,
          "values": [
           41.099998474121094,
           17.5,
           190.0,
           3900.0
          ],
          "vectorType": "dense"
         },
         {
          "length": 4,
          "values": [
           0.32727272727272727,
           0.5180723002313752,
           0.2857142857142857,
           0.3582089552238806
          ],
          "vectorType": "dense"
         }
        ],
        [
         {
          "length": 4,
          "values": [
           41.099998474121094,
           18.100000381469727,
           205.0,
           4300.0
          ],
          "vectorType": "dense"
         },
         {
          "length": 4,
          "values": [
           0.32727272727272727,
           0.5903615011568758,
           0.5535714285714285,
           0.47761194029850745
          ],
          "vectorType": "dense"
         }
        ],
        [
         {
          "length": 4,
          "values": [
           41.099998474121094,
           19.0,
           182.0,
           3425.0
          ],
          "vectorType": "dense"
         },
         {
          "length": 4,
          "values": [
           0.32727272727272727,
           0.6987951876446095,
           0.14285714285714285,
           0.2164179104477612
          ],
          "vectorType": "dense"
         }
        ],
        [
         {
          "length": 4,
          "values": [
           41.29999923706055,
           20.299999237060547,
           194.0,
           3550.0
          ],
          "vectorType": "dense"
         },
         {
          "length": 4,
          "values": [
           0.3345454822887074,
           0.8554215981489987,
           0.3571428571428571,
           0.2537313432835821
          ],
          "vectorType": "dense"
         }
        ],
        [
         {
          "length": 4,
          "values": [
           41.5,
           18.5,
           201.0,
           4000.0
          ],
          "vectorType": "dense"
         },
         {
          "length": 4,
          "values": [
           0.34181823730468747,
           0.6385542251735313,
           0.4821428571428571,
           0.3880597014925373
          ],
          "vectorType": "dense"
         }
        ],
        [
         {
          "length": 4,
          "values": [
           42.20000076293945,
           18.5,
           180.0,
           3550.0
          ],
          "vectorType": "dense"
         },
         {
          "length": 4,
          "values": [
           0.3672728105024858,
           0.6385542251735313,
           0.10714285714285714,
           0.2537313432835821
          ],
          "vectorType": "dense"
         }
        ],
        [
         {
          "length": 4,
          "values": [
           42.5,
           16.700000762939453,
           187.0,
           3350.0
          ],
          "vectorType": "dense"
         },
         {
          "length": 4,
          "values": [
           0.37818187366832384,
           0.4216868521980641,
           0.23214285714285712,
           0.19402985074626866
          ],
          "vectorType": "dense"
         }
        ],
        [
         {
          "length": 4,
          "values": [
           42.5,
           17.299999237060547,
           187.0,
           3350.0
          ],
          "vectorType": "dense"
         },
         {
          "length": 4,
          "values": [
           0.37818187366832384,
           0.49397582332253,
           0.23214285714285712,
           0.19402985074626866
          ],
          "vectorType": "dense"
         }
        ],
        [
         {
          "length": 4,
          "values": [
           43.20000076293945,
           18.5,
           192.0,
           4100.0
          ],
          "vectorType": "dense"
         },
         {
          "length": 4,
          "values": [
           0.40363644686612216,
           0.6385542251735313,
           0.3214285714285714,
           0.417910447761194
          ],
          "vectorType": "dense"
         }
        ],
        [
         {
          "length": 4,
          "values": [
           44.099998474121094,
           19.700000762939453,
           196.0,
           4400.0
          ],
          "vectorType": "dense"
         },
         {
          "length": 4,
          "values": [
           0.43636363636363634,
           0.7831326270245328,
           0.39285714285714285,
           0.5074626865671642
          ],
          "vectorType": "dense"
         }
        ],
        [
         {
          "length": 4,
          "values": [
           45.20000076293945,
           17.799999237060547,
           198.0,
           3950.0
          ],
          "vectorType": "dense"
         },
         {
          "length": 4,
          "values": [
           0.47636371959339485,
           0.5542167857936081,
           0.42857142857142855,
           0.373134328358209
          ],
          "vectorType": "dense"
         }
        ],
        [
         {
          "length": 4,
          "values": [
           45.400001525878906,
           18.700000762939453,
           188.0,
           3525.0
          ],
          "vectorType": "dense"
         },
         {
          "length": 4,
          "values": [
           0.483636474609375,
           0.6626507020823765,
           0.25,
           0.2462686567164179
          ],
          "vectorType": "dense"
         }
        ],
        [
         {
          "length": 4,
          "values": [
           45.599998474121094,
           19.399999618530273,
           194.0,
           3525.0
          ],
          "vectorType": "dense"
         },
         {
          "length": 4,
          "values": [
           0.4909090909090909,
           0.746987911661265,
           0.3571428571428571,
           0.2462686567164179
          ],
          "vectorType": "dense"
         }
        ],
        [
         {
          "length": 4,
          "values": [
           45.70000076293945,
           17.299999237060547,
           193.0,
           3600.0
          ],
          "vectorType": "dense"
         },
         {
          "length": 4,
          "values": [
           0.49454553777521304,
           0.49397582332253,
           0.33928571428571425,
           0.26865671641791045
          ],
          "vectorType": "dense"
         }
        ],
        [
         {
          "length": 4,
          "values": [
           45.900001525878906,
           17.100000381469727,
           190.0,
           3575.0
          ],
          "vectorType": "dense"
         },
         {
          "length": 4,
          "values": [
           0.5018182927911932,
           0.46987957621471965,
           0.2857142857142857,
           0.26119402985074625
          ],
          "vectorType": "dense"
         }
        ],
        [
         {
          "length": 4,
          "values": [
           46.0,
           18.899999618530273,
           195.0,
           4150.0
          ],
          "vectorType": "dense"
         },
         {
          "length": 4,
          "values": [
           0.5054546009410511,
           0.6867469491901869,
           0.375,
           0.4328358208955224
          ],
          "vectorType": "dense"
         }
        ],
        [
         {
          "length": 4,
          "values": [
           46.099998474121094,
           18.200000762939453,
           178.0,
           3250.0
          ],
          "vectorType": "dense"
         },
         {
          "length": 4,
          "values": [
           0.509090909090909,
           0.6024097396112984,
           0.07142857142857142,
           0.16417910447761194
          ],
          "vectorType": "dense"
         }
        ],
        [
         {
          "length": 4,
          "values": [
           46.20000076293945,
           17.5,
           187.0,
           3650.0
          ],
          "vectorType": "dense"
         },
         {
          "length": 4,
          "values": [
           0.5127273559570312,
           0.5180723002313752,
           0.23214285714285712,
           0.2835820895522388
          ],
          "vectorType": "dense"
         }
        ],
        [
         {
          "length": 4,
          "values": [
           46.400001525878906,
           17.799999237060547,
           191.0,
           3700.0
          ],
          "vectorType": "dense"
         },
         {
          "length": 4,
          "values": [
           0.5200001109730114,
           0.5542167857936081,
           0.30357142857142855,
           0.2985074626865672
          ],
          "vectorType": "dense"
         }
        ],
        [
         {
          "length": 4,
          "values": [
           46.5,
           17.899999618530273,
           192.0,
           3500.0
          ],
          "vectorType": "dense"
         },
         {
          "length": 4,
          "values": [
           0.5236364191228693,
           0.5662650242480307,
           0.3214285714285714,
           0.23880597014925373
          ],
          "vectorType": "dense"
         }
        ],
        [
         {
          "length": 4,
          "values": [
           46.599998474121094,
           17.799999237060547,
           193.0,
           3800.0
          ],
          "vectorType": "dense"
         },
         {
          "length": 4,
          "values": [
           0.5272727272727272,
           0.5542167857936081,
           0.33928571428571425,
           0.3283582089552239
          ],
          "vectorType": "dense"
         }
        ],
        [
         {
          "length": 4,
          "values": [
           46.70000076293945,
           17.899999618530273,
           195.0,
           3300.0
          ],
          "vectorType": "dense"
         },
         {
          "length": 4,
          "values": [
           0.5309091741388494,
           0.5662650242480307,
           0.375,
           0.1791044776119403
          ],
          "vectorType": "dense"
         }
        ],
        [
         {
          "length": 4,
          "values": [
           46.79999923706055,
           16.5,
           189.0,
           3650.0
          ],
          "vectorType": "dense"
         },
         {
          "length": 4,
          "values": [
           0.5345454822887074,
           0.397590375289219,
           0.26785714285714285,
           0.2835820895522388
          ],
          "vectorType": "dense"
         }
        ],
        [
         {
          "length": 4,
          "values": [
           46.900001525878906,
           16.600000381469727,
           192.0,
           2700.0
          ],
          "vectorType": "dense"
         },
         {
          "length": 4,
          "values": [
           0.5381819291548295,
           0.4096386137436415,
           0.3214285714285714,
           0.0
          ],
          "vectorType": "dense"
         }
        ],
        [
         {
          "length": 4,
          "values": [
           47.599998474121094,
           18.299999237060547,
           195.0,
           3850.0
          ],
          "vectorType": "dense"
         },
         {
          "length": 4,
          "values": [
           0.5636363636363636,
           0.6144577482646862,
           0.375,
           0.34328358208955223
          ],
          "vectorType": "dense"
         }
        ],
        [
         {
          "length": 4,
          "values": [
           48.099998474121094,
           16.399999618530273,
           199.0,
           3325.0
          ],
          "vectorType": "dense"
         },
         {
          "length": 4,
          "values": [
           0.5818181818181818,
           0.3855421368347964,
           0.4464285714285714,
           0.1865671641791045
          ],
          "vectorType": "dense"
         }
        ],
        [
         {
          "length": 4,
          "values": [
           48.5,
           17.5,
           191.0,
           3400.0
          ],
          "vectorType": "dense"
         },
         {
          "length": 4,
          "values": [
           0.596363691850142,
           0.5180723002313752,
           0.30357142857142855,
           0.208955223880597
          ],
          "vectorType": "dense"
         }
        ],
        [
         {
          "length": 4,
          "values": [
           49.0,
           19.600000381469727,
           212.0,
           4300.0
          ],
          "vectorType": "dense"
         },
         {
          "length": 4,
          "values": [
           0.6145455100319602,
           0.7710843885701102,
           0.6785714285714285,
           0.47761194029850745
          ],
          "vectorType": "dense"
         }
        ],
        [
         {
          "length": 4,
          "values": [
           49.20000076293945,
           18.200000762939453,
           195.0,
           4400.0
          ],
          "vectorType": "dense"
         },
         {
          "length": 4,
          "values": [
           0.6218182650479404,
           0.6024097396112984,
           0.375,
           0.5074626865671642
          ],
          "vectorType": "dense"
         }
        ],
        [
         {
          "length": 4,
          "values": [
           49.70000076293945,
           18.600000381469727,
           195.0,
           3600.0
          ],
          "vectorType": "dense"
         },
         {
          "length": 4,
          "values": [
           0.6400000832297585,
           0.6506024636279539,
           0.375,
           0.26865671641791045
          ],
          "vectorType": "dense"
         }
        ],
        [
         {
          "length": 4,
          "values": [
           49.79999923706055,
           17.299999237060547,
           198.0,
           3675.0
          ],
          "vectorType": "dense"
         },
         {
          "length": 4,
          "values": [
           0.6436363913796165,
           0.49397582332253,
           0.42857142857142855,
           0.291044776119403
          ],
          "vectorType": "dense"
         }
        ],
        [
         {
          "length": 4,
          "values": [
           50.099998474121094,
           17.899999618530273,
           190.0,
           3400.0
          ],
          "vectorType": "dense"
         },
         {
          "length": 4,
          "values": [
           0.6545454545454545,
           0.5662650242480307,
           0.2857142857142857,
           0.208955223880597
          ],
          "vectorType": "dense"
         }
        ],
        [
         {
          "length": 4,
          "values": [
           50.20000076293945,
           18.700000762939453,
           198.0,
           3775.0
          ],
          "vectorType": "dense"
         },
         {
          "length": 4,
          "values": [
           0.6581819014115766,
           0.6626507020823765,
           0.42857142857142855,
           0.3208955223880597
          ],
          "vectorType": "dense"
         }
        ],
        [
         {
          "length": 4,
          "values": [
           50.20000076293945,
           18.799999237060547,
           202.0,
           3800.0
          ],
          "vectorType": "dense"
         },
         {
          "length": 4,
          "values": [
           0.6581819014115766,
           0.6746987107357643,
           0.5,
           0.3283582089552239
          ],
          "vectorType": "dense"
         }
        ],
        [
         {
          "length": 4,
          "values": [
           50.29999923706055,
           20.0,
           197.0,
           3300.0
          ],
          "vectorType": "dense"
         },
         {
          "length": 4,
          "values": [
           0.6618182095614347,
           0.8192771125867657,
           0.4107142857142857,
           0.1791044776119403
          ],
          "vectorType": "dense"
         }
        ],
        [
         {
          "length": 4,
          "values": [
           50.5,
           18.399999618530273,
           200.0,
           3400.0
          ],
          "vectorType": "dense"
         },
         {
          "length": 4,
          "values": [
           0.6690909645774148,
           0.6265059867191087,
           0.46428571428571425,
           0.208955223880597
          ],
          "vectorType": "dense"
         }
        ],
        [
         {
          "length": 4,
          "values": [
           50.599998474121094,
           19.399999618530273,
           193.0,
           3800.0
          ],
          "vectorType": "dense"
         },
         {
          "length": 4,
          "values": [
           0.6727272727272727,
           0.746987911661265,
           0.33928571428571425,
           0.3283582089552239
          ],
          "vectorType": "dense"
         }
        ],
        [
         {
          "length": 4,
          "values": [
           50.900001525878906,
           19.100000381469727,
           196.0,
           3550.0
          ],
          "vectorType": "dense"
         },
         {
          "length": 4,
          "values": [
           0.6836364746093749,
           0.7108434260990321,
           0.39285714285714285,
           0.2537313432835821
          ],
          "vectorType": "dense"
         }
        ],
        [
         {
          "length": 4,
          "values": [
           51.0,
           18.799999237060547,
           203.0,
           4100.0
          ],
          "vectorType": "dense"
         },
         {
          "length": 4,
          "values": [
           0.6872727827592329,
           0.6746987107357643,
           0.5178571428571428,
           0.417910447761194
          ],
          "vectorType": "dense"
         }
        ],
        [
         {
          "length": 4,
          "values": [
           51.29999923706055,
           18.200000762939453,
           197.0,
           3750.0
          ],
          "vectorType": "dense"
         },
         {
          "length": 4,
          "values": [
           0.698181845925071,
           0.6024097396112984,
           0.4107142857142857,
           0.31343283582089554
          ],
          "vectorType": "dense"
         }
        ],
        [
         {
          "length": 4,
          "values": [
           51.29999923706055,
           19.200000762939453,
           193.0,
           3650.0
          ],
          "vectorType": "dense"
         },
         {
          "length": 4,
          "values": [
           0.698181845925071,
           0.7228916645534547,
           0.33928571428571425,
           0.2835820895522388
          ],
          "vectorType": "dense"
         }
        ],
        [
         {
          "length": 4,
          "values": [
           51.400001525878906,
           19.0,
           201.0,
           3950.0
          ],
          "vectorType": "dense"
         },
         {
          "length": 4,
          "values": [
           0.7018182927911931,
           0.6987951876446095,
           0.4821428571428571,
           0.373134328358209
          ],
          "vectorType": "dense"
         }
        ],
        [
         {
          "length": 4,
          "values": [
           51.70000076293945,
           20.299999237060547,
           194.0,
           3775.0
          ],
          "vectorType": "dense"
         },
         {
          "length": 4,
          "values": [
           0.7127273559570312,
           0.8554215981489987,
           0.3571428571428571,
           0.3208955223880597
          ],
          "vectorType": "dense"
         }
        ],
        [
         {
          "length": 4,
          "values": [
           51.900001525878906,
           19.5,
           206.0,
           3950.0
          ],
          "vectorType": "dense"
         },
         {
          "length": 4,
          "values": [
           0.7200001109730113,
           0.7590361501156876,
           0.5714285714285714,
           0.373134328358209
          ],
          "vectorType": "dense"
         }
        ],
        [
         {
          "length": 4,
          "values": [
           52.0,
           18.100000381469727,
           201.0,
           4050.0
          ],
          "vectorType": "dense"
         },
         {
          "length": 4,
          "values": [
           0.7236364191228692,
           0.5903615011568758,
           0.4821428571428571,
           0.40298507462686567
          ],
          "vectorType": "dense"
         }
        ],
        [
         {
          "length": 4,
          "values": [
           52.0,
           20.700000762939453,
           210.0,
           4800.0
          ],
          "vectorType": "dense"
         },
         {
          "length": 4,
          "values": [
           0.7236364191228692,
           0.9036145519666889,
           0.6428571428571428,
           0.6268656716417911
          ],
          "vectorType": "dense"
         }
        ],
        [
         {
          "length": 4,
          "values": [
           52.20000076293945,
           18.799999237060547,
           197.0,
           3450.0
          ],
          "vectorType": "dense"
         },
         {
          "length": 4,
          "values": [
           0.7309091741388494,
           0.6746987107357643,
           0.4107142857142857,
           0.22388059701492538
          ],
          "vectorType": "dense"
         }
        ],
        [
         {
          "length": 4,
          "values": [
           52.70000076293945,
           19.799999237060547,
           197.0,
           3725.0
          ],
          "vectorType": "dense"
         },
         {
          "length": 4,
          "values": [
           0.7490909923206676,
           0.7951806356779205,
           0.4107142857142857,
           0.30597014925373134
          ],
          "vectorType": "dense"
         }
        ],
        [
         {
          "length": 4,
          "values": [
           52.79999923706055,
           20.0,
           205.0,
           4550.0
          ],
          "vectorType": "dense"
         },
         {
          "length": 4,
          "values": [
           0.7527273004705255,
           0.8192771125867657,
           0.5535714285714285,
           0.5522388059701493
          ],
          "vectorType": "dense"
         }
        ],
        [
         {
          "length": 4,
          "values": [
           53.5,
           19.899999618530273,
           205.0,
           4500.0
          ],
          "vectorType": "dense"
         },
         {
          "length": 4,
          "values": [
           0.7781818736683238,
           0.8072288741323431,
           0.5535714285714285,
           0.5373134328358209
          ],
          "vectorType": "dense"
         }
        ],
        [
         {
          "length": 4,
          "values": [
           54.20000076293945,
           20.799999237060547,
           201.0,
           4300.0
          ],
          "vectorType": "dense"
         },
         {
          "length": 4,
          "values": [
           0.8036364468661221,
           0.9156625606200767,
           0.4821428571428571,
           0.47761194029850745
          ],
          "vectorType": "dense"
         }
        ],
        [
         {
          "length": 4,
          "values": [
           55.79999923706055,
           19.799999237060547,
           207.0,
           4000.0
          ],
          "vectorType": "dense"
         },
         {
          "length": 4,
          "values": [
           0.8618182095614346,
           0.7951806356779205,
           0.5892857142857143,
           0.3880597014925373
          ],
          "vectorType": "dense"
         }
        ],
        [
         {
          "length": 4,
          "values": [
           33.5,
           19.0,
           190.0,
           3600.0
          ],
          "vectorType": "dense"
         },
         {
          "length": 4,
          "values": [
           0.050909146395596586,
           0.6987951876446095,
           0.2857142857142857,
           0.26865671641791045
          ],
          "vectorType": "dense"
         }
        ],
        [
         {
          "length": 4,
          "values": [
           34.099998474121094,
           18.100000381469727,
           193.0,
           3475.0
          ],
          "vectorType": "dense"
         },
         {
          "length": 4,
          "values": [
           0.07272727272727272,
           0.5903615011568758,
           0.33928571428571425,
           0.23134328358208955
          ],
          "vectorType": "dense"
         }
        ],
        [
         {
          "length": 4,
          "values": [
           34.400001525878906,
           18.399999618530273,
           184.0,
           3325.0
          ],
          "vectorType": "dense"
         },
         {
          "length": 4,
          "values": [
           0.083636474609375,
           0.6265059867191087,
           0.17857142857142855,
           0.1865671641791045
          ],
          "vectorType": "dense"
         }
        ],
        [
         {
          "length": 4,
          "values": [
           34.599998474121094,
           17.200000762939453,
           189.0,
           3200.0
          ],
          "vectorType": "dense"
         },
         {
          "length": 4,
          "values": [
           0.09090909090909091,
           0.48192781466914225,
           0.26785714285714285,
           0.1492537313432836
          ],
          "vectorType": "dense"
         }
        ],
        [
         {
          "length": 4,
          "values": [
           34.599998474121094,
           21.100000381469727,
           198.0,
           4400.0
          ],
          "vectorType": "dense"
         },
         {
          "length": 4,
          "values": [
           0.09090909090909091,
           0.9518072759833445,
           0.42857142857142855,
           0.5074626865671642
          ],
          "vectorType": "dense"
         }
        ],
        [
         {
          "length": 4,
          "values": [
           35.099998474121094,
           19.399999618530273,
           193.0,
           4200.0
          ],
          "vectorType": "dense"
         },
         {
          "length": 4,
          "values": [
           0.10909090909090909,
           0.746987911661265,
           0.33928571428571425,
           0.44776119402985076
          ],
          "vectorType": "dense"
         }
        ],
        [
         {
          "length": 4,
          "values": [
           35.20000076293945,
           15.899999618530273,
           186.0,
           3050.0
          ],
          "vectorType": "dense"
         },
         {
          "length": 4,
          "values": [
           0.11272735595703125,
           0.32530117436371825,
           0.21428571428571427,
           0.1044776119402985
          ],
          "vectorType": "dense"
         }
        ],
        [
         {
          "length": 4,
          "values": [
           35.5,
           17.5,
           190.0,
           3700.0
          ],
          "vectorType": "dense"
         },
         {
          "length": 4,
          "values": [
           0.12363641912286931,
           0.5180723002313752,
           0.2857142857142857,
           0.2985074626865672
          ],
          "vectorType": "dense"
         }
        ],
        [
         {
          "length": 4,
          "values": [
           36.599998474121094,
           17.799999237060547,
           185.0,
           3700.0
          ],
          "vectorType": "dense"
         },
         {
          "length": 4,
          "values": [
           0.16363636363636364,
           0.5542167857936081,
           0.19642857142857142,
           0.2985074626865672
          ],
          "vectorType": "dense"
         }
        ],
        [
         {
          "length": 4,
          "values": [
           36.70000076293945,
           18.799999237060547,
           187.0,
           3800.0
          ],
          "vectorType": "dense"
         },
         {
          "length": 4,
          "values": [
           0.1672728105024858,
           0.6746987107357643,
           0.23214285714285712,
           0.3283582089552239
          ],
          "vectorType": "dense"
         }
        ],
        [
         {
          "length": 4,
          "values": [
           36.70000076293945,
           19.299999237060547,
           193.0,
           3450.0
          ],
          "vectorType": "dense"
         },
         {
          "length": 4,
          "values": [
           0.1672728105024858,
           0.7349396732068424,
           0.33928571428571425,
           0.22388059701492538
          ],
          "vectorType": "dense"
         }
        ],
        [
         {
          "length": 4,
          "values": [
           37.20000076293945,
           19.399999618530273,
           184.0,
           3900.0
          ],
          "vectorType": "dense"
         },
         {
          "length": 4,
          "values": [
           0.18545462868430396,
           0.746987911661265,
           0.17857142857142855,
           0.3582089552238806
          ],
          "vectorType": "dense"
         }
        ],
        [
         {
          "length": 4,
          "values": [
           37.70000076293945,
           19.799999237060547,
           198.0,
           3500.0
          ],
          "vectorType": "dense"
         },
         {
          "length": 4,
          "values": [
           0.20363644686612214,
           0.7951806356779205,
           0.42857142857142855,
           0.23880597014925373
          ],
          "vectorType": "dense"
         }
        ],
        [
         {
          "length": 4,
          "values": [
           37.79999923706055,
           17.299999237060547,
           180.0,
           3700.0
          ],
          "vectorType": "dense"
         },
         {
          "length": 4,
          "values": [
           0.2072727550159801,
           0.49397582332253,
           0.10714285714285714,
           0.2985074626865672
          ],
          "vectorType": "dense"
         }
        ],
        [
         {
          "length": 4,
          "values": [
           38.5,
           17.899999618530273,
           190.0,
           3325.0
          ],
          "vectorType": "dense"
         },
         {
          "length": 4,
          "values": [
           0.2327273282137784,
           0.5662650242480307,
           0.2857142857142857,
           0.1865671641791045
          ],
          "vectorType": "dense"
         }
        ],
        [
         {
          "length": 4,
          "values": [
           38.599998474121094,
           21.200000762939453,
           191.0,
           3800.0
          ],
          "vectorType": "dense"
         },
         {
          "length": 4,
          "values": [
           0.23636363636363636,
           0.9638555144377671,
           0.30357142857142855,
           0.3283582089552239
          ],
          "vectorType": "dense"
         }
        ],
        [
         {
          "length": 4,
          "values": [
           38.79999923706055,
           17.600000381469727,
           191.0,
           3275.0
          ],
          "vectorType": "dense"
         },
         {
          "length": 4,
          "values": [
           0.24363639137961646,
           0.5301205386857978,
           0.30357142857142855,
           0.17164179104477612
          ],
          "vectorType": "dense"
         }
        ],
        [
         {
          "length": 4,
          "values": [
           39.0,
           17.100000381469727,
           191.0,
           3050.0
          ],
          "vectorType": "dense"
         },
         {
          "length": 4,
          "values": [
           0.2509091463955966,
           0.46987957621471965,
           0.30357142857142855,
           0.1044776119402985
          ],
          "vectorType": "dense"
         }
        ],
        [
         {
          "length": 4,
          "values": [
           39.099998474121094,
           18.700000762939453,
           181.0,
           3750.0
          ],
          "vectorType": "dense"
         },
         {
          "length": 4,
          "values": [
           0.2545454545454545,
           0.6626507020823765,
           0.125,
           0.31343283582089554
          ],
          "vectorType": "dense"
         }
        ],
        [
         {
          "length": 4,
          "values": [
           39.20000076293945,
           19.600000381469727,
           195.0,
           4675.0
          ],
          "vectorType": "dense"
         },
         {
          "length": 4,
          "values": [
           0.2581819014115767,
           0.7710843885701102,
           0.375,
           0.5895522388059702
          ],
          "vectorType": "dense"
         }
        ],
        [
         {
          "length": 4,
          "values": [
           39.29999923706055,
           20.600000381469727,
           190.0,
           3650.0
          ],
          "vectorType": "dense"
         },
         {
          "length": 4,
          "values": [
           0.26181820956143464,
           0.8915663135122663,
           0.2857142857142857,
           0.2835820895522388
          ],
          "vectorType": "dense"
         }
        ],
        [
         {
          "length": 4,
          "values": [
           39.5,
           17.399999618530273,
           186.0,
           3800.0
          ],
          "vectorType": "dense"
         },
         {
          "length": 4,
          "values": [
           0.26909096457741477,
           0.5060240617769526,
           0.21428571428571427,
           0.3283582089552239
          ],
          "vectorType": "dense"
         }
        ],
        [
         {
          "length": 4,
          "values": [
           39.599998474121094,
           17.200000762939453,
           196.0,
           3550.0
          ],
          "vectorType": "dense"
         },
         {
          "length": 4,
          "values": [
           0.2727272727272727,
           0.48192781466914225,
           0.39285714285714285,
           0.2537313432835821
          ],
          "vectorType": "dense"
         }
        ],
        [
         {
          "length": 4,
          "values": [
           39.70000076293945,
           18.399999618530273,
           190.0,
           3900.0
          ],
          "vectorType": "dense"
         },
         {
          "length": 4,
          "values": [
           0.2763637195933949,
           0.6265059867191087,
           0.2857142857142857,
           0.3582089552238806
          ],
          "vectorType": "dense"
         }
        ],
        [
         {
          "length": 4,
          "values": [
           40.20000076293945,
           17.0,
           176.0,
           3450.0
          ],
          "vectorType": "dense"
         },
         {
          "length": 4,
          "values": [
           0.29454553777521303,
           0.45783133776029705,
           0.03571428571428571,
           0.22388059701492538
          ],
          "vectorType": "dense"
         }
        ],
        [
         {
          "length": 4,
          "values": [
           41.400001525878906,
           18.5,
           202.0,
           3875.0
          ],
          "vectorType": "dense"
         },
         {
          "length": 4,
          "values": [
           0.33818192915482953,
           0.6385542251735313,
           0.5,
           0.35074626865671643
          ],
          "vectorType": "dense"
         }
        ],
        [
         {
          "length": 4,
          "values": [
           41.79999923706055,
           19.399999618530273,
           198.0,
           4450.0
          ],
          "vectorType": "dense"
         },
         {
          "length": 4,
          "values": [
           0.35272730047052553,
           0.746987911661265,
           0.42857142857142855,
           0.5223880597014925
          ],
          "vectorType": "dense"
         }
        ],
        [
         {
          "length": 4,
          "values": [
           42.0,
           20.200000762939453,
           190.0,
           4250.0
          ],
          "vectorType": "dense"
         },
         {
          "length": 4,
          "values": [
           0.36000005548650565,
           0.8433735894956108,
           0.2857142857142857,
           0.4626865671641791
          ],
          "vectorType": "dense"
         }
        ],
        [
         {
          "length": 4,
          "values": [
           42.5,
           20.700000762939453,
           197.0,
           4500.0
          ],
          "vectorType": "dense"
         },
         {
          "length": 4,
          "values": [
           0.37818187366832384,
           0.9036145519666889,
           0.4107142857142857,
           0.5373134328358209
          ],
          "vectorType": "dense"
         }
        ],
        [
         {
          "length": 4,
          "values": [
           42.79999923706055,
           18.5,
           195.0,
           4250.0
          ],
          "vectorType": "dense"
         },
         {
          "length": 4,
          "values": [
           0.3890909368341619,
           0.6385542251735313,
           0.375,
           0.4626865671641791
          ],
          "vectorType": "dense"
         }
        ],
        [
         {
          "length": 4,
          "values": [
           44.099998474121094,
           18.0,
           210.0,
           4000.0
          ],
          "vectorType": "dense"
         },
         {
          "length": 4,
          "values": [
           0.43636363636363634,
           0.5783132627024533,
           0.6428571428571428,
           0.3880597014925373
          ],
          "vectorType": "dense"
         }
        ],
        [
         {
          "length": 4,
          "values": [
           46.0,
           21.5,
           194.0,
           4200.0
          ],
          "vectorType": "dense"
         },
         {
          "length": 4,
          "values": [
           0.5054546009410511,
           1.0,
           0.3571428571428571,
           0.44776119402985076
          ],
          "vectorType": "dense"
         }
        ]
       ],
       "datasetInfos": [],
       "dbfsResultPath": null,
       "isJsonSchema": true,
       "metadata": {},
       "overflow": false,
       "plotOptions": {
        "customPlotOptions": {},
        "displayType": "table",
        "pivotAggregation": null,
        "pivotColumns": null,
        "xColumns": null,
        "yColumns": null
       },
       "removedWidgets": [],
       "schema": [
        {
         "metadata": "{\"ml_attr\":{\"attrs\":{\"numeric\":[{\"idx\":0,\"name\":\"CulmenLength\"},{\"idx\":1,\"name\":\"CulmenDepth\"},{\"idx\":2,\"name\":\"FlipperLength\"},{\"idx\":3,\"name\":\"BodyMass\"}]},\"num_attrs\":4}}",
         "name": "numericFeatures",
         "type": "{\"type\":\"udt\",\"class\":\"org.apache.spark.ml.linalg.VectorUDT\",\"pyClass\":\"pyspark.ml.linalg.VectorUDT\",\"sqlType\":{\"type\":\"struct\",\"fields\":[{\"name\":\"type\",\"type\":\"byte\",\"nullable\":false,\"metadata\":{}},{\"name\":\"size\",\"type\":\"integer\",\"nullable\":true,\"metadata\":{}},{\"name\":\"indices\",\"type\":{\"type\":\"array\",\"elementType\":\"integer\",\"containsNull\":false},\"nullable\":true,\"metadata\":{}},{\"name\":\"values\",\"type\":{\"type\":\"array\",\"elementType\":\"double\",\"containsNull\":false},\"nullable\":true,\"metadata\":{}}]}}"
        },
        {
         "metadata": "{\"ml_attr\":{\"num_attrs\":4}}",
         "name": "normalizedFeatures",
         "type": "{\"type\":\"udt\",\"class\":\"org.apache.spark.ml.linalg.VectorUDT\",\"pyClass\":\"pyspark.ml.linalg.VectorUDT\",\"sqlType\":{\"type\":\"struct\",\"fields\":[{\"name\":\"type\",\"type\":\"byte\",\"nullable\":false,\"metadata\":{}},{\"name\":\"size\",\"type\":\"integer\",\"nullable\":true,\"metadata\":{}},{\"name\":\"indices\",\"type\":{\"type\":\"array\",\"elementType\":\"integer\",\"containsNull\":false},\"nullable\":true,\"metadata\":{}},{\"name\":\"values\",\"type\":{\"type\":\"array\",\"elementType\":\"double\",\"containsNull\":false},\"nullable\":true,\"metadata\":{}}]}}"
        }
       ],
       "type": "table"
      }
     },
     "output_type": "display_data"
    }
   ],
   "source": [
    "from pyspark.ml.feature import VectorAssembler, MinMaxScaler\n",
    "\n",
    "# Create a vector column containing all numeric features\n",
    "numericFeatures = [\"CulmenLength\", \"CulmenDepth\", \"FlipperLength\", \"BodyMass\"]\n",
    "numericColVector = VectorAssembler(inputCols=numericFeatures, outputCol=\"numericFeatures\")\n",
    "vectorizedData = numericColVector.transform(indexedData)\n",
    "   \n",
    "# Use a MinMax scaler to normalize the numeric values in the vector\n",
    "minMax = MinMaxScaler(inputCol = numericColVector.getOutputCol(), outputCol=\"normalizedFeatures\")\n",
    "scaledData = minMax.fit(vectorizedData).transform(vectorizedData)\n",
    "   \n",
    "# Display the data with numeric feature vectors (before and after scaling)\n",
    "compareNumerics = scaledData.select(\"numericFeatures\", \"normalizedFeatures\")\n",
    "display(compareNumerics)"
   ]
  },
  {
   "cell_type": "code",
   "execution_count": 0,
   "metadata": {
    "application/vnd.databricks.v1+cell": {
     "cellMetadata": {
      "byteLimit": 2048000,
      "rowLimit": 10000
     },
     "inputWidgets": {},
     "nuid": "fff46129-7e26-40ca-9941-d618ead35166",
     "showTitle": false,
     "title": ""
    }
   },
   "outputs": [
    {
     "output_type": "display_data",
     "data": {
      "text/html": [
       "<style scoped>\n",
       "  .table-result-container {\n",
       "    max-height: 300px;\n",
       "    overflow: auto;\n",
       "  }\n",
       "  table, th, td {\n",
       "    border: 1px solid black;\n",
       "    border-collapse: collapse;\n",
       "  }\n",
       "  th, td {\n",
       "    padding: 5px;\n",
       "  }\n",
       "  th {\n",
       "    text-align: left;\n",
       "  }\n",
       "</style><div class='table-result-container'><table class='table-result'><thead style='background-color: white'><tr><th>features</th><th>label</th></tr></thead><tbody><tr><td>Map(vectorType -> dense, length -> 5, values -> List(0.0, 0.10545460094105114, 0.5662650242480307, 0.3214285714285714, 0.30597014925373134))</td><td>0</td></tr><tr><td>Map(vectorType -> dense, length -> 5, values -> List(0.0, 0.1163636641068892, 0.6867469491901869, 0.23214285714285712, 0.3283582089552239))</td><td>0</td></tr><tr><td>Map(vectorType -> dense, length -> 5, values -> List(0.0, 0.13090917413884942, 0.44578309930587445, 0.19642857142857142, 0.13432835820895522))</td><td>0</td></tr><tr><td>Map(vectorType -> dense, length -> 5, values -> List(0.0, 0.13818192915482955, 0.7228916645534547, 0.26785714285714285, 0.3283582089552239))</td><td>0</td></tr><tr><td>Map(vectorType -> dense, length -> 5, values -> List(0.0, 0.1563637473366477, 0.46987957621471965, 0.17857142857142855, 0.04477611940298507))</td><td>0</td></tr><tr><td>Map(vectorType -> dense, length -> 5, values -> List(0.0, 0.16000005548650567, 0.4096386137436415, 0.125, 0.04477611940298507))</td><td>0</td></tr><tr><td>Map(vectorType -> dense, length -> 5, values -> List(0.0, 0.19999999999999998, 0.45783133776029705, 0.19642857142857142, 0.26865671641791045))</td><td>0</td></tr><tr><td>Map(vectorType -> dense, length -> 5, values -> List(0.0, 0.19999999999999998, 0.7108434260990321, 0.3571428571428571, 0.31343283582089554))</td><td>0</td></tr><tr><td>Map(vectorType -> dense, length -> 5, values -> List(0.0, 0.20363644686612214, 0.33734941281814085, 0.1607142857142857, 0.11194029850746269))</td><td>0</td></tr><tr><td>Map(vectorType -> dense, length -> 5, values -> List(0.0, 0.20363644686612214, 0.6626507020823765, 0.10714285714285714, 0.26865671641791045))</td><td>0</td></tr><tr><td>Map(vectorType -> dense, length -> 5, values -> List(0.0, 0.2072727550159801, 0.6144577482646862, 0.0, 0.208955223880597))</td><td>0</td></tr><tr><td>Map(vectorType -> dense, length -> 5, values -> List(0.0, 0.2072727550159801, 0.8192771125867657, 0.2857142857142857, 0.4626865671641791))</td><td>0</td></tr><tr><td>Map(vectorType -> dense, length -> 5, values -> List(0.0, 0.21090920188210227, 0.6506024636279539, 0.33928571428571425, 0.06716417910447761))</td><td>0</td></tr><tr><td>Map(vectorType -> dense, length -> 5, values -> List(0.0, 0.21818181818181817, 0.45783133776029705, 0.125, 0.1417910447761194))</td><td>0</td></tr><tr><td>Map(vectorType -> dense, length -> 5, values -> List(0.0, 0.22181826504794033, 0.5903615011568758, 0.19642857142857142, 0.373134328358209))</td><td>0</td></tr><tr><td>Map(vectorType -> dense, length -> 5, values -> List(0.0, 0.22181826504794033, 0.8192771125867657, 0.2857142857142857, 0.3582089552238806))</td><td>0</td></tr><tr><td>Map(vectorType -> dense, length -> 5, values -> List(0.0, 0.24363639137961646, 0.48192781466914225, 0.10714285714285714, 0.3283582089552239))</td><td>0</td></tr><tr><td>Map(vectorType -> dense, length -> 5, values -> List(0.0, 0.2509091463955966, 0.5180723002313752, 0.21428571428571427, 0.2537313432835821))</td><td>0</td></tr><tr><td>Map(vectorType -> dense, length -> 5, values -> List(0.0, 0.2727272727272727, 0.5421687771402204, 0.21428571428571427, 0.23880597014925373))</td><td>0</td></tr><tr><td>Map(vectorType -> dense, length -> 5, values -> List(0.0, 0.2727272727272727, 0.9036145519666889, 0.30357142857142855, 0.3582089552238806))</td><td>0</td></tr><tr><td>Map(vectorType -> dense, length -> 5, values -> List(0.0, 0.2763637195933949, 0.6867469491901869, 0.17857142857142855, 0.2537313432835821))</td><td>0</td></tr><tr><td>Map(vectorType -> dense, length -> 5, values -> List(0.0, 0.2909090909090909, 0.6867469491901869, 0.25, 0.47761194029850745))</td><td>0</td></tr><tr><td>Map(vectorType -> dense, length -> 5, values -> List(0.0, 0.30545460094105115, 0.6867469491901869, 0.10714285714285714, 0.373134328358209))</td><td>0</td></tr><tr><td>Map(vectorType -> dense, length -> 5, values -> List(0.0, 0.3090909090909091, 0.6506024636279539, 0.1607142857142857, 0.2537313432835821))</td><td>0</td></tr><tr><td>Map(vectorType -> dense, length -> 5, values -> List(0.0, 0.3090909090909091, 0.6746987107357643, 0.33928571428571425, 0.3283582089552239))</td><td>0</td></tr><tr><td>Map(vectorType -> dense, length -> 5, values -> List(0.0, 0.32727272727272727, 0.7108434260990321, 0.25, 0.417910447761194))</td><td>0</td></tr><tr><td>Map(vectorType -> dense, length -> 5, values -> List(0.0, 0.3345454822887074, 0.9518072759833445, 0.375, 0.5074626865671642))</td><td>0</td></tr><tr><td>Map(vectorType -> dense, length -> 5, values -> List(0.0, 0.33818192915482953, 0.6506024636279539, 0.30357142857142855, 0.2985074626865672))</td><td>0</td></tr><tr><td>Map(vectorType -> dense, length -> 5, values -> List(0.0, 0.3672728105024858, 0.7590361501156876, 0.4107142857142857, 0.4701492537313433))</td><td>0</td></tr><tr><td>Map(vectorType -> dense, length -> 5, values -> List(0.0, 0.38545462868430397, 0.0602409624710781, 0.6071428571428571, 0.373134328358209))</td><td>1</td></tr><tr><td>Map(vectorType -> dense, length -> 5, values -> List(0.0, 0.3890909368341619, 0.1204819249421562, 0.625, 0.5970149253731344))</td><td>1</td></tr><tr><td>Map(vectorType -> dense, length -> 5, values -> List(0.0, 0.40363644686612216, 0.6987951876446095, 0.4107142857142857, 0.6194029850746269))</td><td>0</td></tr><tr><td>Map(vectorType -> dense, length -> 5, values -> List(0.0, 0.4072727550159801, 0.09638556293382844, 0.6071428571428571, 0.5597014925373134))</td><td>1</td></tr><tr><td>Map(vectorType -> dense, length -> 5, values -> List(0.0, 0.4109092018821022, 0.14457828695048397, 0.7857142857142857, 0.5671641791044776))</td><td>1</td></tr><tr><td>Map(vectorType -> dense, length -> 5, values -> List(0.0, 0.4145455100319602, 0.1204819249421562, 0.8214285714285714, 0.5970149253731344))</td><td>1</td></tr><tr><td>Map(vectorType -> dense, length -> 5, values -> List(0.0, 0.4145455100319602, 0.2409638498843124, 0.6964285714285714, 0.582089552238806))</td><td>1</td></tr><tr><td>Map(vectorType -> dense, length -> 5, values -> List(0.0, 0.41818181818181815, 0.08433732447940587, 0.7678571428571428, 0.6567164179104478))</td><td>1</td></tr><tr><td>Map(vectorType -> dense, length -> 5, values -> List(0.0, 0.4327273282137784, 0.04819283891717293, 0.6071428571428571, 0.4925373134328358))</td><td>1</td></tr><tr><td>Map(vectorType -> dense, length -> 5, values -> List(0.0, 0.4472728382457386, 0.49397582332253, 0.8035714285714285, 0.7611940298507462))</td><td>1</td></tr><tr><td>Map(vectorType -> dense, length -> 5, values -> List(0.0, 0.4509091463955966, 0.13253016339657878, 0.75, 0.417910447761194))</td><td>1</td></tr><tr><td>Map(vectorType -> dense, length -> 5, values -> List(0.0, 0.4509091463955966, 0.1807228874132343, 0.7142857142857142, 0.6417910447761194))</td><td>1</td></tr><tr><td>Map(vectorType -> dense, length -> 5, values -> List(0.0, 0.4509091463955966, 0.30120481235539054, 0.7678571428571428, 0.6492537313432836))</td><td>1</td></tr><tr><td>Map(vectorType -> dense, length -> 5, values -> List(0.0, 0.4654546564275568, 0.012048238454422584, 0.6964285714285714, 0.7164179104477612))</td><td>1</td></tr><tr><td>Map(vectorType -> dense, length -> 5, values -> List(0.0, 0.4690909645774147, 0.2650602118926402, 0.8214285714285714, 0.7014925373134329))</td><td>1</td></tr><tr><td>Map(vectorType -> dense, length -> 5, values -> List(0.0, 0.4727272727272727, 0.15662652540490654, 0.5892857142857143, 0.7014925373134329))</td><td>1</td></tr><tr><td>Map(vectorType -> dense, length -> 5, values -> List(0.0, 0.4727272727272727, 0.15662652540490654, 0.7321428571428571, 0.6865671641791045))</td><td>1</td></tr><tr><td>Map(vectorType -> dense, length -> 5, values -> List(0.0, 0.47636371959339485, 0.07228920092550069, 0.7321428571428571, 0.6119402985074627))</td><td>1</td></tr><tr><td>Map(vectorType -> dense, length -> 5, values -> List(0.0, 0.47636371959339485, 0.19277112586765688, 0.6785714285714285, 0.746268656716418))</td><td>1</td></tr><tr><td>Map(vectorType -> dense, length -> 5, values -> List(0.0, 0.47636371959339485, 0.3132530508098131, 0.7321428571428571, 0.7761194029850746))</td><td>1</td></tr><tr><td>Map(vectorType -> dense, length -> 5, values -> List(0.0, 0.47636371959339485, 0.3855421368347964, 0.875, 0.9701492537313433))</td><td>1</td></tr><tr><td>Map(vectorType -> dense, length -> 5, values -> List(0.0, 0.48000002774325284, 0.0602409624710781, 0.6428571428571428, 0.47761194029850745))</td><td>1</td></tr><tr><td>Map(vectorType -> dense, length -> 5, values -> List(0.0, 0.48000002774325284, 0.07228920092550069, 0.6071428571428571, 0.44776119402985076))</td><td>1</td></tr><tr><td>Map(vectorType -> dense, length -> 5, values -> List(0.0, 0.4872727827592329, 0.0602409624710781, 0.7142857142857142, 0.582089552238806))</td><td>1</td></tr><tr><td>Map(vectorType -> dense, length -> 5, values -> List(0.0, 0.4872727827592329, 0.08433732447940587, 0.6428571428571428, 0.44776119402985076))</td><td>1</td></tr><tr><td>Map(vectorType -> dense, length -> 5, values -> List(0.0, 0.4872727827592329, 0.15662652540490654, 0.6785714285714285, 0.6119402985074627))</td><td>1</td></tr><tr><td>Map(vectorType -> dense, length -> 5, values -> List(0.0, 0.4872727827592329, 0.21686748787598464, 0.8214285714285714, 0.6865671641791045))</td><td>1</td></tr><tr><td>Map(vectorType -> dense, length -> 5, values -> List(0.0, 0.4909090909090909, 0.8554215981489987, 0.30357142857142855, 0.5671641791044776))</td><td>0</td></tr><tr><td>Map(vectorType -> dense, length -> 5, values -> List(0.0, 0.498181845925071, 0.16867476385932914, 0.6428571428571428, 0.44776119402985076))</td><td>1</td></tr><tr><td>Map(vectorType -> dense, length -> 5, values -> List(0.0, 0.509090909090909, 0.0, 0.6607142857142857, 0.5373134328358209))</td><td>1</td></tr><tr><td>Map(vectorType -> dense, length -> 5, values -> List(0.0, 0.509090909090909, 0.22891572633040724, 0.7321428571428571, 0.7164179104477612))</td><td>1</td></tr><tr><td>Map(vectorType -> dense, length -> 5, values -> List(0.0, 0.5127273559570312, 0.10843380138825102, 0.7678571428571428, 0.5))</td><td>1</td></tr><tr><td>Map(vectorType -> dense, length -> 5, values -> List(0.0, 0.5127273559570312, 0.14457828695048397, 0.7142857142857142, 0.582089552238806))</td><td>1</td></tr><tr><td>Map(vectorType -> dense, length -> 5, values -> List(0.0, 0.5127273559570312, 0.20481924942156207, 0.8392857142857142, 0.7761194029850746))</td><td>1</td></tr><tr><td>Map(vectorType -> dense, length -> 5, values -> List(0.0, 0.5200001109730114, 0.21686748787598464, 0.75, 0.5970149253731344))</td><td>1</td></tr><tr><td>Map(vectorType -> dense, length -> 5, values -> List(0.0, 0.5236364191228693, 0.036144600462750344, 0.6428571428571428, 0.5522388059701493))</td><td>1</td></tr><tr><td>Map(vectorType -> dense, length -> 5, values -> List(0.0, 0.5236364191228693, 0.15662652540490654, 0.6964285714285714, 0.5074626865671642))</td><td>1</td></tr><tr><td>Map(vectorType -> dense, length -> 5, values -> List(0.0, 0.5236364191228693, 0.19277112586765688, 0.7678571428571428, 0.746268656716418))</td><td>1</td></tr><tr><td>Map(vectorType -> dense, length -> 5, values -> List(0.0, 0.5272727272727272, 0.1204819249421562, 0.6428571428571428, 0.6417910447761194))</td><td>1</td></tr><tr><td>Map(vectorType -> dense, length -> 5, values -> List(0.0, 0.5309091741388494, 0.253012088338735, 0.8035714285714285, 0.746268656716418))</td><td>1</td></tr><tr><td>Map(vectorType -> dense, length -> 5, values -> List(0.0, 0.5345454822887074, 0.13253016339657878, 0.7321428571428571, 0.6417910447761194))</td><td>1</td></tr><tr><td>Map(vectorType -> dense, length -> 5, values -> List(0.0, 0.5345454822887074, 0.2650602118926402, 0.7321428571428571, 0.7313432835820896))</td><td>1</td></tr><tr><td>Map(vectorType -> dense, length -> 5, values -> List(0.0, 0.5345454822887074, 0.34939765127256345, 0.7321428571428571, 0.835820895522388))</td><td>1</td></tr><tr><td>Map(vectorType -> dense, length -> 5, values -> List(0.0, 0.5490909923206676, 0.0602409624710781, 0.7142857142857142, 0.664179104477612))</td><td>1</td></tr><tr><td>Map(vectorType -> dense, length -> 5, values -> List(0.0, 0.5527273004705255, 0.07228920092550069, 0.75, 0.6044776119402985))</td><td>1</td></tr><tr><td>Map(vectorType -> dense, length -> 5, values -> List(0.0, 0.5563637473366477, 0.16867476385932914, 0.6785714285714285, 0.6044776119402985))</td><td>1</td></tr><tr><td>Map(vectorType -> dense, length -> 5, values -> List(0.0, 0.5600000554865057, 0.09638556293382844, 0.6785714285714285, 0.6492537313432836))</td><td>1</td></tr><tr><td>Map(vectorType -> dense, length -> 5, values -> List(0.0, 0.5600000554865057, 0.1204819249421562, 0.625, 0.5671641791044776))</td><td>1</td></tr><tr><td>Map(vectorType -> dense, length -> 5, values -> List(0.0, 0.5636363636363636, 0.15662652540490654, 0.7321428571428571, 0.8059701492537313))</td><td>1</td></tr><tr><td>Map(vectorType -> dense, length -> 5, values -> List(0.0, 0.5709091186523437, 0.21686748787598464, 0.7321428571428571, 0.8805970149253731))</td><td>1</td></tr><tr><td>Map(vectorType -> dense, length -> 5, values -> List(0.0, 0.5818181818181818, 0.22891572633040724, 0.625, 0.835820895522388))</td><td>1</td></tr><tr><td>Map(vectorType -> dense, length -> 5, values -> List(0.0, 0.585454628684304, 0.13253016339657878, 0.6428571428571428, 0.5671641791044776))</td><td>1</td></tr><tr><td>Map(vectorType -> dense, length -> 5, values -> List(0.0, 0.585454628684304, 0.2891566888014853, 0.8392857142857142, 0.7164179104477612))</td><td>1</td></tr><tr><td>Map(vectorType -> dense, length -> 5, values -> List(0.0, 0.5927273837002841, 0.14457828695048397, 0.5178571428571428, 0.5746268656716418))</td><td>1</td></tr><tr><td>Map(vectorType -> dense, length -> 5, values -> List(0.0, 0.5927273837002841, 0.16867476385932914, 0.6964285714285714, 0.9402985074626866))</td><td>1</td></tr><tr><td>Map(vectorType -> dense, length -> 5, values -> List(0.0, 0.5927273837002841, 0.3734938983803738, 0.8214285714285714, 0.8059701492537313))</td><td>1</td></tr><tr><td>Map(vectorType -> dense, length -> 5, values -> List(0.0, 0.596363691850142, 0.10843380138825102, 0.8214285714285714, 0.7761194029850746))</td><td>1</td></tr><tr><td>Map(vectorType -> dense, length -> 5, values -> List(0.0, 0.596363691850142, 0.21686748787598464, 0.8035714285714285, 0.6417910447761194))</td><td>1</td></tr><tr><td>Map(vectorType -> dense, length -> 5, values -> List(0.0, 0.6036364468661222, 0.10843380138825102, 0.6428571428571428, 0.5223880597014925))</td><td>1</td></tr><tr><td>Map(vectorType -> dense, length -> 5, values -> List(0.0, 0.6036364468661222, 0.22891572633040724, 0.8571428571428571, 0.791044776119403))</td><td>1</td></tr><tr><td>Map(vectorType -> dense, length -> 5, values -> List(0.0, 0.6036364468661222, 0.30120481235539054, 0.6071428571428571, 0.791044776119403))</td><td>1</td></tr><tr><td>Map(vectorType -> dense, length -> 5, values -> List(0.0, 0.6072727550159801, 0.36144588972698605, 0.8571428571428571, 0.9850746268656716))</td><td>1</td></tr><tr><td>Map(vectorType -> dense, length -> 5, values -> List(0.0, 0.6145455100319602, 0.34939765127256345, 0.75, 0.8507462686567164))</td><td>1</td></tr><tr><td>Map(vectorType -> dense, length -> 5, values -> List(0.0, 0.6181818181818182, 0.15662652540490654, 0.6785714285714285, 0.5746268656716418))</td><td>1</td></tr><tr><td>Map(vectorType -> dense, length -> 5, values -> List(0.0, 0.6181818181818182, 0.19277112586765688, 0.8214285714285714, 0.7313432835820896))</td><td>1</td></tr><tr><td>Map(vectorType -> dense, length -> 5, values -> List(0.0, 0.6181818181818182, 0.21686748787598464, 0.9642857142857142, 0.835820895522388))</td><td>1</td></tr><tr><td>Map(vectorType -> dense, length -> 5, values -> List(0.0, 0.6254545731977983, 0.30120481235539054, 0.7678571428571428, 0.9402985074626866))</td><td>1</td></tr><tr><td>Map(vectorType -> dense, length -> 5, values -> List(0.0, 0.6327273282137784, 0.34939765127256345, 0.8928571428571428, 0.8805970149253731))</td><td>1</td></tr><tr><td>Map(vectorType -> dense, length -> 5, values -> List(0.0, 0.6327273282137784, 0.36144588972698605, 0.9821428571428571, 0.9253731343283582))</td><td>1</td></tr><tr><td>Map(vectorType -> dense, length -> 5, values -> List(0.0, 0.6363636363636364, 0.33734941281814085, 0.9107142857142857, 0.8955223880597015))</td><td>1</td></tr><tr><td>Map(vectorType -> dense, length -> 5, values -> List(0.0, 0.6436363913796165, 0.32530117436371825, 0.9821428571428571, 0.9701492537313433))</td><td>1</td></tr><tr><td>Map(vectorType -> dense, length -> 5, values -> List(0.0, 0.6436363913796165, 0.4337348608514519, 1.0, 0.8955223880597015))</td><td>1</td></tr><tr><td>Map(vectorType -> dense, length -> 5, values -> List(0.0, 0.6509091463955966, 0.2409638498843124, 0.7857142857142857, 0.8955223880597015))</td><td>1</td></tr><tr><td>Map(vectorType -> dense, length -> 5, values -> List(0.0, 0.6509091463955966, 0.253012088338735, 0.8214285714285714, 0.8507462686567164))</td><td>1</td></tr><tr><td>Map(vectorType -> dense, length -> 5, values -> List(0.0, 0.6509091463955966, 0.32530117436371825, 0.8928571428571428, 0.791044776119403))</td><td>1</td></tr><tr><td>Map(vectorType -> dense, length -> 5, values -> List(0.0, 0.6509091463955966, 0.3734938983803738, 1.0, 0.8955223880597015))</td><td>1</td></tr><tr><td>Map(vectorType -> dense, length -> 5, values -> List(0.0, 0.6581819014115766, 0.13253016339657878, 0.7857142857142857, 0.8955223880597015))</td><td>1</td></tr><tr><td>Map(vectorType -> dense, length -> 5, values -> List(0.0, 0.6654546564275567, 0.30120481235539054, 0.8571428571428571, 0.9104477611940298))</td><td>1</td></tr><tr><td>Map(vectorType -> dense, length -> 5, values -> List(0.0, 0.6690909645774148, 0.32530117436371825, 0.8571428571428571, 0.8507462686567164))</td><td>1</td></tr><tr><td>Map(vectorType -> dense, length -> 5, values -> List(0.0, 0.6763637195933948, 0.21686748787598464, 0.875, 0.8507462686567164))</td><td>1</td></tr><tr><td>Map(vectorType -> dense, length -> 5, values -> List(0.0, 0.6800000277432529, 0.30120481235539054, 0.9285714285714285, 0.746268656716418))</td><td>1</td></tr><tr><td>Map(vectorType -> dense, length -> 5, values -> List(0.0, 0.6909090909090909, 0.3734938983803738, 0.8214285714285714, 0.9850746268656716))</td><td>1</td></tr><tr><td>Map(vectorType -> dense, length -> 5, values -> List(0.0, 0.6909090909090909, 0.397590375289219, 0.9107142857142857, 0.7611940298507462))</td><td>1</td></tr><tr><td>Map(vectorType -> dense, length -> 5, values -> List(0.0, 0.698181845925071, 0.1204819249421562, 0.7857142857142857, 0.7761194029850746))</td><td>1</td></tr><tr><td>Map(vectorType -> dense, length -> 5, values -> List(0.0, 0.7054546009410511, 0.3734938983803738, 1.0, 0.835820895522388))</td><td>1</td></tr><tr><td>Map(vectorType -> dense, length -> 5, values -> List(0.0, 0.7309091741388494, 0.46987957621471965, 0.9642857142857142, 0.8059701492537313))</td><td>1</td></tr><tr><td>Map(vectorType -> dense, length -> 5, values -> List(0.0, 0.7418182373046874, 0.2891566888014853, 0.8392857142857142, 0.8208955223880597))</td><td>1</td></tr><tr><td>Map(vectorType -> dense, length -> 5, values -> List(0.0, 0.7745455655184659, 0.3132530508098131, 0.8035714285714285, 0.835820895522388))</td><td>1</td></tr><tr><td>Map(vectorType -> dense, length -> 5, values -> List(0.0, 0.8654546564275568, 0.45783133776029705, 0.9642857142857142, 0.8656716417910448))</td><td>1</td></tr><tr><td>Map(vectorType -> dense, length -> 5, values -> List(0.0, 1.0, 0.45783133776029705, 1.0, 1.0))</td><td>1</td></tr><tr><td>Map(vectorType -> dense, length -> 5, values -> List(1.0, 0.0, 0.2771084503470628, 0.25, 0.1044776119402985))</td><td>0</td></tr><tr><td>Map(vectorType -> dense, length -> 5, values -> List(1.0, 0.03636363636363636, 0.34939765127256345, 0.07142857142857142, 0.05970149253731343))</td><td>0</td></tr><tr><td>Map(vectorType -> dense, length -> 5, values -> List(1.0, 0.13090917413884942, 0.5783132627024533, 0.5, 0.2537313432835821))</td><td>0</td></tr><tr><td>Map(vectorType -> dense, length -> 5, values -> List(1.0, 0.14181823730468748, 0.46987957621471965, 0.23214285714285712, 0.2985074626865672))</td><td>0</td></tr><tr><td>Map(vectorType -> dense, length -> 5, values -> List(1.0, 0.14181823730468748, 0.5542167857936081, 0.375, 0.22388059701492538))</td><td>0</td></tr><tr><td>Map(vectorType -> dense, length -> 5, values -> List(1.0, 0.14181823730468748, 0.5662650242480307, 0.2857142857142857, 0.22388059701492538))</td><td>0</td></tr><tr><td>Map(vectorType -> dense, length -> 5, values -> List(1.0, 0.14181823730468748, 0.6385542251735313, 0.21428571428571427, 0.11940298507462686))</td><td>0</td></tr><tr><td>Map(vectorType -> dense, length -> 5, values -> List(1.0, 0.16363636363636364, 0.6265059867191087, 0.17857142857142855, 0.23134328358208955))</td><td>0</td></tr><tr><td>Map(vectorType -> dense, length -> 5, values -> List(1.0, 0.17090911865234373, 0.6385542251735313, 0.33928571428571425, 0.23880597014925373))</td><td>0</td></tr><tr><td>Map(vectorType -> dense, length -> 5, values -> List(1.0, 0.1745455655184659, 0.6506024636279539, 0.26785714285714285, 0.23880597014925373))</td><td>0</td></tr><tr><td>Map(vectorType -> dense, length -> 5, values -> List(1.0, 0.17818187366832386, 0.44578309930587445, 0.19642857142857142, 0.08955223880597014))</td><td>0</td></tr><tr><td>Map(vectorType -> dense, length -> 5, values -> List(1.0, 0.18545462868430396, 0.5903615011568758, 0.07142857142857142, 0.3582089552238806))</td><td>0</td></tr><tr><td>Map(vectorType -> dense, length -> 5, values -> List(1.0, 0.18909093683416192, 0.4337348608514519, 0.3214285714285714, 0.08955223880597014))</td><td>0</td></tr><tr><td>Map(vectorType -> dense, length -> 5, values -> List(1.0, 0.18909093683416192, 0.5542167857936081, 0.30357142857142855, 0.19402985074626866))</td><td>0</td></tr><tr><td>Map(vectorType -> dense, length -> 5, values -> List(1.0, 0.19636369185014205, 0.6385542251735313, 0.4464285714285714, 0.5298507462686567))</td><td>0</td></tr><tr><td>Map(vectorType -> dense, length -> 5, values -> List(1.0, 0.19636369185014205, 0.6867469491901869, 0.08928571428571427, 0.08208955223880597))</td><td>0</td></tr><tr><td>Map(vectorType -> dense, length -> 5, values -> List(1.0, 0.19999999999999998, 0.7349396732068424, 0.125, 0.1791044776119403))</td><td>0</td></tr><tr><td>Map(vectorType -> dense, length -> 5, values -> List(1.0, 0.2072727550159801, 0.5903615011568758, 0.33928571428571425, 0.31343283582089554))</td><td>0</td></tr><tr><td>Map(vectorType -> dense, length -> 5, values -> List(1.0, 0.21818181818181817, 0.5301205386857978, 0.23214285714285712, 0.2164179104477612))</td><td>0</td></tr><tr><td>Map(vectorType -> dense, length -> 5, values -> List(1.0, 0.2254545731977983, 0.7228916645534547, 0.26785714285714285, 0.373134328358209))</td><td>0</td></tr><tr><td>Map(vectorType -> dense, length -> 5, values -> List(1.0, 0.24363639137961646, 0.8192771125867657, 0.2857142857142857, 0.373134328358209))</td><td>0</td></tr><tr><td>Map(vectorType -> dense, length -> 5, values -> List(1.0, 0.2581819014115767, 0.9518072759833445, 0.39285714285714285, 0.4328358208955224))</td><td>0</td></tr><tr><td>Map(vectorType -> dense, length -> 5, values -> List(1.0, 0.26909096457741477, 0.5542167857936081, 0.25, 0.1791044776119403))</td><td>0</td></tr><tr><td>Map(vectorType -> dense, length -> 5, values -> List(1.0, 0.2727272727272727, 0.6746987107357643, 0.2857142857142857, 0.5671641791044776))</td><td>0</td></tr><tr><td>Map(vectorType -> dense, length -> 5, values -> List(1.0, 0.28000002774325283, 0.7108434260990321, 0.17857142857142855, 0.582089552238806))</td><td>0</td></tr><tr><td>Map(vectorType -> dense, length -> 5, values -> List(1.0, 0.298181845925071, 0.6385542251735313, 0.39285714285714285, 0.4925373134328358))</td><td>0</td></tr><tr><td>Map(vectorType -> dense, length -> 5, values -> List(1.0, 0.3090909090909091, 0.48192781466914225, 0.23214285714285712, 0.23134328358208955))</td><td>0</td></tr><tr><td>Map(vectorType -> dense, length -> 5, values -> List(1.0, 0.3127273559570312, 0.45783133776029705, 0.2857142857142857, 0.30597014925373134))</td><td>0</td></tr><tr><td>Map(vectorType -> dense, length -> 5, values -> List(1.0, 0.3163636641068892, 0.6265059867191087, 0.375, 0.3582089552238806))</td><td>0</td></tr><tr><td>Map(vectorType -> dense, length -> 5, values -> List(1.0, 0.3163636641068892, 0.6867469491901869, 0.6071428571428571, 0.47761194029850745))</td><td>0</td></tr><tr><td>Map(vectorType -> dense, length -> 5, values -> List(1.0, 0.32000011097301134, 0.4096386137436415, 0.23214285714285712, 0.1492537313432836))</td><td>2</td></tr><tr><td>Map(vectorType -> dense, length -> 5, values -> List(1.0, 0.32000011097301134, 0.6867469491901869, 0.17857142857142855, 0.3582089552238806))</td><td>0</td></tr><tr><td>Map(vectorType -> dense, length -> 5, values -> List(1.0, 0.32727272727272727, 0.5180723002313752, 0.2857142857142857, 0.3582089552238806))</td><td>0</td></tr><tr><td>Map(vectorType -> dense, length -> 5, values -> List(1.0, 0.32727272727272727, 0.5903615011568758, 0.5535714285714285, 0.47761194029850745))</td><td>0</td></tr><tr><td>Map(vectorType -> dense, length -> 5, values -> List(1.0, 0.32727272727272727, 0.6987951876446095, 0.14285714285714285, 0.2164179104477612))</td><td>0</td></tr><tr><td>Map(vectorType -> dense, length -> 5, values -> List(1.0, 0.3345454822887074, 0.8554215981489987, 0.3571428571428571, 0.2537313432835821))</td><td>0</td></tr><tr><td>Map(vectorType -> dense, length -> 5, values -> List(1.0, 0.34181823730468747, 0.6385542251735313, 0.4821428571428571, 0.3880597014925373))</td><td>0</td></tr><tr><td>Map(vectorType -> dense, length -> 5, values -> List(1.0, 0.3672728105024858, 0.6385542251735313, 0.10714285714285714, 0.2537313432835821))</td><td>0</td></tr><tr><td>Map(vectorType -> dense, length -> 5, values -> List(1.0, 0.37818187366832384, 0.4216868521980641, 0.23214285714285712, 0.19402985074626866))</td><td>2</td></tr><tr><td>Map(vectorType -> dense, length -> 5, values -> List(1.0, 0.37818187366832384, 0.49397582332253, 0.23214285714285712, 0.19402985074626866))</td><td>2</td></tr><tr><td>Map(vectorType -> dense, length -> 5, values -> List(1.0, 0.40363644686612216, 0.6385542251735313, 0.3214285714285714, 0.417910447761194))</td><td>0</td></tr><tr><td>Map(vectorType -> dense, length -> 5, values -> List(1.0, 0.43636363636363634, 0.7831326270245328, 0.39285714285714285, 0.5074626865671642))</td><td>0</td></tr><tr><td>Map(vectorType -> dense, length -> 5, values -> List(1.0, 0.47636371959339485, 0.5542167857936081, 0.42857142857142855, 0.373134328358209))</td><td>2</td></tr><tr><td>Map(vectorType -> dense, length -> 5, values -> List(1.0, 0.483636474609375, 0.6626507020823765, 0.25, 0.2462686567164179))</td><td>2</td></tr><tr><td>Map(vectorType -> dense, length -> 5, values -> List(1.0, 0.4909090909090909, 0.746987911661265, 0.3571428571428571, 0.2462686567164179))</td><td>2</td></tr><tr><td>Map(vectorType -> dense, length -> 5, values -> List(1.0, 0.49454553777521304, 0.49397582332253, 0.33928571428571425, 0.26865671641791045))</td><td>2</td></tr><tr><td>Map(vectorType -> dense, length -> 5, values -> List(1.0, 0.5018182927911932, 0.46987957621471965, 0.2857142857142857, 0.26119402985074625))</td><td>2</td></tr><tr><td>Map(vectorType -> dense, length -> 5, values -> List(1.0, 0.5054546009410511, 0.6867469491901869, 0.375, 0.4328358208955224))</td><td>2</td></tr><tr><td>Map(vectorType -> dense, length -> 5, values -> List(1.0, 0.509090909090909, 0.6024097396112984, 0.07142857142857142, 0.16417910447761194))</td><td>2</td></tr><tr><td>Map(vectorType -> dense, length -> 5, values -> List(1.0, 0.5127273559570312, 0.5180723002313752, 0.23214285714285712, 0.2835820895522388))</td><td>2</td></tr><tr><td>Map(vectorType -> dense, length -> 5, values -> List(1.0, 0.5200001109730114, 0.5542167857936081, 0.30357142857142855, 0.2985074626865672))</td><td>2</td></tr><tr><td>Map(vectorType -> dense, length -> 5, values -> List(1.0, 0.5236364191228693, 0.5662650242480307, 0.3214285714285714, 0.23880597014925373))</td><td>2</td></tr><tr><td>Map(vectorType -> dense, length -> 5, values -> List(1.0, 0.5272727272727272, 0.5542167857936081, 0.33928571428571425, 0.3283582089552239))</td><td>2</td></tr><tr><td>Map(vectorType -> dense, length -> 5, values -> List(1.0, 0.5309091741388494, 0.5662650242480307, 0.375, 0.1791044776119403))</td><td>2</td></tr><tr><td>Map(vectorType -> dense, length -> 5, values -> List(1.0, 0.5345454822887074, 0.397590375289219, 0.26785714285714285, 0.2835820895522388))</td><td>2</td></tr><tr><td>Map(vectorType -> dense, length -> 5, values -> List(1.0, 0.5381819291548295, 0.4096386137436415, 0.3214285714285714, 0.0))</td><td>2</td></tr><tr><td>Map(vectorType -> dense, length -> 5, values -> List(1.0, 0.5636363636363636, 0.6144577482646862, 0.375, 0.34328358208955223))</td><td>2</td></tr><tr><td>Map(vectorType -> dense, length -> 5, values -> List(1.0, 0.5818181818181818, 0.3855421368347964, 0.4464285714285714, 0.1865671641791045))</td><td>2</td></tr><tr><td>Map(vectorType -> dense, length -> 5, values -> List(1.0, 0.596363691850142, 0.5180723002313752, 0.30357142857142855, 0.208955223880597))</td><td>2</td></tr><tr><td>Map(vectorType -> dense, length -> 5, values -> List(1.0, 0.6145455100319602, 0.7710843885701102, 0.6785714285714285, 0.47761194029850745))</td><td>2</td></tr><tr><td>Map(vectorType -> dense, length -> 5, values -> List(1.0, 0.6218182650479404, 0.6024097396112984, 0.375, 0.5074626865671642))</td><td>2</td></tr><tr><td>Map(vectorType -> dense, length -> 5, values -> List(1.0, 0.6400000832297585, 0.6506024636279539, 0.375, 0.26865671641791045))</td><td>2</td></tr><tr><td>Map(vectorType -> dense, length -> 5, values -> List(1.0, 0.6436363913796165, 0.49397582332253, 0.42857142857142855, 0.291044776119403))</td><td>2</td></tr><tr><td>Map(vectorType -> dense, length -> 5, values -> List(1.0, 0.6545454545454545, 0.5662650242480307, 0.2857142857142857, 0.208955223880597))</td><td>2</td></tr><tr><td>Map(vectorType -> dense, length -> 5, values -> List(1.0, 0.6581819014115766, 0.6626507020823765, 0.42857142857142855, 0.3208955223880597))</td><td>2</td></tr><tr><td>Map(vectorType -> dense, length -> 5, values -> List(1.0, 0.6581819014115766, 0.6746987107357643, 0.5, 0.3283582089552239))</td><td>2</td></tr><tr><td>Map(vectorType -> dense, length -> 5, values -> List(1.0, 0.6618182095614347, 0.8192771125867657, 0.4107142857142857, 0.1791044776119403))</td><td>2</td></tr><tr><td>Map(vectorType -> dense, length -> 5, values -> List(1.0, 0.6690909645774148, 0.6265059867191087, 0.46428571428571425, 0.208955223880597))</td><td>2</td></tr><tr><td>Map(vectorType -> dense, length -> 5, values -> List(1.0, 0.6727272727272727, 0.746987911661265, 0.33928571428571425, 0.3283582089552239))</td><td>2</td></tr><tr><td>Map(vectorType -> dense, length -> 5, values -> List(1.0, 0.6836364746093749, 0.7108434260990321, 0.39285714285714285, 0.2537313432835821))</td><td>2</td></tr><tr><td>Map(vectorType -> dense, length -> 5, values -> List(1.0, 0.6872727827592329, 0.6746987107357643, 0.5178571428571428, 0.417910447761194))</td><td>2</td></tr><tr><td>Map(vectorType -> dense, length -> 5, values -> List(1.0, 0.698181845925071, 0.6024097396112984, 0.4107142857142857, 0.31343283582089554))</td><td>2</td></tr><tr><td>Map(vectorType -> dense, length -> 5, values -> List(1.0, 0.698181845925071, 0.7228916645534547, 0.33928571428571425, 0.2835820895522388))</td><td>2</td></tr><tr><td>Map(vectorType -> dense, length -> 5, values -> List(1.0, 0.7018182927911931, 0.6987951876446095, 0.4821428571428571, 0.373134328358209))</td><td>2</td></tr><tr><td>Map(vectorType -> dense, length -> 5, values -> List(1.0, 0.7127273559570312, 0.8554215981489987, 0.3571428571428571, 0.3208955223880597))</td><td>2</td></tr><tr><td>Map(vectorType -> dense, length -> 5, values -> List(1.0, 0.7200001109730113, 0.7590361501156876, 0.5714285714285714, 0.373134328358209))</td><td>2</td></tr><tr><td>Map(vectorType -> dense, length -> 5, values -> List(1.0, 0.7236364191228692, 0.5903615011568758, 0.4821428571428571, 0.40298507462686567))</td><td>2</td></tr><tr><td>Map(vectorType -> dense, length -> 5, values -> List(1.0, 0.7236364191228692, 0.9036145519666889, 0.6428571428571428, 0.6268656716417911))</td><td>2</td></tr><tr><td>Map(vectorType -> dense, length -> 5, values -> List(1.0, 0.7309091741388494, 0.6746987107357643, 0.4107142857142857, 0.22388059701492538))</td><td>2</td></tr><tr><td>Map(vectorType -> dense, length -> 5, values -> List(1.0, 0.7490909923206676, 0.7951806356779205, 0.4107142857142857, 0.30597014925373134))</td><td>2</td></tr><tr><td>Map(vectorType -> dense, length -> 5, values -> List(1.0, 0.7527273004705255, 0.8192771125867657, 0.5535714285714285, 0.5522388059701493))</td><td>2</td></tr><tr><td>Map(vectorType -> dense, length -> 5, values -> List(1.0, 0.7781818736683238, 0.8072288741323431, 0.5535714285714285, 0.5373134328358209))</td><td>2</td></tr><tr><td>Map(vectorType -> dense, length -> 5, values -> List(1.0, 0.8036364468661221, 0.9156625606200767, 0.4821428571428571, 0.47761194029850745))</td><td>2</td></tr><tr><td>Map(vectorType -> dense, length -> 5, values -> List(1.0, 0.8618182095614346, 0.7951806356779205, 0.5892857142857143, 0.3880597014925373))</td><td>2</td></tr><tr><td>Map(vectorType -> dense, length -> 5, values -> List(2.0, 0.050909146395596586, 0.6987951876446095, 0.2857142857142857, 0.26865671641791045))</td><td>0</td></tr><tr><td>Map(vectorType -> dense, length -> 5, values -> List(2.0, 0.07272727272727272, 0.5903615011568758, 0.33928571428571425, 0.23134328358208955))</td><td>0</td></tr><tr><td>Map(vectorType -> dense, length -> 5, values -> List(2.0, 0.083636474609375, 0.6265059867191087, 0.17857142857142855, 0.1865671641791045))</td><td>0</td></tr><tr><td>Map(vectorType -> dense, length -> 5, values -> List(2.0, 0.09090909090909091, 0.48192781466914225, 0.26785714285714285, 0.1492537313432836))</td><td>0</td></tr><tr><td>Map(vectorType -> dense, length -> 5, values -> List(2.0, 0.09090909090909091, 0.9518072759833445, 0.42857142857142855, 0.5074626865671642))</td><td>0</td></tr><tr><td>Map(vectorType -> dense, length -> 5, values -> List(2.0, 0.10909090909090909, 0.746987911661265, 0.33928571428571425, 0.44776119402985076))</td><td>0</td></tr><tr><td>Map(vectorType -> dense, length -> 5, values -> List(2.0, 0.11272735595703125, 0.32530117436371825, 0.21428571428571427, 0.1044776119402985))</td><td>0</td></tr><tr><td>Map(vectorType -> dense, length -> 5, values -> List(2.0, 0.12363641912286931, 0.5180723002313752, 0.2857142857142857, 0.2985074626865672))</td><td>0</td></tr><tr><td>Map(vectorType -> dense, length -> 5, values -> List(2.0, 0.16363636363636364, 0.5542167857936081, 0.19642857142857142, 0.2985074626865672))</td><td>0</td></tr><tr><td>Map(vectorType -> dense, length -> 5, values -> List(2.0, 0.1672728105024858, 0.6746987107357643, 0.23214285714285712, 0.3283582089552239))</td><td>0</td></tr><tr><td>Map(vectorType -> dense, length -> 5, values -> List(2.0, 0.1672728105024858, 0.7349396732068424, 0.33928571428571425, 0.22388059701492538))</td><td>0</td></tr><tr><td>Map(vectorType -> dense, length -> 5, values -> List(2.0, 0.18545462868430396, 0.746987911661265, 0.17857142857142855, 0.3582089552238806))</td><td>0</td></tr><tr><td>Map(vectorType -> dense, length -> 5, values -> List(2.0, 0.20363644686612214, 0.7951806356779205, 0.42857142857142855, 0.23880597014925373))</td><td>0</td></tr><tr><td>Map(vectorType -> dense, length -> 5, values -> List(2.0, 0.2072727550159801, 0.49397582332253, 0.10714285714285714, 0.2985074626865672))</td><td>0</td></tr><tr><td>Map(vectorType -> dense, length -> 5, values -> List(2.0, 0.2327273282137784, 0.5662650242480307, 0.2857142857142857, 0.1865671641791045))</td><td>0</td></tr><tr><td>Map(vectorType -> dense, length -> 5, values -> List(2.0, 0.23636363636363636, 0.9638555144377671, 0.30357142857142855, 0.3283582089552239))</td><td>0</td></tr><tr><td>Map(vectorType -> dense, length -> 5, values -> List(2.0, 0.24363639137961646, 0.5301205386857978, 0.30357142857142855, 0.17164179104477612))</td><td>0</td></tr><tr><td>Map(vectorType -> dense, length -> 5, values -> List(2.0, 0.2509091463955966, 0.46987957621471965, 0.30357142857142855, 0.1044776119402985))</td><td>0</td></tr><tr><td>Map(vectorType -> dense, length -> 5, values -> List(2.0, 0.2545454545454545, 0.6626507020823765, 0.125, 0.31343283582089554))</td><td>0</td></tr><tr><td>Map(vectorType -> dense, length -> 5, values -> List(2.0, 0.2581819014115767, 0.7710843885701102, 0.375, 0.5895522388059702))</td><td>0</td></tr><tr><td>Map(vectorType -> dense, length -> 5, values -> List(2.0, 0.26181820956143464, 0.8915663135122663, 0.2857142857142857, 0.2835820895522388))</td><td>0</td></tr><tr><td>Map(vectorType -> dense, length -> 5, values -> List(2.0, 0.26909096457741477, 0.5060240617769526, 0.21428571428571427, 0.3283582089552239))</td><td>0</td></tr><tr><td>Map(vectorType -> dense, length -> 5, values -> List(2.0, 0.2727272727272727, 0.48192781466914225, 0.39285714285714285, 0.2537313432835821))</td><td>0</td></tr><tr><td>Map(vectorType -> dense, length -> 5, values -> List(2.0, 0.2763637195933949, 0.6265059867191087, 0.2857142857142857, 0.3582089552238806))</td><td>0</td></tr><tr><td>Map(vectorType -> dense, length -> 5, values -> List(2.0, 0.29454553777521303, 0.45783133776029705, 0.03571428571428571, 0.22388059701492538))</td><td>0</td></tr><tr><td>Map(vectorType -> dense, length -> 5, values -> List(2.0, 0.33818192915482953, 0.6385542251735313, 0.5, 0.35074626865671643))</td><td>0</td></tr><tr><td>Map(vectorType -> dense, length -> 5, values -> List(2.0, 0.35272730047052553, 0.746987911661265, 0.42857142857142855, 0.5223880597014925))</td><td>0</td></tr><tr><td>Map(vectorType -> dense, length -> 5, values -> List(2.0, 0.36000005548650565, 0.8433735894956108, 0.2857142857142857, 0.4626865671641791))</td><td>0</td></tr><tr><td>Map(vectorType -> dense, length -> 5, values -> List(2.0, 0.37818187366832384, 0.9036145519666889, 0.4107142857142857, 0.5373134328358209))</td><td>0</td></tr><tr><td>Map(vectorType -> dense, length -> 5, values -> List(2.0, 0.3890909368341619, 0.6385542251735313, 0.375, 0.4626865671641791))</td><td>0</td></tr><tr><td>Map(vectorType -> dense, length -> 5, values -> List(2.0, 0.43636363636363634, 0.5783132627024533, 0.6428571428571428, 0.3880597014925373))</td><td>0</td></tr><tr><td>Map(vectorType -> dense, length -> 5, values -> List(2.0, 0.5054546009410511, 1.0, 0.3571428571428571, 0.44776119402985076))</td><td>0</td></tr></tbody></table></div>"
      ]
     },
     "metadata": {
      "application/vnd.databricks.v1+output": {
       "addedWidgets": {},
       "aggData": [],
       "aggError": "",
       "aggOverflow": false,
       "aggSchema": [],
       "aggSeriesLimitReached": false,
       "aggType": "",
       "arguments": {},
       "columnCustomDisplayInfos": {},
       "data": [
        [
         {
          "length": 5,
          "values": [
           0.0,
           0.10545460094105114,
           0.5662650242480307,
           0.3214285714285714,
           0.30597014925373134
          ],
          "vectorType": "dense"
         },
         0
        ],
        [
         {
          "length": 5,
          "values": [
           0.0,
           0.1163636641068892,
           0.6867469491901869,
           0.23214285714285712,
           0.3283582089552239
          ],
          "vectorType": "dense"
         },
         0
        ],
        [
         {
          "length": 5,
          "values": [
           0.0,
           0.13090917413884942,
           0.44578309930587445,
           0.19642857142857142,
           0.13432835820895522
          ],
          "vectorType": "dense"
         },
         0
        ],
        [
         {
          "length": 5,
          "values": [
           0.0,
           0.13818192915482955,
           0.7228916645534547,
           0.26785714285714285,
           0.3283582089552239
          ],
          "vectorType": "dense"
         },
         0
        ],
        [
         {
          "length": 5,
          "values": [
           0.0,
           0.1563637473366477,
           0.46987957621471965,
           0.17857142857142855,
           0.04477611940298507
          ],
          "vectorType": "dense"
         },
         0
        ],
        [
         {
          "length": 5,
          "values": [
           0.0,
           0.16000005548650567,
           0.4096386137436415,
           0.125,
           0.04477611940298507
          ],
          "vectorType": "dense"
         },
         0
        ],
        [
         {
          "length": 5,
          "values": [
           0.0,
           0.19999999999999998,
           0.45783133776029705,
           0.19642857142857142,
           0.26865671641791045
          ],
          "vectorType": "dense"
         },
         0
        ],
        [
         {
          "length": 5,
          "values": [
           0.0,
           0.19999999999999998,
           0.7108434260990321,
           0.3571428571428571,
           0.31343283582089554
          ],
          "vectorType": "dense"
         },
         0
        ],
        [
         {
          "length": 5,
          "values": [
           0.0,
           0.20363644686612214,
           0.33734941281814085,
           0.1607142857142857,
           0.11194029850746269
          ],
          "vectorType": "dense"
         },
         0
        ],
        [
         {
          "length": 5,
          "values": [
           0.0,
           0.20363644686612214,
           0.6626507020823765,
           0.10714285714285714,
           0.26865671641791045
          ],
          "vectorType": "dense"
         },
         0
        ],
        [
         {
          "length": 5,
          "values": [
           0.0,
           0.2072727550159801,
           0.6144577482646862,
           0.0,
           0.208955223880597
          ],
          "vectorType": "dense"
         },
         0
        ],
        [
         {
          "length": 5,
          "values": [
           0.0,
           0.2072727550159801,
           0.8192771125867657,
           0.2857142857142857,
           0.4626865671641791
          ],
          "vectorType": "dense"
         },
         0
        ],
        [
         {
          "length": 5,
          "values": [
           0.0,
           0.21090920188210227,
           0.6506024636279539,
           0.33928571428571425,
           0.06716417910447761
          ],
          "vectorType": "dense"
         },
         0
        ],
        [
         {
          "length": 5,
          "values": [
           0.0,
           0.21818181818181817,
           0.45783133776029705,
           0.125,
           0.1417910447761194
          ],
          "vectorType": "dense"
         },
         0
        ],
        [
         {
          "length": 5,
          "values": [
           0.0,
           0.22181826504794033,
           0.5903615011568758,
           0.19642857142857142,
           0.373134328358209
          ],
          "vectorType": "dense"
         },
         0
        ],
        [
         {
          "length": 5,
          "values": [
           0.0,
           0.22181826504794033,
           0.8192771125867657,
           0.2857142857142857,
           0.3582089552238806
          ],
          "vectorType": "dense"
         },
         0
        ],
        [
         {
          "length": 5,
          "values": [
           0.0,
           0.24363639137961646,
           0.48192781466914225,
           0.10714285714285714,
           0.3283582089552239
          ],
          "vectorType": "dense"
         },
         0
        ],
        [
         {
          "length": 5,
          "values": [
           0.0,
           0.2509091463955966,
           0.5180723002313752,
           0.21428571428571427,
           0.2537313432835821
          ],
          "vectorType": "dense"
         },
         0
        ],
        [
         {
          "length": 5,
          "values": [
           0.0,
           0.2727272727272727,
           0.5421687771402204,
           0.21428571428571427,
           0.23880597014925373
          ],
          "vectorType": "dense"
         },
         0
        ],
        [
         {
          "length": 5,
          "values": [
           0.0,
           0.2727272727272727,
           0.9036145519666889,
           0.30357142857142855,
           0.3582089552238806
          ],
          "vectorType": "dense"
         },
         0
        ],
        [
         {
          "length": 5,
          "values": [
           0.0,
           0.2763637195933949,
           0.6867469491901869,
           0.17857142857142855,
           0.2537313432835821
          ],
          "vectorType": "dense"
         },
         0
        ],
        [
         {
          "length": 5,
          "values": [
           0.0,
           0.2909090909090909,
           0.6867469491901869,
           0.25,
           0.47761194029850745
          ],
          "vectorType": "dense"
         },
         0
        ],
        [
         {
          "length": 5,
          "values": [
           0.0,
           0.30545460094105115,
           0.6867469491901869,
           0.10714285714285714,
           0.373134328358209
          ],
          "vectorType": "dense"
         },
         0
        ],
        [
         {
          "length": 5,
          "values": [
           0.0,
           0.3090909090909091,
           0.6506024636279539,
           0.1607142857142857,
           0.2537313432835821
          ],
          "vectorType": "dense"
         },
         0
        ],
        [
         {
          "length": 5,
          "values": [
           0.0,
           0.3090909090909091,
           0.6746987107357643,
           0.33928571428571425,
           0.3283582089552239
          ],
          "vectorType": "dense"
         },
         0
        ],
        [
         {
          "length": 5,
          "values": [
           0.0,
           0.32727272727272727,
           0.7108434260990321,
           0.25,
           0.417910447761194
          ],
          "vectorType": "dense"
         },
         0
        ],
        [
         {
          "length": 5,
          "values": [
           0.0,
           0.3345454822887074,
           0.9518072759833445,
           0.375,
           0.5074626865671642
          ],
          "vectorType": "dense"
         },
         0
        ],
        [
         {
          "length": 5,
          "values": [
           0.0,
           0.33818192915482953,
           0.6506024636279539,
           0.30357142857142855,
           0.2985074626865672
          ],
          "vectorType": "dense"
         },
         0
        ],
        [
         {
          "length": 5,
          "values": [
           0.0,
           0.3672728105024858,
           0.7590361501156876,
           0.4107142857142857,
           0.4701492537313433
          ],
          "vectorType": "dense"
         },
         0
        ],
        [
         {
          "length": 5,
          "values": [
           0.0,
           0.38545462868430397,
           0.0602409624710781,
           0.6071428571428571,
           0.373134328358209
          ],
          "vectorType": "dense"
         },
         1
        ],
        [
         {
          "length": 5,
          "values": [
           0.0,
           0.3890909368341619,
           0.1204819249421562,
           0.625,
           0.5970149253731344
          ],
          "vectorType": "dense"
         },
         1
        ],
        [
         {
          "length": 5,
          "values": [
           0.0,
           0.40363644686612216,
           0.6987951876446095,
           0.4107142857142857,
           0.6194029850746269
          ],
          "vectorType": "dense"
         },
         0
        ],
        [
         {
          "length": 5,
          "values": [
           0.0,
           0.4072727550159801,
           0.09638556293382844,
           0.6071428571428571,
           0.5597014925373134
          ],
          "vectorType": "dense"
         },
         1
        ],
        [
         {
          "length": 5,
          "values": [
           0.0,
           0.4109092018821022,
           0.14457828695048397,
           0.7857142857142857,
           0.5671641791044776
          ],
          "vectorType": "dense"
         },
         1
        ],
        [
         {
          "length": 5,
          "values": [
           0.0,
           0.4145455100319602,
           0.1204819249421562,
           0.8214285714285714,
           0.5970149253731344
          ],
          "vectorType": "dense"
         },
         1
        ],
        [
         {
          "length": 5,
          "values": [
           0.0,
           0.4145455100319602,
           0.2409638498843124,
           0.6964285714285714,
           0.582089552238806
          ],
          "vectorType": "dense"
         },
         1
        ],
        [
         {
          "length": 5,
          "values": [
           0.0,
           0.41818181818181815,
           0.08433732447940587,
           0.7678571428571428,
           0.6567164179104478
          ],
          "vectorType": "dense"
         },
         1
        ],
        [
         {
          "length": 5,
          "values": [
           0.0,
           0.4327273282137784,
           0.04819283891717293,
           0.6071428571428571,
           0.4925373134328358
          ],
          "vectorType": "dense"
         },
         1
        ],
        [
         {
          "length": 5,
          "values": [
           0.0,
           0.4472728382457386,
           0.49397582332253,
           0.8035714285714285,
           0.7611940298507462
          ],
          "vectorType": "dense"
         },
         1
        ],
        [
         {
          "length": 5,
          "values": [
           0.0,
           0.4509091463955966,
           0.13253016339657878,
           0.75,
           0.417910447761194
          ],
          "vectorType": "dense"
         },
         1
        ],
        [
         {
          "length": 5,
          "values": [
           0.0,
           0.4509091463955966,
           0.1807228874132343,
           0.7142857142857142,
           0.6417910447761194
          ],
          "vectorType": "dense"
         },
         1
        ],
        [
         {
          "length": 5,
          "values": [
           0.0,
           0.4509091463955966,
           0.30120481235539054,
           0.7678571428571428,
           0.6492537313432836
          ],
          "vectorType": "dense"
         },
         1
        ],
        [
         {
          "length": 5,
          "values": [
           0.0,
           0.4654546564275568,
           0.012048238454422584,
           0.6964285714285714,
           0.7164179104477612
          ],
          "vectorType": "dense"
         },
         1
        ],
        [
         {
          "length": 5,
          "values": [
           0.0,
           0.4690909645774147,
           0.2650602118926402,
           0.8214285714285714,
           0.7014925373134329
          ],
          "vectorType": "dense"
         },
         1
        ],
        [
         {
          "length": 5,
          "values": [
           0.0,
           0.4727272727272727,
           0.15662652540490654,
           0.5892857142857143,
           0.7014925373134329
          ],
          "vectorType": "dense"
         },
         1
        ],
        [
         {
          "length": 5,
          "values": [
           0.0,
           0.4727272727272727,
           0.15662652540490654,
           0.7321428571428571,
           0.6865671641791045
          ],
          "vectorType": "dense"
         },
         1
        ],
        [
         {
          "length": 5,
          "values": [
           0.0,
           0.47636371959339485,
           0.07228920092550069,
           0.7321428571428571,
           0.6119402985074627
          ],
          "vectorType": "dense"
         },
         1
        ],
        [
         {
          "length": 5,
          "values": [
           0.0,
           0.47636371959339485,
           0.19277112586765688,
           0.6785714285714285,
           0.746268656716418
          ],
          "vectorType": "dense"
         },
         1
        ],
        [
         {
          "length": 5,
          "values": [
           0.0,
           0.47636371959339485,
           0.3132530508098131,
           0.7321428571428571,
           0.7761194029850746
          ],
          "vectorType": "dense"
         },
         1
        ],
        [
         {
          "length": 5,
          "values": [
           0.0,
           0.47636371959339485,
           0.3855421368347964,
           0.875,
           0.9701492537313433
          ],
          "vectorType": "dense"
         },
         1
        ],
        [
         {
          "length": 5,
          "values": [
           0.0,
           0.48000002774325284,
           0.0602409624710781,
           0.6428571428571428,
           0.47761194029850745
          ],
          "vectorType": "dense"
         },
         1
        ],
        [
         {
          "length": 5,
          "values": [
           0.0,
           0.48000002774325284,
           0.07228920092550069,
           0.6071428571428571,
           0.44776119402985076
          ],
          "vectorType": "dense"
         },
         1
        ],
        [
         {
          "length": 5,
          "values": [
           0.0,
           0.4872727827592329,
           0.0602409624710781,
           0.7142857142857142,
           0.582089552238806
          ],
          "vectorType": "dense"
         },
         1
        ],
        [
         {
          "length": 5,
          "values": [
           0.0,
           0.4872727827592329,
           0.08433732447940587,
           0.6428571428571428,
           0.44776119402985076
          ],
          "vectorType": "dense"
         },
         1
        ],
        [
         {
          "length": 5,
          "values": [
           0.0,
           0.4872727827592329,
           0.15662652540490654,
           0.6785714285714285,
           0.6119402985074627
          ],
          "vectorType": "dense"
         },
         1
        ],
        [
         {
          "length": 5,
          "values": [
           0.0,
           0.4872727827592329,
           0.21686748787598464,
           0.8214285714285714,
           0.6865671641791045
          ],
          "vectorType": "dense"
         },
         1
        ],
        [
         {
          "length": 5,
          "values": [
           0.0,
           0.4909090909090909,
           0.8554215981489987,
           0.30357142857142855,
           0.5671641791044776
          ],
          "vectorType": "dense"
         },
         0
        ],
        [
         {
          "length": 5,
          "values": [
           0.0,
           0.498181845925071,
           0.16867476385932914,
           0.6428571428571428,
           0.44776119402985076
          ],
          "vectorType": "dense"
         },
         1
        ],
        [
         {
          "length": 5,
          "values": [
           0.0,
           0.509090909090909,
           0.0,
           0.6607142857142857,
           0.5373134328358209
          ],
          "vectorType": "dense"
         },
         1
        ],
        [
         {
          "length": 5,
          "values": [
           0.0,
           0.509090909090909,
           0.22891572633040724,
           0.7321428571428571,
           0.7164179104477612
          ],
          "vectorType": "dense"
         },
         1
        ],
        [
         {
          "length": 5,
          "values": [
           0.0,
           0.5127273559570312,
           0.10843380138825102,
           0.7678571428571428,
           0.5
          ],
          "vectorType": "dense"
         },
         1
        ],
        [
         {
          "length": 5,
          "values": [
           0.0,
           0.5127273559570312,
           0.14457828695048397,
           0.7142857142857142,
           0.582089552238806
          ],
          "vectorType": "dense"
         },
         1
        ],
        [
         {
          "length": 5,
          "values": [
           0.0,
           0.5127273559570312,
           0.20481924942156207,
           0.8392857142857142,
           0.7761194029850746
          ],
          "vectorType": "dense"
         },
         1
        ],
        [
         {
          "length": 5,
          "values": [
           0.0,
           0.5200001109730114,
           0.21686748787598464,
           0.75,
           0.5970149253731344
          ],
          "vectorType": "dense"
         },
         1
        ],
        [
         {
          "length": 5,
          "values": [
           0.0,
           0.5236364191228693,
           0.036144600462750344,
           0.6428571428571428,
           0.5522388059701493
          ],
          "vectorType": "dense"
         },
         1
        ],
        [
         {
          "length": 5,
          "values": [
           0.0,
           0.5236364191228693,
           0.15662652540490654,
           0.6964285714285714,
           0.5074626865671642
          ],
          "vectorType": "dense"
         },
         1
        ],
        [
         {
          "length": 5,
          "values": [
           0.0,
           0.5236364191228693,
           0.19277112586765688,
           0.7678571428571428,
           0.746268656716418
          ],
          "vectorType": "dense"
         },
         1
        ],
        [
         {
          "length": 5,
          "values": [
           0.0,
           0.5272727272727272,
           0.1204819249421562,
           0.6428571428571428,
           0.6417910447761194
          ],
          "vectorType": "dense"
         },
         1
        ],
        [
         {
          "length": 5,
          "values": [
           0.0,
           0.5309091741388494,
           0.253012088338735,
           0.8035714285714285,
           0.746268656716418
          ],
          "vectorType": "dense"
         },
         1
        ],
        [
         {
          "length": 5,
          "values": [
           0.0,
           0.5345454822887074,
           0.13253016339657878,
           0.7321428571428571,
           0.6417910447761194
          ],
          "vectorType": "dense"
         },
         1
        ],
        [
         {
          "length": 5,
          "values": [
           0.0,
           0.5345454822887074,
           0.2650602118926402,
           0.7321428571428571,
           0.7313432835820896
          ],
          "vectorType": "dense"
         },
         1
        ],
        [
         {
          "length": 5,
          "values": [
           0.0,
           0.5345454822887074,
           0.34939765127256345,
           0.7321428571428571,
           0.835820895522388
          ],
          "vectorType": "dense"
         },
         1
        ],
        [
         {
          "length": 5,
          "values": [
           0.0,
           0.5490909923206676,
           0.0602409624710781,
           0.7142857142857142,
           0.664179104477612
          ],
          "vectorType": "dense"
         },
         1
        ],
        [
         {
          "length": 5,
          "values": [
           0.0,
           0.5527273004705255,
           0.07228920092550069,
           0.75,
           0.6044776119402985
          ],
          "vectorType": "dense"
         },
         1
        ],
        [
         {
          "length": 5,
          "values": [
           0.0,
           0.5563637473366477,
           0.16867476385932914,
           0.6785714285714285,
           0.6044776119402985
          ],
          "vectorType": "dense"
         },
         1
        ],
        [
         {
          "length": 5,
          "values": [
           0.0,
           0.5600000554865057,
           0.09638556293382844,
           0.6785714285714285,
           0.6492537313432836
          ],
          "vectorType": "dense"
         },
         1
        ],
        [
         {
          "length": 5,
          "values": [
           0.0,
           0.5600000554865057,
           0.1204819249421562,
           0.625,
           0.5671641791044776
          ],
          "vectorType": "dense"
         },
         1
        ],
        [
         {
          "length": 5,
          "values": [
           0.0,
           0.5636363636363636,
           0.15662652540490654,
           0.7321428571428571,
           0.8059701492537313
          ],
          "vectorType": "dense"
         },
         1
        ],
        [
         {
          "length": 5,
          "values": [
           0.0,
           0.5709091186523437,
           0.21686748787598464,
           0.7321428571428571,
           0.8805970149253731
          ],
          "vectorType": "dense"
         },
         1
        ],
        [
         {
          "length": 5,
          "values": [
           0.0,
           0.5818181818181818,
           0.22891572633040724,
           0.625,
           0.835820895522388
          ],
          "vectorType": "dense"
         },
         1
        ],
        [
         {
          "length": 5,
          "values": [
           0.0,
           0.585454628684304,
           0.13253016339657878,
           0.6428571428571428,
           0.5671641791044776
          ],
          "vectorType": "dense"
         },
         1
        ],
        [
         {
          "length": 5,
          "values": [
           0.0,
           0.585454628684304,
           0.2891566888014853,
           0.8392857142857142,
           0.7164179104477612
          ],
          "vectorType": "dense"
         },
         1
        ],
        [
         {
          "length": 5,
          "values": [
           0.0,
           0.5927273837002841,
           0.14457828695048397,
           0.5178571428571428,
           0.5746268656716418
          ],
          "vectorType": "dense"
         },
         1
        ],
        [
         {
          "length": 5,
          "values": [
           0.0,
           0.5927273837002841,
           0.16867476385932914,
           0.6964285714285714,
           0.9402985074626866
          ],
          "vectorType": "dense"
         },
         1
        ],
        [
         {
          "length": 5,
          "values": [
           0.0,
           0.5927273837002841,
           0.3734938983803738,
           0.8214285714285714,
           0.8059701492537313
          ],
          "vectorType": "dense"
         },
         1
        ],
        [
         {
          "length": 5,
          "values": [
           0.0,
           0.596363691850142,
           0.10843380138825102,
           0.8214285714285714,
           0.7761194029850746
          ],
          "vectorType": "dense"
         },
         1
        ],
        [
         {
          "length": 5,
          "values": [
           0.0,
           0.596363691850142,
           0.21686748787598464,
           0.8035714285714285,
           0.6417910447761194
          ],
          "vectorType": "dense"
         },
         1
        ],
        [
         {
          "length": 5,
          "values": [
           0.0,
           0.6036364468661222,
           0.10843380138825102,
           0.6428571428571428,
           0.5223880597014925
          ],
          "vectorType": "dense"
         },
         1
        ],
        [
         {
          "length": 5,
          "values": [
           0.0,
           0.6036364468661222,
           0.22891572633040724,
           0.8571428571428571,
           0.791044776119403
          ],
          "vectorType": "dense"
         },
         1
        ],
        [
         {
          "length": 5,
          "values": [
           0.0,
           0.6036364468661222,
           0.30120481235539054,
           0.6071428571428571,
           0.791044776119403
          ],
          "vectorType": "dense"
         },
         1
        ],
        [
         {
          "length": 5,
          "values": [
           0.0,
           0.6072727550159801,
           0.36144588972698605,
           0.8571428571428571,
           0.9850746268656716
          ],
          "vectorType": "dense"
         },
         1
        ],
        [
         {
          "length": 5,
          "values": [
           0.0,
           0.6145455100319602,
           0.34939765127256345,
           0.75,
           0.8507462686567164
          ],
          "vectorType": "dense"
         },
         1
        ],
        [
         {
          "length": 5,
          "values": [
           0.0,
           0.6181818181818182,
           0.15662652540490654,
           0.6785714285714285,
           0.5746268656716418
          ],
          "vectorType": "dense"
         },
         1
        ],
        [
         {
          "length": 5,
          "values": [
           0.0,
           0.6181818181818182,
           0.19277112586765688,
           0.8214285714285714,
           0.7313432835820896
          ],
          "vectorType": "dense"
         },
         1
        ],
        [
         {
          "length": 5,
          "values": [
           0.0,
           0.6181818181818182,
           0.21686748787598464,
           0.9642857142857142,
           0.835820895522388
          ],
          "vectorType": "dense"
         },
         1
        ],
        [
         {
          "length": 5,
          "values": [
           0.0,
           0.6254545731977983,
           0.30120481235539054,
           0.7678571428571428,
           0.9402985074626866
          ],
          "vectorType": "dense"
         },
         1
        ],
        [
         {
          "length": 5,
          "values": [
           0.0,
           0.6327273282137784,
           0.34939765127256345,
           0.8928571428571428,
           0.8805970149253731
          ],
          "vectorType": "dense"
         },
         1
        ],
        [
         {
          "length": 5,
          "values": [
           0.0,
           0.6327273282137784,
           0.36144588972698605,
           0.9821428571428571,
           0.9253731343283582
          ],
          "vectorType": "dense"
         },
         1
        ],
        [
         {
          "length": 5,
          "values": [
           0.0,
           0.6363636363636364,
           0.33734941281814085,
           0.9107142857142857,
           0.8955223880597015
          ],
          "vectorType": "dense"
         },
         1
        ],
        [
         {
          "length": 5,
          "values": [
           0.0,
           0.6436363913796165,
           0.32530117436371825,
           0.9821428571428571,
           0.9701492537313433
          ],
          "vectorType": "dense"
         },
         1
        ],
        [
         {
          "length": 5,
          "values": [
           0.0,
           0.6436363913796165,
           0.4337348608514519,
           1.0,
           0.8955223880597015
          ],
          "vectorType": "dense"
         },
         1
        ],
        [
         {
          "length": 5,
          "values": [
           0.0,
           0.6509091463955966,
           0.2409638498843124,
           0.7857142857142857,
           0.8955223880597015
          ],
          "vectorType": "dense"
         },
         1
        ],
        [
         {
          "length": 5,
          "values": [
           0.0,
           0.6509091463955966,
           0.253012088338735,
           0.8214285714285714,
           0.8507462686567164
          ],
          "vectorType": "dense"
         },
         1
        ],
        [
         {
          "length": 5,
          "values": [
           0.0,
           0.6509091463955966,
           0.32530117436371825,
           0.8928571428571428,
           0.791044776119403
          ],
          "vectorType": "dense"
         },
         1
        ],
        [
         {
          "length": 5,
          "values": [
           0.0,
           0.6509091463955966,
           0.3734938983803738,
           1.0,
           0.8955223880597015
          ],
          "vectorType": "dense"
         },
         1
        ],
        [
         {
          "length": 5,
          "values": [
           0.0,
           0.6581819014115766,
           0.13253016339657878,
           0.7857142857142857,
           0.8955223880597015
          ],
          "vectorType": "dense"
         },
         1
        ],
        [
         {
          "length": 5,
          "values": [
           0.0,
           0.6654546564275567,
           0.30120481235539054,
           0.8571428571428571,
           0.9104477611940298
          ],
          "vectorType": "dense"
         },
         1
        ],
        [
         {
          "length": 5,
          "values": [
           0.0,
           0.6690909645774148,
           0.32530117436371825,
           0.8571428571428571,
           0.8507462686567164
          ],
          "vectorType": "dense"
         },
         1
        ],
        [
         {
          "length": 5,
          "values": [
           0.0,
           0.6763637195933948,
           0.21686748787598464,
           0.875,
           0.8507462686567164
          ],
          "vectorType": "dense"
         },
         1
        ],
        [
         {
          "length": 5,
          "values": [
           0.0,
           0.6800000277432529,
           0.30120481235539054,
           0.9285714285714285,
           0.746268656716418
          ],
          "vectorType": "dense"
         },
         1
        ],
        [
         {
          "length": 5,
          "values": [
           0.0,
           0.6909090909090909,
           0.3734938983803738,
           0.8214285714285714,
           0.9850746268656716
          ],
          "vectorType": "dense"
         },
         1
        ],
        [
         {
          "length": 5,
          "values": [
           0.0,
           0.6909090909090909,
           0.397590375289219,
           0.9107142857142857,
           0.7611940298507462
          ],
          "vectorType": "dense"
         },
         1
        ],
        [
         {
          "length": 5,
          "values": [
           0.0,
           0.698181845925071,
           0.1204819249421562,
           0.7857142857142857,
           0.7761194029850746
          ],
          "vectorType": "dense"
         },
         1
        ],
        [
         {
          "length": 5,
          "values": [
           0.0,
           0.7054546009410511,
           0.3734938983803738,
           1.0,
           0.835820895522388
          ],
          "vectorType": "dense"
         },
         1
        ],
        [
         {
          "length": 5,
          "values": [
           0.0,
           0.7309091741388494,
           0.46987957621471965,
           0.9642857142857142,
           0.8059701492537313
          ],
          "vectorType": "dense"
         },
         1
        ],
        [
         {
          "length": 5,
          "values": [
           0.0,
           0.7418182373046874,
           0.2891566888014853,
           0.8392857142857142,
           0.8208955223880597
          ],
          "vectorType": "dense"
         },
         1
        ],
        [
         {
          "length": 5,
          "values": [
           0.0,
           0.7745455655184659,
           0.3132530508098131,
           0.8035714285714285,
           0.835820895522388
          ],
          "vectorType": "dense"
         },
         1
        ],
        [
         {
          "length": 5,
          "values": [
           0.0,
           0.8654546564275568,
           0.45783133776029705,
           0.9642857142857142,
           0.8656716417910448
          ],
          "vectorType": "dense"
         },
         1
        ],
        [
         {
          "length": 5,
          "values": [
           0.0,
           1.0,
           0.45783133776029705,
           1.0,
           1.0
          ],
          "vectorType": "dense"
         },
         1
        ],
        [
         {
          "length": 5,
          "values": [
           1.0,
           0.0,
           0.2771084503470628,
           0.25,
           0.1044776119402985
          ],
          "vectorType": "dense"
         },
         0
        ],
        [
         {
          "length": 5,
          "values": [
           1.0,
           0.03636363636363636,
           0.34939765127256345,
           0.07142857142857142,
           0.05970149253731343
          ],
          "vectorType": "dense"
         },
         0
        ],
        [
         {
          "length": 5,
          "values": [
           1.0,
           0.13090917413884942,
           0.5783132627024533,
           0.5,
           0.2537313432835821
          ],
          "vectorType": "dense"
         },
         0
        ],
        [
         {
          "length": 5,
          "values": [
           1.0,
           0.14181823730468748,
           0.46987957621471965,
           0.23214285714285712,
           0.2985074626865672
          ],
          "vectorType": "dense"
         },
         0
        ],
        [
         {
          "length": 5,
          "values": [
           1.0,
           0.14181823730468748,
           0.5542167857936081,
           0.375,
           0.22388059701492538
          ],
          "vectorType": "dense"
         },
         0
        ],
        [
         {
          "length": 5,
          "values": [
           1.0,
           0.14181823730468748,
           0.5662650242480307,
           0.2857142857142857,
           0.22388059701492538
          ],
          "vectorType": "dense"
         },
         0
        ],
        [
         {
          "length": 5,
          "values": [
           1.0,
           0.14181823730468748,
           0.6385542251735313,
           0.21428571428571427,
           0.11940298507462686
          ],
          "vectorType": "dense"
         },
         0
        ],
        [
         {
          "length": 5,
          "values": [
           1.0,
           0.16363636363636364,
           0.6265059867191087,
           0.17857142857142855,
           0.23134328358208955
          ],
          "vectorType": "dense"
         },
         0
        ],
        [
         {
          "length": 5,
          "values": [
           1.0,
           0.17090911865234373,
           0.6385542251735313,
           0.33928571428571425,
           0.23880597014925373
          ],
          "vectorType": "dense"
         },
         0
        ],
        [
         {
          "length": 5,
          "values": [
           1.0,
           0.1745455655184659,
           0.6506024636279539,
           0.26785714285714285,
           0.23880597014925373
          ],
          "vectorType": "dense"
         },
         0
        ],
        [
         {
          "length": 5,
          "values": [
           1.0,
           0.17818187366832386,
           0.44578309930587445,
           0.19642857142857142,
           0.08955223880597014
          ],
          "vectorType": "dense"
         },
         0
        ],
        [
         {
          "length": 5,
          "values": [
           1.0,
           0.18545462868430396,
           0.5903615011568758,
           0.07142857142857142,
           0.3582089552238806
          ],
          "vectorType": "dense"
         },
         0
        ],
        [
         {
          "length": 5,
          "values": [
           1.0,
           0.18909093683416192,
           0.4337348608514519,
           0.3214285714285714,
           0.08955223880597014
          ],
          "vectorType": "dense"
         },
         0
        ],
        [
         {
          "length": 5,
          "values": [
           1.0,
           0.18909093683416192,
           0.5542167857936081,
           0.30357142857142855,
           0.19402985074626866
          ],
          "vectorType": "dense"
         },
         0
        ],
        [
         {
          "length": 5,
          "values": [
           1.0,
           0.19636369185014205,
           0.6385542251735313,
           0.4464285714285714,
           0.5298507462686567
          ],
          "vectorType": "dense"
         },
         0
        ],
        [
         {
          "length": 5,
          "values": [
           1.0,
           0.19636369185014205,
           0.6867469491901869,
           0.08928571428571427,
           0.08208955223880597
          ],
          "vectorType": "dense"
         },
         0
        ],
        [
         {
          "length": 5,
          "values": [
           1.0,
           0.19999999999999998,
           0.7349396732068424,
           0.125,
           0.1791044776119403
          ],
          "vectorType": "dense"
         },
         0
        ],
        [
         {
          "length": 5,
          "values": [
           1.0,
           0.2072727550159801,
           0.5903615011568758,
           0.33928571428571425,
           0.31343283582089554
          ],
          "vectorType": "dense"
         },
         0
        ],
        [
         {
          "length": 5,
          "values": [
           1.0,
           0.21818181818181817,
           0.5301205386857978,
           0.23214285714285712,
           0.2164179104477612
          ],
          "vectorType": "dense"
         },
         0
        ],
        [
         {
          "length": 5,
          "values": [
           1.0,
           0.2254545731977983,
           0.7228916645534547,
           0.26785714285714285,
           0.373134328358209
          ],
          "vectorType": "dense"
         },
         0
        ],
        [
         {
          "length": 5,
          "values": [
           1.0,
           0.24363639137961646,
           0.8192771125867657,
           0.2857142857142857,
           0.373134328358209
          ],
          "vectorType": "dense"
         },
         0
        ],
        [
         {
          "length": 5,
          "values": [
           1.0,
           0.2581819014115767,
           0.9518072759833445,
           0.39285714285714285,
           0.4328358208955224
          ],
          "vectorType": "dense"
         },
         0
        ],
        [
         {
          "length": 5,
          "values": [
           1.0,
           0.26909096457741477,
           0.5542167857936081,
           0.25,
           0.1791044776119403
          ],
          "vectorType": "dense"
         },
         0
        ],
        [
         {
          "length": 5,
          "values": [
           1.0,
           0.2727272727272727,
           0.6746987107357643,
           0.2857142857142857,
           0.5671641791044776
          ],
          "vectorType": "dense"
         },
         0
        ],
        [
         {
          "length": 5,
          "values": [
           1.0,
           0.28000002774325283,
           0.7108434260990321,
           0.17857142857142855,
           0.582089552238806
          ],
          "vectorType": "dense"
         },
         0
        ],
        [
         {
          "length": 5,
          "values": [
           1.0,
           0.298181845925071,
           0.6385542251735313,
           0.39285714285714285,
           0.4925373134328358
          ],
          "vectorType": "dense"
         },
         0
        ],
        [
         {
          "length": 5,
          "values": [
           1.0,
           0.3090909090909091,
           0.48192781466914225,
           0.23214285714285712,
           0.23134328358208955
          ],
          "vectorType": "dense"
         },
         0
        ],
        [
         {
          "length": 5,
          "values": [
           1.0,
           0.3127273559570312,
           0.45783133776029705,
           0.2857142857142857,
           0.30597014925373134
          ],
          "vectorType": "dense"
         },
         0
        ],
        [
         {
          "length": 5,
          "values": [
           1.0,
           0.3163636641068892,
           0.6265059867191087,
           0.375,
           0.3582089552238806
          ],
          "vectorType": "dense"
         },
         0
        ],
        [
         {
          "length": 5,
          "values": [
           1.0,
           0.3163636641068892,
           0.6867469491901869,
           0.6071428571428571,
           0.47761194029850745
          ],
          "vectorType": "dense"
         },
         0
        ],
        [
         {
          "length": 5,
          "values": [
           1.0,
           0.32000011097301134,
           0.4096386137436415,
           0.23214285714285712,
           0.1492537313432836
          ],
          "vectorType": "dense"
         },
         2
        ],
        [
         {
          "length": 5,
          "values": [
           1.0,
           0.32000011097301134,
           0.6867469491901869,
           0.17857142857142855,
           0.3582089552238806
          ],
          "vectorType": "dense"
         },
         0
        ],
        [
         {
          "length": 5,
          "values": [
           1.0,
           0.32727272727272727,
           0.5180723002313752,
           0.2857142857142857,
           0.3582089552238806
          ],
          "vectorType": "dense"
         },
         0
        ],
        [
         {
          "length": 5,
          "values": [
           1.0,
           0.32727272727272727,
           0.5903615011568758,
           0.5535714285714285,
           0.47761194029850745
          ],
          "vectorType": "dense"
         },
         0
        ],
        [
         {
          "length": 5,
          "values": [
           1.0,
           0.32727272727272727,
           0.6987951876446095,
           0.14285714285714285,
           0.2164179104477612
          ],
          "vectorType": "dense"
         },
         0
        ],
        [
         {
          "length": 5,
          "values": [
           1.0,
           0.3345454822887074,
           0.8554215981489987,
           0.3571428571428571,
           0.2537313432835821
          ],
          "vectorType": "dense"
         },
         0
        ],
        [
         {
          "length": 5,
          "values": [
           1.0,
           0.34181823730468747,
           0.6385542251735313,
           0.4821428571428571,
           0.3880597014925373
          ],
          "vectorType": "dense"
         },
         0
        ],
        [
         {
          "length": 5,
          "values": [
           1.0,
           0.3672728105024858,
           0.6385542251735313,
           0.10714285714285714,
           0.2537313432835821
          ],
          "vectorType": "dense"
         },
         0
        ],
        [
         {
          "length": 5,
          "values": [
           1.0,
           0.37818187366832384,
           0.4216868521980641,
           0.23214285714285712,
           0.19402985074626866
          ],
          "vectorType": "dense"
         },
         2
        ],
        [
         {
          "length": 5,
          "values": [
           1.0,
           0.37818187366832384,
           0.49397582332253,
           0.23214285714285712,
           0.19402985074626866
          ],
          "vectorType": "dense"
         },
         2
        ],
        [
         {
          "length": 5,
          "values": [
           1.0,
           0.40363644686612216,
           0.6385542251735313,
           0.3214285714285714,
           0.417910447761194
          ],
          "vectorType": "dense"
         },
         0
        ],
        [
         {
          "length": 5,
          "values": [
           1.0,
           0.43636363636363634,
           0.7831326270245328,
           0.39285714285714285,
           0.5074626865671642
          ],
          "vectorType": "dense"
         },
         0
        ],
        [
         {
          "length": 5,
          "values": [
           1.0,
           0.47636371959339485,
           0.5542167857936081,
           0.42857142857142855,
           0.373134328358209
          ],
          "vectorType": "dense"
         },
         2
        ],
        [
         {
          "length": 5,
          "values": [
           1.0,
           0.483636474609375,
           0.6626507020823765,
           0.25,
           0.2462686567164179
          ],
          "vectorType": "dense"
         },
         2
        ],
        [
         {
          "length": 5,
          "values": [
           1.0,
           0.4909090909090909,
           0.746987911661265,
           0.3571428571428571,
           0.2462686567164179
          ],
          "vectorType": "dense"
         },
         2
        ],
        [
         {
          "length": 5,
          "values": [
           1.0,
           0.49454553777521304,
           0.49397582332253,
           0.33928571428571425,
           0.26865671641791045
          ],
          "vectorType": "dense"
         },
         2
        ],
        [
         {
          "length": 5,
          "values": [
           1.0,
           0.5018182927911932,
           0.46987957621471965,
           0.2857142857142857,
           0.26119402985074625
          ],
          "vectorType": "dense"
         },
         2
        ],
        [
         {
          "length": 5,
          "values": [
           1.0,
           0.5054546009410511,
           0.6867469491901869,
           0.375,
           0.4328358208955224
          ],
          "vectorType": "dense"
         },
         2
        ],
        [
         {
          "length": 5,
          "values": [
           1.0,
           0.509090909090909,
           0.6024097396112984,
           0.07142857142857142,
           0.16417910447761194
          ],
          "vectorType": "dense"
         },
         2
        ],
        [
         {
          "length": 5,
          "values": [
           1.0,
           0.5127273559570312,
           0.5180723002313752,
           0.23214285714285712,
           0.2835820895522388
          ],
          "vectorType": "dense"
         },
         2
        ],
        [
         {
          "length": 5,
          "values": [
           1.0,
           0.5200001109730114,
           0.5542167857936081,
           0.30357142857142855,
           0.2985074626865672
          ],
          "vectorType": "dense"
         },
         2
        ],
        [
         {
          "length": 5,
          "values": [
           1.0,
           0.5236364191228693,
           0.5662650242480307,
           0.3214285714285714,
           0.23880597014925373
          ],
          "vectorType": "dense"
         },
         2
        ],
        [
         {
          "length": 5,
          "values": [
           1.0,
           0.5272727272727272,
           0.5542167857936081,
           0.33928571428571425,
           0.3283582089552239
          ],
          "vectorType": "dense"
         },
         2
        ],
        [
         {
          "length": 5,
          "values": [
           1.0,
           0.5309091741388494,
           0.5662650242480307,
           0.375,
           0.1791044776119403
          ],
          "vectorType": "dense"
         },
         2
        ],
        [
         {
          "length": 5,
          "values": [
           1.0,
           0.5345454822887074,
           0.397590375289219,
           0.26785714285714285,
           0.2835820895522388
          ],
          "vectorType": "dense"
         },
         2
        ],
        [
         {
          "length": 5,
          "values": [
           1.0,
           0.5381819291548295,
           0.4096386137436415,
           0.3214285714285714,
           0.0
          ],
          "vectorType": "dense"
         },
         2
        ],
        [
         {
          "length": 5,
          "values": [
           1.0,
           0.5636363636363636,
           0.6144577482646862,
           0.375,
           0.34328358208955223
          ],
          "vectorType": "dense"
         },
         2
        ],
        [
         {
          "length": 5,
          "values": [
           1.0,
           0.5818181818181818,
           0.3855421368347964,
           0.4464285714285714,
           0.1865671641791045
          ],
          "vectorType": "dense"
         },
         2
        ],
        [
         {
          "length": 5,
          "values": [
           1.0,
           0.596363691850142,
           0.5180723002313752,
           0.30357142857142855,
           0.208955223880597
          ],
          "vectorType": "dense"
         },
         2
        ],
        [
         {
          "length": 5,
          "values": [
           1.0,
           0.6145455100319602,
           0.7710843885701102,
           0.6785714285714285,
           0.47761194029850745
          ],
          "vectorType": "dense"
         },
         2
        ],
        [
         {
          "length": 5,
          "values": [
           1.0,
           0.6218182650479404,
           0.6024097396112984,
           0.375,
           0.5074626865671642
          ],
          "vectorType": "dense"
         },
         2
        ],
        [
         {
          "length": 5,
          "values": [
           1.0,
           0.6400000832297585,
           0.6506024636279539,
           0.375,
           0.26865671641791045
          ],
          "vectorType": "dense"
         },
         2
        ],
        [
         {
          "length": 5,
          "values": [
           1.0,
           0.6436363913796165,
           0.49397582332253,
           0.42857142857142855,
           0.291044776119403
          ],
          "vectorType": "dense"
         },
         2
        ],
        [
         {
          "length": 5,
          "values": [
           1.0,
           0.6545454545454545,
           0.5662650242480307,
           0.2857142857142857,
           0.208955223880597
          ],
          "vectorType": "dense"
         },
         2
        ],
        [
         {
          "length": 5,
          "values": [
           1.0,
           0.6581819014115766,
           0.6626507020823765,
           0.42857142857142855,
           0.3208955223880597
          ],
          "vectorType": "dense"
         },
         2
        ],
        [
         {
          "length": 5,
          "values": [
           1.0,
           0.6581819014115766,
           0.6746987107357643,
           0.5,
           0.3283582089552239
          ],
          "vectorType": "dense"
         },
         2
        ],
        [
         {
          "length": 5,
          "values": [
           1.0,
           0.6618182095614347,
           0.8192771125867657,
           0.4107142857142857,
           0.1791044776119403
          ],
          "vectorType": "dense"
         },
         2
        ],
        [
         {
          "length": 5,
          "values": [
           1.0,
           0.6690909645774148,
           0.6265059867191087,
           0.46428571428571425,
           0.208955223880597
          ],
          "vectorType": "dense"
         },
         2
        ],
        [
         {
          "length": 5,
          "values": [
           1.0,
           0.6727272727272727,
           0.746987911661265,
           0.33928571428571425,
           0.3283582089552239
          ],
          "vectorType": "dense"
         },
         2
        ],
        [
         {
          "length": 5,
          "values": [
           1.0,
           0.6836364746093749,
           0.7108434260990321,
           0.39285714285714285,
           0.2537313432835821
          ],
          "vectorType": "dense"
         },
         2
        ],
        [
         {
          "length": 5,
          "values": [
           1.0,
           0.6872727827592329,
           0.6746987107357643,
           0.5178571428571428,
           0.417910447761194
          ],
          "vectorType": "dense"
         },
         2
        ],
        [
         {
          "length": 5,
          "values": [
           1.0,
           0.698181845925071,
           0.6024097396112984,
           0.4107142857142857,
           0.31343283582089554
          ],
          "vectorType": "dense"
         },
         2
        ],
        [
         {
          "length": 5,
          "values": [
           1.0,
           0.698181845925071,
           0.7228916645534547,
           0.33928571428571425,
           0.2835820895522388
          ],
          "vectorType": "dense"
         },
         2
        ],
        [
         {
          "length": 5,
          "values": [
           1.0,
           0.7018182927911931,
           0.6987951876446095,
           0.4821428571428571,
           0.373134328358209
          ],
          "vectorType": "dense"
         },
         2
        ],
        [
         {
          "length": 5,
          "values": [
           1.0,
           0.7127273559570312,
           0.8554215981489987,
           0.3571428571428571,
           0.3208955223880597
          ],
          "vectorType": "dense"
         },
         2
        ],
        [
         {
          "length": 5,
          "values": [
           1.0,
           0.7200001109730113,
           0.7590361501156876,
           0.5714285714285714,
           0.373134328358209
          ],
          "vectorType": "dense"
         },
         2
        ],
        [
         {
          "length": 5,
          "values": [
           1.0,
           0.7236364191228692,
           0.5903615011568758,
           0.4821428571428571,
           0.40298507462686567
          ],
          "vectorType": "dense"
         },
         2
        ],
        [
         {
          "length": 5,
          "values": [
           1.0,
           0.7236364191228692,
           0.9036145519666889,
           0.6428571428571428,
           0.6268656716417911
          ],
          "vectorType": "dense"
         },
         2
        ],
        [
         {
          "length": 5,
          "values": [
           1.0,
           0.7309091741388494,
           0.6746987107357643,
           0.4107142857142857,
           0.22388059701492538
          ],
          "vectorType": "dense"
         },
         2
        ],
        [
         {
          "length": 5,
          "values": [
           1.0,
           0.7490909923206676,
           0.7951806356779205,
           0.4107142857142857,
           0.30597014925373134
          ],
          "vectorType": "dense"
         },
         2
        ],
        [
         {
          "length": 5,
          "values": [
           1.0,
           0.7527273004705255,
           0.8192771125867657,
           0.5535714285714285,
           0.5522388059701493
          ],
          "vectorType": "dense"
         },
         2
        ],
        [
         {
          "length": 5,
          "values": [
           1.0,
           0.7781818736683238,
           0.8072288741323431,
           0.5535714285714285,
           0.5373134328358209
          ],
          "vectorType": "dense"
         },
         2
        ],
        [
         {
          "length": 5,
          "values": [
           1.0,
           0.8036364468661221,
           0.9156625606200767,
           0.4821428571428571,
           0.47761194029850745
          ],
          "vectorType": "dense"
         },
         2
        ],
        [
         {
          "length": 5,
          "values": [
           1.0,
           0.8618182095614346,
           0.7951806356779205,
           0.5892857142857143,
           0.3880597014925373
          ],
          "vectorType": "dense"
         },
         2
        ],
        [
         {
          "length": 5,
          "values": [
           2.0,
           0.050909146395596586,
           0.6987951876446095,
           0.2857142857142857,
           0.26865671641791045
          ],
          "vectorType": "dense"
         },
         0
        ],
        [
         {
          "length": 5,
          "values": [
           2.0,
           0.07272727272727272,
           0.5903615011568758,
           0.33928571428571425,
           0.23134328358208955
          ],
          "vectorType": "dense"
         },
         0
        ],
        [
         {
          "length": 5,
          "values": [
           2.0,
           0.083636474609375,
           0.6265059867191087,
           0.17857142857142855,
           0.1865671641791045
          ],
          "vectorType": "dense"
         },
         0
        ],
        [
         {
          "length": 5,
          "values": [
           2.0,
           0.09090909090909091,
           0.48192781466914225,
           0.26785714285714285,
           0.1492537313432836
          ],
          "vectorType": "dense"
         },
         0
        ],
        [
         {
          "length": 5,
          "values": [
           2.0,
           0.09090909090909091,
           0.9518072759833445,
           0.42857142857142855,
           0.5074626865671642
          ],
          "vectorType": "dense"
         },
         0
        ],
        [
         {
          "length": 5,
          "values": [
           2.0,
           0.10909090909090909,
           0.746987911661265,
           0.33928571428571425,
           0.44776119402985076
          ],
          "vectorType": "dense"
         },
         0
        ],
        [
         {
          "length": 5,
          "values": [
           2.0,
           0.11272735595703125,
           0.32530117436371825,
           0.21428571428571427,
           0.1044776119402985
          ],
          "vectorType": "dense"
         },
         0
        ],
        [
         {
          "length": 5,
          "values": [
           2.0,
           0.12363641912286931,
           0.5180723002313752,
           0.2857142857142857,
           0.2985074626865672
          ],
          "vectorType": "dense"
         },
         0
        ],
        [
         {
          "length": 5,
          "values": [
           2.0,
           0.16363636363636364,
           0.5542167857936081,
           0.19642857142857142,
           0.2985074626865672
          ],
          "vectorType": "dense"
         },
         0
        ],
        [
         {
          "length": 5,
          "values": [
           2.0,
           0.1672728105024858,
           0.6746987107357643,
           0.23214285714285712,
           0.3283582089552239
          ],
          "vectorType": "dense"
         },
         0
        ],
        [
         {
          "length": 5,
          "values": [
           2.0,
           0.1672728105024858,
           0.7349396732068424,
           0.33928571428571425,
           0.22388059701492538
          ],
          "vectorType": "dense"
         },
         0
        ],
        [
         {
          "length": 5,
          "values": [
           2.0,
           0.18545462868430396,
           0.746987911661265,
           0.17857142857142855,
           0.3582089552238806
          ],
          "vectorType": "dense"
         },
         0
        ],
        [
         {
          "length": 5,
          "values": [
           2.0,
           0.20363644686612214,
           0.7951806356779205,
           0.42857142857142855,
           0.23880597014925373
          ],
          "vectorType": "dense"
         },
         0
        ],
        [
         {
          "length": 5,
          "values": [
           2.0,
           0.2072727550159801,
           0.49397582332253,
           0.10714285714285714,
           0.2985074626865672
          ],
          "vectorType": "dense"
         },
         0
        ],
        [
         {
          "length": 5,
          "values": [
           2.0,
           0.2327273282137784,
           0.5662650242480307,
           0.2857142857142857,
           0.1865671641791045
          ],
          "vectorType": "dense"
         },
         0
        ],
        [
         {
          "length": 5,
          "values": [
           2.0,
           0.23636363636363636,
           0.9638555144377671,
           0.30357142857142855,
           0.3283582089552239
          ],
          "vectorType": "dense"
         },
         0
        ],
        [
         {
          "length": 5,
          "values": [
           2.0,
           0.24363639137961646,
           0.5301205386857978,
           0.30357142857142855,
           0.17164179104477612
          ],
          "vectorType": "dense"
         },
         0
        ],
        [
         {
          "length": 5,
          "values": [
           2.0,
           0.2509091463955966,
           0.46987957621471965,
           0.30357142857142855,
           0.1044776119402985
          ],
          "vectorType": "dense"
         },
         0
        ],
        [
         {
          "length": 5,
          "values": [
           2.0,
           0.2545454545454545,
           0.6626507020823765,
           0.125,
           0.31343283582089554
          ],
          "vectorType": "dense"
         },
         0
        ],
        [
         {
          "length": 5,
          "values": [
           2.0,
           0.2581819014115767,
           0.7710843885701102,
           0.375,
           0.5895522388059702
          ],
          "vectorType": "dense"
         },
         0
        ],
        [
         {
          "length": 5,
          "values": [
           2.0,
           0.26181820956143464,
           0.8915663135122663,
           0.2857142857142857,
           0.2835820895522388
          ],
          "vectorType": "dense"
         },
         0
        ],
        [
         {
          "length": 5,
          "values": [
           2.0,
           0.26909096457741477,
           0.5060240617769526,
           0.21428571428571427,
           0.3283582089552239
          ],
          "vectorType": "dense"
         },
         0
        ],
        [
         {
          "length": 5,
          "values": [
           2.0,
           0.2727272727272727,
           0.48192781466914225,
           0.39285714285714285,
           0.2537313432835821
          ],
          "vectorType": "dense"
         },
         0
        ],
        [
         {
          "length": 5,
          "values": [
           2.0,
           0.2763637195933949,
           0.6265059867191087,
           0.2857142857142857,
           0.3582089552238806
          ],
          "vectorType": "dense"
         },
         0
        ],
        [
         {
          "length": 5,
          "values": [
           2.0,
           0.29454553777521303,
           0.45783133776029705,
           0.03571428571428571,
           0.22388059701492538
          ],
          "vectorType": "dense"
         },
         0
        ],
        [
         {
          "length": 5,
          "values": [
           2.0,
           0.33818192915482953,
           0.6385542251735313,
           0.5,
           0.35074626865671643
          ],
          "vectorType": "dense"
         },
         0
        ],
        [
         {
          "length": 5,
          "values": [
           2.0,
           0.35272730047052553,
           0.746987911661265,
           0.42857142857142855,
           0.5223880597014925
          ],
          "vectorType": "dense"
         },
         0
        ],
        [
         {
          "length": 5,
          "values": [
           2.0,
           0.36000005548650565,
           0.8433735894956108,
           0.2857142857142857,
           0.4626865671641791
          ],
          "vectorType": "dense"
         },
         0
        ],
        [
         {
          "length": 5,
          "values": [
           2.0,
           0.37818187366832384,
           0.9036145519666889,
           0.4107142857142857,
           0.5373134328358209
          ],
          "vectorType": "dense"
         },
         0
        ],
        [
         {
          "length": 5,
          "values": [
           2.0,
           0.3890909368341619,
           0.6385542251735313,
           0.375,
           0.4626865671641791
          ],
          "vectorType": "dense"
         },
         0
        ],
        [
         {
          "length": 5,
          "values": [
           2.0,
           0.43636363636363634,
           0.5783132627024533,
           0.6428571428571428,
           0.3880597014925373
          ],
          "vectorType": "dense"
         },
         0
        ],
        [
         {
          "length": 5,
          "values": [
           2.0,
           0.5054546009410511,
           1.0,
           0.3571428571428571,
           0.44776119402985076
          ],
          "vectorType": "dense"
         },
         0
        ]
       ],
       "datasetInfos": [],
       "dbfsResultPath": null,
       "isJsonSchema": true,
       "metadata": {},
       "overflow": false,
       "plotOptions": {
        "customPlotOptions": {},
        "displayType": "table",
        "pivotAggregation": null,
        "pivotColumns": null,
        "xColumns": null,
        "yColumns": null
       },
       "removedWidgets": [],
       "schema": [
        {
         "metadata": "{\"ml_attr\":{\"attrs\":{\"numeric\":[{\"idx\":1,\"name\":\"normalizedFeatures_0\"},{\"idx\":2,\"name\":\"normalizedFeatures_1\"},{\"idx\":3,\"name\":\"normalizedFeatures_2\"},{\"idx\":4,\"name\":\"normalizedFeatures_3\"}],\"nominal\":[{\"vals\":[\"Biscoe\",\"Dream\",\"Torgersen\"],\"idx\":0,\"name\":\"IslandIdx\"}]},\"num_attrs\":5}}",
         "name": "features",
         "type": "{\"type\":\"udt\",\"class\":\"org.apache.spark.ml.linalg.VectorUDT\",\"pyClass\":\"pyspark.ml.linalg.VectorUDT\",\"sqlType\":{\"type\":\"struct\",\"fields\":[{\"name\":\"type\",\"type\":\"byte\",\"nullable\":false,\"metadata\":{}},{\"name\":\"size\",\"type\":\"integer\",\"nullable\":true,\"metadata\":{}},{\"name\":\"indices\",\"type\":{\"type\":\"array\",\"elementType\":\"integer\",\"containsNull\":false},\"nullable\":true,\"metadata\":{}},{\"name\":\"values\",\"type\":{\"type\":\"array\",\"elementType\":\"double\",\"containsNull\":false},\"nullable\":true,\"metadata\":{}}]}}"
        },
        {
         "metadata": "{}",
         "name": "label",
         "type": "\"integer\""
        }
       ],
       "type": "table"
      }
     },
     "output_type": "display_data"
    }
   ],
   "source": [
    "featVect = VectorAssembler(inputCols=[\"IslandIdx\", \"normalizedFeatures\"], outputCol=\"featuresVector\")\n",
    "preppedData = featVect.transform(scaledData)[col(\"featuresVector\").alias(\"features\"), col(\"Species\").alias(\"label\")]\n",
    "display(preppedData)"
   ]
  },
  {
   "cell_type": "code",
   "execution_count": 0,
   "metadata": {
    "application/vnd.databricks.v1+cell": {
     "cellMetadata": {
      "byteLimit": 2048000,
      "rowLimit": 10000
     },
     "inputWidgets": {},
     "nuid": "03951d19-c942-4161-a1b8-096a3336be87",
     "showTitle": false,
     "title": ""
    }
   },
   "outputs": [
    {
     "output_type": "stream",
     "name": "stdout",
     "output_type": "stream",
     "text": [
      "Model trained!\n"
     ]
    }
   ],
   "source": [
    "from pyspark.ml.classification import LogisticRegression\n",
    "\n",
    "lr = LogisticRegression(labelCol=\"label\", featuresCol=\"features\", maxIter=10, regParam=0.3)\n",
    "model = lr.fit(preppedData)\n",
    "print (\"Model trained!\")"
   ]
  },
  {
   "cell_type": "code",
   "execution_count": 0,
   "metadata": {
    "application/vnd.databricks.v1+cell": {
     "cellMetadata": {
      "byteLimit": 2048000,
      "rowLimit": 10000
     },
     "inputWidgets": {},
     "nuid": "a0de700a-0f46-4c7f-9894-97d628781ae6",
     "showTitle": false,
     "title": ""
    }
   },
   "outputs": [
    {
     "output_type": "display_data",
     "data": {
      "text/html": [
       "<style scoped>\n",
       "  .table-result-container {\n",
       "    max-height: 300px;\n",
       "    overflow: auto;\n",
       "  }\n",
       "  table, th, td {\n",
       "    border: 1px solid black;\n",
       "    border-collapse: collapse;\n",
       "  }\n",
       "  th, td {\n",
       "    padding: 5px;\n",
       "  }\n",
       "  th {\n",
       "    text-align: left;\n",
       "  }\n",
       "</style><div class='table-result-container'><table class='table-result'><thead style='background-color: white'><tr><th>features</th><th>probability</th><th>prediction</th><th>trueLabel</th></tr></thead><tbody><tr><td>Map(vectorType -> dense, length -> 5, values -> List(0.0, 0.020833333333333332, 0.6172839215462804, 0.2542372881355932, 0.0))</td><td>Map(vectorType -> dense, length -> 3, values -> List(0.8826740555209703, 0.04321249858275545, 0.07411344589627426))</td><td>0</td><td>0</td></tr><tr><td>Map(vectorType -> dense, length -> 5, values -> List(0.0, 0.041666666666666664, 0.5925924704943777, 0.3050847457627119, 0.16176470588235292))</td><td>Map(vectorType -> dense, length -> 3, values -> List(0.85199812391868, 0.07176089153424155, 0.07624098454707842))</td><td>0</td><td>0</td></tr><tr><td>Map(vectorType -> dense, length -> 5, values -> List(0.0, 0.0625, 0.3827160784537196, 0.3898305084745763, 0.1323529411764706))</td><td>Map(vectorType -> dense, length -> 3, values -> List(0.7718228429615217, 0.14107321474696977, 0.08710394229150856))</td><td>0</td><td>0</td></tr><tr><td>Map(vectorType -> dense, length -> 5, values -> List(0.0, 0.16250006357828775, 0.6790123137009084, 0.0, 0.07352941176470587))</td><td>Map(vectorType -> dense, length -> 3, values -> List(0.8546349165735935, 0.03494324190472965, 0.11042184152167678))</td><td>0</td><td>0</td></tr><tr><td>Map(vectorType -> dense, length -> 5, values -> List(0.0, 0.17083326975504556, 0.4197530195564449, 0.4406779661016949, 0.27205882352941174))</td><td>Map(vectorType -> dense, length -> 3, values -> List(0.6587512395846942, 0.22463823869411279, 0.11661052172119316))</td><td>0</td><td>0</td></tr><tr><td>Map(vectorType -> dense, length -> 5, values -> List(0.0, 0.1916666030883789, 0.5061728627629757, 0.4576271186440678, 0.24999999999999997))</td><td>Map(vectorType -> dense, length -> 3, values -> List(0.6741720995738901, 0.19580533084978508, 0.13002256957632488))</td><td>0</td><td>0</td></tr><tr><td>Map(vectorType -> dense, length -> 5, values -> List(0.0, 0.23750003178914386, 0.5679012549176037, 0.3559322033898305, 0.08823529411764705))</td><td>Map(vectorType -> dense, length -> 3, values -> List(0.7129504513688056, 0.11996639906454865, 0.16708314956664563))</td><td>0</td><td>0</td></tr><tr><td>Map(vectorType -> dense, length -> 5, values -> List(0.0, 0.2708333333333333, 0.5925924704943777, 0.2542372881355932, 0.08823529411764705))</td><td>Map(vectorType -> dense, length -> 3, values -> List(0.718680209822298, 0.09899213881452806, 0.1823276513631739))</td><td>0</td><td>0</td></tr><tr><td>Map(vectorType -> dense, length -> 5, values -> List(0.0, 0.2875000635782877, 0.07407399994301501, 0.711864406779661, 0.5147058823529411))</td><td>Map(vectorType -> dense, length -> 3, values -> List(0.19880140775762994, 0.729565709333972, 0.07163288290839795))</td><td>1</td><td>1</td></tr><tr><td>Map(vectorType -> dense, length -> 5, values -> List(0.0, 0.29166666666666663, 0.8518517646388412, 0.5254237288135594, 0.5367647058823529))</td><td>Map(vectorType -> dense, length -> 3, values -> List(0.6398027253772163, 0.2012192425538446, 0.15897803206893912))</td><td>0</td><td>0</td></tr><tr><td>Map(vectorType -> dense, length -> 5, values -> List(0.0, 0.29583326975504554, 0.6296296470722318, 0.3389830508474576, 0.338235294117647))</td><td>Map(vectorType -> dense, length -> 3, values -> List(0.6562436219287342, 0.16977081318552567, 0.17398556488574016))</td><td>0</td><td>0</td></tr><tr><td>Map(vectorType -> dense, length -> 5, values -> List(0.0, 0.3166666030883789, 0.604938196020329, 0.3389830508474576, 0.30882352941176466))</td><td>Map(vectorType -> dense, length -> 3, values -> List(0.6336239693145085, 0.17772018770510684, 0.18865584298038465))</td><td>0</td><td>0</td></tr><tr><td>Map(vectorType -> dense, length -> 5, values -> List(0.0, 0.3208333651224772, 0.1975307842522711, 0.6440677966101694, 0.5294117647058824))</td><td>Map(vectorType -> dense, length -> 3, values -> List(0.25281012336648356, 0.6504060669237345, 0.09678380970978182))</td><td>1</td><td>1</td></tr><tr><td>Map(vectorType -> dense, length -> 5, values -> List(0.0, 0.3333333333333333, 0.04938266662867668, 0.6440677966101694, 0.3676470588235294))</td><td>Map(vectorType -> dense, length -> 3, values -> List(0.22551392784233748, 0.6712937814451746, 0.1031922907124878))</td><td>1</td><td>1</td></tr><tr><td>Map(vectorType -> dense, length -> 5, values -> List(0.0, 0.3333333333333333, 0.7901233724842132, 0.4745762711864407, 0.338235294117647))</td><td>Map(vectorType -> dense, length -> 3, values -> List(0.6297216219337614, 0.16614006037204493, 0.20413831769419377))</td><td>0</td><td>0</td></tr><tr><td>Map(vectorType -> dense, length -> 5, values -> List(0.0, 0.35833326975504554, 0.07407399994301501, 0.6949152542372882, 0.6029411764705882))</td><td>Map(vectorType -> dense, length -> 3, values -> List(0.1500774265518009, 0.7789131147000832, 0.07100945874811601))</td><td>1</td><td>1</td></tr><tr><td>Map(vectorType -> dense, length -> 5, values -> List(0.0, 0.36250003178914386, 0.6419751371230543, 0.4067796610169492, 0.34558823529411764))</td><td>Map(vectorType -> dense, length -> 3, values -> List(0.574013144158162, 0.21257778691613352, 0.21340906892570452))</td><td>0</td><td>0</td></tr><tr><td>Map(vectorType -> dense, length -> 5, values -> List(0.0, 0.3708333969116211, 0.0, 0.7288135593220338, 0.6176470588235293))</td><td>Map(vectorType -> dense, length -> 3, values -> List(0.11306172902833664, 0.828009518213997, 0.05892875275766639))</td><td>1</td><td>1</td></tr><tr><td>Map(vectorType -> dense, length -> 5, values -> List(0.0, 0.3833333651224772, 0.17283945093793276, 0.6101694915254238, 0.4558823529411764))</td><td>Map(vectorType -> dense, length -> 3, values -> List(0.23577756771038857, 0.6419430347264693, 0.12227939756314204))</td><td>1</td><td>1</td></tr><tr><td>Map(vectorType -> dense, length -> 5, values -> List(0.0, 0.3874999682108561, 0.03703694110272532, 0.6271186440677966, 0.4411764705882353))</td><td>Map(vectorType -> dense, length -> 3, values -> List(0.17929325060073184, 0.7197624843087863, 0.10094426509048188))</td><td>1</td><td>1</td></tr><tr><td>Map(vectorType -> dense, length -> 5, values -> List(0.0, 0.40833330154418945, 0.09876533325735336, 0.6101694915254238, 0.4117647058823529))</td><td>Map(vectorType -> dense, length -> 3, values -> List(0.2028175780275837, 0.6739678438872155, 0.12321457808520078))</td><td>1</td><td>1</td></tr><tr><td>Map(vectorType -> dense, length -> 5, values -> List(0.0, 0.4541667302449544, 0.08641972546896638, 0.6779661016949152, 0.5441176470588235))</td><td>Map(vectorType -> dense, length -> 3, values -> List(0.13038756933959858, 0.7731799275280756, 0.09643250313232589))</td><td>1</td><td>1</td></tr><tr><td>Map(vectorType -> dense, length -> 5, values -> List(0.0, 0.4624999364217122, 0.1604937254119814, 0.6440677966101694, 0.4411764705882353))</td><td>Map(vectorType -> dense, length -> 3, values -> List(0.17824264379151347, 0.6849842757391316, 0.13677308046935502))</td><td>1</td><td>1</td></tr><tr><td>Map(vectorType -> dense, length -> 5, values -> List(0.0, 0.4750000635782877, 0.1851851764638841, 0.6610169491525424, 0.5588235294117646))</td><td>Map(vectorType -> dense, length -> 3, values -> List(0.15185254718236463, 0.7307803581831656, 0.11736709463446968))</td><td>1</td><td>1</td></tr><tr><td>Map(vectorType -> dense, length -> 5, values -> List(0.0, 0.48750003178914386, 0.09876533325735336, 0.711864406779661, 0.4411764705882353))</td><td>Map(vectorType -> dense, length -> 3, values -> List(0.13005452219315478, 0.7508121876799442, 0.11913329012690119))</td><td>1</td><td>1</td></tr><tr><td>Map(vectorType -> dense, length -> 5, values -> List(0.0, 0.49166663487752277, 0.13580239209764305, 0.7966101694915254, 0.5294117647058824))</td><td>Map(vectorType -> dense, length -> 3, values -> List(0.10489637816572492, 0.7970098229186643, 0.09809379891561082))</td><td>1</td><td>1</td></tr><tr><td>Map(vectorType -> dense, length -> 5, values -> List(0.0, 0.5083333651224772, 0.17283945093793276, 0.6271186440677966, 0.5588235294117646))</td><td>Map(vectorType -> dense, length -> 3, values -> List(0.1429717213351283, 0.7306270415457824, 0.1264012371190894))</td><td>1</td><td>1</td></tr><tr><td>Map(vectorType -> dense, length -> 5, values -> List(0.0, 0.5124999682108561, 0.3333332940874785, 0.7288135593220338, 0.6323529411764706))</td><td>Map(vectorType -> dense, length -> 3, values -> List(0.14712726272862195, 0.7233301977844557, 0.12954253948692218))</td><td>1</td><td>1</td></tr><tr><td>Map(vectorType -> dense, length -> 5, values -> List(0.0, 0.5166667302449544, 0.3086419607731402, 0.8305084745762712, 0.6176470588235293))</td><td>Map(vectorType -> dense, length -> 3, values -> List(0.11656124090034686, 0.770285825639098, 0.11315293346055519))</td><td>1</td><td>1</td></tr><tr><td>Map(vectorType -> dense, length -> 5, values -> List(0.0, 0.5208333333333333, 0.1604937254119814, 0.7627118644067796, 0.588235294117647))</td><td>Map(vectorType -> dense, length -> 3, values -> List(0.09979025301801686, 0.799422651646215, 0.10078709533576821))</td><td>1</td><td>1</td></tr><tr><td>Map(vectorType -> dense, length -> 5, values -> List(0.0, 0.5375000635782877, 0.1851851764638841, 0.847457627118644, 0.5808823529411764))</td><td>Map(vectorType -> dense, length -> 3, values -> List(0.08536836515459764, 0.8170479275484772, 0.09758370729692521))</td><td>1</td><td>1</td></tr><tr><td>Map(vectorType -> dense, length -> 5, values -> List(0.0, 0.5500000317891438, 0.29629623524718884, 0.7288135593220338, 0.6102941176470588))</td><td>Map(vectorType -> dense, length -> 3, values -> List(0.12565354621038066, 0.7401953484127499, 0.1341511053768694))</td><td>1</td><td>1</td></tr><tr><td>Map(vectorType -> dense, length -> 5, values -> List(0.0, 0.5541666348775227, 0.2716049019328505, 0.847457627118644, 0.6911764705882353))</td><td>Map(vectorType -> dense, length -> 3, values -> List(0.08392596643800548, 0.8203480770383674, 0.09572595652362709))</td><td>1</td><td>1</td></tr><tr><td>Map(vectorType -> dense, length -> 5, values -> List(0.0, 0.5625, 0.2345678430925608, 0.7796610169491526, 0.6029411764705882))</td><td>Map(vectorType -> dense, length -> 3, values -> List(0.09756781363015803, 0.7858158920185536, 0.11661629435128852))</td><td>1</td><td>1</td></tr><tr><td>Map(vectorType -> dense, length -> 5, values -> List(0.0, 0.5708333651224772, 0.2345678430925608, 0.7457627118644068, 0.5441176470588235))</td><td>Map(vectorType -> dense, length -> 3, values -> List(0.10964996973727555, 0.7535985732860011, 0.13675145697672342))</td><td>1</td><td>1</td></tr><tr><td>Map(vectorType -> dense, length -> 5, values -> List(0.0, 0.6083332697550455, 0.3580246274018169, 0.9830508474576272, 0.8529411764705882))</td><td>Map(vectorType -> dense, length -> 3, values -> List(0.05122960212579129, 0.87517867405801, 0.07359172381619863))</td><td>1</td><td>1</td></tr><tr><td>Map(vectorType -> dense, length -> 5, values -> List(0.0, 0.6333333651224772, 0.25925917640689916, 0.8305084745762712, 0.9999999999999999))</td><td>Map(vectorType -> dense, length -> 3, values -> List(0.04140524718380066, 0.8999079700771622, 0.05868678273903714))</td><td>1</td><td>1</td></tr><tr><td>Map(vectorType -> dense, length -> 5, values -> List(0.0, 0.6416667302449544, 0.3333332940874785, 0.7457627118644068, 0.5955882352941176))</td><td>Map(vectorType -> dense, length -> 3, values -> List(0.1007974226031709, 0.7352243896727993, 0.16397818772402953))</td><td>1</td><td>1</td></tr><tr><td>Map(vectorType -> dense, length -> 5, values -> List(0.0, 0.6499999364217122, 0.2345678430925608, 0.7457627118644068, 0.5441176470588235))</td><td>Map(vectorType -> dense, length -> 3, values -> List(0.08565438012954821, 0.7612583681199256, 0.1530872517505262))</td><td>1</td><td>1</td></tr><tr><td>Map(vectorType -> dense, length -> 5, values -> List(0.0, 0.6625000635782877, 0.3703703529277682, 0.6949152542372882, 0.7352941176470588))</td><td>Map(vectorType -> dense, length -> 3, values -> List(0.0939657613568041, 0.7548966716905897, 0.15113756695260616))</td><td>1</td><td>1</td></tr><tr><td>Map(vectorType -> dense, length -> 5, values -> List(0.0, 0.6708332697550455, 0.2345678430925608, 0.8983050847457628, 0.6176470588235293))</td><td>Map(vectorType -> dense, length -> 3, values -> List(0.05348425598252942, 0.8345628257554241, 0.11195291826204658))</td><td>1</td><td>1</td></tr><tr><td>Map(vectorType -> dense, length -> 5, values -> List(0.0, 0.6833333969116211, 0.2716049019328505, 0.8813559322033898, 0.7794117647058822))</td><td>Map(vectorType -> dense, length -> 3, values -> List(0.0457035545571306, 0.8621682522435269, 0.0921281931993424))</td><td>1</td><td>1</td></tr><tr><td>Map(vectorType -> dense, length -> 5, values -> List(0.0, 0.6875, 0.25925917640689916, 0.7457627118644068, 0.6176470588235293))</td><td>Map(vectorType -> dense, length -> 3, values -> List(0.07272134078662382, 0.7793134881156378, 0.1479651710977384))</td><td>1</td><td>1</td></tr><tr><td>Map(vectorType -> dense, length -> 5, values -> List(0.0, 0.6875, 0.34567890187586553, 0.8983050847457628, 0.7352941176470588))</td><td>Map(vectorType -> dense, length -> 3, values -> List(0.054986090878000334, 0.8314944632337712, 0.11351944588822858))</td><td>1</td><td>1</td></tr><tr><td>Map(vectorType -> dense, length -> 5, values -> List(0.0, 0.6999999682108561, 0.5185183528137983, 0.9491525423728814, 0.7941176470588235))</td><td>Map(vectorType -> dense, length -> 3, values -> List(0.06429569291448568, 0.802411981464451, 0.13329232562106313))</td><td>1</td><td>1</td></tr><tr><td>Map(vectorType -> dense, length -> 5, values -> List(0.0, 0.7541666030883789, 0.48148141171107295, 0.9830508474576272, 0.7794117647058822))</td><td>Map(vectorType -> dense, length -> 3, values -> List(0.047387248113189714, 0.8217808271966034, 0.13083192469020694))</td><td>1</td><td>1</td></tr><tr><td>Map(vectorType -> dense, length -> 5, values -> List(0.0, 0.8458333015441895, 0.32098756856152716, 1.0, 0.8088235294117646))</td><td>Map(vectorType -> dense, length -> 3, values -> List(0.02239687540024278, 0.8787899223798007, 0.09881320221995668))</td><td>1</td><td>1</td></tr><tr><td>Map(vectorType -> dense, length -> 5, values -> List(0.0, 0.8791666030883789, 0.3580246274018169, 0.9830508474576272, 0.8676470588235293))</td><td>Map(vectorType -> dense, length -> 3, values -> List(0.020770385391694433, 0.877714096165554, 0.1015155184427516))</td><td>1</td><td>1</td></tr><tr><td>Map(vectorType -> dense, length -> 5, values -> List(1.0, 0.0, 0.4938271372370243, 0.22033898305084745, 0.14705882352941174))</td><td>Map(vectorType -> dense, length -> 3, values -> List(0.8943230869446237, 0.03843704081311656, 0.06723987224225982))</td><td>0</td><td>0</td></tr><tr><td>Map(vectorType -> dense, length -> 5, values -> List(1.0, 0.0666666030883789, 0.543209803865701, 0.3220338983050847, 0.08088235294117646))</td><td>Map(vectorType -> dense, length -> 3, values -> List(0.8599139429523787, 0.04561770292610329, 0.09446835412151804))</td><td>0</td><td>0</td></tr><tr><td>Map(vectorType -> dense, length -> 5, values -> List(1.0, 0.09166669845581055, 0.5185183528137983, 0.2542372881355932, 0.1176470588235294))</td><td>Map(vectorType -> dense, length -> 3, values -> List(0.8526501514927125, 0.04756294571125699, 0.09978690279603052))</td><td>0</td><td>0</td></tr><tr><td>Map(vectorType -> dense, length -> 5, values -> List(1.0, 0.09583330154418945, 0.7901233724842132, 0.3050847457627119, 0.2647058823529412))</td><td>Map(vectorType -> dense, length -> 3, values -> List(0.8729148368529166, 0.035211757289470645, 0.09187340585761258))</td><td>0</td><td>0</td></tr><tr><td>Map(vectorType -> dense, length -> 5, values -> List(1.0, 0.10000006357828775, 0.48148141171107295, 0.3898305084745763, 0.12499999999999999))</td><td>Map(vectorType -> dense, length -> 3, values -> List(0.8182293066002245, 0.07246840616804259, 0.10930228723173284))</td><td>0</td><td>0</td></tr><tr><td>Map(vectorType -> dense, length -> 5, values -> List(1.0, 0.10416666666666666, 0.604938196020329, 0.1694915254237288, 0.07352941176470587))</td><td>Map(vectorType -> dense, length -> 3, values -> List(0.8686758754879181, 0.030294061762443193, 0.10103006274963865))</td><td>0</td><td>0</td></tr><tr><td>Map(vectorType -> dense, length -> 5, values -> List(1.0, 0.125, 0.4197530195564449, 0.22033898305084745, 0.14705882352941174))</td><td>Map(vectorType -> dense, length -> 3, values -> List(0.8233245972949745, 0.06464051492962619, 0.1120348877753993))</td><td>0</td><td>0</td></tr><tr><td>Map(vectorType -> dense, length -> 5, values -> List(1.0, 0.17083326975504556, 0.6790123137009084, 0.3050847457627119, 0.2352941176470588))</td><td>Map(vectorType -> dense, length -> 3, values -> List(0.8188136133024315, 0.05370551492487806, 0.1274808717726904))</td><td>0</td><td>0</td></tr><tr><td>Map(vectorType -> dense, length -> 5, values -> List(1.0, 0.2041667302449544, 0.7037035292776824, 0.3050847457627119, 0.20588235294117646))</td><td>Map(vectorType -> dense, length -> 3, values -> List(0.8019565066009623, 0.05209506483474788, 0.14594842856428974))</td><td>0</td><td>0</td></tr><tr><td>Map(vectorType -> dense, length -> 5, values -> List(1.0, 0.20833333333333331, 0.6913580392268598, 0.22033898305084745, 0.22058823529411764))</td><td>Map(vectorType -> dense, length -> 3, values -> List(0.8113548472086421, 0.04628379953683969, 0.14236135325451812))</td><td>0</td><td>0</td></tr><tr><td>Map(vectorType -> dense, length -> 5, values -> List(1.0, 0.21666669845581055, 0.6790123137009084, 0.3050847457627119, 0.39705882352941174))</td><td>Map(vectorType -> dense, length -> 3, values -> List(0.7812092945455125, 0.0793040426865433, 0.13948666276794436))</td><td>0</td><td>0</td></tr><tr><td>Map(vectorType -> dense, length -> 5, values -> List(1.0, 0.22916666666666666, 0.44444447060834763, 0.1016949152542373, 0.10294117647058823))</td><td>Map(vectorType -> dense, length -> 3, values -> List(0.7831660604509715, 0.05624244167669641, 0.16059149787233218))</td><td>0</td><td>0</td></tr><tr><td>Map(vectorType -> dense, length -> 5, values -> List(1.0, 0.23333326975504556, 0.6172839215462804, 0.23728813559322035, 0.4558823529411764))</td><td>Map(vectorType -> dense, length -> 3, values -> List(0.767530061077272, 0.09150312551119005, 0.14096681341153788))</td><td>0</td><td>0</td></tr><tr><td>Map(vectorType -> dense, length -> 5, values -> List(1.0, 0.23750003178914386, 0.5925924704943777, 0.3559322033898305, 0.39705882352941174))</td><td>Map(vectorType -> dense, length -> 3, values -> List(0.7337055517731418, 0.11318577596044051, 0.15310867226641772))</td><td>0</td><td>0</td></tr><tr><td>Map(vectorType -> dense, length -> 5, values -> List(1.0, 0.2583333651224772, 0.4938271372370243, 0.3559322033898305, 0.14705882352941174))</td><td>Map(vectorType -> dense, length -> 3, values -> List(0.7130973425443364, 0.09803583759279826, 0.18886681986286524))</td><td>0</td><td>0</td></tr><tr><td>Map(vectorType -> dense, length -> 5, values -> List(1.0, 0.2583333651224772, 0.8641974901647925, 0.4745762711864407, 0.3161764705882353))</td><td>Map(vectorType -> dense, length -> 3, values -> List(0.7542387052262439, 0.06960057563839543, 0.17616071913536072))</td><td>0</td><td>0</td></tr><tr><td>Map(vectorType -> dense, length -> 5, values -> List(1.0, 0.34583330154418945, 1.0, 0.3220338983050847, 0.3676470588235294))</td><td>Map(vectorType -> dense, length -> 3, values -> List(0.7352955631840955, 0.047861982797420155, 0.21684245401848426))</td><td>0</td><td>0</td></tr><tr><td>Map(vectorType -> dense, length -> 5, values -> List(1.0, 0.3500000635782877, 0.5185183528137983, 0.15254237288135594, 0.20588235294117646))</td><td>Map(vectorType -> dense, length -> 3, values -> List(0.684867406309458, 0.08112723990759967, 0.23400535378294232))</td><td>0</td><td>2</td></tr><tr><td>Map(vectorType -> dense, length -> 5, values -> List(1.0, 0.3833333651224772, 0.43209874508239626, 0.2542372881355932, 0.0))</td><td>Map(vectorType -> dense, length -> 3, values -> List(0.615552281254799, 0.09031889856732804, 0.2941288201778729))</td><td>0</td><td>2</td></tr><tr><td>Map(vectorType -> dense, length -> 5, values -> List(1.0, 0.3958333333333333, 0.6172839215462804, 0.5084745762711864, 0.14705882352941174))</td><td>Map(vectorType -> dense, length -> 3, values -> List(0.5730545293142024, 0.127722286805913, 0.29922318387988467))</td><td>0</td><td>2</td></tr><tr><td>Map(vectorType -> dense, length -> 5, values -> List(1.0, 0.46666669845581055, 0.43209874508239626, 0.3220338983050847, 0.10294117647058823))</td><td>Map(vectorType -> dense, length -> 3, values -> List(0.5082618615485411, 0.1380483068915412, 0.35368983155991757))</td><td>0</td><td>2</td></tr><tr><td>Map(vectorType -> dense, length -> 5, values -> List(1.0, 0.47916666666666663, 0.48148141171107295, 0.4067796610169492, 0.1764705882352941))</td><td>Map(vectorType -> dense, length -> 3, values -> List(0.47943701739710154, 0.166006704170584, 0.3545562784323144))</td><td>0</td><td>2</td></tr><tr><td>Map(vectorType -> dense, length -> 5, values -> List(1.0, 0.48750003178914386, 0.48148141171107295, 0.3898305084745763, 0.22058823529411764))</td><td>Map(vectorType -> dense, length -> 3, values -> List(0.47284414596719804, 0.1747389804977217, 0.35241687353508033))</td><td>0</td><td>2</td></tr><tr><td>Map(vectorType -> dense, length -> 5, values -> List(1.0, 0.5166667302449544, 0.6790123137009084, 0.3050847457627119, 0.16176470588235292))</td><td>Map(vectorType -> dense, length -> 3, values -> List(0.5124756454987643, 0.09065745726254433, 0.3968668972386912))</td><td>0</td><td>2</td></tr><tr><td>Map(vectorType -> dense, length -> 5, values -> List(1.0, 0.5416666666666666, 0.5185183528137983, 0.22033898305084745, 0.2352941176470588))</td><td>Map(vectorType -> dense, length -> 3, values -> List(0.4729291425363976, 0.12933888068481028, 0.39773197677879213))</td><td>0</td><td>2</td></tr><tr><td>Map(vectorType -> dense, length -> 5, values -> List(1.0, 0.5625, 0.4567899606591702, 0.4576271186440678, 0.2941176470588235))</td><td>Map(vectorType -> dense, length -> 3, values -> List(0.3646612621840052, 0.24601628860719704, 0.3893224492087979))</td><td>2</td><td>2</td></tr><tr><td>Map(vectorType -> dense, length -> 5, values -> List(1.0, 0.625, 0.7901233724842132, 0.6440677966101694, 0.30882352941176466))</td><td>Map(vectorType -> dense, length -> 3, values -> List(0.3376774402825226, 0.18460196371010884, 0.4777205960073686))</td><td>2</td><td>2</td></tr><tr><td>Map(vectorType -> dense, length -> 5, values -> List(1.0, 0.6374999682108561, 0.8395060391128898, 0.5254237288135594, 0.338235294117647))</td><td>Map(vectorType -> dense, length -> 3, values -> List(0.3642097032303797, 0.1443652357712029, 0.49142506099841754))</td><td>2</td><td>2</td></tr><tr><td>Map(vectorType -> dense, length -> 5, values -> List(1.0, 0.6458333333333333, 0.7283949803295852, 0.4745762711864407, 0.2647058823529412))</td><td>Map(vectorType -> dense, length -> 3, values -> List(0.34711262201177706, 0.14751291114572337, 0.5053744668424995))</td><td>2</td><td>2</td></tr><tr><td>Map(vectorType -> dense, length -> 5, values -> List(1.0, 0.6499999364217122, 0.6296296470722318, 0.3559322033898305, 0.25735294117647056))</td><td>Map(vectorType -> dense, length -> 3, values -> List(0.351481313024387, 0.14629799304011762, 0.5022206939354955))</td><td>2</td><td>2</td></tr><tr><td>Map(vectorType -> dense, length -> 5, values -> List(1.0, 0.6666666666666666, 0.7901233724842132, 0.4067796610169492, 0.2941176470588235))</td><td>Map(vectorType -> dense, length -> 3, values -> List(0.35352213263001303, 0.12229724371338802, 0.5241806236565991))</td><td>2</td><td>2</td></tr><tr><td>Map(vectorType -> dense, length -> 5, values -> List(1.0, 0.6875, 0.8024690980101645, 0.4915254237288136, 0.338235294117647))</td><td>Map(vectorType -> dense, length -> 3, values -> List(0.3171287742219291, 0.15045108187416245, 0.5324201439039085))</td><td>2</td><td>2</td></tr><tr><td>Map(vectorType -> dense, length -> 5, values -> List(1.0, 0.6958333651224772, 0.8148148235361159, 0.5254237288135594, 0.338235294117647))</td><td>Map(vectorType -> dense, length -> 3, values -> List(0.30439310865220753, 0.1556959803349386, 0.5399109110128539))</td><td>2</td><td>2</td></tr><tr><td>Map(vectorType -> dense, length -> 5, values -> List(1.0, 0.6999999682108561, 0.666666588174957, 0.4915254237288136, 0.4558823529411764))</td><td>Map(vectorType -> dense, length -> 3, values -> List(0.2747020537993969, 0.2399615959602422, 0.4853363502403609))</td><td>2</td><td>2</td></tr><tr><td>Map(vectorType -> dense, length -> 5, values -> List(1.0, 0.6999999682108561, 0.7283949803295852, 0.6440677966101694, 0.3529411764705882))</td><td>Map(vectorType -> dense, length -> 3, values -> List(0.2576608857553176, 0.22899122495088306, 0.5133478892937993))</td><td>2</td><td>2</td></tr><tr><td>Map(vectorType -> dense, length -> 5, values -> List(1.0, 0.7041667302449544, 0.5925924704943777, 0.4067796610169492, 0.2279411764705882))</td><td>Map(vectorType -> dense, length -> 3, values -> List(0.28388969421316, 0.1665625580534513, 0.5495477477333888))</td><td>2</td><td>2</td></tr><tr><td>Map(vectorType -> dense, length -> 5, values -> List(1.0, 0.7208333015441895, 0.8395060391128898, 0.4406779661016949, 0.2352941176470588))</td><td>Map(vectorType -> dense, length -> 3, values -> List(0.30224492943972286, 0.106786046596101, 0.590969023964176))</td><td>2</td><td>2</td></tr><tr><td>Map(vectorType -> dense, length -> 5, values -> List(1.0, 0.7291666666666666, 0.6913580392268598, 0.2542372881355932, 0.10294117647058823))</td><td>Map(vectorType -> dense, length -> 3, values -> List(0.3043204037135162, 0.08285313456308878, 0.612826461723395))</td><td>2</td><td>2</td></tr><tr><td>Map(vectorType -> dense, length -> 5, values -> List(1.0, 0.75, 0.7283949803295852, 0.423728813559322, 0.3676470588235294))</td><td>Map(vectorType -> dense, length -> 3, values -> List(0.2633165492664061, 0.16694938318173924, 0.5697340675518547))</td><td>2</td><td>2</td></tr><tr><td>Map(vectorType -> dense, length -> 5, values -> List(1.0, 1.0, 0.5802467449684263, 0.15254237288135594, 0.2352941176470588))</td><td>Map(vectorType -> dense, length -> 3, values -> List(0.12176924520709353, 0.10651068169330381, 0.7717200730996026))</td><td>2</td><td>2</td></tr><tr><td>Map(vectorType -> dense, length -> 5, values -> List(2.0, 0.0708333651224772, 0.48148141171107295, 0.288135593220339, 0.1323529411764706))</td><td>Map(vectorType -> dense, length -> 3, values -> List(0.8705211158327117, 0.031485552549162014, 0.09799333161812636))</td><td>0</td><td>0</td></tr><tr><td>Map(vectorType -> dense, length -> 5, values -> List(2.0, 0.07916673024495442, 0.43209874508239626, 0.3050847457627119, 0.044117647058823525))</td><td>Map(vectorType -> dense, length -> 3, values -> List(0.8601197813949405, 0.032429317281389626, 0.10745090132366988))</td><td>0</td><td>0</td></tr><tr><td>Map(vectorType -> dense, length -> 5, values -> List(2.0, 0.09166669845581055, 0.3703703529277682, 0.2542372881355932, 0.19117647058823528))</td><td>Map(vectorType -> dense, length -> 3, values -> List(0.850483440985423, 0.04526608402834293, 0.10425047498623408))</td><td>0</td><td>0</td></tr><tr><td>Map(vectorType -> dense, length -> 5, values -> List(2.0, 0.09166669845581055, 0.5061728627629757, 0.2542372881355932, 0.07352941176470587))</td><td>Map(vectorType -> dense, length -> 3, values -> List(0.8670077451454273, 0.026099906109087447, 0.1068923487454852))</td><td>0</td><td>0</td></tr><tr><td>Map(vectorType -> dense, length -> 5, values -> List(2.0, 0.1374999682108561, 0.9135801567934693, 0.4576271186440678, 0.25735294117647056))</td><td>Map(vectorType -> dense, length -> 3, values -> List(0.8581752963053418, 0.02292337054387304, 0.11890133315078506))</td><td>0</td><td>0</td></tr><tr><td>Map(vectorType -> dense, length -> 5, values -> List(2.0, 0.15833330154418945, 0.4938271372370243, 0.23728813559322035, 0.1176470588235294))</td><td>Map(vectorType -> dense, length -> 3, values -> List(0.8314076640079647, 0.03335861499504671, 0.1352337209969885))</td><td>0</td><td>0</td></tr><tr><td>Map(vectorType -> dense, length -> 5, values -> List(2.0, 0.1916666030883789, 0.48148141171107295, 0.2711864406779661, 0.0))</td><td>Map(vectorType -> dense, length -> 3, values -> List(0.8031437423463629, 0.03263191085700299, 0.16422434679663409))</td><td>0</td><td>0</td></tr><tr><td>Map(vectorType -> dense, length -> 5, values -> List(2.0, 0.1958333651224772, 0.7283949803295852, 0.3898305084745763, 0.16176470588235292))</td><td>Map(vectorType -> dense, length -> 3, values -> List(0.8129351564032002, 0.03078059155593204, 0.1562842520408677))</td><td>0</td><td>0</td></tr><tr><td>Map(vectorType -> dense, length -> 5, values -> List(2.0, 0.2041667302449544, 0.5802467449684263, 0.15254237288135594, 0.21323529411764705))</td><td>Map(vectorType -> dense, length -> 3, values -> List(0.8246079135481549, 0.029556693951367105, 0.14583539250047786))</td><td>0</td><td>0</td></tr><tr><td>Map(vectorType -> dense, length -> 5, values -> List(2.0, 0.2624999682108561, 0.604938196020329, 0.3898305084745763, 0.10294117647058823))</td><td>Map(vectorType -> dense, length -> 3, values -> List(0.7477706141287054, 0.043938863261483274, 0.2082905226098115))</td><td>0</td><td>0</td></tr><tr><td>Map(vectorType -> dense, length -> 5, values -> List(2.0, 0.2749999364217122, 0.7283949803295852, 0.4576271186440678, 0.32352941176470584))</td><td>Map(vectorType -> dense, length -> 3, values -> List(0.743785787596873, 0.057107931354288016, 0.199106281048839))</td><td>0</td><td>0</td></tr><tr><td>Map(vectorType -> dense, length -> 5, values -> List(2.0, 0.2875000635782877, 0.4567899606591702, 0.3220338983050847, 0.2352941176470588))</td><td>Map(vectorType -> dense, length -> 3, values -> List(0.7151471343093712, 0.07269463398907705, 0.21215823170155174))</td><td>0</td><td>0</td></tr><tr><td>Map(vectorType -> dense, length -> 5, values -> List(2.0, 0.29583326975504554, 0.5555555293916523, 0.1694915254237288, 0.08823529411764705))</td><td>Map(vectorType -> dense, length -> 3, values -> List(0.7508308323744263, 0.03225824876914844, 0.21691091885642538))</td><td>0</td><td>0</td></tr><tr><td>Map(vectorType -> dense, length -> 5, values -> List(2.0, 0.29583326975504554, 0.6790123137009084, 0.288135593220339, 0.12499999999999999))</td><td>Map(vectorType -> dense, length -> 3, values -> List(0.7476402210318556, 0.032806942774031546, 0.21955283619411287))</td><td>0</td><td>0</td></tr><tr><td>Map(vectorType -> dense, length -> 5, values -> List(2.0, 0.3125, 0.6419751371230543, 0.3898305084745763, 0.4117647058823529))</td><td>Map(vectorType -> dense, length -> 3, values -> List(0.7092849310502313, 0.0769951700161019, 0.21371989893366672))</td><td>0</td><td>0</td></tr><tr><td>Map(vectorType -> dense, length -> 5, values -> List(2.0, 0.3374999364217122, 0.7407407058555364, 0.3898305084745763, 0.32352941176470584))</td><td>Map(vectorType -> dense, length -> 3, values -> List(0.7058079642645286, 0.05464202664263972, 0.23955000909283172))</td><td>0</td><td>0</td></tr><tr><td>Map(vectorType -> dense, length -> 5, values -> List(2.0, 0.3708333969116211, 0.5555555293916523, 0.4067796610169492, 0.5294117647058824))</td><td>Map(vectorType -> dense, length -> 3, values -> List(0.6249941377300439, 0.13241430525777717, 0.24259155701217894))</td><td>0</td><td>0</td></tr><tr><td>Map(vectorType -> dense, length -> 5, values -> List(2.0, 0.3791666030883789, 0.7530864313814878, 0.423728813559322, 0.1764705882352941))</td><td>Map(vectorType -> dense, length -> 3, values -> List(0.6593011315464704, 0.04719897824012884, 0.2934998902134008))</td><td>0</td><td>0</td></tr><tr><td>Map(vectorType -> dense, length -> 5, values -> List(2.0, 0.49166663487752277, 0.7160492548036338, 0.423728813559322, 0.3676470588235294))</td><td>Map(vectorType -> dense, length -> 3, values -> List(0.5402754939428593, 0.08641929739295583, 0.3733052086641848))</td><td>0</td><td>0</td></tr></tbody></table></div>"
      ]
     },
     "metadata": {
      "application/vnd.databricks.v1+output": {
       "addedWidgets": {},
       "aggData": [],
       "aggError": "",
       "aggOverflow": false,
       "aggSchema": [],
       "aggSeriesLimitReached": false,
       "aggType": "",
       "arguments": {},
       "columnCustomDisplayInfos": {},
       "data": [
        [
         {
          "length": 5,
          "values": [
           0.0,
           0.020833333333333332,
           0.6172839215462804,
           0.2542372881355932,
           0.0
          ],
          "vectorType": "dense"
         },
         {
          "length": 3,
          "values": [
           0.8826740555209703,
           0.04321249858275545,
           0.07411344589627426
          ],
          "vectorType": "dense"
         },
         0,
         0
        ],
        [
         {
          "length": 5,
          "values": [
           0.0,
           0.041666666666666664,
           0.5925924704943777,
           0.3050847457627119,
           0.16176470588235292
          ],
          "vectorType": "dense"
         },
         {
          "length": 3,
          "values": [
           0.85199812391868,
           0.07176089153424155,
           0.07624098454707842
          ],
          "vectorType": "dense"
         },
         0,
         0
        ],
        [
         {
          "length": 5,
          "values": [
           0.0,
           0.0625,
           0.3827160784537196,
           0.3898305084745763,
           0.1323529411764706
          ],
          "vectorType": "dense"
         },
         {
          "length": 3,
          "values": [
           0.7718228429615217,
           0.14107321474696977,
           0.08710394229150856
          ],
          "vectorType": "dense"
         },
         0,
         0
        ],
        [
         {
          "length": 5,
          "values": [
           0.0,
           0.16250006357828775,
           0.6790123137009084,
           0.0,
           0.07352941176470587
          ],
          "vectorType": "dense"
         },
         {
          "length": 3,
          "values": [
           0.8546349165735935,
           0.03494324190472965,
           0.11042184152167678
          ],
          "vectorType": "dense"
         },
         0,
         0
        ],
        [
         {
          "length": 5,
          "values": [
           0.0,
           0.17083326975504556,
           0.4197530195564449,
           0.4406779661016949,
           0.27205882352941174
          ],
          "vectorType": "dense"
         },
         {
          "length": 3,
          "values": [
           0.6587512395846942,
           0.22463823869411279,
           0.11661052172119316
          ],
          "vectorType": "dense"
         },
         0,
         0
        ],
        [
         {
          "length": 5,
          "values": [
           0.0,
           0.1916666030883789,
           0.5061728627629757,
           0.4576271186440678,
           0.24999999999999997
          ],
          "vectorType": "dense"
         },
         {
          "length": 3,
          "values": [
           0.6741720995738901,
           0.19580533084978508,
           0.13002256957632488
          ],
          "vectorType": "dense"
         },
         0,
         0
        ],
        [
         {
          "length": 5,
          "values": [
           0.0,
           0.23750003178914386,
           0.5679012549176037,
           0.3559322033898305,
           0.08823529411764705
          ],
          "vectorType": "dense"
         },
         {
          "length": 3,
          "values": [
           0.7129504513688056,
           0.11996639906454865,
           0.16708314956664563
          ],
          "vectorType": "dense"
         },
         0,
         0
        ],
        [
         {
          "length": 5,
          "values": [
           0.0,
           0.2708333333333333,
           0.5925924704943777,
           0.2542372881355932,
           0.08823529411764705
          ],
          "vectorType": "dense"
         },
         {
          "length": 3,
          "values": [
           0.718680209822298,
           0.09899213881452806,
           0.1823276513631739
          ],
          "vectorType": "dense"
         },
         0,
         0
        ],
        [
         {
          "length": 5,
          "values": [
           0.0,
           0.2875000635782877,
           0.07407399994301501,
           0.711864406779661,
           0.5147058823529411
          ],
          "vectorType": "dense"
         },
         {
          "length": 3,
          "values": [
           0.19880140775762994,
           0.729565709333972,
           0.07163288290839795
          ],
          "vectorType": "dense"
         },
         1,
         1
        ],
        [
         {
          "length": 5,
          "values": [
           0.0,
           0.29166666666666663,
           0.8518517646388412,
           0.5254237288135594,
           0.5367647058823529
          ],
          "vectorType": "dense"
         },
         {
          "length": 3,
          "values": [
           0.6398027253772163,
           0.2012192425538446,
           0.15897803206893912
          ],
          "vectorType": "dense"
         },
         0,
         0
        ],
        [
         {
          "length": 5,
          "values": [
           0.0,
           0.29583326975504554,
           0.6296296470722318,
           0.3389830508474576,
           0.338235294117647
          ],
          "vectorType": "dense"
         },
         {
          "length": 3,
          "values": [
           0.6562436219287342,
           0.16977081318552567,
           0.17398556488574016
          ],
          "vectorType": "dense"
         },
         0,
         0
        ],
        [
         {
          "length": 5,
          "values": [
           0.0,
           0.3166666030883789,
           0.604938196020329,
           0.3389830508474576,
           0.30882352941176466
          ],
          "vectorType": "dense"
         },
         {
          "length": 3,
          "values": [
           0.6336239693145085,
           0.17772018770510684,
           0.18865584298038465
          ],
          "vectorType": "dense"
         },
         0,
         0
        ],
        [
         {
          "length": 5,
          "values": [
           0.0,
           0.3208333651224772,
           0.1975307842522711,
           0.6440677966101694,
           0.5294117647058824
          ],
          "vectorType": "dense"
         },
         {
          "length": 3,
          "values": [
           0.25281012336648356,
           0.6504060669237345,
           0.09678380970978182
          ],
          "vectorType": "dense"
         },
         1,
         1
        ],
        [
         {
          "length": 5,
          "values": [
           0.0,
           0.3333333333333333,
           0.04938266662867668,
           0.6440677966101694,
           0.3676470588235294
          ],
          "vectorType": "dense"
         },
         {
          "length": 3,
          "values": [
           0.22551392784233748,
           0.6712937814451746,
           0.1031922907124878
          ],
          "vectorType": "dense"
         },
         1,
         1
        ],
        [
         {
          "length": 5,
          "values": [
           0.0,
           0.3333333333333333,
           0.7901233724842132,
           0.4745762711864407,
           0.338235294117647
          ],
          "vectorType": "dense"
         },
         {
          "length": 3,
          "values": [
           0.6297216219337614,
           0.16614006037204493,
           0.20413831769419377
          ],
          "vectorType": "dense"
         },
         0,
         0
        ],
        [
         {
          "length": 5,
          "values": [
           0.0,
           0.35833326975504554,
           0.07407399994301501,
           0.6949152542372882,
           0.6029411764705882
          ],
          "vectorType": "dense"
         },
         {
          "length": 3,
          "values": [
           0.1500774265518009,
           0.7789131147000832,
           0.07100945874811601
          ],
          "vectorType": "dense"
         },
         1,
         1
        ],
        [
         {
          "length": 5,
          "values": [
           0.0,
           0.36250003178914386,
           0.6419751371230543,
           0.4067796610169492,
           0.34558823529411764
          ],
          "vectorType": "dense"
         },
         {
          "length": 3,
          "values": [
           0.574013144158162,
           0.21257778691613352,
           0.21340906892570452
          ],
          "vectorType": "dense"
         },
         0,
         0
        ],
        [
         {
          "length": 5,
          "values": [
           0.0,
           0.3708333969116211,
           0.0,
           0.7288135593220338,
           0.6176470588235293
          ],
          "vectorType": "dense"
         },
         {
          "length": 3,
          "values": [
           0.11306172902833664,
           0.828009518213997,
           0.05892875275766639
          ],
          "vectorType": "dense"
         },
         1,
         1
        ],
        [
         {
          "length": 5,
          "values": [
           0.0,
           0.3833333651224772,
           0.17283945093793276,
           0.6101694915254238,
           0.4558823529411764
          ],
          "vectorType": "dense"
         },
         {
          "length": 3,
          "values": [
           0.23577756771038857,
           0.6419430347264693,
           0.12227939756314204
          ],
          "vectorType": "dense"
         },
         1,
         1
        ],
        [
         {
          "length": 5,
          "values": [
           0.0,
           0.3874999682108561,
           0.03703694110272532,
           0.6271186440677966,
           0.4411764705882353
          ],
          "vectorType": "dense"
         },
         {
          "length": 3,
          "values": [
           0.17929325060073184,
           0.7197624843087863,
           0.10094426509048188
          ],
          "vectorType": "dense"
         },
         1,
         1
        ],
        [
         {
          "length": 5,
          "values": [
           0.0,
           0.40833330154418945,
           0.09876533325735336,
           0.6101694915254238,
           0.4117647058823529
          ],
          "vectorType": "dense"
         },
         {
          "length": 3,
          "values": [
           0.2028175780275837,
           0.6739678438872155,
           0.12321457808520078
          ],
          "vectorType": "dense"
         },
         1,
         1
        ],
        [
         {
          "length": 5,
          "values": [
           0.0,
           0.4541667302449544,
           0.08641972546896638,
           0.6779661016949152,
           0.5441176470588235
          ],
          "vectorType": "dense"
         },
         {
          "length": 3,
          "values": [
           0.13038756933959858,
           0.7731799275280756,
           0.09643250313232589
          ],
          "vectorType": "dense"
         },
         1,
         1
        ],
        [
         {
          "length": 5,
          "values": [
           0.0,
           0.4624999364217122,
           0.1604937254119814,
           0.6440677966101694,
           0.4411764705882353
          ],
          "vectorType": "dense"
         },
         {
          "length": 3,
          "values": [
           0.17824264379151347,
           0.6849842757391316,
           0.13677308046935502
          ],
          "vectorType": "dense"
         },
         1,
         1
        ],
        [
         {
          "length": 5,
          "values": [
           0.0,
           0.4750000635782877,
           0.1851851764638841,
           0.6610169491525424,
           0.5588235294117646
          ],
          "vectorType": "dense"
         },
         {
          "length": 3,
          "values": [
           0.15185254718236463,
           0.7307803581831656,
           0.11736709463446968
          ],
          "vectorType": "dense"
         },
         1,
         1
        ],
        [
         {
          "length": 5,
          "values": [
           0.0,
           0.48750003178914386,
           0.09876533325735336,
           0.711864406779661,
           0.4411764705882353
          ],
          "vectorType": "dense"
         },
         {
          "length": 3,
          "values": [
           0.13005452219315478,
           0.7508121876799442,
           0.11913329012690119
          ],
          "vectorType": "dense"
         },
         1,
         1
        ],
        [
         {
          "length": 5,
          "values": [
           0.0,
           0.49166663487752277,
           0.13580239209764305,
           0.7966101694915254,
           0.5294117647058824
          ],
          "vectorType": "dense"
         },
         {
          "length": 3,
          "values": [
           0.10489637816572492,
           0.7970098229186643,
           0.09809379891561082
          ],
          "vectorType": "dense"
         },
         1,
         1
        ],
        [
         {
          "length": 5,
          "values": [
           0.0,
           0.5083333651224772,
           0.17283945093793276,
           0.6271186440677966,
           0.5588235294117646
          ],
          "vectorType": "dense"
         },
         {
          "length": 3,
          "values": [
           0.1429717213351283,
           0.7306270415457824,
           0.1264012371190894
          ],
          "vectorType": "dense"
         },
         1,
         1
        ],
        [
         {
          "length": 5,
          "values": [
           0.0,
           0.5124999682108561,
           0.3333332940874785,
           0.7288135593220338,
           0.6323529411764706
          ],
          "vectorType": "dense"
         },
         {
          "length": 3,
          "values": [
           0.14712726272862195,
           0.7233301977844557,
           0.12954253948692218
          ],
          "vectorType": "dense"
         },
         1,
         1
        ],
        [
         {
          "length": 5,
          "values": [
           0.0,
           0.5166667302449544,
           0.3086419607731402,
           0.8305084745762712,
           0.6176470588235293
          ],
          "vectorType": "dense"
         },
         {
          "length": 3,
          "values": [
           0.11656124090034686,
           0.770285825639098,
           0.11315293346055519
          ],
          "vectorType": "dense"
         },
         1,
         1
        ],
        [
         {
          "length": 5,
          "values": [
           0.0,
           0.5208333333333333,
           0.1604937254119814,
           0.7627118644067796,
           0.588235294117647
          ],
          "vectorType": "dense"
         },
         {
          "length": 3,
          "values": [
           0.09979025301801686,
           0.799422651646215,
           0.10078709533576821
          ],
          "vectorType": "dense"
         },
         1,
         1
        ],
        [
         {
          "length": 5,
          "values": [
           0.0,
           0.5375000635782877,
           0.1851851764638841,
           0.847457627118644,
           0.5808823529411764
          ],
          "vectorType": "dense"
         },
         {
          "length": 3,
          "values": [
           0.08536836515459764,
           0.8170479275484772,
           0.09758370729692521
          ],
          "vectorType": "dense"
         },
         1,
         1
        ],
        [
         {
          "length": 5,
          "values": [
           0.0,
           0.5500000317891438,
           0.29629623524718884,
           0.7288135593220338,
           0.6102941176470588
          ],
          "vectorType": "dense"
         },
         {
          "length": 3,
          "values": [
           0.12565354621038066,
           0.7401953484127499,
           0.1341511053768694
          ],
          "vectorType": "dense"
         },
         1,
         1
        ],
        [
         {
          "length": 5,
          "values": [
           0.0,
           0.5541666348775227,
           0.2716049019328505,
           0.847457627118644,
           0.6911764705882353
          ],
          "vectorType": "dense"
         },
         {
          "length": 3,
          "values": [
           0.08392596643800548,
           0.8203480770383674,
           0.09572595652362709
          ],
          "vectorType": "dense"
         },
         1,
         1
        ],
        [
         {
          "length": 5,
          "values": [
           0.0,
           0.5625,
           0.2345678430925608,
           0.7796610169491526,
           0.6029411764705882
          ],
          "vectorType": "dense"
         },
         {
          "length": 3,
          "values": [
           0.09756781363015803,
           0.7858158920185536,
           0.11661629435128852
          ],
          "vectorType": "dense"
         },
         1,
         1
        ],
        [
         {
          "length": 5,
          "values": [
           0.0,
           0.5708333651224772,
           0.2345678430925608,
           0.7457627118644068,
           0.5441176470588235
          ],
          "vectorType": "dense"
         },
         {
          "length": 3,
          "values": [
           0.10964996973727555,
           0.7535985732860011,
           0.13675145697672342
          ],
          "vectorType": "dense"
         },
         1,
         1
        ],
        [
         {
          "length": 5,
          "values": [
           0.0,
           0.6083332697550455,
           0.3580246274018169,
           0.9830508474576272,
           0.8529411764705882
          ],
          "vectorType": "dense"
         },
         {
          "length": 3,
          "values": [
           0.05122960212579129,
           0.87517867405801,
           0.07359172381619863
          ],
          "vectorType": "dense"
         },
         1,
         1
        ],
        [
         {
          "length": 5,
          "values": [
           0.0,
           0.6333333651224772,
           0.25925917640689916,
           0.8305084745762712,
           0.9999999999999999
          ],
          "vectorType": "dense"
         },
         {
          "length": 3,
          "values": [
           0.04140524718380066,
           0.8999079700771622,
           0.05868678273903714
          ],
          "vectorType": "dense"
         },
         1,
         1
        ],
        [
         {
          "length": 5,
          "values": [
           0.0,
           0.6416667302449544,
           0.3333332940874785,
           0.7457627118644068,
           0.5955882352941176
          ],
          "vectorType": "dense"
         },
         {
          "length": 3,
          "values": [
           0.1007974226031709,
           0.7352243896727993,
           0.16397818772402953
          ],
          "vectorType": "dense"
         },
         1,
         1
        ],
        [
         {
          "length": 5,
          "values": [
           0.0,
           0.6499999364217122,
           0.2345678430925608,
           0.7457627118644068,
           0.5441176470588235
          ],
          "vectorType": "dense"
         },
         {
          "length": 3,
          "values": [
           0.08565438012954821,
           0.7612583681199256,
           0.1530872517505262
          ],
          "vectorType": "dense"
         },
         1,
         1
        ],
        [
         {
          "length": 5,
          "values": [
           0.0,
           0.6625000635782877,
           0.3703703529277682,
           0.6949152542372882,
           0.7352941176470588
          ],
          "vectorType": "dense"
         },
         {
          "length": 3,
          "values": [
           0.0939657613568041,
           0.7548966716905897,
           0.15113756695260616
          ],
          "vectorType": "dense"
         },
         1,
         1
        ],
        [
         {
          "length": 5,
          "values": [
           0.0,
           0.6708332697550455,
           0.2345678430925608,
           0.8983050847457628,
           0.6176470588235293
          ],
          "vectorType": "dense"
         },
         {
          "length": 3,
          "values": [
           0.05348425598252942,
           0.8345628257554241,
           0.11195291826204658
          ],
          "vectorType": "dense"
         },
         1,
         1
        ],
        [
         {
          "length": 5,
          "values": [
           0.0,
           0.6833333969116211,
           0.2716049019328505,
           0.8813559322033898,
           0.7794117647058822
          ],
          "vectorType": "dense"
         },
         {
          "length": 3,
          "values": [
           0.0457035545571306,
           0.8621682522435269,
           0.0921281931993424
          ],
          "vectorType": "dense"
         },
         1,
         1
        ],
        [
         {
          "length": 5,
          "values": [
           0.0,
           0.6875,
           0.25925917640689916,
           0.7457627118644068,
           0.6176470588235293
          ],
          "vectorType": "dense"
         },
         {
          "length": 3,
          "values": [
           0.07272134078662382,
           0.7793134881156378,
           0.1479651710977384
          ],
          "vectorType": "dense"
         },
         1,
         1
        ],
        [
         {
          "length": 5,
          "values": [
           0.0,
           0.6875,
           0.34567890187586553,
           0.8983050847457628,
           0.7352941176470588
          ],
          "vectorType": "dense"
         },
         {
          "length": 3,
          "values": [
           0.054986090878000334,
           0.8314944632337712,
           0.11351944588822858
          ],
          "vectorType": "dense"
         },
         1,
         1
        ],
        [
         {
          "length": 5,
          "values": [
           0.0,
           0.6999999682108561,
           0.5185183528137983,
           0.9491525423728814,
           0.7941176470588235
          ],
          "vectorType": "dense"
         },
         {
          "length": 3,
          "values": [
           0.06429569291448568,
           0.802411981464451,
           0.13329232562106313
          ],
          "vectorType": "dense"
         },
         1,
         1
        ],
        [
         {
          "length": 5,
          "values": [
           0.0,
           0.7541666030883789,
           0.48148141171107295,
           0.9830508474576272,
           0.7794117647058822
          ],
          "vectorType": "dense"
         },
         {
          "length": 3,
          "values": [
           0.047387248113189714,
           0.8217808271966034,
           0.13083192469020694
          ],
          "vectorType": "dense"
         },
         1,
         1
        ],
        [
         {
          "length": 5,
          "values": [
           0.0,
           0.8458333015441895,
           0.32098756856152716,
           1.0,
           0.8088235294117646
          ],
          "vectorType": "dense"
         },
         {
          "length": 3,
          "values": [
           0.02239687540024278,
           0.8787899223798007,
           0.09881320221995668
          ],
          "vectorType": "dense"
         },
         1,
         1
        ],
        [
         {
          "length": 5,
          "values": [
           0.0,
           0.8791666030883789,
           0.3580246274018169,
           0.9830508474576272,
           0.8676470588235293
          ],
          "vectorType": "dense"
         },
         {
          "length": 3,
          "values": [
           0.020770385391694433,
           0.877714096165554,
           0.1015155184427516
          ],
          "vectorType": "dense"
         },
         1,
         1
        ],
        [
         {
          "length": 5,
          "values": [
           1.0,
           0.0,
           0.4938271372370243,
           0.22033898305084745,
           0.14705882352941174
          ],
          "vectorType": "dense"
         },
         {
          "length": 3,
          "values": [
           0.8943230869446237,
           0.03843704081311656,
           0.06723987224225982
          ],
          "vectorType": "dense"
         },
         0,
         0
        ],
        [
         {
          "length": 5,
          "values": [
           1.0,
           0.0666666030883789,
           0.543209803865701,
           0.3220338983050847,
           0.08088235294117646
          ],
          "vectorType": "dense"
         },
         {
          "length": 3,
          "values": [
           0.8599139429523787,
           0.04561770292610329,
           0.09446835412151804
          ],
          "vectorType": "dense"
         },
         0,
         0
        ],
        [
         {
          "length": 5,
          "values": [
           1.0,
           0.09166669845581055,
           0.5185183528137983,
           0.2542372881355932,
           0.1176470588235294
          ],
          "vectorType": "dense"
         },
         {
          "length": 3,
          "values": [
           0.8526501514927125,
           0.04756294571125699,
           0.09978690279603052
          ],
          "vectorType": "dense"
         },
         0,
         0
        ],
        [
         {
          "length": 5,
          "values": [
           1.0,
           0.09583330154418945,
           0.7901233724842132,
           0.3050847457627119,
           0.2647058823529412
          ],
          "vectorType": "dense"
         },
         {
          "length": 3,
          "values": [
           0.8729148368529166,
           0.035211757289470645,
           0.09187340585761258
          ],
          "vectorType": "dense"
         },
         0,
         0
        ],
        [
         {
          "length": 5,
          "values": [
           1.0,
           0.10000006357828775,
           0.48148141171107295,
           0.3898305084745763,
           0.12499999999999999
          ],
          "vectorType": "dense"
         },
         {
          "length": 3,
          "values": [
           0.8182293066002245,
           0.07246840616804259,
           0.10930228723173284
          ],
          "vectorType": "dense"
         },
         0,
         0
        ],
        [
         {
          "length": 5,
          "values": [
           1.0,
           0.10416666666666666,
           0.604938196020329,
           0.1694915254237288,
           0.07352941176470587
          ],
          "vectorType": "dense"
         },
         {
          "length": 3,
          "values": [
           0.8686758754879181,
           0.030294061762443193,
           0.10103006274963865
          ],
          "vectorType": "dense"
         },
         0,
         0
        ],
        [
         {
          "length": 5,
          "values": [
           1.0,
           0.125,
           0.4197530195564449,
           0.22033898305084745,
           0.14705882352941174
          ],
          "vectorType": "dense"
         },
         {
          "length": 3,
          "values": [
           0.8233245972949745,
           0.06464051492962619,
           0.1120348877753993
          ],
          "vectorType": "dense"
         },
         0,
         0
        ],
        [
         {
          "length": 5,
          "values": [
           1.0,
           0.17083326975504556,
           0.6790123137009084,
           0.3050847457627119,
           0.2352941176470588
          ],
          "vectorType": "dense"
         },
         {
          "length": 3,
          "values": [
           0.8188136133024315,
           0.05370551492487806,
           0.1274808717726904
          ],
          "vectorType": "dense"
         },
         0,
         0
        ],
        [
         {
          "length": 5,
          "values": [
           1.0,
           0.2041667302449544,
           0.7037035292776824,
           0.3050847457627119,
           0.20588235294117646
          ],
          "vectorType": "dense"
         },
         {
          "length": 3,
          "values": [
           0.8019565066009623,
           0.05209506483474788,
           0.14594842856428974
          ],
          "vectorType": "dense"
         },
         0,
         0
        ],
        [
         {
          "length": 5,
          "values": [
           1.0,
           0.20833333333333331,
           0.6913580392268598,
           0.22033898305084745,
           0.22058823529411764
          ],
          "vectorType": "dense"
         },
         {
          "length": 3,
          "values": [
           0.8113548472086421,
           0.04628379953683969,
           0.14236135325451812
          ],
          "vectorType": "dense"
         },
         0,
         0
        ],
        [
         {
          "length": 5,
          "values": [
           1.0,
           0.21666669845581055,
           0.6790123137009084,
           0.3050847457627119,
           0.39705882352941174
          ],
          "vectorType": "dense"
         },
         {
          "length": 3,
          "values": [
           0.7812092945455125,
           0.0793040426865433,
           0.13948666276794436
          ],
          "vectorType": "dense"
         },
         0,
         0
        ],
        [
         {
          "length": 5,
          "values": [
           1.0,
           0.22916666666666666,
           0.44444447060834763,
           0.1016949152542373,
           0.10294117647058823
          ],
          "vectorType": "dense"
         },
         {
          "length": 3,
          "values": [
           0.7831660604509715,
           0.05624244167669641,
           0.16059149787233218
          ],
          "vectorType": "dense"
         },
         0,
         0
        ],
        [
         {
          "length": 5,
          "values": [
           1.0,
           0.23333326975504556,
           0.6172839215462804,
           0.23728813559322035,
           0.4558823529411764
          ],
          "vectorType": "dense"
         },
         {
          "length": 3,
          "values": [
           0.767530061077272,
           0.09150312551119005,
           0.14096681341153788
          ],
          "vectorType": "dense"
         },
         0,
         0
        ],
        [
         {
          "length": 5,
          "values": [
           1.0,
           0.23750003178914386,
           0.5925924704943777,
           0.3559322033898305,
           0.39705882352941174
          ],
          "vectorType": "dense"
         },
         {
          "length": 3,
          "values": [
           0.7337055517731418,
           0.11318577596044051,
           0.15310867226641772
          ],
          "vectorType": "dense"
         },
         0,
         0
        ],
        [
         {
          "length": 5,
          "values": [
           1.0,
           0.2583333651224772,
           0.4938271372370243,
           0.3559322033898305,
           0.14705882352941174
          ],
          "vectorType": "dense"
         },
         {
          "length": 3,
          "values": [
           0.7130973425443364,
           0.09803583759279826,
           0.18886681986286524
          ],
          "vectorType": "dense"
         },
         0,
         0
        ],
        [
         {
          "length": 5,
          "values": [
           1.0,
           0.2583333651224772,
           0.8641974901647925,
           0.4745762711864407,
           0.3161764705882353
          ],
          "vectorType": "dense"
         },
         {
          "length": 3,
          "values": [
           0.7542387052262439,
           0.06960057563839543,
           0.17616071913536072
          ],
          "vectorType": "dense"
         },
         0,
         0
        ],
        [
         {
          "length": 5,
          "values": [
           1.0,
           0.34583330154418945,
           1.0,
           0.3220338983050847,
           0.3676470588235294
          ],
          "vectorType": "dense"
         },
         {
          "length": 3,
          "values": [
           0.7352955631840955,
           0.047861982797420155,
           0.21684245401848426
          ],
          "vectorType": "dense"
         },
         0,
         0
        ],
        [
         {
          "length": 5,
          "values": [
           1.0,
           0.3500000635782877,
           0.5185183528137983,
           0.15254237288135594,
           0.20588235294117646
          ],
          "vectorType": "dense"
         },
         {
          "length": 3,
          "values": [
           0.684867406309458,
           0.08112723990759967,
           0.23400535378294232
          ],
          "vectorType": "dense"
         },
         0,
         2
        ],
        [
         {
          "length": 5,
          "values": [
           1.0,
           0.3833333651224772,
           0.43209874508239626,
           0.2542372881355932,
           0.0
          ],
          "vectorType": "dense"
         },
         {
          "length": 3,
          "values": [
           0.615552281254799,
           0.09031889856732804,
           0.2941288201778729
          ],
          "vectorType": "dense"
         },
         0,
         2
        ],
        [
         {
          "length": 5,
          "values": [
           1.0,
           0.3958333333333333,
           0.6172839215462804,
           0.5084745762711864,
           0.14705882352941174
          ],
          "vectorType": "dense"
         },
         {
          "length": 3,
          "values": [
           0.5730545293142024,
           0.127722286805913,
           0.29922318387988467
          ],
          "vectorType": "dense"
         },
         0,
         2
        ],
        [
         {
          "length": 5,
          "values": [
           1.0,
           0.46666669845581055,
           0.43209874508239626,
           0.3220338983050847,
           0.10294117647058823
          ],
          "vectorType": "dense"
         },
         {
          "length": 3,
          "values": [
           0.5082618615485411,
           0.1380483068915412,
           0.35368983155991757
          ],
          "vectorType": "dense"
         },
         0,
         2
        ],
        [
         {
          "length": 5,
          "values": [
           1.0,
           0.47916666666666663,
           0.48148141171107295,
           0.4067796610169492,
           0.1764705882352941
          ],
          "vectorType": "dense"
         },
         {
          "length": 3,
          "values": [
           0.47943701739710154,
           0.166006704170584,
           0.3545562784323144
          ],
          "vectorType": "dense"
         },
         0,
         2
        ],
        [
         {
          "length": 5,
          "values": [
           1.0,
           0.48750003178914386,
           0.48148141171107295,
           0.3898305084745763,
           0.22058823529411764
          ],
          "vectorType": "dense"
         },
         {
          "length": 3,
          "values": [
           0.47284414596719804,
           0.1747389804977217,
           0.35241687353508033
          ],
          "vectorType": "dense"
         },
         0,
         2
        ],
        [
         {
          "length": 5,
          "values": [
           1.0,
           0.5166667302449544,
           0.6790123137009084,
           0.3050847457627119,
           0.16176470588235292
          ],
          "vectorType": "dense"
         },
         {
          "length": 3,
          "values": [
           0.5124756454987643,
           0.09065745726254433,
           0.3968668972386912
          ],
          "vectorType": "dense"
         },
         0,
         2
        ],
        [
         {
          "length": 5,
          "values": [
           1.0,
           0.5416666666666666,
           0.5185183528137983,
           0.22033898305084745,
           0.2352941176470588
          ],
          "vectorType": "dense"
         },
         {
          "length": 3,
          "values": [
           0.4729291425363976,
           0.12933888068481028,
           0.39773197677879213
          ],
          "vectorType": "dense"
         },
         0,
         2
        ],
        [
         {
          "length": 5,
          "values": [
           1.0,
           0.5625,
           0.4567899606591702,
           0.4576271186440678,
           0.2941176470588235
          ],
          "vectorType": "dense"
         },
         {
          "length": 3,
          "values": [
           0.3646612621840052,
           0.24601628860719704,
           0.3893224492087979
          ],
          "vectorType": "dense"
         },
         2,
         2
        ],
        [
         {
          "length": 5,
          "values": [
           1.0,
           0.625,
           0.7901233724842132,
           0.6440677966101694,
           0.30882352941176466
          ],
          "vectorType": "dense"
         },
         {
          "length": 3,
          "values": [
           0.3376774402825226,
           0.18460196371010884,
           0.4777205960073686
          ],
          "vectorType": "dense"
         },
         2,
         2
        ],
        [
         {
          "length": 5,
          "values": [
           1.0,
           0.6374999682108561,
           0.8395060391128898,
           0.5254237288135594,
           0.338235294117647
          ],
          "vectorType": "dense"
         },
         {
          "length": 3,
          "values": [
           0.3642097032303797,
           0.1443652357712029,
           0.49142506099841754
          ],
          "vectorType": "dense"
         },
         2,
         2
        ],
        [
         {
          "length": 5,
          "values": [
           1.0,
           0.6458333333333333,
           0.7283949803295852,
           0.4745762711864407,
           0.2647058823529412
          ],
          "vectorType": "dense"
         },
         {
          "length": 3,
          "values": [
           0.34711262201177706,
           0.14751291114572337,
           0.5053744668424995
          ],
          "vectorType": "dense"
         },
         2,
         2
        ],
        [
         {
          "length": 5,
          "values": [
           1.0,
           0.6499999364217122,
           0.6296296470722318,
           0.3559322033898305,
           0.25735294117647056
          ],
          "vectorType": "dense"
         },
         {
          "length": 3,
          "values": [
           0.351481313024387,
           0.14629799304011762,
           0.5022206939354955
          ],
          "vectorType": "dense"
         },
         2,
         2
        ],
        [
         {
          "length": 5,
          "values": [
           1.0,
           0.6666666666666666,
           0.7901233724842132,
           0.4067796610169492,
           0.2941176470588235
          ],
          "vectorType": "dense"
         },
         {
          "length": 3,
          "values": [
           0.35352213263001303,
           0.12229724371338802,
           0.5241806236565991
          ],
          "vectorType": "dense"
         },
         2,
         2
        ],
        [
         {
          "length": 5,
          "values": [
           1.0,
           0.6875,
           0.8024690980101645,
           0.4915254237288136,
           0.338235294117647
          ],
          "vectorType": "dense"
         },
         {
          "length": 3,
          "values": [
           0.3171287742219291,
           0.15045108187416245,
           0.5324201439039085
          ],
          "vectorType": "dense"
         },
         2,
         2
        ],
        [
         {
          "length": 5,
          "values": [
           1.0,
           0.6958333651224772,
           0.8148148235361159,
           0.5254237288135594,
           0.338235294117647
          ],
          "vectorType": "dense"
         },
         {
          "length": 3,
          "values": [
           0.30439310865220753,
           0.1556959803349386,
           0.5399109110128539
          ],
          "vectorType": "dense"
         },
         2,
         2
        ],
        [
         {
          "length": 5,
          "values": [
           1.0,
           0.6999999682108561,
           0.666666588174957,
           0.4915254237288136,
           0.4558823529411764
          ],
          "vectorType": "dense"
         },
         {
          "length": 3,
          "values": [
           0.2747020537993969,
           0.2399615959602422,
           0.4853363502403609
          ],
          "vectorType": "dense"
         },
         2,
         2
        ],
        [
         {
          "length": 5,
          "values": [
           1.0,
           0.6999999682108561,
           0.7283949803295852,
           0.6440677966101694,
           0.3529411764705882
          ],
          "vectorType": "dense"
         },
         {
          "length": 3,
          "values": [
           0.2576608857553176,
           0.22899122495088306,
           0.5133478892937993
          ],
          "vectorType": "dense"
         },
         2,
         2
        ],
        [
         {
          "length": 5,
          "values": [
           1.0,
           0.7041667302449544,
           0.5925924704943777,
           0.4067796610169492,
           0.2279411764705882
          ],
          "vectorType": "dense"
         },
         {
          "length": 3,
          "values": [
           0.28388969421316,
           0.1665625580534513,
           0.5495477477333888
          ],
          "vectorType": "dense"
         },
         2,
         2
        ],
        [
         {
          "length": 5,
          "values": [
           1.0,
           0.7208333015441895,
           0.8395060391128898,
           0.4406779661016949,
           0.2352941176470588
          ],
          "vectorType": "dense"
         },
         {
          "length": 3,
          "values": [
           0.30224492943972286,
           0.106786046596101,
           0.590969023964176
          ],
          "vectorType": "dense"
         },
         2,
         2
        ],
        [
         {
          "length": 5,
          "values": [
           1.0,
           0.7291666666666666,
           0.6913580392268598,
           0.2542372881355932,
           0.10294117647058823
          ],
          "vectorType": "dense"
         },
         {
          "length": 3,
          "values": [
           0.3043204037135162,
           0.08285313456308878,
           0.612826461723395
          ],
          "vectorType": "dense"
         },
         2,
         2
        ],
        [
         {
          "length": 5,
          "values": [
           1.0,
           0.75,
           0.7283949803295852,
           0.423728813559322,
           0.3676470588235294
          ],
          "vectorType": "dense"
         },
         {
          "length": 3,
          "values": [
           0.2633165492664061,
           0.16694938318173924,
           0.5697340675518547
          ],
          "vectorType": "dense"
         },
         2,
         2
        ],
        [
         {
          "length": 5,
          "values": [
           1.0,
           1.0,
           0.5802467449684263,
           0.15254237288135594,
           0.2352941176470588
          ],
          "vectorType": "dense"
         },
         {
          "length": 3,
          "values": [
           0.12176924520709353,
           0.10651068169330381,
           0.7717200730996026
          ],
          "vectorType": "dense"
         },
         2,
         2
        ],
        [
         {
          "length": 5,
          "values": [
           2.0,
           0.0708333651224772,
           0.48148141171107295,
           0.288135593220339,
           0.1323529411764706
          ],
          "vectorType": "dense"
         },
         {
          "length": 3,
          "values": [
           0.8705211158327117,
           0.031485552549162014,
           0.09799333161812636
          ],
          "vectorType": "dense"
         },
         0,
         0
        ],
        [
         {
          "length": 5,
          "values": [
           2.0,
           0.07916673024495442,
           0.43209874508239626,
           0.3050847457627119,
           0.044117647058823525
          ],
          "vectorType": "dense"
         },
         {
          "length": 3,
          "values": [
           0.8601197813949405,
           0.032429317281389626,
           0.10745090132366988
          ],
          "vectorType": "dense"
         },
         0,
         0
        ],
        [
         {
          "length": 5,
          "values": [
           2.0,
           0.09166669845581055,
           0.3703703529277682,
           0.2542372881355932,
           0.19117647058823528
          ],
          "vectorType": "dense"
         },
         {
          "length": 3,
          "values": [
           0.850483440985423,
           0.04526608402834293,
           0.10425047498623408
          ],
          "vectorType": "dense"
         },
         0,
         0
        ],
        [
         {
          "length": 5,
          "values": [
           2.0,
           0.09166669845581055,
           0.5061728627629757,
           0.2542372881355932,
           0.07352941176470587
          ],
          "vectorType": "dense"
         },
         {
          "length": 3,
          "values": [
           0.8670077451454273,
           0.026099906109087447,
           0.1068923487454852
          ],
          "vectorType": "dense"
         },
         0,
         0
        ],
        [
         {
          "length": 5,
          "values": [
           2.0,
           0.1374999682108561,
           0.9135801567934693,
           0.4576271186440678,
           0.25735294117647056
          ],
          "vectorType": "dense"
         },
         {
          "length": 3,
          "values": [
           0.8581752963053418,
           0.02292337054387304,
           0.11890133315078506
          ],
          "vectorType": "dense"
         },
         0,
         0
        ],
        [
         {
          "length": 5,
          "values": [
           2.0,
           0.15833330154418945,
           0.4938271372370243,
           0.23728813559322035,
           0.1176470588235294
          ],
          "vectorType": "dense"
         },
         {
          "length": 3,
          "values": [
           0.8314076640079647,
           0.03335861499504671,
           0.1352337209969885
          ],
          "vectorType": "dense"
         },
         0,
         0
        ],
        [
         {
          "length": 5,
          "values": [
           2.0,
           0.1916666030883789,
           0.48148141171107295,
           0.2711864406779661,
           0.0
          ],
          "vectorType": "dense"
         },
         {
          "length": 3,
          "values": [
           0.8031437423463629,
           0.03263191085700299,
           0.16422434679663409
          ],
          "vectorType": "dense"
         },
         0,
         0
        ],
        [
         {
          "length": 5,
          "values": [
           2.0,
           0.1958333651224772,
           0.7283949803295852,
           0.3898305084745763,
           0.16176470588235292
          ],
          "vectorType": "dense"
         },
         {
          "length": 3,
          "values": [
           0.8129351564032002,
           0.03078059155593204,
           0.1562842520408677
          ],
          "vectorType": "dense"
         },
         0,
         0
        ],
        [
         {
          "length": 5,
          "values": [
           2.0,
           0.2041667302449544,
           0.5802467449684263,
           0.15254237288135594,
           0.21323529411764705
          ],
          "vectorType": "dense"
         },
         {
          "length": 3,
          "values": [
           0.8246079135481549,
           0.029556693951367105,
           0.14583539250047786
          ],
          "vectorType": "dense"
         },
         0,
         0
        ],
        [
         {
          "length": 5,
          "values": [
           2.0,
           0.2624999682108561,
           0.604938196020329,
           0.3898305084745763,
           0.10294117647058823
          ],
          "vectorType": "dense"
         },
         {
          "length": 3,
          "values": [
           0.7477706141287054,
           0.043938863261483274,
           0.2082905226098115
          ],
          "vectorType": "dense"
         },
         0,
         0
        ],
        [
         {
          "length": 5,
          "values": [
           2.0,
           0.2749999364217122,
           0.7283949803295852,
           0.4576271186440678,
           0.32352941176470584
          ],
          "vectorType": "dense"
         },
         {
          "length": 3,
          "values": [
           0.743785787596873,
           0.057107931354288016,
           0.199106281048839
          ],
          "vectorType": "dense"
         },
         0,
         0
        ],
        [
         {
          "length": 5,
          "values": [
           2.0,
           0.2875000635782877,
           0.4567899606591702,
           0.3220338983050847,
           0.2352941176470588
          ],
          "vectorType": "dense"
         },
         {
          "length": 3,
          "values": [
           0.7151471343093712,
           0.07269463398907705,
           0.21215823170155174
          ],
          "vectorType": "dense"
         },
         0,
         0
        ],
        [
         {
          "length": 5,
          "values": [
           2.0,
           0.29583326975504554,
           0.5555555293916523,
           0.1694915254237288,
           0.08823529411764705
          ],
          "vectorType": "dense"
         },
         {
          "length": 3,
          "values": [
           0.7508308323744263,
           0.03225824876914844,
           0.21691091885642538
          ],
          "vectorType": "dense"
         },
         0,
         0
        ],
        [
         {
          "length": 5,
          "values": [
           2.0,
           0.29583326975504554,
           0.6790123137009084,
           0.288135593220339,
           0.12499999999999999
          ],
          "vectorType": "dense"
         },
         {
          "length": 3,
          "values": [
           0.7476402210318556,
           0.032806942774031546,
           0.21955283619411287
          ],
          "vectorType": "dense"
         },
         0,
         0
        ],
        [
         {
          "length": 5,
          "values": [
           2.0,
           0.3125,
           0.6419751371230543,
           0.3898305084745763,
           0.4117647058823529
          ],
          "vectorType": "dense"
         },
         {
          "length": 3,
          "values": [
           0.7092849310502313,
           0.0769951700161019,
           0.21371989893366672
          ],
          "vectorType": "dense"
         },
         0,
         0
        ],
        [
         {
          "length": 5,
          "values": [
           2.0,
           0.3374999364217122,
           0.7407407058555364,
           0.3898305084745763,
           0.32352941176470584
          ],
          "vectorType": "dense"
         },
         {
          "length": 3,
          "values": [
           0.7058079642645286,
           0.05464202664263972,
           0.23955000909283172
          ],
          "vectorType": "dense"
         },
         0,
         0
        ],
        [
         {
          "length": 5,
          "values": [
           2.0,
           0.3708333969116211,
           0.5555555293916523,
           0.4067796610169492,
           0.5294117647058824
          ],
          "vectorType": "dense"
         },
         {
          "length": 3,
          "values": [
           0.6249941377300439,
           0.13241430525777717,
           0.24259155701217894
          ],
          "vectorType": "dense"
         },
         0,
         0
        ],
        [
         {
          "length": 5,
          "values": [
           2.0,
           0.3791666030883789,
           0.7530864313814878,
           0.423728813559322,
           0.1764705882352941
          ],
          "vectorType": "dense"
         },
         {
          "length": 3,
          "values": [
           0.6593011315464704,
           0.04719897824012884,
           0.2934998902134008
          ],
          "vectorType": "dense"
         },
         0,
         0
        ],
        [
         {
          "length": 5,
          "values": [
           2.0,
           0.49166663487752277,
           0.7160492548036338,
           0.423728813559322,
           0.3676470588235294
          ],
          "vectorType": "dense"
         },
         {
          "length": 3,
          "values": [
           0.5402754939428593,
           0.08641929739295583,
           0.3733052086641848
          ],
          "vectorType": "dense"
         },
         0,
         0
        ]
       ],
       "datasetInfos": [],
       "dbfsResultPath": null,
       "isJsonSchema": true,
       "metadata": {},
       "overflow": false,
       "plotOptions": {
        "customPlotOptions": {},
        "displayType": "table",
        "pivotAggregation": null,
        "pivotColumns": null,
        "xColumns": null,
        "yColumns": null
       },
       "removedWidgets": [],
       "schema": [
        {
         "metadata": "{\"ml_attr\":{\"attrs\":{\"numeric\":[{\"idx\":1,\"name\":\"normalizedFeatures_0\"},{\"idx\":2,\"name\":\"normalizedFeatures_1\"},{\"idx\":3,\"name\":\"normalizedFeatures_2\"},{\"idx\":4,\"name\":\"normalizedFeatures_3\"}],\"nominal\":[{\"vals\":[\"Biscoe\",\"Dream\",\"Torgersen\"],\"idx\":0,\"name\":\"IslandIdx\"}]},\"num_attrs\":5}}",
         "name": "features",
         "type": "{\"type\":\"udt\",\"class\":\"org.apache.spark.ml.linalg.VectorUDT\",\"pyClass\":\"pyspark.ml.linalg.VectorUDT\",\"sqlType\":{\"type\":\"struct\",\"fields\":[{\"name\":\"type\",\"type\":\"byte\",\"nullable\":false,\"metadata\":{}},{\"name\":\"size\",\"type\":\"integer\",\"nullable\":true,\"metadata\":{}},{\"name\":\"indices\",\"type\":{\"type\":\"array\",\"elementType\":\"integer\",\"containsNull\":false},\"nullable\":true,\"metadata\":{}},{\"name\":\"values\",\"type\":{\"type\":\"array\",\"elementType\":\"double\",\"containsNull\":false},\"nullable\":true,\"metadata\":{}}]}}"
        },
        {
         "metadata": "{\"ml_attr\":{\"num_attrs\":3}}",
         "name": "probability",
         "type": "{\"type\":\"udt\",\"class\":\"org.apache.spark.ml.linalg.VectorUDT\",\"pyClass\":\"pyspark.ml.linalg.VectorUDT\",\"sqlType\":{\"type\":\"struct\",\"fields\":[{\"name\":\"type\",\"type\":\"byte\",\"nullable\":false,\"metadata\":{}},{\"name\":\"size\",\"type\":\"integer\",\"nullable\":true,\"metadata\":{}},{\"name\":\"indices\",\"type\":{\"type\":\"array\",\"elementType\":\"integer\",\"containsNull\":false},\"nullable\":true,\"metadata\":{}},{\"name\":\"values\",\"type\":{\"type\":\"array\",\"elementType\":\"double\",\"containsNull\":false},\"nullable\":true,\"metadata\":{}}]}}"
        },
        {
         "metadata": "{}",
         "name": "prediction",
         "type": "\"integer\""
        },
        {
         "metadata": "{}",
         "name": "trueLabel",
         "type": "\"integer\""
        }
       ],
       "type": "table"
      }
     },
     "output_type": "display_data"
    }
   ],
   "source": [
    "# Prepare the test data\n",
    "indexedTestData = indexer.fit(test).transform(test).drop(\"Island\")\n",
    "vectorizedTestData = numericColVector.transform(indexedTestData)\n",
    "scaledTestData = minMax.fit(vectorizedTestData).transform(vectorizedTestData)\n",
    "preppedTestData = featVect.transform(scaledTestData)[col(\"featuresVector\").alias(\"features\"), col(\"Species\").alias(\"label\")]\n",
    "   \n",
    "# Get predictions\n",
    "prediction = model.transform(preppedTestData)\n",
    "predicted = prediction.select(\"features\", \"probability\", col(\"prediction\").astype(\"Int\"), col(\"label\").alias(\"trueLabel\"))\n",
    "display(predicted)"
   ]
  },
  {
   "cell_type": "code",
   "execution_count": 0,
   "metadata": {
    "application/vnd.databricks.v1+cell": {
     "cellMetadata": {
      "byteLimit": 2048000,
      "rowLimit": 10000
     },
     "inputWidgets": {},
     "nuid": "a9764b58-c965-4d15-bcec-d89f4c52c415",
     "showTitle": false,
     "title": ""
    }
   },
   "outputs": [
    {
     "output_type": "stream",
     "name": "stdout",
     "output_type": "stream",
     "text": [
      "Accuracy: 0.9252336448598131\n\nIndividual class metrics:\nClass 0\n\tPrecision: 0.8596491228070176\n\tRecall: 1.0\n\tF1 Score: 0.9245283018867925\nClass 1\n\tPrecision: 1.0\n\tRecall: 1.0\n\tF1 Score: 1.0\nClass 2\n\tPrecision: 1.0\n\tRecall: 0.6521739130434783\n\tF1 Score: 0.7894736842105263\nOverall Precision: 0.9357271683882604\nOverall Recall: 0.9252336448598131\nOverall F1 Score: 0.9201848741055602\n"
     ]
    }
   ],
   "source": [
    "from pyspark.ml.evaluation import MulticlassClassificationEvaluator\n",
    "   \n",
    "evaluator = MulticlassClassificationEvaluator(labelCol=\"label\", predictionCol=\"prediction\")\n",
    "   \n",
    "# Simple accuracy\n",
    "accuracy = evaluator.evaluate(prediction, {evaluator.metricName:\"accuracy\"})\n",
    "print(\"Accuracy:\", accuracy)\n",
    "   \n",
    "# Individual class metrics\n",
    "labels = [0,1,2]\n",
    "print(\"\\nIndividual class metrics:\")\n",
    "for label in sorted(labels):\n",
    "    print (\"Class %s\" % (label))\n",
    "   \n",
    "    # Precision\n",
    "    precision = evaluator.evaluate(prediction, {evaluator.metricLabel:label,\n",
    "                                                evaluator.metricName:\"precisionByLabel\"})\n",
    "    print(\"\\tPrecision:\", precision)\n",
    "   \n",
    "    # Recall\n",
    "    recall = evaluator.evaluate(prediction, {evaluator.metricLabel:label,\n",
    "                                             evaluator.metricName:\"recallByLabel\"})\n",
    "    print(\"\\tRecall:\", recall)\n",
    "   \n",
    "    # F1 score\n",
    "    f1 = evaluator.evaluate(prediction, {evaluator.metricLabel:label,\n",
    "                                         evaluator.metricName:\"fMeasureByLabel\"})\n",
    "    print(\"\\tF1 Score:\", f1)\n",
    "   \n",
    "# Weighted (overall) metrics\n",
    "overallPrecision = evaluator.evaluate(prediction, {evaluator.metricName:\"weightedPrecision\"})\n",
    "print(\"Overall Precision:\", overallPrecision)\n",
    "overallRecall = evaluator.evaluate(prediction, {evaluator.metricName:\"weightedRecall\"})\n",
    "print(\"Overall Recall:\", overallRecall)\n",
    "overallF1 = evaluator.evaluate(prediction, {evaluator.metricName:\"weightedFMeasure\"})\n",
    "print(\"Overall F1 Score:\", overallF1)"
   ]
  },
  {
   "cell_type": "code",
   "execution_count": 0,
   "metadata": {
    "application/vnd.databricks.v1+cell": {
     "cellMetadata": {
      "byteLimit": 2048000,
      "rowLimit": 10000
     },
     "inputWidgets": {},
     "nuid": "ac656cca-be68-477e-8e02-f14a98235e40",
     "showTitle": false,
     "title": ""
    }
   },
   "outputs": [
    {
     "output_type": "stream",
     "name": "stdout",
     "output_type": "stream",
     "text": [
      "Model trained!\n"
     ]
    }
   ],
   "source": [
    "from pyspark.ml import Pipeline\n",
    "from pyspark.ml.feature import StringIndexer, VectorAssembler, MinMaxScaler\n",
    "from pyspark.ml.classification import LogisticRegression\n",
    "   \n",
    "catFeature = \"Island\"\n",
    "numFeatures = [\"CulmenLength\", \"CulmenDepth\", \"FlipperLength\", \"BodyMass\"]\n",
    "   \n",
    "# Define the feature engineering and model training algorithm steps\n",
    "catIndexer = StringIndexer(inputCol=catFeature, outputCol=catFeature + \"Idx\")\n",
    "numVector = VectorAssembler(inputCols=numFeatures, outputCol=\"numericFeatures\")\n",
    "numScaler = MinMaxScaler(inputCol = numVector.getOutputCol(), outputCol=\"normalizedFeatures\")\n",
    "featureVector = VectorAssembler(inputCols=[\"IslandIdx\", \"normalizedFeatures\"], outputCol=\"Features\")\n",
    "algo = LogisticRegression(labelCol=\"Species\", featuresCol=\"Features\", maxIter=10, regParam=0.3)\n",
    "   \n",
    "# Chain the steps as stages in a pipeline\n",
    "pipeline = Pipeline(stages=[catIndexer, numVector, numScaler, featureVector, algo])\n",
    "   \n",
    "# Use the pipeline to prepare data and fit the model algorithm\n",
    "model = pipeline.fit(train)\n",
    "print (\"Model trained!\")"
   ]
  },
  {
   "cell_type": "code",
   "execution_count": 0,
   "metadata": {
    "application/vnd.databricks.v1+cell": {
     "cellMetadata": {
      "byteLimit": 2048000,
      "rowLimit": 10000
     },
     "inputWidgets": {},
     "nuid": "45c8bab2-0c89-42d2-8b38-4201699f41b2",
     "showTitle": false,
     "title": ""
    }
   },
   "outputs": [
    {
     "output_type": "display_data",
     "data": {
      "text/html": [
       "<style scoped>\n",
       "  .table-result-container {\n",
       "    max-height: 300px;\n",
       "    overflow: auto;\n",
       "  }\n",
       "  table, th, td {\n",
       "    border: 1px solid black;\n",
       "    border-collapse: collapse;\n",
       "  }\n",
       "  th, td {\n",
       "    padding: 5px;\n",
       "  }\n",
       "  th {\n",
       "    text-align: left;\n",
       "  }\n",
       "</style><div class='table-result-container'><table class='table-result'><thead style='background-color: white'><tr><th>Features</th><th>probability</th><th>prediction</th><th>trueLabel</th></tr></thead><tbody><tr><td>Map(vectorType -> dense, length -> 5, values -> List(0.0, 0.08727278275923295, 0.5903615011568758, 0.23214285714285712, 0.05970149253731343))</td><td>Map(vectorType -> dense, length -> 3, values -> List(0.8482318980558763, 0.058384080481285884, 0.09338402146283788))</td><td>0</td><td>0</td></tr><tr><td>Map(vectorType -> dense, length -> 5, values -> List(0.0, 0.10545460094105114, 0.5662650242480307, 0.2857142857142857, 0.22388059701492538))</td><td>Map(vectorType -> dense, length -> 3, values -> List(0.810065668765811, 0.09598576512828351, 0.09394856610590535))</td><td>0</td><td>0</td></tr><tr><td>Map(vectorType -> dense, length -> 5, values -> List(0.0, 0.12363641912286931, 0.36144588972698605, 0.375, 0.19402985074626866))</td><td>Map(vectorType -> dense, length -> 3, values -> List(0.7149079500737566, 0.181641506552482, 0.1034505433737614))</td><td>0</td><td>0</td></tr><tr><td>Map(vectorType -> dense, length -> 5, values -> List(0.0, 0.21090920188210227, 0.6506024636279539, -0.03571428571428571, 0.13432835820895522))</td><td>Map(vectorType -> dense, length -> 3, values -> List(0.8281261441846604, 0.043717656618644074, 0.1281561991966957))</td><td>0</td><td>0</td></tr><tr><td>Map(vectorType -> dense, length -> 5, values -> List(0.0, 0.21818181818181817, 0.397590375289219, 0.42857142857142855, 0.3358208955223881))</td><td>Map(vectorType -> dense, length -> 3, values -> List(0.5979323176715517, 0.2744561936751808, 0.12761148865326735))</td><td>0</td><td>0</td></tr><tr><td>Map(vectorType -> dense, length -> 5, values -> List(0.0, 0.23636363636363636, 0.48192781466914225, 0.4464285714285714, 0.31343283582089554))</td><td>Map(vectorType -> dense, length -> 3, values -> List(0.6171231414265103, 0.24089765177929834, 0.14197920679419138))</td><td>0</td><td>0</td></tr><tr><td>Map(vectorType -> dense, length -> 5, values -> List(0.0, 0.2763637195933949, 0.5421687771402204, 0.33928571428571425, 0.1492537313432836))</td><td>Map(vectorType -> dense, length -> 3, values -> List(0.670820955747459, 0.14688726532057056, 0.18229177893197043))</td><td>0</td><td>0</td></tr><tr><td>Map(vectorType -> dense, length -> 5, values -> List(0.0, 0.30545460094105115, 0.5662650242480307, 0.23214285714285712, 0.1492537313432836))</td><td>Map(vectorType -> dense, length -> 3, values -> List(0.6838027471520263, 0.11951565786380229, 0.19668159498417143))</td><td>0</td><td>0</td></tr><tr><td>Map(vectorType -> dense, length -> 5, values -> List(0.0, 0.32000011097301134, 0.0602409624710781, 0.7142857142857142, 0.582089552238806))</td><td>Map(vectorType -> dense, length -> 3, values -> List(0.16114358141173618, 0.7731122961191076, 0.06574412246915624))</td><td>1</td><td>1</td></tr><tr><td>Map(vectorType -> dense, length -> 5, values -> List(0.0, 0.3236364191228693, 0.8192771125867657, 0.5178571428571428, 0.6044776119402985))</td><td>Map(vectorType -> dense, length -> 3, values -> List(0.5875039263481536, 0.2476106445890177, 0.16488542906282866))</td><td>0</td><td>0</td></tr><tr><td>Map(vectorType -> dense, length -> 5, values -> List(0.0, 0.32727272727272727, 0.6024097396112984, 0.3214285714285714, 0.40298507462686567))</td><td>Map(vectorType -> dense, length -> 3, values -> List(0.6142048785148336, 0.203551900174345, 0.1822432213108213))</td><td>0</td><td>0</td></tr><tr><td>Map(vectorType -> dense, length -> 5, values -> List(0.0, 0.34545454545454546, 0.5783132627024533, 0.3214285714285714, 0.373134328358209))</td><td>Map(vectorType -> dense, length -> 3, values -> List(0.5936080866274288, 0.2109619978603251, 0.195429915512246))</td><td>0</td><td>0</td></tr><tr><td>Map(vectorType -> dense, length -> 5, values -> List(0.0, 0.3490909923206676, 0.1807228874132343, 0.6428571428571428, 0.5970149253731344))</td><td>Map(vectorType -> dense, length -> 3, values -> List(0.21094033970915332, 0.6994919969185884, 0.08956766337225827))</td><td>1</td><td>1</td></tr><tr><td>Map(vectorType -> dense, length -> 5, values -> List(0.0, 0.36000005548650565, 0.036144600462750344, 0.6428571428571428, 0.4328358208955224))</td><td>Map(vectorType -> dense, length -> 3, values -> List(0.18980235122609315, 0.714576324199265, 0.09562132457464183))</td><td>1</td><td>1</td></tr><tr><td>Map(vectorType -> dense, length -> 5, values -> List(0.0, 0.36000005548650565, 0.7590361501156876, 0.46428571428571425, 0.40298507462686567))</td><td>Map(vectorType -> dense, length -> 3, values -> List(0.5885114524498205, 0.2013288600812031, 0.21015968746897645))</td><td>0</td><td>0</td></tr><tr><td>Map(vectorType -> dense, length -> 5, values -> List(0.0, 0.3818181818181818, 0.0602409624710781, 0.6964285714285714, 0.6716417910447762))</td><td>Map(vectorType -> dense, length -> 3, values -> List(0.12339332522226566, 0.8132271428828101, 0.0633795318949243))</td><td>1</td><td>1</td></tr><tr><td>Map(vectorType -> dense, length -> 5, values -> List(0.0, 0.38545462868430397, 0.6144577482646862, 0.39285714285714285, 0.41044776119402987))</td><td>Map(vectorType -> dense, length -> 3, values -> List(0.5355380310505539, 0.249562265149265, 0.2148997038001811))</td><td>0</td><td>0</td></tr><tr><td>Map(vectorType -> dense, length -> 5, values -> List(0.0, 0.3927273837002841, -0.012048123553905176, 0.7321428571428571, 0.6865671641791045))</td><td>Map(vectorType -> dense, length -> 3, values -> List(0.09247607407337168, 0.855554592555625, 0.0519693333710032))</td><td>1</td><td>1</td></tr><tr><td>Map(vectorType -> dense, length -> 5, values -> List(0.0, 0.40363644686612216, 0.15662652540490654, 0.6071428571428571, 0.5223880597014925))</td><td>Map(vectorType -> dense, length -> 3, values -> List(0.20212750558790332, 0.6858292457288039, 0.11204324868329274))</td><td>1</td><td>1</td></tr><tr><td>Map(vectorType -> dense, length -> 5, values -> List(0.0, 0.4072727550159801, 0.024096362008327758, 0.625, 0.5074626865671642))</td><td>Map(vectorType -> dense, length -> 3, values -> List(0.1524398942152975, 0.7560884768225199, 0.09147162896218264))</td><td>1</td><td>1</td></tr><tr><td>Map(vectorType -> dense, length -> 5, values -> List(0.0, 0.4254545731977983, 0.08433732447940587, 0.6071428571428571, 0.47761194029850745))</td><td>Map(vectorType -> dense, length -> 3, values -> List(0.17499882953080928, 0.7130358209677019, 0.11196534950148888))</td><td>1</td><td>1</td></tr><tr><td>Map(vectorType -> dense, length -> 5, values -> List(0.0, 0.4654546564275568, 0.07228920092550069, 0.6785714285714285, 0.6119402985074627))</td><td>Map(vectorType -> dense, length -> 3, values -> List(0.11141119989301089, 0.8039710302566639, 0.08461776985032517))</td><td>1</td><td>1</td></tr><tr><td>Map(vectorType -> dense, length -> 5, values -> List(0.0, 0.4727272727272727, 0.14457828695048397, 0.6428571428571428, 0.5074626865671642))</td><td>Map(vectorType -> dense, length -> 3, values -> List(0.1554229925155554, 0.7226728716269509, 0.12190413585749366))</td><td>1</td><td>1</td></tr><tr><td>Map(vectorType -> dense, length -> 5, values -> List(0.0, 0.483636474609375, 0.16867476385932914, 0.6607142857142857, 0.6268656716417911))</td><td>Map(vectorType -> dense, length -> 3, values -> List(0.13128620447984682, 0.76574249129267, 0.10297130422748325))</td><td>1</td><td>1</td></tr><tr><td>Map(vectorType -> dense, length -> 5, values -> List(0.0, 0.49454553777521304, 0.08433732447940587, 0.7142857142857142, 0.5074626865671642))</td><td>Map(vectorType -> dense, length -> 3, values -> List(0.11273433402117267, 0.7830415720109327, 0.10422409396789448))</td><td>1</td><td>1</td></tr><tr><td>Map(vectorType -> dense, length -> 5, values -> List(0.0, 0.498181845925071, 0.1204819249421562, 0.8035714285714285, 0.5970149253731344))</td><td>Map(vectorType -> dense, length -> 3, values -> List(0.0891823001232495, 0.8266328572984359, 0.08418484257831454))</td><td>1</td><td>1</td></tr><tr><td>Map(vectorType -> dense, length -> 5, values -> List(0.0, 0.5127273559570312, 0.15662652540490654, 0.625, 0.6268656716417911))</td><td>Map(vectorType -> dense, length -> 3, values -> List(0.1256821381377602, 0.7638502961854237, 0.11046756567681613))</td><td>1</td><td>1</td></tr><tr><td>Map(vectorType -> dense, length -> 5, values -> List(0.0, 0.5163636641068892, 0.3132530508098131, 0.7321428571428571, 0.7014925373134329))</td><td>Map(vectorType -> dense, length -> 3, values -> List(0.12717749818454235, 0.7612936404465155, 0.11152886136894219))</td><td>1</td><td>1</td></tr><tr><td>Map(vectorType -> dense, length -> 5, values -> List(0.0, 0.5200001109730114, 0.2891566888014853, 0.8392857142857142, 0.6865671641791045))</td><td>Map(vectorType -> dense, length -> 3, values -> List(0.099114055022081, 0.8049686475445319, 0.09591729743338719))</td><td>1</td><td>1</td></tr><tr><td>Map(vectorType -> dense, length -> 5, values -> List(0.0, 0.5236364191228693, 0.14457828695048397, 0.7678571428571428, 0.6567164179104478))</td><td>Map(vectorType -> dense, length -> 3, values -> List(0.08587160979685347, 0.8281601660543779, 0.08596822414876863))</td><td>1</td><td>1</td></tr><tr><td>Map(vectorType -> dense, length -> 5, values -> List(0.0, 0.5381819291548295, 0.16867476385932914, 0.8571428571428571, 0.6492537313432836))</td><td>Map(vectorType -> dense, length -> 3, values -> List(0.07294307700249883, 0.8449471488772445, 0.08210977412025665))</td><td>1</td><td>1</td></tr><tr><td>Map(vectorType -> dense, length -> 5, values -> List(0.0, 0.5490909923206676, 0.2771084503470628, 0.7321428571428571, 0.6791044776119403))</td><td>Map(vectorType -> dense, length -> 3, values -> List(0.11011134738142367, 0.7753320815451243, 0.114556571073452))</td><td>1</td><td>1</td></tr><tr><td>Map(vectorType -> dense, length -> 5, values -> List(0.0, 0.5527273004705255, 0.253012088338735, 0.8571428571428571, 0.7611940298507462))</td><td>Map(vectorType -> dense, length -> 3, values -> List(0.07162645289831587, 0.8486949050275786, 0.07967864207410552))</td><td>1</td><td>1</td></tr><tr><td>Map(vectorType -> dense, length -> 5, values -> List(0.0, 0.5600000554865057, 0.21686748787598464, 0.7857142857142857, 0.6716417910447762))</td><td>Map(vectorType -> dense, length -> 3, values -> List(0.08504858440566584, 0.8164840937780719, 0.09846732181626218))</td><td>1</td><td>1</td></tr><tr><td>Map(vectorType -> dense, length -> 5, values -> List(0.0, 0.5672728105024858, 0.21686748787598464, 0.75, 0.6119402985074627))</td><td>Map(vectorType -> dense, length -> 3, values -> List(0.0969243558550593, 0.7866339899096386, 0.11644165423530206))</td><td>1</td><td>1</td></tr><tr><td>Map(vectorType -> dense, length -> 5, values -> List(0.0, 0.6, 0.33734941281814085, 1.0, 0.9253731343283582))</td><td>Map(vectorType -> dense, length -> 3, values -> List(0.04315639314926147, 0.8979992708639375, 0.05884433598680118))</td><td>1</td><td>1</td></tr><tr><td>Map(vectorType -> dense, length -> 5, values -> List(0.0, 0.6218182650479404, 0.2409638498843124, 0.8392857142857142, 1.0746268656716418))</td><td>Map(vectorType -> dense, length -> 3, values -> List(0.03577919009375259, 0.9171026295500352, 0.047118180356212264))</td><td>1</td><td>1</td></tr><tr><td>Map(vectorType -> dense, length -> 5, values -> List(0.0, 0.6290910200639204, 0.3132530508098131, 0.75, 0.664179104477612))</td><td>Map(vectorType -> dense, length -> 3, values -> List(0.09145482539387534, 0.7709180770114277, 0.13762709759469707))</td><td>1</td><td>1</td></tr><tr><td>Map(vectorType -> dense, length -> 5, values -> List(0.0, 0.6363636363636364, 0.21686748787598464, 0.75, 0.6119402985074627))</td><td>Map(vectorType -> dense, length -> 3, values -> List(0.07811323901524275, 0.7934238694160416, 0.12846289156871574))</td><td>1</td><td>1</td></tr><tr><td>Map(vectorType -> dense, length -> 5, values -> List(0.0, 0.6472728382457386, 0.34939765127256345, 0.6964285714285714, 0.8059701492537313))</td><td>Map(vectorType -> dense, length -> 3, values -> List(0.08570883296654422, 0.7885882846350872, 0.12570288239836852))</td><td>1</td><td>1</td></tr><tr><td>Map(vectorType -> dense, length -> 5, values -> List(0.0, 0.6545454545454545, 0.21686748787598464, 0.9107142857142857, 0.6865671641791045))</td><td>Map(vectorType -> dense, length -> 3, values -> List(0.047673607141274325, 0.8611810916241033, 0.09114530123462242))</td><td>1</td><td>1</td></tr><tr><td>Map(vectorType -> dense, length -> 5, values -> List(0.0, 0.6654546564275567, 0.253012088338735, 0.8928571428571428, 0.8507462686567164))</td><td>Map(vectorType -> dense, length -> 3, values -> List(0.04056878549907479, 0.8853747526613083, 0.07405646183961684))</td><td>1</td><td>1</td></tr><tr><td>Map(vectorType -> dense, length -> 5, values -> List(0.0, 0.6690909645774148, 0.2409638498843124, 0.75, 0.6865671641791045))</td><td>Map(vectorType -> dense, length -> 3, values -> List(0.06696403127923464, 0.810388229150454, 0.12264773957031123))</td><td>1</td><td>1</td></tr><tr><td>Map(vectorType -> dense, length -> 5, values -> List(0.0, 0.6690909645774148, 0.32530117436371825, 0.9107142857142857, 0.8059701492537313))</td><td>Map(vectorType -> dense, length -> 3, values -> List(0.04894146153777519, 0.859644591226295, 0.0914139472359298))</td><td>1</td><td>1</td></tr><tr><td>Map(vectorType -> dense, length -> 5, values -> List(0.0, 0.6800000277432529, 0.49397582332253, 0.9642857142857142, 0.8656716417910448))</td><td>Map(vectorType -> dense, length -> 3, values -> List(0.05692483893239261, 0.8367855453666139, 0.10628961570099348))</td><td>1</td><td>1</td></tr><tr><td>Map(vectorType -> dense, length -> 5, values -> List(0.0, 0.7272727272727273, 0.45783133776029705, 1.0, 0.8507462686567164))</td><td>Map(vectorType -> dense, length -> 3, values -> List(0.042702346999275595, 0.8542905151322723, 0.10300713786845225))</td><td>1</td><td>1</td></tr><tr><td>Map(vectorType -> dense, length -> 5, values -> List(0.0, 0.8072727550159801, 0.30120481235539054, 1.0178571428571428, 0.8805970149253731))</td><td>Map(vectorType -> dense, length -> 3, values -> List(0.020869778309223593, 0.9029093985609851, 0.0762208231297914))</td><td>1</td><td>1</td></tr><tr><td>Map(vectorType -> dense, length -> 5, values -> List(0.0, 0.8363636363636363, 0.33734941281814085, 1.0, 0.9402985074626866))</td><td>Map(vectorType -> dense, length -> 3, values -> List(0.019606155489101936, 0.9026348751477933, 0.07775896936310481))</td><td>1</td><td>1</td></tr><tr><td>Map(vectorType -> dense, length -> 5, values -> List(1.0, 0.06909096457741477, 0.46987957621471965, 0.19642857142857142, 0.208955223880597))</td><td>Map(vectorType -> dense, length -> 3, values -> List(0.8621362824896927, 0.05211055794005547, 0.08575315957025191))</td><td>0</td><td>0</td></tr><tr><td>Map(vectorType -> dense, length -> 5, values -> List(1.0, 0.12727272727272726, 0.5180723002313752, 0.30357142857142855, 0.1417910447761194))</td><td>Map(vectorType -> dense, length -> 3, values -> List(0.8236781894128932, 0.060648897838438215, 0.1156729127486686))</td><td>0</td><td>0</td></tr><tr><td>Map(vectorType -> dense, length -> 5, values -> List(1.0, 0.1490909923206676, 0.49397582332253, 0.23214285714285712, 0.1791044776119403))</td><td>Map(vectorType -> dense, length -> 3, values -> List(0.8176761994653711, 0.062079726336174645, 0.12024407419845419))</td><td>0</td><td>0</td></tr><tr><td>Map(vectorType -> dense, length -> 5, values -> List(1.0, 0.15272730047052557, 0.7590361501156876, 0.2857142857142857, 0.3283582089552239))</td><td>Map(vectorType -> dense, length -> 3, values -> List(0.8412728160654535, 0.04740693120973031, 0.11132025272481627))</td><td>0</td><td>0</td></tr><tr><td>Map(vectorType -> dense, length -> 5, values -> List(1.0, 0.1563637473366477, 0.45783133776029705, 0.375, 0.1865671641791045))</td><td>Map(vectorType -> dense, length -> 3, values -> List(0.7753632955059472, 0.09456802799190676, 0.1300686765021461))</td><td>0</td><td>0</td></tr><tr><td>Map(vectorType -> dense, length -> 5, values -> List(1.0, 0.16000005548650567, 0.5783132627024533, 0.14285714285714285, 0.13432835820895522))</td><td>Map(vectorType -> dense, length -> 3, values -> List(0.8391131030798323, 0.03936673574891051, 0.12152016117125714))</td><td>0</td><td>0</td></tr><tr><td>Map(vectorType -> dense, length -> 5, values -> List(1.0, 0.17818187366832386, 0.397590375289219, 0.19642857142857142, 0.208955223880597))</td><td>Map(vectorType -> dense, length -> 3, values -> List(0.7863351502614447, 0.0820618167587028, 0.13160303297985246))</td><td>0</td><td>0</td></tr><tr><td>Map(vectorType -> dense, length -> 5, values -> List(1.0, 0.21818181818181817, 0.6506024636279539, 0.2857142857142857, 0.2985074626865672))</td><td>Map(vectorType -> dense, length -> 3, values -> List(0.7840506720673918, 0.06910019344948558, 0.14684913448312256))</td><td>0</td><td>0</td></tr><tr><td>Map(vectorType -> dense, length -> 5, values -> List(1.0, 0.24727283824573862, 0.6746987107357643, 0.2857142857142857, 0.26865671641791045))</td><td>Map(vectorType -> dense, length -> 3, values -> List(0.7686394532178583, 0.06622667903712674, 0.16513386774501487))</td><td>0</td><td>0</td></tr><tr><td>Map(vectorType -> dense, length -> 5, values -> List(1.0, 0.2509091463955966, 0.6626507020823765, 0.19642857142857142, 0.2835820895522388))</td><td>Map(vectorType -> dense, length -> 3, values -> List(0.7808275086342132, 0.05831866559700445, 0.1608538257687825))</td><td>0</td><td>0</td></tr><tr><td>Map(vectorType -> dense, length -> 5, values -> List(1.0, 0.2581819014115767, 0.6506024636279539, 0.2857142857142857, 0.4626865671641791))</td><td>Map(vectorType -> dense, length -> 3, values -> List(0.7443920774531081, 0.10006230549622544, 0.15554561705066636))</td><td>0</td><td>0</td></tr><tr><td>Map(vectorType -> dense, length -> 5, values -> List(1.0, 0.26909096457741477, 0.4216868521980641, 0.07142857142857142, 0.16417910447761194))</td><td>Map(vectorType -> dense, length -> 3, values -> List(0.7537400774912911, 0.0679075617258995, 0.17835236078280936))</td><td>0</td><td>0</td></tr><tr><td>Map(vectorType -> dense, length -> 5, values -> List(1.0, 0.2727272727272727, 0.5903615011568758, 0.21428571428571427, 0.5223880597014925))</td><td>Map(vectorType -> dense, length -> 3, values -> List(0.7313915619747944, 0.11340613833795352, 0.15520229968725208))</td><td>0</td><td>0</td></tr><tr><td>Map(vectorType -> dense, length -> 5, values -> List(1.0, 0.2763637195933949, 0.5662650242480307, 0.33928571428571425, 0.4626865671641791))</td><td>Map(vectorType -> dense, length -> 3, values -> List(0.6924011002264401, 0.14036348805645504, 0.167235411717105))</td><td>0</td><td>0</td></tr><tr><td>Map(vectorType -> dense, length -> 5, values -> List(1.0, 0.29454553777521303, 0.46987957621471965, 0.33928571428571425, 0.208955223880597))</td><td>Map(vectorType -> dense, length -> 3, values -> List(0.6757051886102656, 0.11946817806709867, 0.20482663332263562))</td><td>0</td><td>0</td></tr><tr><td>Map(vectorType -> dense, length -> 5, values -> List(1.0, 0.29454553777521303, 0.8313253510411882, 0.46428571428571425, 0.3805970149253731))</td><td>Map(vectorType -> dense, length -> 3, values -> List(0.7179614161144406, 0.08898067723726985, 0.1930579066482896))</td><td>0</td><td>0</td></tr><tr><td>Map(vectorType -> dense, length -> 5, values -> List(1.0, 0.3709091186523437, 0.9638555144377671, 0.30357142857142855, 0.4328358208955224))</td><td>Map(vectorType -> dense, length -> 3, values -> List(0.7118022818189766, 0.059451438470571834, 0.22874627971045156))</td><td>0</td><td>0</td></tr><tr><td>Map(vectorType -> dense, length -> 5, values -> List(1.0, 0.3745455655184659, 0.49397582332253, 0.125, 0.26865671641791045))</td><td>Map(vectorType -> dense, length -> 3, values -> List(0.6615387625501722, 0.0948381956633289, 0.24362304178649902))</td><td>0</td><td>2</td></tr><tr><td>Map(vectorType -> dense, length -> 5, values -> List(1.0, 0.40363644686612216, 0.4096386137436415, 0.23214285714285712, 0.05970149253731343))</td><td>Map(vectorType -> dense, length -> 3, values -> List(0.5942715012540009, 0.1042937179590922, 0.30143478078690683))</td><td>0</td><td>2</td></tr><tr><td>Map(vectorType -> dense, length -> 5, values -> List(1.0, 0.4145455100319602, 0.5903615011568758, 0.5, 0.208955223880597))</td><td>Map(vectorType -> dense, length -> 3, values -> List(0.5453611562712806, 0.1517884429912567, 0.3028504007374627))</td><td>0</td><td>2</td></tr><tr><td>Map(vectorType -> dense, length -> 5, values -> List(1.0, 0.47636371959339485, 0.4096386137436415, 0.30357142857142855, 0.16417910447761194))</td><td>Map(vectorType -> dense, length -> 3, values -> List(0.49442858860501315, 0.15696531585344367, 0.34860609554154304))</td><td>0</td><td>2</td></tr><tr><td>Map(vectorType -> dense, length -> 5, values -> List(1.0, 0.4872727827592329, 0.45783133776029705, 0.39285714285714285, 0.23880597014925373))</td><td>Map(vectorType -> dense, length -> 3, values -> List(0.46402408934078254, 0.18983515245338584, 0.3461407582058315))</td><td>0</td><td>2</td></tr><tr><td>Map(vectorType -> dense, length -> 5, values -> List(1.0, 0.49454553777521304, 0.45783133776029705, 0.375, 0.2835820895522388))</td><td>Map(vectorType -> dense, length -> 3, values -> List(0.4582471790629311, 0.1991980268659879, 0.342554794071081))</td><td>0</td><td>2</td></tr><tr><td>Map(vectorType -> dense, length -> 5, values -> List(1.0, 0.5200001109730114, 0.6506024636279539, 0.2857142857142857, 0.22388059701492538))</td><td>Map(vectorType -> dense, length -> 3, values -> List(0.5079452377030512, 0.10445379159353221, 0.38760097070341654))</td><td>0</td><td>2</td></tr><tr><td>Map(vectorType -> dense, length -> 5, values -> List(1.0, 0.5418182373046875, 0.49397582332253, 0.19642857142857142, 0.2985074626865672))</td><td>Map(vectorType -> dense, length -> 3, values -> List(0.4713242704926225, 0.14548686105702988, 0.38318886845034766))</td><td>0</td><td>2</td></tr><tr><td>Map(vectorType -> dense, length -> 5, values -> List(1.0, 0.5600000554865057, 0.4337348608514519, 0.4464285714285714, 0.3582089552238806))</td><td>Map(vectorType -> dense, length -> 3, values -> List(0.3567191833244923, 0.2769374959788936, 0.36634332069661407))</td><td>2</td><td>2</td></tr><tr><td>Map(vectorType -> dense, length -> 5, values -> List(1.0, 0.6145455100319602, 0.7590361501156876, 0.6428571428571428, 0.373134328358209))</td><td>Map(vectorType -> dense, length -> 3, values -> List(0.3371658879859892, 0.2163360885481759, 0.44649802346583484))</td><td>2</td><td>2</td></tr><tr><td>Map(vectorType -> dense, length -> 5, values -> List(1.0, 0.6254545731977983, 0.8072288741323431, 0.5178571428571428, 0.40298507462686567))</td><td>Map(vectorType -> dense, length -> 3, values -> List(0.3694339450025407, 0.16907273063062558, 0.46149332436683377))</td><td>2</td><td>2</td></tr><tr><td>Map(vectorType -> dense, length -> 5, values -> List(1.0, 0.6327273282137784, 0.6987951876446095, 0.46428571428571425, 0.3283582089552239))</td><td>Map(vectorType -> dense, length -> 3, values -> List(0.3546087715453113, 0.17071780335754264, 0.47467342509714605))</td><td>2</td><td>2</td></tr><tr><td>Map(vectorType -> dense, length -> 5, values -> List(1.0, 0.6363636363636364, 0.6024097396112984, 0.33928571428571425, 0.3208955223880597))</td><td>Map(vectorType -> dense, length -> 3, values -> List(0.36167143396978674, 0.16659087722381097, 0.4717376888064023))</td><td>2</td><td>2</td></tr><tr><td>Map(vectorType -> dense, length -> 5, values -> List(1.0, 0.6509091463955966, 0.7590361501156876, 0.39285714285714285, 0.3582089552238806))</td><td>Map(vectorType -> dense, length -> 3, values -> List(0.366132685431376, 0.14169529589318827, 0.4921720186754357))</td><td>2</td><td>2</td></tr><tr><td>Map(vectorType -> dense, length -> 5, values -> List(1.0, 0.6690909645774148, 0.7710843885701102, 0.4821428571428571, 0.40298507462686567))</td><td>Map(vectorType -> dense, length -> 3, values -> List(0.3288607804051372, 0.17527104568021784, 0.495868173914645))</td><td>2</td><td>2</td></tr><tr><td>Map(vectorType -> dense, length -> 5, values -> List(1.0, 0.6763637195933948, 0.7831326270245328, 0.5178571428571428, 0.40298507462686567))</td><td>Map(vectorType -> dense, length -> 3, values -> List(0.3161635219334157, 0.1819799443679259, 0.5018565336986583))</td><td>2</td><td>2</td></tr><tr><td>Map(vectorType -> dense, length -> 5, values -> List(1.0, 0.6800000277432529, 0.6385542251735313, 0.4821428571428571, 0.5223880597014925))</td><td>Map(vectorType -> dense, length -> 3, values -> List(0.28222692153323137, 0.2740048978783599, 0.4437681805884088))</td><td>2</td><td>2</td></tr><tr><td>Map(vectorType -> dense, length -> 5, values -> List(1.0, 0.6800000277432529, 0.6987951876446095, 0.6428571428571428, 0.417910447761194))</td><td>Map(vectorType -> dense, length -> 3, values -> List(0.2636574663302507, 0.26588491948090187, 0.47045761418884746))</td><td>2</td><td>2</td></tr><tr><td>Map(vectorType -> dense, length -> 5, values -> List(1.0, 0.6836364746093749, 0.5662650242480307, 0.39285714285714285, 0.291044776119403))</td><td>Map(vectorType -> dense, length -> 3, values -> List(0.29830070474400067, 0.1900279610588432, 0.5116713341971562))</td><td>2</td><td>2</td></tr><tr><td>Map(vectorType -> dense, length -> 5, values -> List(1.0, 0.698181845925071, 0.8072288741323431, 0.42857142857142855, 0.2985074626865672))</td><td>Map(vectorType -> dense, length -> 3, values -> List(0.3215356888324376, 0.12501306989323285, 0.5534512412743297))</td><td>2</td><td>2</td></tr><tr><td>Map(vectorType -> dense, length -> 5, values -> List(1.0, 0.7054546009410511, 0.6626507020823765, 0.23214285714285712, 0.16417910447761194))</td><td>Map(vectorType -> dense, length -> 3, values -> List(0.32890488596470985, 0.09465007373206406, 0.5764450403032261))</td><td>2</td><td>2</td></tr><tr><td>Map(vectorType -> dense, length -> 5, values -> List(1.0, 0.7236364191228692, 0.6987951876446095, 0.4107142857142857, 0.4328358208955224))</td><td>Map(vectorType -> dense, length -> 3, values -> List(0.28138205740465216, 0.19285793775808194, 0.5257600048372659))</td><td>2</td><td>2</td></tr><tr><td>Map(vectorType -> dense, length -> 5, values -> List(1.0, 0.9418182373046875, 0.5542167857936081, 0.125, 0.2985074626865672))</td><td>Map(vectorType -> dense, length -> 3, values -> List(0.15374039066978967, 0.12499497867662948, 0.7212646306535808))</td><td>2</td><td>2</td></tr><tr><td>Map(vectorType -> dense, length -> 5, values -> List(2.0, 0.13090917413884942, 0.45783133776029705, 0.26785714285714285, 0.19402985074626866))</td><td>Map(vectorType -> dense, length -> 3, values -> List(0.8381956827320067, 0.04171690433949624, 0.12008741292849688))</td><td>0</td><td>0</td></tr><tr><td>Map(vectorType -> dense, length -> 5, values -> List(2.0, 0.13818192915482955, 0.4096386137436415, 0.2857142857142857, 0.1044776119402985))</td><td>Map(vectorType -> dense, length -> 3, values -> List(0.826527816055117, 0.04259192287867122, 0.13088026106621173))</td><td>0</td><td>0</td></tr><tr><td>Map(vectorType -> dense, length -> 5, values -> List(2.0, 0.1490909923206676, 0.34939765127256345, 0.23214285714285712, 0.2537313432835821))</td><td>Map(vectorType -> dense, length -> 3, values -> List(0.8158859914841188, 0.05865978641768885, 0.12545422209819232))</td><td>0</td><td>0</td></tr><tr><td>Map(vectorType -> dense, length -> 5, values -> List(2.0, 0.1490909923206676, 0.48192781466914225, 0.23214285714285712, 0.13432835820895522))</td><td>Map(vectorType -> dense, length -> 3, values -> List(0.8362326350954521, 0.03419492805511226, 0.12957243684943584))</td><td>0</td><td>0</td></tr><tr><td>Map(vectorType -> dense, length -> 5, values -> List(2.0, 0.18909093683416192, 0.8795180750578437, 0.4464285714285714, 0.3208955223880597))</td><td>Map(vectorType -> dense, length -> 3, values -> List(0.8272734249564727, 0.03118045367543401, 0.14154612136809333))</td><td>0</td><td>0</td></tr><tr><td>Map(vectorType -> dense, length -> 5, values -> List(2.0, 0.2072727550159801, 0.46987957621471965, 0.21428571428571427, 0.1791044776119403))</td><td>Map(vectorType -> dense, length -> 3, values -> List(0.8003660185066093, 0.04236030890617563, 0.15727367258721506))</td><td>0</td><td>0</td></tr><tr><td>Map(vectorType -> dense, length -> 5, values -> List(2.0, 0.23636363636363636, 0.45783133776029705, 0.25, 0.05970149253731343))</td><td>Map(vectorType -> dense, length -> 3, values -> List(0.7718246076503811, 0.0408173130486227, 0.18735807930099624))</td><td>0</td><td>0</td></tr><tr><td>Map(vectorType -> dense, length -> 5, values -> List(2.0, 0.24000008322975852, 0.6987951876446095, 0.375, 0.22388059701492538))</td><td>Map(vectorType -> dense, length -> 3, values -> List(0.7813897228471074, 0.03982309499108345, 0.17878718216180917))</td><td>0</td><td>0</td></tr><tr><td>Map(vectorType -> dense, length -> 5, values -> List(2.0, 0.24727283824573862, 0.5542167857936081, 0.125, 0.27611940298507465))</td><td>Map(vectorType -> dense, length -> 3, values -> List(0.7976050142894344, 0.036901160280201975, 0.16549382543036356))</td><td>0</td><td>0</td></tr><tr><td>Map(vectorType -> dense, length -> 5, values -> List(2.0, 0.298181845925071, 0.5783132627024533, 0.375, 0.16417910447761194))</td><td>Map(vectorType -> dense, length -> 3, values -> List(0.716846978935448, 0.05463598901796476, 0.2285170320465872))</td><td>0</td><td>0</td></tr><tr><td>Map(vectorType -> dense, length -> 5, values -> List(2.0, 0.3090909090909091, 0.6987951876446095, 0.4464285714285714, 0.3880597014925373))</td><td>Map(vectorType -> dense, length -> 3, values -> List(0.7112199853423519, 0.07206467039879991, 0.2167153442588482))</td><td>0</td><td>0</td></tr><tr><td>Map(vectorType -> dense, length -> 5, values -> List(2.0, 0.32000011097301134, 0.4337348608514519, 0.30357142857142855, 0.2985074626865672))</td><td>Map(vectorType -> dense, length -> 3, values -> List(0.684097379426186, 0.08797396621878156, 0.22792865435503243))</td><td>0</td><td>0</td></tr><tr><td>Map(vectorType -> dense, length -> 5, values -> List(2.0, 0.32727272727272727, 0.5301205386857978, 0.14285714285714285, 0.1492537313432836))</td><td>Map(vectorType -> dense, length -> 3, values -> List(0.7272395593863911, 0.03872396889278656, 0.2340364717208224))</td><td>0</td><td>0</td></tr><tr><td>Map(vectorType -> dense, length -> 5, values -> List(2.0, 0.32727272727272727, 0.6506024636279539, 0.26785714285714285, 0.1865671641791045))</td><td>Map(vectorType -> dense, length -> 3, values -> List(0.7223384005083584, 0.04024052418631256, 0.2374210753053291))</td><td>0</td><td>0</td></tr><tr><td>Map(vectorType -> dense, length -> 5, values -> List(2.0, 0.34181823730468747, 0.6144577482646862, 0.375, 0.47761194029850745))</td><td>Map(vectorType -> dense, length -> 3, values -> List(0.6785095581582709, 0.09457750272347279, 0.2269129391182563))</td><td>0</td><td>0</td></tr><tr><td>Map(vectorType -> dense, length -> 5, values -> List(2.0, 0.36363636363636365, 0.7108434260990321, 0.375, 0.3880597014925373))</td><td>Map(vectorType -> dense, length -> 3, values -> List(0.6800033991979111, 0.06717046129193685, 0.2528261395101521))</td><td>0</td><td>0</td></tr><tr><td>Map(vectorType -> dense, length -> 5, values -> List(2.0, 0.3927273837002841, 0.5301205386857978, 0.39285714285714285, 0.5970149253731344))</td><td>Map(vectorType -> dense, length -> 3, values -> List(0.594658707909639, 0.15788615807465542, 0.24745513401570532))</td><td>0</td><td>0</td></tr><tr><td>Map(vectorType -> dense, length -> 5, values -> List(2.0, 0.39999999999999997, 0.7228916645534547, 0.4107142857142857, 0.23880597014925373))</td><td>Map(vectorType -> dense, length -> 3, values -> List(0.6381616453305166, 0.05736635098767678, 0.30447200368180677))</td><td>0</td><td>0</td></tr><tr><td>Map(vectorType -> dense, length -> 5, values -> List(2.0, 0.498181845925071, 0.6867469491901869, 0.4107142857142857, 0.4328358208955224))</td><td>Map(vectorType -> dense, length -> 3, values -> List(0.5304941071306278, 0.10198527938807789, 0.3675206134812943))</td><td>0</td><td>0</td></tr></tbody></table></div>"
      ]
     },
     "metadata": {
      "application/vnd.databricks.v1+output": {
       "addedWidgets": {},
       "aggData": [],
       "aggError": "",
       "aggOverflow": false,
       "aggSchema": [],
       "aggSeriesLimitReached": false,
       "aggType": "",
       "arguments": {},
       "columnCustomDisplayInfos": {},
       "data": [
        [
         {
          "length": 5,
          "values": [
           0.0,
           0.08727278275923295,
           0.5903615011568758,
           0.23214285714285712,
           0.05970149253731343
          ],
          "vectorType": "dense"
         },
         {
          "length": 3,
          "values": [
           0.8482318980558763,
           0.058384080481285884,
           0.09338402146283788
          ],
          "vectorType": "dense"
         },
         0,
         0
        ],
        [
         {
          "length": 5,
          "values": [
           0.0,
           0.10545460094105114,
           0.5662650242480307,
           0.2857142857142857,
           0.22388059701492538
          ],
          "vectorType": "dense"
         },
         {
          "length": 3,
          "values": [
           0.810065668765811,
           0.09598576512828351,
           0.09394856610590535
          ],
          "vectorType": "dense"
         },
         0,
         0
        ],
        [
         {
          "length": 5,
          "values": [
           0.0,
           0.12363641912286931,
           0.36144588972698605,
           0.375,
           0.19402985074626866
          ],
          "vectorType": "dense"
         },
         {
          "length": 3,
          "values": [
           0.7149079500737566,
           0.181641506552482,
           0.1034505433737614
          ],
          "vectorType": "dense"
         },
         0,
         0
        ],
        [
         {
          "length": 5,
          "values": [
           0.0,
           0.21090920188210227,
           0.6506024636279539,
           -0.03571428571428571,
           0.13432835820895522
          ],
          "vectorType": "dense"
         },
         {
          "length": 3,
          "values": [
           0.8281261441846604,
           0.043717656618644074,
           0.1281561991966957
          ],
          "vectorType": "dense"
         },
         0,
         0
        ],
        [
         {
          "length": 5,
          "values": [
           0.0,
           0.21818181818181817,
           0.397590375289219,
           0.42857142857142855,
           0.3358208955223881
          ],
          "vectorType": "dense"
         },
         {
          "length": 3,
          "values": [
           0.5979323176715517,
           0.2744561936751808,
           0.12761148865326735
          ],
          "vectorType": "dense"
         },
         0,
         0
        ],
        [
         {
          "length": 5,
          "values": [
           0.0,
           0.23636363636363636,
           0.48192781466914225,
           0.4464285714285714,
           0.31343283582089554
          ],
          "vectorType": "dense"
         },
         {
          "length": 3,
          "values": [
           0.6171231414265103,
           0.24089765177929834,
           0.14197920679419138
          ],
          "vectorType": "dense"
         },
         0,
         0
        ],
        [
         {
          "length": 5,
          "values": [
           0.0,
           0.2763637195933949,
           0.5421687771402204,
           0.33928571428571425,
           0.1492537313432836
          ],
          "vectorType": "dense"
         },
         {
          "length": 3,
          "values": [
           0.670820955747459,
           0.14688726532057056,
           0.18229177893197043
          ],
          "vectorType": "dense"
         },
         0,
         0
        ],
        [
         {
          "length": 5,
          "values": [
           0.0,
           0.30545460094105115,
           0.5662650242480307,
           0.23214285714285712,
           0.1492537313432836
          ],
          "vectorType": "dense"
         },
         {
          "length": 3,
          "values": [
           0.6838027471520263,
           0.11951565786380229,
           0.19668159498417143
          ],
          "vectorType": "dense"
         },
         0,
         0
        ],
        [
         {
          "length": 5,
          "values": [
           0.0,
           0.32000011097301134,
           0.0602409624710781,
           0.7142857142857142,
           0.582089552238806
          ],
          "vectorType": "dense"
         },
         {
          "length": 3,
          "values": [
           0.16114358141173618,
           0.7731122961191076,
           0.06574412246915624
          ],
          "vectorType": "dense"
         },
         1,
         1
        ],
        [
         {
          "length": 5,
          "values": [
           0.0,
           0.3236364191228693,
           0.8192771125867657,
           0.5178571428571428,
           0.6044776119402985
          ],
          "vectorType": "dense"
         },
         {
          "length": 3,
          "values": [
           0.5875039263481536,
           0.2476106445890177,
           0.16488542906282866
          ],
          "vectorType": "dense"
         },
         0,
         0
        ],
        [
         {
          "length": 5,
          "values": [
           0.0,
           0.32727272727272727,
           0.6024097396112984,
           0.3214285714285714,
           0.40298507462686567
          ],
          "vectorType": "dense"
         },
         {
          "length": 3,
          "values": [
           0.6142048785148336,
           0.203551900174345,
           0.1822432213108213
          ],
          "vectorType": "dense"
         },
         0,
         0
        ],
        [
         {
          "length": 5,
          "values": [
           0.0,
           0.34545454545454546,
           0.5783132627024533,
           0.3214285714285714,
           0.373134328358209
          ],
          "vectorType": "dense"
         },
         {
          "length": 3,
          "values": [
           0.5936080866274288,
           0.2109619978603251,
           0.195429915512246
          ],
          "vectorType": "dense"
         },
         0,
         0
        ],
        [
         {
          "length": 5,
          "values": [
           0.0,
           0.3490909923206676,
           0.1807228874132343,
           0.6428571428571428,
           0.5970149253731344
          ],
          "vectorType": "dense"
         },
         {
          "length": 3,
          "values": [
           0.21094033970915332,
           0.6994919969185884,
           0.08956766337225827
          ],
          "vectorType": "dense"
         },
         1,
         1
        ],
        [
         {
          "length": 5,
          "values": [
           0.0,
           0.36000005548650565,
           0.036144600462750344,
           0.6428571428571428,
           0.4328358208955224
          ],
          "vectorType": "dense"
         },
         {
          "length": 3,
          "values": [
           0.18980235122609315,
           0.714576324199265,
           0.09562132457464183
          ],
          "vectorType": "dense"
         },
         1,
         1
        ],
        [
         {
          "length": 5,
          "values": [
           0.0,
           0.36000005548650565,
           0.7590361501156876,
           0.46428571428571425,
           0.40298507462686567
          ],
          "vectorType": "dense"
         },
         {
          "length": 3,
          "values": [
           0.5885114524498205,
           0.2013288600812031,
           0.21015968746897645
          ],
          "vectorType": "dense"
         },
         0,
         0
        ],
        [
         {
          "length": 5,
          "values": [
           0.0,
           0.3818181818181818,
           0.0602409624710781,
           0.6964285714285714,
           0.6716417910447762
          ],
          "vectorType": "dense"
         },
         {
          "length": 3,
          "values": [
           0.12339332522226566,
           0.8132271428828101,
           0.0633795318949243
          ],
          "vectorType": "dense"
         },
         1,
         1
        ],
        [
         {
          "length": 5,
          "values": [
           0.0,
           0.38545462868430397,
           0.6144577482646862,
           0.39285714285714285,
           0.41044776119402987
          ],
          "vectorType": "dense"
         },
         {
          "length": 3,
          "values": [
           0.5355380310505539,
           0.249562265149265,
           0.2148997038001811
          ],
          "vectorType": "dense"
         },
         0,
         0
        ],
        [
         {
          "length": 5,
          "values": [
           0.0,
           0.3927273837002841,
           -0.012048123553905176,
           0.7321428571428571,
           0.6865671641791045
          ],
          "vectorType": "dense"
         },
         {
          "length": 3,
          "values": [
           0.09247607407337168,
           0.855554592555625,
           0.0519693333710032
          ],
          "vectorType": "dense"
         },
         1,
         1
        ],
        [
         {
          "length": 5,
          "values": [
           0.0,
           0.40363644686612216,
           0.15662652540490654,
           0.6071428571428571,
           0.5223880597014925
          ],
          "vectorType": "dense"
         },
         {
          "length": 3,
          "values": [
           0.20212750558790332,
           0.6858292457288039,
           0.11204324868329274
          ],
          "vectorType": "dense"
         },
         1,
         1
        ],
        [
         {
          "length": 5,
          "values": [
           0.0,
           0.4072727550159801,
           0.024096362008327758,
           0.625,
           0.5074626865671642
          ],
          "vectorType": "dense"
         },
         {
          "length": 3,
          "values": [
           0.1524398942152975,
           0.7560884768225199,
           0.09147162896218264
          ],
          "vectorType": "dense"
         },
         1,
         1
        ],
        [
         {
          "length": 5,
          "values": [
           0.0,
           0.4254545731977983,
           0.08433732447940587,
           0.6071428571428571,
           0.47761194029850745
          ],
          "vectorType": "dense"
         },
         {
          "length": 3,
          "values": [
           0.17499882953080928,
           0.7130358209677019,
           0.11196534950148888
          ],
          "vectorType": "dense"
         },
         1,
         1
        ],
        [
         {
          "length": 5,
          "values": [
           0.0,
           0.4654546564275568,
           0.07228920092550069,
           0.6785714285714285,
           0.6119402985074627
          ],
          "vectorType": "dense"
         },
         {
          "length": 3,
          "values": [
           0.11141119989301089,
           0.8039710302566639,
           0.08461776985032517
          ],
          "vectorType": "dense"
         },
         1,
         1
        ],
        [
         {
          "length": 5,
          "values": [
           0.0,
           0.4727272727272727,
           0.14457828695048397,
           0.6428571428571428,
           0.5074626865671642
          ],
          "vectorType": "dense"
         },
         {
          "length": 3,
          "values": [
           0.1554229925155554,
           0.7226728716269509,
           0.12190413585749366
          ],
          "vectorType": "dense"
         },
         1,
         1
        ],
        [
         {
          "length": 5,
          "values": [
           0.0,
           0.483636474609375,
           0.16867476385932914,
           0.6607142857142857,
           0.6268656716417911
          ],
          "vectorType": "dense"
         },
         {
          "length": 3,
          "values": [
           0.13128620447984682,
           0.76574249129267,
           0.10297130422748325
          ],
          "vectorType": "dense"
         },
         1,
         1
        ],
        [
         {
          "length": 5,
          "values": [
           0.0,
           0.49454553777521304,
           0.08433732447940587,
           0.7142857142857142,
           0.5074626865671642
          ],
          "vectorType": "dense"
         },
         {
          "length": 3,
          "values": [
           0.11273433402117267,
           0.7830415720109327,
           0.10422409396789448
          ],
          "vectorType": "dense"
         },
         1,
         1
        ],
        [
         {
          "length": 5,
          "values": [
           0.0,
           0.498181845925071,
           0.1204819249421562,
           0.8035714285714285,
           0.5970149253731344
          ],
          "vectorType": "dense"
         },
         {
          "length": 3,
          "values": [
           0.0891823001232495,
           0.8266328572984359,
           0.08418484257831454
          ],
          "vectorType": "dense"
         },
         1,
         1
        ],
        [
         {
          "length": 5,
          "values": [
           0.0,
           0.5127273559570312,
           0.15662652540490654,
           0.625,
           0.6268656716417911
          ],
          "vectorType": "dense"
         },
         {
          "length": 3,
          "values": [
           0.1256821381377602,
           0.7638502961854237,
           0.11046756567681613
          ],
          "vectorType": "dense"
         },
         1,
         1
        ],
        [
         {
          "length": 5,
          "values": [
           0.0,
           0.5163636641068892,
           0.3132530508098131,
           0.7321428571428571,
           0.7014925373134329
          ],
          "vectorType": "dense"
         },
         {
          "length": 3,
          "values": [
           0.12717749818454235,
           0.7612936404465155,
           0.11152886136894219
          ],
          "vectorType": "dense"
         },
         1,
         1
        ],
        [
         {
          "length": 5,
          "values": [
           0.0,
           0.5200001109730114,
           0.2891566888014853,
           0.8392857142857142,
           0.6865671641791045
          ],
          "vectorType": "dense"
         },
         {
          "length": 3,
          "values": [
           0.099114055022081,
           0.8049686475445319,
           0.09591729743338719
          ],
          "vectorType": "dense"
         },
         1,
         1
        ],
        [
         {
          "length": 5,
          "values": [
           0.0,
           0.5236364191228693,
           0.14457828695048397,
           0.7678571428571428,
           0.6567164179104478
          ],
          "vectorType": "dense"
         },
         {
          "length": 3,
          "values": [
           0.08587160979685347,
           0.8281601660543779,
           0.08596822414876863
          ],
          "vectorType": "dense"
         },
         1,
         1
        ],
        [
         {
          "length": 5,
          "values": [
           0.0,
           0.5381819291548295,
           0.16867476385932914,
           0.8571428571428571,
           0.6492537313432836
          ],
          "vectorType": "dense"
         },
         {
          "length": 3,
          "values": [
           0.07294307700249883,
           0.8449471488772445,
           0.08210977412025665
          ],
          "vectorType": "dense"
         },
         1,
         1
        ],
        [
         {
          "length": 5,
          "values": [
           0.0,
           0.5490909923206676,
           0.2771084503470628,
           0.7321428571428571,
           0.6791044776119403
          ],
          "vectorType": "dense"
         },
         {
          "length": 3,
          "values": [
           0.11011134738142367,
           0.7753320815451243,
           0.114556571073452
          ],
          "vectorType": "dense"
         },
         1,
         1
        ],
        [
         {
          "length": 5,
          "values": [
           0.0,
           0.5527273004705255,
           0.253012088338735,
           0.8571428571428571,
           0.7611940298507462
          ],
          "vectorType": "dense"
         },
         {
          "length": 3,
          "values": [
           0.07162645289831587,
           0.8486949050275786,
           0.07967864207410552
          ],
          "vectorType": "dense"
         },
         1,
         1
        ],
        [
         {
          "length": 5,
          "values": [
           0.0,
           0.5600000554865057,
           0.21686748787598464,
           0.7857142857142857,
           0.6716417910447762
          ],
          "vectorType": "dense"
         },
         {
          "length": 3,
          "values": [
           0.08504858440566584,
           0.8164840937780719,
           0.09846732181626218
          ],
          "vectorType": "dense"
         },
         1,
         1
        ],
        [
         {
          "length": 5,
          "values": [
           0.0,
           0.5672728105024858,
           0.21686748787598464,
           0.75,
           0.6119402985074627
          ],
          "vectorType": "dense"
         },
         {
          "length": 3,
          "values": [
           0.0969243558550593,
           0.7866339899096386,
           0.11644165423530206
          ],
          "vectorType": "dense"
         },
         1,
         1
        ],
        [
         {
          "length": 5,
          "values": [
           0.0,
           0.6,
           0.33734941281814085,
           1.0,
           0.9253731343283582
          ],
          "vectorType": "dense"
         },
         {
          "length": 3,
          "values": [
           0.04315639314926147,
           0.8979992708639375,
           0.05884433598680118
          ],
          "vectorType": "dense"
         },
         1,
         1
        ],
        [
         {
          "length": 5,
          "values": [
           0.0,
           0.6218182650479404,
           0.2409638498843124,
           0.8392857142857142,
           1.0746268656716418
          ],
          "vectorType": "dense"
         },
         {
          "length": 3,
          "values": [
           0.03577919009375259,
           0.9171026295500352,
           0.047118180356212264
          ],
          "vectorType": "dense"
         },
         1,
         1
        ],
        [
         {
          "length": 5,
          "values": [
           0.0,
           0.6290910200639204,
           0.3132530508098131,
           0.75,
           0.664179104477612
          ],
          "vectorType": "dense"
         },
         {
          "length": 3,
          "values": [
           0.09145482539387534,
           0.7709180770114277,
           0.13762709759469707
          ],
          "vectorType": "dense"
         },
         1,
         1
        ],
        [
         {
          "length": 5,
          "values": [
           0.0,
           0.6363636363636364,
           0.21686748787598464,
           0.75,
           0.6119402985074627
          ],
          "vectorType": "dense"
         },
         {
          "length": 3,
          "values": [
           0.07811323901524275,
           0.7934238694160416,
           0.12846289156871574
          ],
          "vectorType": "dense"
         },
         1,
         1
        ],
        [
         {
          "length": 5,
          "values": [
           0.0,
           0.6472728382457386,
           0.34939765127256345,
           0.6964285714285714,
           0.8059701492537313
          ],
          "vectorType": "dense"
         },
         {
          "length": 3,
          "values": [
           0.08570883296654422,
           0.7885882846350872,
           0.12570288239836852
          ],
          "vectorType": "dense"
         },
         1,
         1
        ],
        [
         {
          "length": 5,
          "values": [
           0.0,
           0.6545454545454545,
           0.21686748787598464,
           0.9107142857142857,
           0.6865671641791045
          ],
          "vectorType": "dense"
         },
         {
          "length": 3,
          "values": [
           0.047673607141274325,
           0.8611810916241033,
           0.09114530123462242
          ],
          "vectorType": "dense"
         },
         1,
         1
        ],
        [
         {
          "length": 5,
          "values": [
           0.0,
           0.6654546564275567,
           0.253012088338735,
           0.8928571428571428,
           0.8507462686567164
          ],
          "vectorType": "dense"
         },
         {
          "length": 3,
          "values": [
           0.04056878549907479,
           0.8853747526613083,
           0.07405646183961684
          ],
          "vectorType": "dense"
         },
         1,
         1
        ],
        [
         {
          "length": 5,
          "values": [
           0.0,
           0.6690909645774148,
           0.2409638498843124,
           0.75,
           0.6865671641791045
          ],
          "vectorType": "dense"
         },
         {
          "length": 3,
          "values": [
           0.06696403127923464,
           0.810388229150454,
           0.12264773957031123
          ],
          "vectorType": "dense"
         },
         1,
         1
        ],
        [
         {
          "length": 5,
          "values": [
           0.0,
           0.6690909645774148,
           0.32530117436371825,
           0.9107142857142857,
           0.8059701492537313
          ],
          "vectorType": "dense"
         },
         {
          "length": 3,
          "values": [
           0.04894146153777519,
           0.859644591226295,
           0.0914139472359298
          ],
          "vectorType": "dense"
         },
         1,
         1
        ],
        [
         {
          "length": 5,
          "values": [
           0.0,
           0.6800000277432529,
           0.49397582332253,
           0.9642857142857142,
           0.8656716417910448
          ],
          "vectorType": "dense"
         },
         {
          "length": 3,
          "values": [
           0.05692483893239261,
           0.8367855453666139,
           0.10628961570099348
          ],
          "vectorType": "dense"
         },
         1,
         1
        ],
        [
         {
          "length": 5,
          "values": [
           0.0,
           0.7272727272727273,
           0.45783133776029705,
           1.0,
           0.8507462686567164
          ],
          "vectorType": "dense"
         },
         {
          "length": 3,
          "values": [
           0.042702346999275595,
           0.8542905151322723,
           0.10300713786845225
          ],
          "vectorType": "dense"
         },
         1,
         1
        ],
        [
         {
          "length": 5,
          "values": [
           0.0,
           0.8072727550159801,
           0.30120481235539054,
           1.0178571428571428,
           0.8805970149253731
          ],
          "vectorType": "dense"
         },
         {
          "length": 3,
          "values": [
           0.020869778309223593,
           0.9029093985609851,
           0.0762208231297914
          ],
          "vectorType": "dense"
         },
         1,
         1
        ],
        [
         {
          "length": 5,
          "values": [
           0.0,
           0.8363636363636363,
           0.33734941281814085,
           1.0,
           0.9402985074626866
          ],
          "vectorType": "dense"
         },
         {
          "length": 3,
          "values": [
           0.019606155489101936,
           0.9026348751477933,
           0.07775896936310481
          ],
          "vectorType": "dense"
         },
         1,
         1
        ],
        [
         {
          "length": 5,
          "values": [
           1.0,
           0.06909096457741477,
           0.46987957621471965,
           0.19642857142857142,
           0.208955223880597
          ],
          "vectorType": "dense"
         },
         {
          "length": 3,
          "values": [
           0.8621362824896927,
           0.05211055794005547,
           0.08575315957025191
          ],
          "vectorType": "dense"
         },
         0,
         0
        ],
        [
         {
          "length": 5,
          "values": [
           1.0,
           0.12727272727272726,
           0.5180723002313752,
           0.30357142857142855,
           0.1417910447761194
          ],
          "vectorType": "dense"
         },
         {
          "length": 3,
          "values": [
           0.8236781894128932,
           0.060648897838438215,
           0.1156729127486686
          ],
          "vectorType": "dense"
         },
         0,
         0
        ],
        [
         {
          "length": 5,
          "values": [
           1.0,
           0.1490909923206676,
           0.49397582332253,
           0.23214285714285712,
           0.1791044776119403
          ],
          "vectorType": "dense"
         },
         {
          "length": 3,
          "values": [
           0.8176761994653711,
           0.062079726336174645,
           0.12024407419845419
          ],
          "vectorType": "dense"
         },
         0,
         0
        ],
        [
         {
          "length": 5,
          "values": [
           1.0,
           0.15272730047052557,
           0.7590361501156876,
           0.2857142857142857,
           0.3283582089552239
          ],
          "vectorType": "dense"
         },
         {
          "length": 3,
          "values": [
           0.8412728160654535,
           0.04740693120973031,
           0.11132025272481627
          ],
          "vectorType": "dense"
         },
         0,
         0
        ],
        [
         {
          "length": 5,
          "values": [
           1.0,
           0.1563637473366477,
           0.45783133776029705,
           0.375,
           0.1865671641791045
          ],
          "vectorType": "dense"
         },
         {
          "length": 3,
          "values": [
           0.7753632955059472,
           0.09456802799190676,
           0.1300686765021461
          ],
          "vectorType": "dense"
         },
         0,
         0
        ],
        [
         {
          "length": 5,
          "values": [
           1.0,
           0.16000005548650567,
           0.5783132627024533,
           0.14285714285714285,
           0.13432835820895522
          ],
          "vectorType": "dense"
         },
         {
          "length": 3,
          "values": [
           0.8391131030798323,
           0.03936673574891051,
           0.12152016117125714
          ],
          "vectorType": "dense"
         },
         0,
         0
        ],
        [
         {
          "length": 5,
          "values": [
           1.0,
           0.17818187366832386,
           0.397590375289219,
           0.19642857142857142,
           0.208955223880597
          ],
          "vectorType": "dense"
         },
         {
          "length": 3,
          "values": [
           0.7863351502614447,
           0.0820618167587028,
           0.13160303297985246
          ],
          "vectorType": "dense"
         },
         0,
         0
        ],
        [
         {
          "length": 5,
          "values": [
           1.0,
           0.21818181818181817,
           0.6506024636279539,
           0.2857142857142857,
           0.2985074626865672
          ],
          "vectorType": "dense"
         },
         {
          "length": 3,
          "values": [
           0.7840506720673918,
           0.06910019344948558,
           0.14684913448312256
          ],
          "vectorType": "dense"
         },
         0,
         0
        ],
        [
         {
          "length": 5,
          "values": [
           1.0,
           0.24727283824573862,
           0.6746987107357643,
           0.2857142857142857,
           0.26865671641791045
          ],
          "vectorType": "dense"
         },
         {
          "length": 3,
          "values": [
           0.7686394532178583,
           0.06622667903712674,
           0.16513386774501487
          ],
          "vectorType": "dense"
         },
         0,
         0
        ],
        [
         {
          "length": 5,
          "values": [
           1.0,
           0.2509091463955966,
           0.6626507020823765,
           0.19642857142857142,
           0.2835820895522388
          ],
          "vectorType": "dense"
         },
         {
          "length": 3,
          "values": [
           0.7808275086342132,
           0.05831866559700445,
           0.1608538257687825
          ],
          "vectorType": "dense"
         },
         0,
         0
        ],
        [
         {
          "length": 5,
          "values": [
           1.0,
           0.2581819014115767,
           0.6506024636279539,
           0.2857142857142857,
           0.4626865671641791
          ],
          "vectorType": "dense"
         },
         {
          "length": 3,
          "values": [
           0.7443920774531081,
           0.10006230549622544,
           0.15554561705066636
          ],
          "vectorType": "dense"
         },
         0,
         0
        ],
        [
         {
          "length": 5,
          "values": [
           1.0,
           0.26909096457741477,
           0.4216868521980641,
           0.07142857142857142,
           0.16417910447761194
          ],
          "vectorType": "dense"
         },
         {
          "length": 3,
          "values": [
           0.7537400774912911,
           0.0679075617258995,
           0.17835236078280936
          ],
          "vectorType": "dense"
         },
         0,
         0
        ],
        [
         {
          "length": 5,
          "values": [
           1.0,
           0.2727272727272727,
           0.5903615011568758,
           0.21428571428571427,
           0.5223880597014925
          ],
          "vectorType": "dense"
         },
         {
          "length": 3,
          "values": [
           0.7313915619747944,
           0.11340613833795352,
           0.15520229968725208
          ],
          "vectorType": "dense"
         },
         0,
         0
        ],
        [
         {
          "length": 5,
          "values": [
           1.0,
           0.2763637195933949,
           0.5662650242480307,
           0.33928571428571425,
           0.4626865671641791
          ],
          "vectorType": "dense"
         },
         {
          "length": 3,
          "values": [
           0.6924011002264401,
           0.14036348805645504,
           0.167235411717105
          ],
          "vectorType": "dense"
         },
         0,
         0
        ],
        [
         {
          "length": 5,
          "values": [
           1.0,
           0.29454553777521303,
           0.46987957621471965,
           0.33928571428571425,
           0.208955223880597
          ],
          "vectorType": "dense"
         },
         {
          "length": 3,
          "values": [
           0.6757051886102656,
           0.11946817806709867,
           0.20482663332263562
          ],
          "vectorType": "dense"
         },
         0,
         0
        ],
        [
         {
          "length": 5,
          "values": [
           1.0,
           0.29454553777521303,
           0.8313253510411882,
           0.46428571428571425,
           0.3805970149253731
          ],
          "vectorType": "dense"
         },
         {
          "length": 3,
          "values": [
           0.7179614161144406,
           0.08898067723726985,
           0.1930579066482896
          ],
          "vectorType": "dense"
         },
         0,
         0
        ],
        [
         {
          "length": 5,
          "values": [
           1.0,
           0.3709091186523437,
           0.9638555144377671,
           0.30357142857142855,
           0.4328358208955224
          ],
          "vectorType": "dense"
         },
         {
          "length": 3,
          "values": [
           0.7118022818189766,
           0.059451438470571834,
           0.22874627971045156
          ],
          "vectorType": "dense"
         },
         0,
         0
        ],
        [
         {
          "length": 5,
          "values": [
           1.0,
           0.3745455655184659,
           0.49397582332253,
           0.125,
           0.26865671641791045
          ],
          "vectorType": "dense"
         },
         {
          "length": 3,
          "values": [
           0.6615387625501722,
           0.0948381956633289,
           0.24362304178649902
          ],
          "vectorType": "dense"
         },
         0,
         2
        ],
        [
         {
          "length": 5,
          "values": [
           1.0,
           0.40363644686612216,
           0.4096386137436415,
           0.23214285714285712,
           0.05970149253731343
          ],
          "vectorType": "dense"
         },
         {
          "length": 3,
          "values": [
           0.5942715012540009,
           0.1042937179590922,
           0.30143478078690683
          ],
          "vectorType": "dense"
         },
         0,
         2
        ],
        [
         {
          "length": 5,
          "values": [
           1.0,
           0.4145455100319602,
           0.5903615011568758,
           0.5,
           0.208955223880597
          ],
          "vectorType": "dense"
         },
         {
          "length": 3,
          "values": [
           0.5453611562712806,
           0.1517884429912567,
           0.3028504007374627
          ],
          "vectorType": "dense"
         },
         0,
         2
        ],
        [
         {
          "length": 5,
          "values": [
           1.0,
           0.47636371959339485,
           0.4096386137436415,
           0.30357142857142855,
           0.16417910447761194
          ],
          "vectorType": "dense"
         },
         {
          "length": 3,
          "values": [
           0.49442858860501315,
           0.15696531585344367,
           0.34860609554154304
          ],
          "vectorType": "dense"
         },
         0,
         2
        ],
        [
         {
          "length": 5,
          "values": [
           1.0,
           0.4872727827592329,
           0.45783133776029705,
           0.39285714285714285,
           0.23880597014925373
          ],
          "vectorType": "dense"
         },
         {
          "length": 3,
          "values": [
           0.46402408934078254,
           0.18983515245338584,
           0.3461407582058315
          ],
          "vectorType": "dense"
         },
         0,
         2
        ],
        [
         {
          "length": 5,
          "values": [
           1.0,
           0.49454553777521304,
           0.45783133776029705,
           0.375,
           0.2835820895522388
          ],
          "vectorType": "dense"
         },
         {
          "length": 3,
          "values": [
           0.4582471790629311,
           0.1991980268659879,
           0.342554794071081
          ],
          "vectorType": "dense"
         },
         0,
         2
        ],
        [
         {
          "length": 5,
          "values": [
           1.0,
           0.5200001109730114,
           0.6506024636279539,
           0.2857142857142857,
           0.22388059701492538
          ],
          "vectorType": "dense"
         },
         {
          "length": 3,
          "values": [
           0.5079452377030512,
           0.10445379159353221,
           0.38760097070341654
          ],
          "vectorType": "dense"
         },
         0,
         2
        ],
        [
         {
          "length": 5,
          "values": [
           1.0,
           0.5418182373046875,
           0.49397582332253,
           0.19642857142857142,
           0.2985074626865672
          ],
          "vectorType": "dense"
         },
         {
          "length": 3,
          "values": [
           0.4713242704926225,
           0.14548686105702988,
           0.38318886845034766
          ],
          "vectorType": "dense"
         },
         0,
         2
        ],
        [
         {
          "length": 5,
          "values": [
           1.0,
           0.5600000554865057,
           0.4337348608514519,
           0.4464285714285714,
           0.3582089552238806
          ],
          "vectorType": "dense"
         },
         {
          "length": 3,
          "values": [
           0.3567191833244923,
           0.2769374959788936,
           0.36634332069661407
          ],
          "vectorType": "dense"
         },
         2,
         2
        ],
        [
         {
          "length": 5,
          "values": [
           1.0,
           0.6145455100319602,
           0.7590361501156876,
           0.6428571428571428,
           0.373134328358209
          ],
          "vectorType": "dense"
         },
         {
          "length": 3,
          "values": [
           0.3371658879859892,
           0.2163360885481759,
           0.44649802346583484
          ],
          "vectorType": "dense"
         },
         2,
         2
        ],
        [
         {
          "length": 5,
          "values": [
           1.0,
           0.6254545731977983,
           0.8072288741323431,
           0.5178571428571428,
           0.40298507462686567
          ],
          "vectorType": "dense"
         },
         {
          "length": 3,
          "values": [
           0.3694339450025407,
           0.16907273063062558,
           0.46149332436683377
          ],
          "vectorType": "dense"
         },
         2,
         2
        ],
        [
         {
          "length": 5,
          "values": [
           1.0,
           0.6327273282137784,
           0.6987951876446095,
           0.46428571428571425,
           0.3283582089552239
          ],
          "vectorType": "dense"
         },
         {
          "length": 3,
          "values": [
           0.3546087715453113,
           0.17071780335754264,
           0.47467342509714605
          ],
          "vectorType": "dense"
         },
         2,
         2
        ],
        [
         {
          "length": 5,
          "values": [
           1.0,
           0.6363636363636364,
           0.6024097396112984,
           0.33928571428571425,
           0.3208955223880597
          ],
          "vectorType": "dense"
         },
         {
          "length": 3,
          "values": [
           0.36167143396978674,
           0.16659087722381097,
           0.4717376888064023
          ],
          "vectorType": "dense"
         },
         2,
         2
        ],
        [
         {
          "length": 5,
          "values": [
           1.0,
           0.6509091463955966,
           0.7590361501156876,
           0.39285714285714285,
           0.3582089552238806
          ],
          "vectorType": "dense"
         },
         {
          "length": 3,
          "values": [
           0.366132685431376,
           0.14169529589318827,
           0.4921720186754357
          ],
          "vectorType": "dense"
         },
         2,
         2
        ],
        [
         {
          "length": 5,
          "values": [
           1.0,
           0.6690909645774148,
           0.7710843885701102,
           0.4821428571428571,
           0.40298507462686567
          ],
          "vectorType": "dense"
         },
         {
          "length": 3,
          "values": [
           0.3288607804051372,
           0.17527104568021784,
           0.495868173914645
          ],
          "vectorType": "dense"
         },
         2,
         2
        ],
        [
         {
          "length": 5,
          "values": [
           1.0,
           0.6763637195933948,
           0.7831326270245328,
           0.5178571428571428,
           0.40298507462686567
          ],
          "vectorType": "dense"
         },
         {
          "length": 3,
          "values": [
           0.3161635219334157,
           0.1819799443679259,
           0.5018565336986583
          ],
          "vectorType": "dense"
         },
         2,
         2
        ],
        [
         {
          "length": 5,
          "values": [
           1.0,
           0.6800000277432529,
           0.6385542251735313,
           0.4821428571428571,
           0.5223880597014925
          ],
          "vectorType": "dense"
         },
         {
          "length": 3,
          "values": [
           0.28222692153323137,
           0.2740048978783599,
           0.4437681805884088
          ],
          "vectorType": "dense"
         },
         2,
         2
        ],
        [
         {
          "length": 5,
          "values": [
           1.0,
           0.6800000277432529,
           0.6987951876446095,
           0.6428571428571428,
           0.417910447761194
          ],
          "vectorType": "dense"
         },
         {
          "length": 3,
          "values": [
           0.2636574663302507,
           0.26588491948090187,
           0.47045761418884746
          ],
          "vectorType": "dense"
         },
         2,
         2
        ],
        [
         {
          "length": 5,
          "values": [
           1.0,
           0.6836364746093749,
           0.5662650242480307,
           0.39285714285714285,
           0.291044776119403
          ],
          "vectorType": "dense"
         },
         {
          "length": 3,
          "values": [
           0.29830070474400067,
           0.1900279610588432,
           0.5116713341971562
          ],
          "vectorType": "dense"
         },
         2,
         2
        ],
        [
         {
          "length": 5,
          "values": [
           1.0,
           0.698181845925071,
           0.8072288741323431,
           0.42857142857142855,
           0.2985074626865672
          ],
          "vectorType": "dense"
         },
         {
          "length": 3,
          "values": [
           0.3215356888324376,
           0.12501306989323285,
           0.5534512412743297
          ],
          "vectorType": "dense"
         },
         2,
         2
        ],
        [
         {
          "length": 5,
          "values": [
           1.0,
           0.7054546009410511,
           0.6626507020823765,
           0.23214285714285712,
           0.16417910447761194
          ],
          "vectorType": "dense"
         },
         {
          "length": 3,
          "values": [
           0.32890488596470985,
           0.09465007373206406,
           0.5764450403032261
          ],
          "vectorType": "dense"
         },
         2,
         2
        ],
        [
         {
          "length": 5,
          "values": [
           1.0,
           0.7236364191228692,
           0.6987951876446095,
           0.4107142857142857,
           0.4328358208955224
          ],
          "vectorType": "dense"
         },
         {
          "length": 3,
          "values": [
           0.28138205740465216,
           0.19285793775808194,
           0.5257600048372659
          ],
          "vectorType": "dense"
         },
         2,
         2
        ],
        [
         {
          "length": 5,
          "values": [
           1.0,
           0.9418182373046875,
           0.5542167857936081,
           0.125,
           0.2985074626865672
          ],
          "vectorType": "dense"
         },
         {
          "length": 3,
          "values": [
           0.15374039066978967,
           0.12499497867662948,
           0.7212646306535808
          ],
          "vectorType": "dense"
         },
         2,
         2
        ],
        [
         {
          "length": 5,
          "values": [
           2.0,
           0.13090917413884942,
           0.45783133776029705,
           0.26785714285714285,
           0.19402985074626866
          ],
          "vectorType": "dense"
         },
         {
          "length": 3,
          "values": [
           0.8381956827320067,
           0.04171690433949624,
           0.12008741292849688
          ],
          "vectorType": "dense"
         },
         0,
         0
        ],
        [
         {
          "length": 5,
          "values": [
           2.0,
           0.13818192915482955,
           0.4096386137436415,
           0.2857142857142857,
           0.1044776119402985
          ],
          "vectorType": "dense"
         },
         {
          "length": 3,
          "values": [
           0.826527816055117,
           0.04259192287867122,
           0.13088026106621173
          ],
          "vectorType": "dense"
         },
         0,
         0
        ],
        [
         {
          "length": 5,
          "values": [
           2.0,
           0.1490909923206676,
           0.34939765127256345,
           0.23214285714285712,
           0.2537313432835821
          ],
          "vectorType": "dense"
         },
         {
          "length": 3,
          "values": [
           0.8158859914841188,
           0.05865978641768885,
           0.12545422209819232
          ],
          "vectorType": "dense"
         },
         0,
         0
        ],
        [
         {
          "length": 5,
          "values": [
           2.0,
           0.1490909923206676,
           0.48192781466914225,
           0.23214285714285712,
           0.13432835820895522
          ],
          "vectorType": "dense"
         },
         {
          "length": 3,
          "values": [
           0.8362326350954521,
           0.03419492805511226,
           0.12957243684943584
          ],
          "vectorType": "dense"
         },
         0,
         0
        ],
        [
         {
          "length": 5,
          "values": [
           2.0,
           0.18909093683416192,
           0.8795180750578437,
           0.4464285714285714,
           0.3208955223880597
          ],
          "vectorType": "dense"
         },
         {
          "length": 3,
          "values": [
           0.8272734249564727,
           0.03118045367543401,
           0.14154612136809333
          ],
          "vectorType": "dense"
         },
         0,
         0
        ],
        [
         {
          "length": 5,
          "values": [
           2.0,
           0.2072727550159801,
           0.46987957621471965,
           0.21428571428571427,
           0.1791044776119403
          ],
          "vectorType": "dense"
         },
         {
          "length": 3,
          "values": [
           0.8003660185066093,
           0.04236030890617563,
           0.15727367258721506
          ],
          "vectorType": "dense"
         },
         0,
         0
        ],
        [
         {
          "length": 5,
          "values": [
           2.0,
           0.23636363636363636,
           0.45783133776029705,
           0.25,
           0.05970149253731343
          ],
          "vectorType": "dense"
         },
         {
          "length": 3,
          "values": [
           0.7718246076503811,
           0.0408173130486227,
           0.18735807930099624
          ],
          "vectorType": "dense"
         },
         0,
         0
        ],
        [
         {
          "length": 5,
          "values": [
           2.0,
           0.24000008322975852,
           0.6987951876446095,
           0.375,
           0.22388059701492538
          ],
          "vectorType": "dense"
         },
         {
          "length": 3,
          "values": [
           0.7813897228471074,
           0.03982309499108345,
           0.17878718216180917
          ],
          "vectorType": "dense"
         },
         0,
         0
        ],
        [
         {
          "length": 5,
          "values": [
           2.0,
           0.24727283824573862,
           0.5542167857936081,
           0.125,
           0.27611940298507465
          ],
          "vectorType": "dense"
         },
         {
          "length": 3,
          "values": [
           0.7976050142894344,
           0.036901160280201975,
           0.16549382543036356
          ],
          "vectorType": "dense"
         },
         0,
         0
        ],
        [
         {
          "length": 5,
          "values": [
           2.0,
           0.298181845925071,
           0.5783132627024533,
           0.375,
           0.16417910447761194
          ],
          "vectorType": "dense"
         },
         {
          "length": 3,
          "values": [
           0.716846978935448,
           0.05463598901796476,
           0.2285170320465872
          ],
          "vectorType": "dense"
         },
         0,
         0
        ],
        [
         {
          "length": 5,
          "values": [
           2.0,
           0.3090909090909091,
           0.6987951876446095,
           0.4464285714285714,
           0.3880597014925373
          ],
          "vectorType": "dense"
         },
         {
          "length": 3,
          "values": [
           0.7112199853423519,
           0.07206467039879991,
           0.2167153442588482
          ],
          "vectorType": "dense"
         },
         0,
         0
        ],
        [
         {
          "length": 5,
          "values": [
           2.0,
           0.32000011097301134,
           0.4337348608514519,
           0.30357142857142855,
           0.2985074626865672
          ],
          "vectorType": "dense"
         },
         {
          "length": 3,
          "values": [
           0.684097379426186,
           0.08797396621878156,
           0.22792865435503243
          ],
          "vectorType": "dense"
         },
         0,
         0
        ],
        [
         {
          "length": 5,
          "values": [
           2.0,
           0.32727272727272727,
           0.5301205386857978,
           0.14285714285714285,
           0.1492537313432836
          ],
          "vectorType": "dense"
         },
         {
          "length": 3,
          "values": [
           0.7272395593863911,
           0.03872396889278656,
           0.2340364717208224
          ],
          "vectorType": "dense"
         },
         0,
         0
        ],
        [
         {
          "length": 5,
          "values": [
           2.0,
           0.32727272727272727,
           0.6506024636279539,
           0.26785714285714285,
           0.1865671641791045
          ],
          "vectorType": "dense"
         },
         {
          "length": 3,
          "values": [
           0.7223384005083584,
           0.04024052418631256,
           0.2374210753053291
          ],
          "vectorType": "dense"
         },
         0,
         0
        ],
        [
         {
          "length": 5,
          "values": [
           2.0,
           0.34181823730468747,
           0.6144577482646862,
           0.375,
           0.47761194029850745
          ],
          "vectorType": "dense"
         },
         {
          "length": 3,
          "values": [
           0.6785095581582709,
           0.09457750272347279,
           0.2269129391182563
          ],
          "vectorType": "dense"
         },
         0,
         0
        ],
        [
         {
          "length": 5,
          "values": [
           2.0,
           0.36363636363636365,
           0.7108434260990321,
           0.375,
           0.3880597014925373
          ],
          "vectorType": "dense"
         },
         {
          "length": 3,
          "values": [
           0.6800033991979111,
           0.06717046129193685,
           0.2528261395101521
          ],
          "vectorType": "dense"
         },
         0,
         0
        ],
        [
         {
          "length": 5,
          "values": [
           2.0,
           0.3927273837002841,
           0.5301205386857978,
           0.39285714285714285,
           0.5970149253731344
          ],
          "vectorType": "dense"
         },
         {
          "length": 3,
          "values": [
           0.594658707909639,
           0.15788615807465542,
           0.24745513401570532
          ],
          "vectorType": "dense"
         },
         0,
         0
        ],
        [
         {
          "length": 5,
          "values": [
           2.0,
           0.39999999999999997,
           0.7228916645534547,
           0.4107142857142857,
           0.23880597014925373
          ],
          "vectorType": "dense"
         },
         {
          "length": 3,
          "values": [
           0.6381616453305166,
           0.05736635098767678,
           0.30447200368180677
          ],
          "vectorType": "dense"
         },
         0,
         0
        ],
        [
         {
          "length": 5,
          "values": [
           2.0,
           0.498181845925071,
           0.6867469491901869,
           0.4107142857142857,
           0.4328358208955224
          ],
          "vectorType": "dense"
         },
         {
          "length": 3,
          "values": [
           0.5304941071306278,
           0.10198527938807789,
           0.3675206134812943
          ],
          "vectorType": "dense"
         },
         0,
         0
        ]
       ],
       "datasetInfos": [],
       "dbfsResultPath": null,
       "isJsonSchema": true,
       "metadata": {},
       "overflow": false,
       "plotOptions": {
        "customPlotOptions": {},
        "displayType": "table",
        "pivotAggregation": null,
        "pivotColumns": null,
        "xColumns": null,
        "yColumns": null
       },
       "removedWidgets": [],
       "schema": [
        {
         "metadata": "{\"ml_attr\":{\"attrs\":{\"numeric\":[{\"idx\":1,\"name\":\"normalizedFeatures_0\"},{\"idx\":2,\"name\":\"normalizedFeatures_1\"},{\"idx\":3,\"name\":\"normalizedFeatures_2\"},{\"idx\":4,\"name\":\"normalizedFeatures_3\"}],\"nominal\":[{\"vals\":[\"Biscoe\",\"Dream\",\"Torgersen\"],\"idx\":0,\"name\":\"IslandIdx\"}]},\"num_attrs\":5}}",
         "name": "Features",
         "type": "{\"type\":\"udt\",\"class\":\"org.apache.spark.ml.linalg.VectorUDT\",\"pyClass\":\"pyspark.ml.linalg.VectorUDT\",\"sqlType\":{\"type\":\"struct\",\"fields\":[{\"name\":\"type\",\"type\":\"byte\",\"nullable\":false,\"metadata\":{}},{\"name\":\"size\",\"type\":\"integer\",\"nullable\":true,\"metadata\":{}},{\"name\":\"indices\",\"type\":{\"type\":\"array\",\"elementType\":\"integer\",\"containsNull\":false},\"nullable\":true,\"metadata\":{}},{\"name\":\"values\",\"type\":{\"type\":\"array\",\"elementType\":\"double\",\"containsNull\":false},\"nullable\":true,\"metadata\":{}}]}}"
        },
        {
         "metadata": "{\"ml_attr\":{\"num_attrs\":3}}",
         "name": "probability",
         "type": "{\"type\":\"udt\",\"class\":\"org.apache.spark.ml.linalg.VectorUDT\",\"pyClass\":\"pyspark.ml.linalg.VectorUDT\",\"sqlType\":{\"type\":\"struct\",\"fields\":[{\"name\":\"type\",\"type\":\"byte\",\"nullable\":false,\"metadata\":{}},{\"name\":\"size\",\"type\":\"integer\",\"nullable\":true,\"metadata\":{}},{\"name\":\"indices\",\"type\":{\"type\":\"array\",\"elementType\":\"integer\",\"containsNull\":false},\"nullable\":true,\"metadata\":{}},{\"name\":\"values\",\"type\":{\"type\":\"array\",\"elementType\":\"double\",\"containsNull\":false},\"nullable\":true,\"metadata\":{}}]}}"
        },
        {
         "metadata": "{}",
         "name": "prediction",
         "type": "\"integer\""
        },
        {
         "metadata": "{}",
         "name": "trueLabel",
         "type": "\"integer\""
        }
       ],
       "type": "table"
      }
     },
     "output_type": "display_data"
    }
   ],
   "source": [
    "prediction = model.transform(test)\n",
    "predicted = prediction.select(\"Features\", \"probability\", col(\"prediction\").astype(\"Int\"), col(\"Species\").alias(\"trueLabel\"))\n",
    "display(predicted)"
   ]
  },
  {
   "cell_type": "code",
   "execution_count": 0,
   "metadata": {
    "application/vnd.databricks.v1+cell": {
     "cellMetadata": {
      "byteLimit": 2048000,
      "rowLimit": 10000
     },
     "inputWidgets": {},
     "nuid": "a8699760-e803-41ec-9731-7dc2f741b23c",
     "showTitle": false,
     "title": ""
    }
   },
   "outputs": [
    {
     "output_type": "stream",
     "name": "stdout",
     "output_type": "stream",
     "text": [
      "Model trained!\n"
     ]
    }
   ],
   "source": [
    "from pyspark.ml import Pipeline\n",
    "from pyspark.ml.feature import StringIndexer, VectorAssembler, MinMaxScaler\n",
    "from pyspark.ml.classification import DecisionTreeClassifier\n",
    "   \n",
    "catFeature = \"Island\"\n",
    "numFeatures = [\"CulmenLength\", \"CulmenDepth\", \"FlipperLength\", \"BodyMass\"]\n",
    "   \n",
    "# Define the feature engineering and model steps\n",
    "catIndexer = StringIndexer(inputCol=catFeature, outputCol=catFeature + \"Idx\")\n",
    "numVector = VectorAssembler(inputCols=numFeatures, outputCol=\"numericFeatures\")\n",
    "numScaler = MinMaxScaler(inputCol = numVector.getOutputCol(), outputCol=\"normalizedFeatures\")\n",
    "featureVector = VectorAssembler(inputCols=[\"IslandIdx\", \"normalizedFeatures\"], outputCol=\"Features\")\n",
    "algo = DecisionTreeClassifier(labelCol=\"Species\", featuresCol=\"Features\", maxDepth=10)\n",
    "   \n",
    "# Chain the steps as stages in a pipeline\n",
    "pipeline = Pipeline(stages=[catIndexer, numVector, numScaler, featureVector, algo])\n",
    "   \n",
    "# Use the pipeline to prepare data and fit the model algorithm\n",
    "model = pipeline.fit(train)\n",
    "print (\"Model trained!\")"
   ]
  },
  {
   "cell_type": "code",
   "execution_count": 0,
   "metadata": {
    "application/vnd.databricks.v1+cell": {
     "cellMetadata": {
      "byteLimit": 2048000,
      "rowLimit": 10000
     },
     "inputWidgets": {},
     "nuid": "b100a2ac-d6c9-4893-ba75-2de232356a4b",
     "showTitle": false,
     "title": ""
    }
   },
   "outputs": [
    {
     "output_type": "stream",
     "name": "stdout",
     "output_type": "stream",
     "text": [
      "Accuracy: 0.9626168224299065\n\nIndividual class metrics:\nClass 0\n\tPrecision: 0.9787234042553191\n\tRecall: 0.9387755102040817\n\tF1 Score: 0.9583333333333333\nClass 1\n\tPrecision: 1.0\n\tRecall: 1.0\n\tF1 Score: 1.0\nClass 2\n\tPrecision: 0.88\n\tRecall: 0.9565217391304348\n\tF1 Score: 0.9166666666666666\nOverall Precision: 0.9644621197057068\nOverall Recall: 0.9626168224299065\nOverall F1 Score: 0.963006230529595\n"
     ]
    }
   ],
   "source": [
    "# Get predictions\n",
    "prediction = model.transform(test)\n",
    "predicted = prediction.select(\"Features\", \"probability\", col(\"prediction\").astype(\"Int\"), col(\"Species\").alias(\"trueLabel\"))\n",
    "   \n",
    "# Generate evaluation metrics\n",
    "from pyspark.ml.evaluation import MulticlassClassificationEvaluator\n",
    "   \n",
    "evaluator = MulticlassClassificationEvaluator(labelCol=\"Species\", predictionCol=\"prediction\")\n",
    "   \n",
    "# Simple accuracy\n",
    "accuracy = evaluator.evaluate(prediction, {evaluator.metricName:\"accuracy\"})\n",
    "print(\"Accuracy:\", accuracy)\n",
    "   \n",
    "# Class metrics\n",
    "labels = [0,1,2]\n",
    "print(\"\\nIndividual class metrics:\")\n",
    "for label in sorted(labels):\n",
    "    print (\"Class %s\" % (label))\n",
    "   \n",
    "    # Precision\n",
    "    precision = evaluator.evaluate(prediction, {evaluator.metricLabel:label,\n",
    "                                                    evaluator.metricName:\"precisionByLabel\"})\n",
    "    print(\"\\tPrecision:\", precision)\n",
    "   \n",
    "    # Recall\n",
    "    recall = evaluator.evaluate(prediction, {evaluator.metricLabel:label,\n",
    "                                             evaluator.metricName:\"recallByLabel\"})\n",
    "    print(\"\\tRecall:\", recall)\n",
    "   \n",
    "    # F1 score\n",
    "    f1 = evaluator.evaluate(prediction, {evaluator.metricLabel:label,\n",
    "                                         evaluator.metricName:\"fMeasureByLabel\"})\n",
    "    print(\"\\tF1 Score:\", f1)\n",
    "   \n",
    "# Weighed (overall) metrics\n",
    "overallPrecision = evaluator.evaluate(prediction, {evaluator.metricName:\"weightedPrecision\"})\n",
    "print(\"Overall Precision:\", overallPrecision)\n",
    "overallRecall = evaluator.evaluate(prediction, {evaluator.metricName:\"weightedRecall\"})\n",
    "print(\"Overall Recall:\", overallRecall)\n",
    "overallF1 = evaluator.evaluate(prediction, {evaluator.metricName:\"weightedFMeasure\"})\n",
    "print(\"Overall F1 Score:\", overallF1)"
   ]
  },
  {
   "cell_type": "code",
   "execution_count": 0,
   "metadata": {
    "application/vnd.databricks.v1+cell": {
     "cellMetadata": {
      "byteLimit": 2048000,
      "rowLimit": 10000
     },
     "inputWidgets": {},
     "nuid": "f97c6d32-349a-4e8f-b277-a068a67af76d",
     "showTitle": false,
     "title": ""
    }
   },
   "outputs": [],
   "source": [
    "model.save(\"/models/penguin.model\")"
   ]
  },
  {
   "cell_type": "code",
   "execution_count": 0,
   "metadata": {
    "application/vnd.databricks.v1+cell": {
     "cellMetadata": {
      "byteLimit": 2048000,
      "rowLimit": 10000
     },
     "inputWidgets": {},
     "nuid": "abda2744-6401-4d13-97fb-d76d65dbf58d",
     "showTitle": false,
     "title": ""
    }
   },
   "outputs": [
    {
     "output_type": "display_data",
     "data": {
      "text/html": [
       "<style scoped>\n",
       "  .table-result-container {\n",
       "    max-height: 300px;\n",
       "    overflow: auto;\n",
       "  }\n",
       "  table, th, td {\n",
       "    border: 1px solid black;\n",
       "    border-collapse: collapse;\n",
       "  }\n",
       "  th, td {\n",
       "    padding: 5px;\n",
       "  }\n",
       "  th {\n",
       "    text-align: left;\n",
       "  }\n",
       "</style><div class='table-result-container'><table class='table-result'><thead style='background-color: white'><tr><th>Island</th><th>CulmenDepth</th><th>CulmenLength</th><th>FlipperLength</th><th>BodyMass</th><th>PredictedSpecies</th></tr></thead><tbody><tr><td>Biscoe</td><td>14.5</td><td>47.6</td><td>215</td><td>5400</td><td>1.0</td></tr></tbody></table></div>"
      ]
     },
     "metadata": {
      "application/vnd.databricks.v1+output": {
       "addedWidgets": {},
       "aggData": [],
       "aggError": "",
       "aggOverflow": false,
       "aggSchema": [],
       "aggSeriesLimitReached": false,
       "aggType": "",
       "arguments": {},
       "columnCustomDisplayInfos": {},
       "data": [
        [
         "Biscoe",
         14.5,
         47.6,
         215,
         5400,
         1.0
        ]
       ],
       "datasetInfos": [],
       "dbfsResultPath": null,
       "isJsonSchema": true,
       "metadata": {},
       "overflow": false,
       "plotOptions": {
        "customPlotOptions": {},
        "displayType": "table",
        "pivotAggregation": null,
        "pivotColumns": null,
        "xColumns": null,
        "yColumns": null
       },
       "removedWidgets": [],
       "schema": [
        {
         "metadata": "{}",
         "name": "Island",
         "type": "\"string\""
        },
        {
         "metadata": "{}",
         "name": "CulmenDepth",
         "type": "\"double\""
        },
        {
         "metadata": "{}",
         "name": "CulmenLength",
         "type": "\"double\""
        },
        {
         "metadata": "{}",
         "name": "FlipperLength",
         "type": "\"long\""
        },
        {
         "metadata": "{}",
         "name": "BodyMass",
         "type": "\"long\""
        },
        {
         "metadata": "{\"ml_attr\":{\"type\":\"nominal\",\"num_vals\":3}}",
         "name": "PredictedSpecies",
         "type": "\"double\""
        }
       ],
       "type": "table"
      }
     },
     "output_type": "display_data"
    }
   ],
   "source": [
    "from pyspark.ml.pipeline import PipelineModel\n",
    "\n",
    "persistedModel = PipelineModel.load(\"/models/penguin.model\")\n",
    "   \n",
    "newData = spark.createDataFrame ([{\"Island\": \"Biscoe\",\n",
    "                                  \"CulmenLength\": 47.6,\n",
    "                                  \"CulmenDepth\": 14.5,\n",
    "                                  \"FlipperLength\": 215,\n",
    "                                  \"BodyMass\": 5400}])\n",
    "   \n",
    "   \n",
    "predictions = persistedModel.transform(newData)\n",
    "display(predictions.select(\"Island\", \"CulmenDepth\", \"CulmenLength\", \"FlipperLength\", \"BodyMass\", col(\"prediction\").alias(\"PredictedSpecies\")))"
   ]
  }
 ],
 "metadata": {
  "application/vnd.databricks.v1+notebook": {
   "dashboards": [],
   "language": "python",
   "notebookMetadata": {
    "mostRecentlyExecutedCommandWithImplicitDF": {
     "commandId": 2352721967567014,
     "dataframes": [
      "_sqldf"
     ]
    },
    "pythonIndentUnit": 4
   },
   "notebookName": "Get started with Machine Learning",
   "widgets": {}
  }
 },
 "nbformat": 4,
 "nbformat_minor": 0
}
