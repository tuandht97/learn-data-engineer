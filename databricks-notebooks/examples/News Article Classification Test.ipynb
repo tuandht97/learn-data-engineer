{
 "cells": [
  {
   "cell_type": "code",
   "execution_count": 0,
   "metadata": {
    "application/vnd.databricks.v1+cell": {
     "cellMetadata": {
      "byteLimit": 2048000,
      "rowLimit": 10000
     },
     "inputWidgets": {},
     "nuid": "66b9d4cb-436f-4c8a-a25c-7140c1d2ea9d",
     "showTitle": false,
     "title": ""
    }
   },
   "outputs": [
    {
     "output_type": "stream",
     "name": "stderr",
     "output_type": "stream",
     "text": [
      "[nltk_data] Downloading package stopwords to /root/nltk_data...\n[nltk_data]   Package stopwords is already up-to-date!\n[nltk_data] Downloading package wordnet to /root/nltk_data...\n[nltk_data]   Package wordnet is already up-to-date!\n[nltk_data] Downloading package punkt to /root/nltk_data...\n[nltk_data]   Package punkt is already up-to-date!\n"
     ]
    }
   ],
   "source": [
    "import re\n",
    "import nltk\n",
    "import numpy as np\n",
    "import pandas as pd\n",
    "import seaborn as sns\n",
    "import matplotlib.pyplot as plt\n",
    "from nltk.corpus import stopwords\n",
    "nltk.download('stopwords')\n",
    "from nltk.stem import PorterStemmer\n",
    "from nltk.stem import WordNetLemmatizer\n",
    "nltk.download('wordnet')\n",
    "from nltk.tokenize import word_tokenize\n",
    "from nltk.tokenize import sent_tokenize\n",
    "nltk.download('punkt')\n",
    "from wordcloud import WordCloud\n",
    "from sklearn.model_selection import train_test_split\n",
    "from sklearn.feature_extraction.text import CountVectorizer\n",
    "from sklearn.feature_extraction.text import TfidfVectorizer\n",
    "from sklearn.metrics import accuracy_score\n",
    "from sklearn.metrics import confusion_matrix\n",
    "from sklearn.metrics import classification_report\n",
    "from sklearn.metrics import make_scorer, roc_curve, roc_auc_score\n",
    "from sklearn.metrics import precision_recall_fscore_support as score\n",
    "from sklearn.metrics.pairwise import cosine_similarity\n",
    "from sklearn.multiclass import OneVsRestClassifier\n",
    "from sklearn.linear_model import LogisticRegression\n",
    "from sklearn.svm import SVC, LinearSVC\n",
    "from sklearn.tree import DecisionTreeClassifier\n",
    "from sklearn.ensemble import RandomForestClassifier\n",
    "from sklearn.neighbors import KNeighborsClassifier\n",
    "from sklearn.naive_bayes import GaussianNB,MultinomialNB,BernoulliNB"
   ]
  },
  {
   "cell_type": "code",
   "execution_count": 0,
   "metadata": {
    "application/vnd.databricks.v1+cell": {
     "cellMetadata": {
      "byteLimit": 2048000,
      "rowLimit": 10000
     },
     "inputWidgets": {},
     "nuid": "b90e32c0-d5d2-43c0-949f-a9220e2c3b13",
     "showTitle": false,
     "title": ""
    }
   },
   "outputs": [
    {
     "output_type": "execute_result",
     "data": {
      "text/html": [
       "<div>\n",
       "<style scoped>\n",
       "    .dataframe tbody tr th:only-of-type {\n",
       "        vertical-align: middle;\n",
       "    }\n",
       "\n",
       "    .dataframe tbody tr th {\n",
       "        vertical-align: top;\n",
       "    }\n",
       "\n",
       "    .dataframe thead th {\n",
       "        text-align: right;\n",
       "    }\n",
       "</style>\n",
       "<table border=\"1\" class=\"dataframe\">\n",
       "  <thead>\n",
       "    <tr style=\"text-align: right;\">\n",
       "      <th></th>\n",
       "      <th>ArticleId</th>\n",
       "      <th>Text</th>\n",
       "      <th>Category</th>\n",
       "    </tr>\n",
       "  </thead>\n",
       "  <tbody>\n",
       "    <tr>\n",
       "      <th>0</th>\n",
       "      <td>1833</td>\n",
       "      <td>worldcom ex-boss launches defence lawyers defe...</td>\n",
       "      <td>business</td>\n",
       "    </tr>\n",
       "    <tr>\n",
       "      <th>1</th>\n",
       "      <td>154</td>\n",
       "      <td>german business confidence slides german busin...</td>\n",
       "      <td>business</td>\n",
       "    </tr>\n",
       "    <tr>\n",
       "      <th>2</th>\n",
       "      <td>1101</td>\n",
       "      <td>bbc poll indicates economic gloom citizens in ...</td>\n",
       "      <td>business</td>\n",
       "    </tr>\n",
       "    <tr>\n",
       "      <th>3</th>\n",
       "      <td>1976</td>\n",
       "      <td>lifestyle  governs mobile choice  faster  bett...</td>\n",
       "      <td>tech</td>\n",
       "    </tr>\n",
       "    <tr>\n",
       "      <th>4</th>\n",
       "      <td>917</td>\n",
       "      <td>enron bosses in $168m payout eighteen former e...</td>\n",
       "      <td>business</td>\n",
       "    </tr>\n",
       "  </tbody>\n",
       "</table>\n",
       "</div>"
      ],
      "text/plain": [
       "   ArticleId                                               Text  Category\n",
       "0       1833  worldcom ex-boss launches defence lawyers defe...  business\n",
       "1        154  german business confidence slides german busin...  business\n",
       "2       1101  bbc poll indicates economic gloom citizens in ...  business\n",
       "3       1976  lifestyle  governs mobile choice  faster  bett...      tech\n",
       "4        917  enron bosses in $168m payout eighteen former e...  business"
      ]
     },
     "execution_count": 85,
     "metadata": {},
     "output_type": "execute_result"
    }
   ],
   "source": [
    "# reading data\n",
    "import pandas as pd\n",
    "\n",
    "dataset = pd.read_csv('https://raw.githubusercontent.com/Riddhi9570/News-article-classification/main/News.csv', encoding='latin-1')\n",
    "dataset.head()"
   ]
  },
  {
   "cell_type": "code",
   "execution_count": 0,
   "metadata": {
    "application/vnd.databricks.v1+cell": {
     "cellMetadata": {
      "byteLimit": 2048000,
      "rowLimit": 10000
     },
     "inputWidgets": {},
     "nuid": "db445844-6218-4175-bddb-f3034984a103",
     "showTitle": false,
     "title": ""
    }
   },
   "outputs": [
    {
     "output_type": "execute_result",
     "data": {
      "text/plain": [
       "(1490, 3)"
      ]
     },
     "execution_count": 86,
     "metadata": {},
     "output_type": "execute_result"
    }
   ],
   "source": [
    "dataset.shape"
   ]
  },
  {
   "cell_type": "code",
   "execution_count": 0,
   "metadata": {
    "application/vnd.databricks.v1+cell": {
     "cellMetadata": {
      "byteLimit": 2048000,
      "rowLimit": 10000
     },
     "inputWidgets": {},
     "nuid": "2d3b313b-16df-45ee-ba31-33a4b8ed66f8",
     "showTitle": false,
     "title": ""
    }
   },
   "outputs": [
    {
     "output_type": "stream",
     "name": "stdout",
     "output_type": "stream",
     "text": [
      "<class 'pandas.core.frame.DataFrame'>\nRangeIndex: 1490 entries, 0 to 1489\nData columns (total 3 columns):\n #   Column     Non-Null Count  Dtype \n---  ------     --------------  ----- \n 0   ArticleId  1490 non-null   int64 \n 1   Text       1490 non-null   object\n 2   Category   1490 non-null   object\ndtypes: int64(1), object(2)\nmemory usage: 35.0+ KB\n"
     ]
    }
   ],
   "source": [
    "dataset.info()"
   ]
  },
  {
   "cell_type": "code",
   "execution_count": 0,
   "metadata": {
    "application/vnd.databricks.v1+cell": {
     "cellMetadata": {
      "byteLimit": 2048000,
      "rowLimit": 10000
     },
     "inputWidgets": {},
     "nuid": "5b769457-846a-4d43-acf5-e457ae83a748",
     "showTitle": false,
     "title": ""
    }
   },
   "outputs": [
    {
     "output_type": "execute_result",
     "data": {
      "text/plain": [
       "sport            346\n",
       "business         336\n",
       "politics         274\n",
       "entertainment    273\n",
       "tech             261\n",
       "Name: Category, dtype: int64"
      ]
     },
     "execution_count": 88,
     "metadata": {},
     "output_type": "execute_result"
    }
   ],
   "source": [
    "dataset['Category'].value_counts()"
   ]
  },
  {
   "cell_type": "code",
   "execution_count": 0,
   "metadata": {
    "application/vnd.databricks.v1+cell": {
     "cellMetadata": {
      "byteLimit": 2048000,
      "rowLimit": 10000
     },
     "inputWidgets": {},
     "nuid": "94add624-aac4-46bf-8d4f-b37ec99814fb",
     "showTitle": false,
     "title": ""
    }
   },
   "outputs": [
    {
     "output_type": "stream",
     "name": "stdout",
     "output_type": "stream",
     "text": [
      "['business' 'tech' 'politics' 'sport' 'entertainment']\n"
     ]
    }
   ],
   "source": [
    "# To see unique values in column \"Category\"\n",
    "target_category = dataset['Category'].unique()\n",
    "print(target_category)"
   ]
  },
  {
   "cell_type": "code",
   "execution_count": 0,
   "metadata": {
    "application/vnd.databricks.v1+cell": {
     "cellMetadata": {
      "byteLimit": 2048000,
      "rowLimit": 10000
     },
     "inputWidgets": {},
     "nuid": "7772c544-0fb9-4a64-b3d8-359e2e497d1d",
     "showTitle": false,
     "title": ""
    }
   },
   "outputs": [
    {
     "output_type": "execute_result",
     "data": {
      "text/html": [
       "<div>\n",
       "<style scoped>\n",
       "    .dataframe tbody tr th:only-of-type {\n",
       "        vertical-align: middle;\n",
       "    }\n",
       "\n",
       "    .dataframe tbody tr th {\n",
       "        vertical-align: top;\n",
       "    }\n",
       "\n",
       "    .dataframe thead th {\n",
       "        text-align: right;\n",
       "    }\n",
       "</style>\n",
       "<table border=\"1\" class=\"dataframe\">\n",
       "  <thead>\n",
       "    <tr style=\"text-align: right;\">\n",
       "      <th></th>\n",
       "      <th>ArticleId</th>\n",
       "      <th>Text</th>\n",
       "      <th>Category</th>\n",
       "      <th>CategoryId</th>\n",
       "    </tr>\n",
       "  </thead>\n",
       "  <tbody>\n",
       "    <tr>\n",
       "      <th>0</th>\n",
       "      <td>1833</td>\n",
       "      <td>worldcom ex-boss launches defence lawyers defe...</td>\n",
       "      <td>business</td>\n",
       "      <td>0</td>\n",
       "    </tr>\n",
       "    <tr>\n",
       "      <th>1</th>\n",
       "      <td>154</td>\n",
       "      <td>german business confidence slides german busin...</td>\n",
       "      <td>business</td>\n",
       "      <td>0</td>\n",
       "    </tr>\n",
       "    <tr>\n",
       "      <th>2</th>\n",
       "      <td>1101</td>\n",
       "      <td>bbc poll indicates economic gloom citizens in ...</td>\n",
       "      <td>business</td>\n",
       "      <td>0</td>\n",
       "    </tr>\n",
       "    <tr>\n",
       "      <th>3</th>\n",
       "      <td>1976</td>\n",
       "      <td>lifestyle  governs mobile choice  faster  bett...</td>\n",
       "      <td>tech</td>\n",
       "      <td>1</td>\n",
       "    </tr>\n",
       "    <tr>\n",
       "      <th>4</th>\n",
       "      <td>917</td>\n",
       "      <td>enron bosses in $168m payout eighteen former e...</td>\n",
       "      <td>business</td>\n",
       "      <td>0</td>\n",
       "    </tr>\n",
       "  </tbody>\n",
       "</table>\n",
       "</div>"
      ],
      "text/plain": [
       "   ArticleId  ... CategoryId\n",
       "0       1833  ...          0\n",
       "1        154  ...          0\n",
       "2       1101  ...          0\n",
       "3       1976  ...          1\n",
       "4        917  ...          0\n",
       "\n",
       "[5 rows x 4 columns]"
      ]
     },
     "execution_count": 90,
     "metadata": {},
     "output_type": "execute_result"
    }
   ],
   "source": [
    "# Represent Category names with numerical index and save it in a new column \"CategoryId\"\n",
    "dataset['CategoryId'] = dataset['Category'].factorize()[0]\n",
    "dataset.head()"
   ]
  },
  {
   "cell_type": "code",
   "execution_count": 0,
   "metadata": {
    "application/vnd.databricks.v1+cell": {
     "cellMetadata": {
      "byteLimit": 2048000,
      "rowLimit": 10000
     },
     "inputWidgets": {},
     "nuid": "abc57364-bf36-461c-b5a2-341e0395ea3e",
     "showTitle": false,
     "title": ""
    }
   },
   "outputs": [
    {
     "output_type": "stream",
     "name": "stdout",
     "output_type": "stream",
     "text": [
      "        Category  CategoryId\n0       business           0\n3           tech           1\n5       politics           2\n6          sport           3\n7  entertainment           4\n"
     ]
    }
   ],
   "source": [
    "# Create a new pandas dataframe \"category\", which only has unique categories, and sort this list in order of \"CategoryId\" values\n",
    "category = dataset[['Category', 'CategoryId']].drop_duplicates().sort_values('CategoryId')\n",
    "print(category)"
   ]
  },
  {
   "cell_type": "code",
   "execution_count": 0,
   "metadata": {
    "application/vnd.databricks.v1+cell": {
     "cellMetadata": {
      "byteLimit": 2048000,
      "rowLimit": 10000
     },
     "inputWidgets": {},
     "nuid": "2ed260c6-04bb-45a0-8bc0-2ee42a65eb0e",
     "showTitle": false,
     "title": ""
    }
   },
   "outputs": [
    {
     "output_type": "display_data",
     "data": {
      "image/png": "[encoded data removed]",
      "text/plain": [
       "<Figure size 640x480 with 1 Axes>"
      ]
     },
     "metadata": {},
     "output_type": "display_data"
    }
   ],
   "source": [
    "dataset.groupby('Category').CategoryId.value_counts().plot(kind = \"bar\", color = [\"green\", \"yellow\", \"red\", \"grey\", \"blue\"])\n",
    "plt.xlabel(\"Category of data\")\n",
    "plt.ylabel(\"Numbers of each Category\")\n",
    "plt.title(\"Visulaize numbers of Category of data\")\n",
    "plt.show()"
   ]
  },
  {
   "cell_type": "code",
   "execution_count": 0,
   "metadata": {
    "application/vnd.databricks.v1+cell": {
     "cellMetadata": {
      "byteLimit": 2048000,
      "rowLimit": 10000
     },
     "inputWidgets": {},
     "nuid": "987c7cd7-ff98-43e8-8614-70f4e191ba2e",
     "showTitle": false,
     "title": ""
    }
   },
   "outputs": [
    {
     "output_type": "display_data",
     "data": {
      "image/png": "[encoded data removed]",
      "text/plain": [
       "<Figure size 500x500 with 1 Axes>"
      ]
     },
     "metadata": {},
     "output_type": "display_data"
    }
   ],
   "source": [
    "fig = plt.figure(figsize = (5,5))\n",
    "colors = [\"skyblue\"]\n",
    "business = dataset[dataset['CategoryId'] == 0 ]\n",
    "tech = dataset[dataset['CategoryId'] == 1 ]\n",
    "politics = dataset[dataset['CategoryId'] == 2]\n",
    "sport = dataset[dataset['CategoryId'] == 3]\n",
    "entertainment = dataset[dataset['CategoryId'] == 4]\n",
    "count = [business['CategoryId'].count(), tech['CategoryId'].count(), politics['CategoryId'].count(), sport['CategoryId'].count(), entertainment['CategoryId'].count()]\n",
    "pie = plt.pie(count, labels = ['business', 'tech', 'politics', 'sport', 'entertainment'],\n",
    "              autopct = \"%1.1f%%\",\n",
    "              shadow = True,\n",
    "              colors = colors,\n",
    "              startangle = 45,\n",
    "              explode = (0.05, 0.05, 0.05, 0.05,0.05))"
   ]
  },
  {
   "cell_type": "code",
   "execution_count": 0,
   "metadata": {
    "application/vnd.databricks.v1+cell": {
     "cellMetadata": {
      "byteLimit": 2048000,
      "rowLimit": 10000
     },
     "inputWidgets": {},
     "nuid": "90e366c4-3e14-45b7-a4f2-5dc637c42e6a",
     "showTitle": false,
     "title": ""
    }
   },
   "outputs": [],
   "source": [
    "stop = set(stopwords.words('english'))\n",
    "business = dataset[dataset['CategoryId'] == 0]\n",
    "business = business['Text']\n",
    "tech = dataset[dataset['CategoryId'] == 1]\n",
    "tech = tech['Text']\n",
    "politics = dataset[dataset['CategoryId'] == 2]\n",
    "politics = politics['Text']\n",
    "sport = dataset[dataset['CategoryId'] == 3]\n",
    "sport = sport['Text']\n",
    "entertainment = dataset[dataset['CategoryId'] == 4]\n",
    "entertainment = entertainment['Text']\n",
    "\n",
    "def wordcloud_draw(dataset, color = 'white'):\n",
    "    words = ' '.join(dataset)\n",
    "    cleaned_word = ' '.join([word for word in words.split()\n",
    "    if (word != 'news' and word != 'text')])\n",
    "    wordcloud = WordCloud(stopwords = stop, background_color = color,  width = 2500, height = 2500).generate(cleaned_word)\n",
    "    plt.figure(1, figsize = (10,7))\n",
    "    plt.imshow(wordcloud)\n",
    "    plt.axis(\"off\")\n",
    "    plt.show()\n",
    "\n",
    "print(\"business related words:\")\n",
    "wordcloud_draw(business, 'white')\n",
    "print(\"tech related words:\")\n",
    "wordcloud_draw(tech, 'white')\n",
    "print(\"politics related words:\")\n",
    "wordcloud_draw(politics, 'white')\n",
    "print(\"sport related words:\")\n",
    "wordcloud_draw(sport, 'white')\n",
    "print(\"entertainment related words:\")\n",
    "wordcloud_draw(entertainment, 'white')"
   ]
  },
  {
   "cell_type": "code",
   "execution_count": 0,
   "metadata": {
    "application/vnd.databricks.v1+cell": {
     "cellMetadata": {
      "byteLimit": 2048000,
      "rowLimit": 10000
     },
     "inputWidgets": {},
     "nuid": "37aedbfa-dd53-43e1-b651-203def4117cd",
     "showTitle": false,
     "title": ""
    }
   },
   "outputs": [
    {
     "output_type": "execute_result",
     "data": {
      "text/plain": [
       "0     worldcom ex-boss launches defence lawyers defe...\n",
       "1     german business confidence slides german busin...\n",
       "2     bbc poll indicates economic gloom citizens in ...\n",
       "3     lifestyle  governs mobile choice  faster  bett...\n",
       "4     enron bosses in $168m payout eighteen former e...\n",
       "5     howard  truanted to play snooker  conservative...\n",
       "6     wales silent on grand slam talk rhys williams ...\n",
       "7     french honour for director parker british film...\n",
       "8     car giant hit by mercedes slump a slump in pro...\n",
       "9     fockers fuel festive film chart comedy meet th...\n",
       "10    blair rejects iraq advice calls tony blair has...\n",
       "11    housewives lift channel 4 ratings the debut of...\n",
       "12    uk coal plunges into deeper loss shares in uk ...\n",
       "13    bp surges ahead on high oil price oil giant bp...\n",
       "14    ireland 21-19 argentina an injury-time dropped...\n",
       "Name: Text, dtype: object"
      ]
     },
     "execution_count": 95,
     "metadata": {},
     "output_type": "execute_result"
    }
   ],
   "source": [
    "text = dataset[\"Text\"]\n",
    "text.head(15)"
   ]
  },
  {
   "cell_type": "code",
   "execution_count": 0,
   "metadata": {
    "application/vnd.databricks.v1+cell": {
     "cellMetadata": {
      "byteLimit": 2048000,
      "rowLimit": 10000
     },
     "inputWidgets": {},
     "nuid": "7e688762-489e-42c1-9de0-71e3b60b2db4",
     "showTitle": false,
     "title": ""
    }
   },
   "outputs": [
    {
     "output_type": "execute_result",
     "data": {
      "text/plain": [
       "0          business\n",
       "1          business\n",
       "2          business\n",
       "3              tech\n",
       "4          business\n",
       "5          politics\n",
       "6             sport\n",
       "7     entertainment\n",
       "8          business\n",
       "9     entertainment\n",
       "10         politics\n",
       "11    entertainment\n",
       "12         business\n",
       "13         business\n",
       "14            sport\n",
       "Name: Category, dtype: object"
      ]
     },
     "execution_count": 96,
     "metadata": {},
     "output_type": "execute_result"
    }
   ],
   "source": [
    "category = dataset['Category']\n",
    "category.head(15)"
   ]
  },
  {
   "cell_type": "code",
   "execution_count": 0,
   "metadata": {
    "application/vnd.databricks.v1+cell": {
     "cellMetadata": {
      "byteLimit": 2048000,
      "rowLimit": 10000
     },
     "inputWidgets": {},
     "nuid": "b2d9b86e-d507-4805-888e-dd896aab697e",
     "showTitle": false,
     "title": ""
    }
   },
   "outputs": [
    {
     "output_type": "execute_result",
     "data": {
      "text/plain": [
       "'worldcom ex-boss launches defence lawyers defending former worldcom chief bernie ebbers against a battery of fraud charges have called a company whistleblower as their first witness.  cynthia cooper  worldcom s ex-head of internal accounting  alerted directors to irregular accounting practices at the us telecoms giant in 2002. her warnings led to the collapse of the firm following the discovery of an $11bn (Â£5.7bn) accounting fraud. mr ebbers has pleaded not guilty to charges of fraud and conspiracy.  prosecution lawyers have argued that mr ebbers orchestrated a series of accounting tricks at worldcom  ordering employees to hide expenses and inflate revenues to meet wall street earnings estimates. but ms cooper  who now runs her own consulting business  told a jury in new york on wednesday that external auditors arthur andersen had approved worldcom s accounting in early 2001 and 2002. she said andersen had given a  green light  to the procedures and practices used by worldcom. mr ebber s lawyers have said he was unaware of the fraud  arguing that auditors did not alert him to any problems.  ms cooper also said that during shareholder meetings mr ebbers often passed over technical questions to the company s finance chief  giving only  brief  answers himself. the prosecution s star witness  former worldcom financial chief scott sullivan  has said that mr ebbers ordered accounting adjustments at the firm  telling him to  hit our books . however  ms cooper said mr sullivan had not mentioned  anything uncomfortable  about worldcom s accounting during a 2001 audit committee meeting. mr ebbers could face a jail sentence of 85 years if convicted of all the charges he is facing. worldcom emerged from bankruptcy protection in 2004  and is now known as mci. last week  mci agreed to a buyout by verizon communications in a deal valued at $6.75bn.'"
      ]
     },
     "execution_count": 97,
     "metadata": {},
     "output_type": "execute_result"
    }
   ],
   "source": [
    "dataset['Text'][0]"
   ]
  },
  {
   "cell_type": "code",
   "execution_count": 0,
   "metadata": {
    "application/vnd.databricks.v1+cell": {
     "cellMetadata": {
      "byteLimit": 2048000,
      "rowLimit": 10000
     },
     "inputWidgets": {},
     "nuid": "d8fa6b7e-d299-481f-841d-e14d716b6439",
     "showTitle": false,
     "title": ""
    }
   },
   "outputs": [
    {
     "output_type": "execute_result",
     "data": {
      "text/plain": [
       "'worldcom ex-boss launches defence lawyers defending former worldcom chief bernie ebbers against a battery of fraud charges have called a company whistleblower as their first witness.  cynthia cooper  worldcom s ex-head of internal accounting  alerted directors to irregular accounting practices at the us telecoms giant in 2002. her warnings led to the collapse of the firm following the discovery of an $11bn (Â£5.7bn) accounting fraud. mr ebbers has pleaded not guilty to charges of fraud and conspiracy.  prosecution lawyers have argued that mr ebbers orchestrated a series of accounting tricks at worldcom  ordering employees to hide expenses and inflate revenues to meet wall street earnings estimates. but ms cooper  who now runs her own consulting business  told a jury in new york on wednesday that external auditors arthur andersen had approved worldcom s accounting in early 2001 and 2002. she said andersen had given a  green light  to the procedures and practices used by worldcom. mr ebber s lawyers have said he was unaware of the fraud  arguing that auditors did not alert him to any problems.  ms cooper also said that during shareholder meetings mr ebbers often passed over technical questions to the company s finance chief  giving only  brief  answers himself. the prosecution s star witness  former worldcom financial chief scott sullivan  has said that mr ebbers ordered accounting adjustments at the firm  telling him to  hit our books . however  ms cooper said mr sullivan had not mentioned  anything uncomfortable  about worldcom s accounting during a 2001 audit committee meeting. mr ebbers could face a jail sentence of 85 years if convicted of all the charges he is facing. worldcom emerged from bankruptcy protection in 2004  and is now known as mci. last week  mci agreed to a buyout by verizon communications in a deal valued at $6.75bn.'"
      ]
     },
     "execution_count": 98,
     "metadata": {},
     "output_type": "execute_result"
    }
   ],
   "source": [
    "def remove_tags(text):\n",
    "  remove = re.compile(r'<.*?>')\n",
    "  return re.sub(remove, '', text)\n",
    "\n",
    "dataset['Text'] = dataset['Text'].apply(remove_tags)\n",
    "dataset['Text'][0]"
   ]
  },
  {
   "cell_type": "code",
   "execution_count": 0,
   "metadata": {
    "application/vnd.databricks.v1+cell": {
     "cellMetadata": {
      "byteLimit": 2048000,
      "rowLimit": 10000
     },
     "inputWidgets": {},
     "nuid": "fd5db2f7-0bba-46a1-9128-a8bc73a2b316",
     "showTitle": false,
     "title": ""
    }
   },
   "outputs": [
    {
     "output_type": "execute_result",
     "data": {
      "text/plain": [
       "'worldcom ex boss launches defence lawyers defending former worldcom chief bernie ebbers against a battery of fraud charges have called a company whistleblower as their first witness   cynthia cooper  worldcom s ex head of internal accounting  alerted directors to irregular accounting practices at the us telecoms giant in 2002  her warnings led to the collapse of the firm following the discovery of an  11bn  Â 5 7bn  accounting fraud  mr ebbers has pleaded not guilty to charges of fraud and conspiracy   prosecution lawyers have argued that mr ebbers orchestrated a series of accounting tricks at worldcom  ordering employees to hide expenses and inflate revenues to meet wall street earnings estimates  but ms cooper  who now runs her own consulting business  told a jury in new york on wednesday that external auditors arthur andersen had approved worldcom s accounting in early 2001 and 2002  she said andersen had given a  green light  to the procedures and practices used by worldcom  mr ebber s lawyers have said he was unaware of the fraud  arguing that auditors did not alert him to any problems   ms cooper also said that during shareholder meetings mr ebbers often passed over technical questions to the company s finance chief  giving only  brief  answers himself  the prosecution s star witness  former worldcom financial chief scott sullivan  has said that mr ebbers ordered accounting adjustments at the firm  telling him to  hit our books   however  ms cooper said mr sullivan had not mentioned  anything uncomfortable  about worldcom s accounting during a 2001 audit committee meeting  mr ebbers could face a jail sentence of 85 years if convicted of all the charges he is facing  worldcom emerged from bankruptcy protection in 2004  and is now known as mci  last week  mci agreed to a buyout by verizon communications in a deal valued at  6 75bn '"
      ]
     },
     "execution_count": 99,
     "metadata": {},
     "output_type": "execute_result"
    }
   ],
   "source": [
    "def special_char(text):\n",
    "    reviews = ''\n",
    "    for x in text:\n",
    "        if x.isalnum():\n",
    "            reviews = reviews + x\n",
    "        else:\n",
    "            reviews = reviews + ' '\n",
    "    return reviews\n",
    "dataset['Text'] = dataset['Text'].apply(special_char)\n",
    "dataset['Text'][0]"
   ]
  },
  {
   "cell_type": "code",
   "execution_count": 0,
   "metadata": {
    "application/vnd.databricks.v1+cell": {
     "cellMetadata": {
      "byteLimit": 2048000,
      "rowLimit": 10000
     },
     "inputWidgets": {},
     "nuid": "1859b07b-aa70-42c1-8d09-fea98f674389",
     "showTitle": false,
     "title": ""
    }
   },
   "outputs": [
    {
     "output_type": "execute_result",
     "data": {
      "text/plain": [
       "'worldcom ex boss launches defence lawyers defending former worldcom chief bernie ebbers against a battery of fraud charges have called a company whistleblower as their first witness   cynthia cooper  worldcom s ex head of internal accounting  alerted directors to irregular accounting practices at the us telecoms giant in 2002  her warnings led to the collapse of the firm following the discovery of an  11bn  â 5 7bn  accounting fraud  mr ebbers has pleaded not guilty to charges of fraud and conspiracy   prosecution lawyers have argued that mr ebbers orchestrated a series of accounting tricks at worldcom  ordering employees to hide expenses and inflate revenues to meet wall street earnings estimates  but ms cooper  who now runs her own consulting business  told a jury in new york on wednesday that external auditors arthur andersen had approved worldcom s accounting in early 2001 and 2002  she said andersen had given a  green light  to the procedures and practices used by worldcom  mr ebber s lawyers have said he was unaware of the fraud  arguing that auditors did not alert him to any problems   ms cooper also said that during shareholder meetings mr ebbers often passed over technical questions to the company s finance chief  giving only  brief  answers himself  the prosecution s star witness  former worldcom financial chief scott sullivan  has said that mr ebbers ordered accounting adjustments at the firm  telling him to  hit our books   however  ms cooper said mr sullivan had not mentioned  anything uncomfortable  about worldcom s accounting during a 2001 audit committee meeting  mr ebbers could face a jail sentence of 85 years if convicted of all the charges he is facing  worldcom emerged from bankruptcy protection in 2004  and is now known as mci  last week  mci agreed to a buyout by verizon communications in a deal valued at  6 75bn '"
      ]
     },
     "execution_count": 100,
     "metadata": {},
     "output_type": "execute_result"
    }
   ],
   "source": [
    "def convert_lower(text):\n",
    "    return text.lower()\n",
    "dataset['Text'] = dataset['Text'].apply(convert_lower)\n",
    "dataset['Text'][0]"
   ]
  },
  {
   "cell_type": "code",
   "execution_count": 0,
   "metadata": {
    "application/vnd.databricks.v1+cell": {
     "cellMetadata": {
      "byteLimit": 2048000,
      "rowLimit": 10000
     },
     "inputWidgets": {},
     "nuid": "9b0f962d-3cb7-428c-8be1-5d3c0f4d5482",
     "showTitle": false,
     "title": ""
    }
   },
   "outputs": [
    {
     "output_type": "execute_result",
     "data": {
      "text/plain": [
       "['worldcom',\n",
       " 'ex',\n",
       " 'boss',\n",
       " 'launches',\n",
       " 'defence',\n",
       " 'lawyers',\n",
       " 'defending',\n",
       " 'former',\n",
       " 'worldcom',\n",
       " 'chief',\n",
       " 'bernie',\n",
       " 'ebbers',\n",
       " 'battery',\n",
       " 'fraud',\n",
       " 'charges',\n",
       " 'called',\n",
       " 'company',\n",
       " 'whistleblower',\n",
       " 'first',\n",
       " 'witness',\n",
       " 'cynthia',\n",
       " 'cooper',\n",
       " 'worldcom',\n",
       " 'ex',\n",
       " 'head',\n",
       " 'internal',\n",
       " 'accounting',\n",
       " 'alerted',\n",
       " 'directors',\n",
       " 'irregular',\n",
       " 'accounting',\n",
       " 'practices',\n",
       " 'us',\n",
       " 'telecoms',\n",
       " 'giant',\n",
       " '2002',\n",
       " 'warnings',\n",
       " 'led',\n",
       " 'collapse',\n",
       " 'firm',\n",
       " 'following',\n",
       " 'discovery',\n",
       " '11bn',\n",
       " 'â',\n",
       " '5',\n",
       " '7bn',\n",
       " 'accounting',\n",
       " 'fraud',\n",
       " 'mr',\n",
       " 'ebbers',\n",
       " 'pleaded',\n",
       " 'guilty',\n",
       " 'charges',\n",
       " 'fraud',\n",
       " 'conspiracy',\n",
       " 'prosecution',\n",
       " 'lawyers',\n",
       " 'argued',\n",
       " 'mr',\n",
       " 'ebbers',\n",
       " 'orchestrated',\n",
       " 'series',\n",
       " 'accounting',\n",
       " 'tricks',\n",
       " 'worldcom',\n",
       " 'ordering',\n",
       " 'employees',\n",
       " 'hide',\n",
       " 'expenses',\n",
       " 'inflate',\n",
       " 'revenues',\n",
       " 'meet',\n",
       " 'wall',\n",
       " 'street',\n",
       " 'earnings',\n",
       " 'estimates',\n",
       " 'ms',\n",
       " 'cooper',\n",
       " 'runs',\n",
       " 'consulting',\n",
       " 'business',\n",
       " 'told',\n",
       " 'jury',\n",
       " 'new',\n",
       " 'york',\n",
       " 'wednesday',\n",
       " 'external',\n",
       " 'auditors',\n",
       " 'arthur',\n",
       " 'andersen',\n",
       " 'approved',\n",
       " 'worldcom',\n",
       " 'accounting',\n",
       " 'early',\n",
       " '2001',\n",
       " '2002',\n",
       " 'said',\n",
       " 'andersen',\n",
       " 'given',\n",
       " 'green',\n",
       " 'light',\n",
       " 'procedures',\n",
       " 'practices',\n",
       " 'used',\n",
       " 'worldcom',\n",
       " 'mr',\n",
       " 'ebber',\n",
       " 'lawyers',\n",
       " 'said',\n",
       " 'unaware',\n",
       " 'fraud',\n",
       " 'arguing',\n",
       " 'auditors',\n",
       " 'alert',\n",
       " 'problems',\n",
       " 'ms',\n",
       " 'cooper',\n",
       " 'also',\n",
       " 'said',\n",
       " 'shareholder',\n",
       " 'meetings',\n",
       " 'mr',\n",
       " 'ebbers',\n",
       " 'often',\n",
       " 'passed',\n",
       " 'technical',\n",
       " 'questions',\n",
       " 'company',\n",
       " 'finance',\n",
       " 'chief',\n",
       " 'giving',\n",
       " 'brief',\n",
       " 'answers',\n",
       " 'prosecution',\n",
       " 'star',\n",
       " 'witness',\n",
       " 'former',\n",
       " 'worldcom',\n",
       " 'financial',\n",
       " 'chief',\n",
       " 'scott',\n",
       " 'sullivan',\n",
       " 'said',\n",
       " 'mr',\n",
       " 'ebbers',\n",
       " 'ordered',\n",
       " 'accounting',\n",
       " 'adjustments',\n",
       " 'firm',\n",
       " 'telling',\n",
       " 'hit',\n",
       " 'books',\n",
       " 'however',\n",
       " 'ms',\n",
       " 'cooper',\n",
       " 'said',\n",
       " 'mr',\n",
       " 'sullivan',\n",
       " 'mentioned',\n",
       " 'anything',\n",
       " 'uncomfortable',\n",
       " 'worldcom',\n",
       " 'accounting',\n",
       " '2001',\n",
       " 'audit',\n",
       " 'committee',\n",
       " 'meeting',\n",
       " 'mr',\n",
       " 'ebbers',\n",
       " 'could',\n",
       " 'face',\n",
       " 'jail',\n",
       " 'sentence',\n",
       " '85',\n",
       " 'years',\n",
       " 'convicted',\n",
       " 'charges',\n",
       " 'facing',\n",
       " 'worldcom',\n",
       " 'emerged',\n",
       " 'bankruptcy',\n",
       " 'protection',\n",
       " '2004',\n",
       " 'known',\n",
       " 'mci',\n",
       " 'last',\n",
       " 'week',\n",
       " 'mci',\n",
       " 'agreed',\n",
       " 'buyout',\n",
       " 'verizon',\n",
       " 'communications',\n",
       " 'deal',\n",
       " 'valued',\n",
       " '6',\n",
       " '75bn']"
      ]
     },
     "execution_count": 101,
     "metadata": {},
     "output_type": "execute_result"
    }
   ],
   "source": [
    "def remove_stopwords(text):\n",
    "    stop_words = set(stopwords.words('english'))\n",
    "    words = word_tokenize(text)\n",
    "    return [x for x in words if x not in stop_words]\n",
    "dataset['Text'] = dataset['Text'].apply(remove_stopwords)\n",
    "dataset['Text'][0]"
   ]
  },
  {
   "cell_type": "code",
   "execution_count": 0,
   "metadata": {
    "application/vnd.databricks.v1+cell": {
     "cellMetadata": {
      "byteLimit": 2048000,
      "rowLimit": 10000
     },
     "inputWidgets": {},
     "nuid": "ebc534e7-f60b-4a57-96aa-6395136e44d1",
     "showTitle": false,
     "title": ""
    }
   },
   "outputs": [
    {
     "output_type": "stream",
     "name": "stderr",
     "output_type": "stream",
     "text": [
      "[nltk_data] Downloading package omw-1.4 to /root/nltk_data...\n[nltk_data]   Package omw-1.4 is already up-to-date!\n"
     ]
    },
    {
     "output_type": "execute_result",
     "data": {
      "text/plain": [
       "'worldcom ex bos launch defence lawyer defending former worldcom chief bernie ebbers battery fraud charge called company whistleblower first witness cynthia cooper worldcom ex head internal accounting alerted director irregular accounting practice u telecom giant 2002 warning led collapse firm following discovery 11bn â 5 7bn accounting fraud mr ebbers pleaded guilty charge fraud conspiracy prosecution lawyer argued mr ebbers orchestrated series accounting trick worldcom ordering employee hide expense inflate revenue meet wall street earnings estimate m cooper run consulting business told jury new york wednesday external auditor arthur andersen approved worldcom accounting early 2001 2002 said andersen given green light procedure practice used worldcom mr ebber lawyer said unaware fraud arguing auditor alert problem m cooper also said shareholder meeting mr ebbers often passed technical question company finance chief giving brief answer prosecution star witness former worldcom financial chief scott sullivan said mr ebbers ordered accounting adjustment firm telling hit book however m cooper said mr sullivan mentioned anything uncomfortable worldcom accounting 2001 audit committee meeting mr ebbers could face jail sentence 85 year convicted charge facing worldcom emerged bankruptcy protection 2004 known mci last week mci agreed buyout verizon communication deal valued 6 75bn'"
      ]
     },
     "execution_count": 102,
     "metadata": {},
     "output_type": "execute_result"
    }
   ],
   "source": [
    "import nltk\n",
    "nltk.download('omw-1.4')\n",
    "\n",
    "def lemmatize_word(text):\n",
    "    wordnet = WordNetLemmatizer()\n",
    "    return \" \".join([wordnet.lemmatize(word) for word in text])\n",
    "dataset['Text'] = dataset['Text'].apply(lemmatize_word)\n",
    "dataset['Text'][0]"
   ]
  },
  {
   "cell_type": "code",
   "execution_count": 0,
   "metadata": {
    "application/vnd.databricks.v1+cell": {
     "cellMetadata": {
      "byteLimit": 2048000,
      "rowLimit": 10000
     },
     "inputWidgets": {},
     "nuid": "3c12b2c7-b5cb-498a-b63e-24d6bf0df390",
     "showTitle": false,
     "title": ""
    }
   },
   "outputs": [],
   "source": [
    "x = dataset['Text']\n",
    "y = dataset['CategoryId']"
   ]
  },
  {
   "cell_type": "code",
   "execution_count": 0,
   "metadata": {
    "application/vnd.databricks.v1+cell": {
     "cellMetadata": {
      "byteLimit": 2048000,
      "rowLimit": 10000
     },
     "inputWidgets": {},
     "nuid": "371ab16f-a8f1-4bd0-8b15-26f88b41c382",
     "showTitle": false,
     "title": ""
    }
   },
   "outputs": [
    {
     "output_type": "stream",
     "name": "stdout",
     "output_type": "stream",
     "text": [
      "X.shape =  (1490, 5000)\ny.shape =  (1490,)\n"
     ]
    }
   ],
   "source": [
    "x = np.array(dataset.iloc[:,0].values)\n",
    "y = np.array(dataset.CategoryId.values)\n",
    "\n",
    "cv = CountVectorizer(max_features = 5000)\n",
    "x = cv.fit_transform(dataset.Text).toarray()\n",
    "\n",
    "print(\"X.shape = \",x.shape)\n",
    "print(\"y.shape = \",y.shape)"
   ]
  },
  {
   "cell_type": "code",
   "execution_count": 0,
   "metadata": {
    "application/vnd.databricks.v1+cell": {
     "cellMetadata": {
      "byteLimit": 2048000,
      "rowLimit": 10000
     },
     "inputWidgets": {},
     "nuid": "43d8ce93-988c-4a8c-9897-5941eb0b4da3",
     "showTitle": false,
     "title": ""
    }
   },
   "outputs": [
    {
     "output_type": "stream",
     "name": "stdout",
     "output_type": "stream",
     "text": [
      "x:\n [[0 0 0 ... 0 0 0]\n [0 0 0 ... 0 0 0]\n [1 0 0 ... 0 0 0]\n ...\n [0 0 0 ... 0 0 0]\n [0 0 0 ... 0 0 0]\n [1 0 0 ... 0 0 0]]\ny:\n [0 0 0 ... 0 1 1]\n"
     ]
    }
   ],
   "source": [
    "print(\"x:\\n\", x)\n",
    "print(\"y:\\n\", y)"
   ]
  },
  {
   "cell_type": "code",
   "execution_count": 0,
   "metadata": {
    "application/vnd.databricks.v1+cell": {
     "cellMetadata": {
      "byteLimit": 2048000,
      "rowLimit": 10000
     },
     "inputWidgets": {},
     "nuid": "5b34c29a-abb4-44df-83aa-757b7af784a8",
     "showTitle": false,
     "title": ""
    }
   },
   "outputs": [
    {
     "output_type": "stream",
     "name": "stdout",
     "output_type": "stream",
     "text": [
      "1043\n447\n"
     ]
    }
   ],
   "source": [
    "x_train, x_test, y_train, y_test = train_test_split(x, y, test_size = 0.3, random_state = 0, shuffle = True)\n",
    "\n",
    "print(len(x_train))\n",
    "print(len(x_test))"
   ]
  },
  {
   "cell_type": "code",
   "execution_count": 0,
   "metadata": {
    "application/vnd.databricks.v1+cell": {
     "cellMetadata": {
      "byteLimit": 2048000,
      "rowLimit": 10000
     },
     "inputWidgets": {},
     "nuid": "65d8896e-80f4-4e6b-9618-97337b93aae6",
     "showTitle": false,
     "title": ""
    }
   },
   "outputs": [
    {
     "output_type": "stream",
     "name": "stdout",
     "output_type": "stream",
     "text": [
      "[[0 0 0 ... 0 0 0]\n [0 0 0 ... 0 0 0]\n [0 0 0 ... 0 0 0]\n ...\n [0 0 0 ... 0 0 0]\n [2 0 0 ... 0 0 0]\n [1 0 0 ... 0 0 0]]\n"
     ]
    }
   ],
   "source": [
    "print(x_train)"
   ]
  },
  {
   "cell_type": "code",
   "execution_count": 0,
   "metadata": {
    "application/vnd.databricks.v1+cell": {
     "cellMetadata": {
      "byteLimit": 2048000,
      "rowLimit": 10000
     },
     "inputWidgets": {},
     "nuid": "242dac18-fe50-4b41-a150-1a933730ba0a",
     "showTitle": false,
     "title": ""
    }
   },
   "outputs": [
    {
     "output_type": "stream",
     "name": "stdout",
     "output_type": "stream",
     "text": [
      "[3 1 3 ... 4 0 1]\n"
     ]
    }
   ],
   "source": [
    "print(y_train)"
   ]
  },
  {
   "cell_type": "code",
   "execution_count": 0,
   "metadata": {
    "application/vnd.databricks.v1+cell": {
     "cellMetadata": {
      "byteLimit": 2048000,
      "rowLimit": 10000
     },
     "inputWidgets": {},
     "nuid": "171d1739-cafe-4840-8e08-f613fd9b071a",
     "showTitle": false,
     "title": ""
    }
   },
   "outputs": [],
   "source": [
    "# Create list of model and accuracy dictionary\n",
    "perform_list = [ ]"
   ]
  },
  {
   "cell_type": "code",
   "execution_count": 0,
   "metadata": {
    "application/vnd.databricks.v1+cell": {
     "cellMetadata": {
      "byteLimit": 2048000,
      "rowLimit": 10000
     },
     "inputWidgets": {},
     "nuid": "a30db566-d948-4685-9661-e43be7c7c98f",
     "showTitle": false,
     "title": ""
    }
   },
   "outputs": [],
   "source": [
    "def run_model(model_name, est_c, est_pnlty):\n",
    "    mdl = \"\"\n",
    "    if model_name == 'Logistic Regression':\n",
    "        mdl = LogisticRegression()\n",
    "    elif model_name == 'Random Forest':\n",
    "        mdl = RandomForestClassifier(n_estimators=100 ,criterion='entropy' , random_state=0)\n",
    "    elif model_name == 'Multinomial Naive Bayes':\n",
    "        mdl = MultinomialNB(alpha=1.0,fit_prior=True)\n",
    "    elif model_name == 'Support Vector Classifer':\n",
    "        mdl = SVC()\n",
    "    elif model_name == 'Decision Tree Classifier':\n",
    "        mdl = DecisionTreeClassifier()\n",
    "    elif model_name == 'K Nearest Neighbour':\n",
    "        mdl = KNeighborsClassifier(n_neighbors=10 , metric= 'minkowski' , p = 4)\n",
    "    elif model_name == 'Gaussian Naive Bayes':\n",
    "        mdl = GaussianNB()\n",
    "    oneVsRest = OneVsRestClassifier(mdl)\n",
    "    oneVsRest.fit(x_train, y_train)\n",
    "    y_pred = oneVsRest.predict(x_test)\n",
    "    \n",
    "    # Performance metrics\n",
    "    accuracy = round(accuracy_score(y_test, y_pred) * 100, 2)\n",
    "    \n",
    "    # Get precision, recall, f1 scores\n",
    "    precision, recall, f1score, support = score(y_test, y_pred, average='micro')\n",
    "    print(f'Test Accuracy Score of Basic {model_name}: % {accuracy}')\n",
    "    print(f'Precision : {precision}')\n",
    "    print(f'Recall : {recall}')\n",
    "    print(f'F1-score : {f1score}')\n",
    "    \n",
    "    # Add performance parameters to list\n",
    "    perform_list.append(dict([('Model', model_name),('Test Accuracy', round(accuracy, 2)),('Precision', round(precision, 2)),('Recall', round(recall, 2)),('F1', round(f1score, 2))]))"
   ]
  },
  {
   "cell_type": "code",
   "execution_count": 0,
   "metadata": {
    "application/vnd.databricks.v1+cell": {
     "cellMetadata": {
      "byteLimit": 2048000,
      "rowLimit": 10000
     },
     "inputWidgets": {},
     "nuid": "73f041c4-ef1b-4d95-82e8-59a7904ebee5",
     "showTitle": false,
     "title": ""
    }
   },
   "outputs": [
    {
     "output_type": "stream",
     "name": "stdout",
     "output_type": "stream",
     "text": [
      "Test Accuracy Score of Basic Logistic Regression: % 97.09\nPrecision : 0.970917225950783\nRecall : 0.970917225950783\nF1-score : 0.9709172259507831\n"
     ]
    }
   ],
   "source": [
    "run_model('Logistic Regression', est_c=None, est_pnlty=None)"
   ]
  },
  {
   "cell_type": "code",
   "execution_count": 0,
   "metadata": {
    "application/vnd.databricks.v1+cell": {
     "cellMetadata": {
      "byteLimit": 2048000,
      "rowLimit": 10000
     },
     "inputWidgets": {},
     "nuid": "f6b04ff8-e3a3-4caf-a01a-fa77716604fd",
     "showTitle": false,
     "title": ""
    }
   },
   "outputs": [
    {
     "output_type": "stream",
     "name": "stdout",
     "output_type": "stream",
     "text": [
      "Test Accuracy Score of Basic Random Forest: % 97.99\nPrecision : 0.9798657718120806\nRecall : 0.9798657718120806\nF1-score : 0.9798657718120806\n"
     ]
    }
   ],
   "source": [
    "run_model('Random Forest', est_c=None, est_pnlty=None)"
   ]
  },
  {
   "cell_type": "code",
   "execution_count": 0,
   "metadata": {
    "application/vnd.databricks.v1+cell": {
     "cellMetadata": {
      "byteLimit": 2048000,
      "rowLimit": 10000
     },
     "inputWidgets": {},
     "nuid": "e8a9b8be-28f4-42a2-88ac-03802e187906",
     "showTitle": false,
     "title": ""
    }
   },
   "outputs": [
    {
     "output_type": "stream",
     "name": "stdout",
     "output_type": "stream",
     "text": [
      "Test Accuracy Score of Basic Multinomial Naive Bayes: % 97.09\nPrecision : 0.970917225950783\nRecall : 0.970917225950783\nF1-score : 0.9709172259507831\n"
     ]
    }
   ],
   "source": [
    "\n",
    "run_model('Multinomial Naive Bayes', est_c=None, est_pnlty=None)"
   ]
  },
  {
   "cell_type": "code",
   "execution_count": 0,
   "metadata": {
    "application/vnd.databricks.v1+cell": {
     "cellMetadata": {
      "byteLimit": 2048000,
      "rowLimit": 10000
     },
     "inputWidgets": {},
     "nuid": "50169d71-da80-4d21-8de1-0d38de295b8b",
     "showTitle": false,
     "title": ""
    }
   },
   "outputs": [
    {
     "output_type": "display_data",
     "data": {
      "image/png": "[encoded data removed]",
      "text/plain": [
       "<Figure size 1050x700 with 1 Axes>"
      ]
     },
     "metadata": {},
     "output_type": "display_data"
    },
    {
     "output_type": "stream",
     "name": "stdout",
     "output_type": "stream",
     "text": [
      "Test Accuracy Score of Basic Support Vector Classifer: % 96.64\nPrecision : 0.9664429530201343\nRecall : 0.9664429530201343\nF1-score : 0.9664429530201343\n"
     ]
    }
   ],
   "source": [
    "run_model('Support Vector Classifer', est_c=None, est_pnlty=None)"
   ]
  },
  {
   "cell_type": "code",
   "execution_count": 0,
   "metadata": {
    "application/vnd.databricks.v1+cell": {
     "cellMetadata": {
      "byteLimit": 2048000,
      "rowLimit": 10000
     },
     "inputWidgets": {},
     "nuid": "80caa880-d941-4c46-a224-57d6fbf2c0ae",
     "showTitle": false,
     "title": ""
    }
   },
   "outputs": [
    {
     "output_type": "stream",
     "name": "stdout",
     "output_type": "stream",
     "text": [
      "Test Accuracy Score of Basic Decision Tree Classifier: % 83.89\nPrecision : 0.8389261744966443\nRecall : 0.8389261744966443\nF1-score : 0.8389261744966443\n"
     ]
    }
   ],
   "source": [
    "run_model('Decision Tree Classifier', est_c=None, est_pnlty=None)"
   ]
  },
  {
   "cell_type": "code",
   "execution_count": 0,
   "metadata": {
    "application/vnd.databricks.v1+cell": {
     "cellMetadata": {
      "byteLimit": 2048000,
      "rowLimit": 10000
     },
     "inputWidgets": {},
     "nuid": "7b91f56e-006a-42c2-8251-5b27af35085f",
     "showTitle": false,
     "title": ""
    }
   },
   "outputs": [
    {
     "output_type": "stream",
     "name": "stdout",
     "output_type": "stream",
     "text": [
      "Test Accuracy Score of Basic Gaussian Naive Bayes: % 76.06\nPrecision : 0.7606263982102909\nRecall : 0.7606263982102909\nF1-score : 0.7606263982102909\n"
     ]
    }
   ],
   "source": [
    "run_model('Gaussian Naive Bayes', est_c=None, est_pnlty=None)"
   ]
  },
  {
   "cell_type": "code",
   "execution_count": 0,
   "metadata": {
    "application/vnd.databricks.v1+cell": {
     "cellMetadata": {
      "byteLimit": 2048000,
      "rowLimit": 10000
     },
     "inputWidgets": {},
     "nuid": "ef35b8ec-8795-48c3-b298-7f8638c5310b",
     "showTitle": false,
     "title": ""
    }
   },
   "outputs": [
    {
     "output_type": "execute_result",
     "data": {
      "text/html": [
       "<div>\n",
       "<style scoped>\n",
       "    .dataframe tbody tr th:only-of-type {\n",
       "        vertical-align: middle;\n",
       "    }\n",
       "\n",
       "    .dataframe tbody tr th {\n",
       "        vertical-align: top;\n",
       "    }\n",
       "\n",
       "    .dataframe thead th {\n",
       "        text-align: right;\n",
       "    }\n",
       "</style>\n",
       "<table border=\"1\" class=\"dataframe\">\n",
       "  <thead>\n",
       "    <tr style=\"text-align: right;\">\n",
       "      <th></th>\n",
       "      <th>Model</th>\n",
       "      <th>Test Accuracy</th>\n",
       "      <th>Precision</th>\n",
       "      <th>Recall</th>\n",
       "      <th>F1</th>\n",
       "    </tr>\n",
       "  </thead>\n",
       "  <tbody>\n",
       "    <tr>\n",
       "      <th>0</th>\n",
       "      <td>Logistic Regression</td>\n",
       "      <td>97.09</td>\n",
       "      <td>0.97</td>\n",
       "      <td>0.97</td>\n",
       "      <td>0.97</td>\n",
       "    </tr>\n",
       "    <tr>\n",
       "      <th>1</th>\n",
       "      <td>Random Forest</td>\n",
       "      <td>97.99</td>\n",
       "      <td>0.98</td>\n",
       "      <td>0.98</td>\n",
       "      <td>0.98</td>\n",
       "    </tr>\n",
       "    <tr>\n",
       "      <th>2</th>\n",
       "      <td>Multinomial Naive Bayes</td>\n",
       "      <td>97.09</td>\n",
       "      <td>0.97</td>\n",
       "      <td>0.97</td>\n",
       "      <td>0.97</td>\n",
       "    </tr>\n",
       "    <tr>\n",
       "      <th>3</th>\n",
       "      <td>Support Vector Classifer</td>\n",
       "      <td>96.64</td>\n",
       "      <td>0.97</td>\n",
       "      <td>0.97</td>\n",
       "      <td>0.97</td>\n",
       "    </tr>\n",
       "    <tr>\n",
       "      <th>4</th>\n",
       "      <td>Decision Tree Classifier</td>\n",
       "      <td>83.89</td>\n",
       "      <td>0.84</td>\n",
       "      <td>0.84</td>\n",
       "      <td>0.84</td>\n",
       "    </tr>\n",
       "    <tr>\n",
       "      <th>5</th>\n",
       "      <td>Gaussian Naive Bayes</td>\n",
       "      <td>76.06</td>\n",
       "      <td>0.76</td>\n",
       "      <td>0.76</td>\n",
       "      <td>0.76</td>\n",
       "    </tr>\n",
       "  </tbody>\n",
       "</table>\n",
       "</div>"
      ],
      "text/plain": [
       "                      Model  Test Accuracy  Precision  Recall    F1\n",
       "0       Logistic Regression          97.09       0.97    0.97  0.97\n",
       "1             Random Forest          97.99       0.98    0.98  0.98\n",
       "2   Multinomial Naive Bayes          97.09       0.97    0.97  0.97\n",
       "3  Support Vector Classifer          96.64       0.97    0.97  0.97\n",
       "4  Decision Tree Classifier          83.89       0.84    0.84  0.84\n",
       "5      Gaussian Naive Bayes          76.06       0.76    0.76  0.76"
      ]
     },
     "execution_count": 117,
     "metadata": {},
     "output_type": "execute_result"
    }
   ],
   "source": [
    "model_performance = pd.DataFrame(data=perform_list)\n",
    "model_performance = model_performance[['Model', 'Test Accuracy', 'Precision', 'Recall', 'F1']]\n",
    "model_performance"
   ]
  },
  {
   "cell_type": "code",
   "execution_count": 0,
   "metadata": {
    "application/vnd.databricks.v1+cell": {
     "cellMetadata": {
      "byteLimit": 2048000,
      "rowLimit": 10000
     },
     "inputWidgets": {},
     "nuid": "18d7a66e-0cad-4b7c-9aa4-fb0341645bb3",
     "showTitle": false,
     "title": ""
    }
   },
   "outputs": [],
   "source": [
    "classifier = RandomForestClassifier(n_estimators=100 ,criterion='entropy' , random_state=0).fit(x_train, y_train)\n",
    "\n",
    "y_pred = classifier.predict(x_test)"
   ]
  },
  {
   "cell_type": "code",
   "execution_count": 0,
   "metadata": {
    "application/vnd.databricks.v1+cell": {
     "cellMetadata": {
      "byteLimit": 2048000,
      "rowLimit": 10000
     },
     "inputWidgets": {},
     "nuid": "9a209969-7334-43dd-93e7-0b0d589a010b",
     "showTitle": false,
     "title": ""
    }
   },
   "outputs": [
    {
     "output_type": "stream",
     "name": "stdout",
     "output_type": "stream",
     "text": [
      "Sports News\n"
     ]
    }
   ],
   "source": [
    "y_pred1 = cv.transform(['Hour ago, I contemplated retirement for a lot of reasons. I felt like people were not sensitive enough to my injuries. I felt like a lot of people were backed, why not me? I have done no less. I have won a lot of games for the team, and I am not feeling backed, said Ashwin'])\n",
    "yy = classifier.predict(y_pred1)\n",
    "result = \"\"\n",
    "if yy == [0]:\n",
    "    result = \"Business News\"\n",
    "elif yy == [1]:\n",
    "    result = \"Tech News\"\n",
    "elif yy == [2]:\n",
    "    result = \"Politics News\"\n",
    "elif yy == [3]:\n",
    "    result = \"Sports News\"\n",
    "elif yy == [1]:\n",
    "    result = \"Entertainment News\"\n",
    "    \n",
    "print(result)"
   ]
  }
 ],
 "metadata": {
  "application/vnd.databricks.v1+notebook": {
   "dashboards": [],
   "language": "python",
   "notebookMetadata": {
    "pythonIndentUnit": 4
   },
   "notebookName": "News Article Classification Test",
   "widgets": {}
  }
 },
 "nbformat": 4,
 "nbformat_minor": 0
}
